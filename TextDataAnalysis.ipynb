{
  "nbformat": 4,
  "nbformat_minor": 0,
  "metadata": {
    "colab": {
      "name": "TextDataAnalysis.ipynb",
      "provenance": [],
      "collapsed_sections": [],
      "authorship_tag": "ABX9TyMdp2EYT/Ng72AvnFi7weui",
      "include_colab_link": true
    },
    "kernelspec": {
      "name": "python3",
      "display_name": "Python 3"
    },
    "language_info": {
      "name": "python"
    }
  },
  "cells": [
    {
      "cell_type": "markdown",
      "metadata": {
        "id": "view-in-github",
        "colab_type": "text"
      },
      "source": [
        "<a href=\"https://colab.research.google.com/github/winkey1rd/Text-Data-analysis/blob/main/TextDataAnalysis.ipynb\" target=\"_parent\"><img src=\"https://colab.research.google.com/assets/colab-badge.svg\" alt=\"Open In Colab\"/></a>"
      ]
    },
    {
      "cell_type": "code",
      "metadata": {
        "colab": {
          "resources": {
            "http://localhost:8080/nbextensions/google.colab/files.js": {
              "data": "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",
              "ok": true,
              "headers": [
                [
                  "content-type",
                  "application/javascript"
                ]
              ],
              "status": 200,
              "status_text": ""
            }
          },
          "base_uri": "https://localhost:8080/",
          "height": 501
        },
        "id": "h2ROfodi0_G_",
        "outputId": "83b43825-350a-46b0-dc04-54f496b84685"
      },
      "source": [
        "from google.colab import files\n",
        "uploaded = files.upload()"
      ],
      "execution_count": 1,
      "outputs": [
        {
          "output_type": "display_data",
          "data": {
            "text/html": [
              "\n",
              "     <input type=\"file\" id=\"files-254fcee4-563d-4205-8d17-ab9bd31313c4\" name=\"files[]\" multiple disabled\n",
              "        style=\"border:none\" />\n",
              "     <output id=\"result-254fcee4-563d-4205-8d17-ab9bd31313c4\">\n",
              "      Upload widget is only available when the cell has been executed in the\n",
              "      current browser session. Please rerun this cell to enable.\n",
              "      </output>\n",
              "      <script src=\"/nbextensions/google.colab/files.js\"></script> "
            ],
            "text/plain": [
              "<IPython.core.display.HTML object>"
            ]
          },
          "metadata": {}
        },
        {
          "output_type": "stream",
          "name": "stdout",
          "text": [
            "Saving Вопросы карьеры.csv to Вопросы карьеры.csv\n",
            "Saving Вредные привычки, зависимость.csv to Вредные привычки, зависимость.csv\n",
            "Saving Горе, потери.csv to Горе, потери.csv\n",
            "Saving Депрессия.csv to Депрессия.csv\n",
            "Saving Нервные расстройства.csv to Нервные расстройства.csv\n",
            "Saving О достижении цели.csv to О достижении цели.csv\n",
            "Saving Отношения с окружающими.csv to Отношения с окружающими.csv\n",
            "Saving Поиск решения.csv to Поиск решения.csv\n",
            "Saving Проблемы с детьми.csv to Проблемы с детьми.csv\n",
            "Saving Проблемы с партнером.csv to Проблемы с партнером.csv\n",
            "Saving Размышления о мире.csv to Размышления о мире.csv\n",
            "Saving Самопознание, саморазвитие.csv to Самопознание, саморазвитие.csv\n",
            "Saving Семейные проблемы.csv to Семейные проблемы.csv\n"
          ]
        }
      ]
    },
    {
      "cell_type": "code",
      "metadata": {
        "colab": {
          "base_uri": "https://localhost:8080/"
        },
        "id": "sksgntOL1Oli",
        "outputId": "68426587-6584-4f83-d4dd-4e30096588d9"
      },
      "source": [
        "!ls"
      ],
      "execution_count": 2,
      "outputs": [
        {
          "output_type": "stream",
          "name": "stdout",
          "text": [
            " sample_data\t\t\t     'Отношения с окружающими.csv'\n",
            "'Вопросы карьеры.csv'\t\t     'Поиск решения.csv'\n",
            "'Вредные привычки, зависимость.csv'  'Проблемы с детьми.csv'\n",
            "'Горе, потери.csv'\t\t     'Проблемы с партнером.csv'\n",
            " Депрессия.csv\t\t\t     'Размышления о мире.csv'\n",
            "'Нервные расстройства.csv'\t     'Самопознание, саморазвитие.csv'\n",
            "'О достижении цели.csv'\t\t     'Семейные проблемы.csv'\n"
          ]
        }
      ]
    },
    {
      "cell_type": "markdown",
      "metadata": {
        "id": "gCN2qKU93NBH"
      },
      "source": [
        "Let's create 2 files: training and test data"
      ]
    },
    {
      "cell_type": "markdown",
      "metadata": {
        "id": "7xQTjmDt3Qs-"
      },
      "source": [
        "test data - 20%"
      ]
    },
    {
      "cell_type": "code",
      "metadata": {
        "id": "FRiyixfw3GES"
      },
      "source": [
        "from sklearn.model_selection import train_test_split\n",
        "import os\n",
        "import glob"
      ],
      "execution_count": 3,
      "outputs": []
    },
    {
      "cell_type": "code",
      "metadata": {
        "id": "-dvvrIEw3V-f"
      },
      "source": [
        "extension = 'csv'\n",
        "file_names = [i for i in glob.glob('*.{}'.format(extension))]\n",
        "file_names_size = len(file_names);"
      ],
      "execution_count": 4,
      "outputs": []
    },
    {
      "cell_type": "markdown",
      "metadata": {
        "id": "6ESFc_3H3YzQ"
      },
      "source": [
        "Let's mark the data: add a column in which the value will mean the category number"
      ]
    },
    {
      "cell_type": "code",
      "metadata": {
        "id": "wEUTq9WM3cp4"
      },
      "source": [
        "import pandas as pd\n",
        "import numpy as np"
      ],
      "execution_count": 5,
      "outputs": []
    },
    {
      "cell_type": "code",
      "metadata": {
        "id": "FOdN9pEs3goG"
      },
      "source": [
        "data_train = []\n",
        "data_test = []\n",
        "\n",
        "i = 0\n",
        "while i<file_names_size:\n",
        "  df = pd.read_csv(file_names[i], header=0)\n",
        "  df['THEME'] = i\n",
        "  train, test = train_test_split(df, test_size=0.2)\n",
        "  data_train.append(train)\n",
        "  data_test.append(test)\n",
        "  i = i + 1"
      ],
      "execution_count": 6,
      "outputs": []
    },
    {
      "cell_type": "code",
      "metadata": {
        "colab": {
          "base_uri": "https://localhost:8080/",
          "height": 213
        },
        "id": "NM27VcOS3kIe",
        "outputId": "aeb5048d-f56f-4e39-cbf0-47079b7a421c"
      },
      "source": [
        "data_test[7][:3]"
      ],
      "execution_count": 7,
      "outputs": [
        {
          "output_type": "execute_result",
          "data": {
            "text/html": [
              "<div>\n",
              "<style scoped>\n",
              "    .dataframe tbody tr th:only-of-type {\n",
              "        vertical-align: middle;\n",
              "    }\n",
              "\n",
              "    .dataframe tbody tr th {\n",
              "        vertical-align: top;\n",
              "    }\n",
              "\n",
              "    .dataframe thead th {\n",
              "        text-align: right;\n",
              "    }\n",
              "</style>\n",
              "<table border=\"1\" class=\"dataframe\">\n",
              "  <thead>\n",
              "    <tr style=\"text-align: right;\">\n",
              "      <th></th>\n",
              "      <th>Unnamed: 0</th>\n",
              "      <th>USER_ID</th>\n",
              "      <th>USER_NICKNAME</th>\n",
              "      <th>TITLE</th>\n",
              "      <th>MESSAGE</th>\n",
              "      <th>DATE_TIME</th>\n",
              "      <th>TOPIC_LIKES_COUNT</th>\n",
              "      <th>URL</th>\n",
              "      <th>THEME</th>\n",
              "    </tr>\n",
              "  </thead>\n",
              "  <tbody>\n",
              "    <tr>\n",
              "      <th>756</th>\n",
              "      <td>756</td>\n",
              "      <td>u282071</td>\n",
              "      <td>Лина 2018</td>\n",
              "      <td>Переедание. Поможет ли КПТ?</td>\n",
              "      <td>Я давно забросила диеты, но продолжаю переедат...</td>\n",
              "      <td>2018-11-14 21:56</td>\n",
              "      <td>0</td>\n",
              "      <td>https://www.b17.ru/forum/topic.php?id=139370</td>\n",
              "      <td>7</td>\n",
              "    </tr>\n",
              "    <tr>\n",
              "      <th>418</th>\n",
              "      <td>418</td>\n",
              "      <td>u444537</td>\n",
              "      <td>Хочу жить здорово</td>\n",
              "      <td>Найти опору,или как выйти из алкогользависимых...</td>\n",
              "      <td>Здравствуйте,Анна!Мне 40 лет.В разводе с 2012г...</td>\n",
              "      <td>2019-07-12 17:45</td>\n",
              "      <td>2</td>\n",
              "      <td>https://www.b17.ru/forum/topic.php?id=171631</td>\n",
              "      <td>7</td>\n",
              "    </tr>\n",
              "    <tr>\n",
              "      <th>284</th>\n",
              "      <td>284</td>\n",
              "      <td>u461965</td>\n",
              "      <td>id461965</td>\n",
              "      <td>Зависимость от еды - не хочу, но ем.</td>\n",
              "      <td>Начну с того, что я всегда была полной девочко...</td>\n",
              "      <td>2019-10-18 20:49</td>\n",
              "      <td>3</td>\n",
              "      <td>https://www.b17.ru/forum/topic.php?id=185211</td>\n",
              "      <td>7</td>\n",
              "    </tr>\n",
              "  </tbody>\n",
              "</table>\n",
              "</div>"
            ],
            "text/plain": [
              "     Unnamed: 0  USER_ID  ...                                           URL THEME\n",
              "756         756  u282071  ...  https://www.b17.ru/forum/topic.php?id=139370     7\n",
              "418         418  u444537  ...  https://www.b17.ru/forum/topic.php?id=171631     7\n",
              "284         284  u461965  ...  https://www.b17.ru/forum/topic.php?id=185211     7\n",
              "\n",
              "[3 rows x 9 columns]"
            ]
          },
          "metadata": {},
          "execution_count": 7
        }
      ]
    },
    {
      "cell_type": "code",
      "metadata": {
        "colab": {
          "base_uri": "https://localhost:8080/",
          "height": 213
        },
        "id": "svA-_FXW3m13",
        "outputId": "4113e277-f3aa-4300-f208-f7a19c4983b9"
      },
      "source": [
        "data_train[2][:3]"
      ],
      "execution_count": 8,
      "outputs": [
        {
          "output_type": "execute_result",
          "data": {
            "text/html": [
              "<div>\n",
              "<style scoped>\n",
              "    .dataframe tbody tr th:only-of-type {\n",
              "        vertical-align: middle;\n",
              "    }\n",
              "\n",
              "    .dataframe tbody tr th {\n",
              "        vertical-align: top;\n",
              "    }\n",
              "\n",
              "    .dataframe thead th {\n",
              "        text-align: right;\n",
              "    }\n",
              "</style>\n",
              "<table border=\"1\" class=\"dataframe\">\n",
              "  <thead>\n",
              "    <tr style=\"text-align: right;\">\n",
              "      <th></th>\n",
              "      <th>Unnamed: 0</th>\n",
              "      <th>USER_ID</th>\n",
              "      <th>USER_NICKNAME</th>\n",
              "      <th>TITLE</th>\n",
              "      <th>MESSAGE</th>\n",
              "      <th>DATE_TIME</th>\n",
              "      <th>TOPIC_LIKES_COUNT</th>\n",
              "      <th>URL</th>\n",
              "      <th>THEME</th>\n",
              "    </tr>\n",
              "  </thead>\n",
              "  <tbody>\n",
              "    <tr>\n",
              "      <th>630</th>\n",
              "      <td>630</td>\n",
              "      <td>u208599</td>\n",
              "      <td>BlueWolf</td>\n",
              "      <td>Не знаю, как отстоять свои границы, кроме как ...</td>\n",
              "      <td>Окружающие слов не понимают, пока им не устрои...</td>\n",
              "      <td>2020-02-16 20:59</td>\n",
              "      <td>8</td>\n",
              "      <td>https://www.b17.ru/forum/topic.php?id=302983</td>\n",
              "      <td>2</td>\n",
              "    </tr>\n",
              "    <tr>\n",
              "      <th>117</th>\n",
              "      <td>117</td>\n",
              "      <td>u362977</td>\n",
              "      <td>Легко</td>\n",
              "      <td>Сюда слушай, я сказала</td>\n",
              "      <td>У меня такая черта дурацкая. Я её смягчаю, смя...</td>\n",
              "      <td>2020-05-12 21:47</td>\n",
              "      <td>19</td>\n",
              "      <td>https://www.b17.ru/forum/topic.php?id=314503</td>\n",
              "      <td>2</td>\n",
              "    </tr>\n",
              "    <tr>\n",
              "      <th>622</th>\n",
              "      <td>622</td>\n",
              "      <td>u447950</td>\n",
              "      <td>Белка33</td>\n",
              "      <td>Развитие дружбы! Открытия</td>\n",
              "      <td>Друзья, психологи! Я эгоистичный, себялюбивый ...</td>\n",
              "      <td>2020-02-18 02:31</td>\n",
              "      <td>4</td>\n",
              "      <td>https://www.b17.ru/forum/topic.php?id=303169</td>\n",
              "      <td>2</td>\n",
              "    </tr>\n",
              "  </tbody>\n",
              "</table>\n",
              "</div>"
            ],
            "text/plain": [
              "     Unnamed: 0  USER_ID  ...                                           URL THEME\n",
              "630         630  u208599  ...  https://www.b17.ru/forum/topic.php?id=302983     2\n",
              "117         117  u362977  ...  https://www.b17.ru/forum/topic.php?id=314503     2\n",
              "622         622  u447950  ...  https://www.b17.ru/forum/topic.php?id=303169     2\n",
              "\n",
              "[3 rows x 9 columns]"
            ]
          },
          "metadata": {},
          "execution_count": 8
        }
      ]
    },
    {
      "cell_type": "markdown",
      "metadata": {
        "id": "6XxYnTlP3qW1"
      },
      "source": [
        "combining the data into a single file"
      ]
    },
    {
      "cell_type": "markdown",
      "metadata": {
        "id": "n_Y2sVYN3rOf"
      },
      "source": [
        "-train"
      ]
    },
    {
      "cell_type": "code",
      "metadata": {
        "colab": {
          "base_uri": "https://localhost:8080/"
        },
        "id": "Mn_rntji3tAG",
        "outputId": "16880b08-69b9-47d9-b9c6-e479dd66342f"
      },
      "source": [
        "final_data_train = pd.concat(data_train)\n",
        "final_data_train.to_csv( 'train.csv', index=False, encoding='utf-8-sig')\n",
        "!wc -l train.csv"
      ],
      "execution_count": 13,
      "outputs": [
        {
          "output_type": "stream",
          "name": "stdout",
          "text": [
            "10546 train.csv\n"
          ]
        }
      ]
    },
    {
      "cell_type": "markdown",
      "metadata": {
        "id": "XzGFTYDa3zZ_"
      },
      "source": [
        "-test"
      ]
    },
    {
      "cell_type": "code",
      "metadata": {
        "colab": {
          "base_uri": "https://localhost:8080/"
        },
        "id": "g5Xir5tu30Un",
        "outputId": "f75645c5-d4fa-42b9-b4b8-60bd34c62279"
      },
      "source": [
        "final_data_test = pd.concat(data_test)\n",
        "final_data_test.to_csv( \"test.csv\", index=False, encoding='utf-8-sig')\n",
        "!wc -l test.csv"
      ],
      "execution_count": 14,
      "outputs": [
        {
          "output_type": "stream",
          "name": "stdout",
          "text": [
            "2641 test.csv\n"
          ]
        }
      ]
    },
    {
      "cell_type": "code",
      "metadata": {
        "colab": {
          "base_uri": "https://localhost:8080/",
          "height": 144
        },
        "id": "mn1ncP1c35Qv",
        "outputId": "28adb5cd-a1bf-4a5f-97f3-9a9bed29aa14"
      },
      "source": [
        "train = pd.read_csv('train.csv', header=0)\n",
        "train[:3]"
      ],
      "execution_count": 15,
      "outputs": [
        {
          "output_type": "execute_result",
          "data": {
            "text/html": [
              "<div>\n",
              "<style scoped>\n",
              "    .dataframe tbody tr th:only-of-type {\n",
              "        vertical-align: middle;\n",
              "    }\n",
              "\n",
              "    .dataframe tbody tr th {\n",
              "        vertical-align: top;\n",
              "    }\n",
              "\n",
              "    .dataframe thead th {\n",
              "        text-align: right;\n",
              "    }\n",
              "</style>\n",
              "<table border=\"1\" class=\"dataframe\">\n",
              "  <thead>\n",
              "    <tr style=\"text-align: right;\">\n",
              "      <th></th>\n",
              "      <th>Unnamed: 0</th>\n",
              "      <th>USER_ID</th>\n",
              "      <th>USER_NICKNAME</th>\n",
              "      <th>TITLE</th>\n",
              "      <th>MESSAGE</th>\n",
              "      <th>DATE_TIME</th>\n",
              "      <th>TOPIC_LIKES_COUNT</th>\n",
              "      <th>URL</th>\n",
              "      <th>THEME</th>\n",
              "    </tr>\n",
              "  </thead>\n",
              "  <tbody>\n",
              "    <tr>\n",
              "      <th>0</th>\n",
              "      <td>432</td>\n",
              "      <td>u325981</td>\n",
              "      <td>Emily95</td>\n",
              "      <td>боязнь старости</td>\n",
              "      <td>Здравствуйте! Меня зовут Юлия, мне 24 года. В ...</td>\n",
              "      <td>2020-02-05 18:52</td>\n",
              "      <td>4</td>\n",
              "      <td>https://www.b17.ru/forum/topic.php?id=301385</td>\n",
              "      <td>0</td>\n",
              "    </tr>\n",
              "    <tr>\n",
              "      <th>1</th>\n",
              "      <td>316</td>\n",
              "      <td>u422836</td>\n",
              "      <td>Melchior</td>\n",
              "      <td>Сильное напряжение после ограбления</td>\n",
              "      <td>Добрый день.Вчера пришла домой с работы, дверь...</td>\n",
              "      <td>2020-03-04 08:25</td>\n",
              "      <td>3</td>\n",
              "      <td>https://www.b17.ru/forum/topic.php?id=305282</td>\n",
              "      <td>0</td>\n",
              "    </tr>\n",
              "    <tr>\n",
              "      <th>2</th>\n",
              "      <td>988</td>\n",
              "      <td>u456775</td>\n",
              "      <td>id456775</td>\n",
              "      <td>Кто я?</td>\n",
              "      <td>Я хочу получить ответ на вопрос - кто я?Нарцис...</td>\n",
              "      <td>2019-09-03 19:47</td>\n",
              "      <td>0</td>\n",
              "      <td>https://www.b17.ru/forum/topic.php?id=178927</td>\n",
              "      <td>0</td>\n",
              "    </tr>\n",
              "  </tbody>\n",
              "</table>\n",
              "</div>"
            ],
            "text/plain": [
              "   Unnamed: 0  USER_ID  ...                                           URL THEME\n",
              "0         432  u325981  ...  https://www.b17.ru/forum/topic.php?id=301385     0\n",
              "1         316  u422836  ...  https://www.b17.ru/forum/topic.php?id=305282     0\n",
              "2         988  u456775  ...  https://www.b17.ru/forum/topic.php?id=178927     0\n",
              "\n",
              "[3 rows x 9 columns]"
            ]
          },
          "metadata": {},
          "execution_count": 15
        }
      ]
    },
    {
      "cell_type": "code",
      "metadata": {
        "colab": {
          "base_uri": "https://localhost:8080/",
          "height": 213
        },
        "id": "l1-qJBc14Een",
        "outputId": "fa34252c-043c-44ae-a5dc-6638cf756aef"
      },
      "source": [
        "test = pd.read_csv('test.csv', header=0)\n",
        "test[:3]"
      ],
      "execution_count": 177,
      "outputs": [
        {
          "output_type": "execute_result",
          "data": {
            "text/html": [
              "<div>\n",
              "<style scoped>\n",
              "    .dataframe tbody tr th:only-of-type {\n",
              "        vertical-align: middle;\n",
              "    }\n",
              "\n",
              "    .dataframe tbody tr th {\n",
              "        vertical-align: top;\n",
              "    }\n",
              "\n",
              "    .dataframe thead th {\n",
              "        text-align: right;\n",
              "    }\n",
              "</style>\n",
              "<table border=\"1\" class=\"dataframe\">\n",
              "  <thead>\n",
              "    <tr style=\"text-align: right;\">\n",
              "      <th></th>\n",
              "      <th>Unnamed: 0</th>\n",
              "      <th>USER_ID</th>\n",
              "      <th>USER_NICKNAME</th>\n",
              "      <th>TITLE</th>\n",
              "      <th>MESSAGE</th>\n",
              "      <th>DATE_TIME</th>\n",
              "      <th>TOPIC_LIKES_COUNT</th>\n",
              "      <th>URL</th>\n",
              "      <th>THEME</th>\n",
              "    </tr>\n",
              "  </thead>\n",
              "  <tbody>\n",
              "    <tr>\n",
              "      <th>0</th>\n",
              "      <td>807</td>\n",
              "      <td>u471146</td>\n",
              "      <td>Ножницы и смех</td>\n",
              "      <td>ПТСР что может помочь?</td>\n",
              "      <td>Я прошла через очень тяжелое физически и эмоци...</td>\n",
              "      <td>2019-10-29 15:57</td>\n",
              "      <td>3</td>\n",
              "      <td>https://www.b17.ru/forum/topic.php?id=186782</td>\n",
              "      <td>0</td>\n",
              "    </tr>\n",
              "    <tr>\n",
              "      <th>1</th>\n",
              "      <td>148</td>\n",
              "      <td>u484434</td>\n",
              "      <td>Miss Byron</td>\n",
              "      <td>Как справиться с симптомами ПТСР из-за абьюзив...</td>\n",
              "      <td>Здравствуйте! Это моя первая попытка получить ...</td>\n",
              "      <td>2020-04-21 22:06</td>\n",
              "      <td>4</td>\n",
              "      <td>https://www.b17.ru/forum/topic.php?id=311670</td>\n",
              "      <td>0</td>\n",
              "    </tr>\n",
              "    <tr>\n",
              "      <th>2</th>\n",
              "      <td>121</td>\n",
              "      <td>u340395</td>\n",
              "      <td>Иван Копчёный</td>\n",
              "      <td>Всё невкусно.</td>\n",
              "      <td>Всё невкусно, кто то сталкивался с подобным? э...</td>\n",
              "      <td>2020-04-27 14:39</td>\n",
              "      <td>7</td>\n",
              "      <td>https://www.b17.ru/forum/topic.php?id=312442</td>\n",
              "      <td>0</td>\n",
              "    </tr>\n",
              "  </tbody>\n",
              "</table>\n",
              "</div>"
            ],
            "text/plain": [
              "   Unnamed: 0  USER_ID  ...                                           URL THEME\n",
              "0         807  u471146  ...  https://www.b17.ru/forum/topic.php?id=186782     0\n",
              "1         148  u484434  ...  https://www.b17.ru/forum/topic.php?id=311670     0\n",
              "2         121  u340395  ...  https://www.b17.ru/forum/topic.php?id=312442     0\n",
              "\n",
              "[3 rows x 9 columns]"
            ]
          },
          "metadata": {},
          "execution_count": 177
        }
      ]
    },
    {
      "cell_type": "code",
      "metadata": {
        "id": "7ZDVB4dc4HhS"
      },
      "source": [
        "from tensorflow.keras import utils"
      ],
      "execution_count": 17,
      "outputs": []
    },
    {
      "cell_type": "markdown",
      "metadata": {
        "id": "UMMhTd0948co"
      },
      "source": [
        "Protection against unexpected strings such as 'nan'"
      ]
    },
    {
      "cell_type": "code",
      "metadata": {
        "id": "m76Yoiqe4K3P"
      },
      "source": [
        "trb_nan_idx = train[pd.isnull(train['MESSAGE'])].index.tolist()\n",
        "train.loc[trb_nan_idx, 'MESSAGE'] = ' '\n",
        "train.loc[trb_nan_idx, 'MESSAGE'] = ' '"
      ],
      "execution_count": 18,
      "outputs": []
    },
    {
      "cell_type": "code",
      "metadata": {
        "id": "NpUgN4Ns4N0X"
      },
      "source": [
        "x_train = train['MESSAGE']\n",
        "y_train = utils.to_categorical(train['THEME'],file_names_size)"
      ],
      "execution_count": 19,
      "outputs": []
    },
    {
      "cell_type": "code",
      "metadata": {
        "colab": {
          "base_uri": "https://localhost:8080/"
        },
        "id": "CYHrrz8h4Qtx",
        "outputId": "3659639e-18e9-440a-bab8-8c8b0a3aef89"
      },
      "source": [
        "import nltk\n",
        "import re\n",
        "from nltk.stem.snowball import SnowballStemmer\n",
        "stemmer = SnowballStemmer(\"russian\")\n",
        "nltk.download('punkt')"
      ],
      "execution_count": 20,
      "outputs": [
        {
          "output_type": "stream",
          "name": "stdout",
          "text": [
            "[nltk_data] Downloading package punkt to /root/nltk_data...\n",
            "[nltk_data]   Unzipping tokenizers/punkt.zip.\n"
          ]
        },
        {
          "output_type": "execute_result",
          "data": {
            "text/plain": [
              "True"
            ]
          },
          "metadata": {},
          "execution_count": 20
        }
      ]
    },
    {
      "cell_type": "markdown",
      "metadata": {
        "id": "8AJE5TIa5MN3"
      },
      "source": [
        "get a word form for each token (stemming)"
      ]
    },
    {
      "cell_type": "code",
      "metadata": {
        "id": "4eWdXuee4UdC"
      },
      "source": [
        "def token_and_stem(text):\n",
        "    tokens = [word for sent in nltk.sent_tokenize(text) for word in nltk.word_tokenize(sent)]\n",
        "    filtered_tokens = []\n",
        "    for token in tokens:\n",
        "        if re.search('[а-яА-Я]', token):\n",
        "            filtered_tokens.append(token)\n",
        "    stems = [stemmer.stem(t) for t in filtered_tokens]\n",
        "    print(type(stems))\n",
        "    return stems"
      ],
      "execution_count": 21,
      "outputs": []
    },
    {
      "cell_type": "code",
      "metadata": {
        "id": "7NYirRXy4XKP"
      },
      "source": [
        "upd_x_train = []\n",
        "\n",
        "for i in x_train:\n",
        "  upd_train = token_and_stem(i)\n",
        "  upd_x_train.append(upd_train)"
      ],
      "execution_count": null,
      "outputs": []
    },
    {
      "cell_type": "markdown",
      "metadata": {
        "id": "F6Emkobu5cqB"
      },
      "source": [
        "exclude the most popular words that do not carry a semantic load (stop words)"
      ]
    },
    {
      "cell_type": "code",
      "metadata": {
        "colab": {
          "base_uri": "https://localhost:8080/"
        },
        "id": "G5Er4Q4l5b6_",
        "outputId": "f7f70b67-e46e-4c06-9da4-7aff8c64869c"
      },
      "source": [
        "nltk.download('stopwords')\n",
        "stopwords = nltk.corpus.stopwords.words('russian')\n",
        "#можно расширить список стоп-слов\n",
        "stopwords.extend(['что', 'это', 'так', 'вот', 'быть', 'как', 'в', 'к', 'на'])"
      ],
      "execution_count": 43,
      "outputs": [
        {
          "output_type": "stream",
          "name": "stdout",
          "text": [
            "[nltk_data] Downloading package stopwords to /root/nltk_data...\n",
            "[nltk_data]   Package stopwords is already up-to-date!\n"
          ]
        }
      ]
    },
    {
      "cell_type": "code",
      "metadata": {
        "colab": {
          "base_uri": "https://localhost:8080/"
        },
        "id": "SEPE-rll7iiY",
        "outputId": "b7213aaf-a743-4a44-fa7e-d7a32538afb8"
      },
      "source": [
        "len(upd_x_train)\n"
      ],
      "execution_count": 44,
      "outputs": [
        {
          "output_type": "execute_result",
          "data": {
            "text/plain": [
              "10532"
            ]
          },
          "metadata": {},
          "execution_count": 44
        }
      ]
    },
    {
      "cell_type": "code",
      "metadata": {
        "id": "Swv_gvXR5xxA"
      },
      "source": [
        "tokens = []\n",
        "train = []\n",
        "\n",
        "for x_tr in upd_x_train:\n",
        "  for token in x_tr:\n",
        "    if token not in stopwords:\n",
        "      tokens.append(token)\n",
        "  train.append(tokens)\n",
        "  tokens = []"
      ],
      "execution_count": 46,
      "outputs": []
    },
    {
      "cell_type": "code",
      "metadata": {
        "colab": {
          "base_uri": "https://localhost:8080/"
        },
        "id": "jqaFfqGd6jZA",
        "outputId": "d3efe1bf-a7e1-4fd1-f998-845ad30271d5"
      },
      "source": [
        "x_train"
      ],
      "execution_count": 47,
      "outputs": [
        {
          "output_type": "execute_result",
          "data": {
            "text/plain": [
              "0        Здравствуйте! Меня зовут Юлия, мне 24 года. В ...\n",
              "1        Добрый день.Вчера пришла домой с работы, дверь...\n",
              "2        Я хочу получить ответ на вопрос - кто я?Нарцис...\n",
              "3        Здравствуйте, столкнулась с тем что произношу ...\n",
              "4        Уже где-то... года 2-3 за собой такое замечаю....\n",
              "                               ...                        \n",
              "10527    Добрый день, Людмила Григорьевна.Хочу попробов...\n",
              "10528    Здравствуйте, Вера! Большое спасибо, что взяли...\n",
              "10529    Я играю на двух музыкальных инструментах и мне...\n",
              "10530    Здравствуйте, у меня сейчас очень сложный пери...\n",
              "10531    Всем добрый вечер!Тема не нова, может, даже ко...\n",
              "Name: MESSAGE, Length: 10532, dtype: object"
            ]
          },
          "metadata": {},
          "execution_count": 47
        }
      ]
    },
    {
      "cell_type": "code",
      "metadata": {
        "id": "UB-sLwHv58vg"
      },
      "source": [
        "from tensorflow.keras.preprocessing.text import Tokenizer\n",
        "from tensorflow.keras.models import Sequential\n",
        "from tensorflow.keras.preprocessing.sequence import pad_sequences"
      ],
      "execution_count": 28,
      "outputs": []
    },
    {
      "cell_type": "markdown",
      "metadata": {
        "id": "aientQWI6cGg"
      },
      "source": [
        "creating tokenizers for each of the data sets (processed and source)"
      ]
    },
    {
      "cell_type": "code",
      "metadata": {
        "id": "h1mvzFtZ6LUM"
      },
      "source": [
        "num_words = 5000\n",
        "tokenizer = Tokenizer(num_words=num_words, filters='0123456789!\"#$%&()*+,-./:;<=>?@[\\\\]^_`{|}~\\t\\n', lower=True, split=' ')\n",
        "upd_tokenizer = Tokenizer(num_words=num_words, filters='0123456789!\"#$%&()*+,-./:;<=>?@[\\\\]^_`{|}~\\t\\n', lower=True, split=' ')"
      ],
      "execution_count": 51,
      "outputs": []
    },
    {
      "cell_type": "code",
      "metadata": {
        "id": "jfPMFi-m6fLB"
      },
      "source": [
        "tokenizer.fit_on_texts(x_train)\n",
        "upd_tokenizer.fit_on_texts(train)"
      ],
      "execution_count": 52,
      "outputs": []
    },
    {
      "cell_type": "code",
      "metadata": {
        "colab": {
          "base_uri": "https://localhost:8080/"
        },
        "id": "Qk9PlM9e9ToA",
        "outputId": "07d17778-0ff3-43a4-f4d0-45406b8bfc73"
      },
      "source": [
        "tokenizer.word_index"
      ],
      "execution_count": 53,
      "outputs": [
        {
          "output_type": "execute_result",
          "data": {
            "text/plain": [
              "{'и': 1,\n",
              " 'не': 2,\n",
              " 'я': 3,\n",
              " 'в': 4,\n",
              " 'что': 5,\n",
              " 'с': 6,\n",
              " 'на': 7,\n",
              " 'как': 8,\n",
              " 'то': 9,\n",
              " 'но': 10,\n",
              " 'меня': 11,\n",
              " 'мне': 12,\n",
              " 'это': 13,\n",
              " 'у': 14,\n",
              " 'а': 15,\n",
              " 'он': 16,\n",
              " 'все': 17,\n",
              " 'так': 18,\n",
              " 'к': 19,\n",
              " 'по': 20,\n",
              " 'за': 21,\n",
              " 'очень': 22,\n",
              " 'от': 23,\n",
              " 'она': 24,\n",
              " 'себя': 25,\n",
              " 'его': 26,\n",
              " 'из': 27,\n",
              " 'или': 28,\n",
              " 'было': 29,\n",
              " 'когда': 30,\n",
              " 'уже': 31,\n",
              " 'бы': 32,\n",
              " 'если': 33,\n",
              " 'есть': 34,\n",
              " 'могу': 35,\n",
              " 'нет': 36,\n",
              " 'мы': 37,\n",
              " 'просто': 38,\n",
              " 'лет': 39,\n",
              " 'сейчас': 40,\n",
              " 'хочу': 41,\n",
              " 'о': 42,\n",
              " 'для': 43,\n",
              " 'же': 44,\n",
              " 'только': 45,\n",
              " 'время': 46,\n",
              " 'даже': 47,\n",
              " 'чтобы': 48,\n",
              " 'до': 49,\n",
              " 'со': 50,\n",
              " 'вот': 51,\n",
              " 'может': 52,\n",
              " 'этого': 53,\n",
              " 'день': 54,\n",
              " 'знаю': 55,\n",
              " 'ли': 56,\n",
              " 'потом': 57,\n",
              " 'после': 58,\n",
              " 'еще': 59,\n",
              " 'была': 60,\n",
              " 'ничего': 61,\n",
              " 'себе': 62,\n",
              " 'быть': 63,\n",
              " 'ее': 64,\n",
              " 'раз': 65,\n",
              " 'жизни': 66,\n",
              " 'всё': 67,\n",
              " 'делать': 68,\n",
              " 'этом': 69,\n",
              " 'они': 70,\n",
              " 'года': 71,\n",
              " 'больше': 72,\n",
              " 'ему': 73,\n",
              " 'чем': 74,\n",
              " 'понимаю': 75,\n",
              " 'вообще': 76,\n",
              " 'много': 77,\n",
              " 'тоже': 78,\n",
              " 'ни': 79,\n",
              " 'него': 80,\n",
              " 'был': 81,\n",
              " 'потому': 82,\n",
              " 'всегда': 83,\n",
              " 'хотя': 84,\n",
              " 'их': 85,\n",
              " 'том': 86,\n",
              " 'будет': 87,\n",
              " 'отношения': 88,\n",
              " 'при': 89,\n",
              " 'того': 90,\n",
              " 'жизнь': 91,\n",
              " 'т': 92,\n",
              " 'без': 93,\n",
              " 'здравствуйте': 94,\n",
              " 'были': 95,\n",
              " 'почему': 96,\n",
              " 'можно': 97,\n",
              " 'жить': 98,\n",
              " 'надо': 99,\n",
              " 'да': 100,\n",
              " 'мной': 101,\n",
              " 'ей': 102,\n",
              " 'кто': 103,\n",
              " 'там': 104,\n",
              " 'во': 105,\n",
              " 'нужно': 106,\n",
              " 'постоянно': 107,\n",
              " 'хочется': 108,\n",
              " 'где': 109,\n",
              " 'ним': 110,\n",
              " 'ней': 111,\n",
              " 'человек': 112,\n",
              " 'работу': 113,\n",
              " 'нас': 114,\n",
              " 'мой': 115,\n",
              " 'которые': 116,\n",
              " 'моя': 117,\n",
              " 'ну': 118,\n",
              " 'работы': 119,\n",
              " 'ты': 120,\n",
              " 'через': 121,\n",
              " 'дома': 122,\n",
              " 'сама': 123,\n",
              " 'моей': 124,\n",
              " 'иногда': 125,\n",
              " 'вы': 126,\n",
              " 'хорошо': 127,\n",
              " 'назад': 128,\n",
              " 'теперь': 129,\n",
              " 'чего': 130,\n",
              " 'пока': 131,\n",
              " 'какой': 132,\n",
              " 'часто': 133,\n",
              " 'добрый': 134,\n",
              " 'тут': 135,\n",
              " 'чувствую': 136,\n",
              " 'этот': 137,\n",
              " 'муж': 138,\n",
              " 'говорит': 139,\n",
              " 'год': 140,\n",
              " 'такой': 141,\n",
              " 'такое': 142,\n",
              " 'проблемы': 143,\n",
              " 'кажется': 144,\n",
              " 'тем': 145,\n",
              " 'вопрос': 146,\n",
              " 'мама': 147,\n",
              " 'вместе': 148,\n",
              " 'своей': 149,\n",
              " 'несколько': 150,\n",
              " 'никогда': 151,\n",
              " 'ещё': 152,\n",
              " 'более': 153,\n",
              " 'этим': 154,\n",
              " 'всем': 155,\n",
              " 'будто': 156,\n",
              " 'буду': 157,\n",
              " 'всего': 158,\n",
              " 'эти': 159,\n",
              " 'мои': 160,\n",
              " 'сильно': 161,\n",
              " 'который': 162,\n",
              " 'мысли': 163,\n",
              " 'стала': 164,\n",
              " 'хочет': 165,\n",
              " 'какие': 166,\n",
              " 'думаю': 167,\n",
              " 'про': 168,\n",
              " 'каждый': 169,\n",
              " 'работать': 170,\n",
              " 'её': 171,\n",
              " 'свою': 172,\n",
              " 'этой': 173,\n",
              " 'момент': 174,\n",
              " 'людей': 175,\n",
              " 'них': 176,\n",
              " 'почти': 177,\n",
              " 'один': 178,\n",
              " 'тогда': 179,\n",
              " 'времени': 180,\n",
              " 'люди': 181,\n",
              " 'опять': 182,\n",
              " 'раньше': 183,\n",
              " 'работе': 184,\n",
              " 'сделать': 185,\n",
              " 'свои': 186,\n",
              " 'плохо': 187,\n",
              " 'проблема': 188,\n",
              " 'вроде': 189,\n",
              " 'снова': 190,\n",
              " 'либо': 191,\n",
              " 'детей': 192,\n",
              " 'боюсь': 193,\n",
              " 'сразу': 194,\n",
              " 'сказал': 195,\n",
              " 'хотела': 196,\n",
              " 'сказала': 197,\n",
              " 'нее': 198,\n",
              " 'об': 199,\n",
              " 'понять': 200,\n",
              " 'совсем': 201,\n",
              " 'найти': 202,\n",
              " 'стороны': 203,\n",
              " 'ко': 204,\n",
              " 'другой': 205,\n",
              " 'ведь': 206,\n",
              " 'сказать': 207,\n",
              " 'конечно': 208,\n",
              " 'человека': 209,\n",
              " 'начала': 210,\n",
              " 'сам': 211,\n",
              " 'лучше': 212,\n",
              " 'стало': 213,\n",
              " 'всех': 214,\n",
              " 'дальше': 215,\n",
              " 'такая': 216,\n",
              " 'именно': 217,\n",
              " 'получается': 218,\n",
              " 'отношений': 219,\n",
              " 'хотелось': 220,\n",
              " 'поэтому': 221,\n",
              " 'месяца': 222,\n",
              " 'общаться': 223,\n",
              " 'работа': 224,\n",
              " 'итоге': 225,\n",
              " 'одна': 226,\n",
              " 'собой': 227,\n",
              " 'возможно': 228,\n",
              " 'например': 229,\n",
              " 'эту': 230,\n",
              " 'деньги': 231,\n",
              " 'ситуации': 232,\n",
              " 'дело': 233,\n",
              " 'равно': 234,\n",
              " 'ребенок': 235,\n",
              " 'вижу': 236,\n",
              " 'такие': 237,\n",
              " 'хоть': 238,\n",
              " 'денег': 239,\n",
              " 'люблю': 240,\n",
              " 'ребенка': 241,\n",
              " 'месяц': 242,\n",
              " 'два': 243,\n",
              " 'куда': 244,\n",
              " 'друг': 245,\n",
              " 'помочь': 246,\n",
              " 'состояние': 247,\n",
              " 'пожалуйста': 248,\n",
              " 'стал': 249,\n",
              " 'кем': 250,\n",
              " 'общем': 251,\n",
              " 'д': 252,\n",
              " 'под': 253,\n",
              " 'помогите': 254,\n",
              " 'могла': 255,\n",
              " 'зачем': 256,\n",
              " 'мужа': 257,\n",
              " 'нравится': 258,\n",
              " 'чувство': 259,\n",
              " 'пару': 260,\n",
              " 'живу': 261,\n",
              " 'дня': 262,\n",
              " 'говорить': 263,\n",
              " 'делаю': 264,\n",
              " 'сегодня': 265,\n",
              " 'своих': 266,\n",
              " 'также': 267,\n",
              " 'им': 268,\n",
              " 'тему': 269,\n",
              " 'тяжело': 270,\n",
              " 'нормально': 271,\n",
              " 'ощущение': 272,\n",
              " 'перед': 273,\n",
              " 'тот': 274,\n",
              " 'ситуация': 275,\n",
              " 'немного': 276,\n",
              " 'которая': 277,\n",
              " 'мужем': 278,\n",
              " '–': 279,\n",
              " 'отношениях': 280,\n",
              " 'никто': 281,\n",
              " 'страх': 282,\n",
              " 'одной': 283,\n",
              " 'работаю': 284,\n",
              " 'голове': 285,\n",
              " 'кого': 286,\n",
              " 'пор': 287,\n",
              " 'начать': 288,\n",
              " 'всю': 289,\n",
              " 'спасибо': 290,\n",
              " 'неделю': 291,\n",
              " 'стоит': 292,\n",
              " 'нужна': 293,\n",
              " 'нибудь': 294,\n",
              " 'долго': 295,\n",
              " 'моего': 296,\n",
              " 'нам': 297,\n",
              " 'месяцев': 298,\n",
              " 'человеком': 299,\n",
              " 'эта': 300,\n",
              " 'мало': 301,\n",
              " 'чувства': 302,\n",
              " 'этому': 303,\n",
              " 'разобраться': 304,\n",
              " 'мое': 305,\n",
              " 'наверное': 306,\n",
              " 'какая': 307,\n",
              " 'других': 308,\n",
              " 'сил': 309,\n",
              " 'поняла': 310,\n",
              " 'давно': 311,\n",
              " 'своего': 312,\n",
              " 'заниматься': 313,\n",
              " 'начинаю': 314,\n",
              " 'людьми': 315,\n",
              " 'начал': 316,\n",
              " 'общение': 317,\n",
              " 'происходит': 318,\n",
              " 'родители': 319,\n",
              " 'здесь': 320,\n",
              " 'прошу': 321,\n",
              " 'нему': 322,\n",
              " 'дней': 323,\n",
              " 'домой': 324,\n",
              " 'свое': 325,\n",
              " 'чтоб': 326,\n",
              " 'которой': 327,\n",
              " 'желание': 328,\n",
              " 'любит': 329,\n",
              " 'такого': 330,\n",
              " 'недавно': 331,\n",
              " 'интересно': 332,\n",
              " 'страшно': 333,\n",
              " 'вас': 334,\n",
              " 'мать': 335,\n",
              " 'ними': 336,\n",
              " 'хотел': 337,\n",
              " 'вещи': 338,\n",
              " 'думала': 339,\n",
              " 'дочь': 340,\n",
              " 'решила': 341,\n",
              " 'сын': 342,\n",
              " 'тех': 343,\n",
              " 'тебя': 344,\n",
              " 'какое': 345,\n",
              " 'хуже': 346,\n",
              " 'свой': 347,\n",
              " 'проблем': 348,\n",
              " 'сначала': 349,\n",
              " 'своим': 350,\n",
              " 'мою': 351,\n",
              " 'моих': 352,\n",
              " 'рядом': 353,\n",
              " 'мужчина': 354,\n",
              " 'слишком': 355,\n",
              " 'ситуацию': 356,\n",
              " 'этих': 357,\n",
              " 'таких': 358,\n",
              " 'общения': 359,\n",
              " 'последнее': 360,\n",
              " 'сложно': 361,\n",
              " 'говорю': 362,\n",
              " 'никак': 363,\n",
              " 'семье': 364,\n",
              " 'чуть': 365,\n",
              " 'слова': 366,\n",
              " 'помощь': 367,\n",
              " 'отец': 368,\n",
              " 'первый': 369,\n",
              " 'кроме': 370,\n",
              " 'сообщение': 371,\n",
              " 'вопросы': 372,\n",
              " 'вдруг': 373,\n",
              " 'идти': 374,\n",
              " 'пытаюсь': 375,\n",
              " 'вам': 376,\n",
              " 'дети': 377,\n",
              " 'могут': 378,\n",
              " 'спать': 379,\n",
              " 'должна': 380,\n",
              " 'кому': 381,\n",
              " 'говорят': 382,\n",
              " 'те': 383,\n",
              " 'друзей': 384,\n",
              " 'помощи': 385,\n",
              " 'другие': 386,\n",
              " 'лишь': 387,\n",
              " 'больно': 388,\n",
              " 'тема': 389,\n",
              " 'мамой': 390,\n",
              " 'внимание': 391,\n",
              " 'три': 392,\n",
              " 'таким': 393,\n",
              " 'самое': 394,\n",
              " 'сих': 395,\n",
              " 'родителей': 396,\n",
              " 'ответ': 397,\n",
              " 'стали': 398,\n",
              " 'таки': 399,\n",
              " 'мнение': 400,\n",
              " 'поговорить': 401,\n",
              " 'последние': 402,\n",
              " 'дела': 403,\n",
              " 'недели': 404,\n",
              " 'квартиру': 405,\n",
              " 'бывает': 406,\n",
              " 'друга': 407,\n",
              " 'детства': 408,\n",
              " 'мог': 409,\n",
              " 'особенно': 410,\n",
              " 'действительно': 411,\n",
              " 'нельзя': 412,\n",
              " 'пыталась': 413,\n",
              " 'тому': 414,\n",
              " 'говорила': 415,\n",
              " 'достаточно': 416,\n",
              " 'говорил': 417,\n",
              " 'вечер': 418,\n",
              " 'любовь': 419,\n",
              " 'спокойно': 420,\n",
              " 'становится': 421,\n",
              " 'руки': 422,\n",
              " 'внутри': 423,\n",
              " 'устала': 424,\n",
              " 'желания': 425,\n",
              " 'весь': 426,\n",
              " 'тебе': 427,\n",
              " 'второй': 428,\n",
              " 'практически': 429,\n",
              " 'точно': 430,\n",
              " 'считаю': 431,\n",
              " 'любви': 432,\n",
              " 'особо': 433,\n",
              " 'изменено': 434,\n",
              " 'типа': 435,\n",
              " 'работает': 436,\n",
              " 'школе': 437,\n",
              " 'неё': 438,\n",
              " 'вести': 439,\n",
              " 'которых': 440,\n",
              " 'оно': 441,\n",
              " 'состоянии': 442,\n",
              " 'поводу': 443,\n",
              " 'туда': 444,\n",
              " 'смогу': 445,\n",
              " 'раза': 446,\n",
              " 'скорее': 447,\n",
              " 'семьи': 448,\n",
              " 'правда': 449,\n",
              " 'эмоции': 450,\n",
              " 'обычно': 451,\n",
              " 'ходить': 452,\n",
              " 'внимания': 453,\n",
              " 'своими': 454,\n",
              " 'хватает': 455,\n",
              " 'над': 456,\n",
              " 'быстро': 457,\n",
              " 'боль': 458,\n",
              " 'другом': 459,\n",
              " 'сколько': 460,\n",
              " 'между': 461,\n",
              " 'никаких': 462,\n",
              " 'получить': 463,\n",
              " 'правильно': 464,\n",
              " 'е': 465,\n",
              " 'начинает': 466,\n",
              " 'значит': 467,\n",
              " 'меньше': 468,\n",
              " 'девушка': 469,\n",
              " 'искать': 470,\n",
              " 'совершенно': 471,\n",
              " 'знает': 472,\n",
              " 'секс': 473,\n",
              " 'городе': 474,\n",
              " 'город': 475,\n",
              " 'полностью': 476,\n",
              " 'писать': 477,\n",
              " 'стать': 478,\n",
              " 'папа': 479,\n",
              " 'делает': 480,\n",
              " 'какую': 481,\n",
              " 'целом': 482,\n",
              " 'ушла': 483,\n",
              " 'около': 484,\n",
              " 'думать': 485,\n",
              " 'довольно': 486,\n",
              " 'мамы': 487,\n",
              " 'последний': 488,\n",
              " 'место': 489,\n",
              " 'которую': 490,\n",
              " 'уйти': 491,\n",
              " 'нужен': 492,\n",
              " 'мужчины': 493,\n",
              " 'учиться': 494,\n",
              " 'помню': 495,\n",
              " 'мол': 496,\n",
              " 'вчера': 497,\n",
              " 'моим': 498,\n",
              " 'менее': 499,\n",
              " 'сына': 500,\n",
              " 'случае': 501,\n",
              " 'парень': 502,\n",
              " 'работала': 503,\n",
              " 'данный': 504,\n",
              " 'полгода': 505,\n",
              " 'казалось': 506,\n",
              " 'должен': 507,\n",
              " 'чаще': 508,\n",
              " 'опыт': 509,\n",
              " 'стараюсь': 510,\n",
              " 'самой': 511,\n",
              " 'семья': 512,\n",
              " 'абсолютно': 513,\n",
              " 'психолога': 514,\n",
              " 'деле': 515,\n",
              " 'которым': 516,\n",
              " 'друзья': 517,\n",
              " 'семью': 518,\n",
              " 'одно': 519,\n",
              " 'темы': 520,\n",
              " 'выйти': 521,\n",
              " 'период': 522,\n",
              " 'п': 523,\n",
              " 'примерно': 524,\n",
              " 'видимо': 525,\n",
              " 'месте': 526,\n",
              " 'ребенком': 527,\n",
              " 'женщина': 528,\n",
              " 'будут': 529,\n",
              " 'каких': 530,\n",
              " '—': 531,\n",
              " 'самом': 532,\n",
              " 'спустя': 533,\n",
              " 'разные': 534,\n",
              " 'помогает': 535,\n",
              " 'взять': 536,\n",
              " 'часов': 537,\n",
              " 'плюс': 538,\n",
              " 'поведение': 539,\n",
              " 'принять': 540,\n",
              " 'мужчиной': 541,\n",
              " 'прошло': 542,\n",
              " 'готова': 543,\n",
              " 'решение': 544,\n",
              " 'детстве': 545,\n",
              " 'пойти': 546,\n",
              " 'получилось': 547,\n",
              " 'понятно': 548,\n",
              " 'моменты': 549,\n",
              " 'часть': 550,\n",
              " 'пишу': 551,\n",
              " 'состояния': 552,\n",
              " 'мир': 553,\n",
              " 'детьми': 554,\n",
              " 'начали': 555,\n",
              " 'сижу': 556,\n",
              " 'идет': 557,\n",
              " 'нашла': 558,\n",
              " 'пол': 559,\n",
              " 'подскажите': 560,\n",
              " 'узнать': 561,\n",
              " 'дом': 562,\n",
              " 'важно': 563,\n",
              " 'нем': 564,\n",
              " 'году': 565,\n",
              " 'ради': 566,\n",
              " 'жена': 567,\n",
              " 'смерти': 568,\n",
              " 'силы': 569,\n",
              " 'каким': 570,\n",
              " 'мысль': 571,\n",
              " 'которого': 572,\n",
              " 'депрессия': 573,\n",
              " 'другим': 574,\n",
              " 'смотреть': 575,\n",
              " 'однако': 576,\n",
              " 'психолог': 577,\n",
              " 'возможности': 578,\n",
              " 'плане': 579,\n",
              " 'многие': 580,\n",
              " 'живем': 581,\n",
              " 'основном': 582,\n",
              " 'редко': 583,\n",
              " 'заранее': 584,\n",
              " 'людям': 585,\n",
              " 'проблему': 586,\n",
              " 'чему': 587,\n",
              " 'квартире': 588,\n",
              " 'начались': 589,\n",
              " 'причем': 590,\n",
              " 'вечером': 591,\n",
              " 'сделала': 592,\n",
              " 'маме': 593,\n",
              " 'женщины': 594,\n",
              " 'отношение': 595,\n",
              " 'дать': 596,\n",
              " 'зовут': 597,\n",
              " 'честно': 598,\n",
              " 'жила': 599,\n",
              " 'реально': 600,\n",
              " 'доброго': 601,\n",
              " 'телефон': 602,\n",
              " 'наши': 603,\n",
              " 'вся': 604,\n",
              " 'девушки': 605,\n",
              " 'пришла': 606,\n",
              " 'имею': 607,\n",
              " 'теме': 608,\n",
              " 'самого': 609,\n",
              " 'девушкой': 610,\n",
              " 'психологу': 611,\n",
              " 'против': 612,\n",
              " 'легче': 613,\n",
              " 'живет': 614,\n",
              " 'пошла': 615,\n",
              " 'той': 616,\n",
              " 'справиться': 617,\n",
              " 'пить': 618,\n",
              " 'матери': 619,\n",
              " 'прямо': 620,\n",
              " 'наоборот': 621,\n",
              " 'далее': 622,\n",
              " 'родителями': 623,\n",
              " 'отца': 624,\n",
              " 'вины': 625,\n",
              " 'жили': 626,\n",
              " '№': 627,\n",
              " 'столько': 628,\n",
              " 'человеку': 629,\n",
              " 'школу': 630,\n",
              " 'одного': 631,\n",
              " 'избавиться': 632,\n",
              " 'нахожусь': 633,\n",
              " 'голову': 634,\n",
              " 'боли': 635,\n",
              " 'трудно': 636,\n",
              " 'секса': 637,\n",
              " 'ищу': 638,\n",
              " 'вокруг': 639,\n",
              " 'изменить': 640,\n",
              " 'друзьями': 641,\n",
              " 'конца': 642,\n",
              " 'настроение': 643,\n",
              " 'смогла': 644,\n",
              " 'моему': 645,\n",
              " 'разговор': 646,\n",
              " 'смысл': 647,\n",
              " 'испытываю': 648,\n",
              " 'решил': 649,\n",
              " 'утром': 650,\n",
              " 'считает': 651,\n",
              " 'разных': 652,\n",
              " 'другими': 653,\n",
              " 'мужчин': 654,\n",
              " 'парнем': 655,\n",
              " 'бабушка': 656,\n",
              " 'вышла': 657,\n",
              " 'перестала': 658,\n",
              " 'возможность': 659,\n",
              " 'понял': 660,\n",
              " 'сидеть': 661,\n",
              " 'образом': 662,\n",
              " 'сами': 663,\n",
              " 'жизнью': 664,\n",
              " 'та': 665,\n",
              " 'стыдно': 666,\n",
              " 'другого': 667,\n",
              " 'которое': 668,\n",
              " 'нужны': 669,\n",
              " 'решить': 670,\n",
              " 'мыслей': 671,\n",
              " 'уж': 672,\n",
              " 'глаза': 673,\n",
              " 'буквально': 674,\n",
              " 'смотрю': 675,\n",
              " 'две': 676,\n",
              " 'написала': 677,\n",
              " 'иначе': 678,\n",
              " 'интернете': 679,\n",
              " 'минут': 680,\n",
              " 'началось': 681,\n",
              " 'часа': 682,\n",
              " 'периодически': 683,\n",
              " 'одну': 684,\n",
              " 'годы': 685,\n",
              " 'другую': 686,\n",
              " 'некоторые': 687,\n",
              " 'прям': 688,\n",
              " 'перестать': 689,\n",
              " 'рождения': 690,\n",
              " 'мешает': 691,\n",
              " 'сделал': 692,\n",
              " 'дочери': 693,\n",
              " 'ночь': 694,\n",
              " 'чувствовать': 695,\n",
              " 'моем': 696,\n",
              " 'настолько': 697,\n",
              " 'интерес': 698,\n",
              " 'занимаюсь': 699,\n",
              " 'имеет': 700,\n",
              " 'принципе': 701,\n",
              " 'делала': 702,\n",
              " 'легко': 703,\n",
              " 'говоря': 704,\n",
              " 'тд': 705,\n",
              " 'связи': 706,\n",
              " 'ушел': 707,\n",
              " 'никого': 708,\n",
              " 'утра': 709,\n",
              " 'наконец': 710,\n",
              " 'затем': 711,\n",
              " 'моё': 712,\n",
              " 'умею': 713,\n",
              " 'никому': 714,\n",
              " 'надеюсь': 715,\n",
              " 'сыну': 716,\n",
              " 'любой': 717,\n",
              " 'депрессии': 718,\n",
              " 'замужем': 719,\n",
              " 'новый': 720,\n",
              " 'таком': 721,\n",
              " 'видеть': 722,\n",
              " 'ребенку': 723,\n",
              " 'психологи': 724,\n",
              " 'знала': 725,\n",
              " 'другое': 726,\n",
              " 'понимает': 727,\n",
              " 'нашей': 728,\n",
              " 'главное': 729,\n",
              " 'сторону': 730,\n",
              " 'скоро': 731,\n",
              " 'цели': 732,\n",
              " 'узнала': 733,\n",
              " 'научиться': 734,\n",
              " 'переживаю': 735,\n",
              " 'игры': 736,\n",
              " 'компании': 737,\n",
              " 'кг': 738,\n",
              " 'психологом': 739,\n",
              " 'эмоций': 740,\n",
              " 'пришлось': 741,\n",
              " 'возрасте': 742,\n",
              " 'никуда': 743,\n",
              " 'замуж': 744,\n",
              " 'плачу': 745,\n",
              " 'удовольствие': 746,\n",
              " 'ощущаю': 747,\n",
              " 'ходила': 748,\n",
              " 'написать': 749,\n",
              " 'мнения': 750,\n",
              " 'мужу': 751,\n",
              " 'ненавижу': 752,\n",
              " 'какого': 753,\n",
              " 'вернуть': 754,\n",
              " 'конце': 755,\n",
              " 'дочка': 756,\n",
              " 'уважаемые': 757,\n",
              " 'невозможно': 758,\n",
              " 'родителям': 759,\n",
              " 'вес': 760,\n",
              " 'душе': 761,\n",
              " 'специалиста': 762,\n",
              " 'видела': 763,\n",
              " 'причины': 764,\n",
              " 'работой': 765,\n",
              " 'хороший': 766,\n",
              " 'насколько': 767,\n",
              " 'хорошие': 768,\n",
              " 'везде': 769,\n",
              " 'новую': 770,\n",
              " 'х': 771,\n",
              " 'сердце': 772,\n",
              " 'здоровье': 773,\n",
              " 'всеми': 774,\n",
              " 'своем': 775,\n",
              " 'первые': 776,\n",
              " 'следующий': 777,\n",
              " 'дает': 778,\n",
              " 'встречи': 779,\n",
              " 'вместо': 780,\n",
              " 'словно': 781,\n",
              " 'большой': 782,\n",
              " 'ссоры': 783,\n",
              " 'хожу': 784,\n",
              " 'браке': 785,\n",
              " 'понимала': 786,\n",
              " 'пусть': 787,\n",
              " 'причина': 788,\n",
              " 'приходится': 789,\n",
              " 'общались': 790,\n",
              " 'новые': 791,\n",
              " 'подруга': 792,\n",
              " 'тревога': 793,\n",
              " 'суток': 794,\n",
              " 'ужасно': 795,\n",
              " 'терапии': 796,\n",
              " 'двух': 797,\n",
              " 'жду': 798,\n",
              " 'слов': 799,\n",
              " 'сказали': 800,\n",
              " 'чувств': 801,\n",
              " 'образование': 802,\n",
              " 'общении': 803,\n",
              " 'купить': 804,\n",
              " 'смысла': 805,\n",
              " 'другу': 806,\n",
              " 'оказалось': 807,\n",
              " 'умер': 808,\n",
              " 'нами': 809,\n",
              " 'демо': 810,\n",
              " 'школы': 811,\n",
              " 'физически': 812,\n",
              " 'маму': 813,\n",
              " 'чувствовала': 814,\n",
              " 'история': 815,\n",
              " 'иметь': 816,\n",
              " 'естественно': 817,\n",
              " 'собственно': 818,\n",
              " 'резко': 819,\n",
              " 'форуме': 820,\n",
              " 'играть': 821,\n",
              " 'прошлом': 822,\n",
              " 'ем': 823,\n",
              " 'пытался': 824,\n",
              " 'прекрасно': 825,\n",
              " 'места': 826,\n",
              " 'другому': 827,\n",
              " 'откуда': 828,\n",
              " 'сути': 829,\n",
              " 'делал': 830,\n",
              " 'помощью': 831,\n",
              " 'обидно': 832,\n",
              " 'парня': 833,\n",
              " 'полтора': 834,\n",
              " 'хотят': 835,\n",
              " 'думал': 836,\n",
              " 'дни': 837,\n",
              " 'бросить': 838,\n",
              " 'профессии': 839,\n",
              " 'возникает': 840,\n",
              " 'плакать': 841,\n",
              " 'своему': 842,\n",
              " 'ночью': 843,\n",
              " 'обо': 844,\n",
              " 'попытки': 845,\n",
              " 'объяснить': 846,\n",
              " 'разговаривать': 847,\n",
              " 'еду': 848,\n",
              " 'оба': 849,\n",
              " 'такую': 850,\n",
              " 'обратиться': 851,\n",
              " 'ума': 852,\n",
              " 'мире': 853,\n",
              " 'видео': 854,\n",
              " 'своё': 855,\n",
              " 'никакого': 856,\n",
              " 'приходит': 857,\n",
              " 'временем': 858,\n",
              " 'многое': 859,\n",
              " 'пишет': 860,\n",
              " 'начале': 861,\n",
              " 'психологии': 862,\n",
              " 'сон': 863,\n",
              " 'ходит': 864,\n",
              " 'голова': 865,\n",
              " 'сестра': 866,\n",
              " 'развод': 867,\n",
              " 'взгляд': 868,\n",
              " 'выше': 869,\n",
              " 'привет': 870,\n",
              " 'говорили': 871,\n",
              " 'завтра': 872,\n",
              " 'опыта': 873,\n",
              " 'девочка': 874,\n",
              " 'брат': 875,\n",
              " 'готов': 876,\n",
              " 'отсутствие': 877,\n",
              " 'произошло': 878,\n",
              " 'мозг': 879,\n",
              " 'уходит': 880,\n",
              " 'читать': 881,\n",
              " 'уверена': 882,\n",
              " 'появились': 883,\n",
              " 'порой': 884,\n",
              " 'ибо': 885,\n",
              " 'цель': 886,\n",
              " 'далеко': 887,\n",
              " 'самый': 888,\n",
              " 'момента': 889,\n",
              " 'поведения': 890,\n",
              " 'результат': 891,\n",
              " 'всему': 892,\n",
              " 'общаюсь': 893,\n",
              " 'женой': 894,\n",
              " 'терпеть': 895,\n",
              " 'понимать': 896,\n",
              " 'крайне': 897,\n",
              " 'бывают': 898,\n",
              " 'женщин': 899,\n",
              " 'права': 900,\n",
              " 'решения': 901,\n",
              " 'должно': 902,\n",
              " 'осталась': 903,\n",
              " 'постепенно': 904,\n",
              " 'вариант': 905,\n",
              " 'беспокоит': 906,\n",
              " 'работал': 907,\n",
              " 'услышать': 908,\n",
              " 'ночи': 909,\n",
              " 'устраивает': 910,\n",
              " 'выходные': 911,\n",
              " 'зависимость': 912,\n",
              " 'сидит': 913,\n",
              " 'будем': 914,\n",
              " 'наших': 915,\n",
              " 'диагноз': 916,\n",
              " 'никакой': 917,\n",
              " 'очередной': 918,\n",
              " 'ту': 919,\n",
              " 'новой': 920,\n",
              " 'осталось': 921,\n",
              " 'проблемой': 922,\n",
              " 'короче': 923,\n",
              " 'выходит': 924,\n",
              " 'позже': 925,\n",
              " 'появилась': 926,\n",
              " 'верю': 927,\n",
              " 'точнее': 928,\n",
              " 'появляется': 929,\n",
              " 'увидела': 930,\n",
              " 'старалась': 931,\n",
              " 'рада': 932,\n",
              " 'книги': 933,\n",
              " 'фоне': 934,\n",
              " 'сыном': 935,\n",
              " 'психологов': 936,\n",
              " 'поскольку': 937,\n",
              " 'вернуться': 938,\n",
              " 'первого': 939,\n",
              " 'консультации': 940,\n",
              " 'встречаться': 941,\n",
              " 'благодарна': 942,\n",
              " 'принимать': 943,\n",
              " 'попробовать': 944,\n",
              " 'получать': 945,\n",
              " 'скажу': 946,\n",
              " 'заставить': 947,\n",
              " 'улице': 948,\n",
              " 'протяжении': 949,\n",
              " 'получила': 950,\n",
              " 'потеряла': 951,\n",
              " 'любить': 952,\n",
              " 'читаю': 953,\n",
              " 'контролировать': 954,\n",
              " 'близких': 955,\n",
              " 'сюда': 956,\n",
              " 'отвечает': 957,\n",
              " 'могли': 958,\n",
              " 'будущем': 959,\n",
              " 'фото': 960,\n",
              " 'вполне': 961,\n",
              " 'отцом': 962,\n",
              " 'отдельно': 963,\n",
              " 'начинается': 964,\n",
              " 'сожалению': 965,\n",
              " 'любила': 966,\n",
              " 'менять': 967,\n",
              " 'разговоры': 968,\n",
              " 'боялась': 969,\n",
              " 'слезы': 970,\n",
              " 'помогать': 971,\n",
              " 'советы': 972,\n",
              " 'суть': 973,\n",
              " 'однажды': 974,\n",
              " 'забыть': 975,\n",
              " 'случилось': 976,\n",
              " 'ждать': 977,\n",
              " 'хобби': 978,\n",
              " 'доме': 979,\n",
              " 'тело': 980,\n",
              " 'виде': 981,\n",
              " 'специалистов': 982,\n",
              " 'хочешь': 983,\n",
              " 'ощущения': 984,\n",
              " 'остаться': 985,\n",
              " 'проходит': 986,\n",
              " 'слово': 987,\n",
              " 'отпустить': 988,\n",
              " 'ребёнка': 989,\n",
              " 'па': 990,\n",
              " 'решать': 991,\n",
              " 'матерью': 992,\n",
              " 'первая': 993,\n",
              " 'каком': 994,\n",
              " 'кучу': 995,\n",
              " 'жил': 996,\n",
              " 'развода': 997,\n",
              " 'б': 998,\n",
              " 'характер': 999,\n",
              " 'самостоятельно': 1000,\n",
              " ...}"
            ]
          },
          "metadata": {},
          "execution_count": 53
        }
      ]
    },
    {
      "cell_type": "code",
      "metadata": {
        "colab": {
          "base_uri": "https://localhost:8080/"
        },
        "id": "SQJJQi6V9UGZ",
        "outputId": "0dcbea91-29b4-4eb0-d64e-c73deb3fc3f1"
      },
      "source": [
        "upd_tokenizer.word_index"
      ],
      "execution_count": 54,
      "outputs": [
        {
          "output_type": "execute_result",
          "data": {
            "text/plain": [
              "{'эт': 1,\n",
              " 'мен': 2,\n",
              " 'мо': 3,\n",
              " 'себ': 4,\n",
              " 'сво': 5,\n",
              " 'очен': 6,\n",
              " 'котор': 7,\n",
              " 'ег': 8,\n",
              " 'е': 9,\n",
              " 'ил': 10,\n",
              " 'друг': 11,\n",
              " 'работ': 12,\n",
              " 'мог': 13,\n",
              " 'когд': 14,\n",
              " 'пот': 15,\n",
              " 'жизн': 16,\n",
              " 'есл': 17,\n",
              " 'ест': 18,\n",
              " 'прост': 19,\n",
              " 'дела': 20,\n",
              " 'год': 21,\n",
              " 'лет': 22,\n",
              " 'говор': 23,\n",
              " 'отношен': 24,\n",
              " 'хоч': 25,\n",
              " 'ещ': 26,\n",
              " 'тольк': 27,\n",
              " 'врем': 28,\n",
              " 'больш': 29,\n",
              " 'даж': 30,\n",
              " 'человек': 31,\n",
              " 'понима': 32,\n",
              " 'нача': 33,\n",
              " 'стал': 34,\n",
              " 'сказа': 35,\n",
              " 'чувств': 36,\n",
              " 'хот': 37,\n",
              " 'мног': 38,\n",
              " 'зна': 39,\n",
              " 'работа': 40,\n",
              " 'одн': 41,\n",
              " 'ден': 42,\n",
              " 'нич': 43,\n",
              " 'муж': 44,\n",
              " 'быт': 45,\n",
              " 'хочет': 46,\n",
              " 'нужн': 47,\n",
              " 'посл': 48,\n",
              " 'ем': 49,\n",
              " 'хорош': 50,\n",
              " 'проблем': 51,\n",
              " 'дом': 52,\n",
              " 'дума': 53,\n",
              " 'мам': 54,\n",
              " 'люд': 55,\n",
              " 'вообщ': 56,\n",
              " 'хотел': 57,\n",
              " 'постоя': 58,\n",
              " 'нег': 59,\n",
              " 'тож': 60,\n",
              " 'месяц': 61,\n",
              " 'что-т': 62,\n",
              " 'дел': 63,\n",
              " 'всегд': 64,\n",
              " 'ситуац': 65,\n",
              " 'вопрос': 66,\n",
              " 'люб': 67,\n",
              " 'тог': 68,\n",
              " 'бол': 69,\n",
              " 'сильн': 70,\n",
              " 'сдела': 71,\n",
              " 'мысл': 72,\n",
              " 'психолог': 73,\n",
              " 'част': 74,\n",
              " 'добр': 75,\n",
              " 'мно': 76,\n",
              " 'поня': 77,\n",
              " 'можн': 78,\n",
              " 'жит': 79,\n",
              " 'здравств': 80,\n",
              " 'кажд': 81,\n",
              " 'мужчин': 82,\n",
              " 'момент': 83,\n",
              " 'плох': 84,\n",
              " 'обща': 85,\n",
              " 'сем': 86,\n",
              " 'дет': 87,\n",
              " 'ребенк': 88,\n",
              " 'перв': 89,\n",
              " 'поч': 90,\n",
              " 'всем': 91,\n",
              " 'начина': 92,\n",
              " 'последн': 93,\n",
              " 'возможн': 94,\n",
              " 'состоян': 95,\n",
              " 'родител': 96,\n",
              " 'получа': 97,\n",
              " 'пыта': 98,\n",
              " 'нов': 99,\n",
              " 'времен': 100,\n",
              " 'вмест': 101,\n",
              " 'реш': 102,\n",
              " 'буд': 103,\n",
              " 'из-з': 104,\n",
              " 'пок': 105,\n",
              " 'иногд': 106,\n",
              " 'сторон': 107,\n",
              " 'назад': 108,\n",
              " 'наш': 109,\n",
              " 'нескольк': 110,\n",
              " 'голов': 111,\n",
              " 'недел': 112,\n",
              " 'занима': 113,\n",
              " 'общен': 114,\n",
              " 'тепер': 115,\n",
              " 'девушк': 116,\n",
              " 'жив': 117,\n",
              " 'никак': 118,\n",
              " 'слов': 119,\n",
              " 'лучш': 120,\n",
              " 'бо': 121,\n",
              " 'кажет': 122,\n",
              " 'цел': 123,\n",
              " 'счита': 124,\n",
              " 'получ': 125,\n",
              " 'нормальн': 126,\n",
              " 'сын': 127,\n",
              " 'никогд': 128,\n",
              " 'сил': 129,\n",
              " 'общ': 130,\n",
              " 'ход': 131,\n",
              " 'ответ': 132,\n",
              " 'всег': 133,\n",
              " 'нрав': 134,\n",
              " 'желан': 135,\n",
              " 'чег': 136,\n",
              " 'измен': 137,\n",
              " 'будт': 138,\n",
              " 'женщин': 139,\n",
              " 'почт': 140,\n",
              " 'прошл': 141,\n",
              " 'страх': 142,\n",
              " 'долг': 143,\n",
              " 'друз': 144,\n",
              " 'помощ': 145,\n",
              " 'тогд': 146,\n",
              " 'снов': 147,\n",
              " 'вед': 148,\n",
              " 'опя': 149,\n",
              " 'тяжел': 150,\n",
              " 'мест': 151,\n",
              " 'врод': 152,\n",
              " 'раньш': 153,\n",
              " 'ко': 154,\n",
              " 'интересн': 155,\n",
              " 'квартир': 156,\n",
              " 'уч': 157,\n",
              " 'сраз': 158,\n",
              " 'оста': 159,\n",
              " 'итог': 160,\n",
              " 'могл': 161,\n",
              " 'причин': 162,\n",
              " 'ощущен': 163,\n",
              " 'пор': 164,\n",
              " 'найт': 165,\n",
              " 'конечн': 166,\n",
              " 'совс': 167,\n",
              " 'город': 168,\n",
              " 'пар': 169,\n",
              " 'школ': 170,\n",
              " 'жен': 171,\n",
              " 'вид': 172,\n",
              " 'специалист': 173,\n",
              " 'деньг': 174,\n",
              " 'имен': 175,\n",
              " 'теб': 176,\n",
              " 'ребенок': 177,\n",
              " 'жил': 178,\n",
              " 'рук': 179,\n",
              " 'нем': 180,\n",
              " 'помога': 181,\n",
              " 'интерес': 182,\n",
              " 'приход': 183,\n",
              " 'вечер': 184,\n",
              " 'дальш': 185,\n",
              " 'вниман': 186,\n",
              " 'должн': 187,\n",
              " 'случа': 188,\n",
              " 'как-т': 189,\n",
              " 'поэт': 190,\n",
              " 'мнен': 191,\n",
              " 'детств': 192,\n",
              " 'час': 193,\n",
              " 'сто': 194,\n",
              " 'нам': 195,\n",
              " 'втор': 196,\n",
              " 'соб': 197,\n",
              " 'разн': 198,\n",
              " 'сложн': 199,\n",
              " 'равн': 200,\n",
              " 'переста': 201,\n",
              " 'вещ': 202,\n",
              " 'виж': 203,\n",
              " 'секс': 204,\n",
              " 'либ': 205,\n",
              " 'например': 206,\n",
              " 'дан': 207,\n",
              " 'узна': 208,\n",
              " 'любл': 209,\n",
              " 'быва': 210,\n",
              " 'скор': 211,\n",
              " 'стара': 212,\n",
              " 'мир': 213,\n",
              " 'денег': 214,\n",
              " 'пробл': 215,\n",
              " 'страшн': 216,\n",
              " 'помоч': 217,\n",
              " 'эмоц': 218,\n",
              " 'рад': 219,\n",
              " 'здоров': 220,\n",
              " 'разговор': 221,\n",
              " 'помог': 222,\n",
              " 'происход': 223,\n",
              " 'пожалуйст': 224,\n",
              " 'ноч': 225,\n",
              " 'план': 226,\n",
              " 'выход': 227,\n",
              " 'подруг': 228,\n",
              " 'утр': 229,\n",
              " 'написа': 230,\n",
              " 'мал': 231,\n",
              " 'близк': 232,\n",
              " 'личн': 233,\n",
              " 'готов': 234,\n",
              " 'наверн': 235,\n",
              " 'знаком': 236,\n",
              " 'парн': 237,\n",
              " 'депресс': 238,\n",
              " 'зач': 239,\n",
              " 'уход': 240,\n",
              " 'появ': 241,\n",
              " 'писа': 242,\n",
              " 'дня': 243,\n",
              " 'встреча': 244,\n",
              " 'след': 245,\n",
              " 'пришл': 246,\n",
              " 'немн': 247,\n",
              " 'ваш': 248,\n",
              " 'уста': 249,\n",
              " 'такж': 250,\n",
              " 'обычн': 251,\n",
              " 'никт': 252,\n",
              " 'стран': 253,\n",
              " 'вин': 254,\n",
              " 'врач': 255,\n",
              " 'станов': 256,\n",
              " 'разобра': 257,\n",
              " 'чита': 258,\n",
              " 'пап': 259,\n",
              " 'важн': 260,\n",
              " 'сообщен': 261,\n",
              " 'бабушк': 262,\n",
              " 'спокойн': 263,\n",
              " 'сегодн': 264,\n",
              " 'полн': 265,\n",
              " 'прав': 266,\n",
              " 'больн': 267,\n",
              " 'смысл': 268,\n",
              " 'какой-т': 269,\n",
              " 'прям': 270,\n",
              " 'стат': 271,\n",
              " 'душ': 272,\n",
              " 'род': 273,\n",
              " 'решен': 274,\n",
              " 'поговор': 275,\n",
              " 'т.к': 276,\n",
              " 'конц': 277,\n",
              " 'брат': 278,\n",
              " 'поведен': 279,\n",
              " 'точн': 280,\n",
              " 'давн': 281,\n",
              " 'продолжа': 282,\n",
              " 'вер': 283,\n",
              " 'телефон': 284,\n",
              " 'совет': 285,\n",
              " 'особен': 286,\n",
              " 'мат': 287,\n",
              " 'развод': 288,\n",
              " 'молод': 289,\n",
              " 'смотр': 290,\n",
              " 'дне': 291,\n",
              " 'ед': 292,\n",
              " 'кем': 293,\n",
              " 'ряд': 294,\n",
              " 'результат': 295,\n",
              " 'куд': 296,\n",
              " 'недавн': 297,\n",
              " 'правильн': 298,\n",
              " 'дал': 299,\n",
              " 'тип': 300,\n",
              " 'особ': 301,\n",
              " 'игра': 302,\n",
              " 'встреч': 303,\n",
              " 'людьм': 304,\n",
              " 'пережива': 305,\n",
              " 'принима': 306,\n",
              " 'потеря': 307,\n",
              " 'чувствова': 308,\n",
              " 'некотор': 309,\n",
              " 'ум': 310,\n",
              " 'наход': 311,\n",
              " 'прос': 312,\n",
              " 'спасиб': 313,\n",
              " 'дочк': 314,\n",
              " 'глаз': 315,\n",
              " 'зде': 316,\n",
              " 'повод': 317,\n",
              " 'возраст': 318,\n",
              " 'реальн': 319,\n",
              " 'дава': 320,\n",
              " 'пол': 321,\n",
              " 'смог': 322,\n",
              " 'лиш': 323,\n",
              " 'брак': 324,\n",
              " 'хвата': 325,\n",
              " 'серьезн': 326,\n",
              " 'иска': 327,\n",
              " 'прош': 328,\n",
              " 'отц': 329,\n",
              " 'ссор': 330,\n",
              " 'испытыва': 331,\n",
              " 'доч': 332,\n",
              " 'тех': 333,\n",
              " 'быстр': 334,\n",
              " 'ник': 335,\n",
              " 'брос': 336,\n",
              " 'приня': 337,\n",
              " 'отвеча': 338,\n",
              " 'какие-т': 339,\n",
              " 'законч': 340,\n",
              " 'период': 341,\n",
              " 'тревог': 342,\n",
              " 'куп': 343,\n",
              " 'слишк': 344,\n",
              " 'будущ': 345,\n",
              " 'основн': 346,\n",
              " 'собствен': 347,\n",
              " 'бывш': 348,\n",
              " 'правд': 349,\n",
              " 'пошл': 350,\n",
              " 'учеб': 351,\n",
              " 'игр': 352,\n",
              " 'образ': 353,\n",
              " 'случ': 354,\n",
              " 'хуж': 355,\n",
              " 'разговарива': 356,\n",
              " 'снача': 357,\n",
              " 'видел': 358,\n",
              " 'звон': 359,\n",
              " 'психологическ': 360,\n",
              " 'класс': 361,\n",
              " 'ид': 362,\n",
              " 'физическ': 363,\n",
              " 'счастлив': 364,\n",
              " 'истор': 365,\n",
              " 'матер': 366,\n",
              " 'ужасн': 367,\n",
              " 'эмоциональн': 368,\n",
              " 'любов': 369,\n",
              " 'могут': 370,\n",
              " 'идт': 371,\n",
              " 'уеха': 372,\n",
              " 'кром': 373,\n",
              " 'оказа': 374,\n",
              " 'отец': 375,\n",
              " 'знает': 376,\n",
              " 'кто-т': 377,\n",
              " 'т.д': 378,\n",
              " 'действительн': 379,\n",
              " 'те': 380,\n",
              " 'форум': 381,\n",
              " 'достаточн': 382,\n",
              " 'старш': 383,\n",
              " 'настроен': 384,\n",
              " 'сих': 385,\n",
              " 'ушл': 386,\n",
              " 'спат': 387,\n",
              " 'курс': 388,\n",
              " 'легк': 389,\n",
              " 'клиент': 390,\n",
              " 'замуж': 391,\n",
              " 'зависим': 392,\n",
              " 'обраща': 393,\n",
              " 'маленьк': 394,\n",
              " 'проход': 395,\n",
              " 'практическ': 396,\n",
              " 'спрос': 397,\n",
              " 'науч': 398,\n",
              " 'помн': 399,\n",
              " 'девочк': 400,\n",
              " 'связ': 401,\n",
              " 'любим': 402,\n",
              " 'смерт': 403,\n",
              " 'слез': 404,\n",
              " 'довольн': 405,\n",
              " 'пуст': 406,\n",
              " 'внутрен': 407,\n",
              " 'ког': 408,\n",
              " 'занят': 409,\n",
              " 'внутр': 410,\n",
              " 'нельз': 411,\n",
              " 'связа': 412,\n",
              " 'вес': 413,\n",
              " 'встрет': 414,\n",
              " 'удовольств': 415,\n",
              " 'интернет': 416,\n",
              " 'ком': 417,\n",
              " 'терап': 418,\n",
              " 'ощуща': 419,\n",
              " 'каза': 420,\n",
              " 'подобн': 421,\n",
              " 'ве': 422,\n",
              " 'сфер': 423,\n",
              " 'вернут': 424,\n",
              " 'справ': 425,\n",
              " 'выбра': 426,\n",
              " 'плака': 427,\n",
              " 'сестр': 428,\n",
              " 'идет': 429,\n",
              " 'вест': 430,\n",
              " 'действ': 431,\n",
              " 'главн': 432,\n",
              " 'похож': 433,\n",
              " 'меньш': 434,\n",
              " 'тел': 435,\n",
              " 'собира': 436,\n",
              " 'чут': 437,\n",
              " 'любв': 438,\n",
              " 'ран': 439,\n",
              " 'спрашива': 440,\n",
              " 'рассказыва': 441,\n",
              " 'реша': 442,\n",
              " 'совершен': 443,\n",
              " 'заб': 444,\n",
              " 'знал': 445,\n",
              " 'страда': 446,\n",
              " 'знач': 447,\n",
              " 'относ': 448,\n",
              " 'поддержк': 449,\n",
              " 'осозна': 450,\n",
              " 'образован': 451,\n",
              " 'приеха': 452,\n",
              " 'специальн': 453,\n",
              " 'вышл': 454,\n",
              " 'родн': 455,\n",
              " 'абсолютн': 456,\n",
              " 'подума': 457,\n",
              " 'взросл': 458,\n",
              " 'мол': 459,\n",
              " 'нашл': 460,\n",
              " 'сайт': 461,\n",
              " 'активн': 462,\n",
              " 'понятн': 463,\n",
              " 'меша': 464,\n",
              " 'живет': 465,\n",
              " 'поддержива': 466,\n",
              " 'всяк': 467,\n",
              " 'туд': 468,\n",
              " 'обрат': 469,\n",
              " 'куч': 470,\n",
              " 'руга': 471,\n",
              " 'межд': 472,\n",
              " 'устраива': 473,\n",
              " 'обид': 474,\n",
              " 'комнат': 475,\n",
              " 'компан': 476,\n",
              " 'книг': 477,\n",
              " 'появля': 478,\n",
              " 'нахож': 479,\n",
              " 'прекрасн': 480,\n",
              " 'уважа': 481,\n",
              " 'полност': 482,\n",
              " 'вариант': 483,\n",
              " 'видим': 484,\n",
              " 'взят': 485,\n",
              " 'отсутств': 486,\n",
              " 'расста': 487,\n",
              " 'окол': 488,\n",
              " 'красив': 489,\n",
              " 'скольк': 490,\n",
              " 'редк': 491,\n",
              " 'пример': 492,\n",
              " 'свободн': 493,\n",
              " 'боя': 494,\n",
              " 'возника': 495,\n",
              " 'сад': 496,\n",
              " 'прич': 497,\n",
              " 'мозг': 498,\n",
              " 'плюс': 499,\n",
              " 'вызыва': 500,\n",
              " 'скаж': 501,\n",
              " 'взял': 502,\n",
              " 'подход': 503,\n",
              " 'слуша': 504,\n",
              " 'выходн': 505,\n",
              " 'трудн': 506,\n",
              " 'устро': 507,\n",
              " 'единствен': 508,\n",
              " 'дает': 509,\n",
              " 'уйт': 510,\n",
              " 'сердц': 511,\n",
              " 'попрос': 512,\n",
              " 'объясн': 513,\n",
              " 'лиц': 514,\n",
              " 'нуж': 515,\n",
              " 'примерн': 516,\n",
              " 'попытк': 517,\n",
              " 'оп': 518,\n",
              " 'неприятн': 519,\n",
              " 'конфликт': 520,\n",
              " 'сут': 521,\n",
              " 'долж': 522,\n",
              " 'познаком': 523,\n",
              " 'замеча': 524,\n",
              " 'стресс': 525,\n",
              " 'професс': 526,\n",
              " 'пиш': 527,\n",
              " 'минут': 528,\n",
              " 'необходим': 529,\n",
              " 'чащ': 530,\n",
              " 'истерик': 531,\n",
              " 'выйт': 532,\n",
              " 'опыт': 533,\n",
              " 'парен': 534,\n",
              " 'характер': 535,\n",
              " 'проявля': 536,\n",
              " 'будут': 537,\n",
              " 'способ': 538,\n",
              " 'избав': 539,\n",
              " 'полгод': 540,\n",
              " 'настоя': 541,\n",
              " 'поступ': 542,\n",
              " 'предлага': 543,\n",
              " 'консультац': 544,\n",
              " 'тревожн': 545,\n",
              " 'зат': 546,\n",
              " 'где-т': 547,\n",
              " 'магазин': 548,\n",
              " 'зарабатыва': 549,\n",
              " 'честн': 550,\n",
              " 'предлож': 551,\n",
              " 'принцип': 552,\n",
              " 'проч': 553,\n",
              " 'рассказа': 554,\n",
              " 'дочер': 555,\n",
              " 'вчер': 556,\n",
              " 'провод': 557,\n",
              " 'дат': 558,\n",
              " 'направлен': 559,\n",
              " 'машин': 560,\n",
              " 'смен': 561,\n",
              " 'факт': 562,\n",
              " 'дорог': 563,\n",
              " 'спуст': 564,\n",
              " 'вернул': 565,\n",
              " 'взгляд': 566,\n",
              " 'перееха': 567,\n",
              " 'рожден': 568,\n",
              " 'ответствен': 569,\n",
              " 'пойт': 570,\n",
              " 'гуля': 571,\n",
              " 'позвон': 572,\n",
              " 'плат': 573,\n",
              " 'детск': 574,\n",
              " 'соглас': 575,\n",
              " 'родственник': 576,\n",
              " 'возвраща': 577,\n",
              " 'крайн': 578,\n",
              " 'ушел': 579,\n",
              " 'отказа': 580,\n",
              " 'уверен': 581,\n",
              " 'остальн': 582,\n",
              " 'круг': 583,\n",
              " 'называ': 584,\n",
              " 'смогл': 585,\n",
              " 'личност': 586,\n",
              " 'детьм': 587,\n",
              " 'очередн': 588,\n",
              " 'сид': 589,\n",
              " 'мальчик': 590,\n",
              " 'сиж': 591,\n",
              " 'радост': 592,\n",
              " 'улиц': 593,\n",
              " 'какое-т': 594,\n",
              " 'созда': 595,\n",
              " 'коллег': 596,\n",
              " 'психотерапевт': 597,\n",
              " 'забот': 598,\n",
              " 'остав': 599,\n",
              " 'услыша': 600,\n",
              " 'определен': 601,\n",
              " 'огромн': 602,\n",
              " 'младш': 603,\n",
              " 'кур': 604,\n",
              " 'увер': 605,\n",
              " 'пут': 606,\n",
              " 'чуж': 607,\n",
              " 'приятн': 608,\n",
              " 'замет': 609,\n",
              " 'воспринима': 610,\n",
              " 'леч': 611,\n",
              " 'реакц': 612,\n",
              " 'виноват': 613,\n",
              " 'ног': 614,\n",
              " 'постав': 615,\n",
              " 'смотрет': 616,\n",
              " 'доход': 617,\n",
              " 'негативн': 618,\n",
              " 'сход': 619,\n",
              " 'процесс': 620,\n",
              " 'беспоко': 621,\n",
              " 'невозможн': 622,\n",
              " 'видет': 623,\n",
              " 'зарплат': 624,\n",
              " 'чем-т': 625,\n",
              " 'показа': 626,\n",
              " 'зовут': 627,\n",
              " 'имеет': 628,\n",
              " 'раздража': 629,\n",
              " 'теря': 630,\n",
              " 'пониман': 631,\n",
              " 'выбор': 632,\n",
              " 'диагноз': 633,\n",
              " 'поиск': 634,\n",
              " 'моральн': 635,\n",
              " 'ищ': 636,\n",
              " 'групп': 637,\n",
              " 'отдельн': 638,\n",
              " 'конкретн': 639,\n",
              " 'стро': 640,\n",
              " 'агресс': 641,\n",
              " 'норм': 642,\n",
              " 'беремен': 643,\n",
              " 'представля': 644,\n",
              " 'услов': 645,\n",
              " 'расстройств': 646,\n",
              " 'периодическ': 647,\n",
              " 'вся': 648,\n",
              " 'пит': 649,\n",
              " 'стольк': 650,\n",
              " 'прот': 651,\n",
              " 'увидел': 652,\n",
              " 'т.е': 653,\n",
              " 'напряжен': 654,\n",
              " 'развива': 655,\n",
              " 'контакт': 656,\n",
              " 'резк': 657,\n",
              " 'самостоятельн': 658,\n",
              " 'знакомств': 659,\n",
              " 'покупа': 660,\n",
              " 'отказыва': 661,\n",
              " 'пил': 662,\n",
              " 'партнер': 663,\n",
              " 'плач': 664,\n",
              " 'буквальн': 665,\n",
              " 'призна': 666,\n",
              " 'болезн': 667,\n",
              " 'легч': 668,\n",
              " 'однак': 669,\n",
              " 'наоборот': 670,\n",
              " 'лишн': 671,\n",
              " 'язык': 672,\n",
              " 'ошибк': 673,\n",
              " 'начал': 674,\n",
              " 'информац': 675,\n",
              " 'стар': 676,\n",
              " 'вокруг': 677,\n",
              " 'течен': 678,\n",
              " 'больниц': 679,\n",
              " 'пробова': 680,\n",
              " 'явля': 681,\n",
              " 'окружа': 682,\n",
              " 'небольш': 683,\n",
              " 'сидет': 684,\n",
              " 'вспомина': 685,\n",
              " 'качеств': 686,\n",
              " 'развит': 687,\n",
              " 'та': 688,\n",
              " 'приезжа': 689,\n",
              " 'спорт': 690,\n",
              " 'отпуст': 691,\n",
              " 'подскаж': 692,\n",
              " 'заставля': 693,\n",
              " 'слыша': 694,\n",
              " 'понрав': 695,\n",
              " 'обижа': 696,\n",
              " 'одиночеств': 697,\n",
              " 'стыдн': 698,\n",
              " 'цен': 699,\n",
              " 'паническ': 700,\n",
              " 'заран': 701,\n",
              " 'урок': 702,\n",
              " 'совместн': 703,\n",
              " 'жела': 704,\n",
              " 'лечен': 705,\n",
              " 'финансов': 706,\n",
              " 'труд': 707,\n",
              " 'границ': 708,\n",
              " 'счаст': 709,\n",
              " 'алкогол': 710,\n",
              " 'справля': 711,\n",
              " 'успоко': 712,\n",
              " 'треб': 713,\n",
              " 'переписк': 714,\n",
              " 'настольк': 715,\n",
              " 'событ': 716,\n",
              " 'нервн': 717,\n",
              " 'жал': 718,\n",
              " 'езд': 719,\n",
              " 'рабоч': 720,\n",
              " 'принос': 721,\n",
              " 'инач': 722,\n",
              " 'выбира': 723,\n",
              " 'внешн': 724,\n",
              " 'точк': 725,\n",
              " 'произошл': 726,\n",
              " 'давлен': 727,\n",
              " 'вечн': 728,\n",
              " 'психиатр': 729,\n",
              " 'счет': 730,\n",
              " 'застав': 731,\n",
              " 'мечта': 732,\n",
              " 'став': 733,\n",
              " 'фильм': 734,\n",
              " 'муча': 735,\n",
              " 'обратн': 736,\n",
              " 'две': 737,\n",
              " 'идеальн': 738,\n",
              " 'апат': 739,\n",
              " 'подел': 740,\n",
              " 'поменя': 741,\n",
              " 'способн': 742,\n",
              " 'поеха': 743,\n",
              " 'сексуальн': 744,\n",
              " 'благодар': 745,\n",
              " 'переж': 746,\n",
              " 'обсужда': 747,\n",
              " 'слож': 748,\n",
              " 'естествен': 749,\n",
              " 'атак': 750,\n",
              " 'потребн': 751,\n",
              " 'придет': 752,\n",
              " 'деятельн': 753,\n",
              " 'верн': 754,\n",
              " 'благодарн': 755,\n",
              " 'вод': 756,\n",
              " 'количеств': 757,\n",
              " 'сидел': 758,\n",
              " 'броса': 759,\n",
              " 'обидн': 760,\n",
              " 'увол': 761,\n",
              " 'далек': 762,\n",
              " 'какая-т': 763,\n",
              " 'мотивац': 764,\n",
              " 'отпуск': 765,\n",
              " 'обучен': 766,\n",
              " 'реч': 767,\n",
              " 'держа': 768,\n",
              " 'мер': 769,\n",
              " 'попробова': 770,\n",
              " 'чист': 771,\n",
              " 'фраз': 772,\n",
              " 'надежд': 773,\n",
              " 'просыпа': 774,\n",
              " 'гор': 775,\n",
              " 'злост': 776,\n",
              " 'уда': 777,\n",
              " 'пуга': 778,\n",
              " 'гост': 779,\n",
              " 'отда': 780,\n",
              " 'свет': 781,\n",
              " 'никуд': 782,\n",
              " 'тд': 783,\n",
              " 'мечт': 784,\n",
              " 'тво': 785,\n",
              " 'паник': 786,\n",
              " 'трат': 787,\n",
              " 'глуп': 788,\n",
              " 'самооценк': 789,\n",
              " 'тепл': 790,\n",
              " 'описа': 791,\n",
              " 'голос': 792,\n",
              " 'расставан': 793,\n",
              " 'останов': 794,\n",
              " 'скандал': 795,\n",
              " 'дик': 796,\n",
              " 'ел': 797,\n",
              " 'ненавиж': 798,\n",
              " 'навязчив': 799,\n",
              " 'прож': 800,\n",
              " 'словн': 801,\n",
              " 'заня': 802,\n",
              " 'существ': 803,\n",
              " 'таблетк': 804,\n",
              " 'слыш': 805,\n",
              " 'бизнес': 806,\n",
              " 'успешн': 807,\n",
              " 'наскольк': 808,\n",
              " 'трет': 809,\n",
              " 'открыт': 810,\n",
              " 'нос': 811,\n",
              " 'семейн': 812,\n",
              " 'везд': 813,\n",
              " 'дво': 814,\n",
              " 'налад': 815,\n",
              " 'прекрат': 816,\n",
              " 'туп': 817,\n",
              " 'переживан': 818,\n",
              " 'вывод': 819,\n",
              " 'отличн': 820,\n",
              " 'практик': 821,\n",
              " 'волн': 822,\n",
              " 'почему-т': 823,\n",
              " 'психик': 824,\n",
              " 'помогл': 825,\n",
              " 'хож': 826,\n",
              " 'прочита': 827,\n",
              " 'сред': 828,\n",
              " 'энерг': 829,\n",
              " 'фон': 830,\n",
              " 'попа': 831,\n",
              " 'праздник': 832,\n",
              " 'оказыва': 833,\n",
              " 'университет': 834,\n",
              " 'имет': 835,\n",
              " 'уровн': 836,\n",
              " 'поздн': 837,\n",
              " 'умер': 838,\n",
              " 'забра': 839,\n",
              " 'закр': 840,\n",
              " 'лен': 841,\n",
              " 'двух': 842,\n",
              " 'удар': 843,\n",
              " 'весел': 844,\n",
              " 'откр': 845,\n",
              " 'жду': 846,\n",
              " 'надоел': 847,\n",
              " 'днем': 848,\n",
              " 'заканчива': 849,\n",
              " 'нашел': 850,\n",
              " 'запрос': 851,\n",
              " 'учител': 852,\n",
              " 'разв': 853,\n",
              " 'потер': 854,\n",
              " 'пришел': 855,\n",
              " 'сожален': 856,\n",
              " 'чего-т': 857,\n",
              " 'кого-т': 858,\n",
              " 'предложен': 859,\n",
              " 'собра': 860,\n",
              " 'бес': 861,\n",
              " 'числ': 862,\n",
              " 'социальн': 863,\n",
              " 'сон': 864,\n",
              " 'сет': 865,\n",
              " 'обществ': 866,\n",
              " 'пишет': 867,\n",
              " 'усил': 868,\n",
              " 'я.': 869,\n",
              " 'задач': 870,\n",
              " 'реальност': 871,\n",
              " 'контролирова': 872,\n",
              " 'жутк': 873,\n",
              " 'толк': 874,\n",
              " 'нерв': 875,\n",
              " 'умн': 876,\n",
              " 'дни': 877,\n",
              " 'знан': 878,\n",
              " 'снима': 879,\n",
              " 'определ': 880,\n",
              " 'суток': 881,\n",
              " 'повторя': 882,\n",
              " 'одежд': 883,\n",
              " 'почувствова': 884,\n",
              " 'гот': 885,\n",
              " 'откуд': 886,\n",
              " 'ин': 887,\n",
              " 'дав': 888,\n",
              " 'полтор': 889,\n",
              " 'шаг': 890,\n",
              " 'груб': 891,\n",
              " 'непонятн': 892,\n",
              " 'психическ': 893,\n",
              " 'двига': 894,\n",
              " 'бог': 895,\n",
              " 'скучн': 896,\n",
              " 'случайн': 897,\n",
              " 'объясня': 898,\n",
              " 'нек': 899,\n",
              " 'позволя': 900,\n",
              " 'постепен': 901,\n",
              " 'показыва': 902,\n",
              " 'привычк': 903,\n",
              " 'слаб': 904,\n",
              " 'виде': 905,\n",
              " 'выш': 906,\n",
              " 'обсуд': 907,\n",
              " 'симптом': 908,\n",
              " 'иб': 909,\n",
              " 'протяжен': 910,\n",
              " 'адекватн': 911,\n",
              " 'порядк': 912,\n",
              " 'холодн': 913,\n",
              " 'длительн': 914,\n",
              " 'жалк': 915,\n",
              " 'радова': 916,\n",
              " 'двер': 917,\n",
              " 'крича': 918,\n",
              " 'пропа': 919,\n",
              " 'средн': 920,\n",
              " 'зада': 921,\n",
              " 'домашн': 922,\n",
              " 'ту': 923,\n",
              " 'заработа': 924,\n",
              " 'молч': 925,\n",
              " 'лежа': 926,\n",
              " 'кг': 927,\n",
              " 'договор': 928,\n",
              " 'глубок': 929,\n",
              " 'все-так': 930,\n",
              " 'инициатив': 931,\n",
              " 'поступа': 932,\n",
              " 'завтр': 933,\n",
              " 'довер': 934,\n",
              " 'шанс': 935,\n",
              " 'крут': 936,\n",
              " 'воспитан': 937,\n",
              " 'травм': 938,\n",
              " 'обязательн': 939,\n",
              " 'терпет': 940,\n",
              " 'успех': 941,\n",
              " 'форм': 942,\n",
              " 'мелоч': 943,\n",
              " 'смотрел': 944,\n",
              " 'ведет': 945,\n",
              " 'проект': 946,\n",
              " 'тест': 947,\n",
              " 'неправильн': 948,\n",
              " 'ждал': 949,\n",
              " 'комфортн': 950,\n",
              " 'доб': 951,\n",
              " 'привет': 952,\n",
              " 'сможет': 953,\n",
              " 'воспитыва': 954,\n",
              " 'вполн': 955,\n",
              " 'рол': 956,\n",
              " 'мужик': 957,\n",
              " 'явн': 958,\n",
              " 'профессиональн': 959,\n",
              " 'контрол': 960,\n",
              " 'невроз': 961,\n",
              " 'остава': 962,\n",
              " 'высш': 963,\n",
              " 'груд': 964,\n",
              " 'позж': 965,\n",
              " 'высок': 966,\n",
              " 'ужас': 967,\n",
              " 'собак': 968,\n",
              " 'приступ': 969,\n",
              " 'женат': 970,\n",
              " 'фот': 971,\n",
              " 'поможет': 972,\n",
              " 'присутств': 973,\n",
              " 'полезн': 974,\n",
              " 'пообща': 975,\n",
              " 'анализ': 976,\n",
              " 'спал': 977,\n",
              " 'лож': 978,\n",
              " 'просьб': 979,\n",
              " 'компьютер': 980,\n",
              " 'поскольк': 981,\n",
              " 'свадьб': 982,\n",
              " 'руководител': 983,\n",
              " 'выполня': 984,\n",
              " 'хват': 985,\n",
              " 'грустн': 986,\n",
              " 'исправ': 987,\n",
              " 'скуча': 988,\n",
              " 'четк': 989,\n",
              " 'ад': 990,\n",
              " 'держ': 991,\n",
              " 'ждат': 992,\n",
              " 'внешност': 993,\n",
              " 'пошел': 994,\n",
              " 'принят': 995,\n",
              " 'т.п': 996,\n",
              " 'хочеш': 997,\n",
              " 'текст': 998,\n",
              " 'хобб': 999,\n",
              " 'стабильн': 1000,\n",
              " ...}"
            ]
          },
          "metadata": {},
          "execution_count": 54
        }
      ]
    },
    {
      "cell_type": "code",
      "metadata": {
        "id": "WL6-TiI_9Ylx"
      },
      "source": [
        "sequences = tokenizer.texts_to_sequences(x_train)\n",
        "upd_sequences = upd_tokenizer.texts_to_sequences(train)"
      ],
      "execution_count": 55,
      "outputs": []
    },
    {
      "cell_type": "code",
      "metadata": {
        "colab": {
          "base_uri": "https://localhost:8080/"
        },
        "id": "h2g0YCDS9d2h",
        "outputId": "49ca5a98-b8ce-4b53-f065-f93bc8e9b2e9"
      },
      "source": [
        "print(x_train[0])\n",
        "print(sequences[0])\n",
        "print(train[0])\n",
        "print(upd_sequences[0])"
      ],
      "execution_count": 56,
      "outputs": [
        {
          "output_type": "stream",
          "name": "stdout",
          "text": [
            "Здравствуйте! Меня зовут Юлия, мне 24 года. В последнее время, а точнее, последние 2 года меня одолевает страх старости. Проявляется он следующим образом, я отвлекаюсь во время работы, чтобы посмотреться в зеркало и убедиться, что там всё ок (победа в конкурсе красоты и внимание людей на улице, видимо, отразились) , каждый вечер по часу кручусь в ванне проверяю что изменилось, хотя устала и лучше б полежала.) Работа у меня это симбиоз математики и программирования, поэтому много приходится сидеть. Но я не могу сидеть дольше 40 минут, не рассматривая себя и не делая упражнений для лица.)) Вместо того, чтобы лечь спать и хорошо выспаться, я делаю упражнения на осанку, массаж. Могу гуглить часами всякие витамины и крема. Со стороны, наверно, звучит не угрожающе, а смешно, но мне уже не до смеха. Я себя всю измучала этой красотой и страхом старости. Подскажите, как можно себя убедить в том, что это неизбежный этап жизни каждого человека и спокойно трудиться и радоваться жизнью?\n",
            "[94, 11, 597, 12, 71, 4, 360, 46, 15, 928, 402, 71, 11, 282, 2286, 16, 662, 3, 3778, 105, 46, 119, 48, 4, 4568, 1, 5, 104, 67, 1366, 4, 4871, 1, 391, 175, 7, 948, 525, 169, 418, 20, 4, 5, 1679, 84, 424, 1, 212, 998, 224, 14, 11, 13, 1, 221, 77, 789, 661, 10, 3, 2, 35, 661, 2762, 680, 2, 25, 1, 2, 4772, 43, 2287, 780, 90, 48, 2659, 379, 1, 127, 3, 264, 2602, 7, 35, 2288, 1575, 1, 50, 203, 1150, 2015, 2, 15, 2899, 10, 12, 31, 2, 49, 3, 25, 289, 173, 1, 2900, 560, 8, 97, 25, 2410, 4, 86, 5, 13, 3607, 66, 1474, 209, 1, 420, 1, 1475, 664]\n",
            "['здравств', 'мен', 'зовут', 'юл', 'год', 'последн', 'врем', 'точн', 'последн', 'год', 'мен', 'одолева', 'страх', 'старост', 'проявля', 'след', 'образ', 'отвлека', 'врем', 'работ', 'посмотрет', 'зерка', 'убед', 'ок', 'побед', 'конкурс', 'красот', 'вниман', 'люд', 'улиц', 'видим', 'отраз', 'кажд', 'вечер', 'час', 'круч', 'ван', 'проверя', 'измен', 'хот', 'уста', 'лучш', 'б', 'полежа', 'работ', 'мен', 'эт', 'симбиоз', 'математик', 'программирован', 'поэт', 'мног', 'приход', 'сидет', 'мог', 'сидет', 'дольш', 'минут', 'рассматрив', 'себ', 'дел', 'упражнен', 'лиц', 'вмест', 'тог', 'леч', 'спат', 'хорош', 'выспа', 'дела', 'упражнен', 'осанк', 'массаж', 'мог', 'гугл', 'час', 'всяк', 'витамин', 'крем', 'сторон', 'наверн', 'звуч', 'угрожающ', 'смешн', 'смех', 'себ', 'измуча', 'эт', 'красот', 'страх', 'старост', 'подскаж', 'можн', 'себ', 'убед', 'эт', 'неизбежн', 'этап', 'жизн', 'кажд', 'человек', 'спокойн', 'труд', 'радова', 'жизн']\n",
            "[80, 2, 627, 2949, 21, 93, 28, 280, 93, 21, 2, 3593, 142, 2515, 536, 245, 353, 1204, 28, 12, 1160, 3149, 1329, 1316, 2100, 3208, 2314, 186, 55, 593, 484, 3480, 81, 184, 193, 4603, 1711, 1606, 137, 37, 249, 120, 1359, 4988, 12, 2, 1, 2367, 2620, 190, 38, 183, 684, 13, 684, 2270, 528, 4, 63, 1658, 514, 101, 68, 611, 387, 50, 4051, 20, 1658, 2649, 13, 4148, 193, 467, 3209, 107, 235, 1772, 1458, 3318, 4, 1, 2314, 142, 2515, 692, 78, 4, 1329, 1, 3264, 1367, 16, 81, 31, 263, 707, 916, 16]\n"
          ]
        }
      ]
    },
    {
      "cell_type": "code",
      "metadata": {
        "id": "TjVpkcop9g64"
      },
      "source": [
        "max_text_len = 100\n",
        "x_train = pad_sequences(sequences, maxlen=max_text_len)\n",
        "upd_x_train = pad_sequences(upd_sequences, maxlen=max_text_len)"
      ],
      "execution_count": 57,
      "outputs": []
    },
    {
      "cell_type": "code",
      "metadata": {
        "id": "9z2Tp9X99p0y"
      },
      "source": [
        "from tensorflow.keras.models import Sequential\n",
        "from tensorflow.keras.layers import Dense, Embedding, MaxPooling1D, Conv1D, GlobalMaxPooling1D, Dropout, LSTM, GRU"
      ],
      "execution_count": 70,
      "outputs": []
    },
    {
      "cell_type": "code",
      "metadata": {
        "id": "meRsML1r9tFa"
      },
      "source": [
        "model_cnn = Sequential()\n",
        "model_cnn.add(Embedding(num_words, 32, input_length=max_text_len))\n",
        "model_cnn.add(Conv1D(2*file_names_size**2, 5, padding='valid', activation='relu'))\n",
        "model_cnn.add(GlobalMaxPooling1D())\n",
        "model_cnn.add(Dense(file_names_size**2, activation='relu'))\n",
        "model_cnn.add(Dense(file_names_size, activation='softmax'))"
      ],
      "execution_count": 71,
      "outputs": []
    },
    {
      "cell_type": "code",
      "metadata": {
        "id": "CTVx3zuS9vaR"
      },
      "source": [
        "model_cnn.compile(optimizer='adam', \n",
        "              loss='categorical_crossentropy', \n",
        "              metrics=['accuracy'])"
      ],
      "execution_count": 72,
      "outputs": []
    },
    {
      "cell_type": "code",
      "metadata": {
        "colab": {
          "base_uri": "https://localhost:8080/"
        },
        "id": "wPcsFZG29xlB",
        "outputId": "dd9177d9-81d7-46b3-a087-309402540278"
      },
      "source": [
        "model_cnn.summary()"
      ],
      "execution_count": 73,
      "outputs": [
        {
          "output_type": "stream",
          "name": "stdout",
          "text": [
            "Model: \"sequential_2\"\n",
            "_________________________________________________________________\n",
            "Layer (type)                 Output Shape              Param #   \n",
            "=================================================================\n",
            "embedding_2 (Embedding)      (None, 100, 32)           160000    \n",
            "_________________________________________________________________\n",
            "conv1d_2 (Conv1D)            (None, 96, 338)           54418     \n",
            "_________________________________________________________________\n",
            "global_max_pooling1d_2 (Glob (None, 338)               0         \n",
            "_________________________________________________________________\n",
            "dense_4 (Dense)              (None, 169)               57291     \n",
            "_________________________________________________________________\n",
            "dense_5 (Dense)              (None, 13)                2210      \n",
            "=================================================================\n",
            "Total params: 273,919\n",
            "Trainable params: 273,919\n",
            "Non-trainable params: 0\n",
            "_________________________________________________________________\n"
          ]
        }
      ]
    },
    {
      "cell_type": "code",
      "metadata": {
        "id": "Sxz2Udrz98uZ"
      },
      "source": [
        "from tensorflow.keras.callbacks import ModelCheckpoint"
      ],
      "execution_count": 74,
      "outputs": []
    },
    {
      "cell_type": "code",
      "metadata": {
        "id": "RGr3ar-j9ztp"
      },
      "source": [
        "model_cnn_save_path = 'best_model_cnn.h5'\n",
        "checkpoint_callback_cnn = ModelCheckpoint(model_cnn_save_path, \n",
        "                                      monitor='val_accuracy',\n",
        "                                      save_best_only=True,\n",
        "                                      verbose=1)\n",
        "upd_model_cnn_save_path = 'upd_best_model_cnn.h5'\n",
        "upd_checkpoint_callback_cnn = ModelCheckpoint(upd_model_cnn_save_path, \n",
        "                                      monitor='val_accuracy',\n",
        "                                      save_best_only=True,\n",
        "                                      verbose=1)"
      ],
      "execution_count": 75,
      "outputs": []
    },
    {
      "cell_type": "code",
      "metadata": {
        "colab": {
          "base_uri": "https://localhost:8080/"
        },
        "id": "RBEiaZq79_Ka",
        "outputId": "b937bc75-6fa7-4daa-bd5b-544f98bd81c6"
      },
      "source": [
        "upd_history_cnn = model_cnn.fit(upd_x_train, \n",
        "                            y_train, \n",
        "                            epochs=15,\n",
        "                            batch_size=256,\n",
        "                            validation_split=0.2,\n",
        "                            callbacks=[upd_checkpoint_callback_cnn])"
      ],
      "execution_count": 76,
      "outputs": [
        {
          "output_type": "stream",
          "name": "stdout",
          "text": [
            "Epoch 1/15\n",
            "33/33 [==============================] - 10s 287ms/step - loss: 2.4507 - accuracy: 0.0941 - val_loss: 5.3422 - val_accuracy: 0.0000e+00\n",
            "\n",
            "Epoch 00001: val_accuracy improved from -inf to 0.00000, saving model to upd_best_model_cnn.h5\n",
            "Epoch 2/15\n",
            "33/33 [==============================] - 9s 280ms/step - loss: 2.3487 - accuracy: 0.1507 - val_loss: 7.0232 - val_accuracy: 0.0000e+00\n",
            "\n",
            "Epoch 00002: val_accuracy did not improve from 0.00000\n",
            "Epoch 3/15\n",
            "33/33 [==============================] - 9s 278ms/step - loss: 2.2371 - accuracy: 0.2385 - val_loss: 8.0377 - val_accuracy: 0.0000e+00\n",
            "\n",
            "Epoch 00003: val_accuracy did not improve from 0.00000\n",
            "Epoch 4/15\n",
            "33/33 [==============================] - 9s 279ms/step - loss: 1.9383 - accuracy: 0.3528 - val_loss: 9.7252 - val_accuracy: 0.0000e+00\n",
            "\n",
            "Epoch 00004: val_accuracy did not improve from 0.00000\n",
            "Epoch 5/15\n",
            "33/33 [==============================] - 9s 280ms/step - loss: 1.6480 - accuracy: 0.4545 - val_loss: 11.0682 - val_accuracy: 0.0218\n",
            "\n",
            "Epoch 00005: val_accuracy improved from 0.00000 to 0.02183, saving model to upd_best_model_cnn.h5\n",
            "Epoch 6/15\n",
            "33/33 [==============================] - 9s 280ms/step - loss: 1.4059 - accuracy: 0.5357 - val_loss: 12.1352 - val_accuracy: 0.0076\n",
            "\n",
            "Epoch 00006: val_accuracy did not improve from 0.02183\n",
            "Epoch 7/15\n",
            "33/33 [==============================] - 9s 277ms/step - loss: 1.2088 - accuracy: 0.5964 - val_loss: 13.1253 - val_accuracy: 0.0171\n",
            "\n",
            "Epoch 00007: val_accuracy did not improve from 0.02183\n",
            "Epoch 8/15\n",
            "33/33 [==============================] - 9s 279ms/step - loss: 1.0365 - accuracy: 0.6687 - val_loss: 14.0253 - val_accuracy: 0.0271\n",
            "\n",
            "Epoch 00008: val_accuracy improved from 0.02183 to 0.02705, saving model to upd_best_model_cnn.h5\n",
            "Epoch 9/15\n",
            "33/33 [==============================] - 9s 277ms/step - loss: 0.8752 - accuracy: 0.7247 - val_loss: 14.7048 - val_accuracy: 0.0327\n",
            "\n",
            "Epoch 00009: val_accuracy improved from 0.02705 to 0.03275, saving model to upd_best_model_cnn.h5\n",
            "Epoch 10/15\n",
            "33/33 [==============================] - 9s 277ms/step - loss: 0.7352 - accuracy: 0.7772 - val_loss: 15.5900 - val_accuracy: 0.0475\n",
            "\n",
            "Epoch 00010: val_accuracy improved from 0.03275 to 0.04746, saving model to upd_best_model_cnn.h5\n",
            "Epoch 11/15\n",
            "33/33 [==============================] - 9s 279ms/step - loss: 0.5961 - accuracy: 0.8344 - val_loss: 16.5300 - val_accuracy: 0.0375\n",
            "\n",
            "Epoch 00011: val_accuracy did not improve from 0.04746\n",
            "Epoch 12/15\n",
            "33/33 [==============================] - 9s 280ms/step - loss: 0.4724 - accuracy: 0.8830 - val_loss: 17.5799 - val_accuracy: 0.0413\n",
            "\n",
            "Epoch 00012: val_accuracy did not improve from 0.04746\n",
            "Epoch 13/15\n",
            "33/33 [==============================] - 9s 280ms/step - loss: 0.3699 - accuracy: 0.9189 - val_loss: 18.6084 - val_accuracy: 0.0475\n",
            "\n",
            "Epoch 00013: val_accuracy did not improve from 0.04746\n",
            "Epoch 14/15\n",
            "33/33 [==============================] - 9s 270ms/step - loss: 0.2843 - accuracy: 0.9467 - val_loss: 19.4855 - val_accuracy: 0.0612\n",
            "\n",
            "Epoch 00014: val_accuracy improved from 0.04746 to 0.06122, saving model to upd_best_model_cnn.h5\n",
            "Epoch 15/15\n",
            "33/33 [==============================] - 9s 269ms/step - loss: 0.2111 - accuracy: 0.9719 - val_loss: 20.5024 - val_accuracy: 0.0555\n",
            "\n",
            "Epoch 00015: val_accuracy did not improve from 0.06122\n"
          ]
        }
      ]
    },
    {
      "cell_type": "code",
      "metadata": {
        "colab": {
          "base_uri": "https://localhost:8080/"
        },
        "id": "kFcHK7NB-FK5",
        "outputId": "5fe83ec6-8bcb-48e6-ea0b-748b47504ab0"
      },
      "source": [
        "history_cnn = model_cnn.fit(x_train, \n",
        "                            y_train, \n",
        "                            epochs=15,\n",
        "                            batch_size=256,\n",
        "                            validation_split=0.2,\n",
        "                            callbacks=[checkpoint_callback_cnn])"
      ],
      "execution_count": 77,
      "outputs": [
        {
          "output_type": "stream",
          "name": "stdout",
          "text": [
            "Epoch 1/15\n",
            "33/33 [==============================] - 9s 272ms/step - loss: 3.4293 - accuracy: 0.1621 - val_loss: 15.0781 - val_accuracy: 9.4922e-04\n",
            "\n",
            "Epoch 00001: val_accuracy improved from -inf to 0.00095, saving model to best_model_cnn.h5\n",
            "Epoch 2/15\n",
            "33/33 [==============================] - 9s 270ms/step - loss: 1.7885 - accuracy: 0.4012 - val_loss: 13.8372 - val_accuracy: 0.0066\n",
            "\n",
            "Epoch 00002: val_accuracy improved from 0.00095 to 0.00664, saving model to best_model_cnn.h5\n",
            "Epoch 3/15\n",
            "33/33 [==============================] - 9s 275ms/step - loss: 1.4610 - accuracy: 0.5256 - val_loss: 14.0978 - val_accuracy: 0.0024\n",
            "\n",
            "Epoch 00003: val_accuracy did not improve from 0.00664\n",
            "Epoch 4/15\n",
            "33/33 [==============================] - 9s 274ms/step - loss: 1.2492 - accuracy: 0.5976 - val_loss: 14.2149 - val_accuracy: 0.0095\n",
            "\n",
            "Epoch 00004: val_accuracy improved from 0.00664 to 0.00949, saving model to best_model_cnn.h5\n",
            "Epoch 5/15\n",
            "33/33 [==============================] - 9s 274ms/step - loss: 1.0780 - accuracy: 0.6674 - val_loss: 14.4344 - val_accuracy: 0.0161\n",
            "\n",
            "Epoch 00005: val_accuracy improved from 0.00949 to 0.01614, saving model to best_model_cnn.h5\n",
            "Epoch 6/15\n",
            "33/33 [==============================] - 9s 276ms/step - loss: 0.9314 - accuracy: 0.7255 - val_loss: 15.0351 - val_accuracy: 0.0128\n",
            "\n",
            "Epoch 00006: val_accuracy did not improve from 0.01614\n",
            "Epoch 7/15\n",
            "33/33 [==============================] - 9s 277ms/step - loss: 0.7790 - accuracy: 0.7887 - val_loss: 15.5045 - val_accuracy: 0.0185\n",
            "\n",
            "Epoch 00007: val_accuracy improved from 0.01614 to 0.01851, saving model to best_model_cnn.h5\n",
            "Epoch 8/15\n",
            "33/33 [==============================] - 9s 274ms/step - loss: 0.6574 - accuracy: 0.8356 - val_loss: 16.0722 - val_accuracy: 0.0252\n",
            "\n",
            "Epoch 00008: val_accuracy improved from 0.01851 to 0.02515, saving model to best_model_cnn.h5\n",
            "Epoch 9/15\n",
            "33/33 [==============================] - 9s 273ms/step - loss: 0.5378 - accuracy: 0.8827 - val_loss: 16.8385 - val_accuracy: 0.0161\n",
            "\n",
            "Epoch 00009: val_accuracy did not improve from 0.02515\n",
            "Epoch 10/15\n",
            "33/33 [==============================] - 9s 274ms/step - loss: 0.4427 - accuracy: 0.9150 - val_loss: 17.3850 - val_accuracy: 0.0275\n",
            "\n",
            "Epoch 00010: val_accuracy improved from 0.02515 to 0.02753, saving model to best_model_cnn.h5\n",
            "Epoch 11/15\n",
            "33/33 [==============================] - 9s 274ms/step - loss: 0.3512 - accuracy: 0.9462 - val_loss: 18.0265 - val_accuracy: 0.0161\n",
            "\n",
            "Epoch 00011: val_accuracy did not improve from 0.02753\n",
            "Epoch 12/15\n",
            "33/33 [==============================] - 9s 275ms/step - loss: 0.2797 - accuracy: 0.9659 - val_loss: 18.4652 - val_accuracy: 0.0408\n",
            "\n",
            "Epoch 00012: val_accuracy improved from 0.02753 to 0.04082, saving model to best_model_cnn.h5\n",
            "Epoch 13/15\n",
            "33/33 [==============================] - 9s 278ms/step - loss: 0.2200 - accuracy: 0.9785 - val_loss: 19.2316 - val_accuracy: 0.0323\n",
            "\n",
            "Epoch 00013: val_accuracy did not improve from 0.04082\n",
            "Epoch 14/15\n",
            "33/33 [==============================] - 9s 274ms/step - loss: 0.1752 - accuracy: 0.9887 - val_loss: 19.7775 - val_accuracy: 0.0413\n",
            "\n",
            "Epoch 00014: val_accuracy improved from 0.04082 to 0.04129, saving model to best_model_cnn.h5\n",
            "Epoch 15/15\n",
            "33/33 [==============================] - 9s 274ms/step - loss: 0.1384 - accuracy: 0.9932 - val_loss: 20.3934 - val_accuracy: 0.0304\n",
            "\n",
            "Epoch 00015: val_accuracy did not improve from 0.04129\n"
          ]
        }
      ]
    },
    {
      "cell_type": "code",
      "metadata": {
        "id": "GzV8L44w-J-O"
      },
      "source": [
        "import matplotlib.pyplot as plt"
      ],
      "execution_count": 78,
      "outputs": []
    },
    {
      "cell_type": "code",
      "metadata": {
        "colab": {
          "base_uri": "https://localhost:8080/",
          "height": 279
        },
        "id": "7AJZ-ekA-RVZ",
        "outputId": "a6cea3a0-2847-43aa-a756-2b10bf65f556"
      },
      "source": [
        "plt.plot(history_cnn.history['accuracy'], \n",
        "         label='train accuracy')\n",
        "plt.plot(history_cnn.history['val_accuracy'], \n",
        "         label='test accuracy')\n",
        "plt.plot(upd_history_cnn.history['accuracy'], \n",
        "         label='upd train accuracy')\n",
        "plt.plot(upd_history_cnn.history['val_accuracy'], \n",
        "         label='upd test accuracy')\n",
        "plt.xlabel('epoch')\n",
        "plt.ylabel('accuracy')\n",
        "plt.legend()\n",
        "plt.show()"
      ],
      "execution_count": 79,
      "outputs": [
        {
          "output_type": "display_data",
          "data": {
            "image/png": "[encoded data removed]",
            "text/plain": [
              "<Figure size 432x288 with 1 Axes>"
            ]
          },
          "metadata": {
            "needs_background": "light"
          }
        }
      ]
    },
    {
      "cell_type": "code",
      "metadata": {
        "id": "yvM-Xw3x-UqZ"
      },
      "source": [
        "model_lstm = Sequential()\n",
        "model_lstm.add(Embedding(num_words, 32, input_length=max_text_len))\n",
        "model_lstm.add(LSTM(169))\n",
        "model_lstm.add(Dense(13, activation='softmax'))"
      ],
      "execution_count": 80,
      "outputs": []
    },
    {
      "cell_type": "code",
      "metadata": {
        "id": "WH34Zihn-arb"
      },
      "source": [
        "model_lstm.compile(optimizer='adam', \n",
        "              loss='categorical_crossentropy', \n",
        "              metrics=['accuracy'])"
      ],
      "execution_count": 81,
      "outputs": []
    },
    {
      "cell_type": "code",
      "metadata": {
        "colab": {
          "base_uri": "https://localhost:8080/"
        },
        "id": "RUVtD_Pk-g45",
        "outputId": "31e6f0a4-23b4-4145-f182-c17a40577302"
      },
      "source": [
        "model_lstm.summary()"
      ],
      "execution_count": 82,
      "outputs": [
        {
          "output_type": "stream",
          "name": "stdout",
          "text": [
            "Model: \"sequential_3\"\n",
            "_________________________________________________________________\n",
            "Layer (type)                 Output Shape              Param #   \n",
            "=================================================================\n",
            "embedding_3 (Embedding)      (None, 100, 32)           160000    \n",
            "_________________________________________________________________\n",
            "lstm (LSTM)                  (None, 169)               136552    \n",
            "_________________________________________________________________\n",
            "dense_6 (Dense)              (None, 13)                2210      \n",
            "=================================================================\n",
            "Total params: 298,762\n",
            "Trainable params: 298,762\n",
            "Non-trainable params: 0\n",
            "_________________________________________________________________\n"
          ]
        }
      ]
    },
    {
      "cell_type": "code",
      "metadata": {
        "id": "uzELCoLF-lia"
      },
      "source": [
        "model_lstm_save_path = 'best_model_lstm.h5'\n",
        "checkpoint_callback_lstm = ModelCheckpoint(model_lstm_save_path, \n",
        "                                      monitor='val_accuracy',\n",
        "                                      save_best_only=True,\n",
        "                                      verbose=1)\n",
        "upd_model_lstm_save_path = 'upd_best_model_lstm.h5'\n",
        "upd_checkpoint_callback_lstm = ModelCheckpoint(upd_model_lstm_save_path, \n",
        "                                      monitor='val_accuracy',\n",
        "                                      save_best_only=True,\n",
        "                                      verbose=1)"
      ],
      "execution_count": 83,
      "outputs": []
    },
    {
      "cell_type": "code",
      "metadata": {
        "colab": {
          "base_uri": "https://localhost:8080/"
        },
        "id": "9utRAIgN-uep",
        "outputId": "461ffc94-b802-4fb5-8dc0-c8731e2afa60"
      },
      "source": [
        "history_lstm = model_lstm.fit(x_train, \n",
        "                              y_train, \n",
        "                              epochs=15,\n",
        "                              batch_size=256,\n",
        "                              validation_split=0.2,\n",
        "                              callbacks=[checkpoint_callback_lstm])"
      ],
      "execution_count": 84,
      "outputs": [
        {
          "output_type": "stream",
          "name": "stdout",
          "text": [
            "Epoch 1/15\n",
            "33/33 [==============================] - 29s 823ms/step - loss: 2.4434 - accuracy: 0.0940 - val_loss: 5.8013 - val_accuracy: 0.0000e+00\n",
            "\n",
            "Epoch 00001: val_accuracy improved from -inf to 0.00000, saving model to best_model_lstm.h5\n",
            "Epoch 2/15\n",
            "33/33 [==============================] - 27s 809ms/step - loss: 2.3858 - accuracy: 0.0986 - val_loss: 6.1548 - val_accuracy: 0.0000e+00\n",
            "\n",
            "Epoch 00002: val_accuracy did not improve from 0.00000\n",
            "Epoch 3/15\n",
            "33/33 [==============================] - 27s 806ms/step - loss: 2.3665 - accuracy: 0.1462 - val_loss: 5.8168 - val_accuracy: 0.0000e+00\n",
            "\n",
            "Epoch 00003: val_accuracy did not improve from 0.00000\n",
            "Epoch 4/15\n",
            "33/33 [==============================] - 26s 804ms/step - loss: 2.3008 - accuracy: 0.2015 - val_loss: 5.0269 - val_accuracy: 0.0000e+00\n",
            "\n",
            "Epoch 00004: val_accuracy did not improve from 0.00000\n",
            "Epoch 5/15\n",
            "33/33 [==============================] - 26s 804ms/step - loss: 2.1285 - accuracy: 0.2819 - val_loss: 4.9159 - val_accuracy: 0.0000e+00\n",
            "\n",
            "Epoch 00005: val_accuracy did not improve from 0.00000\n",
            "Epoch 6/15\n",
            "33/33 [==============================] - 27s 807ms/step - loss: 1.9185 - accuracy: 0.3738 - val_loss: 5.0209 - val_accuracy: 0.0000e+00\n",
            "\n",
            "Epoch 00006: val_accuracy did not improve from 0.00000\n",
            "Epoch 7/15\n",
            "33/33 [==============================] - 27s 806ms/step - loss: 1.7137 - accuracy: 0.4343 - val_loss: 5.6598 - val_accuracy: 0.0000e+00\n",
            "\n",
            "Epoch 00007: val_accuracy did not improve from 0.00000\n",
            "Epoch 8/15\n",
            "33/33 [==============================] - 27s 818ms/step - loss: 1.5270 - accuracy: 0.4913 - val_loss: 5.8458 - val_accuracy: 0.0000e+00\n",
            "\n",
            "Epoch 00008: val_accuracy did not improve from 0.00000\n",
            "Epoch 9/15\n",
            "33/33 [==============================] - 27s 806ms/step - loss: 1.3690 - accuracy: 0.5462 - val_loss: 6.4645 - val_accuracy: 0.0057\n",
            "\n",
            "Epoch 00009: val_accuracy improved from 0.00000 to 0.00570, saving model to best_model_lstm.h5\n",
            "Epoch 10/15\n",
            "33/33 [==============================] - 27s 812ms/step - loss: 1.2131 - accuracy: 0.6015 - val_loss: 6.1776 - val_accuracy: 0.0109\n",
            "\n",
            "Epoch 00010: val_accuracy improved from 0.00570 to 0.01092, saving model to best_model_lstm.h5\n",
            "Epoch 11/15\n",
            "33/33 [==============================] - 26s 798ms/step - loss: 1.0826 - accuracy: 0.6506 - val_loss: 6.6563 - val_accuracy: 0.0119\n",
            "\n",
            "Epoch 00011: val_accuracy improved from 0.01092 to 0.01187, saving model to best_model_lstm.h5\n",
            "Epoch 12/15\n",
            "33/33 [==============================] - 26s 801ms/step - loss: 0.9664 - accuracy: 0.6889 - val_loss: 6.6240 - val_accuracy: 0.0119\n",
            "\n",
            "Epoch 00012: val_accuracy did not improve from 0.01187\n",
            "Epoch 13/15\n",
            "33/33 [==============================] - 26s 799ms/step - loss: 0.8928 - accuracy: 0.7188 - val_loss: 7.2216 - val_accuracy: 0.0351\n",
            "\n",
            "Epoch 00013: val_accuracy improved from 0.01187 to 0.03512, saving model to best_model_lstm.h5\n",
            "Epoch 14/15\n",
            "33/33 [==============================] - 26s 791ms/step - loss: 0.7715 - accuracy: 0.7608 - val_loss: 7.3500 - val_accuracy: 0.0308\n",
            "\n",
            "Epoch 00014: val_accuracy did not improve from 0.03512\n",
            "Epoch 15/15\n",
            "33/33 [==============================] - 27s 810ms/step - loss: 0.6882 - accuracy: 0.7881 - val_loss: 7.1768 - val_accuracy: 0.0323\n",
            "\n",
            "Epoch 00015: val_accuracy did not improve from 0.03512\n"
          ]
        }
      ]
    },
    {
      "cell_type": "code",
      "metadata": {
        "colab": {
          "base_uri": "https://localhost:8080/"
        },
        "id": "KqosYgBC-xYR",
        "outputId": "a6bf526b-5ce8-46f3-c009-0b34f02e9364"
      },
      "source": [
        "upd_history_lstm = model_lstm.fit(upd_x_train, \n",
        "                              y_train, \n",
        "                              epochs=15,\n",
        "                              batch_size=256,\n",
        "                              validation_split=0.2,\n",
        "                              callbacks=[upd_checkpoint_callback_lstm])"
      ],
      "execution_count": 85,
      "outputs": [
        {
          "output_type": "stream",
          "name": "stdout",
          "text": [
            "Epoch 1/15\n",
            "33/33 [==============================] - 27s 815ms/step - loss: 2.7709 - accuracy: 0.1129 - val_loss: 3.2787 - val_accuracy: 0.0028\n",
            "\n",
            "Epoch 00001: val_accuracy improved from -inf to 0.00285, saving model to upd_best_model_lstm.h5\n",
            "Epoch 2/15\n",
            "33/33 [==============================] - 27s 816ms/step - loss: 2.3820 - accuracy: 0.1758 - val_loss: 3.9594 - val_accuracy: 4.7461e-04\n",
            "\n",
            "Epoch 00002: val_accuracy did not improve from 0.00285\n",
            "Epoch 3/15\n",
            "33/33 [==============================] - 27s 822ms/step - loss: 2.2224 - accuracy: 0.2297 - val_loss: 4.9321 - val_accuracy: 4.7461e-04\n",
            "\n",
            "Epoch 00003: val_accuracy did not improve from 0.00285\n",
            "Epoch 4/15\n",
            "33/33 [==============================] - 27s 808ms/step - loss: 2.0095 - accuracy: 0.3112 - val_loss: 5.9376 - val_accuracy: 0.0000e+00\n",
            "\n",
            "Epoch 00004: val_accuracy did not improve from 0.00285\n",
            "Epoch 5/15\n",
            "33/33 [==============================] - 26s 790ms/step - loss: 1.7581 - accuracy: 0.3995 - val_loss: 5.8749 - val_accuracy: 0.0066\n",
            "\n",
            "Epoch 00005: val_accuracy improved from 0.00285 to 0.00664, saving model to upd_best_model_lstm.h5\n",
            "Epoch 6/15\n",
            "33/33 [==============================] - 26s 793ms/step - loss: 1.5496 - accuracy: 0.4738 - val_loss: 6.1956 - val_accuracy: 0.0157\n",
            "\n",
            "Epoch 00006: val_accuracy improved from 0.00664 to 0.01566, saving model to upd_best_model_lstm.h5\n",
            "Epoch 7/15\n",
            "33/33 [==============================] - 26s 801ms/step - loss: 1.3836 - accuracy: 0.5360 - val_loss: 6.2261 - val_accuracy: 0.0209\n",
            "\n",
            "Epoch 00007: val_accuracy improved from 0.01566 to 0.02088, saving model to upd_best_model_lstm.h5\n",
            "Epoch 8/15\n",
            "33/33 [==============================] - 26s 794ms/step - loss: 1.2409 - accuracy: 0.5886 - val_loss: 6.8054 - val_accuracy: 0.0304\n",
            "\n",
            "Epoch 00008: val_accuracy improved from 0.02088 to 0.03037, saving model to upd_best_model_lstm.h5\n",
            "Epoch 9/15\n",
            "33/33 [==============================] - 26s 793ms/step - loss: 1.1192 - accuracy: 0.6274 - val_loss: 6.8980 - val_accuracy: 0.0318\n",
            "\n",
            "Epoch 00009: val_accuracy improved from 0.03037 to 0.03180, saving model to upd_best_model_lstm.h5\n",
            "Epoch 10/15\n",
            "33/33 [==============================] - 26s 795ms/step - loss: 1.0122 - accuracy: 0.6706 - val_loss: 7.1786 - val_accuracy: 0.0351\n",
            "\n",
            "Epoch 00010: val_accuracy improved from 0.03180 to 0.03512, saving model to upd_best_model_lstm.h5\n",
            "Epoch 11/15\n",
            "33/33 [==============================] - 26s 793ms/step - loss: 0.8992 - accuracy: 0.7132 - val_loss: 7.9201 - val_accuracy: 0.0318\n",
            "\n",
            "Epoch 00011: val_accuracy did not improve from 0.03512\n",
            "Epoch 12/15\n",
            "33/33 [==============================] - 26s 804ms/step - loss: 0.8058 - accuracy: 0.7448 - val_loss: 7.5573 - val_accuracy: 0.0432\n",
            "\n",
            "Epoch 00012: val_accuracy improved from 0.03512 to 0.04319, saving model to upd_best_model_lstm.h5\n",
            "Epoch 13/15\n",
            "33/33 [==============================] - 26s 801ms/step - loss: 0.7298 - accuracy: 0.7748 - val_loss: 7.5775 - val_accuracy: 0.0517\n",
            "\n",
            "Epoch 00013: val_accuracy improved from 0.04319 to 0.05173, saving model to upd_best_model_lstm.h5\n",
            "Epoch 14/15\n",
            "33/33 [==============================] - 27s 805ms/step - loss: 0.6558 - accuracy: 0.7982 - val_loss: 7.2791 - val_accuracy: 0.0570\n",
            "\n",
            "Epoch 00014: val_accuracy improved from 0.05173 to 0.05695, saving model to upd_best_model_lstm.h5\n",
            "Epoch 15/15\n",
            "33/33 [==============================] - 26s 799ms/step - loss: 0.6049 - accuracy: 0.8210 - val_loss: 8.0284 - val_accuracy: 0.0370\n",
            "\n",
            "Epoch 00015: val_accuracy did not improve from 0.05695\n"
          ]
        }
      ]
    },
    {
      "cell_type": "code",
      "metadata": {
        "colab": {
          "base_uri": "https://localhost:8080/",
          "height": 279
        },
        "id": "a-AGfS6g-016",
        "outputId": "e43a5dc2-fd8d-49ec-bc8a-beb83b4ffc97"
      },
      "source": [
        "plt.plot(history_lstm.history['accuracy'], \n",
        "         label='train accuracy')\n",
        "plt.plot(history_lstm.history['val_accuracy'], \n",
        "         label='test accuracy')\n",
        "plt.plot(upd_history_lstm.history['accuracy'], \n",
        "         label='upd train accuracy')\n",
        "plt.plot(upd_history_lstm.history['val_accuracy'], \n",
        "         label='upd test accuracy')\n",
        "plt.xlabel('epoch')\n",
        "plt.ylabel('accuracy')\n",
        "plt.legend()\n",
        "plt.show()"
      ],
      "execution_count": 86,
      "outputs": [
        {
          "output_type": "display_data",
          "data": {
            "image/png": "[encoded data removed]",
            "text/plain": [
              "<Figure size 432x288 with 1 Axes>"
            ]
          },
          "metadata": {
            "needs_background": "light"
          }
        }
      ]
    },
    {
      "cell_type": "code",
      "metadata": {
        "id": "YjR_EIRS-5Gh"
      },
      "source": [
        "model_gru = Sequential()\n",
        "model_gru.add(Embedding(num_words, 32, input_length=max_text_len))\n",
        "model_gru.add(GRU(169))\n",
        "model_gru.add(Dense(13, activation='softmax'))"
      ],
      "execution_count": 87,
      "outputs": []
    },
    {
      "cell_type": "code",
      "metadata": {
        "id": "kB-wufox-77S"
      },
      "source": [
        "model_gru.compile(optimizer='adam', \n",
        "              loss='categorical_crossentropy', \n",
        "              metrics=['accuracy'])"
      ],
      "execution_count": 88,
      "outputs": []
    },
    {
      "cell_type": "code",
      "metadata": {
        "colab": {
          "base_uri": "https://localhost:8080/"
        },
        "id": "7KmQ6JoI-9s6",
        "outputId": "d5e8abcc-78ff-4cca-97ec-c593ad1522ec"
      },
      "source": [
        "model_gru.summary()"
      ],
      "execution_count": 89,
      "outputs": [
        {
          "output_type": "stream",
          "name": "stdout",
          "text": [
            "Model: \"sequential_4\"\n",
            "_________________________________________________________________\n",
            "Layer (type)                 Output Shape              Param #   \n",
            "=================================================================\n",
            "embedding_4 (Embedding)      (None, 100, 32)           160000    \n",
            "_________________________________________________________________\n",
            "gru (GRU)                    (None, 169)               102921    \n",
            "_________________________________________________________________\n",
            "dense_7 (Dense)              (None, 13)                2210      \n",
            "=================================================================\n",
            "Total params: 265,131\n",
            "Trainable params: 265,131\n",
            "Non-trainable params: 0\n",
            "_________________________________________________________________\n"
          ]
        }
      ]
    },
    {
      "cell_type": "code",
      "metadata": {
        "id": "GiUogDyi-_wi"
      },
      "source": [
        "model_gru_save_path = 'best_model_gru.h5'\n",
        "checkpoint_callback_gru = ModelCheckpoint(model_gru_save_path, \n",
        "                                      monitor='val_accuracy',\n",
        "                                      save_best_only=True,\n",
        "                                      verbose=1)\n",
        "upd_model_gru_save_path = 'upd_best_model_gru.h5'\n",
        "upd_checkpoint_callback_gru = ModelCheckpoint(upd_model_gru_save_path, \n",
        "                                      monitor='val_accuracy',\n",
        "                                      save_best_only=True,\n",
        "                                      verbose=1)"
      ],
      "execution_count": 90,
      "outputs": []
    },
    {
      "cell_type": "code",
      "metadata": {
        "colab": {
          "base_uri": "https://localhost:8080/"
        },
        "id": "5xlYHHMw_DaR",
        "outputId": "aea0fc7a-fd8c-4dad-df1b-969806394fa4"
      },
      "source": [
        "upd_history_gru = model_gru.fit(upd_x_train, \n",
        "                              y_train, \n",
        "                              epochs=15,\n",
        "                              batch_size=256,\n",
        "                              validation_split=0.2,\n",
        "                              callbacks=[upd_checkpoint_callback_gru])"
      ],
      "execution_count": 91,
      "outputs": [
        {
          "output_type": "stream",
          "name": "stdout",
          "text": [
            "Epoch 1/15\n",
            "33/33 [==============================] - 25s 685ms/step - loss: 2.4602 - accuracy: 0.0957 - val_loss: 4.7888 - val_accuracy: 0.0000e+00\n",
            "\n",
            "Epoch 00001: val_accuracy improved from -inf to 0.00000, saving model to upd_best_model_gru.h5\n",
            "Epoch 2/15\n",
            "33/33 [==============================] - 22s 667ms/step - loss: 2.3720 - accuracy: 0.1397 - val_loss: 6.3306 - val_accuracy: 0.0000e+00\n",
            "\n",
            "Epoch 00002: val_accuracy did not improve from 0.00000\n",
            "Epoch 3/15\n",
            "33/33 [==============================] - 22s 669ms/step - loss: 2.3319 - accuracy: 0.1816 - val_loss: 5.9257 - val_accuracy: 0.0000e+00\n",
            "\n",
            "Epoch 00003: val_accuracy did not improve from 0.00000\n",
            "Epoch 4/15\n",
            "33/33 [==============================] - 22s 672ms/step - loss: 2.1994 - accuracy: 0.2954 - val_loss: 5.7015 - val_accuracy: 0.0000e+00\n",
            "\n",
            "Epoch 00004: val_accuracy did not improve from 0.00000\n",
            "Epoch 5/15\n",
            "33/33 [==============================] - 22s 670ms/step - loss: 1.9358 - accuracy: 0.3769 - val_loss: 6.0111 - val_accuracy: 0.0000e+00\n",
            "\n",
            "Epoch 00005: val_accuracy did not improve from 0.00000\n",
            "Epoch 6/15\n",
            "33/33 [==============================] - 22s 670ms/step - loss: 1.6483 - accuracy: 0.4588 - val_loss: 5.7077 - val_accuracy: 0.0000e+00\n",
            "\n",
            "Epoch 00006: val_accuracy did not improve from 0.00000\n",
            "Epoch 7/15\n",
            "33/33 [==============================] - 22s 670ms/step - loss: 1.4591 - accuracy: 0.5166 - val_loss: 5.3917 - val_accuracy: 9.4922e-04\n",
            "\n",
            "Epoch 00007: val_accuracy improved from 0.00000 to 0.00095, saving model to upd_best_model_gru.h5\n",
            "Epoch 8/15\n",
            "33/33 [==============================] - 22s 670ms/step - loss: 1.2863 - accuracy: 0.5791 - val_loss: 6.2105 - val_accuracy: 0.0014\n",
            "\n",
            "Epoch 00008: val_accuracy improved from 0.00095 to 0.00142, saving model to upd_best_model_gru.h5\n",
            "Epoch 9/15\n",
            "33/33 [==============================] - 22s 671ms/step - loss: 1.1345 - accuracy: 0.6292 - val_loss: 6.2901 - val_accuracy: 0.0076\n",
            "\n",
            "Epoch 00009: val_accuracy improved from 0.00142 to 0.00759, saving model to upd_best_model_gru.h5\n",
            "Epoch 10/15\n",
            "33/33 [==============================] - 22s 675ms/step - loss: 1.0010 - accuracy: 0.6779 - val_loss: 7.0633 - val_accuracy: 0.0142\n",
            "\n",
            "Epoch 00010: val_accuracy improved from 0.00759 to 0.01424, saving model to upd_best_model_gru.h5\n",
            "Epoch 11/15\n",
            "33/33 [==============================] - 22s 675ms/step - loss: 0.8800 - accuracy: 0.7161 - val_loss: 7.0223 - val_accuracy: 0.0185\n",
            "\n",
            "Epoch 00011: val_accuracy improved from 0.01424 to 0.01851, saving model to upd_best_model_gru.h5\n",
            "Epoch 12/15\n",
            "33/33 [==============================] - 22s 662ms/step - loss: 0.7995 - accuracy: 0.7430 - val_loss: 7.3664 - val_accuracy: 0.0185\n",
            "\n",
            "Epoch 00012: val_accuracy did not improve from 0.01851\n",
            "Epoch 13/15\n",
            "33/33 [==============================] - 22s 670ms/step - loss: 0.6919 - accuracy: 0.7799 - val_loss: 7.3266 - val_accuracy: 0.0204\n",
            "\n",
            "Epoch 00013: val_accuracy improved from 0.01851 to 0.02041, saving model to upd_best_model_gru.h5\n",
            "Epoch 14/15\n",
            "33/33 [==============================] - 22s 660ms/step - loss: 0.6190 - accuracy: 0.8095 - val_loss: 7.5313 - val_accuracy: 0.0294\n",
            "\n",
            "Epoch 00014: val_accuracy improved from 0.02041 to 0.02943, saving model to upd_best_model_gru.h5\n",
            "Epoch 15/15\n",
            "33/33 [==============================] - 22s 665ms/step - loss: 0.5529 - accuracy: 0.8350 - val_loss: 7.8012 - val_accuracy: 0.0313\n",
            "\n",
            "Epoch 00015: val_accuracy improved from 0.02943 to 0.03132, saving model to upd_best_model_gru.h5\n"
          ]
        }
      ]
    },
    {
      "cell_type": "code",
      "metadata": {
        "colab": {
          "base_uri": "https://localhost:8080/"
        },
        "id": "vzfEnPPF_FaJ",
        "outputId": "af0ada09-a9b3-4edb-e212-0f2cd8129434"
      },
      "source": [
        "history_gru = model_gru.fit(x_train, \n",
        "                              y_train, \n",
        "                              epochs=15,\n",
        "                              batch_size=256,\n",
        "                              validation_split=0.2,\n",
        "                              callbacks=[checkpoint_callback_gru])"
      ],
      "execution_count": 92,
      "outputs": [
        {
          "output_type": "stream",
          "name": "stdout",
          "text": [
            "Epoch 1/15\n",
            "33/33 [==============================] - 22s 663ms/step - loss: 3.0766 - accuracy: 0.1085 - val_loss: 3.2443 - val_accuracy: 0.0085\n",
            "\n",
            "Epoch 00001: val_accuracy improved from -inf to 0.00854, saving model to best_model_gru.h5\n",
            "Epoch 2/15\n",
            "33/33 [==============================] - 22s 658ms/step - loss: 2.4003 - accuracy: 0.1771 - val_loss: 3.9564 - val_accuracy: 9.4922e-04\n",
            "\n",
            "Epoch 00002: val_accuracy did not improve from 0.00854\n",
            "Epoch 3/15\n",
            "33/33 [==============================] - 22s 663ms/step - loss: 2.2256 - accuracy: 0.2304 - val_loss: 4.6098 - val_accuracy: 4.7461e-04\n",
            "\n",
            "Epoch 00003: val_accuracy did not improve from 0.00854\n",
            "Epoch 4/15\n",
            "33/33 [==============================] - 22s 672ms/step - loss: 2.0986 - accuracy: 0.2818 - val_loss: 5.2152 - val_accuracy: 4.7461e-04\n",
            "\n",
            "Epoch 00004: val_accuracy did not improve from 0.00854\n",
            "Epoch 5/15\n",
            "33/33 [==============================] - 22s 666ms/step - loss: 1.9655 - accuracy: 0.3339 - val_loss: 5.7498 - val_accuracy: 4.7461e-04\n",
            "\n",
            "Epoch 00005: val_accuracy did not improve from 0.00854\n",
            "Epoch 6/15\n",
            "33/33 [==============================] - 22s 664ms/step - loss: 1.7868 - accuracy: 0.3983 - val_loss: 6.2434 - val_accuracy: 0.0057\n",
            "\n",
            "Epoch 00006: val_accuracy did not improve from 0.00854\n",
            "Epoch 7/15\n",
            "33/33 [==============================] - 22s 673ms/step - loss: 1.5999 - accuracy: 0.4678 - val_loss: 6.5730 - val_accuracy: 0.0085\n",
            "\n",
            "Epoch 00007: val_accuracy did not improve from 0.00854\n",
            "Epoch 8/15\n",
            "33/33 [==============================] - 22s 667ms/step - loss: 1.4435 - accuracy: 0.5186 - val_loss: 6.7960 - val_accuracy: 0.0190\n",
            "\n",
            "Epoch 00008: val_accuracy improved from 0.00854 to 0.01898, saving model to best_model_gru.h5\n",
            "Epoch 9/15\n",
            "33/33 [==============================] - 22s 659ms/step - loss: 1.2930 - accuracy: 0.5712 - val_loss: 7.1740 - val_accuracy: 0.0242\n",
            "\n",
            "Epoch 00009: val_accuracy improved from 0.01898 to 0.02421, saving model to best_model_gru.h5\n",
            "Epoch 10/15\n",
            "33/33 [==============================] - 22s 661ms/step - loss: 1.1559 - accuracy: 0.6161 - val_loss: 7.2134 - val_accuracy: 0.0252\n",
            "\n",
            "Epoch 00010: val_accuracy improved from 0.02421 to 0.02515, saving model to best_model_gru.h5\n",
            "Epoch 11/15\n",
            "33/33 [==============================] - 22s 665ms/step - loss: 1.0221 - accuracy: 0.6678 - val_loss: 7.7223 - val_accuracy: 0.0256\n",
            "\n",
            "Epoch 00011: val_accuracy improved from 0.02515 to 0.02563, saving model to best_model_gru.h5\n",
            "Epoch 12/15\n",
            "33/33 [==============================] - 22s 661ms/step - loss: 0.9057 - accuracy: 0.7058 - val_loss: 7.7534 - val_accuracy: 0.0195\n",
            "\n",
            "Epoch 00012: val_accuracy did not improve from 0.02563\n",
            "Epoch 13/15\n",
            "33/33 [==============================] - 22s 658ms/step - loss: 0.7974 - accuracy: 0.7449 - val_loss: 8.0678 - val_accuracy: 0.0266\n",
            "\n",
            "Epoch 00013: val_accuracy improved from 0.02563 to 0.02658, saving model to best_model_gru.h5\n",
            "Epoch 14/15\n",
            "33/33 [==============================] - 22s 659ms/step - loss: 0.7081 - accuracy: 0.7796 - val_loss: 8.4993 - val_accuracy: 0.0327\n",
            "\n",
            "Epoch 00014: val_accuracy improved from 0.02658 to 0.03275, saving model to best_model_gru.h5\n",
            "Epoch 15/15\n",
            "33/33 [==============================] - 22s 661ms/step - loss: 0.6342 - accuracy: 0.8008 - val_loss: 8.4841 - val_accuracy: 0.0361\n",
            "\n",
            "Epoch 00015: val_accuracy improved from 0.03275 to 0.03607, saving model to best_model_gru.h5\n"
          ]
        }
      ]
    },
    {
      "cell_type": "code",
      "metadata": {
        "colab": {
          "base_uri": "https://localhost:8080/",
          "height": 279
        },
        "id": "DAQxv3xY_KeR",
        "outputId": "6ada1c6e-144e-4e88-ddc3-fc1991e0ba18"
      },
      "source": [
        "plt.plot(history_gru.history['accuracy'], \n",
        "         label='train accuracy')\n",
        "plt.plot(history_gru.history['val_accuracy'], \n",
        "         label='test accuracy')\n",
        "plt.plot(upd_history_gru.history['accuracy'], \n",
        "         label='upd train accuracy')\n",
        "plt.plot(upd_history_gru.history['val_accuracy'], \n",
        "         label='upd test accuracy')\n",
        "plt.xlabel('epoch')\n",
        "plt.ylabel('accuracy')\n",
        "plt.legend()\n",
        "plt.show()"
      ],
      "execution_count": 93,
      "outputs": [
        {
          "output_type": "display_data",
          "data": {
            "image/png": "[encoded data removed]",
            "text/plain": [
              "<Figure size 432x288 with 1 Axes>"
            ]
          },
          "metadata": {
            "needs_background": "light"
          }
        }
      ]
    },
    {
      "cell_type": "code",
      "metadata": {
        "id": "GVQ9bwhnIVlM"
      },
      "source": [
        "y_test = utils.to_categorical(test['THEME'],file_names_size)"
      ],
      "execution_count": 190,
      "outputs": []
    },
    {
      "cell_type": "code",
      "metadata": {
        "id": "vUx1OyUD_NKh"
      },
      "source": [
        "x_test = test['MESSAGE']"
      ],
      "execution_count": 191,
      "outputs": []
    },
    {
      "cell_type": "code",
      "metadata": {
        "id": "-u9nnNYqAtzS"
      },
      "source": [
        "upd_x_test = []\n",
        "\n",
        "for i in x_test:\n",
        "  upd_test = token_and_stem(i)\n",
        "  upd_x_test.append(upd_test)"
      ],
      "execution_count": null,
      "outputs": []
    },
    {
      "cell_type": "code",
      "metadata": {
        "id": "ZQ1KkyVKA83P"
      },
      "source": [
        "tokens = []\n",
        "upd_test = []\n",
        "\n",
        "for x_tr in upd_x_test:\n",
        "  for token in x_tr:\n",
        "    if token not in stopwords:\n",
        "      tokens.append(token)\n",
        "  upd_test.append(tokens)\n",
        "  tokens = []"
      ],
      "execution_count": 193,
      "outputs": []
    },
    {
      "cell_type": "code",
      "metadata": {
        "id": "-BBWfYpyA9Vc"
      },
      "source": [
        "test_sequences = tokenizer.texts_to_sequences(x_test)\n",
        "upd_test_sequences = upd_tokenizer.texts_to_sequences(upd_test)"
      ],
      "execution_count": 194,
      "outputs": []
    },
    {
      "cell_type": "code",
      "metadata": {
        "id": "GYnj0nuwBDdq"
      },
      "source": [
        "x_test = pad_sequences(test_sequences, maxlen=max_text_len)\n",
        "upd_x_test = pad_sequences(upd_test_sequences, maxlen=max_text_len)"
      ],
      "execution_count": 195,
      "outputs": []
    },
    {
      "cell_type": "code",
      "metadata": {
        "colab": {
          "base_uri": "https://localhost:8080/"
        },
        "id": "n3EoR0IpBHw6",
        "outputId": "af5b9e7a-c4b0-4709-b642-a34829bea587"
      },
      "source": [
        "model_cnn.load_weights(model_cnn_save_path)\n",
        "model_cnn.evaluate(x_test, y_test, verbose=1)"
      ],
      "execution_count": 196,
      "outputs": [
        {
          "output_type": "stream",
          "name": "stdout",
          "text": [
            "83/83 [==============================] - 1s 10ms/step - loss: 6.1924 - accuracy: 0.2964\n"
          ]
        },
        {
          "output_type": "execute_result",
          "data": {
            "text/plain": [
              "[6.192416667938232, 0.29643669724464417]"
            ]
          },
          "metadata": {},
          "execution_count": 196
        }
      ]
    },
    {
      "cell_type": "code",
      "metadata": {
        "id": "8Zo03F-7TMQz"
      },
      "source": [
        "from sklearn.metrics import classification_report"
      ],
      "execution_count": 197,
      "outputs": []
    },
    {
      "cell_type": "code",
      "metadata": {
        "colab": {
          "base_uri": "https://localhost:8080/"
        },
        "id": "tYJLE3uMWYgd",
        "outputId": "ad9f236b-3c7a-4304-e6f1-72b2567d2a48"
      },
      "source": [
        "pred = model_cnn.predict(x_test, batch_size = 32)\n",
        "pred = np.argmax(pred, axis=1)\n",
        "pred"
      ],
      "execution_count": 198,
      "outputs": [
        {
          "output_type": "execute_result",
          "data": {
            "text/plain": [
              "array([ 5, 10,  3, ...,  2,  6,  8])"
            ]
          },
          "metadata": {},
          "execution_count": 198
        }
      ]
    },
    {
      "cell_type": "code",
      "metadata": {
        "colab": {
          "base_uri": "https://localhost:8080/"
        },
        "id": "q8xVnRiWWdJj",
        "outputId": "8198efa8-fe3b-4c0a-d1ea-b3a1e3d725b9"
      },
      "source": [
        "answer_y_test = np.argmax(y_test, axis=1)\n",
        "answer_y_test"
      ],
      "execution_count": 199,
      "outputs": [
        {
          "output_type": "execute_result",
          "data": {
            "text/plain": [
              "array([ 0,  0,  0, ..., 12, 12, 12])"
            ]
          },
          "metadata": {},
          "execution_count": 199
        }
      ]
    },
    {
      "cell_type": "code",
      "metadata": {
        "colab": {
          "base_uri": "https://localhost:8080/"
        },
        "id": "c6hy7IOgWXr3",
        "outputId": "3e237c21-9434-4372-a54b-9c480798c3f8"
      },
      "source": [
        "print(answer_y_test.shape, pred.shape)\n",
        "print(answer_y_test[:5], pred[:5])\n",
        "\n",
        "print(classification_report(answer_y_test, pred))"
      ],
      "execution_count": 200,
      "outputs": [
        {
          "output_type": "stream",
          "name": "stdout",
          "text": [
            "(2638,) (2638,)\n",
            "[0 0 0 0 0] [ 5 10  3  3  5]\n",
            "              precision    recall  f1-score   support\n",
            "\n",
            "           0       0.34      0.26      0.29       203\n",
            "           1       0.25      0.33      0.29       203\n",
            "           2       0.24      0.30      0.26       202\n",
            "           3       0.28      0.41      0.33       201\n",
            "           4       0.39      0.40      0.40       202\n",
            "           5       0.11      0.15      0.13       201\n",
            "           6       0.43      0.61      0.51       205\n",
            "           7       0.29      0.41      0.34       202\n",
            "           8       0.43      0.47      0.45       203\n",
            "           9       0.24      0.29      0.26       204\n",
            "          10       0.30      0.23      0.26       203\n",
            "          11       0.00      0.00      0.00       205\n",
            "          12       0.00      0.00      0.00       204\n",
            "\n",
            "    accuracy                           0.30      2638\n",
            "   macro avg       0.25      0.30      0.27      2638\n",
            "weighted avg       0.25      0.30      0.27      2638\n",
            "\n"
          ]
        },
        {
          "output_type": "stream",
          "name": "stderr",
          "text": [
            "/usr/local/lib/python3.7/dist-packages/sklearn/metrics/_classification.py:1272: UndefinedMetricWarning: Precision and F-score are ill-defined and being set to 0.0 in labels with no predicted samples. Use `zero_division` parameter to control this behavior.\n",
            "  _warn_prf(average, modifier, msg_start, len(result))\n"
          ]
        }
      ]
    },
    {
      "cell_type": "code",
      "metadata": {
        "colab": {
          "base_uri": "https://localhost:8080/"
        },
        "id": "DnaMR8CFBKCK",
        "outputId": "6ebb54e2-e7fe-4397-9470-3662cbb4eb7f"
      },
      "source": [
        "model_cnn.load_weights(upd_model_cnn_save_path)\n",
        "model_cnn.evaluate(upd_x_test, y_test, verbose=1)"
      ],
      "execution_count": 219,
      "outputs": [
        {
          "output_type": "stream",
          "name": "stdout",
          "text": [
            "83/83 [==============================] - 1s 10ms/step - loss: 5.9745 - accuracy: 0.3438\n"
          ]
        },
        {
          "output_type": "execute_result",
          "data": {
            "text/plain": [
              "[5.974453449249268, 0.34382107853889465]"
            ]
          },
          "metadata": {},
          "execution_count": 219
        }
      ]
    },
    {
      "cell_type": "code",
      "metadata": {
        "colab": {
          "base_uri": "https://localhost:8080/"
        },
        "id": "E-yRK2StZces",
        "outputId": "6cc54d70-968e-4176-dde7-600c0e911ea3"
      },
      "source": [
        "pred = model_cnn.predict(upd_x_test, batch_size = 32)\n",
        "pred = np.argmax(pred, axis=1)\n",
        "pred"
      ],
      "execution_count": 220,
      "outputs": [
        {
          "output_type": "execute_result",
          "data": {
            "text/plain": [
              "array([ 0, 10,  9, ...,  4,  6,  9])"
            ]
          },
          "metadata": {},
          "execution_count": 220
        }
      ]
    },
    {
      "cell_type": "code",
      "metadata": {
        "colab": {
          "base_uri": "https://localhost:8080/"
        },
        "id": "kSutH0OMbl4S",
        "outputId": "4ee4a7f3-59aa-4904-f36e-e79ec3dc6806"
      },
      "source": [
        "print(answer_y_test.shape, pred.shape)\n",
        "print(answer_y_test[:10], pred[:10])\n",
        "\n",
        "print(classification_report(answer_y_test, pred))"
      ],
      "execution_count": 221,
      "outputs": [
        {
          "output_type": "stream",
          "name": "stdout",
          "text": [
            "(2638,) (2638,)\n",
            "[0 0 0 0 0 0 0 0 0 0] [ 0 10  9  2  0  0  0  5  0  2]\n",
            "              precision    recall  f1-score   support\n",
            "\n",
            "           0       0.36      0.37      0.36       203\n",
            "           1       0.27      0.29      0.28       203\n",
            "           2       0.21      0.42      0.28       202\n",
            "           3       0.38      0.38      0.38       201\n",
            "           4       0.43      0.54      0.48       202\n",
            "           5       0.12      0.15      0.14       201\n",
            "           6       0.61      0.66      0.63       205\n",
            "           7       0.42      0.53      0.47       202\n",
            "           8       0.50      0.49      0.49       203\n",
            "           9       0.30      0.39      0.34       204\n",
            "          10       0.28      0.25      0.27       203\n",
            "          11       0.00      0.00      0.00       205\n",
            "          12       0.00      0.00      0.00       204\n",
            "\n",
            "    accuracy                           0.34      2638\n",
            "   macro avg       0.30      0.34      0.32      2638\n",
            "weighted avg       0.30      0.34      0.32      2638\n",
            "\n"
          ]
        },
        {
          "output_type": "stream",
          "name": "stderr",
          "text": [
            "/usr/local/lib/python3.7/dist-packages/sklearn/metrics/_classification.py:1272: UndefinedMetricWarning: Precision and F-score are ill-defined and being set to 0.0 in labels with no predicted samples. Use `zero_division` parameter to control this behavior.\n",
            "  _warn_prf(average, modifier, msg_start, len(result))\n"
          ]
        }
      ]
    },
    {
      "cell_type": "code",
      "metadata": {
        "colab": {
          "base_uri": "https://localhost:8080/"
        },
        "id": "dconc3RnBMvi",
        "outputId": "91967198-a6f4-4c74-fb2e-a6183041e997"
      },
      "source": [
        "model_lstm.load_weights(model_lstm_save_path)\n",
        "model_lstm.evaluate(x_test, y_test, verbose=1)"
      ],
      "execution_count": 216,
      "outputs": [
        {
          "output_type": "stream",
          "name": "stdout",
          "text": [
            "83/83 [==============================] - 6s 67ms/step - loss: 3.2503 - accuracy: 0.2911\n"
          ]
        },
        {
          "output_type": "execute_result",
          "data": {
            "text/plain": [
              "[3.2503223419189453, 0.2911296486854553]"
            ]
          },
          "metadata": {},
          "execution_count": 216
        }
      ]
    },
    {
      "cell_type": "code",
      "metadata": {
        "colab": {
          "base_uri": "https://localhost:8080/"
        },
        "id": "P4GsisTPcdcG",
        "outputId": "8d43d0dc-0164-478d-dd30-3b863891c27c"
      },
      "source": [
        "pred = model_lstm.predict(x_test, batch_size = 32)\n",
        "pred = np.argmax(pred, axis=1)\n",
        "pred"
      ],
      "execution_count": 217,
      "outputs": [
        {
          "output_type": "execute_result",
          "data": {
            "text/plain": [
              "array([ 0,  0,  3, ..., 10,  2,  3])"
            ]
          },
          "metadata": {},
          "execution_count": 217
        }
      ]
    },
    {
      "cell_type": "code",
      "metadata": {
        "colab": {
          "base_uri": "https://localhost:8080/"
        },
        "id": "2hJO_lU6coHm",
        "outputId": "82e6e9c6-94dc-47e0-aaeb-0f5d05974869"
      },
      "source": [
        "print(answer_y_test.shape, pred.shape)\n",
        "print(answer_y_test[:10], pred[:10])\n",
        "\n",
        "print(classification_report(answer_y_test, pred))"
      ],
      "execution_count": 218,
      "outputs": [
        {
          "output_type": "stream",
          "name": "stdout",
          "text": [
            "(2638,) (2638,)\n",
            "[0 0 0 0 0 0 0 0 0 0] [0 0 3 5 4 4 3 0 2 2]\n",
            "              precision    recall  f1-score   support\n",
            "\n",
            "           0       0.30      0.22      0.25       203\n",
            "           1       0.30      0.25      0.27       203\n",
            "           2       0.18      0.43      0.26       202\n",
            "           3       0.38      0.35      0.37       201\n",
            "           4       0.33      0.49      0.39       202\n",
            "           5       0.11      0.15      0.13       201\n",
            "           6       0.47      0.75      0.58       205\n",
            "           7       0.35      0.36      0.35       202\n",
            "           8       0.46      0.40      0.43       203\n",
            "           9       0.18      0.21      0.19       204\n",
            "          10       0.26      0.18      0.21       203\n",
            "          11       0.00      0.00      0.00       205\n",
            "          12       0.00      0.00      0.00       204\n",
            "\n",
            "    accuracy                           0.29      2638\n",
            "   macro avg       0.26      0.29      0.26      2638\n",
            "weighted avg       0.26      0.29      0.26      2638\n",
            "\n"
          ]
        },
        {
          "output_type": "stream",
          "name": "stderr",
          "text": [
            "/usr/local/lib/python3.7/dist-packages/sklearn/metrics/_classification.py:1272: UndefinedMetricWarning: Precision and F-score are ill-defined and being set to 0.0 in labels with no predicted samples. Use `zero_division` parameter to control this behavior.\n",
            "  _warn_prf(average, modifier, msg_start, len(result))\n"
          ]
        }
      ]
    },
    {
      "cell_type": "code",
      "metadata": {
        "colab": {
          "base_uri": "https://localhost:8080/"
        },
        "id": "-OE3UTn0I4qu",
        "outputId": "ca177532-29a1-4813-a960-7b9ceb12810f"
      },
      "source": [
        "model_lstm.load_weights(upd_model_lstm_save_path)\n",
        "model_lstm.evaluate(upd_x_test, y_test, verbose=1)"
      ],
      "execution_count": 222,
      "outputs": [
        {
          "output_type": "stream",
          "name": "stdout",
          "text": [
            "83/83 [==============================] - 6s 67ms/step - loss: 3.2910 - accuracy: 0.3108\n"
          ]
        },
        {
          "output_type": "execute_result",
          "data": {
            "text/plain": [
              "[3.2910397052764893, 0.31084156036376953]"
            ]
          },
          "metadata": {},
          "execution_count": 222
        }
      ]
    },
    {
      "cell_type": "code",
      "metadata": {
        "colab": {
          "base_uri": "https://localhost:8080/"
        },
        "id": "KvAzKzF9dYxW",
        "outputId": "25967bee-df0b-4bc3-b6cc-6a723879c005"
      },
      "source": [
        "pred = model_lstm.predict(upd_x_test, batch_size = 32)\n",
        "pred = np.argmax(pred, axis=1)\n",
        "pred"
      ],
      "execution_count": 223,
      "outputs": [
        {
          "output_type": "execute_result",
          "data": {
            "text/plain": [
              "array([ 7, 10,  8, ...,  4,  2,  8])"
            ]
          },
          "metadata": {},
          "execution_count": 223
        }
      ]
    },
    {
      "cell_type": "code",
      "metadata": {
        "colab": {
          "base_uri": "https://localhost:8080/"
        },
        "id": "vNobHpbNdhrX",
        "outputId": "78570b6b-b7ad-4867-bcac-e5569f7926e1"
      },
      "source": [
        "print(answer_y_test.shape, pred.shape)\n",
        "print(answer_y_test[:10], pred[:10])\n",
        "\n",
        "print(classification_report(answer_y_test, pred))"
      ],
      "execution_count": 224,
      "outputs": [
        {
          "output_type": "stream",
          "name": "stdout",
          "text": [
            "(2638,) (2638,)\n",
            "[0 0 0 0 0 0 0 0 0 0] [ 7 10  8  7  0  0  9  9  0  7]\n",
            "              precision    recall  f1-score   support\n",
            "\n",
            "           0       0.33      0.33      0.33       203\n",
            "           1       0.25      0.30      0.27       203\n",
            "           2       0.23      0.32      0.27       202\n",
            "           3       0.32      0.35      0.33       201\n",
            "           4       0.39      0.53      0.45       202\n",
            "           5       0.15      0.20      0.17       201\n",
            "           6       0.58      0.65      0.62       205\n",
            "           7       0.41      0.44      0.42       202\n",
            "           8       0.42      0.44      0.43       203\n",
            "           9       0.16      0.22      0.18       204\n",
            "          10       0.26      0.26      0.26       203\n",
            "          11       0.00      0.00      0.00       205\n",
            "          12       0.00      0.00      0.00       204\n",
            "\n",
            "    accuracy                           0.31      2638\n",
            "   macro avg       0.27      0.31      0.29      2638\n",
            "weighted avg       0.27      0.31      0.29      2638\n",
            "\n"
          ]
        },
        {
          "output_type": "stream",
          "name": "stderr",
          "text": [
            "/usr/local/lib/python3.7/dist-packages/sklearn/metrics/_classification.py:1272: UndefinedMetricWarning: Precision and F-score are ill-defined and being set to 0.0 in labels with no predicted samples. Use `zero_division` parameter to control this behavior.\n",
            "  _warn_prf(average, modifier, msg_start, len(result))\n"
          ]
        }
      ]
    },
    {
      "cell_type": "code",
      "metadata": {
        "colab": {
          "base_uri": "https://localhost:8080/"
        },
        "id": "eAE1wvn8JLMl",
        "outputId": "a3a8cda3-c515-4e0b-9c96-26735f83c09a"
      },
      "source": [
        "model_gru.load_weights(model_gru_save_path)\n",
        "model_gru.evaluate(x_test, y_test, verbose=1)"
      ],
      "execution_count": 226,
      "outputs": [
        {
          "output_type": "stream",
          "name": "stdout",
          "text": [
            "83/83 [==============================] - 3s 38ms/step - loss: 4.0470 - accuracy: 0.2475\n"
          ]
        },
        {
          "output_type": "execute_result",
          "data": {
            "text/plain": [
              "[4.046996116638184, 0.24753601849079132]"
            ]
          },
          "metadata": {},
          "execution_count": 226
        }
      ]
    },
    {
      "cell_type": "code",
      "metadata": {
        "colab": {
          "base_uri": "https://localhost:8080/"
        },
        "id": "FywZiO5ZdxPX",
        "outputId": "90cfdae2-b3f7-4677-8ce8-56534bcf02c9"
      },
      "source": [
        "pred = model_gru.predict(x_test, batch_size = 32)\n",
        "pred = np.argmax(pred, axis=1)\n",
        "pred"
      ],
      "execution_count": 227,
      "outputs": [
        {
          "output_type": "execute_result",
          "data": {
            "text/plain": [
              "array([7, 7, 2, ..., 2, 2, 0])"
            ]
          },
          "metadata": {},
          "execution_count": 227
        }
      ]
    },
    {
      "cell_type": "code",
      "metadata": {
        "colab": {
          "base_uri": "https://localhost:8080/"
        },
        "id": "E3cJWLxUd3HV",
        "outputId": "d5fc0c22-a0b5-4ee9-d82d-527bf2657bb8"
      },
      "source": [
        "print(answer_y_test.shape, pred.shape)\n",
        "print(answer_y_test[:10], pred[:10])\n",
        "\n",
        "print(classification_report(answer_y_test, pred))"
      ],
      "execution_count": 228,
      "outputs": [
        {
          "output_type": "stream",
          "name": "stdout",
          "text": [
            "(2638,) (2638,)\n",
            "[0 0 0 0 0 0 0 0 0 0] [7 7 2 5 7 0 3 8 2 3]\n",
            "              precision    recall  f1-score   support\n",
            "\n",
            "           0       0.24      0.20      0.22       203\n",
            "           1       0.23      0.28      0.25       203\n",
            "           2       0.16      0.30      0.21       202\n",
            "           3       0.31      0.39      0.35       201\n",
            "           4       0.32      0.29      0.31       202\n",
            "           5       0.06      0.07      0.07       201\n",
            "           6       0.40      0.65      0.50       205\n",
            "           7       0.26      0.31      0.28       202\n",
            "           8       0.38      0.43      0.40       203\n",
            "           9       0.17      0.18      0.18       204\n",
            "          10       0.18      0.11      0.14       203\n",
            "          11       0.00      0.00      0.00       205\n",
            "          12       0.00      0.00      0.00       204\n",
            "\n",
            "    accuracy                           0.25      2638\n",
            "   macro avg       0.21      0.25      0.22      2638\n",
            "weighted avg       0.21      0.25      0.22      2638\n",
            "\n"
          ]
        },
        {
          "output_type": "stream",
          "name": "stderr",
          "text": [
            "/usr/local/lib/python3.7/dist-packages/sklearn/metrics/_classification.py:1272: UndefinedMetricWarning: Precision and F-score are ill-defined and being set to 0.0 in labels with no predicted samples. Use `zero_division` parameter to control this behavior.\n",
            "  _warn_prf(average, modifier, msg_start, len(result))\n"
          ]
        }
      ]
    },
    {
      "cell_type": "code",
      "metadata": {
        "colab": {
          "base_uri": "https://localhost:8080/"
        },
        "id": "dOBjzLS6JOiG",
        "outputId": "9a43eb04-043b-4ce6-f1c8-656dd96fd270"
      },
      "source": [
        "model_gru.load_weights(upd_model_gru_save_path)\n",
        "model_gru.evaluate(upd_x_test, y_test, verbose=1)"
      ],
      "execution_count": 230,
      "outputs": [
        {
          "output_type": "stream",
          "name": "stdout",
          "text": [
            "83/83 [==============================] - 3s 38ms/step - loss: 3.7872 - accuracy: 0.2623\n"
          ]
        },
        {
          "output_type": "execute_result",
          "data": {
            "text/plain": [
              "[3.787158966064453, 0.262319952249527]"
            ]
          },
          "metadata": {},
          "execution_count": 230
        }
      ]
    },
    {
      "cell_type": "code",
      "metadata": {
        "colab": {
          "base_uri": "https://localhost:8080/"
        },
        "id": "9_aS-1XMeIyl",
        "outputId": "de26c310-a0e1-4533-80c8-b5c368dcb78a"
      },
      "source": [
        "pred = model_gru.predict(upd_x_test, batch_size = 32)\n",
        "pred = np.argmax(pred, axis=1)\n",
        "pred"
      ],
      "execution_count": 231,
      "outputs": [
        {
          "output_type": "execute_result",
          "data": {
            "text/plain": [
              "array([7, 0, 8, ..., 4, 3, 8])"
            ]
          },
          "metadata": {},
          "execution_count": 231
        }
      ]
    },
    {
      "cell_type": "code",
      "metadata": {
        "colab": {
          "base_uri": "https://localhost:8080/"
        },
        "id": "l5dLVTIleJdN",
        "outputId": "162b21dd-863f-4459-e853-f4bfa5a379ae"
      },
      "source": [
        "print(answer_y_test.shape, pred.shape)\n",
        "print(answer_y_test[:10], pred[:10])\n",
        "\n",
        "print(classification_report(answer_y_test, pred))"
      ],
      "execution_count": 232,
      "outputs": [
        {
          "output_type": "stream",
          "name": "stdout",
          "text": [
            "(2638,) (2638,)\n",
            "[0 0 0 0 0 0 0 0 0 0] [7 0 8 2 4 0 7 9 7 6]\n",
            "              precision    recall  f1-score   support\n",
            "\n",
            "           0       0.25      0.28      0.26       203\n",
            "           1       0.18      0.23      0.20       203\n",
            "           2       0.16      0.25      0.20       202\n",
            "           3       0.24      0.30      0.27       201\n",
            "           4       0.29      0.39      0.33       202\n",
            "           5       0.12      0.16      0.14       201\n",
            "           6       0.48      0.66      0.55       205\n",
            "           7       0.29      0.34      0.31       202\n",
            "           8       0.39      0.47      0.43       203\n",
            "           9       0.20      0.17      0.18       204\n",
            "          10       0.27      0.17      0.21       203\n",
            "          11       0.00      0.00      0.00       205\n",
            "          12       0.00      0.00      0.00       204\n",
            "\n",
            "    accuracy                           0.26      2638\n",
            "   macro avg       0.22      0.26      0.24      2638\n",
            "weighted avg       0.22      0.26      0.24      2638\n",
            "\n"
          ]
        },
        {
          "output_type": "stream",
          "name": "stderr",
          "text": [
            "/usr/local/lib/python3.7/dist-packages/sklearn/metrics/_classification.py:1272: UndefinedMetricWarning: Precision and F-score are ill-defined and being set to 0.0 in labels with no predicted samples. Use `zero_division` parameter to control this behavior.\n",
            "  _warn_prf(average, modifier, msg_start, len(result))\n"
          ]
        }
      ]
    },
    {
      "cell_type": "code",
      "metadata": {
        "colab": {
          "base_uri": "https://localhost:8080/",
          "height": 606
        },
        "id": "zNfYHhjfeSAF",
        "outputId": "99a98767-156e-42f6-bd8f-9324f24fef4c"
      },
      "source": [
        "plt.plot(history_cnn.history['accuracy'], \n",
        "         label='cnn train accuracy')\n",
        "plt.plot(history_cnn.history['val_accuracy'], \n",
        "         label='cnn test accuracy')\n",
        "plt.plot(upd_history_cnn.history['accuracy'], \n",
        "         label='cnn upd train accuracy')\n",
        "plt.plot(upd_history_cnn.history['val_accuracy'], \n",
        "         label='cnn upd test accuracy')\n",
        "\n",
        "plt.plot(history_lstm.history['accuracy'], \n",
        "         label='lstm train accuracy')\n",
        "plt.plot(history_lstm.history['val_accuracy'], \n",
        "         label='lstm test accuracy')\n",
        "plt.plot(upd_history_lstm.history['accuracy'], \n",
        "         label='lstm upd train accuracy')\n",
        "plt.plot(upd_history_lstm.history['val_accuracy'], \n",
        "         label='lstm upd test accuracy')\n",
        "\n",
        "plt.plot(history_gru.history['accuracy'], \n",
        "         label='gru train accuracy')\n",
        "plt.plot(history_gru.history['val_accuracy'], \n",
        "         label='gru test accuracy')\n",
        "plt.plot(upd_history_gru.history['accuracy'], \n",
        "         label='gru upd train accuracy')\n",
        "plt.plot(upd_history_gru.history['val_accuracy'], \n",
        "         label='gru upd test accuracy')\n",
        "plt.xlabel('epoch')\n",
        "plt.ylabel('accuracy')\n",
        "plt.rcParams[\"figure.figsize\"] = (40,10)\n",
        "plt.legend()\n",
        "plt.show()"
      ],
      "execution_count": 239,
      "outputs": [
        {
          "output_type": "display_data",
          "data": {
            "image/png": "[encoded data removed]",
            "text/plain": [
              "<Figure size 1440x720 with 1 Axes>"
            ]
          },
          "metadata": {
            "needs_background": "light"
          }
        }
      ]
    },
    {
      "cell_type": "code",
      "metadata": {
        "id": "RvRw4pwYgXON"
      },
      "source": [
        ""
      ],
      "execution_count": null,
      "outputs": []
    }
  ]
}