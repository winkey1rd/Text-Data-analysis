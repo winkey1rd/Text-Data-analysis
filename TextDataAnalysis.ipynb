{
  "nbformat": 4,
  "nbformat_minor": 0,
  "metadata": {
    "colab": {
      "name": "TextDataAnalysis.ipynb",
      "provenance": [],
      "collapsed_sections": [],
      "authorship_tag": "ABX9TyP15FWaDprnraraxr1GnzeZ",
      "include_colab_link": true
    },
    "kernelspec": {
      "name": "python3",
      "display_name": "Python 3"
    },
    "language_info": {
      "name": "python"
    }
  },
  "cells": [
    {
      "cell_type": "markdown",
      "metadata": {
        "id": "view-in-github",
        "colab_type": "text"
      },
      "source": [
        "<a href=\"https://colab.research.google.com/github/winkey1rd/Text-Data-analysis/blob/main/TextDataAnalysis.ipynb\" target=\"_parent\"><img src=\"https://colab.research.google.com/assets/colab-badge.svg\" alt=\"Open In Colab\"/></a>"
      ]
    },
    {
      "cell_type": "code",
      "metadata": {
        "colab": {
          "resources": {
            "http://localhost:8080/nbextensions/google.colab/files.js": {
              "data": "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",
              "ok": true,
              "headers": [
                [
                  "content-type",
                  "application/javascript"
                ]
              ],
              "status": 200,
              "status_text": ""
            }
          },
          "base_uri": "https://localhost:8080/",
          "height": 489
        },
        "id": "h2ROfodi0_G_",
        "outputId": "83b43825-350a-46b0-dc04-54f496b84685"
      },
      "source": [
        "from google.colab import files\n",
        "uploaded = files.upload()"
      ],
      "execution_count": 1,
      "outputs": [
        {
          "output_type": "display_data",
          "data": {
            "text/html": [
              "\n",
              "     <input type=\"file\" id=\"files-254fcee4-563d-4205-8d17-ab9bd31313c4\" name=\"files[]\" multiple disabled\n",
              "        style=\"border:none\" />\n",
              "     <output id=\"result-254fcee4-563d-4205-8d17-ab9bd31313c4\">\n",
              "      Upload widget is only available when the cell has been executed in the\n",
              "      current browser session. Please rerun this cell to enable.\n",
              "      </output>\n",
              "      <script src=\"/nbextensions/google.colab/files.js\"></script> "
            ],
            "text/plain": [
              "<IPython.core.display.HTML object>"
            ]
          },
          "metadata": {}
        },
        {
          "output_type": "stream",
          "name": "stdout",
          "text": [
            "Saving Вопросы карьеры.csv to Вопросы карьеры.csv\n",
            "Saving Вредные привычки, зависимость.csv to Вредные привычки, зависимость.csv\n",
            "Saving Горе, потери.csv to Горе, потери.csv\n",
            "Saving Депрессия.csv to Депрессия.csv\n",
            "Saving Нервные расстройства.csv to Нервные расстройства.csv\n",
            "Saving О достижении цели.csv to О достижении цели.csv\n",
            "Saving Отношения с окружающими.csv to Отношения с окружающими.csv\n",
            "Saving Поиск решения.csv to Поиск решения.csv\n",
            "Saving Проблемы с детьми.csv to Проблемы с детьми.csv\n",
            "Saving Проблемы с партнером.csv to Проблемы с партнером.csv\n",
            "Saving Размышления о мире.csv to Размышления о мире.csv\n",
            "Saving Самопознание, саморазвитие.csv to Самопознание, саморазвитие.csv\n",
            "Saving Семейные проблемы.csv to Семейные проблемы.csv\n"
          ]
        }
      ]
    },
    {
      "cell_type": "code",
      "metadata": {
        "colab": {
          "base_uri": "https://localhost:8080/"
        },
        "id": "sksgntOL1Oli",
        "outputId": "68426587-6584-4f83-d4dd-4e30096588d9"
      },
      "source": [
        "!ls"
      ],
      "execution_count": 2,
      "outputs": [
        {
          "output_type": "stream",
          "name": "stdout",
          "text": [
            " sample_data\t\t\t     'Отношения с окружающими.csv'\n",
            "'Вопросы карьеры.csv'\t\t     'Поиск решения.csv'\n",
            "'Вредные привычки, зависимость.csv'  'Проблемы с детьми.csv'\n",
            "'Горе, потери.csv'\t\t     'Проблемы с партнером.csv'\n",
            " Депрессия.csv\t\t\t     'Размышления о мире.csv'\n",
            "'Нервные расстройства.csv'\t     'Самопознание, саморазвитие.csv'\n",
            "'О достижении цели.csv'\t\t     'Семейные проблемы.csv'\n"
          ]
        }
      ]
    },
    {
      "cell_type": "markdown",
      "metadata": {
        "id": "gCN2qKU93NBH"
      },
      "source": [
        "Let's create 2 files: training and test data"
      ]
    },
    {
      "cell_type": "markdown",
      "metadata": {
        "id": "7xQTjmDt3Qs-"
      },
      "source": [
        "test data - 20%"
      ]
    },
    {
      "cell_type": "code",
      "metadata": {
        "id": "FRiyixfw3GES"
      },
      "source": [
        "from sklearn.model_selection import train_test_split\n",
        "import os\n",
        "import glob"
      ],
      "execution_count": 3,
      "outputs": []
    },
    {
      "cell_type": "code",
      "metadata": {
        "id": "-dvvrIEw3V-f"
      },
      "source": [
        "extension = 'csv'\n",
        "file_names = [i for i in glob.glob('*.{}'.format(extension))]\n",
        "file_names_size = len(file_names);"
      ],
      "execution_count": 4,
      "outputs": []
    },
    {
      "cell_type": "markdown",
      "metadata": {
        "id": "6ESFc_3H3YzQ"
      },
      "source": [
        "Let's mark the data: add a column in which the value will mean the category number"
      ]
    },
    {
      "cell_type": "code",
      "metadata": {
        "id": "wEUTq9WM3cp4"
      },
      "source": [
        "import pandas as pd\n",
        "import numpy as np"
      ],
      "execution_count": 5,
      "outputs": []
    },
    {
      "cell_type": "code",
      "metadata": {
        "id": "FOdN9pEs3goG"
      },
      "source": [
        "data_train = []\n",
        "data_test = []\n",
        "\n",
        "i = 0\n",
        "while i<file_names_size:\n",
        "  df = pd.read_csv(file_names[i], header=0)\n",
        "  df['THEME'] = i\n",
        "  train, test = train_test_split(df, test_size=0.2)\n",
        "  data_train.append(train)\n",
        "  data_test.append(test)\n",
        "  i = i + 1"
      ],
      "execution_count": 6,
      "outputs": []
    },
    {
      "cell_type": "code",
      "metadata": {
        "colab": {
          "base_uri": "https://localhost:8080/",
          "height": 143
        },
        "id": "NM27VcOS3kIe",
        "outputId": "aeb5048d-f56f-4e39-cbf0-47079b7a421c"
      },
      "source": [
        "data_test[7][:3]"
      ],
      "execution_count": 7,
      "outputs": [
        {
          "output_type": "execute_result",
          "data": {
            "text/html": [
              "<div>\n",
              "<style scoped>\n",
              "    .dataframe tbody tr th:only-of-type {\n",
              "        vertical-align: middle;\n",
              "    }\n",
              "\n",
              "    .dataframe tbody tr th {\n",
              "        vertical-align: top;\n",
              "    }\n",
              "\n",
              "    .dataframe thead th {\n",
              "        text-align: right;\n",
              "    }\n",
              "</style>\n",
              "<table border=\"1\" class=\"dataframe\">\n",
              "  <thead>\n",
              "    <tr style=\"text-align: right;\">\n",
              "      <th></th>\n",
              "      <th>Unnamed: 0</th>\n",
              "      <th>USER_ID</th>\n",
              "      <th>USER_NICKNAME</th>\n",
              "      <th>TITLE</th>\n",
              "      <th>MESSAGE</th>\n",
              "      <th>DATE_TIME</th>\n",
              "      <th>TOPIC_LIKES_COUNT</th>\n",
              "      <th>URL</th>\n",
              "      <th>THEME</th>\n",
              "    </tr>\n",
              "  </thead>\n",
              "  <tbody>\n",
              "    <tr>\n",
              "      <th>756</th>\n",
              "      <td>756</td>\n",
              "      <td>u282071</td>\n",
              "      <td>Лина 2018</td>\n",
              "      <td>Переедание. Поможет ли КПТ?</td>\n",
              "      <td>Я давно забросила диеты, но продолжаю переедат...</td>\n",
              "      <td>2018-11-14 21:56</td>\n",
              "      <td>0</td>\n",
              "      <td>https://www.b17.ru/forum/topic.php?id=139370</td>\n",
              "      <td>7</td>\n",
              "    </tr>\n",
              "    <tr>\n",
              "      <th>418</th>\n",
              "      <td>418</td>\n",
              "      <td>u444537</td>\n",
              "      <td>Хочу жить здорово</td>\n",
              "      <td>Найти опору,или как выйти из алкогользависимых...</td>\n",
              "      <td>Здравствуйте,Анна!Мне 40 лет.В разводе с 2012г...</td>\n",
              "      <td>2019-07-12 17:45</td>\n",
              "      <td>2</td>\n",
              "      <td>https://www.b17.ru/forum/topic.php?id=171631</td>\n",
              "      <td>7</td>\n",
              "    </tr>\n",
              "    <tr>\n",
              "      <th>284</th>\n",
              "      <td>284</td>\n",
              "      <td>u461965</td>\n",
              "      <td>id461965</td>\n",
              "      <td>Зависимость от еды - не хочу, но ем.</td>\n",
              "      <td>Начну с того, что я всегда была полной девочко...</td>\n",
              "      <td>2019-10-18 20:49</td>\n",
              "      <td>3</td>\n",
              "      <td>https://www.b17.ru/forum/topic.php?id=185211</td>\n",
              "      <td>7</td>\n",
              "    </tr>\n",
              "  </tbody>\n",
              "</table>\n",
              "</div>"
            ],
            "text/plain": [
              "     Unnamed: 0  USER_ID  ...                                           URL THEME\n",
              "756         756  u282071  ...  https://www.b17.ru/forum/topic.php?id=139370     7\n",
              "418         418  u444537  ...  https://www.b17.ru/forum/topic.php?id=171631     7\n",
              "284         284  u461965  ...  https://www.b17.ru/forum/topic.php?id=185211     7\n",
              "\n",
              "[3 rows x 9 columns]"
            ]
          },
          "metadata": {},
          "execution_count": 7
        }
      ]
    },
    {
      "cell_type": "code",
      "metadata": {
        "colab": {
          "base_uri": "https://localhost:8080/",
          "height": 143
        },
        "id": "svA-_FXW3m13",
        "outputId": "4113e277-f3aa-4300-f208-f7a19c4983b9"
      },
      "source": [
        "data_train[2][:3]"
      ],
      "execution_count": 8,
      "outputs": [
        {
          "output_type": "execute_result",
          "data": {
            "text/html": [
              "<div>\n",
              "<style scoped>\n",
              "    .dataframe tbody tr th:only-of-type {\n",
              "        vertical-align: middle;\n",
              "    }\n",
              "\n",
              "    .dataframe tbody tr th {\n",
              "        vertical-align: top;\n",
              "    }\n",
              "\n",
              "    .dataframe thead th {\n",
              "        text-align: right;\n",
              "    }\n",
              "</style>\n",
              "<table border=\"1\" class=\"dataframe\">\n",
              "  <thead>\n",
              "    <tr style=\"text-align: right;\">\n",
              "      <th></th>\n",
              "      <th>Unnamed: 0</th>\n",
              "      <th>USER_ID</th>\n",
              "      <th>USER_NICKNAME</th>\n",
              "      <th>TITLE</th>\n",
              "      <th>MESSAGE</th>\n",
              "      <th>DATE_TIME</th>\n",
              "      <th>TOPIC_LIKES_COUNT</th>\n",
              "      <th>URL</th>\n",
              "      <th>THEME</th>\n",
              "    </tr>\n",
              "  </thead>\n",
              "  <tbody>\n",
              "    <tr>\n",
              "      <th>630</th>\n",
              "      <td>630</td>\n",
              "      <td>u208599</td>\n",
              "      <td>BlueWolf</td>\n",
              "      <td>Не знаю, как отстоять свои границы, кроме как ...</td>\n",
              "      <td>Окружающие слов не понимают, пока им не устрои...</td>\n",
              "      <td>2020-02-16 20:59</td>\n",
              "      <td>8</td>\n",
              "      <td>https://www.b17.ru/forum/topic.php?id=302983</td>\n",
              "      <td>2</td>\n",
              "    </tr>\n",
              "    <tr>\n",
              "      <th>117</th>\n",
              "      <td>117</td>\n",
              "      <td>u362977</td>\n",
              "      <td>Легко</td>\n",
              "      <td>Сюда слушай, я сказала</td>\n",
              "      <td>У меня такая черта дурацкая. Я её смягчаю, смя...</td>\n",
              "      <td>2020-05-12 21:47</td>\n",
              "      <td>19</td>\n",
              "      <td>https://www.b17.ru/forum/topic.php?id=314503</td>\n",
              "      <td>2</td>\n",
              "    </tr>\n",
              "    <tr>\n",
              "      <th>622</th>\n",
              "      <td>622</td>\n",
              "      <td>u447950</td>\n",
              "      <td>Белка33</td>\n",
              "      <td>Развитие дружбы! Открытия</td>\n",
              "      <td>Друзья, психологи! Я эгоистичный, себялюбивый ...</td>\n",
              "      <td>2020-02-18 02:31</td>\n",
              "      <td>4</td>\n",
              "      <td>https://www.b17.ru/forum/topic.php?id=303169</td>\n",
              "      <td>2</td>\n",
              "    </tr>\n",
              "  </tbody>\n",
              "</table>\n",
              "</div>"
            ],
            "text/plain": [
              "     Unnamed: 0  USER_ID  ...                                           URL THEME\n",
              "630         630  u208599  ...  https://www.b17.ru/forum/topic.php?id=302983     2\n",
              "117         117  u362977  ...  https://www.b17.ru/forum/topic.php?id=314503     2\n",
              "622         622  u447950  ...  https://www.b17.ru/forum/topic.php?id=303169     2\n",
              "\n",
              "[3 rows x 9 columns]"
            ]
          },
          "metadata": {},
          "execution_count": 8
        }
      ]
    },
    {
      "cell_type": "markdown",
      "metadata": {
        "id": "6XxYnTlP3qW1"
      },
      "source": [
        "combining the data into a single file"
      ]
    },
    {
      "cell_type": "markdown",
      "metadata": {
        "id": "n_Y2sVYN3rOf"
      },
      "source": [
        "-train"
      ]
    },
    {
      "cell_type": "code",
      "metadata": {
        "colab": {
          "base_uri": "https://localhost:8080/"
        },
        "id": "Mn_rntji3tAG",
        "outputId": "16880b08-69b9-47d9-b9c6-e479dd66342f"
      },
      "source": [
        "final_data_train = pd.concat(data_train)\n",
        "final_data_train.to_csv( 'train.csv', index=False, encoding='utf-8-sig')\n",
        "!wc -l train.csv"
      ],
      "execution_count": 13,
      "outputs": [
        {
          "output_type": "stream",
          "name": "stdout",
          "text": [
            "10546 train.csv\n"
          ]
        }
      ]
    },
    {
      "cell_type": "markdown",
      "metadata": {
        "id": "XzGFTYDa3zZ_"
      },
      "source": [
        "-test"
      ]
    },
    {
      "cell_type": "code",
      "metadata": {
        "colab": {
          "base_uri": "https://localhost:8080/"
        },
        "id": "g5Xir5tu30Un",
        "outputId": "f75645c5-d4fa-42b9-b4b8-60bd34c62279"
      },
      "source": [
        "final_data_test = pd.concat(data_test)\n",
        "final_data_test.to_csv( \"test.csv\", index=False, encoding='utf-8-sig')\n",
        "!wc -l test.csv"
      ],
      "execution_count": 14,
      "outputs": [
        {
          "output_type": "stream",
          "name": "stdout",
          "text": [
            "2641 test.csv\n"
          ]
        }
      ]
    },
    {
      "cell_type": "code",
      "metadata": {
        "colab": {
          "base_uri": "https://localhost:8080/",
          "height": 143
        },
        "id": "mn1ncP1c35Qv",
        "outputId": "28adb5cd-a1bf-4a5f-97f3-9a9bed29aa14"
      },
      "source": [
        "train = pd.read_csv('train.csv', header=0)\n",
        "train[:3]"
      ],
      "execution_count": 15,
      "outputs": [
        {
          "output_type": "execute_result",
          "data": {
            "text/html": [
              "<div>\n",
              "<style scoped>\n",
              "    .dataframe tbody tr th:only-of-type {\n",
              "        vertical-align: middle;\n",
              "    }\n",
              "\n",
              "    .dataframe tbody tr th {\n",
              "        vertical-align: top;\n",
              "    }\n",
              "\n",
              "    .dataframe thead th {\n",
              "        text-align: right;\n",
              "    }\n",
              "</style>\n",
              "<table border=\"1\" class=\"dataframe\">\n",
              "  <thead>\n",
              "    <tr style=\"text-align: right;\">\n",
              "      <th></th>\n",
              "      <th>Unnamed: 0</th>\n",
              "      <th>USER_ID</th>\n",
              "      <th>USER_NICKNAME</th>\n",
              "      <th>TITLE</th>\n",
              "      <th>MESSAGE</th>\n",
              "      <th>DATE_TIME</th>\n",
              "      <th>TOPIC_LIKES_COUNT</th>\n",
              "      <th>URL</th>\n",
              "      <th>THEME</th>\n",
              "    </tr>\n",
              "  </thead>\n",
              "  <tbody>\n",
              "    <tr>\n",
              "      <th>0</th>\n",
              "      <td>432</td>\n",
              "      <td>u325981</td>\n",
              "      <td>Emily95</td>\n",
              "      <td>боязнь старости</td>\n",
              "      <td>Здравствуйте! Меня зовут Юлия, мне 24 года. В ...</td>\n",
              "      <td>2020-02-05 18:52</td>\n",
              "      <td>4</td>\n",
              "      <td>https://www.b17.ru/forum/topic.php?id=301385</td>\n",
              "      <td>0</td>\n",
              "    </tr>\n",
              "    <tr>\n",
              "      <th>1</th>\n",
              "      <td>316</td>\n",
              "      <td>u422836</td>\n",
              "      <td>Melchior</td>\n",
              "      <td>Сильное напряжение после ограбления</td>\n",
              "      <td>Добрый день.Вчера пришла домой с работы, дверь...</td>\n",
              "      <td>2020-03-04 08:25</td>\n",
              "      <td>3</td>\n",
              "      <td>https://www.b17.ru/forum/topic.php?id=305282</td>\n",
              "      <td>0</td>\n",
              "    </tr>\n",
              "    <tr>\n",
              "      <th>2</th>\n",
              "      <td>988</td>\n",
              "      <td>u456775</td>\n",
              "      <td>id456775</td>\n",
              "      <td>Кто я?</td>\n",
              "      <td>Я хочу получить ответ на вопрос - кто я?Нарцис...</td>\n",
              "      <td>2019-09-03 19:47</td>\n",
              "      <td>0</td>\n",
              "      <td>https://www.b17.ru/forum/topic.php?id=178927</td>\n",
              "      <td>0</td>\n",
              "    </tr>\n",
              "  </tbody>\n",
              "</table>\n",
              "</div>"
            ],
            "text/plain": [
              "   Unnamed: 0  USER_ID  ...                                           URL THEME\n",
              "0         432  u325981  ...  https://www.b17.ru/forum/topic.php?id=301385     0\n",
              "1         316  u422836  ...  https://www.b17.ru/forum/topic.php?id=305282     0\n",
              "2         988  u456775  ...  https://www.b17.ru/forum/topic.php?id=178927     0\n",
              "\n",
              "[3 rows x 9 columns]"
            ]
          },
          "metadata": {},
          "execution_count": 15
        }
      ]
    },
    {
      "cell_type": "code",
      "metadata": {
        "colab": {
          "base_uri": "https://localhost:8080/",
          "height": 143
        },
        "id": "l1-qJBc14Een",
        "outputId": "fa34252c-043c-44ae-a5dc-6638cf756aef"
      },
      "source": [
        "test = pd.read_csv('test.csv', header=0)\n",
        "test[:3]"
      ],
      "execution_count": 177,
      "outputs": [
        {
          "output_type": "execute_result",
          "data": {
            "text/html": [
              "<div>\n",
              "<style scoped>\n",
              "    .dataframe tbody tr th:only-of-type {\n",
              "        vertical-align: middle;\n",
              "    }\n",
              "\n",
              "    .dataframe tbody tr th {\n",
              "        vertical-align: top;\n",
              "    }\n",
              "\n",
              "    .dataframe thead th {\n",
              "        text-align: right;\n",
              "    }\n",
              "</style>\n",
              "<table border=\"1\" class=\"dataframe\">\n",
              "  <thead>\n",
              "    <tr style=\"text-align: right;\">\n",
              "      <th></th>\n",
              "      <th>Unnamed: 0</th>\n",
              "      <th>USER_ID</th>\n",
              "      <th>USER_NICKNAME</th>\n",
              "      <th>TITLE</th>\n",
              "      <th>MESSAGE</th>\n",
              "      <th>DATE_TIME</th>\n",
              "      <th>TOPIC_LIKES_COUNT</th>\n",
              "      <th>URL</th>\n",
              "      <th>THEME</th>\n",
              "    </tr>\n",
              "  </thead>\n",
              "  <tbody>\n",
              "    <tr>\n",
              "      <th>0</th>\n",
              "      <td>807</td>\n",
              "      <td>u471146</td>\n",
              "      <td>Ножницы и смех</td>\n",
              "      <td>ПТСР что может помочь?</td>\n",
              "      <td>Я прошла через очень тяжелое физически и эмоци...</td>\n",
              "      <td>2019-10-29 15:57</td>\n",
              "      <td>3</td>\n",
              "      <td>https://www.b17.ru/forum/topic.php?id=186782</td>\n",
              "      <td>0</td>\n",
              "    </tr>\n",
              "    <tr>\n",
              "      <th>1</th>\n",
              "      <td>148</td>\n",
              "      <td>u484434</td>\n",
              "      <td>Miss Byron</td>\n",
              "      <td>Как справиться с симптомами ПТСР из-за абьюзив...</td>\n",
              "      <td>Здравствуйте! Это моя первая попытка получить ...</td>\n",
              "      <td>2020-04-21 22:06</td>\n",
              "      <td>4</td>\n",
              "      <td>https://www.b17.ru/forum/topic.php?id=311670</td>\n",
              "      <td>0</td>\n",
              "    </tr>\n",
              "    <tr>\n",
              "      <th>2</th>\n",
              "      <td>121</td>\n",
              "      <td>u340395</td>\n",
              "      <td>Иван Копчёный</td>\n",
              "      <td>Всё невкусно.</td>\n",
              "      <td>Всё невкусно, кто то сталкивался с подобным? э...</td>\n",
              "      <td>2020-04-27 14:39</td>\n",
              "      <td>7</td>\n",
              "      <td>https://www.b17.ru/forum/topic.php?id=312442</td>\n",
              "      <td>0</td>\n",
              "    </tr>\n",
              "  </tbody>\n",
              "</table>\n",
              "</div>"
            ],
            "text/plain": [
              "   Unnamed: 0  USER_ID  ...                                           URL THEME\n",
              "0         807  u471146  ...  https://www.b17.ru/forum/topic.php?id=186782     0\n",
              "1         148  u484434  ...  https://www.b17.ru/forum/topic.php?id=311670     0\n",
              "2         121  u340395  ...  https://www.b17.ru/forum/topic.php?id=312442     0\n",
              "\n",
              "[3 rows x 9 columns]"
            ]
          },
          "metadata": {},
          "execution_count": 177
        }
      ]
    },
    {
      "cell_type": "code",
      "metadata": {
        "id": "7ZDVB4dc4HhS"
      },
      "source": [
        "from tensorflow.keras import utils"
      ],
      "execution_count": 17,
      "outputs": []
    },
    {
      "cell_type": "markdown",
      "metadata": {
        "id": "UMMhTd0948co"
      },
      "source": [
        "Protection against unexpected strings such as 'nan'"
      ]
    },
    {
      "cell_type": "code",
      "metadata": {
        "id": "m76Yoiqe4K3P"
      },
      "source": [
        "trb_nan_idx = train[pd.isnull(train['MESSAGE'])].index.tolist()\n",
        "train.loc[trb_nan_idx, 'MESSAGE'] = ' '\n",
        "train.loc[trb_nan_idx, 'MESSAGE'] = ' '"
      ],
      "execution_count": 18,
      "outputs": []
    },
    {
      "cell_type": "code",
      "metadata": {
        "id": "NpUgN4Ns4N0X"
      },
      "source": [
        "x_train = train['MESSAGE']\n",
        "y_train = utils.to_categorical(train['THEME'],file_names_size)"
      ],
      "execution_count": 19,
      "outputs": []
    },
    {
      "cell_type": "code",
      "metadata": {
        "colab": {
          "base_uri": "https://localhost:8080/"
        },
        "id": "CYHrrz8h4Qtx",
        "outputId": "3659639e-18e9-440a-bab8-8c8b0a3aef89"
      },
      "source": [
        "import nltk\n",
        "import re\n",
        "from nltk.stem.snowball import SnowballStemmer\n",
        "stemmer = SnowballStemmer(\"russian\")\n",
        "nltk.download('punkt')"
      ],
      "execution_count": 20,
      "outputs": [
        {
          "output_type": "stream",
          "name": "stdout",
          "text": [
            "[nltk_data] Downloading package punkt to /root/nltk_data...\n",
            "[nltk_data]   Unzipping tokenizers/punkt.zip.\n"
          ]
        },
        {
          "output_type": "execute_result",
          "data": {
            "text/plain": [
              "True"
            ]
          },
          "metadata": {},
          "execution_count": 20
        }
      ]
    },
    {
      "cell_type": "markdown",
      "metadata": {
        "id": "8AJE5TIa5MN3"
      },
      "source": [
        "get a word form for each token (stemming)"
      ]
    },
    {
      "cell_type": "code",
      "metadata": {
        "id": "4eWdXuee4UdC"
      },
      "source": [
        "def token_and_stem(text):\n",
        "    tokens = [word for sent in nltk.sent_tokenize(text) for word in nltk.word_tokenize(sent)]\n",
        "    filtered_tokens = []\n",
        "    for token in tokens:\n",
        "        if re.search('[а-яА-Я]', token):\n",
        "            filtered_tokens.append(token)\n",
        "    stems = [stemmer.stem(t) for t in filtered_tokens]\n",
        "    print(type(stems))\n",
        "    return stems"
      ],
      "execution_count": 21,
      "outputs": []
    },
    {
      "cell_type": "code",
      "metadata": {
        "id": "7NYirRXy4XKP"
      },
      "source": [
        "upd_x_train = []\n",
        "\n",
        "for i in x_train:\n",
        "  upd_train = token_and_stem(i)\n",
        "  upd_x_train.append(upd_train)"
      ],
      "execution_count": null,
      "outputs": []
    },
    {
      "cell_type": "markdown",
      "metadata": {
        "id": "F6Emkobu5cqB"
      },
      "source": [
        "exclude the most popular words that do not carry a semantic load (stop words)"
      ]
    },
    {
      "cell_type": "code",
      "metadata": {
        "colab": {
          "base_uri": "https://localhost:8080/"
        },
        "id": "G5Er4Q4l5b6_",
        "outputId": "f7f70b67-e46e-4c06-9da4-7aff8c64869c"
      },
      "source": [
        "nltk.download('stopwords')\n",
        "stopwords = nltk.corpus.stopwords.words('russian')\n",
        "#можно расширить список стоп-слов\n",
        "stopwords.extend(['что', 'это', 'так', 'вот', 'быть', 'как', 'в', 'к', 'на'])"
      ],
      "execution_count": 43,
      "outputs": [
        {
          "output_type": "stream",
          "name": "stdout",
          "text": [
            "[nltk_data] Downloading package stopwords to /root/nltk_data...\n",
            "[nltk_data]   Package stopwords is already up-to-date!\n"
          ]
        }
      ]
    },
    {
      "cell_type": "code",
      "metadata": {
        "colab": {
          "base_uri": "https://localhost:8080/"
        },
        "id": "SEPE-rll7iiY",
        "outputId": "b7213aaf-a743-4a44-fa7e-d7a32538afb8"
      },
      "source": [
        "len(upd_x_train)\n"
      ],
      "execution_count": 44,
      "outputs": [
        {
          "output_type": "execute_result",
          "data": {
            "text/plain": [
              "10532"
            ]
          },
          "metadata": {},
          "execution_count": 44
        }
      ]
    },
    {
      "cell_type": "code",
      "metadata": {
        "id": "Swv_gvXR5xxA"
      },
      "source": [
        "tokens = []\n",
        "train = []\n",
        "\n",
        "for x_tr in upd_x_train:\n",
        "  for token in x_tr:\n",
        "    if token not in stopwords:\n",
        "      tokens.append(token)\n",
        "  train.append(tokens)\n",
        "  tokens = []"
      ],
      "execution_count": 46,
      "outputs": []
    },
    {
      "cell_type": "code",
      "metadata": {
        "colab": {
          "base_uri": "https://localhost:8080/"
        },
        "id": "jqaFfqGd6jZA",
        "outputId": "d3efe1bf-a7e1-4fd1-f998-845ad30271d5"
      },
      "source": [
        "x_train"
      ],
      "execution_count": 47,
      "outputs": [
        {
          "output_type": "execute_result",
          "data": {
            "text/plain": [
              "0        Здравствуйте! Меня зовут Юлия, мне 24 года. В ...\n",
              "1        Добрый день.Вчера пришла домой с работы, дверь...\n",
              "2        Я хочу получить ответ на вопрос - кто я?Нарцис...\n",
              "3        Здравствуйте, столкнулась с тем что произношу ...\n",
              "4        Уже где-то... года 2-3 за собой такое замечаю....\n",
              "                               ...                        \n",
              "10527    Добрый день, Людмила Григорьевна.Хочу попробов...\n",
              "10528    Здравствуйте, Вера! Большое спасибо, что взяли...\n",
              "10529    Я играю на двух музыкальных инструментах и мне...\n",
              "10530    Здравствуйте, у меня сейчас очень сложный пери...\n",
              "10531    Всем добрый вечер!Тема не нова, может, даже ко...\n",
              "Name: MESSAGE, Length: 10532, dtype: object"
            ]
          },
          "metadata": {},
          "execution_count": 47
        }
      ]
    },
    {
      "cell_type": "code",
      "metadata": {
        "id": "UB-sLwHv58vg"
      },
      "source": [
        "from tensorflow.keras.preprocessing.text import Tokenizer\n",
        "from tensorflow.keras.models import Sequential\n",
        "from tensorflow.keras.preprocessing.sequence import pad_sequences"
      ],
      "execution_count": 28,
      "outputs": []
    },
    {
      "cell_type": "markdown",
      "metadata": {
        "id": "aientQWI6cGg"
      },
      "source": [
        "creating tokenizers for each of the data sets (processed and source)"
      ]
    },
    {
      "cell_type": "code",
      "metadata": {
        "id": "h1mvzFtZ6LUM"
      },
      "source": [
        "num_words = 5000\n",
        "tokenizer = Tokenizer(num_words=num_words, filters='0123456789!\"#$%&()*+,-./:;<=>?@[\\\\]^_`{|}~\\t\\n', lower=True, split=' ')\n",
        "upd_tokenizer = Tokenizer(num_words=num_words, filters='0123456789!\"#$%&()*+,-./:;<=>?@[\\\\]^_`{|}~\\t\\n', lower=True, split=' ')"
      ],
      "execution_count": 51,
      "outputs": []
    },
    {
      "cell_type": "code",
      "metadata": {
        "id": "jfPMFi-m6fLB"
      },
      "source": [
        "tokenizer.fit_on_texts(x_train)\n",
        "upd_tokenizer.fit_on_texts(train)"
      ],
      "execution_count": 52,
      "outputs": []
    },
    {
      "cell_type": "code",
      "metadata": {
        "id": "Qk9PlM9e9ToA"
      },
      "source": [
        "tokenizer.word_index"
      ],
      "execution_count": null,
      "outputs": []
    },
    {
      "cell_type": "code",
      "metadata": {
        "id": "SQJJQi6V9UGZ"
      },
      "source": [
        "upd_tokenizer.word_index"
      ],
      "execution_count": null,
      "outputs": []
    },
    {
      "cell_type": "code",
      "metadata": {
        "id": "WL6-TiI_9Ylx"
      },
      "source": [
        "sequences = tokenizer.texts_to_sequences(x_train)\n",
        "upd_sequences = upd_tokenizer.texts_to_sequences(train)"
      ],
      "execution_count": 55,
      "outputs": []
    },
    {
      "cell_type": "code",
      "metadata": {
        "colab": {
          "base_uri": "https://localhost:8080/"
        },
        "id": "h2g0YCDS9d2h",
        "outputId": "49ca5a98-b8ce-4b53-f065-f93bc8e9b2e9"
      },
      "source": [
        "print(x_train[0])\n",
        "print(sequences[0])\n",
        "print(train[0])\n",
        "print(upd_sequences[0])"
      ],
      "execution_count": 56,
      "outputs": [
        {
          "output_type": "stream",
          "name": "stdout",
          "text": [
            "Здравствуйте! Меня зовут Юлия, мне 24 года. В последнее время, а точнее, последние 2 года меня одолевает страх старости. Проявляется он следующим образом, я отвлекаюсь во время работы, чтобы посмотреться в зеркало и убедиться, что там всё ок (победа в конкурсе красоты и внимание людей на улице, видимо, отразились) , каждый вечер по часу кручусь в ванне проверяю что изменилось, хотя устала и лучше б полежала.) Работа у меня это симбиоз математики и программирования, поэтому много приходится сидеть. Но я не могу сидеть дольше 40 минут, не рассматривая себя и не делая упражнений для лица.)) Вместо того, чтобы лечь спать и хорошо выспаться, я делаю упражнения на осанку, массаж. Могу гуглить часами всякие витамины и крема. Со стороны, наверно, звучит не угрожающе, а смешно, но мне уже не до смеха. Я себя всю измучала этой красотой и страхом старости. Подскажите, как можно себя убедить в том, что это неизбежный этап жизни каждого человека и спокойно трудиться и радоваться жизнью?\n",
            "[94, 11, 597, 12, 71, 4, 360, 46, 15, 928, 402, 71, 11, 282, 2286, 16, 662, 3, 3778, 105, 46, 119, 48, 4, 4568, 1, 5, 104, 67, 1366, 4, 4871, 1, 391, 175, 7, 948, 525, 169, 418, 20, 4, 5, 1679, 84, 424, 1, 212, 998, 224, 14, 11, 13, 1, 221, 77, 789, 661, 10, 3, 2, 35, 661, 2762, 680, 2, 25, 1, 2, 4772, 43, 2287, 780, 90, 48, 2659, 379, 1, 127, 3, 264, 2602, 7, 35, 2288, 1575, 1, 50, 203, 1150, 2015, 2, 15, 2899, 10, 12, 31, 2, 49, 3, 25, 289, 173, 1, 2900, 560, 8, 97, 25, 2410, 4, 86, 5, 13, 3607, 66, 1474, 209, 1, 420, 1, 1475, 664]\n",
            "['здравств', 'мен', 'зовут', 'юл', 'год', 'последн', 'врем', 'точн', 'последн', 'год', 'мен', 'одолева', 'страх', 'старост', 'проявля', 'след', 'образ', 'отвлека', 'врем', 'работ', 'посмотрет', 'зерка', 'убед', 'ок', 'побед', 'конкурс', 'красот', 'вниман', 'люд', 'улиц', 'видим', 'отраз', 'кажд', 'вечер', 'час', 'круч', 'ван', 'проверя', 'измен', 'хот', 'уста', 'лучш', 'б', 'полежа', 'работ', 'мен', 'эт', 'симбиоз', 'математик', 'программирован', 'поэт', 'мног', 'приход', 'сидет', 'мог', 'сидет', 'дольш', 'минут', 'рассматрив', 'себ', 'дел', 'упражнен', 'лиц', 'вмест', 'тог', 'леч', 'спат', 'хорош', 'выспа', 'дела', 'упражнен', 'осанк', 'массаж', 'мог', 'гугл', 'час', 'всяк', 'витамин', 'крем', 'сторон', 'наверн', 'звуч', 'угрожающ', 'смешн', 'смех', 'себ', 'измуча', 'эт', 'красот', 'страх', 'старост', 'подскаж', 'можн', 'себ', 'убед', 'эт', 'неизбежн', 'этап', 'жизн', 'кажд', 'человек', 'спокойн', 'труд', 'радова', 'жизн']\n",
            "[80, 2, 627, 2949, 21, 93, 28, 280, 93, 21, 2, 3593, 142, 2515, 536, 245, 353, 1204, 28, 12, 1160, 3149, 1329, 1316, 2100, 3208, 2314, 186, 55, 593, 484, 3480, 81, 184, 193, 4603, 1711, 1606, 137, 37, 249, 120, 1359, 4988, 12, 2, 1, 2367, 2620, 190, 38, 183, 684, 13, 684, 2270, 528, 4, 63, 1658, 514, 101, 68, 611, 387, 50, 4051, 20, 1658, 2649, 13, 4148, 193, 467, 3209, 107, 235, 1772, 1458, 3318, 4, 1, 2314, 142, 2515, 692, 78, 4, 1329, 1, 3264, 1367, 16, 81, 31, 263, 707, 916, 16]\n"
          ]
        }
      ]
    },
    {
      "cell_type": "code",
      "metadata": {
        "id": "TjVpkcop9g64"
      },
      "source": [
        "max_text_len = 100\n",
        "x_train = pad_sequences(sequences, maxlen=max_text_len)\n",
        "upd_x_train = pad_sequences(upd_sequences, maxlen=max_text_len)"
      ],
      "execution_count": 57,
      "outputs": []
    },
    {
      "cell_type": "code",
      "metadata": {
        "id": "9z2Tp9X99p0y"
      },
      "source": [
        "from tensorflow.keras.models import Sequential\n",
        "from tensorflow.keras.layers import Dense, Embedding, MaxPooling1D, Conv1D, GlobalMaxPooling1D, Dropout, LSTM, GRU"
      ],
      "execution_count": 70,
      "outputs": []
    },
    {
      "cell_type": "code",
      "metadata": {
        "id": "meRsML1r9tFa"
      },
      "source": [
        "model_cnn = Sequential()\n",
        "model_cnn.add(Embedding(num_words, 32, input_length=max_text_len))\n",
        "model_cnn.add(Conv1D(2*file_names_size**2, 5, padding='valid', activation='relu'))\n",
        "model_cnn.add(GlobalMaxPooling1D())\n",
        "model_cnn.add(Dense(file_names_size**2, activation='relu'))\n",
        "model_cnn.add(Dense(file_names_size, activation='softmax'))"
      ],
      "execution_count": 71,
      "outputs": []
    },
    {
      "cell_type": "code",
      "metadata": {
        "id": "CTVx3zuS9vaR"
      },
      "source": [
        "model_cnn.compile(optimizer='adam', \n",
        "              loss='categorical_crossentropy', \n",
        "              metrics=['accuracy'])"
      ],
      "execution_count": 72,
      "outputs": []
    },
    {
      "cell_type": "code",
      "metadata": {
        "colab": {
          "base_uri": "https://localhost:8080/"
        },
        "id": "wPcsFZG29xlB",
        "outputId": "dd9177d9-81d7-46b3-a087-309402540278"
      },
      "source": [
        "model_cnn.summary()"
      ],
      "execution_count": 73,
      "outputs": [
        {
          "output_type": "stream",
          "name": "stdout",
          "text": [
            "Model: \"sequential_2\"\n",
            "_________________________________________________________________\n",
            "Layer (type)                 Output Shape              Param #   \n",
            "=================================================================\n",
            "embedding_2 (Embedding)      (None, 100, 32)           160000    \n",
            "_________________________________________________________________\n",
            "conv1d_2 (Conv1D)            (None, 96, 338)           54418     \n",
            "_________________________________________________________________\n",
            "global_max_pooling1d_2 (Glob (None, 338)               0         \n",
            "_________________________________________________________________\n",
            "dense_4 (Dense)              (None, 169)               57291     \n",
            "_________________________________________________________________\n",
            "dense_5 (Dense)              (None, 13)                2210      \n",
            "=================================================================\n",
            "Total params: 273,919\n",
            "Trainable params: 273,919\n",
            "Non-trainable params: 0\n",
            "_________________________________________________________________\n"
          ]
        }
      ]
    },
    {
      "cell_type": "code",
      "metadata": {
        "id": "Sxz2Udrz98uZ"
      },
      "source": [
        "from tensorflow.keras.callbacks import ModelCheckpoint"
      ],
      "execution_count": 74,
      "outputs": []
    },
    {
      "cell_type": "code",
      "metadata": {
        "id": "RGr3ar-j9ztp"
      },
      "source": [
        "model_cnn_save_path = 'best_model_cnn.h5'\n",
        "checkpoint_callback_cnn = ModelCheckpoint(model_cnn_save_path, \n",
        "                                      monitor='val_accuracy',\n",
        "                                      save_best_only=True,\n",
        "                                      verbose=1)\n",
        "upd_model_cnn_save_path = 'upd_best_model_cnn.h5'\n",
        "upd_checkpoint_callback_cnn = ModelCheckpoint(upd_model_cnn_save_path, \n",
        "                                      monitor='val_accuracy',\n",
        "                                      save_best_only=True,\n",
        "                                      verbose=1)"
      ],
      "execution_count": 75,
      "outputs": []
    },
    {
      "cell_type": "code",
      "metadata": {
        "colab": {
          "base_uri": "https://localhost:8080/"
        },
        "id": "RBEiaZq79_Ka",
        "outputId": "b937bc75-6fa7-4daa-bd5b-544f98bd81c6"
      },
      "source": [
        "upd_history_cnn = model_cnn.fit(upd_x_train, \n",
        "                            y_train, \n",
        "                            epochs=15,\n",
        "                            batch_size=256,\n",
        "                            validation_split=0.2,\n",
        "                            callbacks=[upd_checkpoint_callback_cnn])"
      ],
      "execution_count": 76,
      "outputs": [
        {
          "output_type": "stream",
          "name": "stdout",
          "text": [
            "Epoch 1/15\n",
            "33/33 [==============================] - 10s 287ms/step - loss: 2.4507 - accuracy: 0.0941 - val_loss: 5.3422 - val_accuracy: 0.0000e+00\n",
            "\n",
            "Epoch 00001: val_accuracy improved from -inf to 0.00000, saving model to upd_best_model_cnn.h5\n",
            "Epoch 2/15\n",
            "33/33 [==============================] - 9s 280ms/step - loss: 2.3487 - accuracy: 0.1507 - val_loss: 7.0232 - val_accuracy: 0.0000e+00\n",
            "\n",
            "Epoch 00002: val_accuracy did not improve from 0.00000\n",
            "Epoch 3/15\n",
            "33/33 [==============================] - 9s 278ms/step - loss: 2.2371 - accuracy: 0.2385 - val_loss: 8.0377 - val_accuracy: 0.0000e+00\n",
            "\n",
            "Epoch 00003: val_accuracy did not improve from 0.00000\n",
            "Epoch 4/15\n",
            "33/33 [==============================] - 9s 279ms/step - loss: 1.9383 - accuracy: 0.3528 - val_loss: 9.7252 - val_accuracy: 0.0000e+00\n",
            "\n",
            "Epoch 00004: val_accuracy did not improve from 0.00000\n",
            "Epoch 5/15\n",
            "33/33 [==============================] - 9s 280ms/step - loss: 1.6480 - accuracy: 0.4545 - val_loss: 11.0682 - val_accuracy: 0.0218\n",
            "\n",
            "Epoch 00005: val_accuracy improved from 0.00000 to 0.02183, saving model to upd_best_model_cnn.h5\n",
            "Epoch 6/15\n",
            "33/33 [==============================] - 9s 280ms/step - loss: 1.4059 - accuracy: 0.5357 - val_loss: 12.1352 - val_accuracy: 0.0076\n",
            "\n",
            "Epoch 00006: val_accuracy did not improve from 0.02183\n",
            "Epoch 7/15\n",
            "33/33 [==============================] - 9s 277ms/step - loss: 1.2088 - accuracy: 0.5964 - val_loss: 13.1253 - val_accuracy: 0.0171\n",
            "\n",
            "Epoch 00007: val_accuracy did not improve from 0.02183\n",
            "Epoch 8/15\n",
            "33/33 [==============================] - 9s 279ms/step - loss: 1.0365 - accuracy: 0.6687 - val_loss: 14.0253 - val_accuracy: 0.0271\n",
            "\n",
            "Epoch 00008: val_accuracy improved from 0.02183 to 0.02705, saving model to upd_best_model_cnn.h5\n",
            "Epoch 9/15\n",
            "33/33 [==============================] - 9s 277ms/step - loss: 0.8752 - accuracy: 0.7247 - val_loss: 14.7048 - val_accuracy: 0.0327\n",
            "\n",
            "Epoch 00009: val_accuracy improved from 0.02705 to 0.03275, saving model to upd_best_model_cnn.h5\n",
            "Epoch 10/15\n",
            "33/33 [==============================] - 9s 277ms/step - loss: 0.7352 - accuracy: 0.7772 - val_loss: 15.5900 - val_accuracy: 0.0475\n",
            "\n",
            "Epoch 00010: val_accuracy improved from 0.03275 to 0.04746, saving model to upd_best_model_cnn.h5\n",
            "Epoch 11/15\n",
            "33/33 [==============================] - 9s 279ms/step - loss: 0.5961 - accuracy: 0.8344 - val_loss: 16.5300 - val_accuracy: 0.0375\n",
            "\n",
            "Epoch 00011: val_accuracy did not improve from 0.04746\n",
            "Epoch 12/15\n",
            "33/33 [==============================] - 9s 280ms/step - loss: 0.4724 - accuracy: 0.8830 - val_loss: 17.5799 - val_accuracy: 0.0413\n",
            "\n",
            "Epoch 00012: val_accuracy did not improve from 0.04746\n",
            "Epoch 13/15\n",
            "33/33 [==============================] - 9s 280ms/step - loss: 0.3699 - accuracy: 0.9189 - val_loss: 18.6084 - val_accuracy: 0.0475\n",
            "\n",
            "Epoch 00013: val_accuracy did not improve from 0.04746\n",
            "Epoch 14/15\n",
            "33/33 [==============================] - 9s 270ms/step - loss: 0.2843 - accuracy: 0.9467 - val_loss: 19.4855 - val_accuracy: 0.0612\n",
            "\n",
            "Epoch 00014: val_accuracy improved from 0.04746 to 0.06122, saving model to upd_best_model_cnn.h5\n",
            "Epoch 15/15\n",
            "33/33 [==============================] - 9s 269ms/step - loss: 0.2111 - accuracy: 0.9719 - val_loss: 20.5024 - val_accuracy: 0.0555\n",
            "\n",
            "Epoch 00015: val_accuracy did not improve from 0.06122\n"
          ]
        }
      ]
    },
    {
      "cell_type": "code",
      "metadata": {
        "colab": {
          "base_uri": "https://localhost:8080/"
        },
        "id": "kFcHK7NB-FK5",
        "outputId": "5fe83ec6-8bcb-48e6-ea0b-748b47504ab0"
      },
      "source": [
        "history_cnn = model_cnn.fit(x_train, \n",
        "                            y_train, \n",
        "                            epochs=15,\n",
        "                            batch_size=256,\n",
        "                            validation_split=0.2,\n",
        "                            callbacks=[checkpoint_callback_cnn])"
      ],
      "execution_count": 77,
      "outputs": [
        {
          "output_type": "stream",
          "name": "stdout",
          "text": [
            "Epoch 1/15\n",
            "33/33 [==============================] - 9s 272ms/step - loss: 3.4293 - accuracy: 0.1621 - val_loss: 15.0781 - val_accuracy: 9.4922e-04\n",
            "\n",
            "Epoch 00001: val_accuracy improved from -inf to 0.00095, saving model to best_model_cnn.h5\n",
            "Epoch 2/15\n",
            "33/33 [==============================] - 9s 270ms/step - loss: 1.7885 - accuracy: 0.4012 - val_loss: 13.8372 - val_accuracy: 0.0066\n",
            "\n",
            "Epoch 00002: val_accuracy improved from 0.00095 to 0.00664, saving model to best_model_cnn.h5\n",
            "Epoch 3/15\n",
            "33/33 [==============================] - 9s 275ms/step - loss: 1.4610 - accuracy: 0.5256 - val_loss: 14.0978 - val_accuracy: 0.0024\n",
            "\n",
            "Epoch 00003: val_accuracy did not improve from 0.00664\n",
            "Epoch 4/15\n",
            "33/33 [==============================] - 9s 274ms/step - loss: 1.2492 - accuracy: 0.5976 - val_loss: 14.2149 - val_accuracy: 0.0095\n",
            "\n",
            "Epoch 00004: val_accuracy improved from 0.00664 to 0.00949, saving model to best_model_cnn.h5\n",
            "Epoch 5/15\n",
            "33/33 [==============================] - 9s 274ms/step - loss: 1.0780 - accuracy: 0.6674 - val_loss: 14.4344 - val_accuracy: 0.0161\n",
            "\n",
            "Epoch 00005: val_accuracy improved from 0.00949 to 0.01614, saving model to best_model_cnn.h5\n",
            "Epoch 6/15\n",
            "33/33 [==============================] - 9s 276ms/step - loss: 0.9314 - accuracy: 0.7255 - val_loss: 15.0351 - val_accuracy: 0.0128\n",
            "\n",
            "Epoch 00006: val_accuracy did not improve from 0.01614\n",
            "Epoch 7/15\n",
            "33/33 [==============================] - 9s 277ms/step - loss: 0.7790 - accuracy: 0.7887 - val_loss: 15.5045 - val_accuracy: 0.0185\n",
            "\n",
            "Epoch 00007: val_accuracy improved from 0.01614 to 0.01851, saving model to best_model_cnn.h5\n",
            "Epoch 8/15\n",
            "33/33 [==============================] - 9s 274ms/step - loss: 0.6574 - accuracy: 0.8356 - val_loss: 16.0722 - val_accuracy: 0.0252\n",
            "\n",
            "Epoch 00008: val_accuracy improved from 0.01851 to 0.02515, saving model to best_model_cnn.h5\n",
            "Epoch 9/15\n",
            "33/33 [==============================] - 9s 273ms/step - loss: 0.5378 - accuracy: 0.8827 - val_loss: 16.8385 - val_accuracy: 0.0161\n",
            "\n",
            "Epoch 00009: val_accuracy did not improve from 0.02515\n",
            "Epoch 10/15\n",
            "33/33 [==============================] - 9s 274ms/step - loss: 0.4427 - accuracy: 0.9150 - val_loss: 17.3850 - val_accuracy: 0.0275\n",
            "\n",
            "Epoch 00010: val_accuracy improved from 0.02515 to 0.02753, saving model to best_model_cnn.h5\n",
            "Epoch 11/15\n",
            "33/33 [==============================] - 9s 274ms/step - loss: 0.3512 - accuracy: 0.9462 - val_loss: 18.0265 - val_accuracy: 0.0161\n",
            "\n",
            "Epoch 00011: val_accuracy did not improve from 0.02753\n",
            "Epoch 12/15\n",
            "33/33 [==============================] - 9s 275ms/step - loss: 0.2797 - accuracy: 0.9659 - val_loss: 18.4652 - val_accuracy: 0.0408\n",
            "\n",
            "Epoch 00012: val_accuracy improved from 0.02753 to 0.04082, saving model to best_model_cnn.h5\n",
            "Epoch 13/15\n",
            "33/33 [==============================] - 9s 278ms/step - loss: 0.2200 - accuracy: 0.9785 - val_loss: 19.2316 - val_accuracy: 0.0323\n",
            "\n",
            "Epoch 00013: val_accuracy did not improve from 0.04082\n",
            "Epoch 14/15\n",
            "33/33 [==============================] - 9s 274ms/step - loss: 0.1752 - accuracy: 0.9887 - val_loss: 19.7775 - val_accuracy: 0.0413\n",
            "\n",
            "Epoch 00014: val_accuracy improved from 0.04082 to 0.04129, saving model to best_model_cnn.h5\n",
            "Epoch 15/15\n",
            "33/33 [==============================] - 9s 274ms/step - loss: 0.1384 - accuracy: 0.9932 - val_loss: 20.3934 - val_accuracy: 0.0304\n",
            "\n",
            "Epoch 00015: val_accuracy did not improve from 0.04129\n"
          ]
        }
      ]
    },
    {
      "cell_type": "code",
      "metadata": {
        "id": "GzV8L44w-J-O"
      },
      "source": [
        "import matplotlib.pyplot as plt"
      ],
      "execution_count": 78,
      "outputs": []
    },
    {
      "cell_type": "code",
      "metadata": {
        "colab": {
          "base_uri": "https://localhost:8080/",
          "height": 606
        },
        "id": "7AJZ-ekA-RVZ",
        "outputId": "7a43913f-aec3-4c00-aaac-009c91a444f2"
      },
      "source": [
        "plt.plot(history_cnn.history['accuracy'], \n",
        "         label='train accuracy')\n",
        "plt.plot(history_cnn.history['val_accuracy'], \n",
        "         label='test accuracy')\n",
        "plt.plot(upd_history_cnn.history['accuracy'], \n",
        "         label='upd train accuracy')\n",
        "plt.plot(upd_history_cnn.history['val_accuracy'], \n",
        "         label='upd test accuracy')\n",
        "plt.xlabel('epoch')\n",
        "plt.ylabel('accuracy')\n",
        "plt.rcParams[\"figure.figsize\"] = (20,10)\n",
        "plt.legend()\n",
        "plt.show()"
      ],
      "execution_count": 242,
      "outputs": [
        {
          "output_type": "display_data",
          "data": {
            "image/png": "[encoded data removed]",
            "text/plain": [
              "<Figure size 2160x720 with 1 Axes>"
            ]
          },
          "metadata": {
            "needs_background": "light"
          }
        }
      ]
    },
    {
      "cell_type": "code",
      "metadata": {
        "id": "yvM-Xw3x-UqZ"
      },
      "source": [
        "model_lstm = Sequential()\n",
        "model_lstm.add(Embedding(num_words, 32, input_length=max_text_len))\n",
        "model_lstm.add(LSTM(169))\n",
        "model_lstm.add(Dense(13, activation='softmax'))"
      ],
      "execution_count": 80,
      "outputs": []
    },
    {
      "cell_type": "code",
      "metadata": {
        "id": "WH34Zihn-arb"
      },
      "source": [
        "model_lstm.compile(optimizer='adam', \n",
        "              loss='categorical_crossentropy', \n",
        "              metrics=['accuracy'])"
      ],
      "execution_count": 81,
      "outputs": []
    },
    {
      "cell_type": "code",
      "metadata": {
        "colab": {
          "base_uri": "https://localhost:8080/"
        },
        "id": "RUVtD_Pk-g45",
        "outputId": "31e6f0a4-23b4-4145-f182-c17a40577302"
      },
      "source": [
        "model_lstm.summary()"
      ],
      "execution_count": 82,
      "outputs": [
        {
          "output_type": "stream",
          "name": "stdout",
          "text": [
            "Model: \"sequential_3\"\n",
            "_________________________________________________________________\n",
            "Layer (type)                 Output Shape              Param #   \n",
            "=================================================================\n",
            "embedding_3 (Embedding)      (None, 100, 32)           160000    \n",
            "_________________________________________________________________\n",
            "lstm (LSTM)                  (None, 169)               136552    \n",
            "_________________________________________________________________\n",
            "dense_6 (Dense)              (None, 13)                2210      \n",
            "=================================================================\n",
            "Total params: 298,762\n",
            "Trainable params: 298,762\n",
            "Non-trainable params: 0\n",
            "_________________________________________________________________\n"
          ]
        }
      ]
    },
    {
      "cell_type": "code",
      "metadata": {
        "id": "uzELCoLF-lia"
      },
      "source": [
        "model_lstm_save_path = 'best_model_lstm.h5'\n",
        "checkpoint_callback_lstm = ModelCheckpoint(model_lstm_save_path, \n",
        "                                      monitor='val_accuracy',\n",
        "                                      save_best_only=True,\n",
        "                                      verbose=1)\n",
        "upd_model_lstm_save_path = 'upd_best_model_lstm.h5'\n",
        "upd_checkpoint_callback_lstm = ModelCheckpoint(upd_model_lstm_save_path, \n",
        "                                      monitor='val_accuracy',\n",
        "                                      save_best_only=True,\n",
        "                                      verbose=1)"
      ],
      "execution_count": 83,
      "outputs": []
    },
    {
      "cell_type": "code",
      "metadata": {
        "colab": {
          "base_uri": "https://localhost:8080/"
        },
        "id": "9utRAIgN-uep",
        "outputId": "461ffc94-b802-4fb5-8dc0-c8731e2afa60"
      },
      "source": [
        "history_lstm = model_lstm.fit(x_train, \n",
        "                              y_train, \n",
        "                              epochs=15,\n",
        "                              batch_size=256,\n",
        "                              validation_split=0.2,\n",
        "                              callbacks=[checkpoint_callback_lstm])"
      ],
      "execution_count": 84,
      "outputs": [
        {
          "output_type": "stream",
          "name": "stdout",
          "text": [
            "Epoch 1/15\n",
            "33/33 [==============================] - 29s 823ms/step - loss: 2.4434 - accuracy: 0.0940 - val_loss: 5.8013 - val_accuracy: 0.0000e+00\n",
            "\n",
            "Epoch 00001: val_accuracy improved from -inf to 0.00000, saving model to best_model_lstm.h5\n",
            "Epoch 2/15\n",
            "33/33 [==============================] - 27s 809ms/step - loss: 2.3858 - accuracy: 0.0986 - val_loss: 6.1548 - val_accuracy: 0.0000e+00\n",
            "\n",
            "Epoch 00002: val_accuracy did not improve from 0.00000\n",
            "Epoch 3/15\n",
            "33/33 [==============================] - 27s 806ms/step - loss: 2.3665 - accuracy: 0.1462 - val_loss: 5.8168 - val_accuracy: 0.0000e+00\n",
            "\n",
            "Epoch 00003: val_accuracy did not improve from 0.00000\n",
            "Epoch 4/15\n",
            "33/33 [==============================] - 26s 804ms/step - loss: 2.3008 - accuracy: 0.2015 - val_loss: 5.0269 - val_accuracy: 0.0000e+00\n",
            "\n",
            "Epoch 00004: val_accuracy did not improve from 0.00000\n",
            "Epoch 5/15\n",
            "33/33 [==============================] - 26s 804ms/step - loss: 2.1285 - accuracy: 0.2819 - val_loss: 4.9159 - val_accuracy: 0.0000e+00\n",
            "\n",
            "Epoch 00005: val_accuracy did not improve from 0.00000\n",
            "Epoch 6/15\n",
            "33/33 [==============================] - 27s 807ms/step - loss: 1.9185 - accuracy: 0.3738 - val_loss: 5.0209 - val_accuracy: 0.0000e+00\n",
            "\n",
            "Epoch 00006: val_accuracy did not improve from 0.00000\n",
            "Epoch 7/15\n",
            "33/33 [==============================] - 27s 806ms/step - loss: 1.7137 - accuracy: 0.4343 - val_loss: 5.6598 - val_accuracy: 0.0000e+00\n",
            "\n",
            "Epoch 00007: val_accuracy did not improve from 0.00000\n",
            "Epoch 8/15\n",
            "33/33 [==============================] - 27s 818ms/step - loss: 1.5270 - accuracy: 0.4913 - val_loss: 5.8458 - val_accuracy: 0.0000e+00\n",
            "\n",
            "Epoch 00008: val_accuracy did not improve from 0.00000\n",
            "Epoch 9/15\n",
            "33/33 [==============================] - 27s 806ms/step - loss: 1.3690 - accuracy: 0.5462 - val_loss: 6.4645 - val_accuracy: 0.0057\n",
            "\n",
            "Epoch 00009: val_accuracy improved from 0.00000 to 0.00570, saving model to best_model_lstm.h5\n",
            "Epoch 10/15\n",
            "33/33 [==============================] - 27s 812ms/step - loss: 1.2131 - accuracy: 0.6015 - val_loss: 6.1776 - val_accuracy: 0.0109\n",
            "\n",
            "Epoch 00010: val_accuracy improved from 0.00570 to 0.01092, saving model to best_model_lstm.h5\n",
            "Epoch 11/15\n",
            "33/33 [==============================] - 26s 798ms/step - loss: 1.0826 - accuracy: 0.6506 - val_loss: 6.6563 - val_accuracy: 0.0119\n",
            "\n",
            "Epoch 00011: val_accuracy improved from 0.01092 to 0.01187, saving model to best_model_lstm.h5\n",
            "Epoch 12/15\n",
            "33/33 [==============================] - 26s 801ms/step - loss: 0.9664 - accuracy: 0.6889 - val_loss: 6.6240 - val_accuracy: 0.0119\n",
            "\n",
            "Epoch 00012: val_accuracy did not improve from 0.01187\n",
            "Epoch 13/15\n",
            "33/33 [==============================] - 26s 799ms/step - loss: 0.8928 - accuracy: 0.7188 - val_loss: 7.2216 - val_accuracy: 0.0351\n",
            "\n",
            "Epoch 00013: val_accuracy improved from 0.01187 to 0.03512, saving model to best_model_lstm.h5\n",
            "Epoch 14/15\n",
            "33/33 [==============================] - 26s 791ms/step - loss: 0.7715 - accuracy: 0.7608 - val_loss: 7.3500 - val_accuracy: 0.0308\n",
            "\n",
            "Epoch 00014: val_accuracy did not improve from 0.03512\n",
            "Epoch 15/15\n",
            "33/33 [==============================] - 27s 810ms/step - loss: 0.6882 - accuracy: 0.7881 - val_loss: 7.1768 - val_accuracy: 0.0323\n",
            "\n",
            "Epoch 00015: val_accuracy did not improve from 0.03512\n"
          ]
        }
      ]
    },
    {
      "cell_type": "code",
      "metadata": {
        "colab": {
          "base_uri": "https://localhost:8080/"
        },
        "id": "KqosYgBC-xYR",
        "outputId": "a6bf526b-5ce8-46f3-c009-0b34f02e9364"
      },
      "source": [
        "upd_history_lstm = model_lstm.fit(upd_x_train, \n",
        "                              y_train, \n",
        "                              epochs=15,\n",
        "                              batch_size=256,\n",
        "                              validation_split=0.2,\n",
        "                              callbacks=[upd_checkpoint_callback_lstm])"
      ],
      "execution_count": 85,
      "outputs": [
        {
          "output_type": "stream",
          "name": "stdout",
          "text": [
            "Epoch 1/15\n",
            "33/33 [==============================] - 27s 815ms/step - loss: 2.7709 - accuracy: 0.1129 - val_loss: 3.2787 - val_accuracy: 0.0028\n",
            "\n",
            "Epoch 00001: val_accuracy improved from -inf to 0.00285, saving model to upd_best_model_lstm.h5\n",
            "Epoch 2/15\n",
            "33/33 [==============================] - 27s 816ms/step - loss: 2.3820 - accuracy: 0.1758 - val_loss: 3.9594 - val_accuracy: 4.7461e-04\n",
            "\n",
            "Epoch 00002: val_accuracy did not improve from 0.00285\n",
            "Epoch 3/15\n",
            "33/33 [==============================] - 27s 822ms/step - loss: 2.2224 - accuracy: 0.2297 - val_loss: 4.9321 - val_accuracy: 4.7461e-04\n",
            "\n",
            "Epoch 00003: val_accuracy did not improve from 0.00285\n",
            "Epoch 4/15\n",
            "33/33 [==============================] - 27s 808ms/step - loss: 2.0095 - accuracy: 0.3112 - val_loss: 5.9376 - val_accuracy: 0.0000e+00\n",
            "\n",
            "Epoch 00004: val_accuracy did not improve from 0.00285\n",
            "Epoch 5/15\n",
            "33/33 [==============================] - 26s 790ms/step - loss: 1.7581 - accuracy: 0.3995 - val_loss: 5.8749 - val_accuracy: 0.0066\n",
            "\n",
            "Epoch 00005: val_accuracy improved from 0.00285 to 0.00664, saving model to upd_best_model_lstm.h5\n",
            "Epoch 6/15\n",
            "33/33 [==============================] - 26s 793ms/step - loss: 1.5496 - accuracy: 0.4738 - val_loss: 6.1956 - val_accuracy: 0.0157\n",
            "\n",
            "Epoch 00006: val_accuracy improved from 0.00664 to 0.01566, saving model to upd_best_model_lstm.h5\n",
            "Epoch 7/15\n",
            "33/33 [==============================] - 26s 801ms/step - loss: 1.3836 - accuracy: 0.5360 - val_loss: 6.2261 - val_accuracy: 0.0209\n",
            "\n",
            "Epoch 00007: val_accuracy improved from 0.01566 to 0.02088, saving model to upd_best_model_lstm.h5\n",
            "Epoch 8/15\n",
            "33/33 [==============================] - 26s 794ms/step - loss: 1.2409 - accuracy: 0.5886 - val_loss: 6.8054 - val_accuracy: 0.0304\n",
            "\n",
            "Epoch 00008: val_accuracy improved from 0.02088 to 0.03037, saving model to upd_best_model_lstm.h5\n",
            "Epoch 9/15\n",
            "33/33 [==============================] - 26s 793ms/step - loss: 1.1192 - accuracy: 0.6274 - val_loss: 6.8980 - val_accuracy: 0.0318\n",
            "\n",
            "Epoch 00009: val_accuracy improved from 0.03037 to 0.03180, saving model to upd_best_model_lstm.h5\n",
            "Epoch 10/15\n",
            "33/33 [==============================] - 26s 795ms/step - loss: 1.0122 - accuracy: 0.6706 - val_loss: 7.1786 - val_accuracy: 0.0351\n",
            "\n",
            "Epoch 00010: val_accuracy improved from 0.03180 to 0.03512, saving model to upd_best_model_lstm.h5\n",
            "Epoch 11/15\n",
            "33/33 [==============================] - 26s 793ms/step - loss: 0.8992 - accuracy: 0.7132 - val_loss: 7.9201 - val_accuracy: 0.0318\n",
            "\n",
            "Epoch 00011: val_accuracy did not improve from 0.03512\n",
            "Epoch 12/15\n",
            "33/33 [==============================] - 26s 804ms/step - loss: 0.8058 - accuracy: 0.7448 - val_loss: 7.5573 - val_accuracy: 0.0432\n",
            "\n",
            "Epoch 00012: val_accuracy improved from 0.03512 to 0.04319, saving model to upd_best_model_lstm.h5\n",
            "Epoch 13/15\n",
            "33/33 [==============================] - 26s 801ms/step - loss: 0.7298 - accuracy: 0.7748 - val_loss: 7.5775 - val_accuracy: 0.0517\n",
            "\n",
            "Epoch 00013: val_accuracy improved from 0.04319 to 0.05173, saving model to upd_best_model_lstm.h5\n",
            "Epoch 14/15\n",
            "33/33 [==============================] - 27s 805ms/step - loss: 0.6558 - accuracy: 0.7982 - val_loss: 7.2791 - val_accuracy: 0.0570\n",
            "\n",
            "Epoch 00014: val_accuracy improved from 0.05173 to 0.05695, saving model to upd_best_model_lstm.h5\n",
            "Epoch 15/15\n",
            "33/33 [==============================] - 26s 799ms/step - loss: 0.6049 - accuracy: 0.8210 - val_loss: 8.0284 - val_accuracy: 0.0370\n",
            "\n",
            "Epoch 00015: val_accuracy did not improve from 0.05695\n"
          ]
        }
      ]
    },
    {
      "cell_type": "code",
      "metadata": {
        "colab": {
          "base_uri": "https://localhost:8080/",
          "height": 606
        },
        "id": "a-AGfS6g-016",
        "outputId": "b69693cb-aa11-4505-b164-1a3febdbdd83"
      },
      "source": [
        "plt.plot(history_lstm.history['accuracy'], \n",
        "         label='train accuracy')\n",
        "plt.plot(history_lstm.history['val_accuracy'], \n",
        "         label='test accuracy')\n",
        "plt.plot(upd_history_lstm.history['accuracy'], \n",
        "         label='upd train accuracy')\n",
        "plt.plot(upd_history_lstm.history['val_accuracy'], \n",
        "         label='upd test accuracy')\n",
        "plt.xlabel('epoch')\n",
        "plt.ylabel('accuracy')\n",
        "plt.rcParams[\"figure.figsize\"] = (20,10)\n",
        "plt.legend()\n",
        "plt.show()"
      ],
      "execution_count": 243,
      "outputs": [
        {
          "output_type": "display_data",
          "data": {
            "image/png": "[encoded data removed]",
            "text/plain": [
              "<Figure size 1440x720 with 1 Axes>"
            ]
          },
          "metadata": {
            "needs_background": "light"
          }
        }
      ]
    },
    {
      "cell_type": "code",
      "metadata": {
        "id": "YjR_EIRS-5Gh"
      },
      "source": [
        "model_gru = Sequential()\n",
        "model_gru.add(Embedding(num_words, 32, input_length=max_text_len))\n",
        "model_gru.add(GRU(169))\n",
        "model_gru.add(Dense(13, activation='softmax'))"
      ],
      "execution_count": 87,
      "outputs": []
    },
    {
      "cell_type": "code",
      "metadata": {
        "id": "kB-wufox-77S"
      },
      "source": [
        "model_gru.compile(optimizer='adam', \n",
        "              loss='categorical_crossentropy', \n",
        "              metrics=['accuracy'])"
      ],
      "execution_count": 88,
      "outputs": []
    },
    {
      "cell_type": "code",
      "metadata": {
        "colab": {
          "base_uri": "https://localhost:8080/"
        },
        "id": "7KmQ6JoI-9s6",
        "outputId": "d5e8abcc-78ff-4cca-97ec-c593ad1522ec"
      },
      "source": [
        "model_gru.summary()"
      ],
      "execution_count": 89,
      "outputs": [
        {
          "output_type": "stream",
          "name": "stdout",
          "text": [
            "Model: \"sequential_4\"\n",
            "_________________________________________________________________\n",
            "Layer (type)                 Output Shape              Param #   \n",
            "=================================================================\n",
            "embedding_4 (Embedding)      (None, 100, 32)           160000    \n",
            "_________________________________________________________________\n",
            "gru (GRU)                    (None, 169)               102921    \n",
            "_________________________________________________________________\n",
            "dense_7 (Dense)              (None, 13)                2210      \n",
            "=================================================================\n",
            "Total params: 265,131\n",
            "Trainable params: 265,131\n",
            "Non-trainable params: 0\n",
            "_________________________________________________________________\n"
          ]
        }
      ]
    },
    {
      "cell_type": "code",
      "metadata": {
        "id": "GiUogDyi-_wi"
      },
      "source": [
        "model_gru_save_path = 'best_model_gru.h5'\n",
        "checkpoint_callback_gru = ModelCheckpoint(model_gru_save_path, \n",
        "                                      monitor='val_accuracy',\n",
        "                                      save_best_only=True,\n",
        "                                      verbose=1)\n",
        "upd_model_gru_save_path = 'upd_best_model_gru.h5'\n",
        "upd_checkpoint_callback_gru = ModelCheckpoint(upd_model_gru_save_path, \n",
        "                                      monitor='val_accuracy',\n",
        "                                      save_best_only=True,\n",
        "                                      verbose=1)"
      ],
      "execution_count": 90,
      "outputs": []
    },
    {
      "cell_type": "code",
      "metadata": {
        "colab": {
          "base_uri": "https://localhost:8080/"
        },
        "id": "5xlYHHMw_DaR",
        "outputId": "aea0fc7a-fd8c-4dad-df1b-969806394fa4"
      },
      "source": [
        "upd_history_gru = model_gru.fit(upd_x_train, \n",
        "                              y_train, \n",
        "                              epochs=15,\n",
        "                              batch_size=256,\n",
        "                              validation_split=0.2,\n",
        "                              callbacks=[upd_checkpoint_callback_gru])"
      ],
      "execution_count": 91,
      "outputs": [
        {
          "output_type": "stream",
          "name": "stdout",
          "text": [
            "Epoch 1/15\n",
            "33/33 [==============================] - 25s 685ms/step - loss: 2.4602 - accuracy: 0.0957 - val_loss: 4.7888 - val_accuracy: 0.0000e+00\n",
            "\n",
            "Epoch 00001: val_accuracy improved from -inf to 0.00000, saving model to upd_best_model_gru.h5\n",
            "Epoch 2/15\n",
            "33/33 [==============================] - 22s 667ms/step - loss: 2.3720 - accuracy: 0.1397 - val_loss: 6.3306 - val_accuracy: 0.0000e+00\n",
            "\n",
            "Epoch 00002: val_accuracy did not improve from 0.00000\n",
            "Epoch 3/15\n",
            "33/33 [==============================] - 22s 669ms/step - loss: 2.3319 - accuracy: 0.1816 - val_loss: 5.9257 - val_accuracy: 0.0000e+00\n",
            "\n",
            "Epoch 00003: val_accuracy did not improve from 0.00000\n",
            "Epoch 4/15\n",
            "33/33 [==============================] - 22s 672ms/step - loss: 2.1994 - accuracy: 0.2954 - val_loss: 5.7015 - val_accuracy: 0.0000e+00\n",
            "\n",
            "Epoch 00004: val_accuracy did not improve from 0.00000\n",
            "Epoch 5/15\n",
            "33/33 [==============================] - 22s 670ms/step - loss: 1.9358 - accuracy: 0.3769 - val_loss: 6.0111 - val_accuracy: 0.0000e+00\n",
            "\n",
            "Epoch 00005: val_accuracy did not improve from 0.00000\n",
            "Epoch 6/15\n",
            "33/33 [==============================] - 22s 670ms/step - loss: 1.6483 - accuracy: 0.4588 - val_loss: 5.7077 - val_accuracy: 0.0000e+00\n",
            "\n",
            "Epoch 00006: val_accuracy did not improve from 0.00000\n",
            "Epoch 7/15\n",
            "33/33 [==============================] - 22s 670ms/step - loss: 1.4591 - accuracy: 0.5166 - val_loss: 5.3917 - val_accuracy: 9.4922e-04\n",
            "\n",
            "Epoch 00007: val_accuracy improved from 0.00000 to 0.00095, saving model to upd_best_model_gru.h5\n",
            "Epoch 8/15\n",
            "33/33 [==============================] - 22s 670ms/step - loss: 1.2863 - accuracy: 0.5791 - val_loss: 6.2105 - val_accuracy: 0.0014\n",
            "\n",
            "Epoch 00008: val_accuracy improved from 0.00095 to 0.00142, saving model to upd_best_model_gru.h5\n",
            "Epoch 9/15\n",
            "33/33 [==============================] - 22s 671ms/step - loss: 1.1345 - accuracy: 0.6292 - val_loss: 6.2901 - val_accuracy: 0.0076\n",
            "\n",
            "Epoch 00009: val_accuracy improved from 0.00142 to 0.00759, saving model to upd_best_model_gru.h5\n",
            "Epoch 10/15\n",
            "33/33 [==============================] - 22s 675ms/step - loss: 1.0010 - accuracy: 0.6779 - val_loss: 7.0633 - val_accuracy: 0.0142\n",
            "\n",
            "Epoch 00010: val_accuracy improved from 0.00759 to 0.01424, saving model to upd_best_model_gru.h5\n",
            "Epoch 11/15\n",
            "33/33 [==============================] - 22s 675ms/step - loss: 0.8800 - accuracy: 0.7161 - val_loss: 7.0223 - val_accuracy: 0.0185\n",
            "\n",
            "Epoch 00011: val_accuracy improved from 0.01424 to 0.01851, saving model to upd_best_model_gru.h5\n",
            "Epoch 12/15\n",
            "33/33 [==============================] - 22s 662ms/step - loss: 0.7995 - accuracy: 0.7430 - val_loss: 7.3664 - val_accuracy: 0.0185\n",
            "\n",
            "Epoch 00012: val_accuracy did not improve from 0.01851\n",
            "Epoch 13/15\n",
            "33/33 [==============================] - 22s 670ms/step - loss: 0.6919 - accuracy: 0.7799 - val_loss: 7.3266 - val_accuracy: 0.0204\n",
            "\n",
            "Epoch 00013: val_accuracy improved from 0.01851 to 0.02041, saving model to upd_best_model_gru.h5\n",
            "Epoch 14/15\n",
            "33/33 [==============================] - 22s 660ms/step - loss: 0.6190 - accuracy: 0.8095 - val_loss: 7.5313 - val_accuracy: 0.0294\n",
            "\n",
            "Epoch 00014: val_accuracy improved from 0.02041 to 0.02943, saving model to upd_best_model_gru.h5\n",
            "Epoch 15/15\n",
            "33/33 [==============================] - 22s 665ms/step - loss: 0.5529 - accuracy: 0.8350 - val_loss: 7.8012 - val_accuracy: 0.0313\n",
            "\n",
            "Epoch 00015: val_accuracy improved from 0.02943 to 0.03132, saving model to upd_best_model_gru.h5\n"
          ]
        }
      ]
    },
    {
      "cell_type": "code",
      "metadata": {
        "colab": {
          "base_uri": "https://localhost:8080/"
        },
        "id": "vzfEnPPF_FaJ",
        "outputId": "af0ada09-a9b3-4edb-e212-0f2cd8129434"
      },
      "source": [
        "history_gru = model_gru.fit(x_train, \n",
        "                              y_train, \n",
        "                              epochs=15,\n",
        "                              batch_size=256,\n",
        "                              validation_split=0.2,\n",
        "                              callbacks=[checkpoint_callback_gru])"
      ],
      "execution_count": 92,
      "outputs": [
        {
          "output_type": "stream",
          "name": "stdout",
          "text": [
            "Epoch 1/15\n",
            "33/33 [==============================] - 22s 663ms/step - loss: 3.0766 - accuracy: 0.1085 - val_loss: 3.2443 - val_accuracy: 0.0085\n",
            "\n",
            "Epoch 00001: val_accuracy improved from -inf to 0.00854, saving model to best_model_gru.h5\n",
            "Epoch 2/15\n",
            "33/33 [==============================] - 22s 658ms/step - loss: 2.4003 - accuracy: 0.1771 - val_loss: 3.9564 - val_accuracy: 9.4922e-04\n",
            "\n",
            "Epoch 00002: val_accuracy did not improve from 0.00854\n",
            "Epoch 3/15\n",
            "33/33 [==============================] - 22s 663ms/step - loss: 2.2256 - accuracy: 0.2304 - val_loss: 4.6098 - val_accuracy: 4.7461e-04\n",
            "\n",
            "Epoch 00003: val_accuracy did not improve from 0.00854\n",
            "Epoch 4/15\n",
            "33/33 [==============================] - 22s 672ms/step - loss: 2.0986 - accuracy: 0.2818 - val_loss: 5.2152 - val_accuracy: 4.7461e-04\n",
            "\n",
            "Epoch 00004: val_accuracy did not improve from 0.00854\n",
            "Epoch 5/15\n",
            "33/33 [==============================] - 22s 666ms/step - loss: 1.9655 - accuracy: 0.3339 - val_loss: 5.7498 - val_accuracy: 4.7461e-04\n",
            "\n",
            "Epoch 00005: val_accuracy did not improve from 0.00854\n",
            "Epoch 6/15\n",
            "33/33 [==============================] - 22s 664ms/step - loss: 1.7868 - accuracy: 0.3983 - val_loss: 6.2434 - val_accuracy: 0.0057\n",
            "\n",
            "Epoch 00006: val_accuracy did not improve from 0.00854\n",
            "Epoch 7/15\n",
            "33/33 [==============================] - 22s 673ms/step - loss: 1.5999 - accuracy: 0.4678 - val_loss: 6.5730 - val_accuracy: 0.0085\n",
            "\n",
            "Epoch 00007: val_accuracy did not improve from 0.00854\n",
            "Epoch 8/15\n",
            "33/33 [==============================] - 22s 667ms/step - loss: 1.4435 - accuracy: 0.5186 - val_loss: 6.7960 - val_accuracy: 0.0190\n",
            "\n",
            "Epoch 00008: val_accuracy improved from 0.00854 to 0.01898, saving model to best_model_gru.h5\n",
            "Epoch 9/15\n",
            "33/33 [==============================] - 22s 659ms/step - loss: 1.2930 - accuracy: 0.5712 - val_loss: 7.1740 - val_accuracy: 0.0242\n",
            "\n",
            "Epoch 00009: val_accuracy improved from 0.01898 to 0.02421, saving model to best_model_gru.h5\n",
            "Epoch 10/15\n",
            "33/33 [==============================] - 22s 661ms/step - loss: 1.1559 - accuracy: 0.6161 - val_loss: 7.2134 - val_accuracy: 0.0252\n",
            "\n",
            "Epoch 00010: val_accuracy improved from 0.02421 to 0.02515, saving model to best_model_gru.h5\n",
            "Epoch 11/15\n",
            "33/33 [==============================] - 22s 665ms/step - loss: 1.0221 - accuracy: 0.6678 - val_loss: 7.7223 - val_accuracy: 0.0256\n",
            "\n",
            "Epoch 00011: val_accuracy improved from 0.02515 to 0.02563, saving model to best_model_gru.h5\n",
            "Epoch 12/15\n",
            "33/33 [==============================] - 22s 661ms/step - loss: 0.9057 - accuracy: 0.7058 - val_loss: 7.7534 - val_accuracy: 0.0195\n",
            "\n",
            "Epoch 00012: val_accuracy did not improve from 0.02563\n",
            "Epoch 13/15\n",
            "33/33 [==============================] - 22s 658ms/step - loss: 0.7974 - accuracy: 0.7449 - val_loss: 8.0678 - val_accuracy: 0.0266\n",
            "\n",
            "Epoch 00013: val_accuracy improved from 0.02563 to 0.02658, saving model to best_model_gru.h5\n",
            "Epoch 14/15\n",
            "33/33 [==============================] - 22s 659ms/step - loss: 0.7081 - accuracy: 0.7796 - val_loss: 8.4993 - val_accuracy: 0.0327\n",
            "\n",
            "Epoch 00014: val_accuracy improved from 0.02658 to 0.03275, saving model to best_model_gru.h5\n",
            "Epoch 15/15\n",
            "33/33 [==============================] - 22s 661ms/step - loss: 0.6342 - accuracy: 0.8008 - val_loss: 8.4841 - val_accuracy: 0.0361\n",
            "\n",
            "Epoch 00015: val_accuracy improved from 0.03275 to 0.03607, saving model to best_model_gru.h5\n"
          ]
        }
      ]
    },
    {
      "cell_type": "code",
      "metadata": {
        "colab": {
          "base_uri": "https://localhost:8080/",
          "height": 606
        },
        "id": "DAQxv3xY_KeR",
        "outputId": "91716e84-77be-4f4e-e819-f600d1db5c8c"
      },
      "source": [
        "plt.plot(history_gru.history['accuracy'], \n",
        "         label='train accuracy')\n",
        "plt.plot(history_gru.history['val_accuracy'], \n",
        "         label='test accuracy')\n",
        "plt.plot(upd_history_gru.history['accuracy'], \n",
        "         label='upd train accuracy')\n",
        "plt.plot(upd_history_gru.history['val_accuracy'], \n",
        "         label='upd test accuracy')\n",
        "plt.xlabel('epoch')\n",
        "plt.ylabel('accuracy')\n",
        "plt.rcParams[\"figure.figsize\"] = (20,10)\n",
        "plt.legend()\n",
        "plt.show()"
      ],
      "execution_count": 244,
      "outputs": [
        {
          "output_type": "display_data",
          "data": {
            "image/png": "[encoded data removed]",
            "text/plain": [
              "<Figure size 1440x720 with 1 Axes>"
            ]
          },
          "metadata": {
            "needs_background": "light"
          }
        }
      ]
    },
    {
      "cell_type": "code",
      "metadata": {
        "id": "GVQ9bwhnIVlM"
      },
      "source": [
        "y_test = utils.to_categorical(test['THEME'],file_names_size)"
      ],
      "execution_count": 190,
      "outputs": []
    },
    {
      "cell_type": "code",
      "metadata": {
        "id": "vUx1OyUD_NKh"
      },
      "source": [
        "x_test = test['MESSAGE']"
      ],
      "execution_count": 191,
      "outputs": []
    },
    {
      "cell_type": "code",
      "metadata": {
        "id": "-u9nnNYqAtzS"
      },
      "source": [
        "upd_x_test = []\n",
        "\n",
        "for i in x_test:\n",
        "  upd_test = token_and_stem(i)\n",
        "  upd_x_test.append(upd_test)"
      ],
      "execution_count": null,
      "outputs": []
    },
    {
      "cell_type": "code",
      "metadata": {
        "id": "ZQ1KkyVKA83P"
      },
      "source": [
        "tokens = []\n",
        "upd_test = []\n",
        "\n",
        "for x_tr in upd_x_test:\n",
        "  for token in x_tr:\n",
        "    if token not in stopwords:\n",
        "      tokens.append(token)\n",
        "  upd_test.append(tokens)\n",
        "  tokens = []"
      ],
      "execution_count": 193,
      "outputs": []
    },
    {
      "cell_type": "code",
      "metadata": {
        "id": "-BBWfYpyA9Vc"
      },
      "source": [
        "test_sequences = tokenizer.texts_to_sequences(x_test)\n",
        "upd_test_sequences = upd_tokenizer.texts_to_sequences(upd_test)"
      ],
      "execution_count": 194,
      "outputs": []
    },
    {
      "cell_type": "code",
      "metadata": {
        "id": "GYnj0nuwBDdq"
      },
      "source": [
        "x_test = pad_sequences(test_sequences, maxlen=max_text_len)\n",
        "upd_x_test = pad_sequences(upd_test_sequences, maxlen=max_text_len)"
      ],
      "execution_count": 195,
      "outputs": []
    },
    {
      "cell_type": "code",
      "metadata": {
        "colab": {
          "base_uri": "https://localhost:8080/"
        },
        "id": "n3EoR0IpBHw6",
        "outputId": "af5b9e7a-c4b0-4709-b642-a34829bea587"
      },
      "source": [
        "model_cnn.load_weights(model_cnn_save_path)\n",
        "model_cnn.evaluate(x_test, y_test, verbose=1)"
      ],
      "execution_count": 196,
      "outputs": [
        {
          "output_type": "stream",
          "name": "stdout",
          "text": [
            "83/83 [==============================] - 1s 10ms/step - loss: 6.1924 - accuracy: 0.2964\n"
          ]
        },
        {
          "output_type": "execute_result",
          "data": {
            "text/plain": [
              "[6.192416667938232, 0.29643669724464417]"
            ]
          },
          "metadata": {},
          "execution_count": 196
        }
      ]
    },
    {
      "cell_type": "code",
      "metadata": {
        "id": "8Zo03F-7TMQz"
      },
      "source": [
        "from sklearn.metrics import classification_report"
      ],
      "execution_count": 197,
      "outputs": []
    },
    {
      "cell_type": "code",
      "metadata": {
        "colab": {
          "base_uri": "https://localhost:8080/"
        },
        "id": "tYJLE3uMWYgd",
        "outputId": "a453d8f3-dbac-49d6-b058-adad37666831"
      },
      "source": [
        "pred = model_cnn.predict(x_test, batch_size = 32)\n",
        "pred = np.argmax(pred, axis=1)\n",
        "print(pred[:1000])"
      ],
      "execution_count": 260,
      "outputs": [
        {
          "output_type": "stream",
          "name": "stdout",
          "text": [
            "[ 2  8  2  7  0  1  6  5  5  2 10  7  2  1  6  8  5  2  7  2  6  1  5  6\n",
            "  1  5  7  3  2  5 10  5  2  8  7  5  5  8 10  5  7  3 10 10  4  9  7  1\n",
            "  2  3  2  6  6  5  8  2  7  3  7  2  4  5 10  4  0  4  9 10  2  5  1  5\n",
            "  5  2  2 10  5  7  2  0  2 10 10  2  8 10  6  0  7  8  7  1  2  5  0  4\n",
            " 10  5  1 10  4  6 10  2  9  4  0  5  5  5  8 10  5  5  5  2  0  1 10  5\n",
            "  8 10  4  5  7 10  2  1  7  0  2  5  5  5  7  7 10  1  2 10  7  2  5 10\n",
            "  1  4  2  5 10  4  9  2  6  1 10  7  7  2 10  5  4 10  7 10  2 10  5  2\n",
            " 10  9  4  7  1  2  7 10  7  2  9  2  9  6  1  8 10  5  5  8 10  4  7  5\n",
            "  9  3  5  5  5  1 10  8  5  2 10  2  9  0  0  9  2  7 10  7  2  3  0  5\n",
            "  2  2  2  2  2  4  2  5  2  5  9  8  2 10  4 10  4 10  1 10  2 10 10  4\n",
            " 10  4  7  4  2  5  5  1 10  4  1  0 10  2  9 10  0  2  2  2 10  1  2  2\n",
            "  8  2  5  0 10  8  1 10  1 10  1  2  9  9  7  1  5  2 10 10  2  9  6  2\n",
            "  5  2  4  5  5  7  5  2  2  5  7  4  7  7  2  7  9  7  9  5  1  4  5  2\n",
            "  2  2 10  1  6  9  2  4  1 10  8  2  4  5 10  1 10 10  1  2 10  0  0  7\n",
            "  9 10  5  9  0  5  6  8  9  8  0  8 10  5  6  7  7  5  6  5  5  5  5 10\n",
            "  5  2  8 10  4  7  0  2 10  9  9  2  4  9  0  1  5  2 10  1  9 10 10  2\n",
            "  8 10  5 10  8 10  5  8  1  7  5  8  2 10  5  4  4  2  2  2 10  9  0  1\n",
            " 10  2 10 10  0  5  5 10 10  5  2  9  1  2  2  8  6  7  3  7  2  5  7  5\n",
            "  2  8 10 10 10  9 10  8  2  0  6  2  5  6  1 10  5 10  1  2  9  4 10  5\n",
            "  1  8  9  5  5  5  1  2  8  3  9 10  2  9  2  0 10 10  4  2 10  5  2  5\n",
            "  5  7  5  2  7  1  6  2  2  1  0  2  9  5  7  2  5  7  2  0  2  8  7  7\n",
            " 10  5  2  2  7  5  9  2  5  4  1  1  4  5 10  2  1  0  2  7  0  6  5  7\n",
            "  2  3  2 10  5  5 10  7  4  7  5  6  9  2  6  8  5  0 10  5  2  8 10 10\n",
            "  6  2  2  2  6  5  5  6  2 10  1  9  2  7  7  8  8  2  4  8 10  8  2 10\n",
            "  5  2  2  3  9  4  2 10  5  7  5  5  5  5  7  5 10 10  5  5 10 10  7  7\n",
            "  2  5  2  5  5  2  2 10  7  7  5  4  0  3  8  0  2  5  5  2  2  2  2  2\n",
            " 10  7  3  2  4 10  6  6  5  4  5  2  2 10 10  2  2  0  2  7  2  5  4  9\n",
            "  5  9 10  1  2  5  5  2  5  2  2  2  6  5  1  5  9  5  0  2  6  5  5  2\n",
            "  7  7  4  1  5  0  4  5 10  2  5  5  9  8  7  8  2  2  4  2  7  2  6  5\n",
            " 10  9  5  2  2 10  7  4  2  1  2  5  3 10  0  4  1  3  2  8 10  2  2 10\n",
            "  2  3 10  5  8  3  2  6  2  4  0  5  4  6  8  3  5 10  2 10  2  5  7  0\n",
            "  2  2 10  2  5  7  2  8  7  0  9  5  2  0  2  9  0  2  9  7  2  2  2  7\n",
            "  6  9  5  6  5  0  0  7  8  5  5  5  5  0  2  2  2  5  8  9  0  0  5  7\n",
            "  1  6  2 10  8  2  1  4  4  0  5  4 10  0  4  2  0 10  1  1 10  4  4  4\n",
            "  0 10  2  5  4  5  5  2  9  6  2  1  1  5  8  1  1  5  2  1  1  5  2  7\n",
            "  2  4  2  8  2  8  9  6  9  9  2  0 10  2  2 10  8  5  9  5  1  0  2  8\n",
            "  2  5  0  2 10 10  4  1 10  4 10 10  2  8  4  2  8  2 10 10  2  7  5  2\n",
            "  5  9  1  2  1  7  8  5  2  1  8 10  0  5  5  7  9  0  0 10  0  1  2 10\n",
            "  1  4 10  5  1  0 10  5  5  3  9  0  2  5  8  2  9 10 10  2  0  1  5  0\n",
            " 10  4  5  7  8 10  5  8  4  9  5  5  9  9  1  5  5  2  3  2  9  5  5  5\n",
            "  2 10  2  1  5  2  2  6  5  5  2  4 10  1  7 10  5  3  1  4  2  1  2  5\n",
            "  2  7  8  9  8  5  0  0 10  5  0  2  9  2  9  8]\n"
          ]
        }
      ]
    },
    {
      "cell_type": "code",
      "metadata": {
        "colab": {
          "base_uri": "https://localhost:8080/"
        },
        "id": "q8xVnRiWWdJj",
        "outputId": "14ebafa0-75d6-4a46-d260-48444c66d60f"
      },
      "source": [
        "answer_y_test = np.argmax(y_test, axis=1)\n",
        "answer_y_test[:1000]"
      ],
      "execution_count": 261,
      "outputs": [
        {
          "output_type": "execute_result",
          "data": {
            "text/plain": [
              "array([0, 0, 0, 0, 0, 0, 0, 0, 0, 0, 0, 0, 0, 0, 0, 0, 0, 0, 0, 0, 0, 0,\n",
              "       0, 0, 0, 0, 0, 0, 0, 0, 0, 0, 0, 0, 0, 0, 0, 0, 0, 0, 0, 0, 0, 0,\n",
              "       0, 0, 0, 0, 0, 0, 0, 0, 0, 0, 0, 0, 0, 0, 0, 0, 0, 0, 0, 0, 0, 0,\n",
              "       0, 0, 0, 0, 0, 0, 0, 0, 0, 0, 0, 0, 0, 0, 0, 0, 0, 0, 0, 0, 0, 0,\n",
              "       0, 0, 0, 0, 0, 0, 0, 0, 0, 0, 0, 0, 0, 0, 0, 0, 0, 0, 0, 0, 0, 0,\n",
              "       0, 0, 0, 0, 0, 0, 0, 0, 0, 0, 0, 0, 0, 0, 0, 0, 0, 0, 0, 0, 0, 0,\n",
              "       0, 0, 0, 0, 0, 0, 0, 0, 0, 0, 0, 0, 0, 0, 0, 0, 0, 0, 0, 0, 0, 0,\n",
              "       0, 0, 0, 0, 0, 0, 0, 0, 0, 0, 0, 0, 0, 0, 0, 0, 0, 0, 0, 0, 0, 0,\n",
              "       0, 0, 0, 0, 0, 0, 0, 0, 0, 0, 0, 0, 0, 0, 0, 0, 0, 0, 0, 0, 0, 0,\n",
              "       0, 0, 0, 0, 0, 1, 1, 1, 1, 1, 1, 1, 1, 1, 1, 1, 1, 1, 1, 1, 1, 1,\n",
              "       1, 1, 1, 1, 1, 1, 1, 1, 1, 1, 1, 1, 1, 1, 1, 1, 1, 1, 1, 1, 1, 1,\n",
              "       1, 1, 1, 1, 1, 1, 1, 1, 1, 1, 1, 1, 1, 1, 1, 1, 1, 1, 1, 1, 1, 1,\n",
              "       1, 1, 1, 1, 1, 1, 1, 1, 1, 1, 1, 1, 1, 1, 1, 1, 1, 1, 1, 1, 1, 1,\n",
              "       1, 1, 1, 1, 1, 1, 1, 1, 1, 1, 1, 1, 1, 1, 1, 1, 1, 1, 1, 1, 1, 1,\n",
              "       1, 1, 1, 1, 1, 1, 1, 1, 1, 1, 1, 1, 1, 1, 1, 1, 1, 1, 1, 1, 1, 1,\n",
              "       1, 1, 1, 1, 1, 1, 1, 1, 1, 1, 1, 1, 1, 1, 1, 1, 1, 1, 1, 1, 1, 1,\n",
              "       1, 1, 1, 1, 1, 1, 1, 1, 1, 1, 1, 1, 1, 1, 1, 1, 1, 1, 1, 1, 1, 1,\n",
              "       1, 1, 1, 1, 1, 1, 1, 1, 1, 1, 1, 1, 1, 1, 1, 1, 1, 1, 1, 1, 1, 1,\n",
              "       1, 1, 1, 1, 1, 1, 1, 1, 1, 1, 2, 2, 2, 2, 2, 2, 2, 2, 2, 2, 2, 2,\n",
              "       2, 2, 2, 2, 2, 2, 2, 2, 2, 2, 2, 2, 2, 2, 2, 2, 2, 2, 2, 2, 2, 2,\n",
              "       2, 2, 2, 2, 2, 2, 2, 2, 2, 2, 2, 2, 2, 2, 2, 2, 2, 2, 2, 2, 2, 2,\n",
              "       2, 2, 2, 2, 2, 2, 2, 2, 2, 2, 2, 2, 2, 2, 2, 2, 2, 2, 2, 2, 2, 2,\n",
              "       2, 2, 2, 2, 2, 2, 2, 2, 2, 2, 2, 2, 2, 2, 2, 2, 2, 2, 2, 2, 2, 2,\n",
              "       2, 2, 2, 2, 2, 2, 2, 2, 2, 2, 2, 2, 2, 2, 2, 2, 2, 2, 2, 2, 2, 2,\n",
              "       2, 2, 2, 2, 2, 2, 2, 2, 2, 2, 2, 2, 2, 2, 2, 2, 2, 2, 2, 2, 2, 2,\n",
              "       2, 2, 2, 2, 2, 2, 2, 2, 2, 2, 2, 2, 2, 2, 2, 2, 2, 2, 2, 2, 2, 2,\n",
              "       2, 2, 2, 2, 2, 2, 2, 2, 2, 2, 2, 2, 2, 2, 2, 2, 2, 2, 2, 2, 2, 2,\n",
              "       2, 2, 2, 2, 2, 2, 2, 2, 2, 2, 2, 2, 2, 2, 3, 3, 3, 3, 3, 3, 3, 3,\n",
              "       3, 3, 3, 3, 3, 3, 3, 3, 3, 3, 3, 3, 3, 3, 3, 3, 3, 3, 3, 3, 3, 3,\n",
              "       3, 3, 3, 3, 3, 3, 3, 3, 3, 3, 3, 3, 3, 3, 3, 3, 3, 3, 3, 3, 3, 3,\n",
              "       3, 3, 3, 3, 3, 3, 3, 3, 3, 3, 3, 3, 3, 3, 3, 3, 3, 3, 3, 3, 3, 3,\n",
              "       3, 3, 3, 3, 3, 3, 3, 3, 3, 3, 3, 3, 3, 3, 3, 3, 3, 3, 3, 3, 3, 3,\n",
              "       3, 3, 3, 3, 3, 3, 3, 3, 3, 3, 3, 3, 3, 3, 3, 3, 3, 3, 3, 3, 3, 3,\n",
              "       3, 3, 3, 3, 3, 3, 3, 3, 3, 3, 3, 3, 3, 3, 3, 3, 3, 3, 3, 3, 3, 3,\n",
              "       3, 3, 3, 3, 3, 3, 3, 3, 3, 3, 3, 3, 3, 3, 3, 3, 3, 3, 3, 3, 3, 3,\n",
              "       3, 3, 3, 3, 3, 3, 3, 3, 3, 3, 3, 3, 3, 3, 3, 3, 3, 3, 3, 3, 3, 3,\n",
              "       3, 3, 3, 3, 3, 3, 3, 3, 3, 3, 3, 3, 3, 3, 3, 3, 3, 4, 4, 4, 4, 4,\n",
              "       4, 4, 4, 4, 4, 4, 4, 4, 4, 4, 4, 4, 4, 4, 4, 4, 4, 4, 4, 4, 4, 4,\n",
              "       4, 4, 4, 4, 4, 4, 4, 4, 4, 4, 4, 4, 4, 4, 4, 4, 4, 4, 4, 4, 4, 4,\n",
              "       4, 4, 4, 4, 4, 4, 4, 4, 4, 4, 4, 4, 4, 4, 4, 4, 4, 4, 4, 4, 4, 4,\n",
              "       4, 4, 4, 4, 4, 4, 4, 4, 4, 4, 4, 4, 4, 4, 4, 4, 4, 4, 4, 4, 4, 4,\n",
              "       4, 4, 4, 4, 4, 4, 4, 4, 4, 4, 4, 4, 4, 4, 4, 4, 4, 4, 4, 4, 4, 4,\n",
              "       4, 4, 4, 4, 4, 4, 4, 4, 4, 4, 4, 4, 4, 4, 4, 4, 4, 4, 4, 4, 4, 4,\n",
              "       4, 4, 4, 4, 4, 4, 4, 4, 4, 4, 4, 4, 4, 4, 4, 4, 4, 4, 4, 4, 4, 4,\n",
              "       4, 4, 4, 4, 4, 4, 4, 4, 4, 4, 4, 4, 4, 4, 4, 4, 4, 4, 4, 4, 4, 4,\n",
              "       4, 4, 4, 4, 4, 4, 4, 4, 4, 4])"
            ]
          },
          "metadata": {},
          "execution_count": 261
        }
      ]
    },
    {
      "cell_type": "code",
      "metadata": {
        "colab": {
          "base_uri": "https://localhost:8080/"
        },
        "id": "c6hy7IOgWXr3",
        "outputId": "3e237c21-9434-4372-a54b-9c480798c3f8"
      },
      "source": [
        "print(answer_y_test.shape, pred.shape)\n",
        "print(answer_y_test[:5], pred[:5])\n",
        "\n",
        "print(classification_report(answer_y_test, pred))"
      ],
      "execution_count": 200,
      "outputs": [
        {
          "output_type": "stream",
          "name": "stdout",
          "text": [
            "(2638,) (2638,)\n",
            "[0 0 0 0 0] [ 5 10  3  3  5]\n",
            "              precision    recall  f1-score   support\n",
            "\n",
            "           0       0.34      0.26      0.29       203\n",
            "           1       0.25      0.33      0.29       203\n",
            "           2       0.24      0.30      0.26       202\n",
            "           3       0.28      0.41      0.33       201\n",
            "           4       0.39      0.40      0.40       202\n",
            "           5       0.11      0.15      0.13       201\n",
            "           6       0.43      0.61      0.51       205\n",
            "           7       0.29      0.41      0.34       202\n",
            "           8       0.43      0.47      0.45       203\n",
            "           9       0.24      0.29      0.26       204\n",
            "          10       0.30      0.23      0.26       203\n",
            "          11       0.00      0.00      0.00       205\n",
            "          12       0.00      0.00      0.00       204\n",
            "\n",
            "    accuracy                           0.30      2638\n",
            "   macro avg       0.25      0.30      0.27      2638\n",
            "weighted avg       0.25      0.30      0.27      2638\n",
            "\n"
          ]
        },
        {
          "output_type": "stream",
          "name": "stderr",
          "text": [
            "/usr/local/lib/python3.7/dist-packages/sklearn/metrics/_classification.py:1272: UndefinedMetricWarning: Precision and F-score are ill-defined and being set to 0.0 in labels with no predicted samples. Use `zero_division` parameter to control this behavior.\n",
            "  _warn_prf(average, modifier, msg_start, len(result))\n"
          ]
        }
      ]
    },
    {
      "cell_type": "code",
      "metadata": {
        "colab": {
          "base_uri": "https://localhost:8080/"
        },
        "id": "DnaMR8CFBKCK",
        "outputId": "6ebb54e2-e7fe-4397-9470-3662cbb4eb7f"
      },
      "source": [
        "model_cnn.load_weights(upd_model_cnn_save_path)\n",
        "model_cnn.evaluate(upd_x_test, y_test, verbose=1)"
      ],
      "execution_count": 219,
      "outputs": [
        {
          "output_type": "stream",
          "name": "stdout",
          "text": [
            "83/83 [==============================] - 1s 10ms/step - loss: 5.9745 - accuracy: 0.3438\n"
          ]
        },
        {
          "output_type": "execute_result",
          "data": {
            "text/plain": [
              "[5.974453449249268, 0.34382107853889465]"
            ]
          },
          "metadata": {},
          "execution_count": 219
        }
      ]
    },
    {
      "cell_type": "code",
      "metadata": {
        "colab": {
          "base_uri": "https://localhost:8080/"
        },
        "id": "E-yRK2StZces",
        "outputId": "00a231ce-76c2-4297-e711-42c9e6ce01fd"
      },
      "source": [
        "pred = model_cnn.predict(upd_x_test, batch_size = 32)\n",
        "pred = np.argmax(pred, axis=1)\n",
        "pred[:1000]"
      ],
      "execution_count": 262,
      "outputs": [
        {
          "output_type": "execute_result",
          "data": {
            "text/plain": [
              "array([ 0, 10,  9,  2,  0,  0,  0,  5,  0,  2,  2,  2,  1,  0,  0,  5,  0,\n",
              "        1,  5,  5,  4,  2,  1,  4,  5,  0,  0,  0,  1, 10,  7,  0,  1,  4,\n",
              "        8,  2,  8,  0, 10,  2,  7,  3,  1,  0,  4,  5,  0,  0,  0,  0,  0,\n",
              "        1,  6,  2,  5,  1,  0,  0,  0,  3,  0,  2,  8,  8,  0,  0,  0,  0,\n",
              "        0,  0,  0,  0, 10,  0,  5, 10,  0,  1,  0,  2,  1,  2,  1,  0,  7,\n",
              "        5,  0,  1,  0,  2,  3,  1,  7,  7,  1,  7,  7,  2,  0,  0,  0,  5,\n",
              "        7, 10,  2,  7,  6,  7,  9,  5,  0,  7,  2,  5,  1,  7, 10,  0,  5,\n",
              "        2,  0,  4,  0,  4,  8,  0,  9,  2,  2,  0,  5,  9,  0,  2,  0,  0,\n",
              "        1,  5,  0,  7,  0,  0,  7,  2,  0,  8,  5,  1,  2,  0,  6,  0,  8,\n",
              "        1,  2,  5,  0,  0,  8,  1,  0,  7,  9, 10,  1,  5,  0,  0,  0,  0,\n",
              "        2,  5,  1,  0,  0,  0,  0,  1,  2,  6,  1,  1,  1,  0, 10,  0,  0,\n",
              "        0,  9, 10,  0,  0,  0,  1,  2,  1,  5,  2,  7,  0,  7,  7,  0,  7,\n",
              "        1,  9,  0,  1,  2,  0,  1,  4, 10,  4,  9,  1,  1,  7,  1,  1,  9,\n",
              "        1,  0,  7,  9,  1,  1,  2,  2,  5,  8,  7,  1,  0,  1,  4,  0, 10,\n",
              "        4,  5,  0,  7,  1,  3,  1,  1,  8,  1, 10,  5,  8,  0,  0,  5,  9,\n",
              "        4,  0,  4,  7,  8,  0,  8,  7,  1,  8,  2,  5,  0,  5,  0,  1,  9,\n",
              "        3,  0,  0,  5,  4,  1,  8,  6,  3,  0,  7,  1,  1,  0,  5,  1,  7,\n",
              "        4,  2,  4,  0,  2,  1,  1,  8,  0,  1,  1,  2,  4,  6,  6,  9,  5,\n",
              "        1,  1,  1,  5,  1,  1,  1,  4,  9,  7,  0,  3,  9,  9,  1,  4,  1,\n",
              "        4,  5,  2,  1,  2,  8,  1,  1,  1,  7,  2,  1,  4,  5,  1,  2,  7,\n",
              "        4,  9,  5,  8,  1,  1,  2,  5,  0,  9,  5,  1,  2,  3,  0,  5,  7,\n",
              "       10,  2,  1,  6,  7,  5,  0,  9,  0,  0,  1,  1,  1,  5,  0,  0,  9,\n",
              "        4,  2,  1,  1,  5,  1,  1,  2,  5,  1,  0, 10,  1,  4, 10,  4,  1,\n",
              "        2,  1,  4,  9,  9,  3,  1,  8,  0,  8,  5,  1,  1,  5,  4,  2,  0,\n",
              "        2,  5,  2,  5,  2,  2,  3,  2,  2,  2,  2,  8,  3,  5,  2,  3,  2,\n",
              "        7,  2,  2,  2,  5,  4,  2,  4,  5,  2,  2,  5,  2,  4, 10,  2,  0,\n",
              "        4,  4,  2,  2,  2,  4,  5,  9,  2,  9,  2,  9,  2,  7,  3,  2,  3,\n",
              "        9,  2,  2,  3,  2,  5,  1,  2,  2,  4,  2,  2,  2,  7,  9, 10,  2,\n",
              "        1,  1, 10,  3,  7,  9,  9,  2,  2,  1,  5,  6,  5,  9,  5, 10,  2,\n",
              "        8,  2,  0, 10,  4,  2,  2,  7,  2,  2,  1,  3,  6,  0,  2,  0,  4,\n",
              "        3,  3,  8,  2,  5,  4,  5,  2,  2,  7,  9,  2,  6,  9,  2,  7,  5,\n",
              "        2,  4,  2,  2,  1,  5,  2,  8,  2,  2,  3,  2,  0,  2, 10,  2, 10,\n",
              "        5,  0,  7,  2,  2,  2,  3,  2,  2,  5,  3,  5,  1,  7,  3,  0,  2,\n",
              "        2, 10,  5,  2,  8,  2,  3,  9,  3,  6,  3,  5, 10,  2, 10,  3,  7,\n",
              "        2,  2,  2,  2,  5,  2,  2, 10,  2, 10,  6,  2,  3,  9,  2,  6,  2,\n",
              "        2,  2,  2,  5,  3,  5,  8,  7,  0,  2,  2,  2,  7,  3,  3,  0,  2,\n",
              "        4,  3,  0,  6,  3,  9,  5,  3,  0,  9,  3,  8,  4,  7,  3,  3, 10,\n",
              "        2,  0,  2,  1,  2,  2,  2,  3,  7,  3,  3,  3,  8,  3,  2,  3,  0,\n",
              "        0,  9,  3,  3,  9,  2,  3,  3,  5,  3,  3,  2, 10,  4,  7,  9,  3,\n",
              "        9,  3,  0,  2,  3,  3,  1,  2,  3,  3,  5,  3,  3,  2,  3,  9,  2,\n",
              "        2,  3,  3,  2,  9,  8,  3,  2,  1,  8,  4,  9,  3,  9,  2,  3,  3,\n",
              "        3,  2,  3,  1,  2,  2,  3, 10,  2,  5,  3,  9,  2,  0,  2,  8,  3,\n",
              "        5,  1,  6,  7,  2,  2,  2,  4,  3,  5,  4,  3,  2,  2,  2,  2,  2,\n",
              "        2,  7,  8,  4,  3,  3,  3,  2,  0,  3,  2,  3,  3,  8,  3,  7,  1,\n",
              "        0,  9,  0,  4,  0,  9,  3,  6,  5,  3,  4,  5,  9,  9,  3,  1,  2,\n",
              "        6, 10,  3,  3,  0,  4,  9,  3,  7,  3,  3,  5,  3,  0,  3,  8,  3,\n",
              "        3,  2,  3,  3,  2,  1,  3,  3,  3,  9,  3,  3,  2,  2,  3,  9,  3,\n",
              "        6,  9,  5,  3,  2,  3,  3,  3,  3,  3,  2,  4,  4,  4,  0,  1,  1,\n",
              "        4, 10,  4,  1,  4,  4,  4,  4,  4,  4,  7,  4,  4,  0,  2,  8,  4,\n",
              "        4,  4,  5,  2,  0,  1,  4,  4,  4,  4,  4,  4,  1,  4,  2,  4,  4,\n",
              "        4,  4,  4,  0,  8,  4,  4, 10,  3,  2, 10,  2,  4,  4,  4,  4,  4,\n",
              "        4,  5,  1,  4, 10,  4,  4,  4,  1,  4,  4,  4,  4,  6, 10,  8,  1,\n",
              "        9,  4,  0,  4,  4, 10, 10,  4,  1,  4,  4,  4,  1,  4,  1,  1,  4,\n",
              "        4,  8,  4,  5,  4,  4,  4,  2,  3,  7,  2,  2,  1,  1,  4,  4,  4,\n",
              "        4,  6,  4,  1,  4,  4,  4,  3,  4,  4,  1,  4,  4,  4,  1,  4,  4,\n",
              "        4,  1,  4,  4,  7,  4,  5,  4,  2,  4,  5,  0,  4,  4,  4, 10,  7,\n",
              "        4,  7,  4,  4,  4,  4,  6,  4,  4,  1,  3,  6,  4,  7,  4,  4,  4,\n",
              "        5,  1,  4,  2,  4, 10,  2,  4,  2,  4,  4, 10, 10,  4,  4,  7,  5,\n",
              "        1,  4,  1,  4,  0,  4,  2,  4,  4,  2,  1,  4,  9,  8])"
            ]
          },
          "metadata": {},
          "execution_count": 262
        }
      ]
    },
    {
      "cell_type": "code",
      "metadata": {
        "colab": {
          "base_uri": "https://localhost:8080/"
        },
        "id": "kSutH0OMbl4S",
        "outputId": "4ee4a7f3-59aa-4904-f36e-e79ec3dc6806"
      },
      "source": [
        "print(answer_y_test.shape, pred.shape)\n",
        "print(answer_y_test[:10], pred[:10])\n",
        "\n",
        "print(classification_report(answer_y_test, pred))"
      ],
      "execution_count": 221,
      "outputs": [
        {
          "output_type": "stream",
          "name": "stdout",
          "text": [
            "(2638,) (2638,)\n",
            "[0 0 0 0 0 0 0 0 0 0] [ 0 10  9  2  0  0  0  5  0  2]\n",
            "              precision    recall  f1-score   support\n",
            "\n",
            "           0       0.36      0.37      0.36       203\n",
            "           1       0.27      0.29      0.28       203\n",
            "           2       0.21      0.42      0.28       202\n",
            "           3       0.38      0.38      0.38       201\n",
            "           4       0.43      0.54      0.48       202\n",
            "           5       0.12      0.15      0.14       201\n",
            "           6       0.61      0.66      0.63       205\n",
            "           7       0.42      0.53      0.47       202\n",
            "           8       0.50      0.49      0.49       203\n",
            "           9       0.30      0.39      0.34       204\n",
            "          10       0.28      0.25      0.27       203\n",
            "          11       0.00      0.00      0.00       205\n",
            "          12       0.00      0.00      0.00       204\n",
            "\n",
            "    accuracy                           0.34      2638\n",
            "   macro avg       0.30      0.34      0.32      2638\n",
            "weighted avg       0.30      0.34      0.32      2638\n",
            "\n"
          ]
        },
        {
          "output_type": "stream",
          "name": "stderr",
          "text": [
            "/usr/local/lib/python3.7/dist-packages/sklearn/metrics/_classification.py:1272: UndefinedMetricWarning: Precision and F-score are ill-defined and being set to 0.0 in labels with no predicted samples. Use `zero_division` parameter to control this behavior.\n",
            "  _warn_prf(average, modifier, msg_start, len(result))\n"
          ]
        }
      ]
    },
    {
      "cell_type": "code",
      "metadata": {
        "colab": {
          "base_uri": "https://localhost:8080/"
        },
        "id": "dconc3RnBMvi",
        "outputId": "91967198-a6f4-4c74-fb2e-a6183041e997"
      },
      "source": [
        "model_lstm.load_weights(model_lstm_save_path)\n",
        "model_lstm.evaluate(x_test, y_test, verbose=1)"
      ],
      "execution_count": 216,
      "outputs": [
        {
          "output_type": "stream",
          "name": "stdout",
          "text": [
            "83/83 [==============================] - 6s 67ms/step - loss: 3.2503 - accuracy: 0.2911\n"
          ]
        },
        {
          "output_type": "execute_result",
          "data": {
            "text/plain": [
              "[3.2503223419189453, 0.2911296486854553]"
            ]
          },
          "metadata": {},
          "execution_count": 216
        }
      ]
    },
    {
      "cell_type": "code",
      "metadata": {
        "colab": {
          "base_uri": "https://localhost:8080/"
        },
        "id": "P4GsisTPcdcG",
        "outputId": "d381e013-e1af-47d5-d766-1a1ec9f7b172"
      },
      "source": [
        "pred = model_lstm.predict(x_test, batch_size = 32)\n",
        "pred = np.argmax(pred, axis=1)\n",
        "pred[:1000]"
      ],
      "execution_count": 263,
      "outputs": [
        {
          "output_type": "execute_result",
          "data": {
            "text/plain": [
              "array([ 8,  7,  2,  7,  5,  0,  6,  6,  5,  5,  2,  1,  1,  7,  0,  2,  7,\n",
              "        4,  4,  1,  0,  9,  5,  4,  8,  1,  5,  2,  5,  2,  2,  6,  2,  8,\n",
              "        7,  9,  5,  0,  1,  2,  7,  3,  9,  4,  4,  7,  4,  1,  5,  2, 10,\n",
              "        7,  6,  5,  5,  1,  5,  0,  1,  2,  4,  9,  9,  5,  0,  9,  1,  6,\n",
              "        5,  0,  1,  9,  1,  2,  5,  2,  1, 10,  8,  0, 10,  8,  4,  2,  1,\n",
              "        2, 10,  5,  7, 10,  5,  5,  4,  7,  5,  1,  7,  2,  0,  1,  0, 10,\n",
              "        9,  2,  2,  1, 10,  5, 10,  9,  9,  7,  0,  8,  1,  5, 10,  1, 10,\n",
              "        6,  4,  0,  4,  0,  4,  2,  2,  5,  1,  5,  4,  0,  1,  2,  9,  4,\n",
              "        2,  5,  9,  5,  0,  5,  1,  6,  0,  1,  0,  1,  5,  1,  5, 10,  8,\n",
              "        5,  1,  7,  9,  1,  1,  1,  6,  7,  7, 10,  1,  4,  0,  2,  0,  2,\n",
              "        9,  6,  1,  8,  0,  4,  0,  2,  3,  6,  9,  4,  5,  5,  6,  6, 10,\n",
              "        9,  9,  6,  4,  1,  9,  3,  7,  4,  7,  1, 10,  6,  8,  2, 10,  2,\n",
              "        1,  5,  1,  8,  0,  5,  1,  4, 10,  4,  7,  3,  1,  4, 10,  1,  0,\n",
              "        7,  5,  5, 10,  1,  5,  2,  2,  2,  1,  7,  5,  1,  4,  7,  2,  2,\n",
              "       10,  1,  4,  4,  2,  7,  4,  8,  5,  1,  2,  1,  8,  7,  8,  5,  1,\n",
              "        4,  0, 10,  2,  1,  2,  1,  5,  4, 10,  3,  7,  4,  1,  8,  1,  5,\n",
              "        4,  4, 10,  8, 10,  5,  1,  9,  3, 10,  2,  1,  1,  9,  5,  9,  5,\n",
              "        4,  4,  1,  1,  2,  0,  2,  5,  1,  9,  1,  2,  7,  4, 10,  3,  2,\n",
              "        9,  0,  4,  1,  1,  1,  2,  4,  4,  2,  6,  2,  9,  4,  1,  1,  1,\n",
              "        9,  2,  6,  1,  0,  5,  1,  1,  1,  9,  9,  2,  0,  9,  1, 10,  6,\n",
              "        9, 10,  0,  8,  9,  9,  1,  5,  4,  5,  6,  7,  2,  3,  7,  2,  4,\n",
              "        9, 10,  4, 10,  5,  5, 10, 10,  0, 10, 10, 10,  1,  4,  2,  1,  1,\n",
              "       10,  4,  1,  9,  5,  5,  4,  2,  2,  1,  4,  9,  0,  4,  1,  4,  6,\n",
              "        4,  4,  4,  4,  4,  5,  1,  2,  4,  7,  2,  8,  1,  3,  4,  0,  5,\n",
              "       10,  2,  5,  1,  2,  5,  7,  7, 10,  2,  2,  4,  5,  5,  2,  4,  2,\n",
              "        7,  5, 10,  4,  5,  7,  9,  5,  1,  5,  2,  4,  2,  2,  0,  2,  7,\n",
              "        3,  2,  5,  2,  2,  1,  1,  5,  5,  2,  3,  7,  1,  5,  9,  2,  1,\n",
              "        2,  2,  9,  5,  9,  5,  3,  2, 10,  9,  6,  2,  5, 10,  6, 10,  0,\n",
              "       10,  5,  4,  0,  8,  2,  2,  9,  0,  4, 10,  7,  5, 10,  5,  6,  2,\n",
              "        6,  9, 10,  1,  5,  5,  7,  2,  5,  2,  2,  5,  0,  3,  5,  5,  2,\n",
              "        9,  2,  0,  2,  9,  2,  3,  5,  3, 10,  6,  3,  0, 10,  9,  8,  4,\n",
              "        7,  9,  2,  2,  2,  5,  2,  2,  7,  1,  9,  0,  9,  0,  1,  7,  9,\n",
              "        1,  3,  1,  1,  3,  2,  0,  9,  6, 10, 10,  5, 10,  1,  5, 10,  2,\n",
              "        3, 10,  5,  6,  2,  0,  5,  5,  2,  2,  3,  2,  5,  2, 10,  2,  2,\n",
              "        5,  2,  6,  5, 10,  5,  2,  2,  1,  8,  6,  2,  5,  5,  3, 10,  5,\n",
              "        2,  2,  4,  5,  0,  1,  4,  7, 10,  2,  1,  4,  4,  9,  3,  0, 10,\n",
              "        0,  9,  4,  7,  2,  7,  2,  9,  3,  5,  0,  2,  9,  0,  2,  2,  4,\n",
              "        5,  6,  6,  1,  1,  2,  3,  3,  7,  5,  2,  2,  1,  2,  6,  2,  2,\n",
              "        9,  1,  7,  1,  6,  0,  0,  3,  5,  3,  0,  2,  6,  9,  6,  2,  5,\n",
              "        2,  9,  3,  0,  2,  5,  5,  5, 10,  7, 10,  9,  2,  8,  0,  9, 10,\n",
              "       10,  1,  5,  4,  6,  9,  6,  8,  2,  2,  4,  3,  5,  2, 10,  2,  2,\n",
              "        2,  7,  3,  5,  6,  7,  7,  9,  2,  2,  5,  9,  6,  5,  5,  4,  3,\n",
              "        2,  8, 10,  2,  9,  5,  3,  3,  1,  3,  3,  3,  5,  5,  0,  3,  4,\n",
              "        9,  6,  9,  5,  3,  5,  3,  2,  3,  2,  7,  2,  5,  3,  3,  6,  3,\n",
              "        6,  7,  0,  3,  7,  6,  9,  5,  2,  6,  8,  5,  5,  3,  7,  9, 10,\n",
              "        4,  2,  9,  6,  7,  2,  7,  6,  2,  2,  0,  7,  2,  4,  3,  4,  2,\n",
              "        6, 10,  7,  2,  1,  3,  3,  2,  0,  9,  2,  2,  5,  5,  4, 10,  2,\n",
              "        4,  4,  5,  2,  3, 10,  6,  3,  3,  5,  9,  8,  5,  4,  0,  1,  4,\n",
              "        5,  2,  4,  0,  0,  2,  8,  1,  4,  4,  9, 10,  2,  9,  4,  9,  4,\n",
              "        7, 10,  3,  5,  4,  5,  5,  4,  4,  2,  5,  4,  9,  2, 10,  2,  7,\n",
              "        4,  4, 10,  1,  5,  4,  4,  5,  3,  9, 10, 10,  4,  4,  4,  9,  4,\n",
              "        4,  1,  8,  4,  5, 10,  4, 10,  5,  4,  2,  4,  1,  9,  3, 10,  4,\n",
              "        5,  0,  4,  4,  4,  4, 10,  2,  2, 10,  9,  5,  5,  1,  9,  7, 10,\n",
              "        4,  9,  3,  8,  4,  1, 10,  7,  4,  2, 10,  5,  4,  4,  6,  4,  4,\n",
              "        6,  5,  7,  9,  4,  0,  4,  3,  9,  3,  2,  1, 10, 10,  9,  4,  4,\n",
              "        4,  4,  4,  8,  9,  3,  3,  5,  8,  1,  9,  1,  0,  9,  0,  5,  1,\n",
              "        1,  0,  4, 10,  9,  4,  4,  4,  5,  6,  8,  0,  9,  2,  2, 10,  2,\n",
              "        7,  4,  2,  2,  4,  5, 10,  4,  2,  4,  4, 10, 10,  4,  2,  2,  4,\n",
              "        9,  4,  8,  9,  0,  8, 10,  4, 10,  6, 10,  6,  5,  2])"
            ]
          },
          "metadata": {},
          "execution_count": 263
        }
      ]
    },
    {
      "cell_type": "code",
      "metadata": {
        "colab": {
          "base_uri": "https://localhost:8080/"
        },
        "id": "2hJO_lU6coHm",
        "outputId": "82e6e9c6-94dc-47e0-aaeb-0f5d05974869"
      },
      "source": [
        "print(answer_y_test.shape, pred.shape)\n",
        "print(answer_y_test[:10], pred[:10])\n",
        "\n",
        "print(classification_report(answer_y_test, pred))"
      ],
      "execution_count": 218,
      "outputs": [
        {
          "output_type": "stream",
          "name": "stdout",
          "text": [
            "(2638,) (2638,)\n",
            "[0 0 0 0 0 0 0 0 0 0] [0 0 3 5 4 4 3 0 2 2]\n",
            "              precision    recall  f1-score   support\n",
            "\n",
            "           0       0.30      0.22      0.25       203\n",
            "           1       0.30      0.25      0.27       203\n",
            "           2       0.18      0.43      0.26       202\n",
            "           3       0.38      0.35      0.37       201\n",
            "           4       0.33      0.49      0.39       202\n",
            "           5       0.11      0.15      0.13       201\n",
            "           6       0.47      0.75      0.58       205\n",
            "           7       0.35      0.36      0.35       202\n",
            "           8       0.46      0.40      0.43       203\n",
            "           9       0.18      0.21      0.19       204\n",
            "          10       0.26      0.18      0.21       203\n",
            "          11       0.00      0.00      0.00       205\n",
            "          12       0.00      0.00      0.00       204\n",
            "\n",
            "    accuracy                           0.29      2638\n",
            "   macro avg       0.26      0.29      0.26      2638\n",
            "weighted avg       0.26      0.29      0.26      2638\n",
            "\n"
          ]
        },
        {
          "output_type": "stream",
          "name": "stderr",
          "text": [
            "/usr/local/lib/python3.7/dist-packages/sklearn/metrics/_classification.py:1272: UndefinedMetricWarning: Precision and F-score are ill-defined and being set to 0.0 in labels with no predicted samples. Use `zero_division` parameter to control this behavior.\n",
            "  _warn_prf(average, modifier, msg_start, len(result))\n"
          ]
        }
      ]
    },
    {
      "cell_type": "code",
      "metadata": {
        "colab": {
          "base_uri": "https://localhost:8080/"
        },
        "id": "-OE3UTn0I4qu",
        "outputId": "ca177532-29a1-4813-a960-7b9ceb12810f"
      },
      "source": [
        "model_lstm.load_weights(upd_model_lstm_save_path)\n",
        "model_lstm.evaluate(upd_x_test, y_test, verbose=1)"
      ],
      "execution_count": 222,
      "outputs": [
        {
          "output_type": "stream",
          "name": "stdout",
          "text": [
            "83/83 [==============================] - 6s 67ms/step - loss: 3.2910 - accuracy: 0.3108\n"
          ]
        },
        {
          "output_type": "execute_result",
          "data": {
            "text/plain": [
              "[3.2910397052764893, 0.31084156036376953]"
            ]
          },
          "metadata": {},
          "execution_count": 222
        }
      ]
    },
    {
      "cell_type": "code",
      "metadata": {
        "colab": {
          "base_uri": "https://localhost:8080/"
        },
        "id": "KvAzKzF9dYxW",
        "outputId": "3266ef44-deab-4847-9de9-f5c399295831"
      },
      "source": [
        "pred = model_lstm.predict(upd_x_test, batch_size = 32)\n",
        "pred = np.argmax(pred, axis=1)\n",
        "pred[:1000]"
      ],
      "execution_count": 264,
      "outputs": [
        {
          "output_type": "execute_result",
          "data": {
            "text/plain": [
              "array([ 7, 10,  8,  7,  0,  0,  9,  9,  0,  7, 10,  0,  2,  0,  0,  7,  0,\n",
              "        4,  1,  5,  0,  6,  2,  9,  5,  4,  0,  0,  0,  4,  8,  0,  5, 10,\n",
              "        8,  2,  0,  0,  4,  2,  0,  3,  9,  9,  8,  8,  0,  0,  0,  2,  0,\n",
              "        4, 10,  0,  0,  1,  8,  0,  0,  3,  0,  5,  9,  5,  0,  0,  0,  2,\n",
              "        0,  0,  0,  0, 10,  0,  9,  2,  0,  5,  4,  2,  9,  8,  1,  0,  4,\n",
              "        9,  0,  0,  0,  2, 10,  1,  0,  7,  1,  7,  7,  9,  0,  5,  0,  4,\n",
              "        0,  7,  5,  9, 10,  8,  7,  0,  4,  7,  3, 10,  9,  0,  9,  0,  5,\n",
              "        3,  0, 10,  1,  4,  8,  9,  6,  0,  5,  1,  0,  9,  5,  5,  0,  0,\n",
              "        9,  5,  7,  5,  0,  0,  1,  2,  0,  2,  7,  1,  1,  9,  6,  8,  5,\n",
              "        5,  2,  0,  0,  0,  1,  5,  8,  5,  8, 10,  1,  0,  0,  8,  0,  1,\n",
              "        3,  8,  4,  0,  0,  0,  0,  9,  3,  0,  4,  1,  5,  1, 10,  7, 10,\n",
              "        0,  9, 10,  4,  5,  0,  7,  5,  0,  7,  4,  6,  0,  1,  3,  0,  5,\n",
              "        5,  5,  0,  8,  4,  1,  5,  4,  4,  4,  8,  5, 10,  4, 10,  1,  0,\n",
              "       10,  1,  0,  9,  5,  1,  1,  2,  1,  9,  0,  1,  5,  1,  4, 10,  1,\n",
              "        4,  9, 10,  4, 10,  1,  1,  1,  9,  1, 10,  9,  8,  0,  2,  5,  5,\n",
              "        1,  0,  3,  4,  1,  6,  1,  7,  1,  8,  4,  1,  0,  0,  0,  9,  8,\n",
              "        3,  1,  0,  0,  4,  5,  0,  0,  4,  0,  5,  4,  1,  1,  1,  8,  1,\n",
              "        1,  2,  4,  6, 10,  5,  1,  1,  7,  1,  0,  4,  4,  5,  6,  9,  1,\n",
              "        1,  1,  1,  9,  1, 10,  1,  1,  9,  7,  0,  3,  7,  9,  1,  5,  0,\n",
              "        4,  7,  5,  4,  7,  3,  7,  4,  1,  1,  2,  1,  1,  8,  1,  7,  0,\n",
              "        4,  9,  2,  5,  1,  1,  5,  0,  7, 10,  9,  1,  3,  9,  0,  9, 10,\n",
              "        1,  3,  1,  6,  1,  1,  1,  7,  0,  9,  4,  1,  9,  2,  0,  0,  9,\n",
              "        4,  5,  1,  5,  1,  1,  4,  2,  1,  4,  1,  1,  1,  0,  5,  1,  4,\n",
              "        1,  8,  9,  2,  1,  8,  2,  9,  0,  9,  2,  1,  4,  9,  4,  5,  0,\n",
              "        5,  5,  2,  9,  4,  0,  5,  7,  2,  2,  2, 10,  3,  9,  5,  3,  2,\n",
              "        5,  5,  5,  1,  5,  9,  8,  4,  1,  8,  2,  1,  2,  2,  3,  3,  0,\n",
              "        1,  4,  9,  2,  2, 10,  5,  5,  2,  2,  3,  9,  2,  7,  2,  3,  5,\n",
              "        2,  2, 10,  2,  2,  9,  1,  3,  6,  3,  9,  3,  3,  6,  5,  5,  3,\n",
              "        0,  3,  6,  2,  6, 10,  2,  2,  8,  1,  1, 10,  9,  9,  3,  6,  2,\n",
              "        5,  2, 10,  2,  1,  8,  5,  2,  0,  2,  1,  2,  3,  5,  4,  3,  7,\n",
              "        7,  3,  2,  2,  3,  2,  2,  2,  3,  0,  9,  9,  5,  7, 10,  7,  5,\n",
              "        4,  3,  9, 10,  9,  1,  3,  1,  2,  5,  9,  1,  9,  5,  6,  2,  6,\n",
              "        2,  6,  6, 10,  2,  2,  3,  0,  2,  5,  5,  2,  7,  3,  2,  4,  2,\n",
              "        3, 10,  2,  4,  2,  2,  3,  7,  3,  5,  2,  1,  2,  2,  1,  7,  5,\n",
              "        2,  2,  1,  2,  5,  2,  5,  2,  5, 10,  6,  2,  3,  2,  2,  6,  2,\n",
              "        2,  2,  1,  2,  3,  2,  2,  2,  2,  3,  4,  2,  4,  3,  9,  5,  0,\n",
              "        1, 10,  4,  9,  2,  2,  0,  3,  0,  5,  9,  3,  0,  3,  2,  5,  6,\n",
              "        8,  4,  3,  4,  7,  5,  0,  1,  3,  5,  3,  4,  9,  8,  3,  3,  1,\n",
              "        0,  7,  0,  0,  3,  9,  9,  3,  5,  3,  3,  3,  2,  9,  7,  2,  2,\n",
              "        2,  2,  0,  8,  3,  5,  1,  5,  2,  5,  7,  3,  3,  2,  3,  9,  2,\n",
              "        8,  3,  5,  3,  3,  8,  2,  8,  9,  3,  4,  3,  3,  7,  5,  3,  3,\n",
              "        3,  3,  3,  4,  5,  3,  3,  2,  2,  3,  2,  2,  2,  7,  5,  6,  5,\n",
              "        0,  7, 10,  7,  2,  5,  2,  3,  9,  3,  1,  3,  3,  1,  5,  2,  2,\n",
              "        3,  4,  9, 10,  3,  3,  3,  5,  0,  3,  2,  3,  3,  0,  3,  3,  4,\n",
              "        0,  3,  1,  3,  0,  7,  3,  6,  3,  8,  6,  5,  9,  9,  3,  1,  2,\n",
              "        6, 10,  3,  3,  9,  3,  2,  2,  3,  3,  7,  1,  8,  0,  3,  9,  5,\n",
              "        3,  1,  9,  3,  9,  9,  3,  3,  3,  9,  3,  3,  2,  3,  2,  2,  3,\n",
              "        3,  9,  9,  3, 10,  2,  3,  2,  3,  3,  5,  4, 10,  4,  4,  4,  1,\n",
              "       10,  4,  6,  7,  4,  5,  4,  4,  4,  4,  7,  4,  4,  1,  0,  9,  4,\n",
              "       10,  9,  4,  2,  4,  4,  4,  7,  4,  5,  8,  4,  1,  4,  2,  1,  3,\n",
              "        2,  4, 10,  1,  9,  4,  1,  4,  2,  5,  4,  2,  7,  4,  4,  7,  4,\n",
              "        4,  0,  1,  4,  5,  4,  4,  4,  4,  4,  4,  4,  4,  2,  7,  5,  9,\n",
              "        3,  2,  0,  4,  4, 10, 10,  4,  5,  4,  4,  2,  1,  4,  1,  4,  4,\n",
              "        4,  9,  4,  8,  4,  4,  1,  4,  2,  2,  4,  4,  4,  1, 10,  4,  4,\n",
              "        4,  3,  1,  5,  4,  4,  4,  3,  4, 10,  4, 10,  4,  6,  7,  4,  4,\n",
              "        4,  4,  4,  3,  9,  5,  8,  7,  4,  4,  9,  4,  4,  4,  4, 10,  1,\n",
              "        1,  7,  4,  4,  1,  4,  4,  4,  4,  4,  4,  6, 10,  4,  4,  4,  7,\n",
              "        8,  4,  4,  2, 10,  1,  4,  4,  9,  4,  4,  4,  1,  4,  4,  7,  1,\n",
              "        4,  4,  0,  2,  0,  4,  4,  1,  4,  4,  5,  4,  4,  0])"
            ]
          },
          "metadata": {},
          "execution_count": 264
        }
      ]
    },
    {
      "cell_type": "code",
      "metadata": {
        "colab": {
          "base_uri": "https://localhost:8080/"
        },
        "id": "vNobHpbNdhrX",
        "outputId": "78570b6b-b7ad-4867-bcac-e5569f7926e1"
      },
      "source": [
        "print(answer_y_test.shape, pred.shape)\n",
        "print(answer_y_test[:10], pred[:10])\n",
        "\n",
        "print(classification_report(answer_y_test, pred))"
      ],
      "execution_count": 224,
      "outputs": [
        {
          "output_type": "stream",
          "name": "stdout",
          "text": [
            "(2638,) (2638,)\n",
            "[0 0 0 0 0 0 0 0 0 0] [ 7 10  8  7  0  0  9  9  0  7]\n",
            "              precision    recall  f1-score   support\n",
            "\n",
            "           0       0.33      0.33      0.33       203\n",
            "           1       0.25      0.30      0.27       203\n",
            "           2       0.23      0.32      0.27       202\n",
            "           3       0.32      0.35      0.33       201\n",
            "           4       0.39      0.53      0.45       202\n",
            "           5       0.15      0.20      0.17       201\n",
            "           6       0.58      0.65      0.62       205\n",
            "           7       0.41      0.44      0.42       202\n",
            "           8       0.42      0.44      0.43       203\n",
            "           9       0.16      0.22      0.18       204\n",
            "          10       0.26      0.26      0.26       203\n",
            "          11       0.00      0.00      0.00       205\n",
            "          12       0.00      0.00      0.00       204\n",
            "\n",
            "    accuracy                           0.31      2638\n",
            "   macro avg       0.27      0.31      0.29      2638\n",
            "weighted avg       0.27      0.31      0.29      2638\n",
            "\n"
          ]
        },
        {
          "output_type": "stream",
          "name": "stderr",
          "text": [
            "/usr/local/lib/python3.7/dist-packages/sklearn/metrics/_classification.py:1272: UndefinedMetricWarning: Precision and F-score are ill-defined and being set to 0.0 in labels with no predicted samples. Use `zero_division` parameter to control this behavior.\n",
            "  _warn_prf(average, modifier, msg_start, len(result))\n"
          ]
        }
      ]
    },
    {
      "cell_type": "code",
      "metadata": {
        "colab": {
          "base_uri": "https://localhost:8080/"
        },
        "id": "eAE1wvn8JLMl",
        "outputId": "a3a8cda3-c515-4e0b-9c96-26735f83c09a"
      },
      "source": [
        "model_gru.load_weights(model_gru_save_path)\n",
        "model_gru.evaluate(x_test, y_test, verbose=1)"
      ],
      "execution_count": 226,
      "outputs": [
        {
          "output_type": "stream",
          "name": "stdout",
          "text": [
            "83/83 [==============================] - 3s 38ms/step - loss: 4.0470 - accuracy: 0.2475\n"
          ]
        },
        {
          "output_type": "execute_result",
          "data": {
            "text/plain": [
              "[4.046996116638184, 0.24753601849079132]"
            ]
          },
          "metadata": {},
          "execution_count": 226
        }
      ]
    },
    {
      "cell_type": "code",
      "metadata": {
        "colab": {
          "base_uri": "https://localhost:8080/"
        },
        "id": "FywZiO5ZdxPX",
        "outputId": "93428537-d903-4b4f-9271-a671eb933b14"
      },
      "source": [
        "pred = model_gru.predict(x_test, batch_size = 32)\n",
        "pred = np.argmax(pred, axis=1)\n",
        "pred[:1000]"
      ],
      "execution_count": 265,
      "outputs": [
        {
          "output_type": "execute_result",
          "data": {
            "text/plain": [
              "array([ 8,  2,  5,  0,  0,  4,  2,  6, 10,  4,  1,  4,  4,  0,  3, 10, 10,\n",
              "       10,  6,  2,  7,  0,  5,  1,  8,  4,  3,  2,  6,  7,  3,  6,  3,  3,\n",
              "        0,  6,  7,  7,  2,  5, 10,  2,  1,  4,  4, 10,  8,  1,  5,  2,  4,\n",
              "        7, 10,  1,  2,  4,  2,  2,  1,  2,  4,  2,  5,  1,  4,  4,  9,  6,\n",
              "       10,  7,  4,  3,  0,  0,  7,  4,  7,  7,  8,  7,  5, 10,  4,  2,  1,\n",
              "        7, 10,  5,  2,  4,  2,  8,  4,  7,  0,  9,  8,  2,  0, 10, 10,  2,\n",
              "        5, 10,  5,  1,  2,  5,  2,  1,  8,  3,  0,  2,  0, 10,  2,  5,  4,\n",
              "        2,  4,  0,  4,  0,  1,  3,  8,  4,  0,  0,  5,  2,  1,  2,  2,  3,\n",
              "        4,  4,  9, 10,  9,  5,  4,  8,  6, 10,  4,  4,  4,  1,  9,  0,  5,\n",
              "       10,  5, 10,  5,  5,  4,  2,  4,  2,  2, 10,  1,  4,  2,  2,  1,  3,\n",
              "        9,  6,  1,  5,  0, 10,  4,  3,  0,  2,  5,  3,  4,  8,  6,  2,  6,\n",
              "        5,  2, 10,  5,  0,  2,  3,  0,  5,  9,  4, 10,  7,  5,  5,  1,  7,\n",
              "        5,  2,  1,  8,  3,  3,  6,  3, 10,  5, 10,  4,  8, 10,  2,  0,  5,\n",
              "        6, 10,  0, 10,  6,  2,  3,  3,  2,  4,  9,  8,  0,  2,  7,  4,  2,\n",
              "        4,  8,  1,  4, 10,  5,  4,  4, 10,  4,  8,  7,  9,  0,  8,  5, 10,\n",
              "        4,  7,  4,  7,  2,  3,  4,  1,  4, 10,  3,  2,  5,  4,  8,  5,  8,\n",
              "        4,  0,  5,  2,  7,  3,  4,  1,  5,  2,  2,  4,  1,  9,  0,  7,  7,\n",
              "        3,  5, 10,  1,  4,  4,  2,  3,  1,  7,  2,  7,  6, 10, 10,  9,  5,\n",
              "        5,  0,  7,  9,  3,  4,  5,  9,  4,  1,  6,  3,  8,  2,  1,  2,  5,\n",
              "        3,  7,  5,  4,  5,  5,  8,  5,  5,  1,  8,  3,  0,  3,  0,  6,  6,\n",
              "        4,  0,  7,  6,  9,  9,  0,  9,  4,  1, 10,  3,  1,  9,  6,  5,  4,\n",
              "        5,  0,  6,  1,  4,  4,  4,  4,  5, 10, 10, 10,  1,  1,  2,  5,  5,\n",
              "        3,  4,  1,  2,  3,  4,  1,  8,  3,  7,  5,  6,  6, 10,  3, 10,  0,\n",
              "        1,  4,  7,  5,  4,  3,  3,  8, 10,  0, 10,  4,  3,  5,  3,  5,  5,\n",
              "        5,  9,  2,  4,  2, 10,  9,  6,  2,  9,  2,  0,  6,  3,  4,  9, 10,\n",
              "        6,  4,  0,  1,  2,  6, 10,  1,  8,  6,  4,  4,  7,  1,  1,  5,  0,\n",
              "        6,  2,  5,  2,  5, 10,  0, 10,  8,  5,  3,  0,  6,  5,  8,  7,  1,\n",
              "        3,  5,  0,  4,  9,  4,  1,  9,  0,  8,  2,  6, 10,  7,  6,  4,  0,\n",
              "        4, 10,  1,  0,  2,  2,  4,  6,  2,  4,  2,  2,  4,  7,  3,  5,  3,\n",
              "        0,  1,  2,  0,  5, 10,  7,  2,  6,  3,  6, 10, 10,  3,  5,  5,  8,\n",
              "        8,  3,  7,  7,  5,  9,  3,  2,  3, 10,  7,  3,  1, 10,  8,  5,  0,\n",
              "        2,  5,  2,  2, 10,  8,  7,  1,  2,  1,  2,  3,  6,  5,  7,  2,  9,\n",
              "        5,  2,  5,  1, 10,  2,  7,  4,  6,  6, 10,  2,  2, 10,  2,  6,  9,\n",
              "        2,  1,  5,  0,  1,  2,  2,  1,  5,  4,  9, 10,  4,  9,  1, 10, 10,\n",
              "        2,  2,  6,  0,  7, 10,  9,  5,  1,  8,  8,  2,  7,  0,  2,  4,  3,\n",
              "        2, 10,  2,  8,  7,  3,  0,  0,  5,  7,  1,  1,  4,  1,  6,  0,  4,\n",
              "        5,  5,  5,  2,  2, 10,  9,  2,  2,  2,  7, 10,  6,  7,  4,  6,  3,\n",
              "        2, 10,  6,  3,  4,  6,  6,  2,  7, 10,  2,  2,  4,  5, 10,  2,  2,\n",
              "        8,  5,  2,  0,  6,  0, 10,  9,  4,  3,  5,  5,  6,  5,  6,  2,  6,\n",
              "        2,  5,  0,  0,  0, 10,  6,  3,  2,  0,  7,  4,  7,  9,  0,  4,  3,\n",
              "        2, 10,  5,  2,  6,  8,  7,  8,  6,  2,  1,  2,  6,  2,  6,  3,  2,\n",
              "        3, 10,  3,  2, 10,  7,  1,  5,  5,  2,  8,  9,  6,  1,  4,  2,  3,\n",
              "        2,  3,  7,  7, 10,  4, 10,  4,  4,  3,  2,  5,  4,  6,  2,  7,  0,\n",
              "       10, 10, 10,  7,  2,  7,  4,  0,  4,  6,  5,  6,  5,  6,  6,  6,  3,\n",
              "        7,  9,  0,  3,  7,  6,  9, 10, 10,  6,  9,  1,  0,  3,  1,  6,  4,\n",
              "        5,  9,  9,  6,  9,  2,  2,  5,  9, 10,  4,  0,  5,  3, 10, 10,  7,\n",
              "        6, 10,  3,  5,  2,  3, 10,  2,  7,  8,  7,  6,  6,  2,  7,  2,  2,\n",
              "        4,  0,  5,  5,  3, 10,  7, 10,  2,  5,  7,  4,  0,  6,  3,  4,  4,\n",
              "        2,  4,  0,  7,  3,  8,  6,  2,  0,  7,  2,  4,  3,  7,  4,  9,  7,\n",
              "        7,  2,  3,  8,  0,  2,  7,  5,  9,  6,  8,  4,  9,  4,  4,  2,  2,\n",
              "        5,  5,  4,  1,  5,  0,  8,  0,  7,  9,  6, 10, 10,  5,  3,  1,  1,\n",
              "        1,  5,  6,  2,  2,  4,  4,  2,  5,  2,  9,  4,  4,  4,  2, 10,  6,\n",
              "        7,  7,  3,  2,  3,  0,  5,  7,  4,  2,  9,  1, 10,  1,  3,  7, 10,\n",
              "        4,  9,  2,  7,  2,  0, 10,  4,  3,  3,  2,  3,  2,  3,  4,  1,  9,\n",
              "        6,  8,  5,  8,  1,  7,  4,  5,  9,  5,  1,  0,  4, 10,  2,  5,  1,\n",
              "        0,  3,  2,  5,  9,  2,  2,  4,  8,  2,  6,  5,  2,  9,  5,  0,  9,\n",
              "        1, 10,  4,  4,  9,  0,  9,  4,  5,  5,  2,  0,  1,  3,  8,  5,  3,\n",
              "        0,  1,  4,  3,  9,  4,  4,  4,  3,  1,  3,  3,  0,  3,  8,  5,  7,\n",
              "        1,  1,  2,  4,  3,  8,  8,  4,  3,  2,  2,  3,  1,  5])"
            ]
          },
          "metadata": {},
          "execution_count": 265
        }
      ]
    },
    {
      "cell_type": "code",
      "metadata": {
        "colab": {
          "base_uri": "https://localhost:8080/"
        },
        "id": "E3cJWLxUd3HV",
        "outputId": "d5fc0c22-a0b5-4ee9-d82d-527bf2657bb8"
      },
      "source": [
        "print(answer_y_test.shape, pred.shape)\n",
        "print(answer_y_test[:10], pred[:10])\n",
        "\n",
        "print(classification_report(answer_y_test, pred))"
      ],
      "execution_count": 228,
      "outputs": [
        {
          "output_type": "stream",
          "name": "stdout",
          "text": [
            "(2638,) (2638,)\n",
            "[0 0 0 0 0 0 0 0 0 0] [7 7 2 5 7 0 3 8 2 3]\n",
            "              precision    recall  f1-score   support\n",
            "\n",
            "           0       0.24      0.20      0.22       203\n",
            "           1       0.23      0.28      0.25       203\n",
            "           2       0.16      0.30      0.21       202\n",
            "           3       0.31      0.39      0.35       201\n",
            "           4       0.32      0.29      0.31       202\n",
            "           5       0.06      0.07      0.07       201\n",
            "           6       0.40      0.65      0.50       205\n",
            "           7       0.26      0.31      0.28       202\n",
            "           8       0.38      0.43      0.40       203\n",
            "           9       0.17      0.18      0.18       204\n",
            "          10       0.18      0.11      0.14       203\n",
            "          11       0.00      0.00      0.00       205\n",
            "          12       0.00      0.00      0.00       204\n",
            "\n",
            "    accuracy                           0.25      2638\n",
            "   macro avg       0.21      0.25      0.22      2638\n",
            "weighted avg       0.21      0.25      0.22      2638\n",
            "\n"
          ]
        },
        {
          "output_type": "stream",
          "name": "stderr",
          "text": [
            "/usr/local/lib/python3.7/dist-packages/sklearn/metrics/_classification.py:1272: UndefinedMetricWarning: Precision and F-score are ill-defined and being set to 0.0 in labels with no predicted samples. Use `zero_division` parameter to control this behavior.\n",
            "  _warn_prf(average, modifier, msg_start, len(result))\n"
          ]
        }
      ]
    },
    {
      "cell_type": "code",
      "metadata": {
        "colab": {
          "base_uri": "https://localhost:8080/"
        },
        "id": "dOBjzLS6JOiG",
        "outputId": "9a43eb04-043b-4ce6-f1c8-656dd96fd270"
      },
      "source": [
        "model_gru.load_weights(upd_model_gru_save_path)\n",
        "model_gru.evaluate(upd_x_test, y_test, verbose=1)"
      ],
      "execution_count": 230,
      "outputs": [
        {
          "output_type": "stream",
          "name": "stdout",
          "text": [
            "83/83 [==============================] - 3s 38ms/step - loss: 3.7872 - accuracy: 0.2623\n"
          ]
        },
        {
          "output_type": "execute_result",
          "data": {
            "text/plain": [
              "[3.787158966064453, 0.262319952249527]"
            ]
          },
          "metadata": {},
          "execution_count": 230
        }
      ]
    },
    {
      "cell_type": "code",
      "metadata": {
        "colab": {
          "base_uri": "https://localhost:8080/"
        },
        "id": "9_aS-1XMeIyl",
        "outputId": "21b215ab-c4cf-4594-eb5c-7491d7bc8641"
      },
      "source": [
        "pred = model_gru.predict(upd_x_test, batch_size = 32)\n",
        "pred = np.argmax(pred, axis=1)\n",
        "pred[:1000]"
      ],
      "execution_count": 266,
      "outputs": [
        {
          "output_type": "execute_result",
          "data": {
            "text/plain": [
              "array([ 7,  0,  8,  2,  4,  0,  7,  9,  7,  6,  4,  7,  3,  0,  0,  6,  7,\n",
              "        4,  5,  6,  3, 10,  8,  2,  9, 10,  1,  0,  0,  5,  4,  8,  9,  4,\n",
              "        5,  5,  1,  0,  4,  7,  0,  3,  9,  0,  0,  4,  0,  7,  0,  2,  0,\n",
              "        4,  6,  0,  0,  0,  8,  0,  0,  3,  0,  3,  5,  7,  0,  0,  5,  2,\n",
              "        4,  0,  0,  0,  2,  5,  9,  2,  0,  5,  8,  5,  9,  7,  1,  0,  1,\n",
              "        5,  0,  7,  0,  2,  4,  1,  7,  5,  1,  7,  7,  9,  0,  1,  0,  1,\n",
              "        7,  7,  6,  9,  2,  8,  7,  0,  5,  7,  3,  3,  8,  8,  2,  0,  5,\n",
              "        3,  0,  0,  1,  4,  1,  7,  2,  0,  0,  0,  7,  8,  5,  2,  1,  4,\n",
              "        8,  2,  2,  0,  0,  7,  1,  2,  1,  5,  0,  4,  4,  1,  6, 10,  1,\n",
              "        5,  0,  1,  0,  0,  2,  0,  4,  0,  7,  1,  1,  0,  0,  6,  0,  4,\n",
              "        3,  8,  3,  0,  0,  0,  0,  2,  3,  0,  1,  4,  1,  1,  3,  6,  2,\n",
              "        1,  1,  6,  8,  9,  5,  7,  0,  7, 10,  5,  7,  0,  5,  0,  0,  8,\n",
              "        1,  1,  2,  7,  4,  0,  0,  1,  4,  4,  9,  1,  1,  4, 10,  1,  9,\n",
              "        5,  7,  1,  9,  4,  1,  4,  3,  7,  9,  4,  1,  0,  0,  4,  2,  1,\n",
              "        4,  9, 10,  4,  3,  5,  1,  4,  9,  1,  3,  7,  8,  0,  1,  3,  3,\n",
              "        0,  0,  3,  0,  3,  0,  1,  7,  1,  8,  1,  4,  0,  0,  6,  7,  0,\n",
              "        3,  1,  5,  1,  2,  5,  5,  6,  1,  4,  9,  0,  1,  1,  7,  8,  4,\n",
              "        4,  4,  4, 10,  0,  1,  1,  1,  1,  1,  1,  4,  6,  7,  8,  9,  2,\n",
              "        5,  3,  4,  9,  1,  5,  1,  5,  2,  0,  0,  2,  9,  9,  1,  5,  4,\n",
              "        4,  9,  5,  4,  4,  3,  1,  4,  1,  4,  4,  0,  4,  9,  4,  8,  1,\n",
              "        5,  9,  0,  4,  1,  4,  3,  0,  2,  9,  5,  0,  3,  3,  5,  7,  7,\n",
              "        7,  2,  1,  6,  9,  4,  1,  4,  0,  2,  4,  4,  1,  3,  0,  1,  5,\n",
              "        4,  1,  4,  8, 10,  4,  5,  2,  1,  4,  1,  7,  4,  4,  5,  3,  3,\n",
              "        5,  1,  1,  4,  1,  5,  8,  1,  0,  8,  5,  1,  4,  5,  4,  5,  0,\n",
              "        7,  9,  2,  3,  1, 10,  5,  2,  3,  2,  5,  8,  3,  3,  2,  5,  3,\n",
              "        7,  2,  5,  3,  5,  5,  2,  3,  2,  8,  1,  1,  7,  2,  3,  2,  6,\n",
              "        0,  4,  7,  2,  2,  2,  0,  5,  5,  9,  5,  7,  2,  5,  2,  3,  5,\n",
              "        2,  2,  5,  5,  5,  2,  3,  3, 10,  8,  3,  7,  0,  6,  1, 10,  3,\n",
              "        3,  3, 10,  6,  6,  4,  2,  9,  6,  4,  5,  0,  9,  4,  5, 10,  3,\n",
              "        5,  6,  2,  9,  4,  6,  3,  3,  1,  9,  9,  2,  2,  7,  3,  5, 10,\n",
              "        6,  3,  2,  5,  3,  3,  2,  9,  0,  0,  8,  3,  6,  5,  2,  9,  5,\n",
              "        4,  8,  3,  3,  1, 10,  2,  4,  2,  2,  2,  1,  1,  2,  6,  2, 10,\n",
              "        3, 10,  2,  1,  3,  7,  2,  0,  3,  8,  2,  2,  7,  4,  5,  6,  0,\n",
              "        2,  0,  4,  6,  2,  3,  3, 10,  2,  9,  3,  1,  5,  6,  0,  2,  5,\n",
              "        5,  3,  4,  2,  6,  2,  2,  3,  0,  2, 10,  9,  2, 10,  2,  2,  2,\n",
              "        3,  2,  4,  3,  2,  7,  9,  2,  7,  3,  6,  2,  9,  3,  2,  7,  2,\n",
              "        3,  0, 10,  9,  2,  3,  5,  3,  1,  9,  3,  1,  1,  6,  3,  5,  6,\n",
              "        5,  3,  2,  4,  1,  5,  4,  4,  3,  7,  3,  4,  5,  2,  3,  3,  4,\n",
              "        5,  1,  6,  3,  3,  2,  8,  3,  0,  4,  5,  9,  2,  2, 10,  3,  2,\n",
              "        2,  3,  5,  1,  0,  4,  1,  1,  2,  3,  0,  3,  2,  9,  3,  8,  0,\n",
              "        5,  3,  8,  2,  6,  8,  3,  2,  1,  3,  4,  2,  3,  5,  7,  2,  2,\n",
              "        2,  4,  2,  7,  2,  3,  2,  3,  2,  2,  3,  7, 10,  5,  9,  3,  1,\n",
              "        9,  2,  2, 10,  6,  2,  2,  3,  3,  5,  1,  3,  5,  3,  3,  2,  2,\n",
              "        1,  9,  8,  3,  3,  3,  3,  2,  1,  3,  3,  3,  3,  9,  2,  5,  1,\n",
              "        3,  3,  1,  4, 10,  6,  3,  6,  2,  4,  0,  3,  3,  3,  2,  1,  2,\n",
              "       10,  5,  3,  3,  5,  5,  3,  3,  5,  1,  0,  6,  2,  3,  3,  8,  3,\n",
              "        3,  3,  2,  5,  7,  3,  3,  2,  6,  8,  8,  3,  5,  2,  5,  3,  3,\n",
              "        2,  9,  2,  2,  5,  5,  2,  1,  3,  5,  2,  4,  5,  4,  4,  1,  1,\n",
              "        5,  5,  0,  1,  4,  4,  4,  4,  4,  4,  7,  1,  4, 10,  0,  8,  4,\n",
              "        4,  1,  4,  4,  1,  4,  5,  7,  4,  2,  4,  4,  1,  1, 10,  0,  3,\n",
              "        4,  4,  0,  1,  9,  4,  4,  2,  3,  3,  3,  4,  7,  4,  4,  4,  4,\n",
              "        4,  0,  7,  4,  2, 10,  4,  4,  4,  4,  1,  0,  0,  3,  0,  1,  4,\n",
              "        2,  3,  7,  1,  1, 10,  6,  4,  2,  3,  4,  2,  0,  1,  9,  0,  0,\n",
              "        1,  8,  3,  8,  4,  4,  0,  9,  6,  3,  4, 10,  4,  0,  4,  4,  4,\n",
              "        1,  6,  1,  9,  1,  5,  3,  3,  4,  2,  4,  4,  0,  7,  7,  4, 10,\n",
              "        4, 10,  1,  8,  7,  5,  5,  0,  4,  4,  5,  4,  4,  4,  2, 10,  4,\n",
              "        4,  2,  4,  4,  4,  4, 10,  0,  1,  4,  1,  4,  1,  5,  1,  4,  5,\n",
              "        9,  1,  1,  2,  4,  5,  0,  4,  5,  4,  4,  1,  5,  1,  4,  0,  4,\n",
              "        4,  4,  0,  4,  0,  4,  0,  1,  4,  4,  4,  4,  3,  9])"
            ]
          },
          "metadata": {},
          "execution_count": 266
        }
      ]
    },
    {
      "cell_type": "code",
      "metadata": {
        "colab": {
          "base_uri": "https://localhost:8080/"
        },
        "id": "l5dLVTIleJdN",
        "outputId": "162b21dd-863f-4459-e853-f4bfa5a379ae"
      },
      "source": [
        "print(answer_y_test.shape, pred.shape)\n",
        "print(answer_y_test[:10], pred[:10])\n",
        "\n",
        "print(classification_report(answer_y_test, pred))"
      ],
      "execution_count": 232,
      "outputs": [
        {
          "output_type": "stream",
          "name": "stdout",
          "text": [
            "(2638,) (2638,)\n",
            "[0 0 0 0 0 0 0 0 0 0] [7 0 8 2 4 0 7 9 7 6]\n",
            "              precision    recall  f1-score   support\n",
            "\n",
            "           0       0.25      0.28      0.26       203\n",
            "           1       0.18      0.23      0.20       203\n",
            "           2       0.16      0.25      0.20       202\n",
            "           3       0.24      0.30      0.27       201\n",
            "           4       0.29      0.39      0.33       202\n",
            "           5       0.12      0.16      0.14       201\n",
            "           6       0.48      0.66      0.55       205\n",
            "           7       0.29      0.34      0.31       202\n",
            "           8       0.39      0.47      0.43       203\n",
            "           9       0.20      0.17      0.18       204\n",
            "          10       0.27      0.17      0.21       203\n",
            "          11       0.00      0.00      0.00       205\n",
            "          12       0.00      0.00      0.00       204\n",
            "\n",
            "    accuracy                           0.26      2638\n",
            "   macro avg       0.22      0.26      0.24      2638\n",
            "weighted avg       0.22      0.26      0.24      2638\n",
            "\n"
          ]
        },
        {
          "output_type": "stream",
          "name": "stderr",
          "text": [
            "/usr/local/lib/python3.7/dist-packages/sklearn/metrics/_classification.py:1272: UndefinedMetricWarning: Precision and F-score are ill-defined and being set to 0.0 in labels with no predicted samples. Use `zero_division` parameter to control this behavior.\n",
            "  _warn_prf(average, modifier, msg_start, len(result))\n"
          ]
        }
      ]
    },
    {
      "cell_type": "code",
      "metadata": {
        "colab": {
          "base_uri": "https://localhost:8080/",
          "height": 606
        },
        "id": "zNfYHhjfeSAF",
        "outputId": "99a98767-156e-42f6-bd8f-9324f24fef4c"
      },
      "source": [
        "plt.plot(history_cnn.history['accuracy'], \n",
        "         label='cnn train accuracy')\n",
        "plt.plot(history_cnn.history['val_accuracy'], \n",
        "         label='cnn test accuracy')\n",
        "plt.plot(upd_history_cnn.history['accuracy'], \n",
        "         label='cnn upd train accuracy')\n",
        "plt.plot(upd_history_cnn.history['val_accuracy'], \n",
        "         label='cnn upd test accuracy')\n",
        "\n",
        "plt.plot(history_lstm.history['accuracy'], \n",
        "         label='lstm train accuracy')\n",
        "plt.plot(history_lstm.history['val_accuracy'], \n",
        "         label='lstm test accuracy')\n",
        "plt.plot(upd_history_lstm.history['accuracy'], \n",
        "         label='lstm upd train accuracy')\n",
        "plt.plot(upd_history_lstm.history['val_accuracy'], \n",
        "         label='lstm upd test accuracy')\n",
        "\n",
        "plt.plot(history_gru.history['accuracy'], \n",
        "         label='gru train accuracy')\n",
        "plt.plot(history_gru.history['val_accuracy'], \n",
        "         label='gru test accuracy')\n",
        "plt.plot(upd_history_gru.history['accuracy'], \n",
        "         label='gru upd train accuracy')\n",
        "plt.plot(upd_history_gru.history['val_accuracy'], \n",
        "         label='gru upd test accuracy')\n",
        "plt.xlabel('epoch')\n",
        "plt.ylabel('accuracy')\n",
        "plt.rcParams[\"figure.figsize\"] = (40,10)\n",
        "plt.legend()\n",
        "plt.show()"
      ],
      "execution_count": 239,
      "outputs": [
        {
          "output_type": "display_data",
          "data": {
            "image/png": "[encoded data removed]",
            "text/plain": [
              "<Figure size 1440x720 with 1 Axes>"
            ]
          },
          "metadata": {
            "needs_background": "light"
          }
        }
      ]
    },
    {
      "cell_type": "code",
      "metadata": {
        "id": "RvRw4pwYgXON"
      },
      "source": [
        ""
      ],
      "execution_count": null,
      "outputs": []
    }
  ]
}