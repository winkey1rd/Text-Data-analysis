{
  "nbformat": 4,
  "nbformat_minor": 0,
  "metadata": {
    "colab": {
      "name": "TextDataAnalysis.ipynb",
      "provenance": [],
      "collapsed_sections": [],
      "authorship_tag": "ABX9TyMueO6CdU+1mNVtG+/2V2Ff"
    },
    "kernelspec": {
      "name": "python3",
      "display_name": "Python 3"
    },
    "language_info": {
      "name": "python"
    }
  },
  "cells": [
    {
      "cell_type": "code",
      "metadata": {
        "colab": {
          "resources": {
            "http://localhost:8080/nbextensions/google.colab/files.js": {
              "data": "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",
              "ok": true,
              "headers": [
                [
                  "content-type",
                  "application/javascript"
                ]
              ],
              "status": 200,
              "status_text": ""
            }
          },
          "base_uri": "https://localhost:8080/",
          "height": 489
        },
        "id": "h2ROfodi0_G_",
        "outputId": "b1e8ae38-6c5e-41ba-f163-aac3ccf7d495"
      },
      "source": [
        "from google.colab import files\n",
        "uploaded = files.upload()"
      ],
      "execution_count": 2,
      "outputs": [
        {
          "output_type": "display_data",
          "data": {
            "text/html": [
              "\n",
              "     <input type=\"file\" id=\"files-753e5173-82d6-496c-b72c-e8c9aa064833\" name=\"files[]\" multiple disabled\n",
              "        style=\"border:none\" />\n",
              "     <output id=\"result-753e5173-82d6-496c-b72c-e8c9aa064833\">\n",
              "      Upload widget is only available when the cell has been executed in the\n",
              "      current browser session. Please rerun this cell to enable.\n",
              "      </output>\n",
              "      <script src=\"/nbextensions/google.colab/files.js\"></script> "
            ],
            "text/plain": [
              "<IPython.core.display.HTML object>"
            ]
          },
          "metadata": {}
        },
        {
          "output_type": "stream",
          "name": "stdout",
          "text": [
            "Saving Вопросы карьеры.csv to Вопросы карьеры.csv\n",
            "Saving Вредные привычки, зависимость.csv to Вредные привычки, зависимость.csv\n",
            "Saving Горе, потери.csv to Горе, потери.csv\n",
            "Saving Депрессия.csv to Депрессия.csv\n",
            "Saving Нервные расстройства.csv to Нервные расстройства.csv\n",
            "Saving О достижении цели.csv to О достижении цели.csv\n",
            "Saving Отношения с окружающими.csv to Отношения с окружающими.csv\n",
            "Saving Поиск решения.csv to Поиск решения.csv\n",
            "Saving Проблемы с детьми.csv to Проблемы с детьми.csv\n",
            "Saving Проблемы с партнером.csv to Проблемы с партнером.csv\n",
            "Saving Размышления о мире.csv to Размышления о мире.csv\n",
            "Saving Самопознание, саморазвитие.csv to Самопознание, саморазвитие.csv\n",
            "Saving Семейные проблемы.csv to Семейные проблемы.csv\n"
          ]
        }
      ]
    },
    {
      "cell_type": "code",
      "metadata": {
        "colab": {
          "base_uri": "https://localhost:8080/"
        },
        "id": "sksgntOL1Oli",
        "outputId": "4ae6336c-74e6-4cfc-bfb5-e989c3d3827c"
      },
      "source": [
        "!ls"
      ],
      "execution_count": 3,
      "outputs": [
        {
          "output_type": "stream",
          "name": "stdout",
          "text": [
            " sample_data\t\t\t     'Отношения с окружающими.csv'\n",
            "'Вопросы карьеры.csv'\t\t     'Поиск решения.csv'\n",
            "'Вредные привычки, зависимость.csv'  'Проблемы с детьми.csv'\n",
            "'Горе, потери.csv'\t\t     'Проблемы с партнером.csv'\n",
            " Депрессия.csv\t\t\t     'Размышления о мире.csv'\n",
            "'Нервные расстройства.csv'\t     'Самопознание, саморазвитие.csv'\n",
            "'О достижении цели.csv'\t\t     'Семейные проблемы.csv'\n"
          ]
        }
      ]
    },
    {
      "cell_type": "markdown",
      "metadata": {
        "id": "gCN2qKU93NBH"
      },
      "source": [
        "Let's create 2 files: training and test data"
      ]
    },
    {
      "cell_type": "markdown",
      "metadata": {
        "id": "7xQTjmDt3Qs-"
      },
      "source": [
        "test data - 20%"
      ]
    },
    {
      "cell_type": "code",
      "metadata": {
        "id": "FRiyixfw3GES"
      },
      "source": [
        "from sklearn.model_selection import train_test_split\n",
        "import os\n",
        "import glob"
      ],
      "execution_count": 4,
      "outputs": []
    },
    {
      "cell_type": "code",
      "metadata": {
        "id": "-dvvrIEw3V-f"
      },
      "source": [
        "extension = 'csv'\n",
        "file_names = [i for i in glob.glob('*.{}'.format(extension))]\n",
        "file_names_size = len(file_names);"
      ],
      "execution_count": 5,
      "outputs": []
    },
    {
      "cell_type": "markdown",
      "metadata": {
        "id": "6ESFc_3H3YzQ"
      },
      "source": [
        "Let's mark the data: add a column in which the value will mean the category number"
      ]
    },
    {
      "cell_type": "code",
      "metadata": {
        "id": "wEUTq9WM3cp4"
      },
      "source": [
        "import pandas as pd\n",
        "import numpy as np"
      ],
      "execution_count": 6,
      "outputs": []
    },
    {
      "cell_type": "code",
      "metadata": {
        "id": "FOdN9pEs3goG"
      },
      "source": [
        "data_train = []\n",
        "data_test = []\n",
        "\n",
        "i = 0\n",
        "while i<file_names_size:\n",
        "  df = pd.read_csv(file_names[i], header=0)\n",
        "  df['THEME'] = i\n",
        "  train, test = train_test_split(df, test_size=0.2)\n",
        "  data_train.append(train)\n",
        "  data_test.append(test)\n",
        "  i = i + 1"
      ],
      "execution_count": 7,
      "outputs": []
    },
    {
      "cell_type": "code",
      "metadata": {
        "colab": {
          "base_uri": "https://localhost:8080/",
          "height": 143
        },
        "id": "NM27VcOS3kIe",
        "outputId": "fd8d895f-6355-4018-ba04-ece54e2c8abe"
      },
      "source": [
        "data_test[7][:3]"
      ],
      "execution_count": 8,
      "outputs": [
        {
          "output_type": "execute_result",
          "data": {
            "text/html": [
              "<div>\n",
              "<style scoped>\n",
              "    .dataframe tbody tr th:only-of-type {\n",
              "        vertical-align: middle;\n",
              "    }\n",
              "\n",
              "    .dataframe tbody tr th {\n",
              "        vertical-align: top;\n",
              "    }\n",
              "\n",
              "    .dataframe thead th {\n",
              "        text-align: right;\n",
              "    }\n",
              "</style>\n",
              "<table border=\"1\" class=\"dataframe\">\n",
              "  <thead>\n",
              "    <tr style=\"text-align: right;\">\n",
              "      <th></th>\n",
              "      <th>Unnamed: 0</th>\n",
              "      <th>USER_ID</th>\n",
              "      <th>USER_NICKNAME</th>\n",
              "      <th>TITLE</th>\n",
              "      <th>MESSAGE</th>\n",
              "      <th>DATE_TIME</th>\n",
              "      <th>TOPIC_LIKES_COUNT</th>\n",
              "      <th>URL</th>\n",
              "      <th>THEME</th>\n",
              "    </tr>\n",
              "  </thead>\n",
              "  <tbody>\n",
              "    <tr>\n",
              "      <th>3</th>\n",
              "      <td>3</td>\n",
              "      <td>u466489</td>\n",
              "      <td>LarisaVb</td>\n",
              "      <td>Невроз, ОКР</td>\n",
              "      <td>Здравствуйте. Спасибо, что согласились помочь....</td>\n",
              "      <td>2020-04-24 10:11</td>\n",
              "      <td>2</td>\n",
              "      <td>https://www.b17.ru/forum/topic.php?id=311985</td>\n",
              "      <td>7</td>\n",
              "    </tr>\n",
              "    <tr>\n",
              "      <th>1012</th>\n",
              "      <td>1012</td>\n",
              "      <td>u391596</td>\n",
              "      <td>Fand</td>\n",
              "      <td>рпп и с чем его едят</td>\n",
              "      <td>доброго времени суток. Появился такой вопрос: ...</td>\n",
              "      <td>2019-09-01 21:28</td>\n",
              "      <td>1</td>\n",
              "      <td>https://www.b17.ru/forum/topic.php?id=178646</td>\n",
              "      <td>7</td>\n",
              "    </tr>\n",
              "    <tr>\n",
              "      <th>128</th>\n",
              "      <td>128</td>\n",
              "      <td>u284260</td>\n",
              "      <td>Татьяна255</td>\n",
              "      <td>много неприятностей, как поддержать себя?</td>\n",
              "      <td>Одновременно у меня из жизни пропало очень мно...</td>\n",
              "      <td>2020-05-02 12:25</td>\n",
              "      <td>1</td>\n",
              "      <td>https://www.b17.ru/forum/topic.php?id=313086</td>\n",
              "      <td>7</td>\n",
              "    </tr>\n",
              "  </tbody>\n",
              "</table>\n",
              "</div>"
            ],
            "text/plain": [
              "      Unnamed: 0  USER_ID  ...                                           URL THEME\n",
              "3              3  u466489  ...  https://www.b17.ru/forum/topic.php?id=311985     7\n",
              "1012        1012  u391596  ...  https://www.b17.ru/forum/topic.php?id=178646     7\n",
              "128          128  u284260  ...  https://www.b17.ru/forum/topic.php?id=313086     7\n",
              "\n",
              "[3 rows x 9 columns]"
            ]
          },
          "metadata": {},
          "execution_count": 8
        }
      ]
    },
    {
      "cell_type": "code",
      "metadata": {
        "colab": {
          "base_uri": "https://localhost:8080/",
          "height": 143
        },
        "id": "svA-_FXW3m13",
        "outputId": "6e22ba1a-42bc-442f-bafd-7e0a6b3310f6"
      },
      "source": [
        "data_train[2][:3]"
      ],
      "execution_count": 9,
      "outputs": [
        {
          "output_type": "execute_result",
          "data": {
            "text/html": [
              "<div>\n",
              "<style scoped>\n",
              "    .dataframe tbody tr th:only-of-type {\n",
              "        vertical-align: middle;\n",
              "    }\n",
              "\n",
              "    .dataframe tbody tr th {\n",
              "        vertical-align: top;\n",
              "    }\n",
              "\n",
              "    .dataframe thead th {\n",
              "        text-align: right;\n",
              "    }\n",
              "</style>\n",
              "<table border=\"1\" class=\"dataframe\">\n",
              "  <thead>\n",
              "    <tr style=\"text-align: right;\">\n",
              "      <th></th>\n",
              "      <th>Unnamed: 0</th>\n",
              "      <th>USER_ID</th>\n",
              "      <th>USER_NICKNAME</th>\n",
              "      <th>TITLE</th>\n",
              "      <th>MESSAGE</th>\n",
              "      <th>DATE_TIME</th>\n",
              "      <th>TOPIC_LIKES_COUNT</th>\n",
              "      <th>URL</th>\n",
              "      <th>THEME</th>\n",
              "    </tr>\n",
              "  </thead>\n",
              "  <tbody>\n",
              "    <tr>\n",
              "      <th>531</th>\n",
              "      <td>531</td>\n",
              "      <td>u412391</td>\n",
              "      <td>heleonnorr</td>\n",
              "      <td>Жить долго, но скучно? Или...?</td>\n",
              "      <td>Сдавала анализы, стояла в очереди и слушала ра...</td>\n",
              "      <td>2019-04-15 06:34</td>\n",
              "      <td>8</td>\n",
              "      <td>https://www.b17.ru/forum/topic.php?id=160131</td>\n",
              "      <td>2</td>\n",
              "    </tr>\n",
              "    <tr>\n",
              "      <th>969</th>\n",
              "      <td>969</td>\n",
              "      <td>u338786</td>\n",
              "      <td>Инна130</td>\n",
              "      <td>Навязчивые секс-сцены с родителями</td>\n",
              "      <td>Уважаемые психологи,здравствуйте!У меня пробле...</td>\n",
              "      <td>2018-06-17 18:14</td>\n",
              "      <td>1</td>\n",
              "      <td>https://www.b17.ru/forum/topic.php?id=120356</td>\n",
              "      <td>2</td>\n",
              "    </tr>\n",
              "    <tr>\n",
              "      <th>344</th>\n",
              "      <td>344</td>\n",
              "      <td>u384654</td>\n",
              "      <td>A_N</td>\n",
              "      <td>Компульсивные передания и РПП яма</td>\n",
              "      <td>Я никогда не страдала от излишнего веса. При ф...</td>\n",
              "      <td>2019-08-31 13:52</td>\n",
              "      <td>2</td>\n",
              "      <td>https://www.b17.ru/forum/topic.php?id=178452</td>\n",
              "      <td>2</td>\n",
              "    </tr>\n",
              "  </tbody>\n",
              "</table>\n",
              "</div>"
            ],
            "text/plain": [
              "     Unnamed: 0  USER_ID  ...                                           URL THEME\n",
              "531         531  u412391  ...  https://www.b17.ru/forum/topic.php?id=160131     2\n",
              "969         969  u338786  ...  https://www.b17.ru/forum/topic.php?id=120356     2\n",
              "344         344  u384654  ...  https://www.b17.ru/forum/topic.php?id=178452     2\n",
              "\n",
              "[3 rows x 9 columns]"
            ]
          },
          "metadata": {},
          "execution_count": 9
        }
      ]
    },
    {
      "cell_type": "markdown",
      "metadata": {
        "id": "6XxYnTlP3qW1"
      },
      "source": [
        "combining the data into a single file"
      ]
    },
    {
      "cell_type": "markdown",
      "metadata": {
        "id": "n_Y2sVYN3rOf"
      },
      "source": [
        "-train"
      ]
    },
    {
      "cell_type": "code",
      "metadata": {
        "colab": {
          "base_uri": "https://localhost:8080/"
        },
        "id": "Mn_rntji3tAG",
        "outputId": "dc0ae3c9-9713-4b22-cdbb-8a148d5a0de4"
      },
      "source": [
        "final_data_train = pd.concat(data_train)\n",
        "final_data_train.to_csv( 'train.csv', index=False, encoding='utf-8-sig')\n",
        "!wc -l train.csv"
      ],
      "execution_count": 10,
      "outputs": [
        {
          "output_type": "stream",
          "name": "stdout",
          "text": [
            "10546 train.csv\n"
          ]
        }
      ]
    },
    {
      "cell_type": "markdown",
      "metadata": {
        "id": "XzGFTYDa3zZ_"
      },
      "source": [
        "-test"
      ]
    },
    {
      "cell_type": "code",
      "metadata": {
        "colab": {
          "base_uri": "https://localhost:8080/"
        },
        "id": "g5Xir5tu30Un",
        "outputId": "35a7505c-726b-4cca-a8d0-4ab31f8d5b39"
      },
      "source": [
        "final_data_test = pd.concat(data_test)\n",
        "final_data_test.to_csv( \"test.csv\", index=False, encoding='utf-8-sig')\n",
        "!wc -l test.csv"
      ],
      "execution_count": 11,
      "outputs": [
        {
          "output_type": "stream",
          "name": "stdout",
          "text": [
            "2641 test.csv\n"
          ]
        }
      ]
    },
    {
      "cell_type": "code",
      "metadata": {
        "colab": {
          "base_uri": "https://localhost:8080/",
          "height": 143
        },
        "id": "mn1ncP1c35Qv",
        "outputId": "941a6c50-82ff-48a0-a804-a58d0eed618a"
      },
      "source": [
        "train = pd.read_csv('train.csv', header=0)\n",
        "train[:3]"
      ],
      "execution_count": 12,
      "outputs": [
        {
          "output_type": "execute_result",
          "data": {
            "text/html": [
              "<div>\n",
              "<style scoped>\n",
              "    .dataframe tbody tr th:only-of-type {\n",
              "        vertical-align: middle;\n",
              "    }\n",
              "\n",
              "    .dataframe tbody tr th {\n",
              "        vertical-align: top;\n",
              "    }\n",
              "\n",
              "    .dataframe thead th {\n",
              "        text-align: right;\n",
              "    }\n",
              "</style>\n",
              "<table border=\"1\" class=\"dataframe\">\n",
              "  <thead>\n",
              "    <tr style=\"text-align: right;\">\n",
              "      <th></th>\n",
              "      <th>Unnamed: 0</th>\n",
              "      <th>USER_ID</th>\n",
              "      <th>USER_NICKNAME</th>\n",
              "      <th>TITLE</th>\n",
              "      <th>MESSAGE</th>\n",
              "      <th>DATE_TIME</th>\n",
              "      <th>TOPIC_LIKES_COUNT</th>\n",
              "      <th>URL</th>\n",
              "      <th>THEME</th>\n",
              "    </tr>\n",
              "  </thead>\n",
              "  <tbody>\n",
              "    <tr>\n",
              "      <th>0</th>\n",
              "      <td>602</td>\n",
              "      <td>u307258</td>\n",
              "      <td>Пятно</td>\n",
              "      <td>Унижающаяся</td>\n",
              "      <td>Добрый день. У меня в течение года изредка был...</td>\n",
              "      <td>2018-07-06 12:58</td>\n",
              "      <td>4</td>\n",
              "      <td>https://www.b17.ru/forum/topic.php?id=122522</td>\n",
              "      <td>0</td>\n",
              "    </tr>\n",
              "    <tr>\n",
              "      <th>1</th>\n",
              "      <td>691</td>\n",
              "      <td>u311725</td>\n",
              "      <td>Юлия фдк</td>\n",
              "      <td>умер ребенок</td>\n",
              "      <td>У меня умерла дочка. Ей было 5 лет. Не дожила ...</td>\n",
              "      <td>2018-04-04 09:46</td>\n",
              "      <td>10</td>\n",
              "      <td>https://www.b17.ru/forum/topic.php?id=112111</td>\n",
              "      <td>0</td>\n",
              "    </tr>\n",
              "    <tr>\n",
              "      <th>2</th>\n",
              "      <td>369</td>\n",
              "      <td>u93340</td>\n",
              "      <td>Аннанас</td>\n",
              "      <td>председатель тсж хитрит</td>\n",
              "      <td>Создаю такую тему здесь, потому что хочу понят...</td>\n",
              "      <td>2019-04-07 15:29</td>\n",
              "      <td>1</td>\n",
              "      <td>https://www.b17.ru/forum/topic.php?id=159131</td>\n",
              "      <td>0</td>\n",
              "    </tr>\n",
              "  </tbody>\n",
              "</table>\n",
              "</div>"
            ],
            "text/plain": [
              "   Unnamed: 0  USER_ID  ...                                           URL THEME\n",
              "0         602  u307258  ...  https://www.b17.ru/forum/topic.php?id=122522     0\n",
              "1         691  u311725  ...  https://www.b17.ru/forum/topic.php?id=112111     0\n",
              "2         369   u93340  ...  https://www.b17.ru/forum/topic.php?id=159131     0\n",
              "\n",
              "[3 rows x 9 columns]"
            ]
          },
          "metadata": {},
          "execution_count": 12
        }
      ]
    },
    {
      "cell_type": "code",
      "metadata": {
        "colab": {
          "base_uri": "https://localhost:8080/",
          "height": 143
        },
        "id": "l1-qJBc14Een",
        "outputId": "a6b18faa-054d-4431-8ed2-6a00603c33ed"
      },
      "source": [
        "test = pd.read_csv('test.csv', header=0)\n",
        "test[:3]"
      ],
      "execution_count": 13,
      "outputs": [
        {
          "output_type": "execute_result",
          "data": {
            "text/html": [
              "<div>\n",
              "<style scoped>\n",
              "    .dataframe tbody tr th:only-of-type {\n",
              "        vertical-align: middle;\n",
              "    }\n",
              "\n",
              "    .dataframe tbody tr th {\n",
              "        vertical-align: top;\n",
              "    }\n",
              "\n",
              "    .dataframe thead th {\n",
              "        text-align: right;\n",
              "    }\n",
              "</style>\n",
              "<table border=\"1\" class=\"dataframe\">\n",
              "  <thead>\n",
              "    <tr style=\"text-align: right;\">\n",
              "      <th></th>\n",
              "      <th>Unnamed: 0</th>\n",
              "      <th>USER_ID</th>\n",
              "      <th>USER_NICKNAME</th>\n",
              "      <th>TITLE</th>\n",
              "      <th>MESSAGE</th>\n",
              "      <th>DATE_TIME</th>\n",
              "      <th>TOPIC_LIKES_COUNT</th>\n",
              "      <th>URL</th>\n",
              "      <th>THEME</th>\n",
              "    </tr>\n",
              "  </thead>\n",
              "  <tbody>\n",
              "    <tr>\n",
              "      <th>0</th>\n",
              "      <td>572</td>\n",
              "      <td>u156453</td>\n",
              "      <td>Вендла</td>\n",
              "      <td>Напала сильная тоска по любимой кошке</td>\n",
              "      <td>Три месяца назад умерла кошка, которая прожила...</td>\n",
              "      <td>2018-08-17 21:10</td>\n",
              "      <td>24</td>\n",
              "      <td>https://www.b17.ru/forum/topic.php?id=127725</td>\n",
              "      <td>0</td>\n",
              "    </tr>\n",
              "    <tr>\n",
              "      <th>1</th>\n",
              "      <td>288</td>\n",
              "      <td>u440205</td>\n",
              "      <td>Herby</td>\n",
              "      <td>Когда больно-одиноко</td>\n",
              "      <td>Был близкий человек. К сожалению, \"хорошее\" от...</td>\n",
              "      <td>2019-07-20 17:27</td>\n",
              "      <td>1</td>\n",
              "      <td>https://www.b17.ru/forum/topic.php?id=172729</td>\n",
              "      <td>0</td>\n",
              "    </tr>\n",
              "    <tr>\n",
              "      <th>2</th>\n",
              "      <td>879</td>\n",
              "      <td>u91294</td>\n",
              "      <td>Фламинга</td>\n",
              "      <td>Выйти в окно</td>\n",
              "      <td>Ничего хорошего нет и не будет.</td>\n",
              "      <td>2017-09-16 17:18</td>\n",
              "      <td>0</td>\n",
              "      <td>https://www.b17.ru/forum/topic.php?id=88241</td>\n",
              "      <td>0</td>\n",
              "    </tr>\n",
              "  </tbody>\n",
              "</table>\n",
              "</div>"
            ],
            "text/plain": [
              "   Unnamed: 0  USER_ID  ...                                           URL THEME\n",
              "0         572  u156453  ...  https://www.b17.ru/forum/topic.php?id=127725     0\n",
              "1         288  u440205  ...  https://www.b17.ru/forum/topic.php?id=172729     0\n",
              "2         879   u91294  ...   https://www.b17.ru/forum/topic.php?id=88241     0\n",
              "\n",
              "[3 rows x 9 columns]"
            ]
          },
          "metadata": {},
          "execution_count": 13
        }
      ]
    },
    {
      "cell_type": "code",
      "metadata": {
        "id": "7ZDVB4dc4HhS"
      },
      "source": [
        "from tensorflow.keras import utils"
      ],
      "execution_count": 14,
      "outputs": []
    },
    {
      "cell_type": "markdown",
      "metadata": {
        "id": "UMMhTd0948co"
      },
      "source": [
        "Protection against unexpected strings such as 'nan'"
      ]
    },
    {
      "cell_type": "code",
      "metadata": {
        "id": "m76Yoiqe4K3P"
      },
      "source": [
        "trb_nan_idx = train[pd.isnull(train['MESSAGE'])].index.tolist()\n",
        "train.loc[trb_nan_idx, 'MESSAGE'] = ' '\n",
        "train.loc[trb_nan_idx, 'MESSAGE'] = ' '"
      ],
      "execution_count": 15,
      "outputs": []
    },
    {
      "cell_type": "code",
      "metadata": {
        "id": "NpUgN4Ns4N0X"
      },
      "source": [
        "x_train = train['MESSAGE']\n",
        "y_train = utils.to_categorical(train['THEME'],file_names_size)"
      ],
      "execution_count": 16,
      "outputs": []
    },
    {
      "cell_type": "code",
      "metadata": {
        "colab": {
          "base_uri": "https://localhost:8080/"
        },
        "id": "CYHrrz8h4Qtx",
        "outputId": "04062852-9a54-4380-b678-6fc3fd0d933a"
      },
      "source": [
        "import nltk\n",
        "import re\n",
        "from nltk.stem.snowball import SnowballStemmer\n",
        "stemmer = SnowballStemmer(\"russian\")\n",
        "nltk.download('punkt')"
      ],
      "execution_count": 17,
      "outputs": [
        {
          "output_type": "stream",
          "name": "stdout",
          "text": [
            "[nltk_data] Downloading package punkt to /root/nltk_data...\n",
            "[nltk_data]   Unzipping tokenizers/punkt.zip.\n"
          ]
        },
        {
          "output_type": "execute_result",
          "data": {
            "text/plain": [
              "True"
            ]
          },
          "metadata": {},
          "execution_count": 17
        }
      ]
    },
    {
      "cell_type": "markdown",
      "metadata": {
        "id": "8AJE5TIa5MN3"
      },
      "source": [
        "get a word form for each token (stemming)"
      ]
    },
    {
      "cell_type": "code",
      "metadata": {
        "id": "4eWdXuee4UdC"
      },
      "source": [
        "def token_and_stem(text):\n",
        "    tokens = [word for sent in nltk.sent_tokenize(text) for word in nltk.word_tokenize(sent)]\n",
        "    filtered_tokens = []\n",
        "    for token in tokens:\n",
        "        if re.search('[а-яА-Я]', token):\n",
        "            filtered_tokens.append(token)\n",
        "    stems = [stemmer.stem(t) for t in filtered_tokens]\n",
        "    print(type(stems))\n",
        "    return stems"
      ],
      "execution_count": 18,
      "outputs": []
    },
    {
      "cell_type": "code",
      "metadata": {
        "id": "7NYirRXy4XKP"
      },
      "source": [
        "upd_x_train = []\n",
        "\n",
        "for i in x_train:\n",
        "  upd_train = token_and_stem(i)\n",
        "  upd_x_train.append(upd_train)"
      ],
      "execution_count": null,
      "outputs": []
    },
    {
      "cell_type": "markdown",
      "metadata": {
        "id": "F6Emkobu5cqB"
      },
      "source": [
        "exclude the most popular words that do not carry a semantic load (stop words)"
      ]
    },
    {
      "cell_type": "code",
      "metadata": {
        "colab": {
          "base_uri": "https://localhost:8080/"
        },
        "id": "G5Er4Q4l5b6_",
        "outputId": "bea6bca7-ad08-4f48-919b-35d5a06ea781"
      },
      "source": [
        "nltk.download('stopwords')\n",
        "stopwords = nltk.corpus.stopwords.words('russian')\n",
        "#можно расширить список стоп-слов\n",
        "stopwords.extend(['что', 'это', 'так', 'вот', 'быть', 'как', 'в', 'к', 'на'])"
      ],
      "execution_count": 20,
      "outputs": [
        {
          "output_type": "stream",
          "name": "stdout",
          "text": [
            "[nltk_data] Downloading package stopwords to /root/nltk_data...\n",
            "[nltk_data]   Unzipping corpora/stopwords.zip.\n"
          ]
        }
      ]
    },
    {
      "cell_type": "code",
      "metadata": {
        "colab": {
          "base_uri": "https://localhost:8080/"
        },
        "id": "SEPE-rll7iiY",
        "outputId": "a9109c94-79b5-4e09-b908-fffbd6497ecf"
      },
      "source": [
        "len(upd_x_train)\n"
      ],
      "execution_count": 21,
      "outputs": [
        {
          "output_type": "execute_result",
          "data": {
            "text/plain": [
              "10532"
            ]
          },
          "metadata": {},
          "execution_count": 21
        }
      ]
    },
    {
      "cell_type": "code",
      "metadata": {
        "id": "Swv_gvXR5xxA"
      },
      "source": [
        "tokens = []\n",
        "train = []\n",
        "\n",
        "for x_tr in upd_x_train:\n",
        "  for token in x_tr:\n",
        "    if token not in stopwords:\n",
        "      tokens.append(token)\n",
        "  train.append(tokens)\n",
        "  tokens = []"
      ],
      "execution_count": 22,
      "outputs": []
    },
    {
      "cell_type": "code",
      "metadata": {
        "colab": {
          "base_uri": "https://localhost:8080/"
        },
        "id": "jqaFfqGd6jZA",
        "outputId": "f4736504-ef09-46a6-8578-8648fdb5991a"
      },
      "source": [
        "x_train"
      ],
      "execution_count": 23,
      "outputs": [
        {
          "output_type": "execute_result",
          "data": {
            "text/plain": [
              "0        Добрый день. У меня в течение года изредка был...\n",
              "1        У меня умерла дочка. Ей было 5 лет. Не дожила ...\n",
              "2        Создаю такую тему здесь, потому что хочу понят...\n",
              "3        Кто знает есть ли в Беларуси службы, учреждени...\n",
              "4        Язычество представляется более крутым, вдохнов...\n",
              "                               ...                        \n",
              "10527    Добрый день подскажите в моей ситуации. В обще...\n",
              "10528    Здравствуйте, я сталкивалась в жизни с нарцисс...\n",
              "10529    Здравствуйте! Опишу для начала ситуацию. Спаси...\n",
              "10530    После различных ситуаций может возникнуть непр...\n",
              "10531    Добрый день!Хотела бы услышать мнения по повод...\n",
              "Name: MESSAGE, Length: 10532, dtype: object"
            ]
          },
          "metadata": {},
          "execution_count": 23
        }
      ]
    },
    {
      "cell_type": "code",
      "metadata": {
        "id": "UB-sLwHv58vg"
      },
      "source": [
        "from tensorflow.keras.preprocessing.text import Tokenizer\n",
        "from tensorflow.keras.models import Sequential\n",
        "from tensorflow.keras.preprocessing.sequence import pad_sequences"
      ],
      "execution_count": 24,
      "outputs": []
    },
    {
      "cell_type": "markdown",
      "metadata": {
        "id": "aientQWI6cGg"
      },
      "source": [
        "creating tokenizers for each of the data sets (processed and source)"
      ]
    },
    {
      "cell_type": "code",
      "metadata": {
        "id": "h1mvzFtZ6LUM"
      },
      "source": [
        "num_words = 5000\n",
        "tokenizer = Tokenizer(num_words=num_words, filters='0123456789!\"#$%&()*+,-./:;<=>?@[\\\\]^_`{|}~\\t\\n', lower=True, split=' ')\n",
        "upd_tokenizer = Tokenizer(num_words=num_words, filters='0123456789!\"#$%&()*+,-./:;<=>?@[\\\\]^_`{|}~\\t\\n', lower=True, split=' ')"
      ],
      "execution_count": 25,
      "outputs": []
    },
    {
      "cell_type": "code",
      "metadata": {
        "id": "jfPMFi-m6fLB"
      },
      "source": [
        "tokenizer.fit_on_texts(x_train)\n",
        "upd_tokenizer.fit_on_texts(train)"
      ],
      "execution_count": 26,
      "outputs": []
    },
    {
      "cell_type": "code",
      "metadata": {
        "id": "Qk9PlM9e9ToA"
      },
      "source": [
        "tokenizer.word_index"
      ],
      "execution_count": null,
      "outputs": []
    },
    {
      "cell_type": "code",
      "metadata": {
        "id": "SQJJQi6V9UGZ"
      },
      "source": [
        "upd_tokenizer.word_index"
      ],
      "execution_count": null,
      "outputs": []
    },
    {
      "cell_type": "code",
      "metadata": {
        "id": "WL6-TiI_9Ylx"
      },
      "source": [
        "sequences = tokenizer.texts_to_sequences(x_train)\n",
        "upd_sequences = upd_tokenizer.texts_to_sequences(train)"
      ],
      "execution_count": 29,
      "outputs": []
    },
    {
      "cell_type": "code",
      "metadata": {
        "colab": {
          "base_uri": "https://localhost:8080/"
        },
        "id": "h2g0YCDS9d2h",
        "outputId": "95de7624-0b15-4744-e0e2-4736bede20c1"
      },
      "source": [
        "print(x_train[0])\n",
        "print(sequences[0])\n",
        "print(train[0])\n",
        "print(upd_sequences[0])"
      ],
      "execution_count": 30,
      "outputs": [
        {
          "output_type": "stream",
          "name": "stdout",
          "text": [
            "Добрый день. У меня в течение года изредка была сексуальная связь с бывшим психотерапевтом. Сказать, что я была влюблена по уши, это ничего не сказать. Вчера он сказал мне, что у меня ни грамма ни ума, ни достоинства и я для него не более чем пустое место и  просто дырка. Сказать, что я убита, это ничего не сказать. Я ненавижу себя, рыдаю без остановки и не хочу жить. Помогите мне, пожалуйста, забыть его и найти силы жить дальше. Я долгое время носила его образ в сердце.\n",
            "[135, 54, 14, 11, 4, 1056, 73, 3033, 60, 980, 6, 2427, 2624, 201, 5, 3, 60, 3172, 20, 2831, 13, 62, 2, 201, 501, 16, 196, 12, 5, 14, 11, 80, 80, 868, 80, 1, 3, 43, 78, 2, 152, 75, 502, 1, 39, 201, 5, 3, 13, 62, 2, 201, 3, 799, 25, 92, 4976, 1, 2, 40, 97, 255, 12, 249, 1005, 26, 1, 198, 552, 97, 215, 3, 1197, 46, 26, 1112, 4, 802]\n",
            "['добр', 'ден', 'мен', 'течен', 'год', 'изредк', 'сексуальн', 'связ', 'бывш', 'психотерапевт', 'сказа', 'влюбл', 'уш', 'эт', 'нич', 'сказа', 'вчер', 'сказа', 'мен', 'грамм', 'ум', 'достоинств', 'нег', 'бол', 'пуст', 'мест', 'прост', 'дырк', 'сказа', 'убит', 'эт', 'нич', 'сказа', 'ненавиж', 'себ', 'рыда', 'остановк', 'хоч', 'жит', 'помог', 'пожалуйст', 'заб', 'ег', 'найт', 'сил', 'жит', 'дальш', 'долг', 'врем', 'нос', 'ег', 'образ', 'сердц']\n",
            "[75, 42, 2, 663, 22, 2438, 772, 395, 338, 585, 34, 1778, 1534, 1, 43, 34, 563, 34, 2, 306, 2305, 59, 69, 410, 149, 18, 34, 1, 43, 34, 834, 4, 1471, 2628, 25, 76, 229, 232, 466, 8, 159, 128, 76, 190, 145, 28, 797, 8, 356, 546]\n"
          ]
        }
      ]
    },
    {
      "cell_type": "code",
      "metadata": {
        "id": "TjVpkcop9g64"
      },
      "source": [
        "max_text_len = 100\n",
        "x_train = pad_sequences(sequences, maxlen=max_text_len)\n",
        "upd_x_train = pad_sequences(upd_sequences, maxlen=max_text_len)"
      ],
      "execution_count": 31,
      "outputs": []
    },
    {
      "cell_type": "code",
      "metadata": {
        "id": "9z2Tp9X99p0y"
      },
      "source": [
        "from tensorflow.keras.models import Sequential\n",
        "from tensorflow.keras.layers import Dense, Embedding, MaxPooling1D, Conv1D, GlobalMaxPooling1D, Dropout, LSTM, GRU"
      ],
      "execution_count": 32,
      "outputs": []
    },
    {
      "cell_type": "code",
      "metadata": {
        "id": "meRsML1r9tFa"
      },
      "source": [
        "model_cnn = Sequential()\n",
        "model_cnn.add(Embedding(num_words, 32, input_length=max_text_len))\n",
        "model_cnn.add(Conv1D(2*file_names_size**2, 5, padding='valid', activation='relu'))\n",
        "model_cnn.add(GlobalMaxPooling1D())\n",
        "model_cnn.add(Dropout(0.2))\n",
        "model_cnn.add(Dense(file_names_size**2, activation='relu'))\n",
        "model_cnn.add(Dense(file_names_size, activation='softmax'))"
      ],
      "execution_count": 33,
      "outputs": []
    },
    {
      "cell_type": "code",
      "metadata": {
        "id": "CTVx3zuS9vaR"
      },
      "source": [
        "model_cnn.compile(optimizer='adam', \n",
        "              loss='categorical_crossentropy', \n",
        "              metrics=['accuracy'])"
      ],
      "execution_count": 34,
      "outputs": []
    },
    {
      "cell_type": "code",
      "metadata": {
        "colab": {
          "base_uri": "https://localhost:8080/"
        },
        "id": "wPcsFZG29xlB",
        "outputId": "86f1d00f-b483-44f9-efe5-8d35b2655ca5"
      },
      "source": [
        "model_cnn.summary()"
      ],
      "execution_count": 35,
      "outputs": [
        {
          "output_type": "stream",
          "name": "stdout",
          "text": [
            "Model: \"sequential\"\n",
            "_________________________________________________________________\n",
            "Layer (type)                 Output Shape              Param #   \n",
            "=================================================================\n",
            "embedding (Embedding)        (None, 100, 32)           160000    \n",
            "_________________________________________________________________\n",
            "conv1d (Conv1D)              (None, 96, 338)           54418     \n",
            "_________________________________________________________________\n",
            "global_max_pooling1d (Global (None, 338)               0         \n",
            "_________________________________________________________________\n",
            "dropout (Dropout)            (None, 338)               0         \n",
            "_________________________________________________________________\n",
            "dense (Dense)                (None, 169)               57291     \n",
            "_________________________________________________________________\n",
            "dense_1 (Dense)              (None, 13)                2210      \n",
            "=================================================================\n",
            "Total params: 273,919\n",
            "Trainable params: 273,919\n",
            "Non-trainable params: 0\n",
            "_________________________________________________________________\n"
          ]
        }
      ]
    },
    {
      "cell_type": "code",
      "metadata": {
        "id": "Sxz2Udrz98uZ"
      },
      "source": [
        "from tensorflow.keras.callbacks import ModelCheckpoint"
      ],
      "execution_count": 36,
      "outputs": []
    },
    {
      "cell_type": "code",
      "metadata": {
        "id": "RGr3ar-j9ztp"
      },
      "source": [
        "model_cnn_save_path = 'best_model_cnn.h5'\n",
        "checkpoint_callback_cnn = ModelCheckpoint(model_cnn_save_path, \n",
        "                                      monitor='val_accuracy',\n",
        "                                      save_best_only=True,\n",
        "                                      verbose=1)\n",
        "upd_model_cnn_save_path = 'upd_best_model_cnn.h5'\n",
        "upd_checkpoint_callback_cnn = ModelCheckpoint(upd_model_cnn_save_path, \n",
        "                                      monitor='val_accuracy',\n",
        "                                      save_best_only=True,\n",
        "                                      verbose=1)"
      ],
      "execution_count": 37,
      "outputs": []
    },
    {
      "cell_type": "code",
      "metadata": {
        "colab": {
          "base_uri": "https://localhost:8080/"
        },
        "id": "RBEiaZq79_Ka",
        "outputId": "dad00123-d796-4308-e8f2-848b719a3d43"
      },
      "source": [
        "upd_history_cnn = model_cnn.fit(upd_x_train, \n",
        "                            y_train, \n",
        "                            epochs=15,\n",
        "                            batch_size=256,\n",
        "                            validation_split=0.2,\n",
        "                            callbacks=[upd_checkpoint_callback_cnn])"
      ],
      "execution_count": 38,
      "outputs": [
        {
          "output_type": "stream",
          "name": "stdout",
          "text": [
            "Epoch 1/15\n",
            "33/33 [==============================] - 9s 245ms/step - loss: 2.4459 - accuracy: 0.0965 - val_loss: 5.3010 - val_accuracy: 0.0000e+00\n",
            "\n",
            "Epoch 00001: val_accuracy improved from -inf to 0.00000, saving model to upd_best_model_cnn.h5\n",
            "Epoch 2/15\n",
            "33/33 [==============================] - 8s 243ms/step - loss: 2.3392 - accuracy: 0.1446 - val_loss: 6.9523 - val_accuracy: 0.0000e+00\n",
            "\n",
            "Epoch 00002: val_accuracy did not improve from 0.00000\n",
            "Epoch 3/15\n",
            "33/33 [==============================] - 8s 242ms/step - loss: 2.1878 - accuracy: 0.2510 - val_loss: 7.6018 - val_accuracy: 0.0000e+00\n",
            "\n",
            "Epoch 00003: val_accuracy did not improve from 0.00000\n",
            "Epoch 4/15\n",
            "33/33 [==============================] - 10s 301ms/step - loss: 1.9430 - accuracy: 0.3379 - val_loss: 9.1376 - val_accuracy: 0.0000e+00\n",
            "\n",
            "Epoch 00004: val_accuracy did not improve from 0.00000\n",
            "Epoch 5/15\n",
            "33/33 [==============================] - 8s 247ms/step - loss: 1.7133 - accuracy: 0.4284 - val_loss: 10.3824 - val_accuracy: 0.0000e+00\n",
            "\n",
            "Epoch 00005: val_accuracy did not improve from 0.00000\n",
            "Epoch 6/15\n",
            "33/33 [==============================] - 8s 243ms/step - loss: 1.4981 - accuracy: 0.5028 - val_loss: 11.1477 - val_accuracy: 0.0000e+00\n",
            "\n",
            "Epoch 00006: val_accuracy did not improve from 0.00000\n",
            "Epoch 7/15\n",
            "33/33 [==============================] - 8s 252ms/step - loss: 1.3039 - accuracy: 0.5647 - val_loss: 11.9912 - val_accuracy: 0.0062\n",
            "\n",
            "Epoch 00007: val_accuracy improved from 0.00000 to 0.00617, saving model to upd_best_model_cnn.h5\n",
            "Epoch 8/15\n",
            "33/33 [==============================] - 8s 241ms/step - loss: 1.1405 - accuracy: 0.6184 - val_loss: 12.7383 - val_accuracy: 0.0304\n",
            "\n",
            "Epoch 00008: val_accuracy improved from 0.00617 to 0.03037, saving model to upd_best_model_cnn.h5\n",
            "Epoch 9/15\n",
            "33/33 [==============================] - 8s 245ms/step - loss: 0.9874 - accuracy: 0.6729 - val_loss: 13.3027 - val_accuracy: 0.0603\n",
            "\n",
            "Epoch 00009: val_accuracy improved from 0.03037 to 0.06028, saving model to upd_best_model_cnn.h5\n",
            "Epoch 10/15\n",
            "33/33 [==============================] - 8s 240ms/step - loss: 0.8489 - accuracy: 0.7264 - val_loss: 14.3001 - val_accuracy: 0.0451\n",
            "\n",
            "Epoch 00010: val_accuracy did not improve from 0.06028\n",
            "Epoch 11/15\n",
            "33/33 [==============================] - 8s 236ms/step - loss: 0.7307 - accuracy: 0.7687 - val_loss: 14.9248 - val_accuracy: 0.0693\n",
            "\n",
            "Epoch 00011: val_accuracy improved from 0.06028 to 0.06929, saving model to upd_best_model_cnn.h5\n",
            "Epoch 12/15\n",
            "33/33 [==============================] - 8s 239ms/step - loss: 0.6160 - accuracy: 0.8119 - val_loss: 15.8044 - val_accuracy: 0.0503\n",
            "\n",
            "Epoch 00012: val_accuracy did not improve from 0.06929\n",
            "Epoch 13/15\n",
            "33/33 [==============================] - 8s 237ms/step - loss: 0.5176 - accuracy: 0.8480 - val_loss: 16.6550 - val_accuracy: 0.0555\n",
            "\n",
            "Epoch 00013: val_accuracy did not improve from 0.06929\n",
            "Epoch 14/15\n",
            "33/33 [==============================] - 8s 239ms/step - loss: 0.4329 - accuracy: 0.8720 - val_loss: 17.5918 - val_accuracy: 0.0403\n",
            "\n",
            "Epoch 00014: val_accuracy did not improve from 0.06929\n",
            "Epoch 15/15\n",
            "33/33 [==============================] - 8s 237ms/step - loss: 0.3645 - accuracy: 0.8952 - val_loss: 18.1048 - val_accuracy: 0.0683\n",
            "\n",
            "Epoch 00015: val_accuracy did not improve from 0.06929\n"
          ]
        }
      ]
    },
    {
      "cell_type": "code",
      "metadata": {
        "colab": {
          "base_uri": "https://localhost:8080/"
        },
        "id": "kFcHK7NB-FK5",
        "outputId": "91e8a75f-c416-4a82-dd1d-04a1fd5f6536"
      },
      "source": [
        "history_cnn = model_cnn.fit(x_train, \n",
        "                            y_train, \n",
        "                            epochs=15,\n",
        "                            batch_size=256,\n",
        "                            validation_split=0.2,\n",
        "                            callbacks=[checkpoint_callback_cnn])"
      ],
      "execution_count": 39,
      "outputs": [
        {
          "output_type": "stream",
          "name": "stdout",
          "text": [
            "Epoch 1/15\n",
            "33/33 [==============================] - 8s 238ms/step - loss: 3.3458 - accuracy: 0.1496 - val_loss: 11.7557 - val_accuracy: 0.0204\n",
            "\n",
            "Epoch 00001: val_accuracy improved from -inf to 0.02041, saving model to best_model_cnn.h5\n",
            "Epoch 2/15\n",
            "33/33 [==============================] - 8s 239ms/step - loss: 1.8748 - accuracy: 0.3568 - val_loss: 10.5278 - val_accuracy: 0.0209\n",
            "\n",
            "Epoch 00002: val_accuracy improved from 0.02041 to 0.02088, saving model to best_model_cnn.h5\n",
            "Epoch 3/15\n",
            "33/33 [==============================] - 8s 236ms/step - loss: 1.5915 - accuracy: 0.4560 - val_loss: 10.5791 - val_accuracy: 0.0389\n",
            "\n",
            "Epoch 00003: val_accuracy improved from 0.02088 to 0.03892, saving model to best_model_cnn.h5\n",
            "Epoch 4/15\n",
            "33/33 [==============================] - 8s 238ms/step - loss: 1.4015 - accuracy: 0.5351 - val_loss: 11.1274 - val_accuracy: 0.0313\n",
            "\n",
            "Epoch 00004: val_accuracy did not improve from 0.03892\n",
            "Epoch 5/15\n",
            "33/33 [==============================] - 8s 237ms/step - loss: 1.2331 - accuracy: 0.6014 - val_loss: 11.6640 - val_accuracy: 0.0508\n",
            "\n",
            "Epoch 00005: val_accuracy improved from 0.03892 to 0.05078, saving model to best_model_cnn.h5\n",
            "Epoch 6/15\n",
            "33/33 [==============================] - 8s 238ms/step - loss: 1.0865 - accuracy: 0.6509 - val_loss: 12.2486 - val_accuracy: 0.0484\n",
            "\n",
            "Epoch 00006: val_accuracy did not improve from 0.05078\n",
            "Epoch 7/15\n",
            "33/33 [==============================] - 8s 239ms/step - loss: 0.9513 - accuracy: 0.6984 - val_loss: 12.8506 - val_accuracy: 0.0551\n",
            "\n",
            "Epoch 00007: val_accuracy improved from 0.05078 to 0.05505, saving model to best_model_cnn.h5\n",
            "Epoch 8/15\n",
            "33/33 [==============================] - 8s 236ms/step - loss: 0.8180 - accuracy: 0.7485 - val_loss: 13.4234 - val_accuracy: 0.0626\n",
            "\n",
            "Epoch 00008: val_accuracy improved from 0.05505 to 0.06265, saving model to best_model_cnn.h5\n",
            "Epoch 9/15\n",
            "33/33 [==============================] - 8s 237ms/step - loss: 0.7046 - accuracy: 0.7894 - val_loss: 14.1957 - val_accuracy: 0.0565\n",
            "\n",
            "Epoch 00009: val_accuracy did not improve from 0.06265\n",
            "Epoch 10/15\n",
            "33/33 [==============================] - 8s 237ms/step - loss: 0.5943 - accuracy: 0.8348 - val_loss: 14.7704 - val_accuracy: 0.0541\n",
            "\n",
            "Epoch 00010: val_accuracy did not improve from 0.06265\n",
            "Epoch 11/15\n",
            "33/33 [==============================] - 8s 237ms/step - loss: 0.4928 - accuracy: 0.8652 - val_loss: 15.7313 - val_accuracy: 0.0465\n",
            "\n",
            "Epoch 00011: val_accuracy did not improve from 0.06265\n",
            "Epoch 12/15\n",
            "33/33 [==============================] - 8s 240ms/step - loss: 0.4118 - accuracy: 0.8932 - val_loss: 16.2684 - val_accuracy: 0.0612\n",
            "\n",
            "Epoch 00012: val_accuracy did not improve from 0.06265\n",
            "Epoch 13/15\n",
            "33/33 [==============================] - 8s 235ms/step - loss: 0.3375 - accuracy: 0.9224 - val_loss: 17.0741 - val_accuracy: 0.0513\n",
            "\n",
            "Epoch 00013: val_accuracy did not improve from 0.06265\n",
            "Epoch 14/15\n",
            "33/33 [==============================] - 8s 238ms/step - loss: 0.2786 - accuracy: 0.9391 - val_loss: 17.7822 - val_accuracy: 0.0546\n",
            "\n",
            "Epoch 00014: val_accuracy did not improve from 0.06265\n",
            "Epoch 15/15\n",
            "33/33 [==============================] - 8s 237ms/step - loss: 0.2263 - accuracy: 0.9531 - val_loss: 18.3599 - val_accuracy: 0.0460\n",
            "\n",
            "Epoch 00015: val_accuracy did not improve from 0.06265\n"
          ]
        }
      ]
    },
    {
      "cell_type": "code",
      "metadata": {
        "id": "GzV8L44w-J-O"
      },
      "source": [
        "import matplotlib.pyplot as plt"
      ],
      "execution_count": 40,
      "outputs": []
    },
    {
      "cell_type": "code",
      "metadata": {
        "colab": {
          "base_uri": "https://localhost:8080/",
          "height": 283
        },
        "id": "7AJZ-ekA-RVZ",
        "outputId": "2e403993-afa4-4fdb-d892-4e56cbbdb54c"
      },
      "source": [
        "plt.plot(history_cnn.history['accuracy'], \n",
        "         label='train accuracy')\n",
        "plt.plot(history_cnn.history['val_accuracy'], \n",
        "         label='test accuracy')\n",
        "plt.plot(upd_history_cnn.history['accuracy'], \n",
        "         label='upd train accuracy')\n",
        "plt.plot(upd_history_cnn.history['val_accuracy'], \n",
        "         label='upd test accuracy')\n",
        "plt.xlabel('epoch')\n",
        "plt.ylabel('accuracy')\n",
        "plt.rcParams[\"figure.figsize\"] = (20,10)\n",
        "plt.legend()\n",
        "plt.show()"
      ],
      "execution_count": 41,
      "outputs": [
        {
          "output_type": "display_data",
          "data": {
            "image/png": "[encoded data removed]",
            "text/plain": [
              "<Figure size 432x288 with 1 Axes>"
            ]
          },
          "metadata": {
            "needs_background": "light"
          }
        }
      ]
    },
    {
      "cell_type": "code",
      "metadata": {
        "id": "yvM-Xw3x-UqZ"
      },
      "source": [
        "model_lstm = Sequential()\n",
        "model_lstm.add(Embedding(num_words, 32, input_length=max_text_len))\n",
        "model_lstm.add(LSTM(169))\n",
        "model_lstm.add(Dense(13, activation='softmax'))"
      ],
      "execution_count": 42,
      "outputs": []
    },
    {
      "cell_type": "code",
      "metadata": {
        "id": "WH34Zihn-arb"
      },
      "source": [
        "model_lstm.compile(optimizer='adam', \n",
        "              loss='categorical_crossentropy', \n",
        "              metrics=['accuracy'])"
      ],
      "execution_count": 43,
      "outputs": []
    },
    {
      "cell_type": "code",
      "metadata": {
        "colab": {
          "base_uri": "https://localhost:8080/"
        },
        "id": "RUVtD_Pk-g45",
        "outputId": "ca5b6357-0b4f-4f0a-ea1b-b315ce3c0982"
      },
      "source": [
        "model_lstm.summary()"
      ],
      "execution_count": 44,
      "outputs": [
        {
          "output_type": "stream",
          "name": "stdout",
          "text": [
            "Model: \"sequential_1\"\n",
            "_________________________________________________________________\n",
            "Layer (type)                 Output Shape              Param #   \n",
            "=================================================================\n",
            "embedding_1 (Embedding)      (None, 100, 32)           160000    \n",
            "_________________________________________________________________\n",
            "lstm (LSTM)                  (None, 169)               136552    \n",
            "_________________________________________________________________\n",
            "dense_2 (Dense)              (None, 13)                2210      \n",
            "=================================================================\n",
            "Total params: 298,762\n",
            "Trainable params: 298,762\n",
            "Non-trainable params: 0\n",
            "_________________________________________________________________\n"
          ]
        }
      ]
    },
    {
      "cell_type": "code",
      "metadata": {
        "id": "uzELCoLF-lia"
      },
      "source": [
        "model_lstm_save_path = 'best_model_lstm.h5'\n",
        "checkpoint_callback_lstm = ModelCheckpoint(model_lstm_save_path, \n",
        "                                      monitor='val_accuracy',\n",
        "                                      save_best_only=True,\n",
        "                                      verbose=1)\n",
        "upd_model_lstm_save_path = 'upd_best_model_lstm.h5'\n",
        "upd_checkpoint_callback_lstm = ModelCheckpoint(upd_model_lstm_save_path, \n",
        "                                      monitor='val_accuracy',\n",
        "                                      save_best_only=True,\n",
        "                                      verbose=1)"
      ],
      "execution_count": 45,
      "outputs": []
    },
    {
      "cell_type": "code",
      "metadata": {
        "colab": {
          "base_uri": "https://localhost:8080/"
        },
        "id": "9utRAIgN-uep",
        "outputId": "40768d95-b933-419e-f253-2c140ebb8bdb"
      },
      "source": [
        "history_lstm = model_lstm.fit(x_train, \n",
        "                              y_train, \n",
        "                              epochs=15,\n",
        "                              batch_size=256,\n",
        "                              validation_split=0.2,\n",
        "                              callbacks=[checkpoint_callback_lstm])"
      ],
      "execution_count": 46,
      "outputs": [
        {
          "output_type": "stream",
          "name": "stdout",
          "text": [
            "Epoch 1/15\n",
            "33/33 [==============================] - 28s 788ms/step - loss: 2.4434 - accuracy: 0.0923 - val_loss: 5.9982 - val_accuracy: 0.0000e+00\n",
            "\n",
            "Epoch 00001: val_accuracy improved from -inf to 0.00000, saving model to best_model_lstm.h5\n",
            "Epoch 2/15\n",
            "33/33 [==============================] - 26s 800ms/step - loss: 2.3833 - accuracy: 0.0998 - val_loss: 6.1496 - val_accuracy: 0.0000e+00\n",
            "\n",
            "Epoch 00002: val_accuracy did not improve from 0.00000\n",
            "Epoch 3/15\n",
            "33/33 [==============================] - 26s 800ms/step - loss: 2.3603 - accuracy: 0.1364 - val_loss: 5.6331 - val_accuracy: 0.0000e+00\n",
            "\n",
            "Epoch 00003: val_accuracy did not improve from 0.00000\n",
            "Epoch 4/15\n",
            "33/33 [==============================] - 27s 806ms/step - loss: 2.2261 - accuracy: 0.2084 - val_loss: 5.4185 - val_accuracy: 0.0000e+00\n",
            "\n",
            "Epoch 00004: val_accuracy did not improve from 0.00000\n",
            "Epoch 5/15\n",
            "33/33 [==============================] - 26s 796ms/step - loss: 2.0591 - accuracy: 0.2777 - val_loss: 4.8509 - val_accuracy: 0.0000e+00\n",
            "\n",
            "Epoch 00005: val_accuracy did not improve from 0.00000\n",
            "Epoch 6/15\n",
            "33/33 [==============================] - 26s 800ms/step - loss: 1.8681 - accuracy: 0.3434 - val_loss: 6.1176 - val_accuracy: 0.0000e+00\n",
            "\n",
            "Epoch 00006: val_accuracy did not improve from 0.00000\n",
            "Epoch 7/15\n",
            "33/33 [==============================] - 27s 825ms/step - loss: 1.7139 - accuracy: 0.4059 - val_loss: 6.4582 - val_accuracy: 0.0000e+00\n",
            "\n",
            "Epoch 00007: val_accuracy did not improve from 0.00000\n",
            "Epoch 8/15\n",
            "33/33 [==============================] - 27s 818ms/step - loss: 1.5857 - accuracy: 0.4582 - val_loss: 5.9866 - val_accuracy: 4.7461e-04\n",
            "\n",
            "Epoch 00008: val_accuracy improved from 0.00000 to 0.00047, saving model to best_model_lstm.h5\n",
            "Epoch 9/15\n",
            "33/33 [==============================] - 27s 810ms/step - loss: 1.4500 - accuracy: 0.5054 - val_loss: 6.1760 - val_accuracy: 0.0214\n",
            "\n",
            "Epoch 00009: val_accuracy improved from 0.00047 to 0.02136, saving model to best_model_lstm.h5\n",
            "Epoch 10/15\n",
            "33/33 [==============================] - 26s 780ms/step - loss: 1.3125 - accuracy: 0.5639 - val_loss: 6.2826 - val_accuracy: 0.0100\n",
            "\n",
            "Epoch 00010: val_accuracy did not improve from 0.02136\n",
            "Epoch 11/15\n",
            "33/33 [==============================] - 27s 810ms/step - loss: 1.1680 - accuracy: 0.6104 - val_loss: 6.5721 - val_accuracy: 0.0242\n",
            "\n",
            "Epoch 00011: val_accuracy improved from 0.02136 to 0.02421, saving model to best_model_lstm.h5\n",
            "Epoch 12/15\n",
            "33/33 [==============================] - 25s 758ms/step - loss: 1.0526 - accuracy: 0.6507 - val_loss: 6.1849 - val_accuracy: 0.0252\n",
            "\n",
            "Epoch 00012: val_accuracy improved from 0.02421 to 0.02515, saving model to best_model_lstm.h5\n",
            "Epoch 13/15\n",
            "33/33 [==============================] - 26s 798ms/step - loss: 0.9519 - accuracy: 0.6929 - val_loss: 6.7269 - val_accuracy: 0.0522\n",
            "\n",
            "Epoch 00013: val_accuracy improved from 0.02515 to 0.05221, saving model to best_model_lstm.h5\n",
            "Epoch 14/15\n",
            "33/33 [==============================] - 27s 825ms/step - loss: 0.8366 - accuracy: 0.7351 - val_loss: 7.1605 - val_accuracy: 0.0475\n",
            "\n",
            "Epoch 00014: val_accuracy did not improve from 0.05221\n",
            "Epoch 15/15\n",
            "33/33 [==============================] - 28s 834ms/step - loss: 0.7941 - accuracy: 0.7524 - val_loss: 7.0345 - val_accuracy: 0.0256\n",
            "\n",
            "Epoch 00015: val_accuracy did not improve from 0.05221\n"
          ]
        }
      ]
    },
    {
      "cell_type": "code",
      "metadata": {
        "colab": {
          "base_uri": "https://localhost:8080/"
        },
        "id": "KqosYgBC-xYR",
        "outputId": "583284a7-832e-41fc-e82e-7b523c510157"
      },
      "source": [
        "upd_history_lstm = model_lstm.fit(upd_x_train, \n",
        "                              y_train, \n",
        "                              epochs=15,\n",
        "                              batch_size=256,\n",
        "                              validation_split=0.2,\n",
        "                              callbacks=[upd_checkpoint_callback_lstm])"
      ],
      "execution_count": 47,
      "outputs": [
        {
          "output_type": "stream",
          "name": "stdout",
          "text": [
            "Epoch 1/15\n",
            "33/33 [==============================] - 27s 826ms/step - loss: 2.7266 - accuracy: 0.1132 - val_loss: 3.4688 - val_accuracy: 0.0000e+00\n",
            "\n",
            "Epoch 00001: val_accuracy improved from -inf to 0.00000, saving model to upd_best_model_lstm.h5\n",
            "Epoch 2/15\n",
            "33/33 [==============================] - 25s 768ms/step - loss: 2.3697 - accuracy: 0.1655 - val_loss: 4.7878 - val_accuracy: 0.0000e+00\n",
            "\n",
            "Epoch 00002: val_accuracy did not improve from 0.00000\n",
            "Epoch 3/15\n",
            "33/33 [==============================] - 26s 800ms/step - loss: 2.2327 - accuracy: 0.2199 - val_loss: 6.1175 - val_accuracy: 9.4922e-04\n",
            "\n",
            "Epoch 00003: val_accuracy improved from 0.00000 to 0.00095, saving model to upd_best_model_lstm.h5\n",
            "Epoch 4/15\n",
            "33/33 [==============================] - 27s 833ms/step - loss: 2.0414 - accuracy: 0.2961 - val_loss: 6.1713 - val_accuracy: 0.0233\n",
            "\n",
            "Epoch 00004: val_accuracy improved from 0.00095 to 0.02326, saving model to upd_best_model_lstm.h5\n",
            "Epoch 5/15\n",
            "33/33 [==============================] - 27s 814ms/step - loss: 1.8117 - accuracy: 0.3835 - val_loss: 5.9465 - val_accuracy: 0.0095\n",
            "\n",
            "Epoch 00005: val_accuracy did not improve from 0.02326\n",
            "Epoch 6/15\n",
            "33/33 [==============================] - 27s 810ms/step - loss: 1.5917 - accuracy: 0.4598 - val_loss: 6.1855 - val_accuracy: 0.0327\n",
            "\n",
            "Epoch 00006: val_accuracy improved from 0.02326 to 0.03275, saving model to upd_best_model_lstm.h5\n",
            "Epoch 7/15\n",
            "33/33 [==============================] - 28s 840ms/step - loss: 1.4247 - accuracy: 0.5250 - val_loss: 6.1692 - val_accuracy: 0.0266\n",
            "\n",
            "Epoch 00007: val_accuracy did not improve from 0.03275\n",
            "Epoch 8/15\n",
            "33/33 [==============================] - 27s 830ms/step - loss: 1.2842 - accuracy: 0.5745 - val_loss: 6.2655 - val_accuracy: 0.0513\n",
            "\n",
            "Epoch 00008: val_accuracy improved from 0.03275 to 0.05126, saving model to upd_best_model_lstm.h5\n",
            "Epoch 9/15\n",
            "33/33 [==============================] - 26s 791ms/step - loss: 1.1358 - accuracy: 0.6313 - val_loss: 6.7205 - val_accuracy: 0.1030\n",
            "\n",
            "Epoch 00009: val_accuracy improved from 0.05126 to 0.10299, saving model to upd_best_model_lstm.h5\n",
            "Epoch 10/15\n",
            "33/33 [==============================] - 26s 795ms/step - loss: 1.0072 - accuracy: 0.6753 - val_loss: 7.1926 - val_accuracy: 0.0408\n",
            "\n",
            "Epoch 00010: val_accuracy did not improve from 0.10299\n",
            "Epoch 11/15\n",
            "33/33 [==============================] - 25s 772ms/step - loss: 0.9142 - accuracy: 0.7074 - val_loss: 6.9644 - val_accuracy: 0.0745\n",
            "\n",
            "Epoch 00011: val_accuracy did not improve from 0.10299\n",
            "Epoch 12/15\n",
            "33/33 [==============================] - 26s 789ms/step - loss: 0.8312 - accuracy: 0.7416 - val_loss: 7.0293 - val_accuracy: 0.0650\n",
            "\n",
            "Epoch 00012: val_accuracy did not improve from 0.10299\n",
            "Epoch 13/15\n",
            "33/33 [==============================] - 27s 805ms/step - loss: 0.7258 - accuracy: 0.7740 - val_loss: 7.7235 - val_accuracy: 0.0574\n",
            "\n",
            "Epoch 00013: val_accuracy did not improve from 0.10299\n",
            "Epoch 14/15\n",
            "33/33 [==============================] - 26s 787ms/step - loss: 0.6276 - accuracy: 0.8089 - val_loss: 8.1052 - val_accuracy: 0.0617\n",
            "\n",
            "Epoch 00014: val_accuracy did not improve from 0.10299\n",
            "Epoch 15/15\n",
            "33/33 [==============================] - 26s 793ms/step - loss: 0.5556 - accuracy: 0.8311 - val_loss: 8.0015 - val_accuracy: 0.0769\n",
            "\n",
            "Epoch 00015: val_accuracy did not improve from 0.10299\n"
          ]
        }
      ]
    },
    {
      "cell_type": "code",
      "metadata": {
        "colab": {
          "base_uri": "https://localhost:8080/",
          "height": 606
        },
        "id": "a-AGfS6g-016",
        "outputId": "abb150c9-69d8-47a2-8c5f-17f71f4618a9"
      },
      "source": [
        "plt.plot(history_lstm.history['accuracy'], \n",
        "         label='train accuracy')\n",
        "plt.plot(history_lstm.history['val_accuracy'], \n",
        "         label='test accuracy')\n",
        "plt.plot(upd_history_lstm.history['accuracy'], \n",
        "         label='upd train accuracy')\n",
        "plt.plot(upd_history_lstm.history['val_accuracy'], \n",
        "         label='upd test accuracy')\n",
        "plt.xlabel('epoch')\n",
        "plt.ylabel('accuracy')\n",
        "plt.rcParams[\"figure.figsize\"] = (20,10)\n",
        "plt.legend()\n",
        "plt.show()"
      ],
      "execution_count": 48,
      "outputs": [
        {
          "output_type": "display_data",
          "data": {
            "image/png": "[encoded data removed]",
            "text/plain": [
              "<Figure size 1440x720 with 1 Axes>"
            ]
          },
          "metadata": {
            "needs_background": "light"
          }
        }
      ]
    },
    {
      "cell_type": "code",
      "metadata": {
        "id": "YjR_EIRS-5Gh"
      },
      "source": [
        "model_gru = Sequential()\n",
        "model_gru.add(Embedding(num_words, 32, input_length=max_text_len))\n",
        "model_gru.add(GRU(169))\n",
        "model_gru.add(Dense(13, activation='softmax'))"
      ],
      "execution_count": 49,
      "outputs": []
    },
    {
      "cell_type": "code",
      "metadata": {
        "id": "kB-wufox-77S"
      },
      "source": [
        "model_gru.compile(optimizer='adam', \n",
        "              loss='categorical_crossentropy', \n",
        "              metrics=['accuracy'])"
      ],
      "execution_count": 50,
      "outputs": []
    },
    {
      "cell_type": "code",
      "metadata": {
        "colab": {
          "base_uri": "https://localhost:8080/"
        },
        "id": "7KmQ6JoI-9s6",
        "outputId": "46a74dfc-fe3b-4aaa-c666-a7acb86a7159"
      },
      "source": [
        "model_gru.summary()"
      ],
      "execution_count": 51,
      "outputs": [
        {
          "output_type": "stream",
          "name": "stdout",
          "text": [
            "Model: \"sequential_2\"\n",
            "_________________________________________________________________\n",
            "Layer (type)                 Output Shape              Param #   \n",
            "=================================================================\n",
            "embedding_2 (Embedding)      (None, 100, 32)           160000    \n",
            "_________________________________________________________________\n",
            "gru (GRU)                    (None, 169)               102921    \n",
            "_________________________________________________________________\n",
            "dense_3 (Dense)              (None, 13)                2210      \n",
            "=================================================================\n",
            "Total params: 265,131\n",
            "Trainable params: 265,131\n",
            "Non-trainable params: 0\n",
            "_________________________________________________________________\n"
          ]
        }
      ]
    },
    {
      "cell_type": "code",
      "metadata": {
        "id": "GiUogDyi-_wi"
      },
      "source": [
        "model_gru_save_path = 'best_model_gru.h5'\n",
        "checkpoint_callback_gru = ModelCheckpoint(model_gru_save_path, \n",
        "                                      monitor='val_accuracy',\n",
        "                                      save_best_only=True,\n",
        "                                      verbose=1)\n",
        "upd_model_gru_save_path = 'upd_best_model_gru.h5'\n",
        "upd_checkpoint_callback_gru = ModelCheckpoint(upd_model_gru_save_path, \n",
        "                                      monitor='val_accuracy',\n",
        "                                      save_best_only=True,\n",
        "                                      verbose=1)"
      ],
      "execution_count": 52,
      "outputs": []
    },
    {
      "cell_type": "code",
      "metadata": {
        "colab": {
          "base_uri": "https://localhost:8080/"
        },
        "id": "5xlYHHMw_DaR",
        "outputId": "f8c0a949-8dc3-4d61-eac8-baf5b92e9b3f"
      },
      "source": [
        "upd_history_gru = model_gru.fit(upd_x_train, \n",
        "                              y_train, \n",
        "                              epochs=15,\n",
        "                              batch_size=256,\n",
        "                              validation_split=0.2,\n",
        "                              callbacks=[upd_checkpoint_callback_gru])"
      ],
      "execution_count": 53,
      "outputs": [
        {
          "output_type": "stream",
          "name": "stdout",
          "text": [
            "Epoch 1/15\n",
            "33/33 [==============================] - 23s 630ms/step - loss: 2.4560 - accuracy: 0.0966 - val_loss: 5.0068 - val_accuracy: 0.0000e+00\n",
            "\n",
            "Epoch 00001: val_accuracy improved from -inf to 0.00000, saving model to upd_best_model_gru.h5\n",
            "Epoch 2/15\n",
            "33/33 [==============================] - 20s 609ms/step - loss: 2.3721 - accuracy: 0.1187 - val_loss: 5.5858 - val_accuracy: 0.0000e+00\n",
            "\n",
            "Epoch 00002: val_accuracy did not improve from 0.00000\n",
            "Epoch 3/15\n",
            "33/33 [==============================] - 20s 612ms/step - loss: 2.3276 - accuracy: 0.1788 - val_loss: 5.5098 - val_accuracy: 0.0000e+00\n",
            "\n",
            "Epoch 00003: val_accuracy did not improve from 0.00000\n",
            "Epoch 4/15\n",
            "33/33 [==============================] - 20s 619ms/step - loss: 2.1642 - accuracy: 0.2783 - val_loss: 5.5366 - val_accuracy: 0.0000e+00\n",
            "\n",
            "Epoch 00004: val_accuracy did not improve from 0.00000\n",
            "Epoch 5/15\n",
            "33/33 [==============================] - 20s 613ms/step - loss: 1.9561 - accuracy: 0.3520 - val_loss: 6.1036 - val_accuracy: 0.0000e+00\n",
            "\n",
            "Epoch 00005: val_accuracy did not improve from 0.00000\n",
            "Epoch 6/15\n",
            "33/33 [==============================] - 20s 621ms/step - loss: 1.7312 - accuracy: 0.4252 - val_loss: 7.1669 - val_accuracy: 0.0014\n",
            "\n",
            "Epoch 00006: val_accuracy improved from 0.00000 to 0.00142, saving model to upd_best_model_gru.h5\n",
            "Epoch 7/15\n",
            "33/33 [==============================] - 20s 620ms/step - loss: 1.5365 - accuracy: 0.4813 - val_loss: 5.8861 - val_accuracy: 0.0479\n",
            "\n",
            "Epoch 00007: val_accuracy improved from 0.00142 to 0.04794, saving model to upd_best_model_gru.h5\n",
            "Epoch 8/15\n",
            "33/33 [==============================] - 20s 617ms/step - loss: 1.3818 - accuracy: 0.5320 - val_loss: 6.4608 - val_accuracy: 0.0119\n",
            "\n",
            "Epoch 00008: val_accuracy did not improve from 0.04794\n",
            "Epoch 9/15\n",
            "33/33 [==============================] - 20s 618ms/step - loss: 1.2119 - accuracy: 0.5969 - val_loss: 7.3327 - val_accuracy: 0.0427\n",
            "\n",
            "Epoch 00009: val_accuracy did not improve from 0.04794\n",
            "Epoch 10/15\n",
            "33/33 [==============================] - 20s 611ms/step - loss: 1.0775 - accuracy: 0.6446 - val_loss: 7.3602 - val_accuracy: 0.0176\n",
            "\n",
            "Epoch 00010: val_accuracy did not improve from 0.04794\n",
            "Epoch 11/15\n",
            "33/33 [==============================] - 20s 607ms/step - loss: 0.9585 - accuracy: 0.6827 - val_loss: 6.7628 - val_accuracy: 0.0812\n",
            "\n",
            "Epoch 00011: val_accuracy improved from 0.04794 to 0.08116, saving model to upd_best_model_gru.h5\n",
            "Epoch 12/15\n",
            "33/33 [==============================] - 20s 611ms/step - loss: 0.8505 - accuracy: 0.7227 - val_loss: 7.5573 - val_accuracy: 0.0622\n",
            "\n",
            "Epoch 00012: val_accuracy did not improve from 0.08116\n",
            "Epoch 13/15\n",
            "33/33 [==============================] - 20s 615ms/step - loss: 0.7402 - accuracy: 0.7656 - val_loss: 7.9587 - val_accuracy: 0.0593\n",
            "\n",
            "Epoch 00013: val_accuracy did not improve from 0.08116\n",
            "Epoch 14/15\n",
            "33/33 [==============================] - 20s 616ms/step - loss: 0.6440 - accuracy: 0.7989 - val_loss: 8.2237 - val_accuracy: 0.0650\n",
            "\n",
            "Epoch 00014: val_accuracy did not improve from 0.08116\n",
            "Epoch 15/15\n",
            "33/33 [==============================] - 20s 617ms/step - loss: 0.5632 - accuracy: 0.8271 - val_loss: 8.9037 - val_accuracy: 0.0755\n",
            "\n",
            "Epoch 00015: val_accuracy did not improve from 0.08116\n"
          ]
        }
      ]
    },
    {
      "cell_type": "code",
      "metadata": {
        "colab": {
          "base_uri": "https://localhost:8080/"
        },
        "id": "vzfEnPPF_FaJ",
        "outputId": "fca324a0-0738-4ec4-be61-d9bb0b09cefa"
      },
      "source": [
        "history_gru = model_gru.fit(x_train, \n",
        "                              y_train, \n",
        "                              epochs=15,\n",
        "                              batch_size=256,\n",
        "                              validation_split=0.2,\n",
        "                              callbacks=[checkpoint_callback_gru])"
      ],
      "execution_count": 54,
      "outputs": [
        {
          "output_type": "stream",
          "name": "stdout",
          "text": [
            "Epoch 1/15\n",
            "33/33 [==============================] - 21s 630ms/step - loss: 3.1444 - accuracy: 0.1061 - val_loss: 3.4964 - val_accuracy: 0.0062\n",
            "\n",
            "Epoch 00001: val_accuracy improved from -inf to 0.00617, saving model to best_model_gru.h5\n",
            "Epoch 2/15\n",
            "33/33 [==============================] - 21s 629ms/step - loss: 2.3972 - accuracy: 0.1663 - val_loss: 4.1622 - val_accuracy: 0.0024\n",
            "\n",
            "Epoch 00002: val_accuracy did not improve from 0.00617\n",
            "Epoch 3/15\n",
            "33/33 [==============================] - 21s 626ms/step - loss: 2.2397 - accuracy: 0.2140 - val_loss: 4.7392 - val_accuracy: 0.0024\n",
            "\n",
            "Epoch 00003: val_accuracy did not improve from 0.00617\n",
            "Epoch 4/15\n",
            "33/33 [==============================] - 21s 624ms/step - loss: 2.1252 - accuracy: 0.2584 - val_loss: 5.2560 - val_accuracy: 0.0024\n",
            "\n",
            "Epoch 00004: val_accuracy did not improve from 0.00617\n",
            "Epoch 5/15\n",
            "33/33 [==============================] - 21s 628ms/step - loss: 2.0082 - accuracy: 0.3082 - val_loss: 5.8230 - val_accuracy: 0.0066\n",
            "\n",
            "Epoch 00005: val_accuracy improved from 0.00617 to 0.00664, saving model to best_model_gru.h5\n",
            "Epoch 6/15\n",
            "33/33 [==============================] - 21s 628ms/step - loss: 1.8580 - accuracy: 0.3674 - val_loss: 6.1976 - val_accuracy: 0.0095\n",
            "\n",
            "Epoch 00006: val_accuracy improved from 0.00664 to 0.00949, saving model to best_model_gru.h5\n",
            "Epoch 7/15\n",
            "33/33 [==============================] - 21s 626ms/step - loss: 1.6829 - accuracy: 0.4280 - val_loss: 6.8001 - val_accuracy: 0.0161\n",
            "\n",
            "Epoch 00007: val_accuracy improved from 0.00949 to 0.01614, saving model to best_model_gru.h5\n",
            "Epoch 8/15\n",
            "33/33 [==============================] - 21s 628ms/step - loss: 1.5296 - accuracy: 0.4789 - val_loss: 7.3707 - val_accuracy: 0.0114\n",
            "\n",
            "Epoch 00008: val_accuracy did not improve from 0.01614\n",
            "Epoch 9/15\n",
            "33/33 [==============================] - 21s 625ms/step - loss: 1.3985 - accuracy: 0.5323 - val_loss: 7.3889 - val_accuracy: 0.0062\n",
            "\n",
            "Epoch 00009: val_accuracy did not improve from 0.01614\n",
            "Epoch 10/15\n",
            "33/33 [==============================] - 21s 624ms/step - loss: 1.2600 - accuracy: 0.5821 - val_loss: 7.3524 - val_accuracy: 0.0365\n",
            "\n",
            "Epoch 00010: val_accuracy improved from 0.01614 to 0.03654, saving model to best_model_gru.h5\n",
            "Epoch 11/15\n",
            "33/33 [==============================] - 21s 623ms/step - loss: 1.1270 - accuracy: 0.6293 - val_loss: 7.5166 - val_accuracy: 0.0802\n",
            "\n",
            "Epoch 00011: val_accuracy improved from 0.03654 to 0.08021, saving model to best_model_gru.h5\n",
            "Epoch 12/15\n",
            "33/33 [==============================] - 21s 628ms/step - loss: 1.0123 - accuracy: 0.6736 - val_loss: 8.0731 - val_accuracy: 0.0308\n",
            "\n",
            "Epoch 00012: val_accuracy did not improve from 0.08021\n",
            "Epoch 13/15\n",
            "33/33 [==============================] - 21s 624ms/step - loss: 0.8902 - accuracy: 0.7172 - val_loss: 8.3833 - val_accuracy: 0.0361\n",
            "\n",
            "Epoch 00013: val_accuracy did not improve from 0.08021\n",
            "Epoch 14/15\n",
            "33/33 [==============================] - 21s 626ms/step - loss: 0.8056 - accuracy: 0.7450 - val_loss: 8.2770 - val_accuracy: 0.0351\n",
            "\n",
            "Epoch 00014: val_accuracy did not improve from 0.08021\n",
            "Epoch 15/15\n",
            "33/33 [==============================] - 21s 625ms/step - loss: 0.7108 - accuracy: 0.7740 - val_loss: 8.7347 - val_accuracy: 0.0555\n",
            "\n",
            "Epoch 00015: val_accuracy did not improve from 0.08021\n"
          ]
        }
      ]
    },
    {
      "cell_type": "code",
      "metadata": {
        "colab": {
          "base_uri": "https://localhost:8080/",
          "height": 606
        },
        "id": "DAQxv3xY_KeR",
        "outputId": "10f9a75c-fd71-48ff-ed02-be915e913619"
      },
      "source": [
        "plt.plot(history_gru.history['accuracy'], \n",
        "         label='train accuracy')\n",
        "plt.plot(history_gru.history['val_accuracy'], \n",
        "         label='test accuracy')\n",
        "plt.plot(upd_history_gru.history['accuracy'], \n",
        "         label='upd train accuracy')\n",
        "plt.plot(upd_history_gru.history['val_accuracy'], \n",
        "         label='upd test accuracy')\n",
        "plt.xlabel('epoch')\n",
        "plt.ylabel('accuracy')\n",
        "plt.rcParams[\"figure.figsize\"] = (20,10)\n",
        "plt.legend()\n",
        "plt.show()"
      ],
      "execution_count": 55,
      "outputs": [
        {
          "output_type": "display_data",
          "data": {
            "image/png": "[encoded data removed]",
            "text/plain": [
              "<Figure size 1440x720 with 1 Axes>"
            ]
          },
          "metadata": {
            "needs_background": "light"
          }
        }
      ]
    },
    {
      "cell_type": "code",
      "metadata": {
        "id": "GVQ9bwhnIVlM"
      },
      "source": [
        "y_test = utils.to_categorical(test['THEME'],file_names_size)"
      ],
      "execution_count": 56,
      "outputs": []
    },
    {
      "cell_type": "code",
      "metadata": {
        "id": "vUx1OyUD_NKh"
      },
      "source": [
        "x_test = test['MESSAGE']"
      ],
      "execution_count": 57,
      "outputs": []
    },
    {
      "cell_type": "code",
      "metadata": {
        "id": "-u9nnNYqAtzS"
      },
      "source": [
        "upd_x_test = []\n",
        "\n",
        "for i in x_test:\n",
        "  upd_test = token_and_stem(i)\n",
        "  upd_x_test.append(upd_test)"
      ],
      "execution_count": null,
      "outputs": []
    },
    {
      "cell_type": "code",
      "metadata": {
        "id": "ZQ1KkyVKA83P"
      },
      "source": [
        "tokens = []\n",
        "upd_test = []\n",
        "\n",
        "for x_tr in upd_x_test:\n",
        "  for token in x_tr:\n",
        "    if token not in stopwords:\n",
        "      tokens.append(token)\n",
        "  upd_test.append(tokens)\n",
        "  tokens = []"
      ],
      "execution_count": 59,
      "outputs": []
    },
    {
      "cell_type": "code",
      "metadata": {
        "id": "-BBWfYpyA9Vc"
      },
      "source": [
        "test_sequences = tokenizer.texts_to_sequences(x_test)\n",
        "upd_test_sequences = upd_tokenizer.texts_to_sequences(upd_test)"
      ],
      "execution_count": 60,
      "outputs": []
    },
    {
      "cell_type": "code",
      "metadata": {
        "id": "GYnj0nuwBDdq"
      },
      "source": [
        "x_test = pad_sequences(test_sequences, maxlen=max_text_len)\n",
        "upd_x_test = pad_sequences(upd_test_sequences, maxlen=max_text_len)"
      ],
      "execution_count": 61,
      "outputs": []
    },
    {
      "cell_type": "code",
      "metadata": {
        "colab": {
          "base_uri": "https://localhost:8080/"
        },
        "id": "n3EoR0IpBHw6",
        "outputId": "d87ca225-d907-4118-fc3d-cefa5cb73f59"
      },
      "source": [
        "model_cnn.load_weights(model_cnn_save_path)\n",
        "model_cnn.evaluate(x_test, y_test, verbose=1)"
      ],
      "execution_count": 62,
      "outputs": [
        {
          "output_type": "stream",
          "name": "stdout",
          "text": [
            "83/83 [==============================] - 1s 11ms/step - loss: 4.3783 - accuracy: 0.2949\n"
          ]
        },
        {
          "output_type": "execute_result",
          "data": {
            "text/plain": [
              "[4.3782572746276855, 0.2949203848838806]"
            ]
          },
          "metadata": {},
          "execution_count": 62
        }
      ]
    },
    {
      "cell_type": "code",
      "metadata": {
        "id": "8Zo03F-7TMQz"
      },
      "source": [
        "from sklearn.metrics import classification_report"
      ],
      "execution_count": 63,
      "outputs": []
    },
    {
      "cell_type": "code",
      "metadata": {
        "colab": {
          "base_uri": "https://localhost:8080/"
        },
        "id": "tYJLE3uMWYgd",
        "outputId": "f18603a6-f659-432c-a33b-dba77ed1eab3"
      },
      "source": [
        "pred = model_cnn.predict(x_test, batch_size = 32)\n",
        "pred = np.argmax(pred, axis=1)\n",
        "print(pred[:1000])"
      ],
      "execution_count": 64,
      "outputs": [
        {
          "output_type": "stream",
          "name": "stdout",
          "text": [
            "[ 2  1  0  0  4  6  6  4  2  0  0  0  0  0  9  8  4  3  8  0  3  0  0  0\n",
            "  5  0  2  0  6  4  0  0  0  7  7  4  4  0  5  0  8  9  0  0  0  0  3  4\n",
            "  0  4  4  0  8  0  4  6  0  9  0  2  0  0  0  9  4  0  6  7  1  0  0  8\n",
            "  3  0  0  4  0  0  9  3  0  0  0  2  0  1  7  8  4  9  7  0  9  3  0  9\n",
            "  0  2  0  8  9  0  0  9  0  8  9  0  9  0  0  6  0  5  9  0  4  9  4  4\n",
            "  0  1  0 10  7  2  1  8  0  0  5  9  1  6  4  8  2  4  0  0  0  6  0  9\n",
            "  8  7  4  6  0  2  7  7  1  6  0  9  7  0  0  8  0  0  3  0  9  0  3  0\n",
            "  2  2  0  7  9  1  9  0  0  0  0  0  3  8  7  3  4  6  7  2  5  9  4  9\n",
            "  7  0  8  3  8  4  0  0  2  7  2  4  1  3  1  4  0  9  7  8  2  1  9  4\n",
            "  1  2  5  5  4  4 10  0  1  9  1  3  1  5  1  1  8  4  3 10  4  1  4  4\n",
            "  6  1  4  0  1  9  1  1  3  4  3  6  4  4  8  2  9  1  2  4  3  0  1 10\n",
            "  1  9  2  1  1  3  3  4  5  8  6  2  7  9  0  1  7  5  5  3  1  1  3  5\n",
            "  0  1  6  4  4  4  0  4  4  9  4  4  2  4  3  4  4  7  8  0  1  1  4  1\n",
            "  6  1  4  3  7  4  0  8  0 10  2  8  9  8  8  4  1  1  4  0  2  5  7 10\n",
            "  3  3  9  4  3  3  4  4  4  6  3  1  3  1  1  5  1  3  9  4  9  4 10  1\n",
            "  1 10  4  3  9  1  4  1  8  1  9  4  0  1  1  3  3  1  5  3  8  9  3  3\n",
            "  8  3  9  2  8  3  2  7  3  1  0  1  0  3  3  5  4  3  3  1  3  2  3  2\n",
            "  2  5  2  2  7  2  2  9  5  7  3  0  2  1  2  8  2  9  2  1  8  3  2  2\n",
            "  2  2  3  2  5  0  8  5  6  0  6  1  9  2  5  4  2  3  9  2  9  0  8  1\n",
            "  5  2  2  5  2  2  9  8  6  2  2  4  2  2  0  2  7  1  8  2  6  6  2  2\n",
            "  2  9  4  3  7  2  3  0  5  3  4  9  4  5  5  2  8  9  6  5  9  2  7  2\n",
            "  2  4  5  3  2  0  2  3  6  4  2  2  3  0  9  1  3  0  5  8  2  2  2  5\n",
            "  3  4  8  5  2  4  2  0  2  9  4  2  2 10  2  5  9  2  2  8  0  0  6  0\n",
            "  2  8  2  8  5  2  2  5  2  9  2  2  8  0  2  0  2  2  9  4  3  2  0  5\n",
            "  0  2  9  2  0  5  7  4  0  2  2  2  6  2  8  3  4  2  2  2 10  2  8  2\n",
            "  2  9  3  3  0  6  3  4  6  0  2  3  7  4  2  4  7  0  3  1  1  2  4  2\n",
            "  4  5  1  4  4  5 10  7  6  5  7  4  6  8 10 10  9 10  6  7  4  5  3 10\n",
            "  4  8  0 10  2  8  4  3  2  8  2  0  4  2  1  2  4  5  2 10  4  6  0 10\n",
            " 10  4  9  2  2  3  9  0  2  9  5  9  2  7  9  5  7  6  5  3  1  8  6  1\n",
            "  1 10  5  2  3  5  8  3  9  0  6  3  1  2  1  5  9  6  1  3  8  7  1  7\n",
            "  9  3  7  5  2  4 10  1  0  6  3  9  6  2  3  3  9  1  2  2  5  1  7  0\n",
            "  6  9  9  8  7  9  5  1  9  3  9  9  9  2  4  1  1  2  9  3 10  8  8  5\n",
            "  1  4  1  4  9  2  8  5  9  2  3  5  1  1  5  0  5  0  5  8  9  5  1 10\n",
            "  0  5  5  8  8  4  0  4  4  2  2  6  3  9  0  1  0  9  8  5  4  3 10  9\n",
            "  5  5  7  4  4  9  4  5  4  0  7 10  1  4  4  4  4  3  9  4  5  9  4  4\n",
            "  7  5  8  1  4  5  8  8  4  4  2  6  4  1  4  9  0  3  0  1  5  4  2  3\n",
            "  4  4  7  4  4  1  4  2  4  4  5  5  4  4  4  4  4  1  2  3  0  7  1  8\n",
            "  4  5  4  4  3  4  4 10  4  4  5  4  7  8  4  2  4  9  1  4  4  4  4  8\n",
            "  5  9  4  2  4  4 10  1  0  1  4  1  7  4  4  4  1  4  4  4  3  3  9  4\n",
            "  4  1  4  4  4  5  4  4  3  4  5  4  3  4  7  2  8  3  4  5  9  4  4  4\n",
            "  5  4  4  3 10  4 10  4  3  5  4  4  4  4  4  1  8  7  4  1  4  4  3  4\n",
            "  3  3  4  5  4  8  1  4  1  4  3  1 10  4  2  7]\n"
          ]
        }
      ]
    },
    {
      "cell_type": "code",
      "metadata": {
        "colab": {
          "base_uri": "https://localhost:8080/"
        },
        "id": "q8xVnRiWWdJj",
        "outputId": "63865992-f8fe-4b2d-9cf8-c0cad7793f60"
      },
      "source": [
        "answer_y_test = np.argmax(y_test, axis=1)\n",
        "answer_y_test[:1000]"
      ],
      "execution_count": 65,
      "outputs": [
        {
          "output_type": "execute_result",
          "data": {
            "text/plain": [
              "array([0, 0, 0, 0, 0, 0, 0, 0, 0, 0, 0, 0, 0, 0, 0, 0, 0, 0, 0, 0, 0, 0,\n",
              "       0, 0, 0, 0, 0, 0, 0, 0, 0, 0, 0, 0, 0, 0, 0, 0, 0, 0, 0, 0, 0, 0,\n",
              "       0, 0, 0, 0, 0, 0, 0, 0, 0, 0, 0, 0, 0, 0, 0, 0, 0, 0, 0, 0, 0, 0,\n",
              "       0, 0, 0, 0, 0, 0, 0, 0, 0, 0, 0, 0, 0, 0, 0, 0, 0, 0, 0, 0, 0, 0,\n",
              "       0, 0, 0, 0, 0, 0, 0, 0, 0, 0, 0, 0, 0, 0, 0, 0, 0, 0, 0, 0, 0, 0,\n",
              "       0, 0, 0, 0, 0, 0, 0, 0, 0, 0, 0, 0, 0, 0, 0, 0, 0, 0, 0, 0, 0, 0,\n",
              "       0, 0, 0, 0, 0, 0, 0, 0, 0, 0, 0, 0, 0, 0, 0, 0, 0, 0, 0, 0, 0, 0,\n",
              "       0, 0, 0, 0, 0, 0, 0, 0, 0, 0, 0, 0, 0, 0, 0, 0, 0, 0, 0, 0, 0, 0,\n",
              "       0, 0, 0, 0, 0, 0, 0, 0, 0, 0, 0, 0, 0, 0, 0, 0, 0, 0, 0, 0, 0, 0,\n",
              "       0, 0, 0, 0, 1, 1, 1, 1, 1, 1, 1, 1, 1, 1, 1, 1, 1, 1, 1, 1, 1, 1,\n",
              "       1, 1, 1, 1, 1, 1, 1, 1, 1, 1, 1, 1, 1, 1, 1, 1, 1, 1, 1, 1, 1, 1,\n",
              "       1, 1, 1, 1, 1, 1, 1, 1, 1, 1, 1, 1, 1, 1, 1, 1, 1, 1, 1, 1, 1, 1,\n",
              "       1, 1, 1, 1, 1, 1, 1, 1, 1, 1, 1, 1, 1, 1, 1, 1, 1, 1, 1, 1, 1, 1,\n",
              "       1, 1, 1, 1, 1, 1, 1, 1, 1, 1, 1, 1, 1, 1, 1, 1, 1, 1, 1, 1, 1, 1,\n",
              "       1, 1, 1, 1, 1, 1, 1, 1, 1, 1, 1, 1, 1, 1, 1, 1, 1, 1, 1, 1, 1, 1,\n",
              "       1, 1, 1, 1, 1, 1, 1, 1, 1, 1, 1, 1, 1, 1, 1, 1, 1, 1, 1, 1, 1, 1,\n",
              "       1, 1, 1, 1, 1, 1, 1, 1, 1, 1, 1, 1, 1, 1, 1, 1, 1, 1, 1, 1, 1, 1,\n",
              "       1, 1, 1, 1, 1, 1, 1, 1, 1, 1, 1, 1, 1, 1, 1, 1, 1, 1, 1, 1, 1, 1,\n",
              "       1, 1, 1, 1, 1, 1, 1, 1, 2, 2, 2, 2, 2, 2, 2, 2, 2, 2, 2, 2, 2, 2,\n",
              "       2, 2, 2, 2, 2, 2, 2, 2, 2, 2, 2, 2, 2, 2, 2, 2, 2, 2, 2, 2, 2, 2,\n",
              "       2, 2, 2, 2, 2, 2, 2, 2, 2, 2, 2, 2, 2, 2, 2, 2, 2, 2, 2, 2, 2, 2,\n",
              "       2, 2, 2, 2, 2, 2, 2, 2, 2, 2, 2, 2, 2, 2, 2, 2, 2, 2, 2, 2, 2, 2,\n",
              "       2, 2, 2, 2, 2, 2, 2, 2, 2, 2, 2, 2, 2, 2, 2, 2, 2, 2, 2, 2, 2, 2,\n",
              "       2, 2, 2, 2, 2, 2, 2, 2, 2, 2, 2, 2, 2, 2, 2, 2, 2, 2, 2, 2, 2, 2,\n",
              "       2, 2, 2, 2, 2, 2, 2, 2, 2, 2, 2, 2, 2, 2, 2, 2, 2, 2, 2, 2, 2, 2,\n",
              "       2, 2, 2, 2, 2, 2, 2, 2, 2, 2, 2, 2, 2, 2, 2, 2, 2, 2, 2, 2, 2, 2,\n",
              "       2, 2, 2, 2, 2, 2, 2, 2, 2, 2, 2, 2, 2, 2, 2, 2, 2, 2, 2, 2, 2, 2,\n",
              "       2, 2, 2, 2, 2, 2, 2, 2, 2, 2, 2, 2, 3, 3, 3, 3, 3, 3, 3, 3, 3, 3,\n",
              "       3, 3, 3, 3, 3, 3, 3, 3, 3, 3, 3, 3, 3, 3, 3, 3, 3, 3, 3, 3, 3, 3,\n",
              "       3, 3, 3, 3, 3, 3, 3, 3, 3, 3, 3, 3, 3, 3, 3, 3, 3, 3, 3, 3, 3, 3,\n",
              "       3, 3, 3, 3, 3, 3, 3, 3, 3, 3, 3, 3, 3, 3, 3, 3, 3, 3, 3, 3, 3, 3,\n",
              "       3, 3, 3, 3, 3, 3, 3, 3, 3, 3, 3, 3, 3, 3, 3, 3, 3, 3, 3, 3, 3, 3,\n",
              "       3, 3, 3, 3, 3, 3, 3, 3, 3, 3, 3, 3, 3, 3, 3, 3, 3, 3, 3, 3, 3, 3,\n",
              "       3, 3, 3, 3, 3, 3, 3, 3, 3, 3, 3, 3, 3, 3, 3, 3, 3, 3, 3, 3, 3, 3,\n",
              "       3, 3, 3, 3, 3, 3, 3, 3, 3, 3, 3, 3, 3, 3, 3, 3, 3, 3, 3, 3, 3, 3,\n",
              "       3, 3, 3, 3, 3, 3, 3, 3, 3, 3, 3, 3, 3, 3, 3, 3, 3, 3, 3, 3, 3, 3,\n",
              "       3, 3, 3, 3, 3, 3, 3, 3, 3, 3, 3, 3, 3, 3, 3, 4, 4, 4, 4, 4, 4, 4,\n",
              "       4, 4, 4, 4, 4, 4, 4, 4, 4, 4, 4, 4, 4, 4, 4, 4, 4, 4, 4, 4, 4, 4,\n",
              "       4, 4, 4, 4, 4, 4, 4, 4, 4, 4, 4, 4, 4, 4, 4, 4, 4, 4, 4, 4, 4, 4,\n",
              "       4, 4, 4, 4, 4, 4, 4, 4, 4, 4, 4, 4, 4, 4, 4, 4, 4, 4, 4, 4, 4, 4,\n",
              "       4, 4, 4, 4, 4, 4, 4, 4, 4, 4, 4, 4, 4, 4, 4, 4, 4, 4, 4, 4, 4, 4,\n",
              "       4, 4, 4, 4, 4, 4, 4, 4, 4, 4, 4, 4, 4, 4, 4, 4, 4, 4, 4, 4, 4, 4,\n",
              "       4, 4, 4, 4, 4, 4, 4, 4, 4, 4, 4, 4, 4, 4, 4, 4, 4, 4, 4, 4, 4, 4,\n",
              "       4, 4, 4, 4, 4, 4, 4, 4, 4, 4, 4, 4, 4, 4, 4, 4, 4, 4, 4, 4, 4, 4,\n",
              "       4, 4, 4, 4, 4, 4, 4, 4, 4, 4, 4, 4, 4, 4, 4, 4, 4, 4, 4, 4, 4, 4,\n",
              "       4, 4, 4, 4, 4, 4, 4, 4, 4, 4])"
            ]
          },
          "metadata": {},
          "execution_count": 65
        }
      ]
    },
    {
      "cell_type": "code",
      "metadata": {
        "colab": {
          "base_uri": "https://localhost:8080/"
        },
        "id": "c6hy7IOgWXr3",
        "outputId": "28649138-31e5-450e-dc18-607c0ab5be39"
      },
      "source": [
        "print(answer_y_test.shape, pred.shape)\n",
        "print(answer_y_test[:5], pred[:5])\n",
        "\n",
        "print(classification_report(answer_y_test, pred))"
      ],
      "execution_count": 66,
      "outputs": [
        {
          "output_type": "stream",
          "name": "stdout",
          "text": [
            "(2638,) (2638,)\n",
            "[0 0 0 0 0] [2 1 0 0 4]\n",
            "              precision    recall  f1-score   support\n",
            "\n",
            "           0       0.30      0.39      0.34       202\n",
            "           1       0.22      0.22      0.22       202\n",
            "           2       0.30      0.37      0.33       202\n",
            "           3       0.07      0.09      0.08       201\n",
            "           4       0.30      0.45      0.36       201\n",
            "           5       0.22      0.27      0.24       204\n",
            "           6       0.55      0.61      0.58       205\n",
            "           7       0.41      0.42      0.42       203\n",
            "           8       0.27      0.36      0.31       203\n",
            "           9       0.31      0.40      0.35       205\n",
            "          10       0.38      0.24      0.29       203\n",
            "          11       0.00      0.00      0.00       203\n",
            "          12       0.00      0.00      0.00       204\n",
            "\n",
            "    accuracy                           0.29      2638\n",
            "   macro avg       0.26      0.29      0.27      2638\n",
            "weighted avg       0.26      0.29      0.27      2638\n",
            "\n"
          ]
        },
        {
          "output_type": "stream",
          "name": "stderr",
          "text": [
            "/usr/local/lib/python3.7/dist-packages/sklearn/metrics/_classification.py:1272: UndefinedMetricWarning: Precision and F-score are ill-defined and being set to 0.0 in labels with no predicted samples. Use `zero_division` parameter to control this behavior.\n",
            "  _warn_prf(average, modifier, msg_start, len(result))\n"
          ]
        }
      ]
    },
    {
      "cell_type": "code",
      "metadata": {
        "colab": {
          "base_uri": "https://localhost:8080/"
        },
        "id": "DnaMR8CFBKCK",
        "outputId": "1be0c651-e25a-46c7-ae7d-cf72fcb89f63"
      },
      "source": [
        "model_cnn.load_weights(upd_model_cnn_save_path)\n",
        "model_cnn.evaluate(upd_x_test, y_test, verbose=1)"
      ],
      "execution_count": 67,
      "outputs": [
        {
          "output_type": "stream",
          "name": "stdout",
          "text": [
            "83/83 [==============================] - 1s 11ms/step - loss: 4.4881 - accuracy: 0.3654\n"
          ]
        },
        {
          "output_type": "execute_result",
          "data": {
            "text/plain": [
              "[4.488144874572754, 0.3654283583164215]"
            ]
          },
          "metadata": {},
          "execution_count": 67
        }
      ]
    },
    {
      "cell_type": "code",
      "metadata": {
        "colab": {
          "base_uri": "https://localhost:8080/"
        },
        "id": "E-yRK2StZces",
        "outputId": "8188fcf3-b314-4abc-b2be-d41ae9eab3ae"
      },
      "source": [
        "pred = model_cnn.predict(upd_x_test, batch_size = 32)\n",
        "pred = np.argmax(pred, axis=1)\n",
        "pred[:1000]"
      ],
      "execution_count": 68,
      "outputs": [
        {
          "output_type": "execute_result",
          "data": {
            "text/plain": [
              "array([ 0,  3,  3,  0,  4,  3,  0,  4,  7,  0,  0,  2,  0,  0,  8,  8,  4,\n",
              "        4,  8,  0,  0,  8,  0,  0,  0,  0,  2,  0,  5,  0,  0,  0,  4,  0,\n",
              "        7,  0,  4,  0,  7,  0,  0,  9,  9,  0,  0,  0,  7,  5,  0,  2,  0,\n",
              "        0,  7,  0,  3,  7,  1,  0,  0,  7,  0,  0,  8,  9,  4,  0,  8,  2,\n",
              "        1,  1,  6,  8,  0,  0,  0,  0,  0,  2,  8,  3,  0,  0,  0,  0,  0,\n",
              "        1,  5,  0,  1,  7,  7,  0,  7,  3,  0,  0,  0,  0,  0,  8,  0,  2,\n",
              "        0,  4,  0,  8,  3,  0,  2,  0,  4,  0,  0,  1,  2,  9,  5,  8,  6,\n",
              "        0,  0,  1,  0,  3,  0,  0,  4,  9,  0,  0,  0,  9,  1,  0,  4,  6,\n",
              "        8,  4,  4,  0,  0,  9,  0,  0,  0,  5,  1,  0,  0,  2,  7,  7,  7,\n",
              "        6,  0,  3,  0,  0,  3,  0,  0,  0,  0,  2,  9,  0,  1,  0,  3,  5,\n",
              "        4,  7,  8,  8,  0,  5,  0,  0,  1,  0,  3,  0,  7,  0,  3,  2,  0,\n",
              "        7, 10,  8,  4,  9,  5,  0,  3,  3,  8,  5,  0,  0,  7,  7,  3,  8,\n",
              "        1,  1, 10,  9,  1,  2,  7,  8,  8,  1,  9,  1,  9,  2,  5,  7,  7,\n",
              "        4,  1,  3,  1,  4,  1,  3,  1,  3,  4,  3,  2,  3,  9,  1,  1,  3,\n",
              "        4,  4,  9, 10,  5,  1,  4,  9,  1,  1,  3,  4,  1,  1,  1,  4,  7,\n",
              "        2,  1,  1,  5,  4,  1,  0,  1,  4,  4,  1,  5,  1,  1,  1,  3,  4,\n",
              "        3,  1,  2,  3,  7,  3,  3,  1,  4,  4,  4, 10,  1,  1,  7,  7,  0,\n",
              "        9,  9,  4,  4,  4,  0,  1,  4,  1,  4,  9,  7,  7,  9,  1,  8,  7,\n",
              "        6,  2,  4,  1,  0,  1,  5,  3,  4,  8,  8,  3,  7,  7,  7,  1,  5,\n",
              "        3,  1,  2,  9,  4,  8,  7,  4,  3,  3,  1,  1,  5,  1,  1,  1,  4,\n",
              "        1,  7,  3,  4,  1,  6,  5,  1,  1,  1,  1,  4,  1,  1,  3,  3,  1,\n",
              "        4,  4,  1,  1,  1,  9,  3,  4,  1,  1,  1,  8,  1,  1,  4,  0,  1,\n",
              "        5,  9,  4,  1,  7,  1,  4,  1,  1,  9,  8,  3,  1,  3,  1,  4,  5,\n",
              "        5,  0,  3,  8,  1,  0,  4,  1,  5,  2,  3,  3,  1,  6,  2,  2,  2,\n",
              "        3,  3,  5,  2,  1,  3,  2,  2,  2,  2,  3,  5,  2,  4,  2,  1,  2,\n",
              "        1,  2,  1,  8,  2,  2,  2,  2,  2,  0,  2,  6,  3,  0,  4,  0,  2,\n",
              "        6,  8,  2,  8,  5,  5,  2,  0,  9,  3,  2,  3,  9,  3,  3,  4,  2,\n",
              "        2,  9,  5,  9,  2,  6,  2,  2,  7,  2,  2,  2,  2,  0,  9,  3,  1,\n",
              "        7,  2,  2,  2,  2,  9,  2,  8,  4,  7,  2,  2,  4,  5,  1,  8,  8,\n",
              "        2,  5,  2,  1,  7,  6,  5,  9,  2,  0,  2,  2,  4,  3,  2,  2,  0,\n",
              "        2,  2,  6,  7,  2,  2,  3,  9,  3,  5,  2,  3,  7,  5,  2,  2,  2,\n",
              "        4,  0,  2,  2,  0,  1,  3,  7,  0,  2,  9,  3,  2,  2,  5,  2,  2,\n",
              "        9,  2,  2,  2,  3,  2, 10,  2,  2,  9,  5,  1,  2,  2,  2,  5,  2,\n",
              "        2,  2,  2,  7,  6,  2,  2,  2,  2,  2,  4,  5,  2,  0,  2,  2,  2,\n",
              "        1,  2,  2,  5,  2,  1,  8,  2,  2,  2,  6,  2,  2,  5,  4,  2,  2,\n",
              "        2, 10,  5,  3,  2,  2,  2,  5,  9,  8,  2,  1,  5,  4, 10,  3,  3,\n",
              "        7,  4,  3,  4,  7,  7,  4,  3,  8,  3,  4,  0,  5,  1, 10,  8,  3,\n",
              "        5,  1,  9,  6,  2,  1,  1,  5,  3,  1,  3,  9,  5,  3,  7,  3,  3,\n",
              "        0,  3,  3,  8,  1,  6,  0,  2,  3,  2,  2,  9,  2,  0,  4,  0,  3,\n",
              "        2,  1,  2,  0,  4,  8,  8,  3,  3, 10,  7,  1,  7,  5,  5,  8,  5,\n",
              "        3,  9,  5,  9,  1,  7,  8,  1,  7,  9,  5,  5,  5,  1,  6,  1,  8,\n",
              "       10,  1,  4,  9,  7,  3,  9,  1,  1,  6,  5,  3,  7,  2,  3,  1,  6,\n",
              "        1,  1,  2,  4,  1,  0,  9,  8,  7,  5,  2,  1,  3,  4,  1,  6,  5,\n",
              "        1,  6,  5,  3,  7,  3,  3,  7,  0,  8,  7,  2,  0,  6,  0,  3,  8,\n",
              "        5,  1,  4,  3,  7,  4,  9,  5,  4,  4,  1,  1,  3,  8,  1,  3,  7,\n",
              "        9,  8,  5,  1,  4,  5,  7,  8,  7,  1,  5,  8,  5,  4,  5,  4,  0,\n",
              "        4,  0,  9,  0,  5,  1,  4,  4,  3, 10,  3,  5,  8,  6,  3,  1,  1,\n",
              "        4,  2,  7, 10,  8,  3,  9,  0,  4, 10,  3,  6,  3,  4,  1,  4,  7,\n",
              "        5,  3,  7,  4,  4,  3,  5,  8, 10,  1,  4,  2,  1,  5,  5,  4,  4,\n",
              "        1,  0,  4,  4,  4,  4,  4,  7,  4,  0,  5,  4,  3,  9,  8,  5,  3,\n",
              "       10,  3,  4,  4,  0,  4,  0,  4,  3,  1,  4,  4,  4, 10,  4,  4,  4,\n",
              "        4,  4,  1,  3,  7,  5,  5,  4,  3,  4,  4,  4,  5,  4,  3,  4,  4,\n",
              "        8,  7,  1,  1,  4,  2,  8,  4,  1,  1,  4,  4,  4,  4,  2,  4,  5,\n",
              "        3,  4,  4,  4,  6,  1,  4,  4,  4,  4,  4,  1,  4,  4,  4,  4,  4,\n",
              "        4,  1,  1,  4,  4,  1,  7, 10,  4,  4,  3,  4,  1,  4,  4,  9,  7,\n",
              "        4,  3,  4,  4,  3,  4,  4,  4,  1,  2,  1,  4,  4,  3,  3,  0,  3,\n",
              "        4,  4,  1,  4,  9,  5, 10,  4,  4,  4,  5,  0,  5,  1,  4,  4,  4,\n",
              "        0,  4,  4,  5,  4,  4,  1,  4,  3,  3,  4,  4,  4,  4,  2,  9,  3,\n",
              "        4,  9,  4,  4,  1,  4,  7,  4, 10,  4,  1,  3,  1,  7])"
            ]
          },
          "metadata": {},
          "execution_count": 68
        }
      ]
    },
    {
      "cell_type": "code",
      "metadata": {
        "colab": {
          "base_uri": "https://localhost:8080/"
        },
        "id": "kSutH0OMbl4S",
        "outputId": "780abf90-a7ba-46cf-dca6-86a0c2cdbf4f"
      },
      "source": [
        "print(answer_y_test.shape, pred.shape)\n",
        "print(answer_y_test[:10], pred[:10])\n",
        "\n",
        "print(classification_report(answer_y_test, pred))"
      ],
      "execution_count": 69,
      "outputs": [
        {
          "output_type": "stream",
          "name": "stdout",
          "text": [
            "(2638,) (2638,)\n",
            "[0 0 0 0 0 0 0 0 0 0] [0 3 3 0 4 3 0 4 7 0]\n",
            "              precision    recall  f1-score   support\n",
            "\n",
            "           0       0.47      0.46      0.47       202\n",
            "           1       0.25      0.34      0.29       202\n",
            "           2       0.45      0.48      0.46       202\n",
            "           3       0.14      0.16      0.15       201\n",
            "           4       0.34      0.50      0.40       201\n",
            "           5       0.26      0.47      0.34       204\n",
            "           6       0.59      0.69      0.64       205\n",
            "           7       0.40      0.56      0.47       203\n",
            "           8       0.34      0.40      0.37       203\n",
            "           9       0.44      0.41      0.43       205\n",
            "          10       0.54      0.28      0.37       203\n",
            "          11       0.00      0.00      0.00       203\n",
            "          12       0.00      0.00      0.00       204\n",
            "\n",
            "    accuracy                           0.37      2638\n",
            "   macro avg       0.33      0.37      0.34      2638\n",
            "weighted avg       0.33      0.37      0.34      2638\n",
            "\n"
          ]
        },
        {
          "output_type": "stream",
          "name": "stderr",
          "text": [
            "/usr/local/lib/python3.7/dist-packages/sklearn/metrics/_classification.py:1272: UndefinedMetricWarning: Precision and F-score are ill-defined and being set to 0.0 in labels with no predicted samples. Use `zero_division` parameter to control this behavior.\n",
            "  _warn_prf(average, modifier, msg_start, len(result))\n"
          ]
        }
      ]
    },
    {
      "cell_type": "code",
      "metadata": {
        "colab": {
          "base_uri": "https://localhost:8080/"
        },
        "id": "dconc3RnBMvi",
        "outputId": "f1f2d8bd-04bd-4475-8159-0689dba13920"
      },
      "source": [
        "model_lstm.load_weights(model_lstm_save_path)\n",
        "model_lstm.evaluate(x_test, y_test, verbose=1)"
      ],
      "execution_count": 70,
      "outputs": [
        {
          "output_type": "stream",
          "name": "stdout",
          "text": [
            "83/83 [==============================] - 5s 62ms/step - loss: 3.0718 - accuracy: 0.2889\n"
          ]
        },
        {
          "output_type": "execute_result",
          "data": {
            "text/plain": [
              "[3.0717968940734863, 0.2888551950454712]"
            ]
          },
          "metadata": {},
          "execution_count": 70
        }
      ]
    },
    {
      "cell_type": "code",
      "metadata": {
        "colab": {
          "base_uri": "https://localhost:8080/"
        },
        "id": "P4GsisTPcdcG",
        "outputId": "3d0f1235-2567-43a0-b410-71e7078b4a39"
      },
      "source": [
        "pred = model_lstm.predict(x_test, batch_size = 32)\n",
        "pred = np.argmax(pred, axis=1)\n",
        "pred[:1000]"
      ],
      "execution_count": 71,
      "outputs": [
        {
          "output_type": "execute_result",
          "data": {
            "text/plain": [
              "array([ 0,  1,  3,  8,  4,  7,  9,  4,  2,  0,  0,  0,  0,  0,  0,  8,  5,\n",
              "        3,  8,  0,  4,  6,  7,  9,  5,  0,  7,  7,  8,  4,  2,  0,  3,  0,\n",
              "        2,  7,  3,  0,  0,  0,  0,  0, 10,  0,  0,  6,  9,  4,  0,  4,  0,\n",
              "        3,  0,  0,  2,  6,  3,  8,  5,  7,  0,  1,  9,  9,  4,  0,  3,  5,\n",
              "        3,  0,  7,  0,  0,  0,  0,  1,  2,  0,  0,  0,  0,  0,  0,  1,  8,\n",
              "        7,  3,  4,  7,  5,  3,  2,  7,  9,  0,  9,  0,  0,  0,  8,  8,  7,\n",
              "        0,  1,  0,  0,  0,  0,  0,  9,  8,  8,  0,  5,  7,  7,  5,  9,  1,\n",
              "        8,  0,  4,  0,  5,  0,  7,  5,  8,  0,  8,  3,  8,  5,  6,  1,  2,\n",
              "        6,  3,  5,  3,  0,  8,  0,  0,  0,  3,  1,  0,  0,  1,  7,  2,  2,\n",
              "        9,  0,  9,  0,  0,  0,  3,  3,  0,  7,  2,  8,  8,  3,  5,  2,  7,\n",
              "        0,  7,  9,  1,  9,  0,  0,  0,  0,  0,  7,  9,  7,  2,  3,  3,  7,\n",
              "        8,  4,  9,  7,  0,  5,  0,  1,  3,  0,  5,  5,  8,  2,  0,  8,  9,\n",
              "        8,  4,  4,  9,  9,  3,  2,  4,  6,  8,  9,  1,  4,  7,  3,  5,  3,\n",
              "        1,  1,  0,  5,  4,  1,  5,  1,  5,  4,  4,  0,  3,  1,  4,  4,  1,\n",
              "        3, 10,  6,  3,  4,  0,  1,  9,  1,  9, 10,  0, 10,  5,  1,  4,  0,\n",
              "        4,  9,  1,  3,  4,  1,  0,  9,  8,  1,  9,  2,  1,  1,  5,  2,  3,\n",
              "        1,  4,  7,  4,  5,  3,  1,  1,  0,  4,  4,  5,  7,  4,  5,  3,  7,\n",
              "        1,  8,  4,  4,  5,  2,  4,  3,  4,  4,  1,  2,  4,  1,  8,  1,  0,\n",
              "        8,  8,  3,  1,  4,  5,  4,  1,  4,  9,  0,  6,  7,  8,  5,  8,  3,\n",
              "        6,  1,  5,  9,  4,  1,  3,  4,  5,  1,  5,  5,  5,  4,  9,  8,  5,\n",
              "        1,  7,  4,  4,  5,  8,  5,  3,  7,  1,  1,  4,  5,  1,  1, 10,  1,\n",
              "        5,  1,  2,  1,  1,  4,  3,  7,  1,  4,  1,  0,  1,  3,  4,  0,  1,\n",
              "        2,  4,  1,  1,  1,  1,  4,  1,  4,  9,  8,  3,  4,  3,  9,  3,  5,\n",
              "        5,  6,  7,  8,  3,  0,  3,  8,  5,  4,  1,  3,  1,  0,  4,  7,  2,\n",
              "        6,  5,  7,  2,  3,  5,  2,  8,  1,  2,  1,  8,  2,  3,  7,  0, 10,\n",
              "        3,  2,  4,  0,  4,  7,  7,  2,  2, 10,  2, 10,  8,  9,  4,  6,  9,\n",
              "        2,  1,  0,  0,  5,  4,  2,  5,  0,  3,  8,  5,  2,  5,  4,  7,  2,\n",
              "        2,  7,  5,  9,  8,  2,  2,  2,  5,  2,  2,  8,  2,  3,  8,  0,  2,\n",
              "        7,  0,  5,  2,  2,  8,  5,  3,  5,  7,  0,  0,  3,  4,  3,  0,  1,\n",
              "        2,  5,  7,  9,  9,  6,  2,  3,  2, 10,  3,  2,  3,  3,  3,  2,  8,\n",
              "        2,  0,  6, 10,  2,  2,  1,  9,  3,  5,  5,  7,  2,  3,  2,  5,  2,\n",
              "        4,  2,  8,  0,  5,  1,  1,  7,  3,  2,  9,  3,  7,  2,  1,  2,  5,\n",
              "        0,  2,  2,  1,  5,  6,  6,  7,  2,  7,  7,  9,  3,  2,  7,  5,  2,\n",
              "        9,  3,  7,  6,  9,  5,  7,  2,  2,  2,  3,  7,  2,  9, 10,  2,  2,\n",
              "        9,  2,  7,  7,  2,  4,  0, 10,  2,  2,  6,  2,  0,  5,  0,  7,  2,\n",
              "        2,  2,  5,  1,  2,  7,  9,  5,  2,  8,  8,  5, 10,  3,  0,  5,  7,\n",
              "        7,  3,  5,  9,  7,  7,  3,  8,  0,  2,  4,  7,  5,  5,  5,  4,  4,\n",
              "        2,  9,  3,  2,  1,  5,  4,  5,  7,  5,  4,  8,  3,  8,  3,  3,  5,\n",
              "        4,  2,  1,  8,  0,  2,  0,  3,  3,  7,  2,  3,  7,  0,  3,  0,  7,\n",
              "        8,  3,  3,  1, 10,  4,  6,  7,  5, 10, 10,  8,  0,  5,  5,  7,  3,\n",
              "        3,  0,  5,  9,  4,  5,  9,  3,  3,  3,  4,  3,  5,  1,  8,  8,  0,\n",
              "       10, 10,  5,  9,  3,  3,  8,  3,  3,  5,  7,  1,  2,  1,  0,  1,  3,\n",
              "        9,  1,  8,  3,  2,  3,  8,  0,  7,  5,  5,  1,  5,  1,  8,  3,  3,\n",
              "        1,  6, 10,  5,  0,  7,  1,  5,  7,  5,  5,  7,  1,  3,  7,  1,  8,\n",
              "        2,  9, 10,  5,  2,  4,  9,  5,  1,  0,  3,  2,  2,  5,  4,  4,  3,\n",
              "        8,  3,  5,  4,  3,  7,  5,  4,  5,  9,  5,  2,  5,  4,  2,  8,  4,\n",
              "        1,  0,  0,  0,  4,  9,  3,  3,  3, 10,  7,  3,  3,  8,  1,  3,  7,\n",
              "        4,  3,  2,  7,  6,  3,  9,  0,  5,  3,  8,  8,  4,  1,  1,  5,  1,\n",
              "        5, 10,  3,  4,  4,  1,  4,  0, 10,  0,  6,  5,  4,  3,  4,  4,  4,\n",
              "        5,  5,  4,  4,  4,  4,  4,  7,  5,  3,  4,  1,  3,  6,  6, 10, 10,\n",
              "        3,  8,  4,  4,  5,  4,  5,  3,  4,  2,  4,  4, 10,  5,  4,  4,  3,\n",
              "        4,  4,  4,  4,  6,  3,  5,  4,  5,  4,  4, 10,  5,  4,  2,  7,  2,\n",
              "        3,  0,  5,  1,  4,  4,  1,  4,  5,  4,  5,  3,  4,  4,  2,  4,  4,\n",
              "        1,  4,  4,  4,  3,  1,  1,  4,  4,  4,  4,  4,  9,  3,  7,  1,  4,\n",
              "        1,  4,  5,  8,  5,  4,  7,  5,  3,  4,  1,  4,  4,  4,  4,  6,  4,\n",
              "        4,  1,  5,  4,  4,  4,  1,  4,  3,  3,  4,  3,  4,  1,  4,  3,  4,\n",
              "        9,  4,  1,  5,  1,  8,  1,  5,  4,  4,  1,  1,  5,  1,  4,  3,  1,\n",
              "        3,  1,  4,  4,  7,  4,  2,  4,  5,  4,  4,  4,  4,  3,  4,  1,  5,\n",
              "        2,  4,  4,  1,  4,  0,  1,  9,  5,  4,  0,  4,  9,  2])"
            ]
          },
          "metadata": {},
          "execution_count": 71
        }
      ]
    },
    {
      "cell_type": "code",
      "metadata": {
        "colab": {
          "base_uri": "https://localhost:8080/"
        },
        "id": "2hJO_lU6coHm",
        "outputId": "fafa86b0-bfb1-426c-85e2-edb1f33f459c"
      },
      "source": [
        "print(answer_y_test.shape, pred.shape)\n",
        "print(answer_y_test[:10], pred[:10])\n",
        "\n",
        "print(classification_report(answer_y_test, pred))"
      ],
      "execution_count": 72,
      "outputs": [
        {
          "output_type": "stream",
          "name": "stdout",
          "text": [
            "(2638,) (2638,)\n",
            "[0 0 0 0 0 0 0 0 0 0] [0 1 3 8 4 7 9 4 2 0]\n",
            "              precision    recall  f1-score   support\n",
            "\n",
            "           0       0.33      0.35      0.34       202\n",
            "           1       0.20      0.23      0.21       202\n",
            "           2       0.28      0.29      0.29       202\n",
            "           3       0.13      0.20      0.16       201\n",
            "           4       0.30      0.43      0.36       201\n",
            "           5       0.19      0.32      0.24       204\n",
            "           6       0.66      0.64      0.65       205\n",
            "           7       0.36      0.45      0.40       203\n",
            "           8       0.27      0.32      0.29       203\n",
            "           9       0.31      0.30      0.30       205\n",
            "          10       0.34      0.21      0.26       203\n",
            "          11       0.00      0.00      0.00       203\n",
            "          12       0.00      0.00      0.00       204\n",
            "\n",
            "    accuracy                           0.29      2638\n",
            "   macro avg       0.26      0.29      0.27      2638\n",
            "weighted avg       0.26      0.29      0.27      2638\n",
            "\n"
          ]
        },
        {
          "output_type": "stream",
          "name": "stderr",
          "text": [
            "/usr/local/lib/python3.7/dist-packages/sklearn/metrics/_classification.py:1272: UndefinedMetricWarning: Precision and F-score are ill-defined and being set to 0.0 in labels with no predicted samples. Use `zero_division` parameter to control this behavior.\n",
            "  _warn_prf(average, modifier, msg_start, len(result))\n"
          ]
        }
      ]
    },
    {
      "cell_type": "code",
      "metadata": {
        "colab": {
          "base_uri": "https://localhost:8080/"
        },
        "id": "-OE3UTn0I4qu",
        "outputId": "a1bfac32-af7c-4113-ec72-5fbaec96bfee"
      },
      "source": [
        "model_lstm.load_weights(upd_model_lstm_save_path)\n",
        "model_lstm.evaluate(upd_x_test, y_test, verbose=1)"
      ],
      "execution_count": 73,
      "outputs": [
        {
          "output_type": "stream",
          "name": "stdout",
          "text": [
            "83/83 [==============================] - 5s 62ms/step - loss: 2.8961 - accuracy: 0.3249\n"
          ]
        },
        {
          "output_type": "execute_result",
          "data": {
            "text/plain": [
              "[2.896077871322632, 0.3248673379421234]"
            ]
          },
          "metadata": {},
          "execution_count": 73
        }
      ]
    },
    {
      "cell_type": "code",
      "metadata": {
        "colab": {
          "base_uri": "https://localhost:8080/"
        },
        "id": "KvAzKzF9dYxW",
        "outputId": "f6711856-0027-4ec6-b833-046551c2091d"
      },
      "source": [
        "pred = model_lstm.predict(upd_x_test, batch_size = 32)\n",
        "pred = np.argmax(pred, axis=1)\n",
        "pred[:1000]"
      ],
      "execution_count": 74,
      "outputs": [
        {
          "output_type": "execute_result",
          "data": {
            "text/plain": [
              "array([ 0,  1,  5,  1,  4,  0,  0,  5,  1,  0,  8,  0,  0,  0,  0,  8,  4,\n",
              "        0,  9,  0,  5,  8,  2,  9,  8,  0,  2,  0,  8,  4,  0,  0,  0,  0,\n",
              "        7,  0,  0,  3,  0,  8,  0,  9,  0,  0,  0,  6,  3,  0,  0,  6,  0,\n",
              "        0,  0,  0,  4,  3,  3,  9,  0,  0,  4,  8,  9,  9,  4,  0,  8,  3,\n",
              "        1,  8,  7,  0,  0,  0,  0,  3,  9,  2,  9,  8,  0,  0,  0,  0,  0,\n",
              "        1,  0,  0,  7,  8,  0,  9,  7,  3,  0,  0,  5,  0,  0,  9,  9,  8,\n",
              "        0,  4,  0,  0,  9,  0,  9,  9,  4,  6,  3,  4,  7,  9,  5,  6,  6,\n",
              "        8,  0,  1,  0,  7,  0,  7,  0,  9,  0,  9,  3,  9,  1,  0,  3,  6,\n",
              "        6,  0,  7,  5,  0,  8,  0,  9,  0,  0,  7,  6,  0,  2,  4,  2,  7,\n",
              "        6,  9,  9,  0,  0, 10,  8,  4,  0,  0,  0,  8,  0,  9,  1,  2,  5,\n",
              "        1,  9,  9,  9,  0,  4,  0,  0,  8,  0,  0,  0,  7,  7,  3,  3,  8,\n",
              "        9,  4,  8,  8,  0,  7,  0,  5,  4,  5,  2,  3,  0,  7,  0,  9,  8,\n",
              "        1,  7,  5,  1,  1,  1,  3,  8,  6,  1,  1,  1,  7,  2,  6,  7,  3,\n",
              "        4,  1,  3,  3,  1,  1,  3,  1,  4,  4,  3,  9,  7,  9,  3,  1,  1,\n",
              "        3,  4,  6,  3,  5,  1,  4,  9,  1,  2,  1,  8,  7,  9,  5,  1,  9,\n",
              "        3,  9,  9,  3,  4,  7,  0,  9,  3,  9,  9,  2,  1,  1,  3,  2,  2,\n",
              "        1,  1,  3,  1,  2,  3,  3,  1,  0,  6,  4,  5,  4,  1,  1,  3,  0,\n",
              "        1,  8,  5,  0,  5,  5,  1,  4,  1,  4,  9,  3, 10,  9,  1,  8,  7,\n",
              "        8,  0,  4,  3,  3, 10,  4,  1,  4,  8,  7,  3,  2,  0,  4,  9,  9,\n",
              "        6,  1,  3,  8,  1,  1,  9,  4,  1,  3,  5,  7,  5, 10,  1,  9,  2,\n",
              "        7,  7, 10,  3,  4,  6,  5,  9,  7, 10,  1,  7,  1,  1,  1,  0,  1,\n",
              "        4,  1,  9,  1,  1,  4,  5,  3,  3,  3,  9,  0,  1,  1,  4,  9,  8,\n",
              "        3,  1,  1,  9,  7,  1,  4,  9,  9,  9,  9,  2,  8,  2,  9,  3, 10,\n",
              "        3,  7,  5,  8,  3,  0,  4,  9,  3,  1,  1,  9,  3,  0,  5,  3,  2,\n",
              "        1,  5,  5,  2,  8,  3,  2,  9,  4,  1,  1,  2,  2,  7,  2,  9,  2,\n",
              "        9,  2,  9,  6,  2,  2,  2,  2,  2,  0,  2,  9,  1,  9, 10,  6,  2,\n",
              "        6,  9,  1,  0,  5,  4,  0,  2,  9,  3,  2,  2,  9,  9,  5,  5,  2,\n",
              "        2,  2,  5,  2,  8,  0,  2,  2,  7,  2,  2,  2,  2,  5,  9,  9,  7,\n",
              "        7,  3,  2,  2,  2,  0,  4,  1,  2,  2,  2,  0,  4,  3,  4,  2,  5,\n",
              "        2,  2,  2,  9,  1,  6,  2,  3,  2,  0,  2,  2,  7,  5,  4,  5,  6,\n",
              "        0,  3,  6,  3,  2,  2,  1,  9,  0,  2,  3,  7,  7,  1,  2,  3,  2,\n",
              "        5,  7,  6,  2,  0,  7,  9,  7,  0,  2,  9,  1,  2,  2,  2,  2,  5,\n",
              "        9,  2,  2,  5,  5,  2, 10,  7,  5,  9,  4,  9,  2,  2,  2,  5,  5,\n",
              "        1,  2,  0,  2,  5,  2,  2,  7,  2,  2,  2, 10,  2,  8,  5,  3,  2,\n",
              "        7,  2,  2,  1,  2,  5,  9,  2,  2,  2,  6,  2,  2,  2,  3,  7,  2,\n",
              "        7, 10,  2,  1,  2,  2,  9,  3,  7,  9,  6,  3,  7,  3,  3,  5,  0,\n",
              "        9,  0,  3,  1,  7,  1,  4,  3,  2,  1,  4,  9,  5,  3, 10,  3,  3,\n",
              "        3,  1,  1,  0,  2,  9,  9,  5,  8,  1, 10,  1,  3,  3,  1,  5,  5,\n",
              "        0,  5,  7,  0,  5,  2,  3,  2,  7,  7,  2,  8,  7,  0,  7,  8,  3,\n",
              "        9,  3,  3,  5,  3,  6,  9,  9,  3, 10,  7,  9,  0,  3, 10,  9,  3,\n",
              "        2,  2,  5,  9,  3,  8,  6,  3,  7,  1,  0, 10,  1,  5,  6,  9,  2,\n",
              "        3, 10,  3,  9,  5,  3,  9,  9,  1,  2,  5,  1,  3,  1,  4,  3,  6,\n",
              "        1,  9,  0,  4,  9,  3,  1,  7,  7,  3,  2,  1, 10,  1,  1,  7,  3,\n",
              "        9,  6, 10,  3,  4,  7,  9, 10,  4,  0, 10,  3,  9,  4,  7,  1,  9,\n",
              "        3,  0, 10,  1,  9,  3,  9,  3,  3,  0,  3,  1,  1,  9,  1,  1,  7,\n",
              "        9,  9, 10,  1,  4,  1,  5,  4, 10,  2,  2,  2,  5,  3, 10,  3,  4,\n",
              "        1,  0,  0,  0,  5,  1,  4,  3,  9,  5,  4,  5,  3,  8,  9,  3,  7,\n",
              "        4,  0,  7,  1,  6,  5,  9,  0,  1,  1,  5,  8,  3,  4,  9,  3,  4,\n",
              "        4,  3,  1,  1,  7,  1,  3,  3, 10,  3,  4,  5,  0,  3,  4,  3,  5,\n",
              "        7,  3,  4,  1,  5,  0,  4,  7,  1,  8,  3,  4,  0,  9,  6,  3,  3,\n",
              "        3,  2,  5,  4,  4,  4,  6,  4,  8,  5,  4,  4, 10,  0,  4,  4,  2,\n",
              "        4,  3,  7,  3,  7,  5,  5,  4,  3,  5,  4,  3,  1,  6,  3,  0,  1,\n",
              "        9,  7,  7,  9,  5,  0,  6,  4,  4,  4,  4,  4,  4,  1,  2, 10,  5,\n",
              "        2,  3,  1,  4,  4,  1,  5,  4,  4,  4, 10,  1,  4,  5,  3,  0,  7,\n",
              "        1,  1,  3,  1,  3,  8,  7,  4,  3,  4, 10,  4,  1,  4,  8,  1,  5,\n",
              "        4,  3,  5,  4,  5,  4,  1,  7,  0,  9,  1,  3,  4,  5,  4,  4,  5,\n",
              "        1,  4,  1,  5,  4,  3,  7,  7,  4,  4,  2,  1,  1,  1,  5,  6,  1,\n",
              "        4,  4,  4,  5,  1,  4,  7,  6,  4,  4,  4,  4,  7,  4,  4,  4,  5,\n",
              "        4,  1,  4,  4,  1,  1,  1,  4,  7,  4,  0,  4,  9,  7])"
            ]
          },
          "metadata": {},
          "execution_count": 74
        }
      ]
    },
    {
      "cell_type": "code",
      "metadata": {
        "colab": {
          "base_uri": "https://localhost:8080/"
        },
        "id": "vNobHpbNdhrX",
        "outputId": "9b1947e5-2c0f-4712-b22d-545b09885dba"
      },
      "source": [
        "print(answer_y_test.shape, pred.shape)\n",
        "print(answer_y_test[:10], pred[:10])\n",
        "\n",
        "print(classification_report(answer_y_test, pred))"
      ],
      "execution_count": 75,
      "outputs": [
        {
          "output_type": "stream",
          "name": "stdout",
          "text": [
            "(2638,) (2638,)\n",
            "[0 0 0 0 0 0 0 0 0 0] [0 1 5 1 4 0 0 5 1 0]\n",
            "              precision    recall  f1-score   support\n",
            "\n",
            "           0       0.38      0.40      0.39       202\n",
            "           1       0.21      0.25      0.23       202\n",
            "           2       0.39      0.40      0.39       202\n",
            "           3       0.12      0.20      0.15       201\n",
            "           4       0.34      0.33      0.33       201\n",
            "           5       0.26      0.33      0.29       204\n",
            "           6       0.59      0.67      0.63       205\n",
            "           7       0.37      0.50      0.42       203\n",
            "           8       0.29      0.20      0.23       203\n",
            "           9       0.30      0.48      0.37       205\n",
            "          10       0.43      0.47      0.45       203\n",
            "          11       0.00      0.00      0.00       203\n",
            "          12       0.00      0.00      0.00       204\n",
            "\n",
            "    accuracy                           0.32      2638\n",
            "   macro avg       0.28      0.32      0.30      2638\n",
            "weighted avg       0.28      0.32      0.30      2638\n",
            "\n"
          ]
        },
        {
          "output_type": "stream",
          "name": "stderr",
          "text": [
            "/usr/local/lib/python3.7/dist-packages/sklearn/metrics/_classification.py:1272: UndefinedMetricWarning: Precision and F-score are ill-defined and being set to 0.0 in labels with no predicted samples. Use `zero_division` parameter to control this behavior.\n",
            "  _warn_prf(average, modifier, msg_start, len(result))\n"
          ]
        }
      ]
    },
    {
      "cell_type": "code",
      "metadata": {
        "colab": {
          "base_uri": "https://localhost:8080/"
        },
        "id": "eAE1wvn8JLMl",
        "outputId": "18581402-de53-4788-b712-21473223cd89"
      },
      "source": [
        "model_gru.load_weights(model_gru_save_path)\n",
        "model_gru.evaluate(x_test, y_test, verbose=1)"
      ],
      "execution_count": 76,
      "outputs": [
        {
          "output_type": "stream",
          "name": "stdout",
          "text": [
            "83/83 [==============================] - 3s 35ms/step - loss: 3.5156 - accuracy: 0.2252\n"
          ]
        },
        {
          "output_type": "execute_result",
          "data": {
            "text/plain": [
              "[3.5156054496765137, 0.2251705825328827]"
            ]
          },
          "metadata": {},
          "execution_count": 76
        }
      ]
    },
    {
      "cell_type": "code",
      "metadata": {
        "colab": {
          "base_uri": "https://localhost:8080/"
        },
        "id": "FywZiO5ZdxPX",
        "outputId": "d2e3e136-3bea-4fb7-963d-32017aa3a143"
      },
      "source": [
        "pred = model_gru.predict(x_test, batch_size = 32)\n",
        "pred = np.argmax(pred, axis=1)\n",
        "pred[:1000]"
      ],
      "execution_count": 77,
      "outputs": [
        {
          "output_type": "execute_result",
          "data": {
            "text/plain": [
              "array([ 0,  1,  3,  1,  4,  2,  7,  4,  9,  8,  0,  2,  0,  0,  0,  3,  4,\n",
              "        7,  0,  0,  3,  3,  2,  8,  6,  0,  0,  8,  8, 10,  2,  5,  3,  2,\n",
              "        5,  7,  4,  8,  0,  0,  2,  0,  7,  0,  0,  6,  2,  4,  8, 10,  0,\n",
              "        0,  0,  0,  0,  0,  0,  8,  5,  0,  0,  0,  9,  6,  0,  7,  0,  5,\n",
              "        8,  0,  2,  2,  0,  2,  0,  4, 10,  0,  4,  3,  7,  7,  0,  1,  5,\n",
              "        2,  7,  0,  7,  4,  5,  6,  5,  2,  0,  9,  4,  0,  0,  2,  8,  7,\n",
              "        2,  1,  0,  0,  0,  0,  0,  0,  0,  3,  3,  5,  0,  7,  5,  0,  1,\n",
              "        3, 10,  3,  0,  3,  0,  7,  5,  8,  0,  2, 10,  0,  1,  8,  1,  6,\n",
              "        6,  7,  7,  5,  0,  6,  7,  0,  7,  0,  2,  8,  0,  1,  7,  8,  7,\n",
              "        8,  1,  6,  0,  7,  7,  5, 10,  0,  7,  2,  0,  4,  7,  0,  2,  3,\n",
              "        0,  3,  9,  1,  1,  0,  0,  0,  8,  8,  7,  8,  7,  2,  3,  7,  0,\n",
              "        0,  4,  9,  7,  0,  1, 10,  8,  0,  0,  8,  0,  2,  7,  0,  7,  1,\n",
              "        5,  1,  0,  8,  0,  8,  5,  0,  9,  8,  2,  2,  4,  1,  1,  2,  0,\n",
              "        1,  6,  0,  4,  2,  3,  1,  1, 10,  8,  4,  8,  0,  8,  3,  1,  3,\n",
              "        4, 10,  9,  3,  1,  2,  9,  3,  1,  9,  0,  1,  7,  5,  8,  4,  0,\n",
              "        7,  9,  2,  1,  1,  0,  0,  1,  0,  1,  9,  6,  1,  1,  3,  1,  3,\n",
              "        4,  1,  7,  4,  7,  5,  1,  3,  2,  4,  1, 10,  4,  5,  5,  0,  3,\n",
              "        8,  3,  4,  7,  5,  0,  4,  0,  1,  0,  2,  7,  4,  9,  3,  5,  0,\n",
              "        8,  0,  4,  1,  3, 10,  1,  3,  4,  0,  7,  1,  2,  0,  1,  7,  4,\n",
              "        6,  4,  5,  6,  9,  5,  0,  4,  5,  5,  4,  3, 10,  4,  1,  8,  2,\n",
              "        1,  4,  4,  5,  4,  6,  1,  9,  7,  3,  6,  7,  4,  9,  1,  7,  5,\n",
              "        4,  1,  2,  0,  3,  4,  1,  1,  5,  5,  5,  0,  6,  0,  4,  0,  5,\n",
              "        7,  1,  1,  0,  3,  1,  1,  9,  0,  8,  8,  3,  4,  8,  1,  3,  2,\n",
              "        7,  3,  4,  8,  4,  0,  2,  0,  0,  4,  1,  4,  8,  0,  3,  9,  7,\n",
              "        6,  5,  5,  7,  3,  2,  7,  8,  5,  3,  1,  8,  2,  7,  7,  0,  5,\n",
              "        1,  2,  8,  0, 10,  7,  8,  2,  2,  3,  5, 10,  5,  8,  5,  8,  8,\n",
              "        2,  6,  4,  3,  5, 10,  0,  5,  0,  7,  3,  5,  6,  2,  4,  7,  3,\n",
              "        7,  8, 10,  9,  6,  6,  3,  7,  5,  2,  2,  8,  0,  0,  1,  3,  2,\n",
              "       10,  8, 10,  3,  6,  8,  2,  4,  3,  7,  4,  0,  2,  7,  4,  2,  1,\n",
              "        2,  1,  2,  8,  7,  6,  2,  0,  0,  3,  0,  0,  4,  8,  3,  2,  0,\n",
              "        7,  4,  6,  7,  2,  2,  2,  0,  4,  2,  0,  7,  7,  5,  3,  7,  2,\n",
              "        3,  2,  6,  7,  0,  2,  4,  7,  4,  2,  1,  2,  7,  2,  7,  2,  8,\n",
              "        0,  2,  7,  4,  2,  6,  6,  7,  2,  3,  7,  2,  4,  0,  6,  5,  2,\n",
              "        8,  7,  0,  8,  7,  2,  7,  0,  2,  9,  3,  7,  2,  2,  3,  3,  6,\n",
              "        9,  2,  7,  1,  3,  7,  0,  7,  2,  7,  6,  2,  1,  7,  0, 10,  2,\n",
              "        5,  7,  7,  3,  5,  4,  3,  3,  7,  2,  2,  4,  4,  4,  0,  5,  3,\n",
              "        7,  2,  5,  1,  2,  7,  7,  1,  0,  2,  4, 10,  2, 10,  1,  4,  4,\n",
              "        7,  6,  3,  7,  5,  0, 10,  4,  7,  7, 10,  9,  0,  8,  7,  1,  1,\n",
              "        4,  7,  8,  8,  7,  6,  3,  5,  3,  7,  3,  4,  7,  1,  7,  3,  7,\n",
              "        8,  7,  0,  3,  7,  4,  6,  1,  4, 10,  7,  6,  5,  1,  3,  8,  3,\n",
              "        7,  0,  5,  9,  1,  4,  6,  3,  7,  8,  4,  2,  2,  0,  8,  5,  9,\n",
              "       10, 10,  2,  1,  3,  0,  9,  7,  0,  2,  3,  5,  7,  1,  0,  4,  0,\n",
              "        4,  3,  0,  7,  9,  0,  4,  7,  7,  5,  5,  1, 10,  3,  1,  3,  3,\n",
              "        4,  6,  4,  2,  0,  1,  1,  5,  1,  5,  3,  0,  5,  4,  7,  1,  6,\n",
              "        6,  0, 10,  1,  8,  4,  4,  0,  1,  0,  3,  1,  0,  8,  3,  5,  7,\n",
              "        7,  1,  5,  0,  4,  7,  5,  2,  3,  1,  8,  6,  7,  0,  0,  1,  4,\n",
              "        1,  0,  0,  0,  7,  2,  3,  5,  2, 10,  3,  3,  4,  8,  1,  7,  2,\n",
              "        3,  4,  7,  7,  6,  3,  0,  4,  7,  1,  4,  4,  4,  4,  6,  5,  1,\n",
              "        5,  4, 10,  4,  4,  1,  1,  0,  7,  0,  1,  4,  6,  4,  7,  4,  4,\n",
              "        4,  3,  1,  3,  4,  4,  4,  7,  7,  8,  4,  4,  4,  9,  6, 10,  4,\n",
              "        7,  8,  4,  4,  1,  1,  3,  3,  3,  9,  4,  4,  3,  4,  1,  4,  3,\n",
              "        4,  3,  4,  3,  6,  1, 10,  4,  5,  0,  4,  7,  3,  4,  2,  4,  1,\n",
              "        7,  7,  7,  3,  0,  2,  9,  4,  9,  4,  4,  3,  4,  4,  4,  4,  4,\n",
              "        1,  4,  4,  4,  4,  4,  5,  4,  4,  4,  1,  4,  8,  3,  7,  4,  4,\n",
              "        3,  4,  0,  4,  1,  8,  7,  4,  3,  4,  8,  4,  4,  4,  4,  6, 10,\n",
              "        4,  4,  2, 10,  3,  4,  4,  4,  3,  1,  7,  2,  7,  1,  4,  5,  4,\n",
              "        6,  4,  4,  3,  9,  9,  2,  3, 10,  5,  1,  5, 10,  1,  4,  0,  6,\n",
              "        4,  9,  4,  4,  4,  1,  2,  2,  2,  4,  4,  4,  4, 10,  4,  0,  4,\n",
              "        2,  2,  4,  1,  4,  8,  1,  4,  4,  4,  0,  3,  6,  1])"
            ]
          },
          "metadata": {},
          "execution_count": 77
        }
      ]
    },
    {
      "cell_type": "code",
      "metadata": {
        "colab": {
          "base_uri": "https://localhost:8080/"
        },
        "id": "E3cJWLxUd3HV",
        "outputId": "974bbad9-acd7-4092-b1dd-8ff77b96e4e8"
      },
      "source": [
        "print(answer_y_test.shape, pred.shape)\n",
        "print(answer_y_test[:10], pred[:10])\n",
        "\n",
        "print(classification_report(answer_y_test, pred))"
      ],
      "execution_count": 78,
      "outputs": [
        {
          "output_type": "stream",
          "name": "stdout",
          "text": [
            "(2638,) (2638,)\n",
            "[0 0 0 0 0 0 0 0 0 0] [0 1 3 1 4 2 7 4 9 8]\n",
            "              precision    recall  f1-score   support\n",
            "\n",
            "           0       0.21      0.33      0.26       202\n",
            "           1       0.18      0.19      0.19       202\n",
            "           2       0.22      0.21      0.21       202\n",
            "           3       0.10      0.12      0.11       201\n",
            "           4       0.28      0.43      0.34       201\n",
            "           5       0.15      0.15      0.15       204\n",
            "           6       0.45      0.49      0.47       205\n",
            "           7       0.18      0.32      0.23       203\n",
            "           8       0.22      0.22      0.22       203\n",
            "           9       0.33      0.21      0.26       205\n",
            "          10       0.26      0.25      0.25       203\n",
            "          11       0.00      0.00      0.00       203\n",
            "          12       0.00      0.00      0.00       204\n",
            "\n",
            "    accuracy                           0.23      2638\n",
            "   macro avg       0.20      0.23      0.21      2638\n",
            "weighted avg       0.20      0.23      0.21      2638\n",
            "\n"
          ]
        },
        {
          "output_type": "stream",
          "name": "stderr",
          "text": [
            "/usr/local/lib/python3.7/dist-packages/sklearn/metrics/_classification.py:1272: UndefinedMetricWarning: Precision and F-score are ill-defined and being set to 0.0 in labels with no predicted samples. Use `zero_division` parameter to control this behavior.\n",
            "  _warn_prf(average, modifier, msg_start, len(result))\n"
          ]
        }
      ]
    },
    {
      "cell_type": "code",
      "metadata": {
        "colab": {
          "base_uri": "https://localhost:8080/"
        },
        "id": "dOBjzLS6JOiG",
        "outputId": "f4e9ba29-a45e-45ac-991a-f6c395eb9854"
      },
      "source": [
        "model_gru.load_weights(upd_model_gru_save_path)\n",
        "model_gru.evaluate(upd_x_test, y_test, verbose=1)"
      ],
      "execution_count": 79,
      "outputs": [
        {
          "output_type": "stream",
          "name": "stdout",
          "text": [
            "83/83 [==============================] - 3s 35ms/step - loss: 3.1501 - accuracy: 0.2767\n"
          ]
        },
        {
          "output_type": "execute_result",
          "data": {
            "text/plain": [
              "[3.150101900100708, 0.27672478556632996]"
            ]
          },
          "metadata": {},
          "execution_count": 79
        }
      ]
    },
    {
      "cell_type": "code",
      "metadata": {
        "colab": {
          "base_uri": "https://localhost:8080/"
        },
        "id": "9_aS-1XMeIyl",
        "outputId": "577aaf6f-a3da-4f59-beec-69ab7c605497"
      },
      "source": [
        "pred = model_gru.predict(upd_x_test, batch_size = 32)\n",
        "pred = np.argmax(pred, axis=1)\n",
        "pred[:1000]"
      ],
      "execution_count": 80,
      "outputs": [
        {
          "output_type": "execute_result",
          "data": {
            "text/plain": [
              "array([ 0,  3,  3,  1,  4,  0,  7, 10,  1,  0,  0,  2,  0,  0,  0,  2,  4,\n",
              "        0,  9,  7,  3,  1,  2,  0,  9,  0,  0,  7,  8,  3,  0,  0,  0,  0,\n",
              "        7,  2,  3,  4,  0,  0,  6,  7,  7,  0,  0,  6,  8,  0,  0,  1,  0,\n",
              "        0,  0,  0,  0,  5,  3,  0,  4,  0,  0,  9,  9,  0,  4,  0,  3,  3,\n",
              "        1,  0,  0,  6,  1,  7,  0,  0,  0,  7,  0,  5,  7,  3,  0,  0,  0,\n",
              "        5,  7,  0,  7,  8,  3,  7,  6,  3,  2,  9,  7,  0,  0,  9,  9,  2,\n",
              "        0,  0,  0,  0,  0,  0,  0,  4,  0,  9,  7,  1,  7,  0,  5,  9,  0,\n",
              "        0,  1,  7,  0,  3,  0,  7,  5,  9,  7,  5,  0,  9,  1,  0,  4,  6,\n",
              "        9,  0,  7,  5,  0,  8,  0,  0,  0,  0,  7,  0,  0,  5,  7,  7,  7,\n",
              "        6,  1,  9,  0,  0,  7,  3,  5,  0,  0,  0,  9,  3,  0,  1,  7,  7,\n",
              "        1,  7,  8,  1,  0,  0,  0,  3,  0,  0,  7,  6,  0,  5,  7,  7,  0,\n",
              "        2, 10,  8,  8,  0,  3,  7,  3,  0,  8,  8,  7,  6,  0,  0,  1,  1,\n",
              "        1,  4, 10,  6,  3,  4,  2,  9,  9,  1,  9,  1,  4,  1,  0,  3,  4,\n",
              "        0,  4,  3,  1,  5,  3,  4,  1,  6,  4,  4,  0,  7,  1,  4,  1,  3,\n",
              "        5,  0,  0, 10,  1,  1,  1,  8,  1,  2,  1,  4,  2,  0,  1,  4,  0,\n",
              "        4,  7,  1,  5,  4,  3,  0,  9,  1,  0,  9,  7,  1,  1,  4,  3,  2,\n",
              "       10,  3,  7,  4,  3,  5,  7,  1,  0,  0,  4,  2,  4,  4,  4,  7,  0,\n",
              "        3,  8,  4,  4,  5,  7,  4,  4,  1,  4,  8,  0, 10,  1,  9,  8,  2,\n",
              "        8,  7,  4,  1,  4,  4,  4,  1,  0,  8,  7,  3,  7,  0,  0,  2,  5,\n",
              "        0,  4,  5,  6,  4,  1,  3,  1,  0,  1,  3,  7,  5,  4,  4,  2,  7,\n",
              "        1,  4, 10,  3,  3,  6,  6,  1,  0,  3,  4,  4,  4,  1,  1,  2,  1,\n",
              "        4,  1,  9,  3,  1,  2,  3,  1,  1,  3,  9,  0,  1,  1,  4,  0,  1,\n",
              "        0,  1,  1,  9,  7,  4,  7,  9,  1,  1,  9,  5,  0,  4,  1,  0,  3,\n",
              "        7,  6,  5,  8,  9,  2,  8,  3,  5,  4,  9,  1,  2,  0,  5,  7,  0,\n",
              "        3,  5,  0,  7,  2,  2,  7,  8,  3,  2,  1,  2,  2,  1,  7,  3,  2,\n",
              "        1,  7,  0,  6,  7,  7,  3,  2,  7,  5,  2,  9,  5,  1,  5,  6,  7,\n",
              "        0,  0,  2,  3,  2,  1,  7,  2,  0,  0,  2,  7,  6,  1,  4,  2,  2,\n",
              "        0,  7,  5,  9,  5,  6,  3,  3,  7,  2,  2,  7,  0,  5,  3,  9,  2,\n",
              "        2,  3,  3,  7,  7,  0,  0,  3,  2,  7,  2,  0,  1,  7,  1,  2,  2,\n",
              "        2,  2,  0,  9,  7,  6,  2,  7,  2,  8,  0,  7,  7,  7,  7,  0,  0,\n",
              "        2,  4,  6,  2,  7,  2,  1,  9,  0,  2,  7,  7,  7,  5,  2,  3,  2,\n",
              "        5,  6,  6,  8,  0,  2,  4,  7,  7,  2,  1,  5,  3,  2,  7,  0,  2,\n",
              "        7,  2,  2,  7,  7,  7,  7,  1,  2,  8,  4,  9,  2,  7,  7,  7,  2,\n",
              "        5, 10,  3,  2,  7,  7,  7,  5,  2,  2,  2,  2,  7,  0,  6,  0,  7,\n",
              "        9,  2,  7,  9,  2,  7,  3,  7,  2,  7,  7,  2,  7,  7,  4,  7,  7,\n",
              "        2,  5,  2,  0,  7,  0,  1,  5,  7,  8,  6,  7,  5,  3,  0, 10,  3,\n",
              "        7,  7,  3,  9,  7,  2,  4,  9,  0,  7,  4,  7,  7,  3, 10,  2,  1,\n",
              "        2,  9,  5,  7,  4,  5,  9,  3,  0,  4,  3,  8,  0,  1,  7,  4,  3,\n",
              "        8,  2,  7,  0,  2,  6,  3,  3,  7,  7,  6,  3,  2,  0,  4,  5,  5,\n",
              "        0,  8,  4,  2, 10,  9,  4,  5,  3, 10,  7,  9,  3,  9, 10,  9,  3,\n",
              "        8,  9,  3,  9, 10,  5,  8,  3,  7,  3,  0,  0,  5,  8,  8,  3,  6,\n",
              "       10,  4,  7,  1,  2,  3,  1,  7,  3,  2,  5,  0,  0,  3,  4,  3,  8,\n",
              "        4,  9,  0,  7,  1,  7,  4,  0,  4,  2,  2,  1,  5,  1,  1,  7,  5,\n",
              "        4,  6, 10,  7,  0,  3,  1,  5,  7,  4,  5,  7,  8,  4,  3,  3,  9,\n",
              "        7,  0,  7,  1,  3,  4,  9,  3,  9,  7,  6,  4,  2,  5,  0,  1,  3,\n",
              "        9,  0, 10,  1,  4,  2,  6,  6,  3,  1,  2,  7,  2,  1,  2,  1,  4,\n",
              "        3,  0,  4,  0,  5,  9,  2,  3,  4, 10,  0,  5,  3,  1,  5,  8,  2,\n",
              "        4,  7,  7,  7,  6, 10,  8,  0,  3,  4,  3,  8,  4,  0,  1,  5,  0,\n",
              "        5,  3,  7,  4,  4,  9,  0,  0,  3,  1,  5,  0,  0,  4,  7,  4,  0,\n",
              "        4,  1,  4,  1,  1,  0,  4,  7,  5,  0, 10,  1,  3,  8,  6,  5, 10,\n",
              "       10,  6,  2,  4,  7,  4,  4,  4,  7,  4,  4,  4,  3,  4,  4,  4,  7,\n",
              "        4,  3,  4,  3,  2,  3,  2,  4,  7, 10,  4, 10,  2,  3,  1,  4,  1,\n",
              "        0,  7,  7,  5,  5,  0,  9,  2,  4,  4,  4,  4,  4,  4,  7,  4,  1,\n",
              "        0,  3,  4,  7,  4,  9,  1,  1,  4,  4,  3,  1,  4,  4,  4,  7,  4,\n",
              "        4, 10,  3,  1,  3,  8,  7, 10,  3,  4,  4,  1,  4,  4,  4,  5,  5,\n",
              "        7,  1,  5,  4,  7,  3,  1, 10,  5,  1,  4,  7,  0,  3,  4,  4,  1,\n",
              "        4,  4,  4,  7,  9, 10,  5,  3,  4,  4,  3,  2,  5,  9, 10,  4,  4,\n",
              "        0,  1,  4,  4,  0,  4,  5,  1,  2,  7,  1,  5,  4,  4,  4,  2,  3,\n",
              "        4,  3,  4,  4,  4,  4,  5,  4,  5,  4,  0,  7,  1,  1])"
            ]
          },
          "metadata": {},
          "execution_count": 80
        }
      ]
    },
    {
      "cell_type": "code",
      "metadata": {
        "colab": {
          "base_uri": "https://localhost:8080/"
        },
        "id": "l5dLVTIleJdN",
        "outputId": "6ee0ac50-4ad4-4c5b-9201-561f9eb02fc2"
      },
      "source": [
        "print(answer_y_test.shape, pred.shape)\n",
        "print(answer_y_test[:10], pred[:10])\n",
        "\n",
        "print(classification_report(answer_y_test, pred))"
      ],
      "execution_count": 81,
      "outputs": [
        {
          "output_type": "stream",
          "name": "stdout",
          "text": [
            "(2638,) (2638,)\n",
            "[0 0 0 0 0 0 0 0 0 0] [ 0  3  3  1  4  0  7 10  1  0]\n",
            "              precision    recall  f1-score   support\n",
            "\n",
            "           0       0.24      0.41      0.30       202\n",
            "           1       0.22      0.23      0.22       202\n",
            "           2       0.25      0.26      0.25       202\n",
            "           3       0.13      0.15      0.14       201\n",
            "           4       0.28      0.36      0.32       201\n",
            "           5       0.24      0.32      0.28       204\n",
            "           6       0.52      0.55      0.53       205\n",
            "           7       0.23      0.45      0.30       203\n",
            "           8       0.28      0.22      0.24       203\n",
            "           9       0.33      0.28      0.30       205\n",
            "          10       0.52      0.37      0.43       203\n",
            "          11       0.00      0.00      0.00       203\n",
            "          12       0.00      0.00      0.00       204\n",
            "\n",
            "    accuracy                           0.28      2638\n",
            "   macro avg       0.25      0.28      0.26      2638\n",
            "weighted avg       0.25      0.28      0.26      2638\n",
            "\n"
          ]
        },
        {
          "output_type": "stream",
          "name": "stderr",
          "text": [
            "/usr/local/lib/python3.7/dist-packages/sklearn/metrics/_classification.py:1272: UndefinedMetricWarning: Precision and F-score are ill-defined and being set to 0.0 in labels with no predicted samples. Use `zero_division` parameter to control this behavior.\n",
            "  _warn_prf(average, modifier, msg_start, len(result))\n"
          ]
        }
      ]
    },
    {
      "cell_type": "code",
      "metadata": {
        "colab": {
          "base_uri": "https://localhost:8080/",
          "height": 609
        },
        "id": "zNfYHhjfeSAF",
        "outputId": "ebee9e65-a1b1-490b-f1f8-a29c95297ed0"
      },
      "source": [
        "plt.plot(history_cnn.history['accuracy'], \n",
        "         label='cnn train accuracy')\n",
        "plt.plot(history_cnn.history['val_accuracy'], \n",
        "         label='cnn test accuracy')\n",
        "plt.plot(upd_history_cnn.history['accuracy'], \n",
        "         label='cnn upd train accuracy')\n",
        "plt.plot(upd_history_cnn.history['val_accuracy'], \n",
        "         label='cnn upd test accuracy')\n",
        "\n",
        "plt.plot(history_lstm.history['accuracy'], \n",
        "         label='lstm train accuracy')\n",
        "plt.plot(history_lstm.history['val_accuracy'], \n",
        "         label='lstm test accuracy')\n",
        "plt.plot(upd_history_lstm.history['accuracy'], \n",
        "         label='lstm upd train accuracy')\n",
        "plt.plot(upd_history_lstm.history['val_accuracy'], \n",
        "         label='lstm upd test accuracy')\n",
        "\n",
        "plt.plot(history_gru.history['accuracy'], \n",
        "         label='gru train accuracy')\n",
        "plt.plot(history_gru.history['val_accuracy'], \n",
        "         label='gru test accuracy')\n",
        "plt.plot(upd_history_gru.history['accuracy'], \n",
        "         label='gru upd train accuracy')\n",
        "plt.plot(upd_history_gru.history['val_accuracy'], \n",
        "         label='gru upd test accuracy')\n",
        "plt.xlabel('epoch')\n",
        "plt.ylabel('accuracy')\n",
        "plt.rcParams[\"figure.figsize\"] = (40,10)\n",
        "plt.legend()\n",
        "plt.show()"
      ],
      "execution_count": 82,
      "outputs": [
        {
          "output_type": "display_data",
          "data": {
            "image/png": "[encoded data removed]",
            "text/plain": [
              "<Figure size 1440x720 with 1 Axes>"
            ]
          },
          "metadata": {
            "needs_background": "light"
          }
        }
      ]
    },
    {
      "cell_type": "code",
      "metadata": {
        "id": "RvRw4pwYgXON"
      },
      "source": [
        ""
      ],
      "execution_count": null,
      "outputs": []
    }
  ]
}