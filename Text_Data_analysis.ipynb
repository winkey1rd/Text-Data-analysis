{
  "nbformat": 4,
  "nbformat_minor": 0,
  "metadata": {
    "colab": {
      "name": "Text-Data-analysis.ipynb",
      "provenance": [],
      "collapsed_sections": [],
      "authorship_tag": "ABX9TyNLtbc9fnCJqRlaExO+86DY"
    },
    "kernelspec": {
      "name": "python3",
      "display_name": "Python 3"
    },
    "language_info": {
      "name": "python"
    },
    "accelerator": "GPU"
  },
  "cells": [
    {
      "cell_type": "code",
      "metadata": {
        "colab": {
          "resources": {
            "http://localhost:8080/nbextensions/google.colab/files.js": {
              "data": "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",
              "ok": true,
              "headers": [
                [
                  "content-type",
                  "application/javascript"
                ]
              ],
              "status": 200,
              "status_text": ""
            }
          },
          "base_uri": "https://localhost:8080/",
          "height": 501
        },
        "id": "lbJxV_ObWrar",
        "outputId": "9167f5e8-9bdc-44ec-de97-e328e3f48c0c"
      },
      "source": [
        "from google.colab import files\n",
        "uploaded = files.upload()"
      ],
      "execution_count": 3,
      "outputs": [
        {
          "output_type": "display_data",
          "data": {
            "text/html": [
              "\n",
              "     <input type=\"file\" id=\"files-d9bf013b-4f5e-4229-8e4b-2c9403db5a85\" name=\"files[]\" multiple disabled\n",
              "        style=\"border:none\" />\n",
              "     <output id=\"result-d9bf013b-4f5e-4229-8e4b-2c9403db5a85\">\n",
              "      Upload widget is only available when the cell has been executed in the\n",
              "      current browser session. Please rerun this cell to enable.\n",
              "      </output>\n",
              "      <script src=\"/nbextensions/google.colab/files.js\"></script> "
            ],
            "text/plain": [
              "<IPython.core.display.HTML object>"
            ]
          },
          "metadata": {}
        },
        {
          "output_type": "stream",
          "name": "stdout",
          "text": [
            "Saving Вопросы карьеры.csv to Вопросы карьеры.csv\n",
            "Saving Вредные привычки, зависимость.csv to Вредные привычки, зависимость.csv\n",
            "Saving Горе, потери.csv to Горе, потери.csv\n",
            "Saving Депрессия.csv to Депрессия.csv\n",
            "Saving Нервные расстройства.csv to Нервные расстройства.csv\n",
            "Saving О достижении цели.csv to О достижении цели.csv\n",
            "Saving Отношения с окружающими.csv to Отношения с окружающими.csv\n",
            "Saving Поиск решения.csv to Поиск решения.csv\n",
            "Saving Проблемы с детьми.csv to Проблемы с детьми.csv\n",
            "Saving Проблемы с партнером.csv to Проблемы с партнером.csv\n",
            "Saving Размышления о мире.csv to Размышления о мире.csv\n",
            "Saving Самопознание, саморазвитие.csv to Самопознание, саморазвитие.csv\n",
            "Saving Семейные проблемы.csv to Семейные проблемы.csv\n"
          ]
        },
        {
          "output_type": "display_data",
          "data": {
            "text/html": [
              "\n",
              "     <input type=\"file\" id=\"files-62abbb6a-82f1-4191-92ae-79c3100ffc72\" name=\"files[]\" multiple disabled\n",
              "        style=\"border:none\" />\n",
              "     <output id=\"result-62abbb6a-82f1-4191-92ae-79c3100ffc72\">\n",
              "      Upload widget is only available when the cell has been executed in the\n",
              "      current browser session. Please rerun this cell to enable.\n",
              "      </output>\n",
              "      <script src=\"/nbextensions/google.colab/files.js\"></script> "
            ],
            "text/plain": [
              "<IPython.core.display.HTML object>"
            ]
          },
          "metadata": {}
        }
      ]
    },
    {
      "cell_type": "code",
      "metadata": {
        "id": "y0waXMh-YLZ1",
        "colab": {
          "base_uri": "https://localhost:8080/"
        },
        "outputId": "5e58e2bc-e64e-47b3-d620-34d14c0c4ebe"
      },
      "source": [
        "!ls"
      ],
      "execution_count": 4,
      "outputs": [
        {
          "output_type": "stream",
          "name": "stdout",
          "text": [
            " sample_data\t\t\t     'Отношения с окружающими.csv'\n",
            "'Вопросы карьеры.csv'\t\t     'Поиск решения.csv'\n",
            "'Вредные привычки, зависимость.csv'  'Проблемы с детьми.csv'\n",
            "'Горе, потери.csv'\t\t     'Проблемы с партнером.csv'\n",
            " Депрессия.csv\t\t\t     'Размышления о мире.csv'\n",
            "'Нервные расстройства.csv'\t     'Самопознание, саморазвитие.csv'\n",
            "'О достижении цели.csv'\t\t     'Семейные проблемы.csv'\n"
          ]
        }
      ]
    },
    {
      "cell_type": "markdown",
      "metadata": {
        "id": "BnJ9ru3CZHGl"
      },
      "source": [
        "Let's create 2 files: training and test data"
      ]
    },
    {
      "cell_type": "markdown",
      "metadata": {
        "id": "LUrGy-bgaJUN"
      },
      "source": [
        "test data - 20%"
      ]
    },
    {
      "cell_type": "code",
      "metadata": {
        "id": "NuGh5bdWmcf3"
      },
      "source": [
        "from sklearn.model_selection import train_test_split\n",
        "import os\n",
        "import glob"
      ],
      "execution_count": 5,
      "outputs": []
    },
    {
      "cell_type": "code",
      "metadata": {
        "id": "x_icK_-bYt7N"
      },
      "source": [
        "extension = 'csv'\n",
        "file_names = [i for i in glob.glob('*.{}'.format(extension))]\n",
        "file_names_size = len(file_names);"
      ],
      "execution_count": 6,
      "outputs": []
    },
    {
      "cell_type": "markdown",
      "metadata": {
        "id": "Ux7CCHhpaARl"
      },
      "source": [
        "Let's mark the data: add a column in which the value will mean the category number"
      ]
    },
    {
      "cell_type": "code",
      "metadata": {
        "id": "sHW2CGIUae4m"
      },
      "source": [
        "import pandas as pd\n",
        "import numpy as np"
      ],
      "execution_count": 7,
      "outputs": []
    },
    {
      "cell_type": "code",
      "metadata": {
        "id": "C3WdhW7dY1xh"
      },
      "source": [
        "data_train = []\n",
        "data_test = []\n",
        "\n",
        "i = 0\n",
        "while i<file_names_size:\n",
        "  df = pd.read_csv(file_names[i], header=0)\n",
        "  df['THEME'] = i\n",
        "  train, test = train_test_split(df, test_size=0.2, random_state=2)\n",
        "  data_train.append(train)\n",
        "  data_test.append(test)\n",
        "  i = i + 1"
      ],
      "execution_count": 8,
      "outputs": []
    },
    {
      "cell_type": "markdown",
      "metadata": {
        "id": "NftWC1-VbqG-"
      },
      "source": [
        "combining the data into a single file"
      ]
    },
    {
      "cell_type": "markdown",
      "metadata": {
        "id": "4XHOHmhTbsI-"
      },
      "source": [
        "-train"
      ]
    },
    {
      "cell_type": "code",
      "metadata": {
        "id": "08bFG3x5biOm",
        "colab": {
          "base_uri": "https://localhost:8080/"
        },
        "outputId": "ccd2cdb0-4c04-4ea7-9241-c41bdbbb4787"
      },
      "source": [
        "final_data_train = pd.concat(data_train)\n",
        "final_data_train.to_csv( 'train.csv', index=False, encoding='utf-8-sig')\n",
        "!wc -l train.csv"
      ],
      "execution_count": 9,
      "outputs": [
        {
          "output_type": "stream",
          "name": "stdout",
          "text": [
            "10545 train.csv\n"
          ]
        }
      ]
    },
    {
      "cell_type": "markdown",
      "metadata": {
        "id": "pJ973py5bz_N"
      },
      "source": [
        "-test"
      ]
    },
    {
      "cell_type": "code",
      "metadata": {
        "id": "TJJKG-LMbyrV",
        "colab": {
          "base_uri": "https://localhost:8080/"
        },
        "outputId": "eda701ac-7a42-4d76-a34d-19cf974c923a"
      },
      "source": [
        "final_data_test = pd.concat(data_test)\n",
        "final_data_test.to_csv( \"test.csv\", index=False, encoding='utf-8-sig')\n",
        "!wc -l test.csv"
      ],
      "execution_count": 10,
      "outputs": [
        {
          "output_type": "stream",
          "name": "stdout",
          "text": [
            "2642 test.csv\n"
          ]
        }
      ]
    },
    {
      "cell_type": "code",
      "metadata": {
        "colab": {
          "base_uri": "https://localhost:8080/",
          "height": 142
        },
        "id": "pY8hmBeCcEXG",
        "outputId": "d71791bb-050f-452a-fec3-cec29e9201b0"
      },
      "source": [
        "train = pd.read_csv('train.csv', header=0)\n",
        "train[:3]"
      ],
      "execution_count": 11,
      "outputs": [
        {
          "output_type": "execute_result",
          "data": {
            "text/html": [
              "<div>\n",
              "<style scoped>\n",
              "    .dataframe tbody tr th:only-of-type {\n",
              "        vertical-align: middle;\n",
              "    }\n",
              "\n",
              "    .dataframe tbody tr th {\n",
              "        vertical-align: top;\n",
              "    }\n",
              "\n",
              "    .dataframe thead th {\n",
              "        text-align: right;\n",
              "    }\n",
              "</style>\n",
              "<table border=\"1\" class=\"dataframe\">\n",
              "  <thead>\n",
              "    <tr style=\"text-align: right;\">\n",
              "      <th></th>\n",
              "      <th>Unnamed: 0</th>\n",
              "      <th>USER_ID</th>\n",
              "      <th>USER_NICKNAME</th>\n",
              "      <th>TITLE</th>\n",
              "      <th>MESSAGE</th>\n",
              "      <th>DATE_TIME</th>\n",
              "      <th>TOPIC_LIKES_COUNT</th>\n",
              "      <th>URL</th>\n",
              "      <th>THEME</th>\n",
              "    </tr>\n",
              "  </thead>\n",
              "  <tbody>\n",
              "    <tr>\n",
              "      <th>0</th>\n",
              "      <td>978</td>\n",
              "      <td>u101679</td>\n",
              "      <td>Mi-shel</td>\n",
              "      <td>Муж в реанимации. Просто поддержите</td>\n",
              "      <td>Вчера в 5 утра у мужа случился обширный инсуль...</td>\n",
              "      <td>2017-05-10 05:55</td>\n",
              "      <td>6</td>\n",
              "      <td>https://www.b17.ru/forum/topic.php?id=75927</td>\n",
              "      <td>0</td>\n",
              "    </tr>\n",
              "    <tr>\n",
              "      <th>1</th>\n",
              "      <td>863</td>\n",
              "      <td>u261348</td>\n",
              "      <td>катерина121</td>\n",
              "      <td>чувство вины. Незавершенность ситуации</td>\n",
              "      <td>перестала общаться с молод. человеком</td>\n",
              "      <td>2017-09-30 18:26</td>\n",
              "      <td>2</td>\n",
              "      <td>https://www.b17.ru/forum/topic.php?id=89707</td>\n",
              "      <td>0</td>\n",
              "    </tr>\n",
              "    <tr>\n",
              "      <th>2</th>\n",
              "      <td>658</td>\n",
              "      <td>u326689</td>\n",
              "      <td>LusiLi</td>\n",
              "      <td>Страдания и переживания сопровождают меня посл...</td>\n",
              "      <td>Здравствуйте! Пишу сюда, потому что не знаю и ...</td>\n",
              "      <td>2018-05-04 16:44</td>\n",
              "      <td>1</td>\n",
              "      <td>https://www.b17.ru/forum/topic.php?id=115519</td>\n",
              "      <td>0</td>\n",
              "    </tr>\n",
              "  </tbody>\n",
              "</table>\n",
              "</div>"
            ],
            "text/plain": [
              "   Unnamed: 0  USER_ID  ...                                           URL THEME\n",
              "0         978  u101679  ...   https://www.b17.ru/forum/topic.php?id=75927     0\n",
              "1         863  u261348  ...   https://www.b17.ru/forum/topic.php?id=89707     0\n",
              "2         658  u326689  ...  https://www.b17.ru/forum/topic.php?id=115519     0\n",
              "\n",
              "[3 rows x 9 columns]"
            ]
          },
          "metadata": {},
          "execution_count": 11
        }
      ]
    },
    {
      "cell_type": "code",
      "metadata": {
        "colab": {
          "base_uri": "https://localhost:8080/",
          "height": 142
        },
        "id": "DhCq2Ji0cPE2",
        "outputId": "b268ba13-5242-4e63-f50d-77c508a516fa"
      },
      "source": [
        "test = pd.read_csv('test.csv', header=0)\n",
        "test[:3]"
      ],
      "execution_count": 12,
      "outputs": [
        {
          "output_type": "execute_result",
          "data": {
            "text/html": [
              "<div>\n",
              "<style scoped>\n",
              "    .dataframe tbody tr th:only-of-type {\n",
              "        vertical-align: middle;\n",
              "    }\n",
              "\n",
              "    .dataframe tbody tr th {\n",
              "        vertical-align: top;\n",
              "    }\n",
              "\n",
              "    .dataframe thead th {\n",
              "        text-align: right;\n",
              "    }\n",
              "</style>\n",
              "<table border=\"1\" class=\"dataframe\">\n",
              "  <thead>\n",
              "    <tr style=\"text-align: right;\">\n",
              "      <th></th>\n",
              "      <th>Unnamed: 0</th>\n",
              "      <th>USER_ID</th>\n",
              "      <th>USER_NICKNAME</th>\n",
              "      <th>TITLE</th>\n",
              "      <th>MESSAGE</th>\n",
              "      <th>DATE_TIME</th>\n",
              "      <th>TOPIC_LIKES_COUNT</th>\n",
              "      <th>URL</th>\n",
              "      <th>THEME</th>\n",
              "    </tr>\n",
              "  </thead>\n",
              "  <tbody>\n",
              "    <tr>\n",
              "      <th>0</th>\n",
              "      <td>71</td>\n",
              "      <td>u478927</td>\n",
              "      <td>Akkie</td>\n",
              "      <td>Бывший отрезал от потенциально интересующей ме...</td>\n",
              "      <td>Рассталась с молодым человеком очень тяжело по...</td>\n",
              "      <td>2020-02-22 21:19</td>\n",
              "      <td>3</td>\n",
              "      <td>https://www.b17.ru/forum/topic.php?id=303879</td>\n",
              "      <td>0</td>\n",
              "    </tr>\n",
              "    <tr>\n",
              "      <th>1</th>\n",
              "      <td>945</td>\n",
              "      <td>u238151</td>\n",
              "      <td>Юлия</td>\n",
              "      <td>Решилась. Поддержите (((</td>\n",
              "      <td>Дошла до точки,решилась.Сегодня соберу все его...</td>\n",
              "      <td>2017-06-12 13:10</td>\n",
              "      <td>21</td>\n",
              "      <td>https://www.b17.ru/forum/topic.php?id=78871</td>\n",
              "      <td>0</td>\n",
              "    </tr>\n",
              "    <tr>\n",
              "      <th>2</th>\n",
              "      <td>951</td>\n",
              "      <td>u239602</td>\n",
              "      <td>Воскресение</td>\n",
              "      <td>переживание расставания</td>\n",
              "      <td>Здравствуйте. Более полутора года назад в наше...</td>\n",
              "      <td>2017-06-11 16:05</td>\n",
              "      <td>2</td>\n",
              "      <td>https://www.b17.ru/forum/topic.php?id=78797</td>\n",
              "      <td>0</td>\n",
              "    </tr>\n",
              "  </tbody>\n",
              "</table>\n",
              "</div>"
            ],
            "text/plain": [
              "   Unnamed: 0  USER_ID  ...                                           URL THEME\n",
              "0          71  u478927  ...  https://www.b17.ru/forum/topic.php?id=303879     0\n",
              "1         945  u238151  ...   https://www.b17.ru/forum/topic.php?id=78871     0\n",
              "2         951  u239602  ...   https://www.b17.ru/forum/topic.php?id=78797     0\n",
              "\n",
              "[3 rows x 9 columns]"
            ]
          },
          "metadata": {},
          "execution_count": 12
        }
      ]
    },
    {
      "cell_type": "markdown",
      "metadata": {
        "id": "YWGIV1jg-IGp"
      },
      "source": [
        "Protection against unexpected strings such as 'nan'"
      ]
    },
    {
      "cell_type": "code",
      "metadata": {
        "id": "L_RFt-hs-HgH"
      },
      "source": [
        "trb_nan_idx = train[pd.isnull(train['MESSAGE'])].index.tolist()\n",
        "train.loc[trb_nan_idx, 'MESSAGE'] = ' '\n",
        "train.loc[trb_nan_idx, 'MESSAGE'] = ' '"
      ],
      "execution_count": 13,
      "outputs": []
    },
    {
      "cell_type": "code",
      "metadata": {
        "id": "TBkx3DzIc6pf"
      },
      "source": [
        "from tensorflow.keras import utils\n",
        "x_train = train['MESSAGE']\n",
        "y_train = utils.to_categorical(train['THEME'],file_names_size)"
      ],
      "execution_count": 14,
      "outputs": []
    },
    {
      "cell_type": "code",
      "metadata": {
        "colab": {
          "base_uri": "https://localhost:8080/"
        },
        "id": "migN61LLilCY",
        "outputId": "5aa7962a-e510-41c3-bc52-7c5c77bfdf15"
      },
      "source": [
        "import nltk\n",
        "import re\n",
        "from nltk.stem.snowball import SnowballStemmer\n",
        "stemmer = SnowballStemmer(\"russian\")\n",
        "nltk.download('punkt')"
      ],
      "execution_count": 15,
      "outputs": [
        {
          "output_type": "stream",
          "name": "stdout",
          "text": [
            "[nltk_data] Downloading package punkt to /root/nltk_data...\n",
            "[nltk_data]   Unzipping tokenizers/punkt.zip.\n"
          ]
        },
        {
          "output_type": "execute_result",
          "data": {
            "text/plain": [
              "True"
            ]
          },
          "metadata": {},
          "execution_count": 15
        }
      ]
    },
    {
      "cell_type": "markdown",
      "metadata": {
        "id": "AMyqiVhc-VIY"
      },
      "source": [
        "get a word form for each token (stemming)"
      ]
    },
    {
      "cell_type": "code",
      "metadata": {
        "id": "2eEPp009-1l-"
      },
      "source": [
        "def token_and_stem(text):\n",
        "    tokens = [word for sent in nltk.sent_tokenize(text) for word in nltk.word_tokenize(sent)]\n",
        "    filtered_tokens = []\n",
        "    for token in tokens:\n",
        "        if re.search('[а-яА-Я]', token):\n",
        "            filtered_tokens.append(token)\n",
        "    stems = [stemmer.stem(t) for t in filtered_tokens]\n",
        "    return stems"
      ],
      "execution_count": 21,
      "outputs": []
    },
    {
      "cell_type": "code",
      "metadata": {
        "id": "Gi5N6QZKi09K"
      },
      "source": [
        "upd_x_train = []\n",
        "\n",
        "for i in x_train:\n",
        "  upd_train = token_and_stem(i)\n",
        "  upd_x_train.append(upd_train)"
      ],
      "execution_count": 22,
      "outputs": []
    },
    {
      "cell_type": "code",
      "metadata": {
        "colab": {
          "base_uri": "https://localhost:8080/"
        },
        "id": "fO7dLQCB-k6v",
        "outputId": "4a01a5d2-aa5d-4ba4-912e-56d3ba44534e"
      },
      "source": [
        "nltk.download('stopwords')\n",
        "stopwords = nltk.corpus.stopwords.words('russian')"
      ],
      "execution_count": 24,
      "outputs": [
        {
          "output_type": "stream",
          "name": "stdout",
          "text": [
            "[nltk_data] Downloading package stopwords to /root/nltk_data...\n",
            "[nltk_data]   Package stopwords is already up-to-date!\n"
          ]
        }
      ]
    },
    {
      "cell_type": "code",
      "metadata": {
        "id": "lPkEmW6zjv_m"
      },
      "source": [
        "tokens = []\n",
        "train = []\n",
        "\n",
        "for x_tr in upd_x_train:\n",
        "  for token in x_tr:\n",
        "    if token not in stopwords:\n",
        "      tokens.append(token)\n",
        "  train.append(tokens)\n",
        "  tokens = []"
      ],
      "execution_count": 25,
      "outputs": []
    },
    {
      "cell_type": "code",
      "metadata": {
        "colab": {
          "base_uri": "https://localhost:8080/"
        },
        "id": "S0_nRqVzfnWw",
        "outputId": "e20a8b93-9fab-4442-9d1d-bff2ae949f1c"
      },
      "source": [
        "x_train[:3]"
      ],
      "execution_count": 27,
      "outputs": [
        {
          "output_type": "execute_result",
          "data": {
            "text/plain": [
              "0    Вчера в 5 утра у мужа случился обширный инсуль...\n",
              "1                перестала общаться с молод. человеком\n",
              "2    Здравствуйте! Пишу сюда, потому что не знаю и ...\n",
              "Name: MESSAGE, dtype: object"
            ]
          },
          "metadata": {},
          "execution_count": 27
        }
      ]
    },
    {
      "cell_type": "code",
      "metadata": {
        "id": "guK5gT_kz1mp"
      },
      "source": [
        "train[:3]"
      ],
      "execution_count": null,
      "outputs": []
    },
    {
      "cell_type": "code",
      "metadata": {
        "id": "GTYRpZ6kcyTO"
      },
      "source": [
        "from tensorflow.keras.preprocessing.text import Tokenizer\n",
        "from tensorflow.keras.models import Sequential\n",
        "from tensorflow.keras.preprocessing.sequence import pad_sequences"
      ],
      "execution_count": 29,
      "outputs": []
    },
    {
      "cell_type": "code",
      "metadata": {
        "id": "ZqznwsMfdLnn"
      },
      "source": [
        "num_words = 3000\n",
        "tokenizer = Tokenizer(num_words=num_words, filters='0123456789!\"#$%&()*+,-./:;<=>?@[\\\\]^_`{|}~\\t\\n', lower=True, split=' ')"
      ],
      "execution_count": 30,
      "outputs": []
    },
    {
      "cell_type": "code",
      "metadata": {
        "id": "7Uh0DenSge4x"
      },
      "source": [
        "tokenizer.fit_on_texts(train)\n",
        "tokenizer.word_index\n",
        "sequences = tokenizer.texts_to_sequences(train)"
      ],
      "execution_count": 32,
      "outputs": []
    },
    {
      "cell_type": "code",
      "metadata": {
        "colab": {
          "base_uri": "https://localhost:8080/"
        },
        "id": "4fmOdr_kjdcI",
        "outputId": "4845183c-879a-4912-b053-302463a3d29f"
      },
      "source": [
        "print(x_train[0])\n",
        "print(train[0])\n",
        "print(sequences[0])"
      ],
      "execution_count": 33,
      "outputs": [
        {
          "output_type": "stream",
          "name": "stdout",
          "text": [
            "Вчера в 5 утра у мужа случился обширный инсульт. Сейчас лежит в коме. Нервы сдают. Страшно.Пожалуйста, просто поговорите со мной\n",
            "['вчер', 'утр', 'муж', 'случ', 'обширн', 'инсульт', 'леж', 'ком', 'нерв', 'сдают', 'страшно.пожалуйст', 'прост', 'поговор', 'мно']\n",
            "[574, 224, 40, 334, 2883, 1066, 407, 860, 19, 279, 79]\n"
          ]
        }
      ]
    },
    {
      "cell_type": "code",
      "metadata": {
        "id": "1JFE_q4Sj4iJ",
        "colab": {
          "base_uri": "https://localhost:8080/"
        },
        "outputId": "8354d159-b48b-4661-e6f1-39792685143f"
      },
      "source": [
        "max_text_len = 100\n",
        "x_train = pad_sequences(sequences, maxlen=max_text_len)\n",
        "x_train[0]"
      ],
      "execution_count": 34,
      "outputs": [
        {
          "output_type": "execute_result",
          "data": {
            "text/plain": [
              "array([   0,    0,    0,    0,    0,    0,    0,    0,    0,    0,    0,\n",
              "          0,    0,    0,    0,    0,    0,    0,    0,    0,    0,    0,\n",
              "          0,    0,    0,    0,    0,    0,    0,    0,    0,    0,    0,\n",
              "          0,    0,    0,    0,    0,    0,    0,    0,    0,    0,    0,\n",
              "          0,    0,    0,    0,    0,    0,    0,    0,    0,    0,    0,\n",
              "          0,    0,    0,    0,    0,    0,    0,    0,    0,    0,    0,\n",
              "          0,    0,    0,    0,    0,    0,    0,    0,    0,    0,    0,\n",
              "          0,    0,    0,    0,    0,    0,    0,    0,    0,    0,    0,\n",
              "          0,  574,  224,   40,  334, 2883, 1066,  407,  860,   19,  279,\n",
              "         79], dtype=int32)"
            ]
          },
          "metadata": {},
          "execution_count": 34
        }
      ]
    },
    {
      "cell_type": "code",
      "metadata": {
        "id": "PjfwyVfGkV1q"
      },
      "source": [
        "from tensorflow.keras.models import Sequential\n",
        "from tensorflow.keras.layers import Dense, Embedding, MaxPooling1D, Conv1D, GlobalMaxPooling1D, Dropout, LSTM, GRU"
      ],
      "execution_count": 35,
      "outputs": []
    },
    {
      "cell_type": "code",
      "metadata": {
        "id": "qdGkbLSokh7A"
      },
      "source": [
        "model_cnn = Sequential()\n",
        "model_cnn.add(Embedding(num_words, 32, input_length=max_text_len))\n",
        "\n",
        "model_cnn.add(Conv1D(500, 5, padding='valid', activation='relu'))\n",
        "model_cnn.add(GlobalMaxPooling1D())\n",
        "model_cnn.add(Dropout(0.2))\n",
        "\n",
        "model_cnn.add(Dense(169, activation='relu'))\n",
        "model_cnn.add(Dropout(0.2))\n",
        "model_cnn.add(Dense(file_names_size, activation='softmax'))"
      ],
      "execution_count": 42,
      "outputs": []
    },
    {
      "cell_type": "code",
      "metadata": {
        "id": "WL8CmjUakmfg"
      },
      "source": [
        "model_cnn.compile(optimizer='adam', \n",
        "              loss='categorical_crossentropy', \n",
        "              metrics=['accuracy'])"
      ],
      "execution_count": 43,
      "outputs": []
    },
    {
      "cell_type": "code",
      "metadata": {
        "colab": {
          "base_uri": "https://localhost:8080/"
        },
        "id": "Ya0FOCYtlUjj",
        "outputId": "4326c9ce-9e9e-4fb9-e9e8-b7d3e620367d"
      },
      "source": [
        "model_cnn.summary()"
      ],
      "execution_count": 44,
      "outputs": [
        {
          "output_type": "stream",
          "name": "stdout",
          "text": [
            "Model: \"sequential_1\"\n",
            "_________________________________________________________________\n",
            "Layer (type)                 Output Shape              Param #   \n",
            "=================================================================\n",
            "embedding_1 (Embedding)      (None, 100, 32)           96000     \n",
            "_________________________________________________________________\n",
            "conv1d_1 (Conv1D)            (None, 96, 500)           80500     \n",
            "_________________________________________________________________\n",
            "global_max_pooling1d_1 (Glob (None, 500)               0         \n",
            "_________________________________________________________________\n",
            "dropout_2 (Dropout)          (None, 500)               0         \n",
            "_________________________________________________________________\n",
            "dense_2 (Dense)              (None, 169)               84669     \n",
            "_________________________________________________________________\n",
            "dropout_3 (Dropout)          (None, 169)               0         \n",
            "_________________________________________________________________\n",
            "dense_3 (Dense)              (None, 13)                2210      \n",
            "=================================================================\n",
            "Total params: 263,379\n",
            "Trainable params: 263,379\n",
            "Non-trainable params: 0\n",
            "_________________________________________________________________\n"
          ]
        }
      ]
    },
    {
      "cell_type": "code",
      "metadata": {
        "id": "SzIJyrVFmYlu"
      },
      "source": [
        "from tensorflow.keras.callbacks import ModelCheckpoint"
      ],
      "execution_count": 45,
      "outputs": []
    },
    {
      "cell_type": "code",
      "metadata": {
        "id": "lKI3Xwx3lZXZ"
      },
      "source": [
        "model_cnn_save_path = 'cnn.h5'\n",
        "checkpoint_callback_cnn = ModelCheckpoint(model_cnn_save_path, \n",
        "                                      monitor='val_accuracy',\n",
        "                                      save_best_only=True,\n",
        "                                      verbose=1)"
      ],
      "execution_count": 46,
      "outputs": []
    },
    {
      "cell_type": "code",
      "metadata": {
        "id": "rCLlUd9kCcsQ"
      },
      "source": [
        "random_seed = 2\n",
        "X_train, X_val, Y_train, Y_val = train_test_split(x_train, y_train, test_size = 0.1, random_state=random_seed)"
      ],
      "execution_count": 47,
      "outputs": []
    },
    {
      "cell_type": "code",
      "metadata": {
        "colab": {
          "base_uri": "https://localhost:8080/"
        },
        "id": "i3ISZxwAmtZ7",
        "outputId": "e6e11087-197c-48a2-8bce-1834fc81db7b"
      },
      "source": [
        "history_cnn = model_cnn.fit(X_train, \n",
        "                            Y_train, \n",
        "                            epochs=50,\n",
        "                            validation_data=(X_val, Y_val),\n",
        "                            batch_size=256,\n",
        "                            callbacks=[checkpoint_callback_cnn])"
      ],
      "execution_count": 48,
      "outputs": [
        {
          "output_type": "stream",
          "name": "stdout",
          "text": [
            "Epoch 1/50\n",
            "38/38 [==============================] - 11s 271ms/step - loss: 2.5622 - accuracy: 0.0826 - val_loss: 2.5552 - val_accuracy: 0.0911\n",
            "\n",
            "Epoch 00001: val_accuracy improved from -inf to 0.09108, saving model to cnn.h5\n",
            "Epoch 2/50\n",
            "38/38 [==============================] - 10s 265ms/step - loss: 2.5016 - accuracy: 0.1428 - val_loss: 2.4232 - val_accuracy: 0.1869\n",
            "\n",
            "Epoch 00002: val_accuracy improved from 0.09108 to 0.18691, saving model to cnn.h5\n",
            "Epoch 3/50\n",
            "38/38 [==============================] - 10s 268ms/step - loss: 2.3095 - accuracy: 0.2198 - val_loss: 2.2342 - val_accuracy: 0.2524\n",
            "\n",
            "Epoch 00003: val_accuracy improved from 0.18691 to 0.25237, saving model to cnn.h5\n",
            "Epoch 4/50\n",
            "38/38 [==============================] - 10s 265ms/step - loss: 2.1180 - accuracy: 0.2831 - val_loss: 2.0856 - val_accuracy: 0.2932\n",
            "\n",
            "Epoch 00004: val_accuracy improved from 0.25237 to 0.29317, saving model to cnn.h5\n",
            "Epoch 5/50\n",
            "38/38 [==============================] - 10s 264ms/step - loss: 1.9273 - accuracy: 0.3507 - val_loss: 1.9782 - val_accuracy: 0.3302\n",
            "\n",
            "Epoch 00005: val_accuracy improved from 0.29317 to 0.33017, saving model to cnn.h5\n",
            "Epoch 6/50\n",
            "38/38 [==============================] - 10s 265ms/step - loss: 1.7485 - accuracy: 0.4108 - val_loss: 1.9195 - val_accuracy: 0.3548\n",
            "\n",
            "Epoch 00006: val_accuracy improved from 0.33017 to 0.35484, saving model to cnn.h5\n",
            "Epoch 7/50\n",
            "38/38 [==============================] - 10s 265ms/step - loss: 1.6071 - accuracy: 0.4579 - val_loss: 1.9228 - val_accuracy: 0.3454\n",
            "\n",
            "Epoch 00007: val_accuracy did not improve from 0.35484\n",
            "Epoch 8/50\n",
            "38/38 [==============================] - 10s 265ms/step - loss: 1.4958 - accuracy: 0.4932 - val_loss: 1.9402 - val_accuracy: 0.3548\n",
            "\n",
            "Epoch 00008: val_accuracy did not improve from 0.35484\n",
            "Epoch 9/50\n",
            "38/38 [==============================] - 10s 264ms/step - loss: 1.4003 - accuracy: 0.5203 - val_loss: 1.9813 - val_accuracy: 0.3510\n",
            "\n",
            "Epoch 00009: val_accuracy did not improve from 0.35484\n",
            "Epoch 10/50\n",
            "38/38 [==============================] - 10s 262ms/step - loss: 1.3075 - accuracy: 0.5605 - val_loss: 2.0088 - val_accuracy: 0.3482\n",
            "\n",
            "Epoch 00010: val_accuracy did not improve from 0.35484\n",
            "Epoch 11/50\n",
            "38/38 [==============================] - 10s 261ms/step - loss: 1.2148 - accuracy: 0.5912 - val_loss: 2.0649 - val_accuracy: 0.3520\n",
            "\n",
            "Epoch 00011: val_accuracy did not improve from 0.35484\n",
            "Epoch 12/50\n",
            "38/38 [==============================] - 10s 263ms/step - loss: 1.1559 - accuracy: 0.6139 - val_loss: 2.1123 - val_accuracy: 0.3577\n",
            "\n",
            "Epoch 00012: val_accuracy improved from 0.35484 to 0.35768, saving model to cnn.h5\n",
            "Epoch 13/50\n",
            "38/38 [==============================] - 10s 262ms/step - loss: 1.0718 - accuracy: 0.6397 - val_loss: 2.1979 - val_accuracy: 0.3491\n",
            "\n",
            "Epoch 00013: val_accuracy did not improve from 0.35768\n",
            "Epoch 14/50\n",
            "38/38 [==============================] - 10s 263ms/step - loss: 0.9903 - accuracy: 0.6690 - val_loss: 2.2681 - val_accuracy: 0.3321\n",
            "\n",
            "Epoch 00014: val_accuracy did not improve from 0.35768\n",
            "Epoch 15/50\n",
            "38/38 [==============================] - 10s 265ms/step - loss: 0.9181 - accuracy: 0.6933 - val_loss: 2.3428 - val_accuracy: 0.3463\n",
            "\n",
            "Epoch 00015: val_accuracy did not improve from 0.35768\n",
            "Epoch 16/50\n",
            "38/38 [==============================] - 10s 266ms/step - loss: 0.8604 - accuracy: 0.7158 - val_loss: 2.4167 - val_accuracy: 0.3368\n",
            "\n",
            "Epoch 00016: val_accuracy did not improve from 0.35768\n",
            "Epoch 17/50\n",
            "38/38 [==============================] - 10s 265ms/step - loss: 0.7860 - accuracy: 0.7446 - val_loss: 2.5306 - val_accuracy: 0.3254\n",
            "\n",
            "Epoch 00017: val_accuracy did not improve from 0.35768\n",
            "Epoch 18/50\n",
            "38/38 [==============================] - 10s 268ms/step - loss: 0.7324 - accuracy: 0.7616 - val_loss: 2.6178 - val_accuracy: 0.3178\n",
            "\n",
            "Epoch 00018: val_accuracy did not improve from 0.35768\n",
            "Epoch 19/50\n",
            "38/38 [==============================] - 10s 270ms/step - loss: 0.6733 - accuracy: 0.7782 - val_loss: 2.7291 - val_accuracy: 0.3197\n",
            "\n",
            "Epoch 00019: val_accuracy did not improve from 0.35768\n",
            "Epoch 20/50\n",
            "38/38 [==============================] - 10s 269ms/step - loss: 0.6180 - accuracy: 0.8010 - val_loss: 2.8137 - val_accuracy: 0.3292\n",
            "\n",
            "Epoch 00020: val_accuracy did not improve from 0.35768\n",
            "Epoch 21/50\n",
            "38/38 [==============================] - 10s 268ms/step - loss: 0.5599 - accuracy: 0.8213 - val_loss: 2.9157 - val_accuracy: 0.3093\n",
            "\n",
            "Epoch 00021: val_accuracy did not improve from 0.35768\n",
            "Epoch 22/50\n",
            "38/38 [==============================] - 10s 265ms/step - loss: 0.4960 - accuracy: 0.8468 - val_loss: 3.0828 - val_accuracy: 0.3197\n",
            "\n",
            "Epoch 00022: val_accuracy did not improve from 0.35768\n",
            "Epoch 23/50\n",
            "38/38 [==============================] - 10s 267ms/step - loss: 0.4603 - accuracy: 0.8572 - val_loss: 3.1615 - val_accuracy: 0.3093\n",
            "\n",
            "Epoch 00023: val_accuracy did not improve from 0.35768\n",
            "Epoch 24/50\n",
            "38/38 [==============================] - 10s 265ms/step - loss: 0.4113 - accuracy: 0.8788 - val_loss: 3.2772 - val_accuracy: 0.3027\n",
            "\n",
            "Epoch 00024: val_accuracy did not improve from 0.35768\n",
            "Epoch 25/50\n",
            "38/38 [==============================] - 10s 267ms/step - loss: 0.3996 - accuracy: 0.8769 - val_loss: 3.3859 - val_accuracy: 0.3131\n",
            "\n",
            "Epoch 00025: val_accuracy did not improve from 0.35768\n",
            "Epoch 26/50\n",
            "38/38 [==============================] - 10s 266ms/step - loss: 0.3776 - accuracy: 0.8847 - val_loss: 3.4722 - val_accuracy: 0.3055\n",
            "\n",
            "Epoch 00026: val_accuracy did not improve from 0.35768\n",
            "Epoch 27/50\n",
            "38/38 [==============================] - 10s 266ms/step - loss: 0.3093 - accuracy: 0.9129 - val_loss: 3.6194 - val_accuracy: 0.3036\n",
            "\n",
            "Epoch 00027: val_accuracy did not improve from 0.35768\n",
            "Epoch 28/50\n",
            "38/38 [==============================] - 10s 264ms/step - loss: 0.2809 - accuracy: 0.9218 - val_loss: 3.7441 - val_accuracy: 0.3112\n",
            "\n",
            "Epoch 00028: val_accuracy did not improve from 0.35768\n",
            "Epoch 29/50\n",
            "38/38 [==============================] - 10s 267ms/step - loss: 0.2550 - accuracy: 0.9321 - val_loss: 3.8606 - val_accuracy: 0.3102\n",
            "\n",
            "Epoch 00029: val_accuracy did not improve from 0.35768\n",
            "Epoch 30/50\n",
            "38/38 [==============================] - 10s 268ms/step - loss: 0.2208 - accuracy: 0.9434 - val_loss: 4.0011 - val_accuracy: 0.2970\n",
            "\n",
            "Epoch 00030: val_accuracy did not improve from 0.35768\n",
            "Epoch 31/50\n",
            "38/38 [==============================] - 10s 266ms/step - loss: 0.2021 - accuracy: 0.9507 - val_loss: 4.0676 - val_accuracy: 0.3131\n",
            "\n",
            "Epoch 00031: val_accuracy did not improve from 0.35768\n",
            "Epoch 32/50\n",
            "38/38 [==============================] - 10s 265ms/step - loss: 0.1908 - accuracy: 0.9523 - val_loss: 4.1702 - val_accuracy: 0.3055\n",
            "\n",
            "Epoch 00032: val_accuracy did not improve from 0.35768\n",
            "Epoch 33/50\n",
            "38/38 [==============================] - 10s 266ms/step - loss: 0.1740 - accuracy: 0.9558 - val_loss: 4.2474 - val_accuracy: 0.3055\n",
            "\n",
            "Epoch 00033: val_accuracy did not improve from 0.35768\n",
            "Epoch 34/50\n",
            "38/38 [==============================] - 10s 265ms/step - loss: 0.1647 - accuracy: 0.9575 - val_loss: 4.3132 - val_accuracy: 0.2970\n",
            "\n",
            "Epoch 00034: val_accuracy did not improve from 0.35768\n",
            "Epoch 35/50\n",
            "38/38 [==============================] - 10s 264ms/step - loss: 0.1410 - accuracy: 0.9674 - val_loss: 4.4728 - val_accuracy: 0.2998\n",
            "\n",
            "Epoch 00035: val_accuracy did not improve from 0.35768\n",
            "Epoch 36/50\n",
            "38/38 [==============================] - 10s 265ms/step - loss: 0.1329 - accuracy: 0.9688 - val_loss: 4.5441 - val_accuracy: 0.3036\n",
            "\n",
            "Epoch 00036: val_accuracy did not improve from 0.35768\n",
            "Epoch 37/50\n",
            "38/38 [==============================] - 10s 265ms/step - loss: 0.1286 - accuracy: 0.9683 - val_loss: 4.6159 - val_accuracy: 0.2960\n",
            "\n",
            "Epoch 00037: val_accuracy did not improve from 0.35768\n",
            "Epoch 38/50\n",
            "38/38 [==============================] - 10s 268ms/step - loss: 0.1139 - accuracy: 0.9744 - val_loss: 4.7664 - val_accuracy: 0.2922\n",
            "\n",
            "Epoch 00038: val_accuracy did not improve from 0.35768\n",
            "Epoch 39/50\n",
            "38/38 [==============================] - 10s 268ms/step - loss: 0.1142 - accuracy: 0.9715 - val_loss: 4.8594 - val_accuracy: 0.2989\n",
            "\n",
            "Epoch 00039: val_accuracy did not improve from 0.35768\n",
            "Epoch 40/50\n",
            "38/38 [==============================] - 10s 269ms/step - loss: 0.0991 - accuracy: 0.9771 - val_loss: 4.9329 - val_accuracy: 0.2989\n",
            "\n",
            "Epoch 00040: val_accuracy did not improve from 0.35768\n",
            "Epoch 41/50\n",
            "38/38 [==============================] - 10s 267ms/step - loss: 0.0887 - accuracy: 0.9809 - val_loss: 5.0340 - val_accuracy: 0.3083\n",
            "\n",
            "Epoch 00041: val_accuracy did not improve from 0.35768\n",
            "Epoch 42/50\n",
            "38/38 [==============================] - 10s 269ms/step - loss: 0.0847 - accuracy: 0.9816 - val_loss: 5.1041 - val_accuracy: 0.3065\n",
            "\n",
            "Epoch 00042: val_accuracy did not improve from 0.35768\n",
            "Epoch 43/50\n",
            "38/38 [==============================] - 10s 269ms/step - loss: 0.0789 - accuracy: 0.9824 - val_loss: 5.2072 - val_accuracy: 0.3046\n",
            "\n",
            "Epoch 00043: val_accuracy did not improve from 0.35768\n",
            "Epoch 44/50\n",
            "38/38 [==============================] - 10s 268ms/step - loss: 0.0845 - accuracy: 0.9796 - val_loss: 5.2404 - val_accuracy: 0.2951\n",
            "\n",
            "Epoch 00044: val_accuracy did not improve from 0.35768\n",
            "Epoch 45/50\n",
            "38/38 [==============================] - 10s 268ms/step - loss: 0.0816 - accuracy: 0.9815 - val_loss: 5.2596 - val_accuracy: 0.3074\n",
            "\n",
            "Epoch 00045: val_accuracy did not improve from 0.35768\n",
            "Epoch 46/50\n",
            "38/38 [==============================] - 10s 265ms/step - loss: 0.1028 - accuracy: 0.9723 - val_loss: 5.2285 - val_accuracy: 0.3046\n",
            "\n",
            "Epoch 00046: val_accuracy did not improve from 0.35768\n",
            "Epoch 47/50\n",
            "38/38 [==============================] - 10s 267ms/step - loss: 0.0800 - accuracy: 0.9822 - val_loss: 5.3751 - val_accuracy: 0.2951\n",
            "\n",
            "Epoch 00047: val_accuracy did not improve from 0.35768\n",
            "Epoch 48/50\n",
            "38/38 [==============================] - 10s 267ms/step - loss: 0.0733 - accuracy: 0.9821 - val_loss: 5.4575 - val_accuracy: 0.3046\n",
            "\n",
            "Epoch 00048: val_accuracy did not improve from 0.35768\n",
            "Epoch 49/50\n",
            "38/38 [==============================] - 10s 265ms/step - loss: 0.0816 - accuracy: 0.9800 - val_loss: 5.4393 - val_accuracy: 0.2856\n",
            "\n",
            "Epoch 00049: val_accuracy did not improve from 0.35768\n",
            "Epoch 50/50\n",
            "38/38 [==============================] - 10s 267ms/step - loss: 0.0682 - accuracy: 0.9852 - val_loss: 5.4999 - val_accuracy: 0.2951\n",
            "\n",
            "Epoch 00050: val_accuracy did not improve from 0.35768\n"
          ]
        }
      ]
    },
    {
      "cell_type": "code",
      "metadata": {
        "id": "4Lk1iB1_RG_-"
      },
      "source": [
        "import matplotlib.pyplot as plt"
      ],
      "execution_count": 49,
      "outputs": []
    },
    {
      "cell_type": "code",
      "metadata": {
        "colab": {
          "base_uri": "https://localhost:8080/",
          "height": 279
        },
        "id": "zeOzzod4oMO0",
        "outputId": "de2ca690-b582-4bbe-f64f-a9760f942272"
      },
      "source": [
        "plt.plot(history_cnn.history['accuracy'], \n",
        "         label='train accuracy')\n",
        "plt.plot(history_cnn.history['val_accuracy'], \n",
        "         label='val accuracy')\n",
        "plt.xlabel('epoch')\n",
        "plt.ylabel('accuracy')\n",
        "plt.legend()\n",
        "plt.show()"
      ],
      "execution_count": 50,
      "outputs": [
        {
          "output_type": "display_data",
          "data": {
            "image/png": "[encoded data removed]",
            "text/plain": [
              "<Figure size 432x288 with 1 Axes>"
            ]
          },
          "metadata": {
            "needs_background": "light"
          }
        }
      ]
    },
    {
      "cell_type": "code",
      "metadata": {
        "id": "Shjyj9t7nZ5Z"
      },
      "source": [
        "model_lstm = Sequential()\n",
        "model_lstm.add(Embedding(num_words, 32, input_length=max_text_len))\n",
        "model_lstm.add(LSTM(169))\n",
        "model_lstm.add(Dense(13, activation='softmax'))"
      ],
      "execution_count": 51,
      "outputs": []
    },
    {
      "cell_type": "code",
      "metadata": {
        "id": "RMAMEGsVn6e8"
      },
      "source": [
        "model_lstm.compile(optimizer='adam', \n",
        "              loss='categorical_crossentropy', \n",
        "              metrics=['accuracy'])"
      ],
      "execution_count": 52,
      "outputs": []
    },
    {
      "cell_type": "code",
      "metadata": {
        "colab": {
          "base_uri": "https://localhost:8080/"
        },
        "id": "0PiEPEK2n_KK",
        "outputId": "c42243a1-a0d2-4f85-ed5d-94114ec27f22"
      },
      "source": [
        "model_lstm.summary()"
      ],
      "execution_count": 53,
      "outputs": [
        {
          "output_type": "stream",
          "name": "stdout",
          "text": [
            "Model: \"sequential_2\"\n",
            "_________________________________________________________________\n",
            "Layer (type)                 Output Shape              Param #   \n",
            "=================================================================\n",
            "embedding_2 (Embedding)      (None, 100, 32)           96000     \n",
            "_________________________________________________________________\n",
            "lstm (LSTM)                  (None, 169)               136552    \n",
            "_________________________________________________________________\n",
            "dense_4 (Dense)              (None, 13)                2210      \n",
            "=================================================================\n",
            "Total params: 234,762\n",
            "Trainable params: 234,762\n",
            "Non-trainable params: 0\n",
            "_________________________________________________________________\n"
          ]
        }
      ]
    },
    {
      "cell_type": "code",
      "metadata": {
        "id": "Rp21Eej2oBuy"
      },
      "source": [
        "model_lstm_save_path = 'lstm.h5'\n",
        "checkpoint_callback_lstm = ModelCheckpoint(model_lstm_save_path, \n",
        "                                      monitor='val_accuracy',\n",
        "                                      save_best_only=True,\n",
        "                                      verbose=1)"
      ],
      "execution_count": 54,
      "outputs": []
    },
    {
      "cell_type": "code",
      "metadata": {
        "colab": {
          "base_uri": "https://localhost:8080/"
        },
        "id": "sR4X2YszoSPv",
        "outputId": "b9a79ec6-6fd0-4a7b-f544-a5aca183b6c1"
      },
      "source": [
        "history_lstm = model_lstm.fit(X_train, \n",
        "                            Y_train, \n",
        "                            epochs=50,\n",
        "                            validation_data=(X_val, Y_val),\n",
        "                            batch_size=256,\n",
        "                            callbacks=[checkpoint_callback_lstm])"
      ],
      "execution_count": 55,
      "outputs": [
        {
          "output_type": "stream",
          "name": "stdout",
          "text": [
            "Epoch 1/50\n",
            "38/38 [==============================] - 21s 508ms/step - loss: 2.5469 - accuracy: 0.1051 - val_loss: 2.4816 - val_accuracy: 0.1319\n",
            "\n",
            "Epoch 00001: val_accuracy improved from -inf to 0.13188, saving model to lstm.h5\n",
            "Epoch 2/50\n",
            "38/38 [==============================] - 19s 492ms/step - loss: 2.3964 - accuracy: 0.1503 - val_loss: 2.4608 - val_accuracy: 0.1556\n",
            "\n",
            "Epoch 00002: val_accuracy improved from 0.13188 to 0.15560, saving model to lstm.h5\n",
            "Epoch 3/50\n",
            "38/38 [==============================] - 18s 485ms/step - loss: 2.3361 - accuracy: 0.1649 - val_loss: 2.3233 - val_accuracy: 0.1423\n",
            "\n",
            "Epoch 00003: val_accuracy did not improve from 0.15560\n",
            "Epoch 4/50\n",
            "38/38 [==============================] - 18s 486ms/step - loss: 2.2553 - accuracy: 0.1712 - val_loss: 2.4184 - val_accuracy: 0.1765\n",
            "\n",
            "Epoch 00004: val_accuracy improved from 0.15560 to 0.17647, saving model to lstm.h5\n",
            "Epoch 5/50\n",
            "38/38 [==============================] - 18s 476ms/step - loss: 2.1996 - accuracy: 0.2192 - val_loss: 2.3550 - val_accuracy: 0.1954\n",
            "\n",
            "Epoch 00005: val_accuracy improved from 0.17647 to 0.19545, saving model to lstm.h5\n",
            "Epoch 6/50\n",
            "38/38 [==============================] - 18s 481ms/step - loss: 2.1416 - accuracy: 0.2433 - val_loss: 2.2951 - val_accuracy: 0.1765\n",
            "\n",
            "Epoch 00006: val_accuracy did not improve from 0.19545\n",
            "Epoch 7/50\n",
            "38/38 [==============================] - 18s 480ms/step - loss: 2.0779 - accuracy: 0.2683 - val_loss: 2.2462 - val_accuracy: 0.2173\n",
            "\n",
            "Epoch 00007: val_accuracy improved from 0.19545 to 0.21727, saving model to lstm.h5\n",
            "Epoch 8/50\n",
            "38/38 [==============================] - 18s 482ms/step - loss: 2.0449 - accuracy: 0.2940 - val_loss: 2.2051 - val_accuracy: 0.2619\n",
            "\n",
            "Epoch 00008: val_accuracy improved from 0.21727 to 0.26186, saving model to lstm.h5\n",
            "Epoch 9/50\n",
            "38/38 [==============================] - 18s 482ms/step - loss: 1.8847 - accuracy: 0.3445 - val_loss: 2.0970 - val_accuracy: 0.2818\n",
            "\n",
            "Epoch 00009: val_accuracy improved from 0.26186 to 0.28178, saving model to lstm.h5\n",
            "Epoch 10/50\n",
            "38/38 [==============================] - 18s 479ms/step - loss: 1.7821 - accuracy: 0.3805 - val_loss: 2.1141 - val_accuracy: 0.2723\n",
            "\n",
            "Epoch 00010: val_accuracy did not improve from 0.28178\n",
            "Epoch 11/50\n",
            "38/38 [==============================] - 18s 477ms/step - loss: 1.7030 - accuracy: 0.4101 - val_loss: 2.0863 - val_accuracy: 0.2799\n",
            "\n",
            "Epoch 00011: val_accuracy did not improve from 0.28178\n",
            "Epoch 12/50\n",
            "38/38 [==============================] - 18s 482ms/step - loss: 1.7165 - accuracy: 0.4099 - val_loss: 2.1097 - val_accuracy: 0.2808\n",
            "\n",
            "Epoch 00012: val_accuracy did not improve from 0.28178\n",
            "Epoch 13/50\n",
            "38/38 [==============================] - 18s 480ms/step - loss: 1.6252 - accuracy: 0.4341 - val_loss: 2.1119 - val_accuracy: 0.2761\n",
            "\n",
            "Epoch 00013: val_accuracy did not improve from 0.28178\n",
            "Epoch 14/50\n",
            "38/38 [==============================] - 18s 485ms/step - loss: 1.6768 - accuracy: 0.4225 - val_loss: 2.1145 - val_accuracy: 0.2979\n",
            "\n",
            "Epoch 00014: val_accuracy improved from 0.28178 to 0.29791, saving model to lstm.h5\n",
            "Epoch 15/50\n",
            "38/38 [==============================] - 18s 480ms/step - loss: 1.5239 - accuracy: 0.4791 - val_loss: 2.0994 - val_accuracy: 0.3178\n",
            "\n",
            "Epoch 00015: val_accuracy improved from 0.29791 to 0.31784, saving model to lstm.h5\n",
            "Epoch 16/50\n",
            "38/38 [==============================] - 19s 488ms/step - loss: 1.4731 - accuracy: 0.5017 - val_loss: 2.1293 - val_accuracy: 0.3216\n",
            "\n",
            "Epoch 00016: val_accuracy improved from 0.31784 to 0.32163, saving model to lstm.h5\n",
            "Epoch 17/50\n",
            "38/38 [==============================] - 19s 498ms/step - loss: 1.4347 - accuracy: 0.5169 - val_loss: 2.1362 - val_accuracy: 0.3321\n",
            "\n",
            "Epoch 00017: val_accuracy improved from 0.32163 to 0.33207, saving model to lstm.h5\n",
            "Epoch 18/50\n",
            "38/38 [==============================] - 19s 489ms/step - loss: 1.3714 - accuracy: 0.5368 - val_loss: 2.2029 - val_accuracy: 0.3102\n",
            "\n",
            "Epoch 00018: val_accuracy did not improve from 0.33207\n",
            "Epoch 19/50\n",
            "38/38 [==============================] - 19s 487ms/step - loss: 1.3222 - accuracy: 0.5557 - val_loss: 2.2111 - val_accuracy: 0.3311\n",
            "\n",
            "Epoch 00019: val_accuracy did not improve from 0.33207\n",
            "Epoch 20/50\n",
            "38/38 [==============================] - 19s 495ms/step - loss: 1.2724 - accuracy: 0.5810 - val_loss: 2.1528 - val_accuracy: 0.3454\n",
            "\n",
            "Epoch 00020: val_accuracy improved from 0.33207 to 0.34535, saving model to lstm.h5\n",
            "Epoch 21/50\n",
            "38/38 [==============================] - 19s 490ms/step - loss: 1.1828 - accuracy: 0.6093 - val_loss: 2.2573 - val_accuracy: 0.3472\n",
            "\n",
            "Epoch 00021: val_accuracy improved from 0.34535 to 0.34725, saving model to lstm.h5\n",
            "Epoch 22/50\n",
            "38/38 [==============================] - 19s 493ms/step - loss: 1.2065 - accuracy: 0.6003 - val_loss: 2.2811 - val_accuracy: 0.3397\n",
            "\n",
            "Epoch 00022: val_accuracy did not improve from 0.34725\n",
            "Epoch 23/50\n",
            "38/38 [==============================] - 19s 500ms/step - loss: 1.1440 - accuracy: 0.6190 - val_loss: 2.2395 - val_accuracy: 0.3387\n",
            "\n",
            "Epoch 00023: val_accuracy did not improve from 0.34725\n",
            "Epoch 24/50\n",
            "38/38 [==============================] - 19s 503ms/step - loss: 1.1142 - accuracy: 0.6367 - val_loss: 2.3008 - val_accuracy: 0.3283\n",
            "\n",
            "Epoch 00024: val_accuracy did not improve from 0.34725\n",
            "Epoch 25/50\n",
            "38/38 [==============================] - 19s 499ms/step - loss: 1.0594 - accuracy: 0.6554 - val_loss: 2.3796 - val_accuracy: 0.3387\n",
            "\n",
            "Epoch 00025: val_accuracy did not improve from 0.34725\n",
            "Epoch 26/50\n",
            "38/38 [==============================] - 19s 500ms/step - loss: 0.9721 - accuracy: 0.6867 - val_loss: 2.3588 - val_accuracy: 0.3605\n",
            "\n",
            "Epoch 00026: val_accuracy improved from 0.34725 to 0.36053, saving model to lstm.h5\n",
            "Epoch 27/50\n",
            "38/38 [==============================] - 19s 489ms/step - loss: 0.8977 - accuracy: 0.7171 - val_loss: 2.4986 - val_accuracy: 0.3472\n",
            "\n",
            "Epoch 00027: val_accuracy did not improve from 0.36053\n",
            "Epoch 28/50\n",
            "38/38 [==============================] - 19s 491ms/step - loss: 0.8804 - accuracy: 0.7239 - val_loss: 2.5445 - val_accuracy: 0.3454\n",
            "\n",
            "Epoch 00028: val_accuracy did not improve from 0.36053\n",
            "Epoch 29/50\n",
            "38/38 [==============================] - 19s 493ms/step - loss: 0.9173 - accuracy: 0.7062 - val_loss: 2.4433 - val_accuracy: 0.3577\n",
            "\n",
            "Epoch 00029: val_accuracy did not improve from 0.36053\n",
            "Epoch 30/50\n",
            "38/38 [==============================] - 19s 502ms/step - loss: 0.7992 - accuracy: 0.7518 - val_loss: 2.6812 - val_accuracy: 0.3435\n",
            "\n",
            "Epoch 00030: val_accuracy did not improve from 0.36053\n",
            "Epoch 31/50\n",
            "38/38 [==============================] - 19s 498ms/step - loss: 0.7729 - accuracy: 0.7579 - val_loss: 2.6383 - val_accuracy: 0.3387\n",
            "\n",
            "Epoch 00031: val_accuracy did not improve from 0.36053\n",
            "Epoch 32/50\n",
            "38/38 [==============================] - 19s 504ms/step - loss: 0.7093 - accuracy: 0.7825 - val_loss: 2.6617 - val_accuracy: 0.3491\n",
            "\n",
            "Epoch 00032: val_accuracy did not improve from 0.36053\n",
            "Epoch 33/50\n",
            "38/38 [==============================] - 19s 506ms/step - loss: 0.6774 - accuracy: 0.7959 - val_loss: 2.7529 - val_accuracy: 0.3406\n",
            "\n",
            "Epoch 00033: val_accuracy did not improve from 0.36053\n",
            "Epoch 34/50\n",
            "38/38 [==============================] - 19s 497ms/step - loss: 0.6538 - accuracy: 0.7996 - val_loss: 2.8044 - val_accuracy: 0.3340\n",
            "\n",
            "Epoch 00034: val_accuracy did not improve from 0.36053\n",
            "Epoch 35/50\n",
            "38/38 [==============================] - 19s 500ms/step - loss: 0.7274 - accuracy: 0.7782 - val_loss: 2.7448 - val_accuracy: 0.3368\n",
            "\n",
            "Epoch 00035: val_accuracy did not improve from 0.36053\n",
            "Epoch 36/50\n",
            "38/38 [==============================] - 19s 504ms/step - loss: 0.6673 - accuracy: 0.7940 - val_loss: 2.9287 - val_accuracy: 0.3378\n",
            "\n",
            "Epoch 00036: val_accuracy did not improve from 0.36053\n",
            "Epoch 37/50\n",
            "38/38 [==============================] - 18s 485ms/step - loss: 0.5902 - accuracy: 0.8218 - val_loss: 3.0623 - val_accuracy: 0.3359\n",
            "\n",
            "Epoch 00037: val_accuracy did not improve from 0.36053\n",
            "Epoch 38/50\n",
            "38/38 [==============================] - 18s 484ms/step - loss: 0.5996 - accuracy: 0.8199 - val_loss: 3.0738 - val_accuracy: 0.3387\n",
            "\n",
            "Epoch 00038: val_accuracy did not improve from 0.36053\n",
            "Epoch 39/50\n",
            "38/38 [==============================] - 19s 487ms/step - loss: 0.5003 - accuracy: 0.8572 - val_loss: 3.1333 - val_accuracy: 0.3472\n",
            "\n",
            "Epoch 00039: val_accuracy did not improve from 0.36053\n",
            "Epoch 40/50\n",
            "38/38 [==============================] - 18s 484ms/step - loss: 0.4728 - accuracy: 0.8655 - val_loss: 3.3511 - val_accuracy: 0.3245\n",
            "\n",
            "Epoch 00040: val_accuracy did not improve from 0.36053\n",
            "Epoch 41/50\n",
            "38/38 [==============================] - 18s 478ms/step - loss: 0.5162 - accuracy: 0.8487 - val_loss: 3.2151 - val_accuracy: 0.3311\n",
            "\n",
            "Epoch 00041: val_accuracy did not improve from 0.36053\n",
            "Epoch 42/50\n",
            "38/38 [==============================] - 18s 479ms/step - loss: 0.5206 - accuracy: 0.8459 - val_loss: 3.2070 - val_accuracy: 0.3387\n",
            "\n",
            "Epoch 00042: val_accuracy did not improve from 0.36053\n",
            "Epoch 43/50\n",
            "38/38 [==============================] - 18s 482ms/step - loss: 0.4269 - accuracy: 0.8787 - val_loss: 3.3608 - val_accuracy: 0.3491\n",
            "\n",
            "Epoch 00043: val_accuracy did not improve from 0.36053\n",
            "Epoch 44/50\n",
            "38/38 [==============================] - 18s 482ms/step - loss: 0.3850 - accuracy: 0.8949 - val_loss: 3.5748 - val_accuracy: 0.3349\n",
            "\n",
            "Epoch 00044: val_accuracy did not improve from 0.36053\n",
            "Epoch 45/50\n",
            "38/38 [==============================] - 18s 478ms/step - loss: 0.4591 - accuracy: 0.8654 - val_loss: 3.4418 - val_accuracy: 0.3387\n",
            "\n",
            "Epoch 00045: val_accuracy did not improve from 0.36053\n",
            "Epoch 46/50\n",
            "38/38 [==============================] - 18s 478ms/step - loss: 0.4410 - accuracy: 0.8729 - val_loss: 3.4362 - val_accuracy: 0.3169\n",
            "\n",
            "Epoch 00046: val_accuracy did not improve from 0.36053\n",
            "Epoch 47/50\n",
            "38/38 [==============================] - 18s 477ms/step - loss: 0.4206 - accuracy: 0.8773 - val_loss: 3.6042 - val_accuracy: 0.3112\n",
            "\n",
            "Epoch 00047: val_accuracy did not improve from 0.36053\n",
            "Epoch 48/50\n",
            "38/38 [==============================] - 18s 474ms/step - loss: 0.4068 - accuracy: 0.8790 - val_loss: 3.5846 - val_accuracy: 0.3444\n",
            "\n",
            "Epoch 00048: val_accuracy did not improve from 0.36053\n",
            "Epoch 49/50\n",
            "38/38 [==============================] - 18s 478ms/step - loss: 0.3082 - accuracy: 0.9174 - val_loss: 3.7563 - val_accuracy: 0.3416\n",
            "\n",
            "Epoch 00049: val_accuracy did not improve from 0.36053\n",
            "Epoch 50/50\n",
            "38/38 [==============================] - 18s 476ms/step - loss: 0.3466 - accuracy: 0.9040 - val_loss: 3.7571 - val_accuracy: 0.3349\n",
            "\n",
            "Epoch 00050: val_accuracy did not improve from 0.36053\n"
          ]
        }
      ]
    },
    {
      "cell_type": "code",
      "metadata": {
        "colab": {
          "base_uri": "https://localhost:8080/",
          "height": 279
        },
        "id": "dmJmU86YoX4s",
        "outputId": "dd005749-6065-47c7-a5bf-22b97079f54f"
      },
      "source": [
        "plt.plot(history_lstm.history['accuracy'], \n",
        "         label='train accuracy')\n",
        "plt.plot(history_lstm.history['val_accuracy'], \n",
        "         label='val accuracy')\n",
        "plt.xlabel('epoch')\n",
        "plt.ylabel('accuracy')\n",
        "plt.legend()\n",
        "plt.show()"
      ],
      "execution_count": 56,
      "outputs": [
        {
          "output_type": "display_data",
          "data": {
            "image/png": "[encoded data removed]",
            "text/plain": [
              "<Figure size 432x288 with 1 Axes>"
            ]
          },
          "metadata": {
            "needs_background": "light"
          }
        }
      ]
    },
    {
      "cell_type": "code",
      "metadata": {
        "id": "KrcHveiHodga"
      },
      "source": [
        "model_gru = Sequential()\n",
        "model_gru.add(Embedding(num_words, 32, input_length=max_text_len))\n",
        "model_gru.add(GRU(169))\n",
        "model_gru.add(Dense(13, activation='softmax'))"
      ],
      "execution_count": 57,
      "outputs": []
    },
    {
      "cell_type": "code",
      "metadata": {
        "id": "HO4-vG_Joh1p"
      },
      "source": [
        "model_gru.compile(optimizer='adam', \n",
        "              loss='categorical_crossentropy', \n",
        "              metrics=['accuracy'])"
      ],
      "execution_count": 58,
      "outputs": []
    },
    {
      "cell_type": "code",
      "metadata": {
        "colab": {
          "base_uri": "https://localhost:8080/"
        },
        "id": "X1wOoKhJokmc",
        "outputId": "8ab7edfc-3ccf-4633-aabb-d5c244f9ee36"
      },
      "source": [
        "model_gru.summary()"
      ],
      "execution_count": 59,
      "outputs": [
        {
          "output_type": "stream",
          "name": "stdout",
          "text": [
            "Model: \"sequential_3\"\n",
            "_________________________________________________________________\n",
            "Layer (type)                 Output Shape              Param #   \n",
            "=================================================================\n",
            "embedding_3 (Embedding)      (None, 100, 32)           96000     \n",
            "_________________________________________________________________\n",
            "gru (GRU)                    (None, 169)               102921    \n",
            "_________________________________________________________________\n",
            "dense_5 (Dense)              (None, 13)                2210      \n",
            "=================================================================\n",
            "Total params: 201,131\n",
            "Trainable params: 201,131\n",
            "Non-trainable params: 0\n",
            "_________________________________________________________________\n"
          ]
        }
      ]
    },
    {
      "cell_type": "code",
      "metadata": {
        "id": "x5JspntRonFX"
      },
      "source": [
        "model_gru_save_path = 'gru.h5'\n",
        "checkpoint_callback_gru = ModelCheckpoint(model_gru_save_path, \n",
        "                                      monitor='val_accuracy',\n",
        "                                      save_best_only=True,\n",
        "                                      verbose=1)"
      ],
      "execution_count": 60,
      "outputs": []
    },
    {
      "cell_type": "code",
      "metadata": {
        "colab": {
          "base_uri": "https://localhost:8080/"
        },
        "id": "MjwAEIBdu0R9",
        "outputId": "0bbf6ec5-5327-488a-d5e7-95ba609479c7"
      },
      "source": [
        "upd_history_gru = model_gru.fit(X_train, \n",
        "                            Y_train, \n",
        "                            epochs=50,\n",
        "                            validation_data=(X_val, Y_val),\n",
        "                            batch_size=256,\n",
        "                            callbacks=[checkpoint_callback_gru])"
      ],
      "execution_count": 62,
      "outputs": [
        {
          "output_type": "stream",
          "name": "stdout",
          "text": [
            "Epoch 1/50\n",
            "38/38 [==============================] - 17s 397ms/step - loss: 2.5642 - accuracy: 0.0874 - val_loss: 2.5587 - val_accuracy: 0.1195\n",
            "\n",
            "Epoch 00001: val_accuracy improved from -inf to 0.11954, saving model to gru.h5\n",
            "Epoch 2/50\n",
            "38/38 [==============================] - 15s 393ms/step - loss: 2.5143 - accuracy: 0.1460 - val_loss: 2.3852 - val_accuracy: 0.1755\n",
            "\n",
            "Epoch 00002: val_accuracy improved from 0.11954 to 0.17552, saving model to gru.h5\n",
            "Epoch 3/50\n",
            "38/38 [==============================] - 15s 390ms/step - loss: 2.2434 - accuracy: 0.2337 - val_loss: 2.1987 - val_accuracy: 0.2353\n",
            "\n",
            "Epoch 00003: val_accuracy improved from 0.17552 to 0.23529, saving model to gru.h5\n",
            "Epoch 4/50\n",
            "38/38 [==============================] - 15s 392ms/step - loss: 2.0751 - accuracy: 0.2849 - val_loss: 2.1364 - val_accuracy: 0.2552\n",
            "\n",
            "Epoch 00004: val_accuracy improved from 0.23529 to 0.25522, saving model to gru.h5\n",
            "Epoch 5/50\n",
            "38/38 [==============================] - 15s 388ms/step - loss: 1.9569 - accuracy: 0.3330 - val_loss: 2.1716 - val_accuracy: 0.2486\n",
            "\n",
            "Epoch 00005: val_accuracy did not improve from 0.25522\n",
            "Epoch 6/50\n",
            "38/38 [==============================] - 15s 391ms/step - loss: 1.8538 - accuracy: 0.3736 - val_loss: 2.1020 - val_accuracy: 0.2894\n",
            "\n",
            "Epoch 00006: val_accuracy improved from 0.25522 to 0.28937, saving model to gru.h5\n",
            "Epoch 7/50\n",
            "38/38 [==============================] - 15s 390ms/step - loss: 1.7389 - accuracy: 0.4076 - val_loss: 2.0979 - val_accuracy: 0.2789\n",
            "\n",
            "Epoch 00007: val_accuracy did not improve from 0.28937\n",
            "Epoch 8/50\n",
            "38/38 [==============================] - 15s 390ms/step - loss: 1.6469 - accuracy: 0.4368 - val_loss: 2.0882 - val_accuracy: 0.3017\n",
            "\n",
            "Epoch 00008: val_accuracy improved from 0.28937 to 0.30171, saving model to gru.h5\n",
            "Epoch 9/50\n",
            "38/38 [==============================] - 15s 389ms/step - loss: 1.5758 - accuracy: 0.4627 - val_loss: 2.1017 - val_accuracy: 0.3065\n",
            "\n",
            "Epoch 00009: val_accuracy improved from 0.30171 to 0.30645, saving model to gru.h5\n",
            "Epoch 10/50\n",
            "38/38 [==============================] - 15s 387ms/step - loss: 1.5488 - accuracy: 0.4757 - val_loss: 2.1031 - val_accuracy: 0.3112\n",
            "\n",
            "Epoch 00010: val_accuracy improved from 0.30645 to 0.31120, saving model to gru.h5\n",
            "Epoch 11/50\n",
            "38/38 [==============================] - 15s 390ms/step - loss: 1.4256 - accuracy: 0.5218 - val_loss: 2.2165 - val_accuracy: 0.3207\n",
            "\n",
            "Epoch 00011: val_accuracy improved from 0.31120 to 0.32068, saving model to gru.h5\n",
            "Epoch 12/50\n",
            "38/38 [==============================] - 15s 386ms/step - loss: 1.3754 - accuracy: 0.5406 - val_loss: 2.2668 - val_accuracy: 0.3055\n",
            "\n",
            "Epoch 00012: val_accuracy did not improve from 0.32068\n",
            "Epoch 13/50\n",
            "38/38 [==============================] - 15s 386ms/step - loss: 1.2935 - accuracy: 0.5693 - val_loss: 2.2524 - val_accuracy: 0.2970\n",
            "\n",
            "Epoch 00013: val_accuracy did not improve from 0.32068\n",
            "Epoch 14/50\n",
            "38/38 [==============================] - 15s 385ms/step - loss: 1.2534 - accuracy: 0.5856 - val_loss: 2.3527 - val_accuracy: 0.3131\n",
            "\n",
            "Epoch 00014: val_accuracy did not improve from 0.32068\n",
            "Epoch 15/50\n",
            "38/38 [==============================] - 15s 387ms/step - loss: 1.1876 - accuracy: 0.6003 - val_loss: 2.4836 - val_accuracy: 0.2998\n",
            "\n",
            "Epoch 00015: val_accuracy did not improve from 0.32068\n",
            "Epoch 16/50\n",
            "38/38 [==============================] - 15s 385ms/step - loss: 1.1304 - accuracy: 0.6235 - val_loss: 2.4364 - val_accuracy: 0.2989\n",
            "\n",
            "Epoch 00016: val_accuracy did not improve from 0.32068\n",
            "Epoch 17/50\n",
            "38/38 [==============================] - 15s 389ms/step - loss: 1.0833 - accuracy: 0.6440 - val_loss: 2.5739 - val_accuracy: 0.2780\n",
            "\n",
            "Epoch 00017: val_accuracy did not improve from 0.32068\n",
            "Epoch 18/50\n",
            "38/38 [==============================] - 15s 385ms/step - loss: 1.0885 - accuracy: 0.6332 - val_loss: 2.5837 - val_accuracy: 0.3074\n",
            "\n",
            "Epoch 00018: val_accuracy did not improve from 0.32068\n",
            "Epoch 19/50\n",
            "38/38 [==============================] - 15s 389ms/step - loss: 1.0149 - accuracy: 0.6672 - val_loss: 2.6349 - val_accuracy: 0.3027\n",
            "\n",
            "Epoch 00019: val_accuracy did not improve from 0.32068\n",
            "Epoch 20/50\n",
            "38/38 [==============================] - 15s 386ms/step - loss: 0.9419 - accuracy: 0.6958 - val_loss: 2.7396 - val_accuracy: 0.2808\n",
            "\n",
            "Epoch 00020: val_accuracy did not improve from 0.32068\n",
            "Epoch 21/50\n",
            "38/38 [==============================] - 15s 394ms/step - loss: 0.9203 - accuracy: 0.6995 - val_loss: 2.8725 - val_accuracy: 0.2818\n",
            "\n",
            "Epoch 00021: val_accuracy did not improve from 0.32068\n",
            "Epoch 22/50\n",
            "38/38 [==============================] - 15s 384ms/step - loss: 0.9508 - accuracy: 0.6907 - val_loss: 2.8555 - val_accuracy: 0.3121\n",
            "\n",
            "Epoch 00022: val_accuracy did not improve from 0.32068\n",
            "Epoch 23/50\n",
            "38/38 [==============================] - 15s 390ms/step - loss: 0.8110 - accuracy: 0.7453 - val_loss: 2.8775 - val_accuracy: 0.3055\n",
            "\n",
            "Epoch 00023: val_accuracy did not improve from 0.32068\n",
            "Epoch 24/50\n",
            "38/38 [==============================] - 15s 393ms/step - loss: 0.7861 - accuracy: 0.7498 - val_loss: 3.0834 - val_accuracy: 0.2922\n",
            "\n",
            "Epoch 00024: val_accuracy did not improve from 0.32068\n",
            "Epoch 25/50\n",
            "38/38 [==============================] - 15s 390ms/step - loss: 0.7722 - accuracy: 0.7553 - val_loss: 3.1141 - val_accuracy: 0.2922\n",
            "\n",
            "Epoch 00025: val_accuracy did not improve from 0.32068\n",
            "Epoch 26/50\n",
            "38/38 [==============================] - 15s 388ms/step - loss: 0.8001 - accuracy: 0.7382 - val_loss: 3.1318 - val_accuracy: 0.3074\n",
            "\n",
            "Epoch 00026: val_accuracy did not improve from 0.32068\n",
            "Epoch 27/50\n",
            "38/38 [==============================] - 15s 387ms/step - loss: 0.7077 - accuracy: 0.7802 - val_loss: 3.1645 - val_accuracy: 0.2951\n",
            "\n",
            "Epoch 00027: val_accuracy did not improve from 0.32068\n",
            "Epoch 28/50\n",
            "38/38 [==============================] - 15s 384ms/step - loss: 0.6634 - accuracy: 0.7935 - val_loss: 3.2573 - val_accuracy: 0.3131\n",
            "\n",
            "Epoch 00028: val_accuracy did not improve from 0.32068\n",
            "Epoch 29/50\n",
            "38/38 [==============================] - 15s 389ms/step - loss: 0.5963 - accuracy: 0.8227 - val_loss: 3.4026 - val_accuracy: 0.2903\n",
            "\n",
            "Epoch 00029: val_accuracy did not improve from 0.32068\n",
            "Epoch 30/50\n",
            "38/38 [==============================] - 15s 389ms/step - loss: 0.6184 - accuracy: 0.8088 - val_loss: 3.6526 - val_accuracy: 0.3083\n",
            "\n",
            "Epoch 00030: val_accuracy did not improve from 0.32068\n",
            "Epoch 31/50\n",
            "38/38 [==============================] - 15s 389ms/step - loss: 0.6268 - accuracy: 0.8066 - val_loss: 3.7706 - val_accuracy: 0.2818\n",
            "\n",
            "Epoch 00031: val_accuracy did not improve from 0.32068\n",
            "Epoch 32/50\n",
            "38/38 [==============================] - 15s 386ms/step - loss: 0.8698 - accuracy: 0.7245 - val_loss: 3.2924 - val_accuracy: 0.2903\n",
            "\n",
            "Epoch 00032: val_accuracy did not improve from 0.32068\n",
            "Epoch 33/50\n",
            "38/38 [==============================] - 15s 388ms/step - loss: 0.5675 - accuracy: 0.8245 - val_loss: 3.4873 - val_accuracy: 0.3131\n",
            "\n",
            "Epoch 00033: val_accuracy did not improve from 0.32068\n",
            "Epoch 34/50\n",
            "38/38 [==============================] - 15s 386ms/step - loss: 0.4900 - accuracy: 0.8586 - val_loss: 3.6320 - val_accuracy: 0.3036\n",
            "\n",
            "Epoch 00034: val_accuracy did not improve from 0.32068\n",
            "Epoch 35/50\n",
            "38/38 [==============================] - 15s 387ms/step - loss: 0.4366 - accuracy: 0.8776 - val_loss: 3.8004 - val_accuracy: 0.3046\n",
            "\n",
            "Epoch 00035: val_accuracy did not improve from 0.32068\n",
            "Epoch 36/50\n",
            "38/38 [==============================] - 15s 388ms/step - loss: 0.4267 - accuracy: 0.8813 - val_loss: 3.8800 - val_accuracy: 0.2932\n",
            "\n",
            "Epoch 00036: val_accuracy did not improve from 0.32068\n",
            "Epoch 37/50\n",
            "38/38 [==============================] - 15s 386ms/step - loss: 0.4824 - accuracy: 0.8577 - val_loss: 3.9514 - val_accuracy: 0.2913\n",
            "\n",
            "Epoch 00037: val_accuracy did not improve from 0.32068\n",
            "Epoch 38/50\n",
            "38/38 [==============================] - 15s 390ms/step - loss: 0.3866 - accuracy: 0.8938 - val_loss: 4.0288 - val_accuracy: 0.2913\n",
            "\n",
            "Epoch 00038: val_accuracy did not improve from 0.32068\n",
            "Epoch 39/50\n",
            "38/38 [==============================] - 15s 388ms/step - loss: 0.3638 - accuracy: 0.8970 - val_loss: 4.1492 - val_accuracy: 0.2856\n",
            "\n",
            "Epoch 00039: val_accuracy did not improve from 0.32068\n",
            "Epoch 40/50\n",
            "38/38 [==============================] - 15s 391ms/step - loss: 0.3901 - accuracy: 0.8865 - val_loss: 4.1577 - val_accuracy: 0.2827\n",
            "\n",
            "Epoch 00040: val_accuracy did not improve from 0.32068\n",
            "Epoch 41/50\n",
            "38/38 [==============================] - 15s 389ms/step - loss: 0.3597 - accuracy: 0.8971 - val_loss: 4.2809 - val_accuracy: 0.2884\n",
            "\n",
            "Epoch 00041: val_accuracy did not improve from 0.32068\n",
            "Epoch 42/50\n",
            "38/38 [==============================] - 15s 397ms/step - loss: 0.3126 - accuracy: 0.9160 - val_loss: 4.3346 - val_accuracy: 0.2960\n",
            "\n",
            "Epoch 00042: val_accuracy did not improve from 0.32068\n",
            "Epoch 43/50\n",
            "38/38 [==============================] - 15s 395ms/step - loss: 0.2804 - accuracy: 0.9286 - val_loss: 4.4559 - val_accuracy: 0.2951\n",
            "\n",
            "Epoch 00043: val_accuracy did not improve from 0.32068\n",
            "Epoch 44/50\n",
            "38/38 [==============================] - 15s 394ms/step - loss: 0.2714 - accuracy: 0.9278 - val_loss: 4.5829 - val_accuracy: 0.2979\n",
            "\n",
            "Epoch 00044: val_accuracy did not improve from 0.32068\n",
            "Epoch 45/50\n",
            "38/38 [==============================] - 15s 396ms/step - loss: 0.2446 - accuracy: 0.9385 - val_loss: 4.8104 - val_accuracy: 0.2875\n",
            "\n",
            "Epoch 00045: val_accuracy did not improve from 0.32068\n",
            "Epoch 46/50\n",
            "38/38 [==============================] - 15s 398ms/step - loss: 0.3425 - accuracy: 0.8980 - val_loss: 4.7269 - val_accuracy: 0.2837\n",
            "\n",
            "Epoch 00046: val_accuracy did not improve from 0.32068\n",
            "Epoch 47/50\n",
            "38/38 [==============================] - 15s 392ms/step - loss: 0.2522 - accuracy: 0.9362 - val_loss: 4.8237 - val_accuracy: 0.2770\n",
            "\n",
            "Epoch 00047: val_accuracy did not improve from 0.32068\n",
            "Epoch 48/50\n",
            "38/38 [==============================] - 15s 394ms/step - loss: 0.3010 - accuracy: 0.9111 - val_loss: 4.8124 - val_accuracy: 0.2761\n",
            "\n",
            "Epoch 00048: val_accuracy did not improve from 0.32068\n",
            "Epoch 49/50\n",
            "38/38 [==============================] - 15s 391ms/step - loss: 0.8062 - accuracy: 0.7593 - val_loss: 4.1656 - val_accuracy: 0.2799\n",
            "\n",
            "Epoch 00049: val_accuracy did not improve from 0.32068\n",
            "Epoch 50/50\n",
            "38/38 [==============================] - 15s 391ms/step - loss: 0.4377 - accuracy: 0.8609 - val_loss: 4.3848 - val_accuracy: 0.2884\n",
            "\n",
            "Epoch 00050: val_accuracy did not improve from 0.32068\n"
          ]
        }
      ]
    },
    {
      "cell_type": "code",
      "metadata": {
        "colab": {
          "base_uri": "https://localhost:8080/",
          "height": 279
        },
        "id": "vFfVyZF8vGHw",
        "outputId": "972bbd76-f658-428e-dc6f-1cccab4ea200"
      },
      "source": [
        "plt.plot(upd_history_gru.history['accuracy'], \n",
        "         label='train accuracy')\n",
        "plt.plot(upd_history_gru.history['val_accuracy'], \n",
        "         label='val accuracy')\n",
        "plt.xlabel('epoch')\n",
        "plt.ylabel('accuracy')\n",
        "plt.legend()\n",
        "plt.show()"
      ],
      "execution_count": 64,
      "outputs": [
        {
          "output_type": "display_data",
          "data": {
            "image/png": "[encoded data removed]",
            "text/plain": [
              "<Figure size 432x288 with 1 Axes>"
            ]
          },
          "metadata": {
            "needs_background": "light"
          }
        }
      ]
    },
    {
      "cell_type": "code",
      "metadata": {
        "id": "Ww2zb1H4GHpZ"
      },
      "source": [
        "x_test = test['MESSAGE']\n",
        "y_test = utils.to_categorical(test['THEME'],file_names_size)"
      ],
      "execution_count": 65,
      "outputs": []
    },
    {
      "cell_type": "code",
      "metadata": {
        "id": "QFk-H0MryIVB"
      },
      "source": [
        "upd_x_test = []\n",
        "i = 0\n",
        "\n",
        "for i in x_test:\n",
        "  upd_test = token_and_stem(i)\n",
        "  upd_x_test.append(upd_test)"
      ],
      "execution_count": 66,
      "outputs": []
    },
    {
      "cell_type": "code",
      "metadata": {
        "id": "3NrlczLsxuQJ"
      },
      "source": [
        "tokens = []\n",
        "test = []\n",
        "\n",
        "for x_tr in upd_x_test:\n",
        "  for token in x_tr:\n",
        "    if token not in stopwords:\n",
        "      tokens.append(token)\n",
        "  test.append(tokens)\n",
        "  tokens = []"
      ],
      "execution_count": 67,
      "outputs": []
    },
    {
      "cell_type": "code",
      "metadata": {
        "id": "mF6lUdjUFzwH"
      },
      "source": [
        "test_sequences = tokenizer.texts_to_sequences(test)\n",
        "x_test = pad_sequences(test_sequences, maxlen=max_text_len)"
      ],
      "execution_count": 68,
      "outputs": []
    },
    {
      "cell_type": "code",
      "metadata": {
        "colab": {
          "base_uri": "https://localhost:8080/"
        },
        "id": "bKjQOHYNo40j",
        "outputId": "e457ed08-858b-42ce-8ae3-3acf4d6a2dab"
      },
      "source": [
        "model_cnn.load_weights(model_cnn_save_path)\n",
        "model_cnn.evaluate(x_test, y_test, verbose=1)"
      ],
      "execution_count": 69,
      "outputs": [
        {
          "output_type": "stream",
          "name": "stdout",
          "text": [
            "83/83 [==============================] - 1s 10ms/step - loss: 2.0555 - accuracy: 0.3685\n"
          ]
        },
        {
          "output_type": "execute_result",
          "data": {
            "text/plain": [
              "[2.0555338859558105, 0.3684609532356262]"
            ]
          },
          "metadata": {},
          "execution_count": 69
        }
      ]
    },
    {
      "cell_type": "code",
      "metadata": {
        "colab": {
          "base_uri": "https://localhost:8080/"
        },
        "id": "nUCnHeTpNN-4",
        "outputId": "d235cce3-2fde-4c8a-c50c-e80492fe77c7"
      },
      "source": [
        "from sklearn.metrics import classification_report\n",
        "pred = model_cnn.predict(x_test, batch_size = 32)\n",
        "pred = np.argmax(pred, axis=1)\n",
        "answer_y_test = np.argmax(y_test, axis=1)\n",
        "print(classification_report(answer_y_test, pred))"
      ],
      "execution_count": 77,
      "outputs": [
        {
          "output_type": "stream",
          "name": "stdout",
          "text": [
            "              precision    recall  f1-score   support\n",
            "\n",
            "           0       0.46      0.47      0.47       202\n",
            "           1       0.37      0.47      0.42       201\n",
            "           2       0.45      0.51      0.48       202\n",
            "           3       0.11      0.08      0.09       201\n",
            "           4       0.23      0.22      0.22       202\n",
            "           5       0.29      0.26      0.28       203\n",
            "           6       0.31      0.36      0.34       203\n",
            "           7       0.44      0.31      0.37       203\n",
            "           8       0.37      0.49      0.42       205\n",
            "           9       0.47      0.59      0.52       203\n",
            "          10       0.18      0.14      0.16       204\n",
            "          11       0.28      0.20      0.23       204\n",
            "          12       0.64      0.68      0.66       205\n",
            "\n",
            "    accuracy                           0.37      2638\n",
            "   macro avg       0.36      0.37      0.36      2638\n",
            "weighted avg       0.36      0.37      0.36      2638\n",
            "\n"
          ]
        }
      ]
    },
    {
      "cell_type": "code",
      "metadata": {
        "id": "KaD1D7Gwo9Na",
        "colab": {
          "base_uri": "https://localhost:8080/"
        },
        "outputId": "125c7b34-f7da-4961-c951-2b3cd1f94440"
      },
      "source": [
        "model_lstm.load_weights(model_lstm_save_path)\n",
        "model_lstm.evaluate(x_test, y_test, verbose=1)"
      ],
      "execution_count": 70,
      "outputs": [
        {
          "output_type": "stream",
          "name": "stdout",
          "text": [
            "83/83 [==============================] - 3s 39ms/step - loss: 2.4022 - accuracy: 0.3495\n"
          ]
        },
        {
          "output_type": "execute_result",
          "data": {
            "text/plain": [
              "[2.4021568298339844, 0.349507212638855]"
            ]
          },
          "metadata": {},
          "execution_count": 70
        }
      ]
    },
    {
      "cell_type": "code",
      "metadata": {
        "colab": {
          "base_uri": "https://localhost:8080/"
        },
        "id": "cyTBK1jINcss",
        "outputId": "49a33f34-97b6-4768-84ce-000715e1caa3"
      },
      "source": [
        "pred = model_lstm.predict(x_test, batch_size = 32)\n",
        "pred = np.argmax(pred, axis=1)\n",
        "answer_y_test = np.argmax(y_test, axis=1)\n",
        "print(classification_report(answer_y_test, pred))"
      ],
      "execution_count": 78,
      "outputs": [
        {
          "output_type": "stream",
          "name": "stdout",
          "text": [
            "              precision    recall  f1-score   support\n",
            "\n",
            "           0       0.40      0.40      0.40       202\n",
            "           1       0.37      0.42      0.39       201\n",
            "           2       0.49      0.41      0.44       202\n",
            "           3       0.10      0.05      0.07       201\n",
            "           4       0.23      0.33      0.27       202\n",
            "           5       0.28      0.23      0.25       203\n",
            "           6       0.34      0.38      0.36       203\n",
            "           7       0.42      0.35      0.38       203\n",
            "           8       0.33      0.47      0.39       205\n",
            "           9       0.59      0.38      0.46       203\n",
            "          10       0.16      0.15      0.15       204\n",
            "          11       0.26      0.37      0.30       204\n",
            "          12       0.68      0.60      0.64       205\n",
            "\n",
            "    accuracy                           0.35      2638\n",
            "   macro avg       0.36      0.35      0.35      2638\n",
            "weighted avg       0.36      0.35      0.35      2638\n",
            "\n"
          ]
        }
      ]
    },
    {
      "cell_type": "code",
      "metadata": {
        "id": "cWo03kTppDB6",
        "colab": {
          "base_uri": "https://localhost:8080/"
        },
        "outputId": "e94937e6-4490-451d-deed-d3a22f7140cc"
      },
      "source": [
        "model_gru.load_weights(model_gru_save_path)\n",
        "model_gru.evaluate(x_test, y_test, verbose=1)"
      ],
      "execution_count": 71,
      "outputs": [
        {
          "output_type": "stream",
          "name": "stdout",
          "text": [
            "83/83 [==============================] - 2s 25ms/step - loss: 2.2184 - accuracy: 0.3184\n"
          ]
        },
        {
          "output_type": "execute_result",
          "data": {
            "text/plain": [
              "[2.218365430831909, 0.3184230625629425]"
            ]
          },
          "metadata": {},
          "execution_count": 71
        }
      ]
    },
    {
      "cell_type": "code",
      "metadata": {
        "colab": {
          "base_uri": "https://localhost:8080/"
        },
        "id": "7qSLQqkiNwPH",
        "outputId": "b364fa4b-1824-4c98-c1cf-826c1f2d6a64"
      },
      "source": [
        "pred = model_gru.predict(x_test, batch_size = 32)\n",
        "pred = np.argmax(pred, axis=1)\n",
        "answer_y_test = np.argmax(y_test, axis=1)\n",
        "print(classification_report(answer_y_test, pred))"
      ],
      "execution_count": 79,
      "outputs": [
        {
          "output_type": "stream",
          "name": "stdout",
          "text": [
            "              precision    recall  f1-score   support\n",
            "\n",
            "           0       0.39      0.49      0.43       202\n",
            "           1       0.32      0.30      0.31       201\n",
            "           2       0.42      0.34      0.38       202\n",
            "           3       0.11      0.05      0.07       201\n",
            "           4       0.19      0.21      0.20       202\n",
            "           5       0.20      0.15      0.17       203\n",
            "           6       0.24      0.31      0.27       203\n",
            "           7       0.37      0.24      0.29       203\n",
            "           8       0.31      0.48      0.38       205\n",
            "           9       0.44      0.62      0.51       203\n",
            "          10       0.19      0.12      0.15       204\n",
            "          11       0.20      0.21      0.20       204\n",
            "          12       0.58      0.62      0.60       205\n",
            "\n",
            "    accuracy                           0.32      2638\n",
            "   macro avg       0.30      0.32      0.30      2638\n",
            "weighted avg       0.30      0.32      0.30      2638\n",
            "\n"
          ]
        }
      ]
    },
    {
      "cell_type": "code",
      "metadata": {
        "colab": {
          "base_uri": "https://localhost:8080/",
          "height": 789
        },
        "id": "paMoDw3MGmfl",
        "outputId": "c3275394-d63b-4765-c259-ef8a89b8056c"
      },
      "source": [
        "plt.plot(history_cnn.history['accuracy'], \n",
        "         label='cnn train accuracy')\n",
        "plt.plot(history_cnn.history['val_accuracy'], \n",
        "         label='cnn val accuracy')\n",
        "\n",
        "plt.plot(history_lstm.history['accuracy'], \n",
        "         label='lstm train accuracy')\n",
        "plt.plot(history_lstm.history['val_accuracy'], \n",
        "         label='lstm val accuracy')\n",
        "\n",
        "plt.plot(upd_history_gru.history['accuracy'], \n",
        "         label='gru train accuracy')\n",
        "plt.plot(upd_history_gru.history['val_accuracy'], \n",
        "         label='gru val accuracy')\n",
        "\n",
        "plt.xlabel('epoch')\n",
        "plt.ylabel('accuracy')\n",
        "plt.rcParams[\"figure.figsize\"] = (35,15)\n",
        "plt.legend()\n",
        "plt.show()"
      ],
      "execution_count": 76,
      "outputs": [
        {
          "output_type": "display_data",
          "data": {
            "image/png": "[encoded data removed]",
            "text/plain": [
              "<Figure size 2520x1080 with 1 Axes>"
            ]
          },
          "metadata": {
            "needs_background": "light"
          }
        }
      ]
    }
  ]
}