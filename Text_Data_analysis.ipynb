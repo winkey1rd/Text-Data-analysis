{
  "nbformat": 4,
  "nbformat_minor": 0,
  "metadata": {
    "colab": {
      "name": "Text-Data-analysis.ipynb",
      "provenance": [],
      "collapsed_sections": [],
      "authorship_tag": "ABX9TyMo9rO5bDI/UjlGufbkFmWo"
    },
    "kernelspec": {
      "name": "python3",
      "display_name": "Python 3"
    },
    "language_info": {
      "name": "python"
    },
    "accelerator": "GPU"
  },
  "cells": [
    {
      "cell_type": "code",
      "metadata": {
        "colab": {
          "resources": {
            "http://localhost:8080/nbextensions/google.colab/files.js": {
              "data": "Ly8gQ29weXJpZ2h0IDIwMTcgR29vZ2xlIExMQwovLwovLyBMaWNlbnNlZCB1bmRlciB0aGUgQXBhY2hlIExpY2Vuc2UsIFZlcnNpb24gMi4wICh0aGUgIkxpY2Vuc2UiKTsKLy8geW91IG1heSBub3QgdXNlIHRoaXMgZmlsZSBleGNlcHQgaW4gY29tcGxpYW5jZSB3aXRoIHRoZSBMaWNlbnNlLgovLyBZb3UgbWF5IG9idGFpbiBhIGNvcHkgb2YgdGhlIExpY2Vuc2UgYXQKLy8KLy8gICAgICBodHRwOi8vd3d3LmFwYWNoZS5vcmcvbGljZW5zZXMvTElDRU5TRS0yLjAKLy8KLy8gVW5sZXNzIHJlcXVpcmVkIGJ5IGFwcGxpY2FibGUgbGF3IG9yIGFncmVlZCB0byBpbiB3cml0aW5nLCBzb2Z0d2FyZQovLyBkaXN0cmlidXRlZCB1bmRlciB0aGUgTGljZW5zZSBpcyBkaXN0cmlidXRlZCBvbiBhbiAiQVMgSVMiIEJBU0lTLAovLyBXSVRIT1VUIFdBUlJBTlRJRVMgT1IgQ09ORElUSU9OUyBPRiBBTlkgS0lORCwgZWl0aGVyIGV4cHJlc3Mgb3IgaW1wbGllZC4KLy8gU2VlIHRoZSBMaWNlbnNlIGZvciB0aGUgc3BlY2lmaWMgbGFuZ3VhZ2UgZ292ZXJuaW5nIHBlcm1pc3Npb25zIGFuZAovLyBsaW1pdGF0aW9ucyB1bmRlciB0aGUgTGljZW5zZS4KCi8qKgogKiBAZmlsZW92ZXJ2aWV3IEhlbHBlcnMgZm9yIGdvb2dsZS5jb2xhYiBQeXRob24gbW9kdWxlLgogKi8KKGZ1bmN0aW9uKHNjb3BlKSB7CmZ1bmN0aW9uIHNwYW4odGV4dCwgc3R5bGVBdHRyaWJ1dGVzID0ge30pIHsKICBjb25zdCBlbGVtZW50ID0gZG9jdW1lbnQuY3JlYXRlRWxlbWVudCgnc3BhbicpOwogIGVsZW1lbnQudGV4dENvbnRlbnQgPSB0ZXh0OwogIGZvciAoY29uc3Qga2V5IG9mIE9iamVjdC5rZXlzKHN0eWxlQXR0cmlidXRlcykpIHsKICAgIGVsZW1lbnQuc3R5bGVba2V5XSA9IHN0eWxlQXR0cmlidXRlc1trZXldOwogIH0KICByZXR1cm4gZWxlbWVudDsKfQoKLy8gTWF4IG51bWJlciBvZiBieXRlcyB3aGljaCB3aWxsIGJlIHVwbG9hZGVkIGF0IGEgdGltZS4KY29uc3QgTUFYX1BBWUxPQURfU0laRSA9IDEwMCAqIDEwMjQ7CgpmdW5jdGlvbiBfdXBsb2FkRmlsZXMoaW5wdXRJZCwgb3V0cHV0SWQpIHsKICBjb25zdCBzdGVwcyA9IHVwbG9hZEZpbGVzU3RlcChpbnB1dElkLCBvdXRwdXRJZCk7CiAgY29uc3Qgb3V0cHV0RWxlbWVudCA9IGRvY3VtZW50LmdldEVsZW1lbnRCeUlkKG91dHB1dElkKTsKICAvLyBDYWNoZSBzdGVwcyBvbiB0aGUgb3V0cHV0RWxlbWVudCB0byBtYWtlIGl0IGF2YWlsYWJsZSBmb3IgdGhlIG5leHQgY2FsbAogIC8vIHRvIHVwbG9hZEZpbGVzQ29udGludWUgZnJvbSBQeXRob24uCiAgb3V0cHV0RWxlbWVudC5zdGVwcyA9IHN0ZXBzOwoKICByZXR1cm4gX3VwbG9hZEZpbGVzQ29udGludWUob3V0cHV0SWQpOwp9CgovLyBUaGlzIGlzIHJvdWdobHkgYW4gYXN5bmMgZ2VuZXJhdG9yIChub3Qgc3VwcG9ydGVkIGluIHRoZSBicm93c2VyIHlldCksCi8vIHdoZXJlIHRoZXJlIGFyZSBtdWx0aXBsZSBhc3luY2hyb25vdXMgc3RlcHMgYW5kIHRoZSBQeXRob24gc2lkZSBpcyBnb2luZwovLyB0byBwb2xsIGZvciBjb21wbGV0aW9uIG9mIGVhY2ggc3RlcC4KLy8gVGhpcyB1c2VzIGEgUHJvbWlzZSB0byBibG9jayB0aGUgcHl0aG9uIHNpZGUgb24gY29tcGxldGlvbiBvZiBlYWNoIHN0ZXAsCi8vIHRoZW4gcGFzc2VzIHRoZSByZXN1bHQgb2YgdGhlIHByZXZpb3VzIHN0ZXAgYXMgdGhlIGlucHV0IHRvIHRoZSBuZXh0IHN0ZXAuCmZ1bmN0aW9uIF91cGxvYWRGaWxlc0NvbnRpbnVlKG91dHB1dElkKSB7CiAgY29uc3Qgb3V0cHV0RWxlbWVudCA9IGRvY3VtZW50LmdldEVsZW1lbnRCeUlkKG91dHB1dElkKTsKICBjb25zdCBzdGVwcyA9IG91dHB1dEVsZW1lbnQuc3RlcHM7CgogIGNvbnN0IG5leHQgPSBzdGVwcy5uZXh0KG91dHB1dEVsZW1lbnQubGFzdFByb21pc2VWYWx1ZSk7CiAgcmV0dXJuIFByb21pc2UucmVzb2x2ZShuZXh0LnZhbHVlLnByb21pc2UpLnRoZW4oKHZhbHVlKSA9PiB7CiAgICAvLyBDYWNoZSB0aGUgbGFzdCBwcm9taXNlIHZhbHVlIHRvIG1ha2UgaXQgYXZhaWxhYmxlIHRvIHRoZSBuZXh0CiAgICAvLyBzdGVwIG9mIHRoZSBnZW5lcmF0b3IuCiAgICBvdXRwdXRFbGVtZW50Lmxhc3RQcm9taXNlVmFsdWUgPSB2YWx1ZTsKICAgIHJldHVybiBuZXh0LnZhbHVlLnJlc3BvbnNlOwogIH0pOwp9CgovKioKICogR2VuZXJhdG9yIGZ1bmN0aW9uIHdoaWNoIGlzIGNhbGxlZCBiZXR3ZWVuIGVhY2ggYXN5bmMgc3RlcCBvZiB0aGUgdXBsb2FkCiAqIHByb2Nlc3MuCiAqIEBwYXJhbSB7c3RyaW5nfSBpbnB1dElkIEVsZW1lbnQgSUQgb2YgdGhlIGlucHV0IGZpbGUgcGlja2VyIGVsZW1lbnQuCiAqIEBwYXJhbSB7c3RyaW5nfSBvdXRwdXRJZCBFbGVtZW50IElEIG9mIHRoZSBvdXRwdXQgZGlzcGxheS4KICogQHJldHVybiB7IUl0ZXJhYmxlPCFPYmplY3Q+fSBJdGVyYWJsZSBvZiBuZXh0IHN0ZXBzLgogKi8KZnVuY3Rpb24qIHVwbG9hZEZpbGVzU3RlcChpbnB1dElkLCBvdXRwdXRJZCkgewogIGNvbnN0IGlucHV0RWxlbWVudCA9IGRvY3VtZW50LmdldEVsZW1lbnRCeUlkKGlucHV0SWQpOwogIGlucHV0RWxlbWVudC5kaXNhYmxlZCA9IGZhbHNlOwoKICBjb25zdCBvdXRwdXRFbGVtZW50ID0gZG9jdW1lbnQuZ2V0RWxlbWVudEJ5SWQob3V0cHV0SWQpOwogIG91dHB1dEVsZW1lbnQuaW5uZXJIVE1MID0gJyc7CgogIGNvbnN0IHBpY2tlZFByb21pc2UgPSBuZXcgUHJvbWlzZSgocmVzb2x2ZSkgPT4gewogICAgaW5wdXRFbGVtZW50LmFkZEV2ZW50TGlzdGVuZXIoJ2NoYW5nZScsIChlKSA9PiB7CiAgICAgIHJlc29sdmUoZS50YXJnZXQuZmlsZXMpOwogICAgfSk7CiAgfSk7CgogIGNvbnN0IGNhbmNlbCA9IGRvY3VtZW50LmNyZWF0ZUVsZW1lbnQoJ2J1dHRvbicpOwogIGlucHV0RWxlbWVudC5wYXJlbnRFbGVtZW50LmFwcGVuZENoaWxkKGNhbmNlbCk7CiAgY2FuY2VsLnRleHRDb250ZW50ID0gJ0NhbmNlbCB1cGxvYWQnOwogIGNvbnN0IGNhbmNlbFByb21pc2UgPSBuZXcgUHJvbWlzZSgocmVzb2x2ZSkgPT4gewogICAgY2FuY2VsLm9uY2xpY2sgPSAoKSA9PiB7CiAgICAgIHJlc29sdmUobnVsbCk7CiAgICB9OwogIH0pOwoKICAvLyBXYWl0IGZvciB0aGUgdXNlciB0byBwaWNrIHRoZSBmaWxlcy4KICBjb25zdCBmaWxlcyA9IHlpZWxkIHsKICAgIHByb21pc2U6IFByb21pc2UucmFjZShbcGlja2VkUHJvbWlzZSwgY2FuY2VsUHJvbWlzZV0pLAogICAgcmVzcG9uc2U6IHsKICAgICAgYWN0aW9uOiAnc3RhcnRpbmcnLAogICAgfQogIH07CgogIGNhbmNlbC5yZW1vdmUoKTsKCiAgLy8gRGlzYWJsZSB0aGUgaW5wdXQgZWxlbWVudCBzaW5jZSBmdXJ0aGVyIHBpY2tzIGFyZSBub3QgYWxsb3dlZC4KICBpbnB1dEVsZW1lbnQuZGlzYWJsZWQgPSB0cnVlOwoKICBpZiAoIWZpbGVzKSB7CiAgICByZXR1cm4gewogICAgICByZXNwb25zZTogewogICAgICAgIGFjdGlvbjogJ2NvbXBsZXRlJywKICAgICAgfQogICAgfTsKICB9CgogIGZvciAoY29uc3QgZmlsZSBvZiBmaWxlcykgewogICAgY29uc3QgbGkgPSBkb2N1bWVudC5jcmVhdGVFbGVtZW50KCdsaScpOwogICAgbGkuYXBwZW5kKHNwYW4oZmlsZS5uYW1lLCB7Zm9udFdlaWdodDogJ2JvbGQnfSkpOwogICAgbGkuYXBwZW5kKHNwYW4oCiAgICAgICAgYCgke2ZpbGUudHlwZSB8fCAnbi9hJ30pIC0gJHtmaWxlLnNpemV9IGJ5dGVzLCBgICsKICAgICAgICBgbGFzdCBtb2RpZmllZDogJHsKICAgICAgICAgICAgZmlsZS5sYXN0TW9kaWZpZWREYXRlID8gZmlsZS5sYXN0TW9kaWZpZWREYXRlLnRvTG9jYWxlRGF0ZVN0cmluZygpIDoKICAgICAgICAgICAgICAgICAgICAgICAgICAgICAgICAgICAgJ24vYSd9IC0gYCkpOwogICAgY29uc3QgcGVyY2VudCA9IHNwYW4oJzAlIGRvbmUnKTsKICAgIGxpLmFwcGVuZENoaWxkKHBlcmNlbnQpOwoKICAgIG91dHB1dEVsZW1lbnQuYXBwZW5kQ2hpbGQobGkpOwoKICAgIGNvbnN0IGZpbGVEYXRhUHJvbWlzZSA9IG5ldyBQcm9taXNlKChyZXNvbHZlKSA9PiB7CiAgICAgIGNvbnN0IHJlYWRlciA9IG5ldyBGaWxlUmVhZGVyKCk7CiAgICAgIHJlYWRlci5vbmxvYWQgPSAoZSkgPT4gewogICAgICAgIHJlc29sdmUoZS50YXJnZXQucmVzdWx0KTsKICAgICAgfTsKICAgICAgcmVhZGVyLnJlYWRBc0FycmF5QnVmZmVyKGZpbGUpOwogICAgfSk7CiAgICAvLyBXYWl0IGZvciB0aGUgZGF0YSB0byBiZSByZWFkeS4KICAgIGxldCBmaWxlRGF0YSA9IHlpZWxkIHsKICAgICAgcHJvbWlzZTogZmlsZURhdGFQcm9taXNlLAogICAgICByZXNwb25zZTogewogICAgICAgIGFjdGlvbjogJ2NvbnRpbnVlJywKICAgICAgfQogICAgfTsKCiAgICAvLyBVc2UgYSBjaHVua2VkIHNlbmRpbmcgdG8gYXZvaWQgbWVzc2FnZSBzaXplIGxpbWl0cy4gU2VlIGIvNjIxMTU2NjAuCiAgICBsZXQgcG9zaXRpb24gPSAwOwogICAgZG8gewogICAgICBjb25zdCBsZW5ndGggPSBNYXRoLm1pbihmaWxlRGF0YS5ieXRlTGVuZ3RoIC0gcG9zaXRpb24sIE1BWF9QQVlMT0FEX1NJWkUpOwogICAgICBjb25zdCBjaHVuayA9IG5ldyBVaW50OEFycmF5KGZpbGVEYXRhLCBwb3NpdGlvbiwgbGVuZ3RoKTsKICAgICAgcG9zaXRpb24gKz0gbGVuZ3RoOwoKICAgICAgY29uc3QgYmFzZTY0ID0gYnRvYShTdHJpbmcuZnJvbUNoYXJDb2RlLmFwcGx5KG51bGwsIGNodW5rKSk7CiAgICAgIHlpZWxkIHsKICAgICAgICByZXNwb25zZTogewogICAgICAgICAgYWN0aW9uOiAnYXBwZW5kJywKICAgICAgICAgIGZpbGU6IGZpbGUubmFtZSwKICAgICAgICAgIGRhdGE6IGJhc2U2NCwKICAgICAgICB9LAogICAgICB9OwoKICAgICAgbGV0IHBlcmNlbnREb25lID0gZmlsZURhdGEuYnl0ZUxlbmd0aCA9PT0gMCA/CiAgICAgICAgICAxMDAgOgogICAgICAgICAgTWF0aC5yb3VuZCgocG9zaXRpb24gLyBmaWxlRGF0YS5ieXRlTGVuZ3RoKSAqIDEwMCk7CiAgICAgIHBlcmNlbnQudGV4dENvbnRlbnQgPSBgJHtwZXJjZW50RG9uZX0lIGRvbmVgOwoKICAgIH0gd2hpbGUgKHBvc2l0aW9uIDwgZmlsZURhdGEuYnl0ZUxlbmd0aCk7CiAgfQoKICAvLyBBbGwgZG9uZS4KICB5aWVsZCB7CiAgICByZXNwb25zZTogewogICAgICBhY3Rpb246ICdjb21wbGV0ZScsCiAgICB9CiAgfTsKfQoKc2NvcGUuZ29vZ2xlID0gc2NvcGUuZ29vZ2xlIHx8IHt9OwpzY29wZS5nb29nbGUuY29sYWIgPSBzY29wZS5nb29nbGUuY29sYWIgfHwge307CnNjb3BlLmdvb2dsZS5jb2xhYi5fZmlsZXMgPSB7CiAgX3VwbG9hZEZpbGVzLAogIF91cGxvYWRGaWxlc0NvbnRpbnVlLAp9Owp9KShzZWxmKTsK",
              "ok": true,
              "headers": [
                [
                  "content-type",
                  "application/javascript"
                ]
              ],
              "status": 200,
              "status_text": ""
            }
          },
          "base_uri": "https://localhost:8080/",
          "height": 498
        },
        "id": "lbJxV_ObWrar",
        "outputId": "91a8417a-bd9f-41ad-c2b7-df9a8c9ddb18"
      },
      "source": [
        "from google.colab import files\n",
        "uploaded = files.upload()"
      ],
      "execution_count": 3,
      "outputs": [
        {
          "output_type": "display_data",
          "data": {
            "text/html": [
              "\n",
              "     <input type=\"file\" id=\"files-d74d8727-f8cd-41a0-a4da-090a0b0ffab4\" name=\"files[]\" multiple disabled\n",
              "        style=\"border:none\" />\n",
              "     <output id=\"result-d74d8727-f8cd-41a0-a4da-090a0b0ffab4\">\n",
              "      Upload widget is only available when the cell has been executed in the\n",
              "      current browser session. Please rerun this cell to enable.\n",
              "      </output>\n",
              "      <script src=\"/nbextensions/google.colab/files.js\"></script> "
            ],
            "text/plain": [
              "<IPython.core.display.HTML object>"
            ]
          },
          "metadata": {}
        },
        {
          "output_type": "stream",
          "name": "stdout",
          "text": [
            "Saving Вопросы карьеры.csv to Вопросы карьеры.csv\n",
            "Saving Вредные привычки, зависимость.csv to Вредные привычки, зависимость.csv\n",
            "Saving Горе, потери.csv to Горе, потери.csv\n",
            "Saving Депрессия.csv to Депрессия.csv\n",
            "Saving Нервные расстройства.csv to Нервные расстройства.csv\n",
            "Saving О достижении цели.csv to О достижении цели.csv\n",
            "Saving Отношения с окружающими.csv to Отношения с окружающими.csv\n",
            "Saving Поиск решения.csv to Поиск решения.csv\n",
            "Saving Проблемы с детьми.csv to Проблемы с детьми.csv\n",
            "Saving Проблемы с партнером.csv to Проблемы с партнером.csv\n",
            "Saving Размышления о мире.csv to Размышления о мире.csv\n",
            "Saving Самопознание, саморазвитие.csv to Самопознание, саморазвитие.csv\n",
            "Saving Семейные проблемы.csv to Семейные проблемы.csv\n"
          ]
        }
      ]
    },
    {
      "cell_type": "code",
      "metadata": {
        "id": "y0waXMh-YLZ1",
        "colab": {
          "base_uri": "https://localhost:8080/"
        },
        "outputId": "8daefc00-0ee1-499a-9dc3-9dcc40d447d6"
      },
      "source": [
        "!ls"
      ],
      "execution_count": 4,
      "outputs": [
        {
          "output_type": "stream",
          "name": "stdout",
          "text": [
            " sample_data\t\t\t     'Отношения с окружающими.csv'\n",
            "'Вопросы карьеры.csv'\t\t     'Поиск решения.csv'\n",
            "'Вредные привычки, зависимость.csv'  'Проблемы с детьми.csv'\n",
            "'Горе, потери.csv'\t\t     'Проблемы с партнером.csv'\n",
            " Депрессия.csv\t\t\t     'Размышления о мире.csv'\n",
            "'Нервные расстройства.csv'\t     'Самопознание, саморазвитие.csv'\n",
            "'О достижении цели.csv'\t\t     'Семейные проблемы.csv'\n"
          ]
        }
      ]
    },
    {
      "cell_type": "markdown",
      "metadata": {
        "id": "BnJ9ru3CZHGl"
      },
      "source": [
        "Let's create 2 files: training and test data"
      ]
    },
    {
      "cell_type": "markdown",
      "metadata": {
        "id": "LUrGy-bgaJUN"
      },
      "source": [
        "test data - 20%"
      ]
    },
    {
      "cell_type": "code",
      "metadata": {
        "id": "NuGh5bdWmcf3"
      },
      "source": [
        "from sklearn.model_selection import train_test_split\n",
        "import os\n",
        "import glob"
      ],
      "execution_count": 5,
      "outputs": []
    },
    {
      "cell_type": "code",
      "metadata": {
        "id": "x_icK_-bYt7N"
      },
      "source": [
        "extension = 'csv'\n",
        "file_names = [i for i in glob.glob('*.{}'.format(extension))]\n",
        "file_names_size = len(file_names);"
      ],
      "execution_count": 6,
      "outputs": []
    },
    {
      "cell_type": "markdown",
      "metadata": {
        "id": "Ux7CCHhpaARl"
      },
      "source": [
        "Let's mark the data: add a column in which the value will mean the category number"
      ]
    },
    {
      "cell_type": "code",
      "metadata": {
        "id": "sHW2CGIUae4m"
      },
      "source": [
        "import pandas as pd\n",
        "import numpy as np"
      ],
      "execution_count": 7,
      "outputs": []
    },
    {
      "cell_type": "code",
      "metadata": {
        "id": "C3WdhW7dY1xh"
      },
      "source": [
        "data_train = []\n",
        "data_test = []\n",
        "\n",
        "i = 0\n",
        "while i<file_names_size:\n",
        "  df = pd.read_csv(file_names[i], header=0)\n",
        "  df['THEME'] = i\n",
        "  train, test = train_test_split(df, test_size=0.2, random_state=2)\n",
        "  data_train.append(train)\n",
        "  data_test.append(test)\n",
        "  i = i + 1"
      ],
      "execution_count": 8,
      "outputs": []
    },
    {
      "cell_type": "markdown",
      "metadata": {
        "id": "NftWC1-VbqG-"
      },
      "source": [
        "combining the data into a single file"
      ]
    },
    {
      "cell_type": "markdown",
      "metadata": {
        "id": "4XHOHmhTbsI-"
      },
      "source": [
        "-train"
      ]
    },
    {
      "cell_type": "code",
      "metadata": {
        "id": "08bFG3x5biOm",
        "colab": {
          "base_uri": "https://localhost:8080/"
        },
        "outputId": "1667a86e-b19f-403a-f5b9-ed4294da4efe"
      },
      "source": [
        "final_data_train = pd.concat(data_train)\n",
        "final_data_train.to_csv( 'train.csv', index=False, encoding='utf-8-sig')\n",
        "!wc -l train.csv"
      ],
      "execution_count": 9,
      "outputs": [
        {
          "output_type": "stream",
          "name": "stdout",
          "text": [
            "10545 train.csv\n"
          ]
        }
      ]
    },
    {
      "cell_type": "markdown",
      "metadata": {
        "id": "pJ973py5bz_N"
      },
      "source": [
        "-test"
      ]
    },
    {
      "cell_type": "code",
      "metadata": {
        "id": "TJJKG-LMbyrV",
        "colab": {
          "base_uri": "https://localhost:8080/"
        },
        "outputId": "8992f3a7-3dd4-401d-e596-4127852dc41f"
      },
      "source": [
        "final_data_test = pd.concat(data_test)\n",
        "final_data_test.to_csv( \"test.csv\", index=False, encoding='utf-8-sig')\n",
        "!wc -l test.csv"
      ],
      "execution_count": 10,
      "outputs": [
        {
          "output_type": "stream",
          "name": "stdout",
          "text": [
            "2642 test.csv\n"
          ]
        }
      ]
    },
    {
      "cell_type": "code",
      "metadata": {
        "colab": {
          "base_uri": "https://localhost:8080/",
          "height": 212
        },
        "id": "pY8hmBeCcEXG",
        "outputId": "3175b34e-f15b-4299-b14c-ac1de634a445"
      },
      "source": [
        "train = pd.read_csv('train.csv', header=0)\n",
        "train[:3]"
      ],
      "execution_count": 11,
      "outputs": [
        {
          "output_type": "execute_result",
          "data": {
            "text/html": [
              "<div>\n",
              "<style scoped>\n",
              "    .dataframe tbody tr th:only-of-type {\n",
              "        vertical-align: middle;\n",
              "    }\n",
              "\n",
              "    .dataframe tbody tr th {\n",
              "        vertical-align: top;\n",
              "    }\n",
              "\n",
              "    .dataframe thead th {\n",
              "        text-align: right;\n",
              "    }\n",
              "</style>\n",
              "<table border=\"1\" class=\"dataframe\">\n",
              "  <thead>\n",
              "    <tr style=\"text-align: right;\">\n",
              "      <th></th>\n",
              "      <th>Unnamed: 0</th>\n",
              "      <th>USER_ID</th>\n",
              "      <th>USER_NICKNAME</th>\n",
              "      <th>TITLE</th>\n",
              "      <th>MESSAGE</th>\n",
              "      <th>DATE_TIME</th>\n",
              "      <th>TOPIC_LIKES_COUNT</th>\n",
              "      <th>URL</th>\n",
              "      <th>THEME</th>\n",
              "    </tr>\n",
              "  </thead>\n",
              "  <tbody>\n",
              "    <tr>\n",
              "      <th>0</th>\n",
              "      <td>978</td>\n",
              "      <td>u101679</td>\n",
              "      <td>Mi-shel</td>\n",
              "      <td>Муж в реанимации. Просто поддержите</td>\n",
              "      <td>Вчера в 5 утра у мужа случился обширный инсуль...</td>\n",
              "      <td>2017-05-10 05:55</td>\n",
              "      <td>6</td>\n",
              "      <td>https://www.b17.ru/forum/topic.php?id=75927</td>\n",
              "      <td>0</td>\n",
              "    </tr>\n",
              "    <tr>\n",
              "      <th>1</th>\n",
              "      <td>863</td>\n",
              "      <td>u261348</td>\n",
              "      <td>катерина121</td>\n",
              "      <td>чувство вины. Незавершенность ситуации</td>\n",
              "      <td>перестала общаться с молод. человеком</td>\n",
              "      <td>2017-09-30 18:26</td>\n",
              "      <td>2</td>\n",
              "      <td>https://www.b17.ru/forum/topic.php?id=89707</td>\n",
              "      <td>0</td>\n",
              "    </tr>\n",
              "    <tr>\n",
              "      <th>2</th>\n",
              "      <td>658</td>\n",
              "      <td>u326689</td>\n",
              "      <td>LusiLi</td>\n",
              "      <td>Страдания и переживания сопровождают меня посл...</td>\n",
              "      <td>Здравствуйте! Пишу сюда, потому что не знаю и ...</td>\n",
              "      <td>2018-05-04 16:44</td>\n",
              "      <td>1</td>\n",
              "      <td>https://www.b17.ru/forum/topic.php?id=115519</td>\n",
              "      <td>0</td>\n",
              "    </tr>\n",
              "  </tbody>\n",
              "</table>\n",
              "</div>"
            ],
            "text/plain": [
              "   Unnamed: 0  USER_ID  ...                                           URL THEME\n",
              "0         978  u101679  ...   https://www.b17.ru/forum/topic.php?id=75927     0\n",
              "1         863  u261348  ...   https://www.b17.ru/forum/topic.php?id=89707     0\n",
              "2         658  u326689  ...  https://www.b17.ru/forum/topic.php?id=115519     0\n",
              "\n",
              "[3 rows x 9 columns]"
            ]
          },
          "metadata": {},
          "execution_count": 11
        }
      ]
    },
    {
      "cell_type": "code",
      "metadata": {
        "colab": {
          "base_uri": "https://localhost:8080/",
          "height": 212
        },
        "id": "DhCq2Ji0cPE2",
        "outputId": "a9d1eddd-493c-46d2-cbbb-c64465d87c03"
      },
      "source": [
        "test = pd.read_csv('test.csv', header=0)\n",
        "test[:3]"
      ],
      "execution_count": 12,
      "outputs": [
        {
          "output_type": "execute_result",
          "data": {
            "text/html": [
              "<div>\n",
              "<style scoped>\n",
              "    .dataframe tbody tr th:only-of-type {\n",
              "        vertical-align: middle;\n",
              "    }\n",
              "\n",
              "    .dataframe tbody tr th {\n",
              "        vertical-align: top;\n",
              "    }\n",
              "\n",
              "    .dataframe thead th {\n",
              "        text-align: right;\n",
              "    }\n",
              "</style>\n",
              "<table border=\"1\" class=\"dataframe\">\n",
              "  <thead>\n",
              "    <tr style=\"text-align: right;\">\n",
              "      <th></th>\n",
              "      <th>Unnamed: 0</th>\n",
              "      <th>USER_ID</th>\n",
              "      <th>USER_NICKNAME</th>\n",
              "      <th>TITLE</th>\n",
              "      <th>MESSAGE</th>\n",
              "      <th>DATE_TIME</th>\n",
              "      <th>TOPIC_LIKES_COUNT</th>\n",
              "      <th>URL</th>\n",
              "      <th>THEME</th>\n",
              "    </tr>\n",
              "  </thead>\n",
              "  <tbody>\n",
              "    <tr>\n",
              "      <th>0</th>\n",
              "      <td>71</td>\n",
              "      <td>u478927</td>\n",
              "      <td>Akkie</td>\n",
              "      <td>Бывший отрезал от потенциально интересующей ме...</td>\n",
              "      <td>Рассталась с молодым человеком очень тяжело по...</td>\n",
              "      <td>2020-02-22 21:19</td>\n",
              "      <td>3</td>\n",
              "      <td>https://www.b17.ru/forum/topic.php?id=303879</td>\n",
              "      <td>0</td>\n",
              "    </tr>\n",
              "    <tr>\n",
              "      <th>1</th>\n",
              "      <td>945</td>\n",
              "      <td>u238151</td>\n",
              "      <td>Юлия</td>\n",
              "      <td>Решилась. Поддержите (((</td>\n",
              "      <td>Дошла до точки,решилась.Сегодня соберу все его...</td>\n",
              "      <td>2017-06-12 13:10</td>\n",
              "      <td>21</td>\n",
              "      <td>https://www.b17.ru/forum/topic.php?id=78871</td>\n",
              "      <td>0</td>\n",
              "    </tr>\n",
              "    <tr>\n",
              "      <th>2</th>\n",
              "      <td>951</td>\n",
              "      <td>u239602</td>\n",
              "      <td>Воскресение</td>\n",
              "      <td>переживание расставания</td>\n",
              "      <td>Здравствуйте. Более полутора года назад в наше...</td>\n",
              "      <td>2017-06-11 16:05</td>\n",
              "      <td>2</td>\n",
              "      <td>https://www.b17.ru/forum/topic.php?id=78797</td>\n",
              "      <td>0</td>\n",
              "    </tr>\n",
              "  </tbody>\n",
              "</table>\n",
              "</div>"
            ],
            "text/plain": [
              "   Unnamed: 0  USER_ID  ...                                           URL THEME\n",
              "0          71  u478927  ...  https://www.b17.ru/forum/topic.php?id=303879     0\n",
              "1         945  u238151  ...   https://www.b17.ru/forum/topic.php?id=78871     0\n",
              "2         951  u239602  ...   https://www.b17.ru/forum/topic.php?id=78797     0\n",
              "\n",
              "[3 rows x 9 columns]"
            ]
          },
          "metadata": {},
          "execution_count": 12
        }
      ]
    },
    {
      "cell_type": "markdown",
      "metadata": {
        "id": "YWGIV1jg-IGp"
      },
      "source": [
        "Protection against unexpected strings such as 'nan'"
      ]
    },
    {
      "cell_type": "code",
      "metadata": {
        "id": "L_RFt-hs-HgH"
      },
      "source": [
        "trb_nan_idx = train[pd.isnull(train['MESSAGE'])].index.tolist()\n",
        "train.loc[trb_nan_idx, 'MESSAGE'] = ' '\n",
        "train.loc[trb_nan_idx, 'MESSAGE'] = ' '"
      ],
      "execution_count": 13,
      "outputs": []
    },
    {
      "cell_type": "code",
      "metadata": {
        "id": "TBkx3DzIc6pf"
      },
      "source": [
        "from tensorflow.keras import utils\n",
        "x_train = train['MESSAGE']\n",
        "y_train = utils.to_categorical(train['THEME'],file_names_size)"
      ],
      "execution_count": 14,
      "outputs": []
    },
    {
      "cell_type": "code",
      "metadata": {
        "colab": {
          "base_uri": "https://localhost:8080/"
        },
        "id": "migN61LLilCY",
        "outputId": "4e811000-7342-4d2a-8a2a-b0793747cf67"
      },
      "source": [
        "import nltk\n",
        "import re\n",
        "from nltk.stem.snowball import SnowballStemmer\n",
        "stemmer = SnowballStemmer(\"russian\")\n",
        "nltk.download('punkt')"
      ],
      "execution_count": 15,
      "outputs": [
        {
          "output_type": "stream",
          "name": "stdout",
          "text": [
            "[nltk_data] Downloading package punkt to /root/nltk_data...\n",
            "[nltk_data]   Unzipping tokenizers/punkt.zip.\n"
          ]
        },
        {
          "output_type": "execute_result",
          "data": {
            "text/plain": [
              "True"
            ]
          },
          "metadata": {},
          "execution_count": 15
        }
      ]
    },
    {
      "cell_type": "markdown",
      "metadata": {
        "id": "AMyqiVhc-VIY"
      },
      "source": [
        "get a word form for each token (stemming)"
      ]
    },
    {
      "cell_type": "code",
      "metadata": {
        "id": "2eEPp009-1l-"
      },
      "source": [
        "def token_and_stem(text):\n",
        "    tokens = [word for sent in nltk.sent_tokenize(text) for word in nltk.word_tokenize(sent)]\n",
        "    filtered_tokens = []\n",
        "    for token in tokens:\n",
        "        if re.search('[а-яА-Я]', token):\n",
        "            filtered_tokens.append(token)\n",
        "    stems = [stemmer.stem(t) for t in filtered_tokens]\n",
        "    return stems"
      ],
      "execution_count": 16,
      "outputs": []
    },
    {
      "cell_type": "code",
      "metadata": {
        "id": "Gi5N6QZKi09K"
      },
      "source": [
        "upd_x_train = []\n",
        "\n",
        "for i in x_train:\n",
        "  upd_train = token_and_stem(i)\n",
        "  upd_x_train.append(upd_train)"
      ],
      "execution_count": 17,
      "outputs": []
    },
    {
      "cell_type": "code",
      "metadata": {
        "colab": {
          "base_uri": "https://localhost:8080/"
        },
        "id": "fO7dLQCB-k6v",
        "outputId": "62e0512f-502b-44ee-c34e-d2077a0ce677"
      },
      "source": [
        "nltk.download('stopwords')\n",
        "stopwords = nltk.corpus.stopwords.words('russian')"
      ],
      "execution_count": 18,
      "outputs": [
        {
          "output_type": "stream",
          "name": "stdout",
          "text": [
            "[nltk_data] Downloading package stopwords to /root/nltk_data...\n",
            "[nltk_data]   Unzipping corpora/stopwords.zip.\n"
          ]
        }
      ]
    },
    {
      "cell_type": "code",
      "metadata": {
        "id": "lPkEmW6zjv_m"
      },
      "source": [
        "tokens = []\n",
        "train = []\n",
        "\n",
        "for x_tr in upd_x_train:\n",
        "  for token in x_tr:\n",
        "    if token not in stopwords:\n",
        "      tokens.append(token)\n",
        "  train.append(tokens)\n",
        "  tokens = []"
      ],
      "execution_count": 19,
      "outputs": []
    },
    {
      "cell_type": "code",
      "metadata": {
        "colab": {
          "base_uri": "https://localhost:8080/"
        },
        "id": "S0_nRqVzfnWw",
        "outputId": "21d6832e-ab6c-4c84-dc5e-f3b96c3d05fb"
      },
      "source": [
        "x_train[:3]"
      ],
      "execution_count": 20,
      "outputs": [
        {
          "output_type": "execute_result",
          "data": {
            "text/plain": [
              "0    Вчера в 5 утра у мужа случился обширный инсуль...\n",
              "1                перестала общаться с молод. человеком\n",
              "2    Здравствуйте! Пишу сюда, потому что не знаю и ...\n",
              "Name: MESSAGE, dtype: object"
            ]
          },
          "metadata": {},
          "execution_count": 20
        }
      ]
    },
    {
      "cell_type": "code",
      "metadata": {
        "id": "guK5gT_kz1mp",
        "colab": {
          "base_uri": "https://localhost:8080/"
        },
        "outputId": "9b4af9ba-d5a7-4d36-da01-296dc51ae65d"
      },
      "source": [
        "train[:3]"
      ],
      "execution_count": 21,
      "outputs": [
        {
          "output_type": "execute_result",
          "data": {
            "text/plain": [
              "[['вчер',\n",
              "  'утр',\n",
              "  'муж',\n",
              "  'случ',\n",
              "  'обширн',\n",
              "  'инсульт',\n",
              "  'леж',\n",
              "  'ком',\n",
              "  'нерв',\n",
              "  'сдают',\n",
              "  'страшно.пожалуйст',\n",
              "  'прост',\n",
              "  'поговор',\n",
              "  'мно'],\n",
              " ['переста', 'обща', 'молод', 'человек'],\n",
              " ['здравств',\n",
              "  'пиш',\n",
              "  'сюд',\n",
              "  'пот',\n",
              "  'зна',\n",
              "  'понима',\n",
              "  'поч',\n",
              "  'мо',\n",
              "  'жизн',\n",
              "  'всегд',\n",
              "  'всюд',\n",
              "  'гор',\n",
              "  'потер',\n",
              "  'душевн',\n",
              "  'бол',\n",
              "  'переживан',\n",
              "  'зна',\n",
              "  'сильн',\n",
              "  'прорв',\n",
              "  'времен',\n",
              "  'плохо.сейчас',\n",
              "  'лет',\n",
              "  'главн',\n",
              "  'удар',\n",
              "  'произошел',\n",
              "  'когд',\n",
              "  'лет',\n",
              "  'мен',\n",
              "  'умерл',\n",
              "  'мам',\n",
              "  'тяжел',\n",
              "  'болезн',\n",
              "  'брат',\n",
              "  'оста',\n",
              "  'попечен',\n",
              "  'отц',\n",
              "  'мен',\n",
              "  'всем',\n",
              "  'смог',\n",
              "  'справ',\n",
              "  'утрат',\n",
              "  'мам',\n",
              "  'нача',\n",
              "  'сильн',\n",
              "  'пит',\n",
              "  'период',\n",
              "  'когд',\n",
              "  'останавлива',\n",
              "  'начина',\n",
              "  'работа',\n",
              "  'помога',\n",
              "  'нам',\n",
              "  'бабушк',\n",
              "  'мо',\n",
              "  'пап',\n",
              "  'остальн',\n",
              "  'родственник',\n",
              "  'заб',\n",
              "  'наш',\n",
              "  'существован',\n",
              "  'брат',\n",
              "  'попа',\n",
              "  'тюрьм',\n",
              "  'почт',\n",
              "  'лет',\n",
              "  'езд',\n",
              "  'нем',\n",
              "  'выросл',\n",
              "  'работа',\n",
              "  'законч',\n",
              "  'заочн',\n",
              "  'техникум',\n",
              "  'вышл',\n",
              "  'замуж',\n",
              "  'сожален',\n",
              "  'муж',\n",
              "  'отношен',\n",
              "  'слож',\n",
              "  'лет',\n",
              "  'развел',\n",
              "  'развод',\n",
              "  'очен',\n",
              "  'тяжел',\n",
              "  'мног',\n",
              "  'слез',\n",
              "  'претенз',\n",
              "  'скандал',\n",
              "  'брак',\n",
              "  'оста',\n",
              "  'сын',\n",
              "  'воспитан',\n",
              "  'полност',\n",
              "  'бывш',\n",
              "  'муж',\n",
              "  'участв',\n",
              "  'жизн',\n",
              "  'сын',\n",
              "  'мо',\n",
              "  'помощник',\n",
              "  'отец',\n",
              "  'умер',\n",
              "  'год',\n",
              "  'назад',\n",
              "  'год',\n",
              "  'одн',\n",
              "  'кем',\n",
              "  'стро',\n",
              "  'никак',\n",
              "  'отношен',\n",
              "  'пот',\n",
              "  'появ',\n",
              "  'мужчин',\n",
              "  'добр',\n",
              "  'нежн',\n",
              "  'помога',\n",
              "  'всем',\n",
              "  'всплыва',\n",
              "  'подводн',\n",
              "  'камн',\n",
              "  'быт',\n",
              "  'вмест',\n",
              "  'скор',\n",
              "  'всег',\n",
              "  'смож',\n",
              "  'сиж',\n",
              "  'дума',\n",
              "  'дальш',\n",
              "  'дела']]"
            ]
          },
          "metadata": {},
          "execution_count": 21
        }
      ]
    },
    {
      "cell_type": "code",
      "metadata": {
        "id": "GTYRpZ6kcyTO"
      },
      "source": [
        "from tensorflow.keras.preprocessing.text import Tokenizer\n",
        "from tensorflow.keras.models import Sequential\n",
        "from tensorflow.keras.preprocessing.sequence import pad_sequences"
      ],
      "execution_count": 22,
      "outputs": []
    },
    {
      "cell_type": "code",
      "metadata": {
        "id": "ZqznwsMfdLnn"
      },
      "source": [
        "num_words = 3000\n",
        "tokenizer = Tokenizer(num_words=num_words, filters='0123456789!\"#$%&()*+,-./:;<=>?@[\\\\]^_`{|}~\\t\\n', lower=True, split=' ')"
      ],
      "execution_count": 23,
      "outputs": []
    },
    {
      "cell_type": "code",
      "metadata": {
        "id": "7Uh0DenSge4x"
      },
      "source": [
        "tokenizer.fit_on_texts(train)\n",
        "tokenizer.word_index\n",
        "sequences = tokenizer.texts_to_sequences(train)"
      ],
      "execution_count": 24,
      "outputs": []
    },
    {
      "cell_type": "code",
      "metadata": {
        "colab": {
          "base_uri": "https://localhost:8080/"
        },
        "id": "4fmOdr_kjdcI",
        "outputId": "aa2a8abd-45f6-4aba-8d6d-7858db61e57e"
      },
      "source": [
        "print(x_train[0])\n",
        "print(train[0])\n",
        "print(sequences[0])"
      ],
      "execution_count": 25,
      "outputs": [
        {
          "output_type": "stream",
          "name": "stdout",
          "text": [
            "Вчера в 5 утра у мужа случился обширный инсульт. Сейчас лежит в коме. Нервы сдают. Страшно.Пожалуйста, просто поговорите со мной\n",
            "['вчер', 'утр', 'муж', 'случ', 'обширн', 'инсульт', 'леж', 'ком', 'нерв', 'сдают', 'страшно.пожалуйст', 'прост', 'поговор', 'мно']\n",
            "[574, 224, 40, 334, 2883, 1066, 407, 860, 19, 279, 79]\n"
          ]
        }
      ]
    },
    {
      "cell_type": "code",
      "metadata": {
        "id": "1JFE_q4Sj4iJ",
        "colab": {
          "base_uri": "https://localhost:8080/"
        },
        "outputId": "b1d02346-d064-456f-d7a1-9e3743d29d72"
      },
      "source": [
        "max_text_len = 100\n",
        "x_train = pad_sequences(sequences, maxlen=max_text_len)\n",
        "x_train[0]"
      ],
      "execution_count": 26,
      "outputs": [
        {
          "output_type": "execute_result",
          "data": {
            "text/plain": [
              "array([   0,    0,    0,    0,    0,    0,    0,    0,    0,    0,    0,\n",
              "          0,    0,    0,    0,    0,    0,    0,    0,    0,    0,    0,\n",
              "          0,    0,    0,    0,    0,    0,    0,    0,    0,    0,    0,\n",
              "          0,    0,    0,    0,    0,    0,    0,    0,    0,    0,    0,\n",
              "          0,    0,    0,    0,    0,    0,    0,    0,    0,    0,    0,\n",
              "          0,    0,    0,    0,    0,    0,    0,    0,    0,    0,    0,\n",
              "          0,    0,    0,    0,    0,    0,    0,    0,    0,    0,    0,\n",
              "          0,    0,    0,    0,    0,    0,    0,    0,    0,    0,    0,\n",
              "          0,  574,  224,   40,  334, 2883, 1066,  407,  860,   19,  279,\n",
              "         79], dtype=int32)"
            ]
          },
          "metadata": {},
          "execution_count": 26
        }
      ]
    },
    {
      "cell_type": "code",
      "metadata": {
        "id": "PjfwyVfGkV1q"
      },
      "source": [
        "from tensorflow.keras.models import Sequential\n",
        "from tensorflow.keras.layers import Dense, Embedding, MaxPooling1D, Conv1D, GlobalMaxPooling1D, Dropout, LSTM, GRU, Flatten"
      ],
      "execution_count": 27,
      "outputs": []
    },
    {
      "cell_type": "code",
      "metadata": {
        "id": "qdGkbLSokh7A"
      },
      "source": [
        "model_cnn = Sequential()\n",
        "model_cnn.add(Embedding(num_words, 32, input_length=max_text_len))\n",
        "\n",
        "model_cnn.add(Conv1D(250, 5, padding='valid', activation='relu', input_shape=(x_train.shape[1],1)))\n",
        "model_cnn.add(Dropout(0.2))\n",
        "model_cnn.add(Conv1D(250, 5, padding='valid', activation='relu'))\n",
        "model_cnn.add(GlobalMaxPooling1D())\n",
        "\n",
        "model_cnn.add(Flatten())\n",
        "model_cnn.add(Dense(169, activation='relu'))\n",
        "model_cnn.add(Dropout(0.5))\n",
        "model_cnn.add(Dense(file_names_size, activation='softmax'))"
      ],
      "execution_count": 39,
      "outputs": []
    },
    {
      "cell_type": "code",
      "metadata": {
        "id": "WL8CmjUakmfg"
      },
      "source": [
        "model_cnn.compile(optimizer='adam', \n",
        "              loss='categorical_crossentropy', \n",
        "              metrics=['accuracy'])"
      ],
      "execution_count": 40,
      "outputs": []
    },
    {
      "cell_type": "code",
      "metadata": {
        "colab": {
          "base_uri": "https://localhost:8080/"
        },
        "id": "Ya0FOCYtlUjj",
        "outputId": "b1c485e7-1bce-4fda-8a71-77a0d633f3e4"
      },
      "source": [
        "model_cnn.summary()"
      ],
      "execution_count": 41,
      "outputs": [
        {
          "output_type": "stream",
          "name": "stdout",
          "text": [
            "Model: \"sequential_4\"\n",
            "_________________________________________________________________\n",
            "Layer (type)                 Output Shape              Param #   \n",
            "=================================================================\n",
            "embedding_4 (Embedding)      (None, 100, 32)           96000     \n",
            "_________________________________________________________________\n",
            "conv1d_8 (Conv1D)            (None, 96, 250)           40250     \n",
            "_________________________________________________________________\n",
            "dropout_6 (Dropout)          (None, 96, 250)           0         \n",
            "_________________________________________________________________\n",
            "conv1d_9 (Conv1D)            (None, 92, 250)           312750    \n",
            "_________________________________________________________________\n",
            "global_max_pooling1d_3 (Glob (None, 250)               0         \n",
            "_________________________________________________________________\n",
            "flatten_2 (Flatten)          (None, 250)               0         \n",
            "_________________________________________________________________\n",
            "dense_4 (Dense)              (None, 169)               42419     \n",
            "_________________________________________________________________\n",
            "dropout_7 (Dropout)          (None, 169)               0         \n",
            "_________________________________________________________________\n",
            "dense_5 (Dense)              (None, 13)                2210      \n",
            "=================================================================\n",
            "Total params: 493,629\n",
            "Trainable params: 493,629\n",
            "Non-trainable params: 0\n",
            "_________________________________________________________________\n"
          ]
        }
      ]
    },
    {
      "cell_type": "code",
      "metadata": {
        "id": "SzIJyrVFmYlu"
      },
      "source": [
        "from tensorflow.keras.callbacks import ReduceLROnPlateau, ModelCheckpoint"
      ],
      "execution_count": 42,
      "outputs": []
    },
    {
      "cell_type": "code",
      "metadata": {
        "id": "lKI3Xwx3lZXZ"
      },
      "source": [
        "model_cnn_save_path = 'cnn.h5'\n",
        "checkpoint_callback_cnn = ModelCheckpoint(model_cnn_save_path, \n",
        "                                      monitor='val_accuracy',\n",
        "                                      save_best_only=True,\n",
        "                                      verbose=1)"
      ],
      "execution_count": 43,
      "outputs": []
    },
    {
      "cell_type": "code",
      "metadata": {
        "id": "DuQvrDXcPWYX"
      },
      "source": [
        "learning_rate_reduction = ReduceLROnPlateau(monitor='val_accuracy', \n",
        "                                            patience=3, \n",
        "                                            verbose=1, \n",
        "                                            factor=0.5, \n",
        "                                            min_lr=0.00001)"
      ],
      "execution_count": 44,
      "outputs": []
    },
    {
      "cell_type": "code",
      "metadata": {
        "id": "rCLlUd9kCcsQ"
      },
      "source": [
        "random_seed = 2\n",
        "X_train, X_val, Y_train, Y_val = train_test_split(x_train, y_train, test_size = 0.1, random_state=random_seed)"
      ],
      "execution_count": 45,
      "outputs": []
    },
    {
      "cell_type": "code",
      "metadata": {
        "colab": {
          "base_uri": "https://localhost:8080/"
        },
        "id": "i3ISZxwAmtZ7",
        "outputId": "b5536e4c-19ff-4aa6-e0df-e02f181f2fb3"
      },
      "source": [
        "history_cnn = model_cnn.fit(X_train, \n",
        "                            Y_train, \n",
        "                            epochs=50,\n",
        "                            validation_data=(X_val, Y_val),\n",
        "                            batch_size=256,\n",
        "                            callbacks=[checkpoint_callback_cnn, learning_rate_reduction])"
      ],
      "execution_count": 46,
      "outputs": [
        {
          "output_type": "stream",
          "name": "stdout",
          "text": [
            "Epoch 1/50\n",
            "38/38 [==============================] - 49s 1s/step - loss: 2.5621 - accuracy: 0.0818 - val_loss: 2.5504 - val_accuracy: 0.0958\n",
            "\n",
            "Epoch 00001: val_accuracy improved from -inf to 0.09583, saving model to cnn.h5\n",
            "Epoch 2/50\n",
            "38/38 [==============================] - 48s 1s/step - loss: 2.5291 - accuracy: 0.1017 - val_loss: 2.4632 - val_accuracy: 0.1319\n",
            "\n",
            "Epoch 00002: val_accuracy improved from 0.09583 to 0.13188, saving model to cnn.h5\n",
            "Epoch 3/50\n",
            "38/38 [==============================] - 48s 1s/step - loss: 2.4144 - accuracy: 0.1413 - val_loss: 2.3712 - val_accuracy: 0.1831\n",
            "\n",
            "Epoch 00003: val_accuracy improved from 0.13188 to 0.18311, saving model to cnn.h5\n",
            "Epoch 4/50\n",
            "38/38 [==============================] - 48s 1s/step - loss: 2.2843 - accuracy: 0.1856 - val_loss: 2.2649 - val_accuracy: 0.2030\n",
            "\n",
            "Epoch 00004: val_accuracy improved from 0.18311 to 0.20304, saving model to cnn.h5\n",
            "Epoch 5/50\n",
            "38/38 [==============================] - 48s 1s/step - loss: 2.1257 - accuracy: 0.2630 - val_loss: 2.1649 - val_accuracy: 0.2676\n",
            "\n",
            "Epoch 00005: val_accuracy improved from 0.20304 to 0.26755, saving model to cnn.h5\n",
            "Epoch 6/50\n",
            "38/38 [==============================] - 49s 1s/step - loss: 1.9890 - accuracy: 0.3042 - val_loss: 2.1329 - val_accuracy: 0.2628\n",
            "\n",
            "Epoch 00006: val_accuracy did not improve from 0.26755\n",
            "Epoch 7/50\n",
            "38/38 [==============================] - 48s 1s/step - loss: 1.8574 - accuracy: 0.3556 - val_loss: 2.1214 - val_accuracy: 0.2789\n",
            "\n",
            "Epoch 00007: val_accuracy improved from 0.26755 to 0.27894, saving model to cnn.h5\n",
            "Epoch 8/50\n",
            "38/38 [==============================] - 48s 1s/step - loss: 1.7581 - accuracy: 0.3875 - val_loss: 2.1796 - val_accuracy: 0.2770\n",
            "\n",
            "Epoch 00008: val_accuracy did not improve from 0.27894\n",
            "Epoch 9/50\n",
            "38/38 [==============================] - 48s 1s/step - loss: 1.6653 - accuracy: 0.4166 - val_loss: 2.2112 - val_accuracy: 0.2761\n",
            "\n",
            "Epoch 00009: val_accuracy did not improve from 0.27894\n",
            "Epoch 10/50\n",
            "38/38 [==============================] - 49s 1s/step - loss: 1.5609 - accuracy: 0.4506 - val_loss: 2.2476 - val_accuracy: 0.2884\n",
            "\n",
            "Epoch 00010: val_accuracy improved from 0.27894 to 0.28843, saving model to cnn.h5\n",
            "Epoch 11/50\n",
            "38/38 [==============================] - 49s 1s/step - loss: 1.4940 - accuracy: 0.4707 - val_loss: 2.3000 - val_accuracy: 0.2884\n",
            "\n",
            "Epoch 00011: val_accuracy did not improve from 0.28843\n",
            "Epoch 12/50\n",
            "38/38 [==============================] - 48s 1s/step - loss: 1.4078 - accuracy: 0.5063 - val_loss: 2.4240 - val_accuracy: 0.2732\n",
            "\n",
            "Epoch 00012: val_accuracy did not improve from 0.28843\n",
            "Epoch 13/50\n",
            "38/38 [==============================] - 48s 1s/step - loss: 1.3276 - accuracy: 0.5332 - val_loss: 2.5338 - val_accuracy: 0.2751\n",
            "\n",
            "Epoch 00013: val_accuracy did not improve from 0.28843\n",
            "\n",
            "Epoch 00013: ReduceLROnPlateau reducing learning rate to 0.0005000000237487257.\n",
            "Epoch 14/50\n",
            "38/38 [==============================] - 48s 1s/step - loss: 1.1945 - accuracy: 0.5831 - val_loss: 2.7235 - val_accuracy: 0.2846\n",
            "\n",
            "Epoch 00014: val_accuracy did not improve from 0.28843\n",
            "Epoch 15/50\n",
            "38/38 [==============================] - 48s 1s/step - loss: 1.1383 - accuracy: 0.6027 - val_loss: 2.7869 - val_accuracy: 0.2761\n",
            "\n",
            "Epoch 00015: val_accuracy did not improve from 0.28843\n",
            "Epoch 16/50\n",
            "38/38 [==============================] - 47s 1s/step - loss: 1.0876 - accuracy: 0.6247 - val_loss: 2.9104 - val_accuracy: 0.2761\n",
            "\n",
            "Epoch 00016: val_accuracy did not improve from 0.28843\n",
            "\n",
            "Epoch 00016: ReduceLROnPlateau reducing learning rate to 0.0002500000118743628.\n",
            "Epoch 17/50\n",
            "38/38 [==============================] - 47s 1s/step - loss: 1.0318 - accuracy: 0.6481 - val_loss: 2.9668 - val_accuracy: 0.2751\n",
            "\n",
            "Epoch 00017: val_accuracy did not improve from 0.28843\n",
            "Epoch 18/50\n",
            "38/38 [==============================] - 47s 1s/step - loss: 0.9928 - accuracy: 0.6551 - val_loss: 3.0802 - val_accuracy: 0.2638\n",
            "\n",
            "Epoch 00018: val_accuracy did not improve from 0.28843\n",
            "Epoch 19/50\n",
            "38/38 [==============================] - 47s 1s/step - loss: 0.9762 - accuracy: 0.6645 - val_loss: 3.1270 - val_accuracy: 0.2713\n",
            "\n",
            "Epoch 00019: val_accuracy did not improve from 0.28843\n",
            "\n",
            "Epoch 00019: ReduceLROnPlateau reducing learning rate to 0.0001250000059371814.\n",
            "Epoch 20/50\n",
            "38/38 [==============================] - 47s 1s/step - loss: 0.9284 - accuracy: 0.6822 - val_loss: 3.1849 - val_accuracy: 0.2723\n",
            "\n",
            "Epoch 00020: val_accuracy did not improve from 0.28843\n",
            "Epoch 21/50\n",
            "38/38 [==============================] - 47s 1s/step - loss: 0.9150 - accuracy: 0.6890 - val_loss: 3.2148 - val_accuracy: 0.2732\n",
            "\n",
            "Epoch 00021: val_accuracy did not improve from 0.28843\n",
            "Epoch 22/50\n",
            "38/38 [==============================] - 47s 1s/step - loss: 0.9111 - accuracy: 0.6819 - val_loss: 3.2441 - val_accuracy: 0.2704\n",
            "\n",
            "Epoch 00022: val_accuracy did not improve from 0.28843\n",
            "\n",
            "Epoch 00022: ReduceLROnPlateau reducing learning rate to 6.25000029685907e-05.\n",
            "Epoch 23/50\n",
            "38/38 [==============================] - 47s 1s/step - loss: 0.8969 - accuracy: 0.6991 - val_loss: 3.2692 - val_accuracy: 0.2723\n",
            "\n",
            "Epoch 00023: val_accuracy did not improve from 0.28843\n",
            "Epoch 24/50\n",
            "38/38 [==============================] - 47s 1s/step - loss: 0.8892 - accuracy: 0.6961 - val_loss: 3.2916 - val_accuracy: 0.2704\n",
            "\n",
            "Epoch 00024: val_accuracy did not improve from 0.28843\n",
            "Epoch 25/50\n",
            "38/38 [==============================] - 47s 1s/step - loss: 0.8834 - accuracy: 0.7000 - val_loss: 3.3150 - val_accuracy: 0.2713\n",
            "\n",
            "Epoch 00025: val_accuracy did not improve from 0.28843\n",
            "\n",
            "Epoch 00025: ReduceLROnPlateau reducing learning rate to 3.125000148429535e-05.\n",
            "Epoch 26/50\n",
            "38/38 [==============================] - 47s 1s/step - loss: 0.8685 - accuracy: 0.7089 - val_loss: 3.3210 - val_accuracy: 0.2704\n",
            "\n",
            "Epoch 00026: val_accuracy did not improve from 0.28843\n",
            "Epoch 27/50\n",
            "38/38 [==============================] - 47s 1s/step - loss: 0.8684 - accuracy: 0.7052 - val_loss: 3.3262 - val_accuracy: 0.2704\n",
            "\n",
            "Epoch 00027: val_accuracy did not improve from 0.28843\n",
            "Epoch 28/50\n",
            "38/38 [==============================] - 46s 1s/step - loss: 0.8658 - accuracy: 0.7069 - val_loss: 3.3408 - val_accuracy: 0.2685\n",
            "\n",
            "Epoch 00028: val_accuracy did not improve from 0.28843\n",
            "\n",
            "Epoch 00028: ReduceLROnPlateau reducing learning rate to 1.5625000742147677e-05.\n",
            "Epoch 29/50\n",
            "38/38 [==============================] - 47s 1s/step - loss: 0.8624 - accuracy: 0.7027 - val_loss: 3.3481 - val_accuracy: 0.2694\n",
            "\n",
            "Epoch 00029: val_accuracy did not improve from 0.28843\n",
            "Epoch 30/50\n",
            "38/38 [==============================] - 47s 1s/step - loss: 0.8549 - accuracy: 0.7065 - val_loss: 3.3524 - val_accuracy: 0.2723\n",
            "\n",
            "Epoch 00030: val_accuracy did not improve from 0.28843\n",
            "Epoch 31/50\n",
            "38/38 [==============================] - 47s 1s/step - loss: 0.8548 - accuracy: 0.7075 - val_loss: 3.3603 - val_accuracy: 0.2723\n",
            "\n",
            "Epoch 00031: val_accuracy did not improve from 0.28843\n",
            "\n",
            "Epoch 00031: ReduceLROnPlateau reducing learning rate to 1e-05.\n",
            "Epoch 32/50\n",
            "38/38 [==============================] - 47s 1s/step - loss: 0.8648 - accuracy: 0.7109 - val_loss: 3.3633 - val_accuracy: 0.2723\n",
            "\n",
            "Epoch 00032: val_accuracy did not improve from 0.28843\n",
            "Epoch 33/50\n",
            "38/38 [==============================] - 47s 1s/step - loss: 0.8579 - accuracy: 0.7065 - val_loss: 3.3644 - val_accuracy: 0.2685\n",
            "\n",
            "Epoch 00033: val_accuracy did not improve from 0.28843\n",
            "Epoch 34/50\n",
            "38/38 [==============================] - 47s 1s/step - loss: 0.8574 - accuracy: 0.7062 - val_loss: 3.3692 - val_accuracy: 0.2713\n",
            "\n",
            "Epoch 00034: val_accuracy did not improve from 0.28843\n",
            "Epoch 35/50\n",
            "38/38 [==============================] - 47s 1s/step - loss: 0.8499 - accuracy: 0.7084 - val_loss: 3.3739 - val_accuracy: 0.2723\n",
            "\n",
            "Epoch 00035: val_accuracy did not improve from 0.28843\n",
            "Epoch 36/50\n",
            "38/38 [==============================] - 47s 1s/step - loss: 0.8538 - accuracy: 0.7130 - val_loss: 3.3767 - val_accuracy: 0.2713\n",
            "\n",
            "Epoch 00036: val_accuracy did not improve from 0.28843\n",
            "Epoch 37/50\n",
            "38/38 [==============================] - 47s 1s/step - loss: 0.8571 - accuracy: 0.7090 - val_loss: 3.3787 - val_accuracy: 0.2704\n",
            "\n",
            "Epoch 00037: val_accuracy did not improve from 0.28843\n",
            "Epoch 38/50\n",
            "38/38 [==============================] - 47s 1s/step - loss: 0.8520 - accuracy: 0.7118 - val_loss: 3.3827 - val_accuracy: 0.2704\n",
            "\n",
            "Epoch 00038: val_accuracy did not improve from 0.28843\n",
            "Epoch 39/50\n",
            "38/38 [==============================] - 47s 1s/step - loss: 0.8550 - accuracy: 0.7088 - val_loss: 3.3857 - val_accuracy: 0.2694\n",
            "\n",
            "Epoch 00039: val_accuracy did not improve from 0.28843\n",
            "Epoch 40/50\n",
            "38/38 [==============================] - 47s 1s/step - loss: 0.8512 - accuracy: 0.7143 - val_loss: 3.3891 - val_accuracy: 0.2704\n",
            "\n",
            "Epoch 00040: val_accuracy did not improve from 0.28843\n",
            "Epoch 41/50\n",
            "38/38 [==============================] - 47s 1s/step - loss: 0.8555 - accuracy: 0.7085 - val_loss: 3.3903 - val_accuracy: 0.2704\n",
            "\n",
            "Epoch 00041: val_accuracy did not improve from 0.28843\n",
            "Epoch 42/50\n",
            "38/38 [==============================] - 48s 1s/step - loss: 0.8520 - accuracy: 0.7093 - val_loss: 3.3929 - val_accuracy: 0.2723\n",
            "\n",
            "Epoch 00042: val_accuracy did not improve from 0.28843\n",
            "Epoch 43/50\n",
            "38/38 [==============================] - 47s 1s/step - loss: 0.8510 - accuracy: 0.7105 - val_loss: 3.3959 - val_accuracy: 0.2694\n",
            "\n",
            "Epoch 00043: val_accuracy did not improve from 0.28843\n",
            "Epoch 44/50\n",
            "38/38 [==============================] - 47s 1s/step - loss: 0.8430 - accuracy: 0.7151 - val_loss: 3.3993 - val_accuracy: 0.2704\n",
            "\n",
            "Epoch 00044: val_accuracy did not improve from 0.28843\n",
            "Epoch 45/50\n",
            "38/38 [==============================] - 47s 1s/step - loss: 0.8389 - accuracy: 0.7116 - val_loss: 3.4026 - val_accuracy: 0.2704\n",
            "\n",
            "Epoch 00045: val_accuracy did not improve from 0.28843\n",
            "Epoch 46/50\n",
            "38/38 [==============================] - 47s 1s/step - loss: 0.8443 - accuracy: 0.7127 - val_loss: 3.4075 - val_accuracy: 0.2685\n",
            "\n",
            "Epoch 00046: val_accuracy did not improve from 0.28843\n",
            "Epoch 47/50\n",
            "38/38 [==============================] - 48s 1s/step - loss: 0.8416 - accuracy: 0.7140 - val_loss: 3.4092 - val_accuracy: 0.2685\n",
            "\n",
            "Epoch 00047: val_accuracy did not improve from 0.28843\n",
            "Epoch 48/50\n",
            "38/38 [==============================] - 48s 1s/step - loss: 0.8391 - accuracy: 0.7129 - val_loss: 3.4148 - val_accuracy: 0.2713\n",
            "\n",
            "Epoch 00048: val_accuracy did not improve from 0.28843\n",
            "Epoch 49/50\n",
            "38/38 [==============================] - 48s 1s/step - loss: 0.8415 - accuracy: 0.7106 - val_loss: 3.4177 - val_accuracy: 0.2694\n",
            "\n",
            "Epoch 00049: val_accuracy did not improve from 0.28843\n",
            "Epoch 50/50\n",
            "38/38 [==============================] - 48s 1s/step - loss: 0.8482 - accuracy: 0.7127 - val_loss: 3.4215 - val_accuracy: 0.2676\n",
            "\n",
            "Epoch 00050: val_accuracy did not improve from 0.28843\n"
          ]
        }
      ]
    },
    {
      "cell_type": "code",
      "metadata": {
        "id": "4Lk1iB1_RG_-"
      },
      "source": [
        "import matplotlib.pyplot as plt"
      ],
      "execution_count": 47,
      "outputs": []
    },
    {
      "cell_type": "code",
      "metadata": {
        "colab": {
          "base_uri": "https://localhost:8080/",
          "height": 279
        },
        "id": "zeOzzod4oMO0",
        "outputId": "de26c6de-5bb1-4f86-f310-25a64dafda3e"
      },
      "source": [
        "plt.plot(history_cnn.history['accuracy'], \n",
        "         label='train accuracy')\n",
        "plt.plot(history_cnn.history['val_accuracy'], \n",
        "         label='val accuracy')\n",
        "plt.xlabel('epoch')\n",
        "plt.ylabel('accuracy')\n",
        "plt.legend()\n",
        "plt.show()"
      ],
      "execution_count": 48,
      "outputs": [
        {
          "output_type": "display_data",
          "data": {
            "image/png": "[encoded data removed]",
            "text/plain": [
              "<Figure size 432x288 with 1 Axes>"
            ]
          },
          "metadata": {
            "needs_background": "light"
          }
        }
      ]
    },
    {
      "cell_type": "code",
      "metadata": {
        "id": "Shjyj9t7nZ5Z"
      },
      "source": [
        "model_lstm = Sequential()\n",
        "model_lstm.add(Embedding(num_words, 32, input_length=max_text_len))\n",
        "model_lstm.add(LSTM(169, recurrent_dropout = 0.2, return_sequences=True))\n",
        "model_lstm.add(Dropout(0.2))\n",
        "model_lstm.add(LSTM(169))\n",
        "model_lstm.add(Dropout(0.3))\n",
        "model_lstm.add(Dense(13, activation='softmax'))"
      ],
      "execution_count": 49,
      "outputs": []
    },
    {
      "cell_type": "code",
      "metadata": {
        "id": "RMAMEGsVn6e8"
      },
      "source": [
        "model_lstm.compile(optimizer='adam', \n",
        "              loss='categorical_crossentropy', \n",
        "              metrics=['accuracy'])"
      ],
      "execution_count": 50,
      "outputs": []
    },
    {
      "cell_type": "code",
      "metadata": {
        "colab": {
          "base_uri": "https://localhost:8080/"
        },
        "id": "0PiEPEK2n_KK",
        "outputId": "530a1c73-0f69-4936-f0e3-4d2728e6990f"
      },
      "source": [
        "model_lstm.summary()"
      ],
      "execution_count": 52,
      "outputs": [
        {
          "output_type": "stream",
          "name": "stdout",
          "text": [
            "Model: \"sequential_5\"\n",
            "_________________________________________________________________\n",
            "Layer (type)                 Output Shape              Param #   \n",
            "=================================================================\n",
            "embedding_5 (Embedding)      (None, 100, 32)           96000     \n",
            "_________________________________________________________________\n",
            "lstm (LSTM)                  (None, 100, 169)          136552    \n",
            "_________________________________________________________________\n",
            "dropout_8 (Dropout)          (None, 100, 169)          0         \n",
            "_________________________________________________________________\n",
            "lstm_1 (LSTM)                (None, 169)               229164    \n",
            "_________________________________________________________________\n",
            "dropout_9 (Dropout)          (None, 169)               0         \n",
            "_________________________________________________________________\n",
            "dense_6 (Dense)              (None, 13)                2210      \n",
            "=================================================================\n",
            "Total params: 463,926\n",
            "Trainable params: 463,926\n",
            "Non-trainable params: 0\n",
            "_________________________________________________________________\n"
          ]
        }
      ]
    },
    {
      "cell_type": "code",
      "metadata": {
        "id": "Rp21Eej2oBuy"
      },
      "source": [
        "model_lstm_save_path = 'lstm.h5'\n",
        "checkpoint_callback_lstm = ModelCheckpoint(model_lstm_save_path, \n",
        "                                      monitor='val_accuracy',\n",
        "                                      save_best_only=True,\n",
        "                                      verbose=1)"
      ],
      "execution_count": 53,
      "outputs": []
    },
    {
      "cell_type": "code",
      "metadata": {
        "colab": {
          "base_uri": "https://localhost:8080/"
        },
        "id": "sR4X2YszoSPv",
        "outputId": "b080fbcf-5649-4e91-82e9-7329eb94bdbe"
      },
      "source": [
        "history_lstm = model_lstm.fit(X_train, \n",
        "                            Y_train, \n",
        "                            epochs=50,\n",
        "                            validation_data=(X_val, Y_val),\n",
        "                            batch_size=256,\n",
        "                            callbacks=[checkpoint_callback_lstm, learning_rate_reduction])"
      ],
      "execution_count": 54,
      "outputs": [
        {
          "output_type": "stream",
          "name": "stdout",
          "text": [
            "Epoch 1/50\n",
            "38/38 [==============================] - 84s 2s/step - loss: 2.5273 - accuracy: 0.0972 - val_loss: 2.4929 - val_accuracy: 0.1186\n",
            "\n",
            "Epoch 00001: val_accuracy improved from -inf to 0.11860, saving model to lstm.h5\n",
            "Epoch 2/50\n",
            "38/38 [==============================] - 80s 2s/step - loss: 2.3675 - accuracy: 0.1432 - val_loss: 2.3641 - val_accuracy: 0.1300\n",
            "\n",
            "Epoch 00002: val_accuracy improved from 0.11860 to 0.12998, saving model to lstm.h5\n",
            "Epoch 3/50\n",
            "38/38 [==============================] - 80s 2s/step - loss: 2.2815 - accuracy: 0.1642 - val_loss: 2.4301 - val_accuracy: 0.1423\n",
            "\n",
            "Epoch 00003: val_accuracy improved from 0.12998 to 0.14231, saving model to lstm.h5\n",
            "Epoch 4/50\n",
            "38/38 [==============================] - 80s 2s/step - loss: 2.2427 - accuracy: 0.1894 - val_loss: 2.3085 - val_accuracy: 0.1888\n",
            "\n",
            "Epoch 00004: val_accuracy improved from 0.14231 to 0.18880, saving model to lstm.h5\n",
            "Epoch 5/50\n",
            "38/38 [==============================] - 80s 2s/step - loss: 2.1371 - accuracy: 0.2394 - val_loss: 2.2037 - val_accuracy: 0.2410\n",
            "\n",
            "Epoch 00005: val_accuracy improved from 0.18880 to 0.24099, saving model to lstm.h5\n",
            "Epoch 6/50\n",
            "38/38 [==============================] - 80s 2s/step - loss: 1.9929 - accuracy: 0.3052 - val_loss: 2.1919 - val_accuracy: 0.2505\n",
            "\n",
            "Epoch 00006: val_accuracy improved from 0.24099 to 0.25047, saving model to lstm.h5\n",
            "Epoch 7/50\n",
            "38/38 [==============================] - 80s 2s/step - loss: 1.8678 - accuracy: 0.3438 - val_loss: 2.2033 - val_accuracy: 0.2894\n",
            "\n",
            "Epoch 00007: val_accuracy improved from 0.25047 to 0.28937, saving model to lstm.h5\n",
            "Epoch 8/50\n",
            "38/38 [==============================] - 80s 2s/step - loss: 1.7875 - accuracy: 0.3765 - val_loss: 2.1451 - val_accuracy: 0.2884\n",
            "\n",
            "Epoch 00008: val_accuracy did not improve from 0.28937\n",
            "Epoch 9/50\n",
            "38/38 [==============================] - 79s 2s/step - loss: 1.7018 - accuracy: 0.4086 - val_loss: 2.1716 - val_accuracy: 0.3065\n",
            "\n",
            "Epoch 00009: val_accuracy improved from 0.28937 to 0.30645, saving model to lstm.h5\n",
            "Epoch 10/50\n",
            "38/38 [==============================] - 80s 2s/step - loss: 1.6017 - accuracy: 0.4522 - val_loss: 2.1544 - val_accuracy: 0.3093\n",
            "\n",
            "Epoch 00010: val_accuracy improved from 0.30645 to 0.30930, saving model to lstm.h5\n",
            "Epoch 11/50\n",
            "38/38 [==============================] - 80s 2s/step - loss: 1.5660 - accuracy: 0.4697 - val_loss: 2.1849 - val_accuracy: 0.3159\n",
            "\n",
            "Epoch 00011: val_accuracy improved from 0.30930 to 0.31594, saving model to lstm.h5\n",
            "Epoch 12/50\n",
            "38/38 [==============================] - 79s 2s/step - loss: 1.4857 - accuracy: 0.4900 - val_loss: 2.1618 - val_accuracy: 0.3387\n",
            "\n",
            "Epoch 00012: val_accuracy improved from 0.31594 to 0.33871, saving model to lstm.h5\n",
            "Epoch 13/50\n",
            "38/38 [==============================] - 81s 2s/step - loss: 1.4420 - accuracy: 0.5149 - val_loss: 2.2191 - val_accuracy: 0.3150\n",
            "\n",
            "Epoch 00013: val_accuracy did not improve from 0.33871\n",
            "Epoch 14/50\n",
            "38/38 [==============================] - 81s 2s/step - loss: 1.3904 - accuracy: 0.5236 - val_loss: 2.7407 - val_accuracy: 0.2590\n",
            "\n",
            "Epoch 00014: val_accuracy did not improve from 0.33871\n",
            "Epoch 15/50\n",
            "38/38 [==============================] - 80s 2s/step - loss: 1.5470 - accuracy: 0.4868 - val_loss: 2.1918 - val_accuracy: 0.3387\n",
            "\n",
            "Epoch 00015: val_accuracy did not improve from 0.33871\n",
            "\n",
            "Epoch 00015: ReduceLROnPlateau reducing learning rate to 0.0005000000237487257.\n",
            "Epoch 16/50\n",
            "38/38 [==============================] - 80s 2s/step - loss: 1.3198 - accuracy: 0.5564 - val_loss: 2.2414 - val_accuracy: 0.3463\n",
            "\n",
            "Epoch 00016: val_accuracy improved from 0.33871 to 0.34630, saving model to lstm.h5\n",
            "Epoch 17/50\n",
            "38/38 [==============================] - 80s 2s/step - loss: 1.2365 - accuracy: 0.5897 - val_loss: 2.3451 - val_accuracy: 0.3387\n",
            "\n",
            "Epoch 00017: val_accuracy did not improve from 0.34630\n",
            "Epoch 18/50\n",
            "38/38 [==============================] - 80s 2s/step - loss: 1.1860 - accuracy: 0.6158 - val_loss: 2.3598 - val_accuracy: 0.3302\n",
            "\n",
            "Epoch 00018: val_accuracy did not improve from 0.34630\n",
            "Epoch 19/50\n",
            "38/38 [==============================] - 79s 2s/step - loss: 1.1498 - accuracy: 0.6221 - val_loss: 2.3904 - val_accuracy: 0.3406\n",
            "\n",
            "Epoch 00019: val_accuracy did not improve from 0.34630\n",
            "\n",
            "Epoch 00019: ReduceLROnPlateau reducing learning rate to 0.0002500000118743628.\n",
            "Epoch 20/50\n",
            "38/38 [==============================] - 80s 2s/step - loss: 1.0991 - accuracy: 0.6463 - val_loss: 2.4358 - val_accuracy: 0.3435\n",
            "\n",
            "Epoch 00020: val_accuracy did not improve from 0.34630\n",
            "Epoch 21/50\n",
            "38/38 [==============================] - 80s 2s/step - loss: 1.0729 - accuracy: 0.6548 - val_loss: 2.4815 - val_accuracy: 0.3359\n",
            "\n",
            "Epoch 00021: val_accuracy did not improve from 0.34630\n",
            "Epoch 22/50\n",
            "38/38 [==============================] - 80s 2s/step - loss: 1.0304 - accuracy: 0.6740 - val_loss: 2.5614 - val_accuracy: 0.3406\n",
            "\n",
            "Epoch 00022: val_accuracy did not improve from 0.34630\n",
            "\n",
            "Epoch 00022: ReduceLROnPlateau reducing learning rate to 0.0001250000059371814.\n",
            "Epoch 23/50\n",
            "38/38 [==============================] - 79s 2s/step - loss: 1.0307 - accuracy: 0.6677 - val_loss: 2.5344 - val_accuracy: 0.3387\n",
            "\n",
            "Epoch 00023: val_accuracy did not improve from 0.34630\n",
            "Epoch 24/50\n",
            "38/38 [==============================] - 79s 2s/step - loss: 0.9926 - accuracy: 0.6882 - val_loss: 2.5561 - val_accuracy: 0.3359\n",
            "\n",
            "Epoch 00024: val_accuracy did not improve from 0.34630\n",
            "Epoch 25/50\n",
            "38/38 [==============================] - 79s 2s/step - loss: 0.9794 - accuracy: 0.6937 - val_loss: 2.5846 - val_accuracy: 0.3397\n",
            "\n",
            "Epoch 00025: val_accuracy did not improve from 0.34630\n",
            "\n",
            "Epoch 00025: ReduceLROnPlateau reducing learning rate to 6.25000029685907e-05.\n",
            "Epoch 26/50\n",
            "38/38 [==============================] - 79s 2s/step - loss: 0.9650 - accuracy: 0.6977 - val_loss: 2.6040 - val_accuracy: 0.3387\n",
            "\n",
            "Epoch 00026: val_accuracy did not improve from 0.34630\n",
            "Epoch 27/50\n",
            "38/38 [==============================] - 79s 2s/step - loss: 0.9585 - accuracy: 0.7034 - val_loss: 2.6045 - val_accuracy: 0.3397\n",
            "\n",
            "Epoch 00027: val_accuracy did not improve from 0.34630\n",
            "Epoch 28/50\n",
            "38/38 [==============================] - 79s 2s/step - loss: 0.9508 - accuracy: 0.7042 - val_loss: 2.6174 - val_accuracy: 0.3368\n",
            "\n",
            "Epoch 00028: val_accuracy did not improve from 0.34630\n",
            "\n",
            "Epoch 00028: ReduceLROnPlateau reducing learning rate to 3.125000148429535e-05.\n",
            "Epoch 29/50\n",
            "38/38 [==============================] - 79s 2s/step - loss: 0.9381 - accuracy: 0.7093 - val_loss: 2.6276 - val_accuracy: 0.3349\n",
            "\n",
            "Epoch 00029: val_accuracy did not improve from 0.34630\n",
            "Epoch 30/50\n",
            "38/38 [==============================] - 79s 2s/step - loss: 0.9324 - accuracy: 0.7123 - val_loss: 2.6360 - val_accuracy: 0.3349\n",
            "\n",
            "Epoch 00030: val_accuracy did not improve from 0.34630\n",
            "Epoch 31/50\n",
            "38/38 [==============================] - 79s 2s/step - loss: 0.9319 - accuracy: 0.7143 - val_loss: 2.6443 - val_accuracy: 0.3359\n",
            "\n",
            "Epoch 00031: val_accuracy did not improve from 0.34630\n",
            "\n",
            "Epoch 00031: ReduceLROnPlateau reducing learning rate to 1.5625000742147677e-05.\n",
            "Epoch 32/50\n",
            "38/38 [==============================] - 79s 2s/step - loss: 0.9277 - accuracy: 0.7160 - val_loss: 2.6487 - val_accuracy: 0.3330\n",
            "\n",
            "Epoch 00032: val_accuracy did not improve from 0.34630\n",
            "Epoch 33/50\n",
            "38/38 [==============================] - 79s 2s/step - loss: 0.9231 - accuracy: 0.7166 - val_loss: 2.6529 - val_accuracy: 0.3359\n",
            "\n",
            "Epoch 00033: val_accuracy did not improve from 0.34630\n",
            "Epoch 34/50\n",
            "38/38 [==============================] - 79s 2s/step - loss: 0.9223 - accuracy: 0.7158 - val_loss: 2.6594 - val_accuracy: 0.3330\n",
            "\n",
            "Epoch 00034: val_accuracy did not improve from 0.34630\n",
            "\n",
            "Epoch 00034: ReduceLROnPlateau reducing learning rate to 1e-05.\n",
            "Epoch 35/50\n",
            "38/38 [==============================] - 79s 2s/step - loss: 0.9235 - accuracy: 0.7223 - val_loss: 2.6631 - val_accuracy: 0.3359\n",
            "\n",
            "Epoch 00035: val_accuracy did not improve from 0.34630\n",
            "Epoch 36/50\n",
            "38/38 [==============================] - 79s 2s/step - loss: 0.9204 - accuracy: 0.7176 - val_loss: 2.6660 - val_accuracy: 0.3349\n",
            "\n",
            "Epoch 00036: val_accuracy did not improve from 0.34630\n",
            "Epoch 37/50\n",
            "38/38 [==============================] - 80s 2s/step - loss: 0.9182 - accuracy: 0.7196 - val_loss: 2.6629 - val_accuracy: 0.3321\n",
            "\n",
            "Epoch 00037: val_accuracy did not improve from 0.34630\n",
            "Epoch 38/50\n",
            "38/38 [==============================] - 80s 2s/step - loss: 0.9176 - accuracy: 0.7200 - val_loss: 2.6653 - val_accuracy: 0.3311\n",
            "\n",
            "Epoch 00038: val_accuracy did not improve from 0.34630\n",
            "Epoch 39/50\n",
            "38/38 [==============================] - 80s 2s/step - loss: 0.9194 - accuracy: 0.7175 - val_loss: 2.6674 - val_accuracy: 0.3321\n",
            "\n",
            "Epoch 00039: val_accuracy did not improve from 0.34630\n",
            "Epoch 40/50\n",
            "38/38 [==============================] - 80s 2s/step - loss: 0.9177 - accuracy: 0.7227 - val_loss: 2.6715 - val_accuracy: 0.3349\n",
            "\n",
            "Epoch 00040: val_accuracy did not improve from 0.34630\n",
            "Epoch 41/50\n",
            "38/38 [==============================] - 80s 2s/step - loss: 0.9140 - accuracy: 0.7222 - val_loss: 2.6730 - val_accuracy: 0.3359\n",
            "\n",
            "Epoch 00041: val_accuracy did not improve from 0.34630\n",
            "Epoch 42/50\n",
            "38/38 [==============================] - 80s 2s/step - loss: 0.9135 - accuracy: 0.7234 - val_loss: 2.6772 - val_accuracy: 0.3302\n",
            "\n",
            "Epoch 00042: val_accuracy did not improve from 0.34630\n",
            "Epoch 43/50\n",
            "38/38 [==============================] - 81s 2s/step - loss: 0.9075 - accuracy: 0.7233 - val_loss: 2.6834 - val_accuracy: 0.3302\n",
            "\n",
            "Epoch 00043: val_accuracy did not improve from 0.34630\n",
            "Epoch 44/50\n",
            "38/38 [==============================] - 80s 2s/step - loss: 0.9139 - accuracy: 0.7209 - val_loss: 2.6846 - val_accuracy: 0.3311\n",
            "\n",
            "Epoch 00044: val_accuracy did not improve from 0.34630\n",
            "Epoch 45/50\n",
            "38/38 [==============================] - 80s 2s/step - loss: 0.9098 - accuracy: 0.7250 - val_loss: 2.6845 - val_accuracy: 0.3302\n",
            "\n",
            "Epoch 00045: val_accuracy did not improve from 0.34630\n",
            "Epoch 46/50\n",
            "38/38 [==============================] - 79s 2s/step - loss: 0.9062 - accuracy: 0.7183 - val_loss: 2.6875 - val_accuracy: 0.3330\n",
            "\n",
            "Epoch 00046: val_accuracy did not improve from 0.34630\n",
            "Epoch 47/50\n",
            "38/38 [==============================] - 80s 2s/step - loss: 0.9103 - accuracy: 0.7215 - val_loss: 2.6868 - val_accuracy: 0.3330\n",
            "\n",
            "Epoch 00047: val_accuracy did not improve from 0.34630\n",
            "Epoch 48/50\n",
            "38/38 [==============================] - 80s 2s/step - loss: 0.9076 - accuracy: 0.7220 - val_loss: 2.6908 - val_accuracy: 0.3283\n",
            "\n",
            "Epoch 00048: val_accuracy did not improve from 0.34630\n",
            "Epoch 49/50\n",
            "38/38 [==============================] - 79s 2s/step - loss: 0.9087 - accuracy: 0.7220 - val_loss: 2.6929 - val_accuracy: 0.3302\n",
            "\n",
            "Epoch 00049: val_accuracy did not improve from 0.34630\n",
            "Epoch 50/50\n",
            "38/38 [==============================] - 80s 2s/step - loss: 0.9078 - accuracy: 0.7205 - val_loss: 2.6941 - val_accuracy: 0.3330\n",
            "\n",
            "Epoch 00050: val_accuracy did not improve from 0.34630\n"
          ]
        }
      ]
    },
    {
      "cell_type": "code",
      "metadata": {
        "colab": {
          "base_uri": "https://localhost:8080/",
          "height": 279
        },
        "id": "dmJmU86YoX4s",
        "outputId": "35f05119-e92a-4ca9-c3f0-99a261573c73"
      },
      "source": [
        "plt.plot(history_lstm.history['accuracy'], \n",
        "         label='train accuracy')\n",
        "plt.plot(history_lstm.history['val_accuracy'], \n",
        "         label='val accuracy')\n",
        "plt.xlabel('epoch')\n",
        "plt.ylabel('accuracy')\n",
        "plt.legend()\n",
        "plt.show()"
      ],
      "execution_count": 55,
      "outputs": [
        {
          "output_type": "display_data",
          "data": {
            "image/png": "[encoded data removed]",
            "text/plain": [
              "<Figure size 432x288 with 1 Axes>"
            ]
          },
          "metadata": {
            "needs_background": "light"
          }
        }
      ]
    },
    {
      "cell_type": "code",
      "metadata": {
        "id": "KrcHveiHodga"
      },
      "source": [
        "model_gru = Sequential()\n",
        "model_gru.add(Embedding(num_words, 32, input_length=max_text_len))\n",
        "model_gru.add(GRU(169, recurrent_dropout = 0.2, return_sequences=True))\n",
        "model_gru.add(Dropout(0.2))\n",
        "model_gru.add(GRU(169))\n",
        "model_gru.add(Dropout(0.3))\n",
        "model_gru.add(Dense(13, activation='softmax'))"
      ],
      "execution_count": 56,
      "outputs": []
    },
    {
      "cell_type": "code",
      "metadata": {
        "id": "HO4-vG_Joh1p"
      },
      "source": [
        "model_gru.compile(optimizer='adam', \n",
        "              loss='categorical_crossentropy', \n",
        "              metrics=['accuracy'])"
      ],
      "execution_count": 57,
      "outputs": []
    },
    {
      "cell_type": "code",
      "metadata": {
        "colab": {
          "base_uri": "https://localhost:8080/"
        },
        "id": "X1wOoKhJokmc",
        "outputId": "3abf99c7-9c74-459a-a8c1-c0e5cf8dcb3d"
      },
      "source": [
        "model_gru.summary()"
      ],
      "execution_count": 58,
      "outputs": [
        {
          "output_type": "stream",
          "name": "stdout",
          "text": [
            "Model: \"sequential_6\"\n",
            "_________________________________________________________________\n",
            "Layer (type)                 Output Shape              Param #   \n",
            "=================================================================\n",
            "embedding_6 (Embedding)      (None, 100, 32)           96000     \n",
            "_________________________________________________________________\n",
            "gru (GRU)                    (None, 100, 169)          102921    \n",
            "_________________________________________________________________\n",
            "dropout_10 (Dropout)         (None, 100, 169)          0         \n",
            "_________________________________________________________________\n",
            "gru_1 (GRU)                  (None, 169)               172380    \n",
            "_________________________________________________________________\n",
            "dropout_11 (Dropout)         (None, 169)               0         \n",
            "_________________________________________________________________\n",
            "dense_7 (Dense)              (None, 13)                2210      \n",
            "=================================================================\n",
            "Total params: 373,511\n",
            "Trainable params: 373,511\n",
            "Non-trainable params: 0\n",
            "_________________________________________________________________\n"
          ]
        }
      ]
    },
    {
      "cell_type": "code",
      "metadata": {
        "id": "x5JspntRonFX"
      },
      "source": [
        "model_gru_save_path = 'gru.h5'\n",
        "checkpoint_callback_gru = ModelCheckpoint(model_gru_save_path, \n",
        "                                      monitor='val_accuracy',\n",
        "                                      save_best_only=True,\n",
        "                                      verbose=1)"
      ],
      "execution_count": 59,
      "outputs": []
    },
    {
      "cell_type": "code",
      "metadata": {
        "colab": {
          "base_uri": "https://localhost:8080/"
        },
        "id": "MjwAEIBdu0R9",
        "outputId": "34bcfb75-4253-4f72-e1c4-01cc97f5c52b"
      },
      "source": [
        "upd_history_gru = model_gru.fit(X_train, \n",
        "                            Y_train, \n",
        "                            epochs=50,\n",
        "                            validation_data=(X_val, Y_val),\n",
        "                            batch_size=256,\n",
        "                            callbacks=[checkpoint_callback_gru, learning_rate_reduction])"
      ],
      "execution_count": 60,
      "outputs": [
        {
          "output_type": "stream",
          "name": "stdout",
          "text": [
            "Epoch 1/50\n",
            "38/38 [==============================] - 69s 2s/step - loss: 2.5640 - accuracy: 0.0837 - val_loss: 2.5562 - val_accuracy: 0.1309\n",
            "\n",
            "Epoch 00001: val_accuracy improved from -inf to 0.13093, saving model to gru.h5\n",
            "Epoch 2/50\n",
            "38/38 [==============================] - 64s 2s/step - loss: 2.4131 - accuracy: 0.1635 - val_loss: 2.3270 - val_accuracy: 0.1841\n",
            "\n",
            "Epoch 00002: val_accuracy improved from 0.13093 to 0.18406, saving model to gru.h5\n",
            "Epoch 3/50\n",
            "38/38 [==============================] - 64s 2s/step - loss: 2.1635 - accuracy: 0.2460 - val_loss: 2.2144 - val_accuracy: 0.2362\n",
            "\n",
            "Epoch 00003: val_accuracy improved from 0.18406 to 0.23624, saving model to gru.h5\n",
            "Epoch 4/50\n",
            "38/38 [==============================] - 65s 2s/step - loss: 1.9642 - accuracy: 0.3187 - val_loss: 2.1257 - val_accuracy: 0.2524\n",
            "\n",
            "Epoch 00004: val_accuracy improved from 0.23624 to 0.25237, saving model to gru.h5\n",
            "Epoch 5/50\n",
            "38/38 [==============================] - 64s 2s/step - loss: 1.7985 - accuracy: 0.3828 - val_loss: 2.1572 - val_accuracy: 0.2780\n",
            "\n",
            "Epoch 00005: val_accuracy improved from 0.25237 to 0.27799, saving model to gru.h5\n",
            "Epoch 6/50\n",
            "38/38 [==============================] - 64s 2s/step - loss: 1.6686 - accuracy: 0.4278 - val_loss: 2.2218 - val_accuracy: 0.2998\n",
            "\n",
            "Epoch 00006: val_accuracy improved from 0.27799 to 0.29981, saving model to gru.h5\n",
            "Epoch 7/50\n",
            "38/38 [==============================] - 64s 2s/step - loss: 1.5894 - accuracy: 0.4565 - val_loss: 2.3804 - val_accuracy: 0.2789\n",
            "\n",
            "Epoch 00007: val_accuracy did not improve from 0.29981\n",
            "Epoch 8/50\n",
            "38/38 [==============================] - 65s 2s/step - loss: 1.5439 - accuracy: 0.4714 - val_loss: 2.2230 - val_accuracy: 0.2941\n",
            "\n",
            "Epoch 00008: val_accuracy did not improve from 0.29981\n",
            "Epoch 9/50\n",
            "38/38 [==============================] - 66s 2s/step - loss: 1.4158 - accuracy: 0.5164 - val_loss: 2.3500 - val_accuracy: 0.2998\n",
            "\n",
            "Epoch 00009: val_accuracy did not improve from 0.29981\n",
            "\n",
            "Epoch 00009: ReduceLROnPlateau reducing learning rate to 0.0005000000237487257.\n",
            "Epoch 10/50\n",
            "38/38 [==============================] - 66s 2s/step - loss: 1.3557 - accuracy: 0.5429 - val_loss: 2.2594 - val_accuracy: 0.3102\n",
            "\n",
            "Epoch 00010: val_accuracy improved from 0.29981 to 0.31025, saving model to gru.h5\n",
            "Epoch 11/50\n",
            "38/38 [==============================] - 64s 2s/step - loss: 1.2818 - accuracy: 0.5654 - val_loss: 2.3361 - val_accuracy: 0.3065\n",
            "\n",
            "Epoch 00011: val_accuracy did not improve from 0.31025\n",
            "Epoch 12/50\n",
            "38/38 [==============================] - 65s 2s/step - loss: 1.2334 - accuracy: 0.5865 - val_loss: 2.3915 - val_accuracy: 0.2979\n",
            "\n",
            "Epoch 00012: val_accuracy did not improve from 0.31025\n",
            "Epoch 13/50\n",
            "38/38 [==============================] - 65s 2s/step - loss: 1.1898 - accuracy: 0.6047 - val_loss: 2.4307 - val_accuracy: 0.2970\n",
            "\n",
            "Epoch 00013: val_accuracy did not improve from 0.31025\n",
            "\n",
            "Epoch 00013: ReduceLROnPlateau reducing learning rate to 0.0002500000118743628.\n",
            "Epoch 14/50\n",
            "38/38 [==============================] - 65s 2s/step - loss: 1.1382 - accuracy: 0.6227 - val_loss: 2.4704 - val_accuracy: 0.2979\n",
            "\n",
            "Epoch 00014: val_accuracy did not improve from 0.31025\n",
            "Epoch 15/50\n",
            "38/38 [==============================] - 66s 2s/step - loss: 1.1106 - accuracy: 0.6297 - val_loss: 2.5031 - val_accuracy: 0.3008\n",
            "\n",
            "Epoch 00015: val_accuracy did not improve from 0.31025\n",
            "Epoch 16/50\n",
            "38/38 [==============================] - 66s 2s/step - loss: 1.0975 - accuracy: 0.6360 - val_loss: 2.5578 - val_accuracy: 0.3008\n",
            "\n",
            "Epoch 00016: val_accuracy did not improve from 0.31025\n",
            "\n",
            "Epoch 00016: ReduceLROnPlateau reducing learning rate to 0.0001250000059371814.\n",
            "Epoch 17/50\n",
            "38/38 [==============================] - 66s 2s/step - loss: 1.0631 - accuracy: 0.6503 - val_loss: 2.5699 - val_accuracy: 0.3065\n",
            "\n",
            "Epoch 00017: val_accuracy did not improve from 0.31025\n",
            "Epoch 18/50\n",
            "38/38 [==============================] - 66s 2s/step - loss: 1.0481 - accuracy: 0.6536 - val_loss: 2.5864 - val_accuracy: 0.3027\n",
            "\n",
            "Epoch 00018: val_accuracy did not improve from 0.31025\n",
            "Epoch 19/50\n",
            "38/38 [==============================] - 65s 2s/step - loss: 1.0272 - accuracy: 0.6658 - val_loss: 2.6142 - val_accuracy: 0.3027\n",
            "\n",
            "Epoch 00019: val_accuracy did not improve from 0.31025\n",
            "\n",
            "Epoch 00019: ReduceLROnPlateau reducing learning rate to 6.25000029685907e-05.\n",
            "Epoch 20/50\n",
            "38/38 [==============================] - 65s 2s/step - loss: 1.0190 - accuracy: 0.6664 - val_loss: 2.6365 - val_accuracy: 0.2989\n",
            "\n",
            "Epoch 00020: val_accuracy did not improve from 0.31025\n",
            "Epoch 21/50\n",
            "38/38 [==============================] - 65s 2s/step - loss: 1.0057 - accuracy: 0.6717 - val_loss: 2.6475 - val_accuracy: 0.3036\n",
            "\n",
            "Epoch 00021: val_accuracy did not improve from 0.31025\n",
            "Epoch 22/50\n",
            "38/38 [==============================] - 65s 2s/step - loss: 1.0030 - accuracy: 0.6742 - val_loss: 2.6585 - val_accuracy: 0.2998\n",
            "\n",
            "Epoch 00022: val_accuracy did not improve from 0.31025\n",
            "\n",
            "Epoch 00022: ReduceLROnPlateau reducing learning rate to 3.125000148429535e-05.\n",
            "Epoch 23/50\n",
            "38/38 [==============================] - 65s 2s/step - loss: 1.0045 - accuracy: 0.6726 - val_loss: 2.6606 - val_accuracy: 0.3027\n",
            "\n",
            "Epoch 00023: val_accuracy did not improve from 0.31025\n",
            "Epoch 24/50\n",
            "38/38 [==============================] - 64s 2s/step - loss: 0.9912 - accuracy: 0.6745 - val_loss: 2.6654 - val_accuracy: 0.3027\n",
            "\n",
            "Epoch 00024: val_accuracy did not improve from 0.31025\n",
            "Epoch 25/50\n",
            "38/38 [==============================] - 64s 2s/step - loss: 0.9903 - accuracy: 0.6789 - val_loss: 2.6777 - val_accuracy: 0.3055\n",
            "\n",
            "Epoch 00025: val_accuracy did not improve from 0.31025\n",
            "\n",
            "Epoch 00025: ReduceLROnPlateau reducing learning rate to 1.5625000742147677e-05.\n",
            "Epoch 26/50\n",
            "38/38 [==============================] - 64s 2s/step - loss: 0.9916 - accuracy: 0.6754 - val_loss: 2.6787 - val_accuracy: 0.3008\n",
            "\n",
            "Epoch 00026: val_accuracy did not improve from 0.31025\n",
            "Epoch 27/50\n",
            "38/38 [==============================] - 64s 2s/step - loss: 0.9928 - accuracy: 0.6821 - val_loss: 2.6828 - val_accuracy: 0.2998\n",
            "\n",
            "Epoch 00027: val_accuracy did not improve from 0.31025\n",
            "Epoch 28/50\n",
            "38/38 [==============================] - 64s 2s/step - loss: 0.9802 - accuracy: 0.6792 - val_loss: 2.6850 - val_accuracy: 0.2998\n",
            "\n",
            "Epoch 00028: val_accuracy did not improve from 0.31025\n",
            "\n",
            "Epoch 00028: ReduceLROnPlateau reducing learning rate to 1e-05.\n",
            "Epoch 29/50\n",
            "38/38 [==============================] - 64s 2s/step - loss: 0.9811 - accuracy: 0.6805 - val_loss: 2.6861 - val_accuracy: 0.2989\n",
            "\n",
            "Epoch 00029: val_accuracy did not improve from 0.31025\n",
            "Epoch 30/50\n",
            "38/38 [==============================] - 64s 2s/step - loss: 0.9751 - accuracy: 0.6821 - val_loss: 2.6898 - val_accuracy: 0.2998\n",
            "\n",
            "Epoch 00030: val_accuracy did not improve from 0.31025\n",
            "Epoch 31/50\n",
            "38/38 [==============================] - 64s 2s/step - loss: 0.9846 - accuracy: 0.6779 - val_loss: 2.6916 - val_accuracy: 0.2979\n",
            "\n",
            "Epoch 00031: val_accuracy did not improve from 0.31025\n",
            "Epoch 32/50\n",
            "38/38 [==============================] - 65s 2s/step - loss: 0.9748 - accuracy: 0.6852 - val_loss: 2.6924 - val_accuracy: 0.2979\n",
            "\n",
            "Epoch 00032: val_accuracy did not improve from 0.31025\n",
            "Epoch 33/50\n",
            "38/38 [==============================] - 65s 2s/step - loss: 0.9793 - accuracy: 0.6820 - val_loss: 2.6973 - val_accuracy: 0.2970\n",
            "\n",
            "Epoch 00033: val_accuracy did not improve from 0.31025\n",
            "Epoch 34/50\n",
            "38/38 [==============================] - 64s 2s/step - loss: 0.9807 - accuracy: 0.6775 - val_loss: 2.7000 - val_accuracy: 0.2960\n",
            "\n",
            "Epoch 00034: val_accuracy did not improve from 0.31025\n",
            "Epoch 35/50\n",
            "38/38 [==============================] - 64s 2s/step - loss: 0.9763 - accuracy: 0.6786 - val_loss: 2.7013 - val_accuracy: 0.2960\n",
            "\n",
            "Epoch 00035: val_accuracy did not improve from 0.31025\n",
            "Epoch 36/50\n",
            "38/38 [==============================] - 64s 2s/step - loss: 0.9827 - accuracy: 0.6847 - val_loss: 2.7021 - val_accuracy: 0.2979\n",
            "\n",
            "Epoch 00036: val_accuracy did not improve from 0.31025\n",
            "Epoch 37/50\n",
            "38/38 [==============================] - 65s 2s/step - loss: 0.9767 - accuracy: 0.6813 - val_loss: 2.7031 - val_accuracy: 0.2932\n",
            "\n",
            "Epoch 00037: val_accuracy did not improve from 0.31025\n",
            "Epoch 38/50\n",
            "38/38 [==============================] - 65s 2s/step - loss: 0.9764 - accuracy: 0.6835 - val_loss: 2.7066 - val_accuracy: 0.2998\n",
            "\n",
            "Epoch 00038: val_accuracy did not improve from 0.31025\n",
            "Epoch 39/50\n",
            "38/38 [==============================] - 65s 2s/step - loss: 0.9758 - accuracy: 0.6845 - val_loss: 2.7090 - val_accuracy: 0.2970\n",
            "\n",
            "Epoch 00039: val_accuracy did not improve from 0.31025\n",
            "Epoch 40/50\n",
            "38/38 [==============================] - 65s 2s/step - loss: 0.9706 - accuracy: 0.6896 - val_loss: 2.7116 - val_accuracy: 0.2979\n",
            "\n",
            "Epoch 00040: val_accuracy did not improve from 0.31025\n",
            "Epoch 41/50\n",
            "38/38 [==============================] - 65s 2s/step - loss: 0.9769 - accuracy: 0.6825 - val_loss: 2.7138 - val_accuracy: 0.2970\n",
            "\n",
            "Epoch 00041: val_accuracy did not improve from 0.31025\n",
            "Epoch 42/50\n",
            "38/38 [==============================] - 65s 2s/step - loss: 0.9717 - accuracy: 0.6879 - val_loss: 2.7164 - val_accuracy: 0.2960\n",
            "\n",
            "Epoch 00042: val_accuracy did not improve from 0.31025\n",
            "Epoch 43/50\n",
            "38/38 [==============================] - 65s 2s/step - loss: 0.9754 - accuracy: 0.6859 - val_loss: 2.7163 - val_accuracy: 0.2998\n",
            "\n",
            "Epoch 00043: val_accuracy did not improve from 0.31025\n",
            "Epoch 44/50\n",
            "38/38 [==============================] - 65s 2s/step - loss: 0.9697 - accuracy: 0.6860 - val_loss: 2.7196 - val_accuracy: 0.2960\n",
            "\n",
            "Epoch 00044: val_accuracy did not improve from 0.31025\n",
            "Epoch 45/50\n",
            "38/38 [==============================] - 66s 2s/step - loss: 0.9690 - accuracy: 0.6795 - val_loss: 2.7235 - val_accuracy: 0.2970\n",
            "\n",
            "Epoch 00045: val_accuracy did not improve from 0.31025\n",
            "Epoch 46/50\n",
            "38/38 [==============================] - 66s 2s/step - loss: 0.9665 - accuracy: 0.6873 - val_loss: 2.7250 - val_accuracy: 0.2979\n",
            "\n",
            "Epoch 00046: val_accuracy did not improve from 0.31025\n",
            "Epoch 47/50\n",
            "38/38 [==============================] - 65s 2s/step - loss: 0.9653 - accuracy: 0.6858 - val_loss: 2.7265 - val_accuracy: 0.2998\n",
            "\n",
            "Epoch 00047: val_accuracy did not improve from 0.31025\n",
            "Epoch 48/50\n",
            "38/38 [==============================] - 65s 2s/step - loss: 0.9680 - accuracy: 0.6917 - val_loss: 2.7294 - val_accuracy: 0.2970\n",
            "\n",
            "Epoch 00048: val_accuracy did not improve from 0.31025\n",
            "Epoch 49/50\n",
            "38/38 [==============================] - 65s 2s/step - loss: 0.9673 - accuracy: 0.6856 - val_loss: 2.7306 - val_accuracy: 0.2979\n",
            "\n",
            "Epoch 00049: val_accuracy did not improve from 0.31025\n",
            "Epoch 50/50\n",
            "38/38 [==============================] - 64s 2s/step - loss: 0.9661 - accuracy: 0.6916 - val_loss: 2.7318 - val_accuracy: 0.2998\n",
            "\n",
            "Epoch 00050: val_accuracy did not improve from 0.31025\n"
          ]
        }
      ]
    },
    {
      "cell_type": "code",
      "metadata": {
        "colab": {
          "base_uri": "https://localhost:8080/",
          "height": 279
        },
        "id": "vFfVyZF8vGHw",
        "outputId": "8d0f97bc-8b2f-40ba-bc76-4c5719372204"
      },
      "source": [
        "plt.plot(upd_history_gru.history['accuracy'], \n",
        "         label='train accuracy')\n",
        "plt.plot(upd_history_gru.history['val_accuracy'], \n",
        "         label='val accuracy')\n",
        "plt.xlabel('epoch')\n",
        "plt.ylabel('accuracy')\n",
        "plt.legend()\n",
        "plt.show()"
      ],
      "execution_count": 61,
      "outputs": [
        {
          "output_type": "display_data",
          "data": {
            "image/png": "[encoded data removed]",
            "text/plain": [
              "<Figure size 432x288 with 1 Axes>"
            ]
          },
          "metadata": {
            "needs_background": "light"
          }
        }
      ]
    },
    {
      "cell_type": "code",
      "metadata": {
        "id": "Ww2zb1H4GHpZ"
      },
      "source": [
        "test = pd.read_csv('test.csv', header=0)\n",
        "x_test = test['MESSAGE']\n",
        "y_test = utils.to_categorical(test['THEME'],file_names_size)"
      ],
      "execution_count": 62,
      "outputs": []
    },
    {
      "cell_type": "code",
      "metadata": {
        "id": "QFk-H0MryIVB"
      },
      "source": [
        "upd_x_test = []\n",
        "i = 0\n",
        "\n",
        "for i in x_test:\n",
        "  upd_test = token_and_stem(i)\n",
        "  upd_x_test.append(upd_test)"
      ],
      "execution_count": 63,
      "outputs": []
    },
    {
      "cell_type": "code",
      "metadata": {
        "id": "3NrlczLsxuQJ"
      },
      "source": [
        "tokens = []\n",
        "test = []\n",
        "\n",
        "for x_tr in upd_x_test:\n",
        "  for token in x_tr:\n",
        "    if token not in stopwords:\n",
        "      tokens.append(token)\n",
        "  test.append(tokens)\n",
        "  tokens = []"
      ],
      "execution_count": 64,
      "outputs": []
    },
    {
      "cell_type": "code",
      "metadata": {
        "id": "mF6lUdjUFzwH"
      },
      "source": [
        "test_sequences = tokenizer.texts_to_sequences(test)\n",
        "x_test = pad_sequences(test_sequences, maxlen=max_text_len)"
      ],
      "execution_count": 65,
      "outputs": []
    },
    {
      "cell_type": "code",
      "metadata": {
        "colab": {
          "base_uri": "https://localhost:8080/"
        },
        "id": "bKjQOHYNo40j",
        "outputId": "02e69619-9849-4879-b0a2-6aa282639e62"
      },
      "source": [
        "model_cnn.load_weights(model_cnn_save_path)\n",
        "model_cnn.evaluate(x_test, y_test, verbose=1)"
      ],
      "execution_count": 66,
      "outputs": [
        {
          "output_type": "stream",
          "name": "stdout",
          "text": [
            "83/83 [==============================] - 3s 40ms/step - loss: 2.2854 - accuracy: 0.2862\n"
          ]
        },
        {
          "output_type": "execute_result",
          "data": {
            "text/plain": [
              "[2.2853591442108154, 0.2862016558647156]"
            ]
          },
          "metadata": {},
          "execution_count": 66
        }
      ]
    },
    {
      "cell_type": "code",
      "metadata": {
        "colab": {
          "base_uri": "https://localhost:8080/"
        },
        "id": "nUCnHeTpNN-4",
        "outputId": "d20d8ecf-3960-46cc-ba57-a8d0d5dea2be"
      },
      "source": [
        "from sklearn.metrics import classification_report\n",
        "pred = model_cnn.predict(x_test, batch_size = 32)\n",
        "pred = np.argmax(pred, axis=1)\n",
        "answer_y_test = np.argmax(y_test, axis=1)\n",
        "print(classification_report(answer_y_test, pred))"
      ],
      "execution_count": 67,
      "outputs": [
        {
          "output_type": "stream",
          "name": "stdout",
          "text": [
            "              precision    recall  f1-score   support\n",
            "\n",
            "           0       0.24      0.25      0.24       202\n",
            "           1       0.33      0.40      0.36       201\n",
            "           2       0.33      0.33      0.33       202\n",
            "           3       0.10      0.03      0.05       201\n",
            "           4       0.17      0.17      0.17       202\n",
            "           5       0.13      0.09      0.11       203\n",
            "           6       0.24      0.25      0.25       203\n",
            "           7       0.34      0.36      0.35       203\n",
            "           8       0.28      0.43      0.34       205\n",
            "           9       0.38      0.57      0.45       203\n",
            "          10       0.17      0.06      0.09       204\n",
            "          11       0.19      0.15      0.16       204\n",
            "          12       0.46      0.61      0.53       205\n",
            "\n",
            "    accuracy                           0.29      2638\n",
            "   macro avg       0.26      0.29      0.26      2638\n",
            "weighted avg       0.26      0.29      0.26      2638\n",
            "\n"
          ]
        }
      ]
    },
    {
      "cell_type": "code",
      "metadata": {
        "id": "KaD1D7Gwo9Na",
        "colab": {
          "base_uri": "https://localhost:8080/"
        },
        "outputId": "570546a0-4cd2-4b1b-df86-307a78c94c3e"
      },
      "source": [
        "model_lstm.load_weights(model_lstm_save_path)\n",
        "model_lstm.evaluate(x_test, y_test, verbose=1)"
      ],
      "execution_count": 68,
      "outputs": [
        {
          "output_type": "stream",
          "name": "stdout",
          "text": [
            "83/83 [==============================] - 10s 120ms/step - loss: 2.2545 - accuracy: 0.3340\n"
          ]
        },
        {
          "output_type": "execute_result",
          "data": {
            "text/plain": [
              "[2.254488706588745, 0.33396512269973755]"
            ]
          },
          "metadata": {},
          "execution_count": 68
        }
      ]
    },
    {
      "cell_type": "code",
      "metadata": {
        "colab": {
          "base_uri": "https://localhost:8080/"
        },
        "id": "cyTBK1jINcss",
        "outputId": "936e9607-78de-462b-8f43-2e8d5a67a90a"
      },
      "source": [
        "pred = model_lstm.predict(x_test, batch_size = 32)\n",
        "pred = np.argmax(pred, axis=1)\n",
        "answer_y_test = np.argmax(y_test, axis=1)\n",
        "print(classification_report(answer_y_test, pred))"
      ],
      "execution_count": 69,
      "outputs": [
        {
          "output_type": "stream",
          "name": "stdout",
          "text": [
            "              precision    recall  f1-score   support\n",
            "\n",
            "           0       0.45      0.37      0.41       202\n",
            "           1       0.39      0.38      0.38       201\n",
            "           2       0.38      0.40      0.39       202\n",
            "           3       0.16      0.06      0.09       201\n",
            "           4       0.20      0.23      0.21       202\n",
            "           5       0.26      0.20      0.23       203\n",
            "           6       0.32      0.30      0.31       203\n",
            "           7       0.39      0.30      0.34       203\n",
            "           8       0.37      0.39      0.38       205\n",
            "           9       0.47      0.59      0.52       203\n",
            "          10       0.16      0.15      0.15       204\n",
            "          11       0.18      0.33      0.24       204\n",
            "          12       0.59      0.65      0.62       205\n",
            "\n",
            "    accuracy                           0.33      2638\n",
            "   macro avg       0.33      0.33      0.33      2638\n",
            "weighted avg       0.33      0.33      0.33      2638\n",
            "\n"
          ]
        }
      ]
    },
    {
      "cell_type": "code",
      "metadata": {
        "id": "cWo03kTppDB6",
        "colab": {
          "base_uri": "https://localhost:8080/"
        },
        "outputId": "5b5cd414-58b2-4fe5-809d-3933ab3dc42c"
      },
      "source": [
        "model_gru.load_weights(model_gru_save_path)\n",
        "model_gru.evaluate(x_test, y_test, verbose=1)"
      ],
      "execution_count": 70,
      "outputs": [
        {
          "output_type": "stream",
          "name": "stdout",
          "text": [
            "83/83 [==============================] - 6s 78ms/step - loss: 2.2362 - accuracy: 0.3275\n"
          ]
        },
        {
          "output_type": "execute_result",
          "data": {
            "text/plain": [
              "[2.236161231994629, 0.32752084732055664]"
            ]
          },
          "metadata": {},
          "execution_count": 70
        }
      ]
    },
    {
      "cell_type": "code",
      "metadata": {
        "colab": {
          "base_uri": "https://localhost:8080/"
        },
        "id": "7qSLQqkiNwPH",
        "outputId": "a75b509d-9132-461d-a8c6-bc12d8e7a7a2"
      },
      "source": [
        "pred = model_gru.predict(x_test, batch_size = 32)\n",
        "pred = np.argmax(pred, axis=1)\n",
        "answer_y_test = np.argmax(y_test, axis=1)\n",
        "print(classification_report(answer_y_test, pred))"
      ],
      "execution_count": 71,
      "outputs": [
        {
          "output_type": "stream",
          "name": "stdout",
          "text": [
            "              precision    recall  f1-score   support\n",
            "\n",
            "           0       0.39      0.43      0.41       202\n",
            "           1       0.33      0.36      0.35       201\n",
            "           2       0.36      0.37      0.36       202\n",
            "           3       0.14      0.03      0.06       201\n",
            "           4       0.20      0.20      0.20       202\n",
            "           5       0.24      0.22      0.23       203\n",
            "           6       0.29      0.33      0.31       203\n",
            "           7       0.33      0.32      0.33       203\n",
            "           8       0.33      0.54      0.41       205\n",
            "           9       0.47      0.50      0.48       203\n",
            "          10       0.17      0.13      0.15       204\n",
            "          11       0.22      0.23      0.22       204\n",
            "          12       0.57      0.60      0.59       205\n",
            "\n",
            "    accuracy                           0.33      2638\n",
            "   macro avg       0.31      0.33      0.31      2638\n",
            "weighted avg       0.31      0.33      0.31      2638\n",
            "\n"
          ]
        }
      ]
    },
    {
      "cell_type": "code",
      "metadata": {
        "colab": {
          "base_uri": "https://localhost:8080/",
          "height": 714
        },
        "id": "paMoDw3MGmfl",
        "outputId": "97f4d32f-c985-4422-a0b1-2686ea264955"
      },
      "source": [
        "plt.plot(history_cnn.history['accuracy'], \n",
        "         label='cnn train accuracy')\n",
        "plt.plot(history_cnn.history['val_accuracy'], \n",
        "         label='cnn val accuracy')\n",
        "\n",
        "plt.plot(history_lstm.history['accuracy'], \n",
        "         label='lstm train accuracy')\n",
        "plt.plot(history_lstm.history['val_accuracy'], \n",
        "         label='lstm val accuracy')\n",
        "\n",
        "plt.plot(upd_history_gru.history['accuracy'], \n",
        "         label='gru train accuracy')\n",
        "plt.plot(upd_history_gru.history['val_accuracy'], \n",
        "         label='gru val accuracy')\n",
        "\n",
        "plt.xlabel('epoch')\n",
        "plt.ylabel('accuracy')\n",
        "plt.rcParams[\"figure.figsize\"] = (35,15)\n",
        "plt.legend()\n",
        "plt.show()"
      ],
      "execution_count": 73,
      "outputs": [
        {
          "output_type": "display_data",
          "data": {
            "image/png": "[encoded data removed]",
            "text/plain": [
              "<Figure size 2520x1080 with 1 Axes>"
            ]
          },
          "metadata": {
            "needs_background": "light"
          }
        }
      ]
    }
  ]
}