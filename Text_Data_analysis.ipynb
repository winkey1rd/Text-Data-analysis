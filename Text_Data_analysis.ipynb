{
  "nbformat": 4,
  "nbformat_minor": 0,
  "metadata": {
    "colab": {
      "name": "Text-Data-analysis.ipynb",
      "provenance": [],
      "collapsed_sections": [],
      "authorship_tag": "ABX9TyPcf010iwvH/T9JQzWVC1rr"
    },
    "kernelspec": {
      "name": "python3",
      "display_name": "Python 3"
    },
    "language_info": {
      "name": "python"
    }
  },
  "cells": [
    {
      "cell_type": "code",
      "metadata": {
        "colab": {
          "resources": {
            "http://localhost:8080/nbextensions/google.colab/files.js": {
              "data": "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",
              "ok": true,
              "headers": [
                [
                  "content-type",
                  "application/javascript"
                ]
              ],
              "status": 200,
              "status_text": ""
            }
          },
          "base_uri": "https://localhost:8080/",
          "height": 490
        },
        "id": "lbJxV_ObWrar",
        "outputId": "22d085d8-c425-4c91-e694-e8ce41f33aea"
      },
      "source": [
        "from google.colab import files\n",
        "uploaded = files.upload()"
      ],
      "execution_count": null,
      "outputs": [
        {
          "output_type": "display_data",
          "data": {
            "text/html": [
              "\n",
              "     <input type=\"file\" id=\"files-c8e3e66d-68ac-4308-8de2-9439a548bff4\" name=\"files[]\" multiple disabled\n",
              "        style=\"border:none\" />\n",
              "     <output id=\"result-c8e3e66d-68ac-4308-8de2-9439a548bff4\">\n",
              "      Upload widget is only available when the cell has been executed in the\n",
              "      current browser session. Please rerun this cell to enable.\n",
              "      </output>\n",
              "      <script src=\"/nbextensions/google.colab/files.js\"></script> "
            ],
            "text/plain": [
              "<IPython.core.display.HTML object>"
            ]
          },
          "metadata": {}
        },
        {
          "output_type": "stream",
          "name": "stdout",
          "text": [
            "Saving Вопросы карьеры.csv to Вопросы карьеры.csv\n",
            "Saving Вредные привычки, зависимость.csv to Вредные привычки, зависимость.csv\n",
            "Saving Горе, потери.csv to Горе, потери.csv\n",
            "Saving Депрессия.csv to Депрессия.csv\n",
            "Saving Нервные расстройства.csv to Нервные расстройства.csv\n",
            "Saving О достижении цели.csv to О достижении цели.csv\n",
            "Saving Отношения с окружающими.csv to Отношения с окружающими.csv\n",
            "Saving Поиск решения.csv to Поиск решения.csv\n",
            "Saving Проблемы с детьми.csv to Проблемы с детьми.csv\n",
            "Saving Проблемы с партнером.csv to Проблемы с партнером.csv\n",
            "Saving Размышления о мире.csv to Размышления о мире.csv\n",
            "Saving Самопознание, саморазвитие.csv to Самопознание, саморазвитие.csv\n",
            "Saving Семейные проблемы.csv to Семейные проблемы.csv\n"
          ]
        }
      ]
    },
    {
      "cell_type": "code",
      "metadata": {
        "id": "y0waXMh-YLZ1",
        "colab": {
          "base_uri": "https://localhost:8080/"
        },
        "outputId": "1620a68b-374b-48a2-afab-3c9cdce1913e"
      },
      "source": [
        "!ls"
      ],
      "execution_count": null,
      "outputs": [
        {
          "output_type": "stream",
          "name": "stdout",
          "text": [
            " sample_data\t\t\t     'Отношения с окружающими.csv'\n",
            "'Вопросы карьеры.csv'\t\t     'Поиск решения.csv'\n",
            "'Вредные привычки, зависимость.csv'  'Проблемы с детьми.csv'\n",
            "'Горе, потери.csv'\t\t     'Проблемы с партнером.csv'\n",
            " Депрессия.csv\t\t\t     'Размышления о мире.csv'\n",
            "'Нервные расстройства.csv'\t     'Самопознание, саморазвитие.csv'\n",
            "'О достижении цели.csv'\t\t     'Семейные проблемы.csv'\n"
          ]
        }
      ]
    },
    {
      "cell_type": "markdown",
      "metadata": {
        "id": "BnJ9ru3CZHGl"
      },
      "source": [
        "Let's create 2 files: training and test data"
      ]
    },
    {
      "cell_type": "markdown",
      "metadata": {
        "id": "LUrGy-bgaJUN"
      },
      "source": [
        "test data - 20%"
      ]
    },
    {
      "cell_type": "code",
      "metadata": {
        "id": "NuGh5bdWmcf3"
      },
      "source": [
        "from sklearn.model_selection import train_test_split\n",
        "import os\n",
        "import glob"
      ],
      "execution_count": null,
      "outputs": []
    },
    {
      "cell_type": "code",
      "metadata": {
        "id": "x_icK_-bYt7N"
      },
      "source": [
        "extension = 'csv'\n",
        "file_names = [i for i in glob.glob('*.{}'.format(extension))]\n",
        "file_names_size = len(file_names);"
      ],
      "execution_count": null,
      "outputs": []
    },
    {
      "cell_type": "markdown",
      "metadata": {
        "id": "Ux7CCHhpaARl"
      },
      "source": [
        "Let's mark the data: add a column in which the value will mean the category number"
      ]
    },
    {
      "cell_type": "code",
      "metadata": {
        "id": "sHW2CGIUae4m"
      },
      "source": [
        "import pandas as pd\n",
        "import numpy as np"
      ],
      "execution_count": null,
      "outputs": []
    },
    {
      "cell_type": "code",
      "metadata": {
        "id": "C3WdhW7dY1xh"
      },
      "source": [
        "data_train = []\n",
        "data_test = []\n",
        "\n",
        "i = 0\n",
        "while i<file_names_size:\n",
        "  df = pd.read_csv(file_names[i], header=0)\n",
        "  df['THEME'] = i\n",
        "  train, test = train_test_split(df, test_size=0.2)\n",
        "  data_train.append(train)\n",
        "  data_test.append(test)\n",
        "  i = i + 1"
      ],
      "execution_count": null,
      "outputs": []
    },
    {
      "cell_type": "code",
      "metadata": {
        "colab": {
          "base_uri": "https://localhost:8080/",
          "height": 213
        },
        "id": "RK8YXiT4aWQ0",
        "outputId": "d22abda3-b718-4614-aa9c-c6e1e0aba931"
      },
      "source": [
        "data_test[7][:3]"
      ],
      "execution_count": null,
      "outputs": [
        {
          "output_type": "execute_result",
          "data": {
            "text/html": [
              "<div>\n",
              "<style scoped>\n",
              "    .dataframe tbody tr th:only-of-type {\n",
              "        vertical-align: middle;\n",
              "    }\n",
              "\n",
              "    .dataframe tbody tr th {\n",
              "        vertical-align: top;\n",
              "    }\n",
              "\n",
              "    .dataframe thead th {\n",
              "        text-align: right;\n",
              "    }\n",
              "</style>\n",
              "<table border=\"1\" class=\"dataframe\">\n",
              "  <thead>\n",
              "    <tr style=\"text-align: right;\">\n",
              "      <th></th>\n",
              "      <th>Unnamed: 0</th>\n",
              "      <th>USER_ID</th>\n",
              "      <th>USER_NICKNAME</th>\n",
              "      <th>TITLE</th>\n",
              "      <th>MESSAGE</th>\n",
              "      <th>DATE_TIME</th>\n",
              "      <th>TOPIC_LIKES_COUNT</th>\n",
              "      <th>URL</th>\n",
              "      <th>THEME</th>\n",
              "    </tr>\n",
              "  </thead>\n",
              "  <tbody>\n",
              "    <tr>\n",
              "      <th>390</th>\n",
              "      <td>390</td>\n",
              "      <td>u455467</td>\n",
              "      <td>Takanika</td>\n",
              "      <td>Как объяснить ребёнку развод</td>\n",
              "      <td>Добрый день! Ситуация такая: имеется дочь 2 ле...</td>\n",
              "      <td>2019-08-28 16:14</td>\n",
              "      <td>1</td>\n",
              "      <td>https://www.b17.ru/forum/topic.php?id=178090</td>\n",
              "      <td>7</td>\n",
              "    </tr>\n",
              "    <tr>\n",
              "      <th>215</th>\n",
              "      <td>215</td>\n",
              "      <td>u479450</td>\n",
              "      <td>kapella17</td>\n",
              "      <td>Панически боюсь заводить ребенка.</td>\n",
              "      <td>Здравствуйте. Мне 27 лет, замужем шестой год. ...</td>\n",
              "      <td>2019-11-28 10:02</td>\n",
              "      <td>1</td>\n",
              "      <td>https://www.b17.ru/forum/topic.php?id=191222</td>\n",
              "      <td>7</td>\n",
              "    </tr>\n",
              "    <tr>\n",
              "      <th>372</th>\n",
              "      <td>372</td>\n",
              "      <td>u257473</td>\n",
              "      <td>Вопрос ительница</td>\n",
              "      <td>Адаптация к яслям</td>\n",
              "      <td>Здравствуйте, уважаемые специалисты! Сейчас мн...</td>\n",
              "      <td>2019-09-04 13:58</td>\n",
              "      <td>1</td>\n",
              "      <td>https://www.b17.ru/forum/topic.php?id=179024</td>\n",
              "      <td>7</td>\n",
              "    </tr>\n",
              "  </tbody>\n",
              "</table>\n",
              "</div>"
            ],
            "text/plain": [
              "     Unnamed: 0  USER_ID  ...                                           URL THEME\n",
              "390         390  u455467  ...  https://www.b17.ru/forum/topic.php?id=178090     7\n",
              "215         215  u479450  ...  https://www.b17.ru/forum/topic.php?id=191222     7\n",
              "372         372  u257473  ...  https://www.b17.ru/forum/topic.php?id=179024     7\n",
              "\n",
              "[3 rows x 9 columns]"
            ]
          },
          "metadata": {},
          "execution_count": 169
        }
      ]
    },
    {
      "cell_type": "code",
      "metadata": {
        "colab": {
          "base_uri": "https://localhost:8080/",
          "height": 213
        },
        "id": "Ovu9JBTTayz5",
        "outputId": "04728285-a6a7-4b54-9ddb-c7aad5d410da"
      },
      "source": [
        "data_train[2][:3]"
      ],
      "execution_count": null,
      "outputs": [
        {
          "output_type": "execute_result",
          "data": {
            "text/html": [
              "<div>\n",
              "<style scoped>\n",
              "    .dataframe tbody tr th:only-of-type {\n",
              "        vertical-align: middle;\n",
              "    }\n",
              "\n",
              "    .dataframe tbody tr th {\n",
              "        vertical-align: top;\n",
              "    }\n",
              "\n",
              "    .dataframe thead th {\n",
              "        text-align: right;\n",
              "    }\n",
              "</style>\n",
              "<table border=\"1\" class=\"dataframe\">\n",
              "  <thead>\n",
              "    <tr style=\"text-align: right;\">\n",
              "      <th></th>\n",
              "      <th>Unnamed: 0</th>\n",
              "      <th>USER_ID</th>\n",
              "      <th>USER_NICKNAME</th>\n",
              "      <th>TITLE</th>\n",
              "      <th>MESSAGE</th>\n",
              "      <th>DATE_TIME</th>\n",
              "      <th>TOPIC_LIKES_COUNT</th>\n",
              "      <th>URL</th>\n",
              "      <th>THEME</th>\n",
              "    </tr>\n",
              "  </thead>\n",
              "  <tbody>\n",
              "    <tr>\n",
              "      <th>649</th>\n",
              "      <td>649</td>\n",
              "      <td>u599594</td>\n",
              "      <td>Maruisa</td>\n",
              "      <td>Какой тип темперамента???</td>\n",
              "      <td>Здравствуйте! Очень интересует вопрос о собств...</td>\n",
              "      <td>2020-02-13 13:03</td>\n",
              "      <td>3</td>\n",
              "      <td>https://www.b17.ru/forum/topic.php?id=302482</td>\n",
              "      <td>2</td>\n",
              "    </tr>\n",
              "    <tr>\n",
              "      <th>1008</th>\n",
              "      <td>1008</td>\n",
              "      <td>u239380</td>\n",
              "      <td>Наташа46</td>\n",
              "      <td>Конфликт на работе</td>\n",
              "      <td>Прошу помощи!Обещаю помогать при работе)Очень ...</td>\n",
              "      <td>2019-12-08 07:54</td>\n",
              "      <td>2</td>\n",
              "      <td>https://www.b17.ru/forum/topic.php?id=192676</td>\n",
              "      <td>2</td>\n",
              "    </tr>\n",
              "    <tr>\n",
              "      <th>490</th>\n",
              "      <td>490</td>\n",
              "      <td>u606530</td>\n",
              "      <td>Георцина</td>\n",
              "      <td>Как выбирать кого-то с сайтов знакомств ?</td>\n",
              "      <td>Если мужчины все одинаковые?Вот допустим встре...</td>\n",
              "      <td>2020-03-11 15:21</td>\n",
              "      <td>1</td>\n",
              "      <td>https://www.b17.ru/forum/topic.php?id=306220</td>\n",
              "      <td>2</td>\n",
              "    </tr>\n",
              "  </tbody>\n",
              "</table>\n",
              "</div>"
            ],
            "text/plain": [
              "      Unnamed: 0  USER_ID  ...                                           URL THEME\n",
              "649          649  u599594  ...  https://www.b17.ru/forum/topic.php?id=302482     2\n",
              "1008        1008  u239380  ...  https://www.b17.ru/forum/topic.php?id=192676     2\n",
              "490          490  u606530  ...  https://www.b17.ru/forum/topic.php?id=306220     2\n",
              "\n",
              "[3 rows x 9 columns]"
            ]
          },
          "metadata": {},
          "execution_count": 170
        }
      ]
    },
    {
      "cell_type": "markdown",
      "metadata": {
        "id": "NftWC1-VbqG-"
      },
      "source": [
        "combining the data into a single file"
      ]
    },
    {
      "cell_type": "markdown",
      "metadata": {
        "id": "4XHOHmhTbsI-"
      },
      "source": [
        "-train"
      ]
    },
    {
      "cell_type": "code",
      "metadata": {
        "id": "08bFG3x5biOm"
      },
      "source": [
        "final_data_train = pd.concat(data_train)\n",
        "final_data_train.to_csv( 'train.csv', index=False, encoding='utf-8-sig')"
      ],
      "execution_count": null,
      "outputs": []
    },
    {
      "cell_type": "code",
      "metadata": {
        "colab": {
          "base_uri": "https://localhost:8080/"
        },
        "id": "oXNU6da2b_DG",
        "outputId": "a605fd30-c385-484d-ae39-a6691afac9ec"
      },
      "source": [
        "!wc -l train.csv"
      ],
      "execution_count": null,
      "outputs": [
        {
          "output_type": "stream",
          "name": "stdout",
          "text": [
            "29530 train.csv\n"
          ]
        }
      ]
    },
    {
      "cell_type": "markdown",
      "metadata": {
        "id": "pJ973py5bz_N"
      },
      "source": [
        "-test"
      ]
    },
    {
      "cell_type": "code",
      "metadata": {
        "id": "TJJKG-LMbyrV"
      },
      "source": [
        "final_data_test = pd.concat(data_test)\n",
        "final_data_test.to_csv( \"test.csv\", index=False, encoding='utf-8-sig')"
      ],
      "execution_count": null,
      "outputs": []
    },
    {
      "cell_type": "code",
      "metadata": {
        "colab": {
          "base_uri": "https://localhost:8080/"
        },
        "id": "VNw4lUqDcAll",
        "outputId": "6d3162c1-212d-418d-a393-9386ddb4ada9"
      },
      "source": [
        "!wc -l test.csv"
      ],
      "execution_count": null,
      "outputs": [
        {
          "output_type": "stream",
          "name": "stdout",
          "text": [
            "2642 test.csv\n"
          ]
        }
      ]
    },
    {
      "cell_type": "code",
      "metadata": {
        "colab": {
          "base_uri": "https://localhost:8080/",
          "height": 213
        },
        "id": "pY8hmBeCcEXG",
        "outputId": "9ee78073-a603-433b-9d1e-b34040aa0343"
      },
      "source": [
        "train = pd.read_csv('train.csv', header=0)\n",
        "train[:3]"
      ],
      "execution_count": null,
      "outputs": [
        {
          "output_type": "execute_result",
          "data": {
            "text/html": [
              "<div>\n",
              "<style scoped>\n",
              "    .dataframe tbody tr th:only-of-type {\n",
              "        vertical-align: middle;\n",
              "    }\n",
              "\n",
              "    .dataframe tbody tr th {\n",
              "        vertical-align: top;\n",
              "    }\n",
              "\n",
              "    .dataframe thead th {\n",
              "        text-align: right;\n",
              "    }\n",
              "</style>\n",
              "<table border=\"1\" class=\"dataframe\">\n",
              "  <thead>\n",
              "    <tr style=\"text-align: right;\">\n",
              "      <th></th>\n",
              "      <th>Unnamed: 0</th>\n",
              "      <th>USER_ID</th>\n",
              "      <th>USER_NICKNAME</th>\n",
              "      <th>TITLE</th>\n",
              "      <th>MESSAGE</th>\n",
              "      <th>DATE_TIME</th>\n",
              "      <th>TOPIC_LIKES_COUNT</th>\n",
              "      <th>URL</th>\n",
              "      <th>THEME</th>\n",
              "    </tr>\n",
              "  </thead>\n",
              "  <tbody>\n",
              "    <tr>\n",
              "      <th>0</th>\n",
              "      <td>829</td>\n",
              "      <td>u468698</td>\n",
              "      <td>EvaMenfri</td>\n",
              "      <td>Личность расщепляется</td>\n",
              "      <td>Привет. Мне 18 лет. Я переезжала 4 раза за сво...</td>\n",
              "      <td>2019-10-20 22:00</td>\n",
              "      <td>2</td>\n",
              "      <td>https://www.b17.ru/forum/topic.php?id=185499</td>\n",
              "      <td>0</td>\n",
              "    </tr>\n",
              "    <tr>\n",
              "      <th>1</th>\n",
              "      <td>889</td>\n",
              "      <td>u465247</td>\n",
              "      <td>Наталия #465247</td>\n",
              "      <td>ПА, депрессия, проблемы с мамой</td>\n",
              "      <td>Здравствуйте. Полгода назад начались лёгкие пе...</td>\n",
              "      <td>2019-10-08 17:43</td>\n",
              "      <td>2</td>\n",
              "      <td>https://www.b17.ru/forum/topic.php?id=183697</td>\n",
              "      <td>0</td>\n",
              "    </tr>\n",
              "    <tr>\n",
              "      <th>2</th>\n",
              "      <td>935</td>\n",
              "      <td>u459309</td>\n",
              "      <td>Lena_905435</td>\n",
              "      <td>Нервное расстройство мамы</td>\n",
              "      <td>Добрый день! Я мама двоих детей 6 и два года. ...</td>\n",
              "      <td>2019-09-24 16:53</td>\n",
              "      <td>0</td>\n",
              "      <td>https://www.b17.ru/forum/topic.php?id=181727</td>\n",
              "      <td>0</td>\n",
              "    </tr>\n",
              "  </tbody>\n",
              "</table>\n",
              "</div>"
            ],
            "text/plain": [
              "   Unnamed: 0  USER_ID  ...                                           URL THEME\n",
              "0         829  u468698  ...  https://www.b17.ru/forum/topic.php?id=185499     0\n",
              "1         889  u465247  ...  https://www.b17.ru/forum/topic.php?id=183697     0\n",
              "2         935  u459309  ...  https://www.b17.ru/forum/topic.php?id=181727     0\n",
              "\n",
              "[3 rows x 9 columns]"
            ]
          },
          "metadata": {},
          "execution_count": 18
        }
      ]
    },
    {
      "cell_type": "code",
      "metadata": {
        "colab": {
          "base_uri": "https://localhost:8080/",
          "height": 213
        },
        "id": "DhCq2Ji0cPE2",
        "outputId": "592b8fc7-5b90-4200-bdb4-98c901e88aff"
      },
      "source": [
        "test = pd.read_csv('test.csv', header=0)\n",
        "test[:3]"
      ],
      "execution_count": null,
      "outputs": [
        {
          "output_type": "execute_result",
          "data": {
            "text/html": [
              "<div>\n",
              "<style scoped>\n",
              "    .dataframe tbody tr th:only-of-type {\n",
              "        vertical-align: middle;\n",
              "    }\n",
              "\n",
              "    .dataframe tbody tr th {\n",
              "        vertical-align: top;\n",
              "    }\n",
              "\n",
              "    .dataframe thead th {\n",
              "        text-align: right;\n",
              "    }\n",
              "</style>\n",
              "<table border=\"1\" class=\"dataframe\">\n",
              "  <thead>\n",
              "    <tr style=\"text-align: right;\">\n",
              "      <th></th>\n",
              "      <th>Unnamed: 0</th>\n",
              "      <th>USER_ID</th>\n",
              "      <th>USER_NICKNAME</th>\n",
              "      <th>TITLE</th>\n",
              "      <th>MESSAGE</th>\n",
              "      <th>DATE_TIME</th>\n",
              "      <th>TOPIC_LIKES_COUNT</th>\n",
              "      <th>URL</th>\n",
              "      <th>THEME</th>\n",
              "    </tr>\n",
              "  </thead>\n",
              "  <tbody>\n",
              "    <tr>\n",
              "      <th>0</th>\n",
              "      <td>82</td>\n",
              "      <td>u622719</td>\n",
              "      <td>Julia555</td>\n",
              "      <td>Как справится с приступом ипохондрии?</td>\n",
              "      <td>Доброго времени суток!Уважаемые специалисты, к...</td>\n",
              "      <td>2020-05-13 18:32</td>\n",
              "      <td>5</td>\n",
              "      <td>https://www.b17.ru/forum/topic.php?id=314622</td>\n",
              "      <td>0</td>\n",
              "    </tr>\n",
              "    <tr>\n",
              "      <th>1</th>\n",
              "      <td>43</td>\n",
              "      <td>u622778</td>\n",
              "      <td>Anastezija</td>\n",
              "      <td>РПП</td>\n",
              "      <td>Добрый день, меня зовут Ася, мне 25 лет. Работ...</td>\n",
              "      <td>2020-05-13 23:01</td>\n",
              "      <td>0</td>\n",
              "      <td>https://www.b17.ru/forum/topic.php?id=314660</td>\n",
              "      <td>0</td>\n",
              "    </tr>\n",
              "    <tr>\n",
              "      <th>2</th>\n",
              "      <td>42</td>\n",
              "      <td>u429648</td>\n",
              "      <td>Евгения312</td>\n",
              "      <td>Окр</td>\n",
              "      <td>Здравствуйте Валерий Юрьевич.Моя проблема что ...</td>\n",
              "      <td>2020-02-10 19:26</td>\n",
              "      <td>4</td>\n",
              "      <td>https://www.b17.ru/forum/topic.php?id=302072</td>\n",
              "      <td>0</td>\n",
              "    </tr>\n",
              "  </tbody>\n",
              "</table>\n",
              "</div>"
            ],
            "text/plain": [
              "   Unnamed: 0  USER_ID  ...                                           URL THEME\n",
              "0          82  u622719  ...  https://www.b17.ru/forum/topic.php?id=314622     0\n",
              "1          43  u622778  ...  https://www.b17.ru/forum/topic.php?id=314660     0\n",
              "2          42  u429648  ...  https://www.b17.ru/forum/topic.php?id=302072     0\n",
              "\n",
              "[3 rows x 9 columns]"
            ]
          },
          "metadata": {},
          "execution_count": 19
        }
      ]
    },
    {
      "cell_type": "code",
      "metadata": {
        "id": "TBkx3DzIc6pf"
      },
      "source": [
        "from tensorflow.keras import utils"
      ],
      "execution_count": null,
      "outputs": []
    },
    {
      "cell_type": "code",
      "metadata": {
        "colab": {
          "base_uri": "https://localhost:8080/",
          "height": 200
        },
        "id": "ekFXlbzsic0o",
        "outputId": "6347914c-291b-4de1-a657-f8486156f6b7"
      },
      "source": [
        "trb_nan_idx = train[pd.isnull(train['MESSAGE'])].index.tolist()\n",
        "train.loc[trb_nan_idx, 'MESSAGE'] = ' '\n",
        "train.loc[trb_nan_idx, 'MESSAGE'] = ' '"
      ],
      "execution_count": null,
      "outputs": [
        {
          "output_type": "error",
          "ename": "TypeError",
          "evalue": "ignored",
          "traceback": [
            "\u001b[0;31m---------------------------------------------------------------------------\u001b[0m",
            "\u001b[0;31mTypeError\u001b[0m                                 Traceback (most recent call last)",
            "\u001b[0;32m<ipython-input-159-4ad91060cd97>\u001b[0m in \u001b[0;36m<module>\u001b[0;34m()\u001b[0m\n\u001b[0;32m----> 1\u001b[0;31m \u001b[0mtrb_nan_idx\u001b[0m \u001b[0;34m=\u001b[0m \u001b[0mtrain\u001b[0m\u001b[0;34m[\u001b[0m\u001b[0mpd\u001b[0m\u001b[0;34m.\u001b[0m\u001b[0misnull\u001b[0m\u001b[0;34m(\u001b[0m\u001b[0mtrain\u001b[0m\u001b[0;34m[\u001b[0m\u001b[0;34m'MESSAGE'\u001b[0m\u001b[0;34m]\u001b[0m\u001b[0;34m)\u001b[0m\u001b[0;34m]\u001b[0m\u001b[0;34m.\u001b[0m\u001b[0mindex\u001b[0m\u001b[0;34m.\u001b[0m\u001b[0mtolist\u001b[0m\u001b[0;34m(\u001b[0m\u001b[0;34m)\u001b[0m\u001b[0;34m\u001b[0m\u001b[0;34m\u001b[0m\u001b[0m\n\u001b[0m\u001b[1;32m      2\u001b[0m \u001b[0mtrain\u001b[0m\u001b[0;34m.\u001b[0m\u001b[0mloc\u001b[0m\u001b[0;34m[\u001b[0m\u001b[0mtrb_nan_idx\u001b[0m\u001b[0;34m,\u001b[0m \u001b[0;34m'MESSAGE'\u001b[0m\u001b[0;34m]\u001b[0m \u001b[0;34m=\u001b[0m \u001b[0;34m' '\u001b[0m\u001b[0;34m\u001b[0m\u001b[0;34m\u001b[0m\u001b[0m\n\u001b[1;32m      3\u001b[0m \u001b[0mtrain\u001b[0m\u001b[0;34m.\u001b[0m\u001b[0mloc\u001b[0m\u001b[0;34m[\u001b[0m\u001b[0mtrb_nan_idx\u001b[0m\u001b[0;34m,\u001b[0m \u001b[0;34m'MESSAGE'\u001b[0m\u001b[0;34m]\u001b[0m \u001b[0;34m=\u001b[0m \u001b[0;34m' '\u001b[0m\u001b[0;34m\u001b[0m\u001b[0;34m\u001b[0m\u001b[0m\n",
            "\u001b[0;31mTypeError\u001b[0m: list indices must be integers or slices, not str"
          ]
        }
      ]
    },
    {
      "cell_type": "code",
      "metadata": {
        "colab": {
          "base_uri": "https://localhost:8080/",
          "height": 182
        },
        "id": "XTzU4TtjcqL5",
        "outputId": "4e061dab-7993-4582-d8c1-5f3a7a823cfe"
      },
      "source": [
        "x_train = train['MESSAGE']\n",
        "y_train = utils.to_categorical(train['THEME'],file_names_size)"
      ],
      "execution_count": null,
      "outputs": [
        {
          "output_type": "error",
          "ename": "TypeError",
          "evalue": "ignored",
          "traceback": [
            "\u001b[0;31m---------------------------------------------------------------------------\u001b[0m",
            "\u001b[0;31mTypeError\u001b[0m                                 Traceback (most recent call last)",
            "\u001b[0;32m<ipython-input-158-85dd8ba244ed>\u001b[0m in \u001b[0;36m<module>\u001b[0;34m()\u001b[0m\n\u001b[0;32m----> 1\u001b[0;31m \u001b[0mx_train\u001b[0m \u001b[0;34m=\u001b[0m \u001b[0mtrain\u001b[0m\u001b[0;34m[\u001b[0m\u001b[0;34m'MESSAGE'\u001b[0m\u001b[0;34m]\u001b[0m\u001b[0;34m\u001b[0m\u001b[0;34m\u001b[0m\u001b[0m\n\u001b[0m\u001b[1;32m      2\u001b[0m \u001b[0my_train\u001b[0m \u001b[0;34m=\u001b[0m \u001b[0mutils\u001b[0m\u001b[0;34m.\u001b[0m\u001b[0mto_categorical\u001b[0m\u001b[0;34m(\u001b[0m\u001b[0mtrain\u001b[0m\u001b[0;34m[\u001b[0m\u001b[0;34m'THEME'\u001b[0m\u001b[0;34m]\u001b[0m\u001b[0;34m,\u001b[0m\u001b[0mfile_names_size\u001b[0m\u001b[0;34m)\u001b[0m\u001b[0;34m\u001b[0m\u001b[0;34m\u001b[0m\u001b[0m\n",
            "\u001b[0;31mTypeError\u001b[0m: list indices must be integers or slices, not str"
          ]
        }
      ]
    },
    {
      "cell_type": "code",
      "metadata": {
        "colab": {
          "base_uri": "https://localhost:8080/"
        },
        "id": "migN61LLilCY",
        "outputId": "99c66092-2fc6-4293-bb5f-03d6c11d584c"
      },
      "source": [
        "import nltk\n",
        "import re\n",
        "from nltk.stem.snowball import SnowballStemmer\n",
        "stemmer = SnowballStemmer(\"russian\")\n",
        "nltk.download('punkt')"
      ],
      "execution_count": null,
      "outputs": [
        {
          "output_type": "stream",
          "name": "stdout",
          "text": [
            "[nltk_data] Downloading package punkt to /root/nltk_data...\n",
            "[nltk_data]   Package punkt is already up-to-date!\n"
          ]
        },
        {
          "output_type": "execute_result",
          "data": {
            "text/plain": [
              "True"
            ]
          },
          "metadata": {},
          "execution_count": 74
        }
      ]
    },
    {
      "cell_type": "code",
      "metadata": {
        "id": "Rw7LdypVioYd"
      },
      "source": [
        "def token_and_stem(text):\n",
        "    tokens = [word for sent in nltk.sent_tokenize(text) for word in nltk.word_tokenize(sent)]\n",
        "    filtered_tokens = []\n",
        "    for token in tokens:\n",
        "        if re.search('[а-яА-Я]', token):\n",
        "            filtered_tokens.append(token)\n",
        "    stems = [stemmer.stem(t) for t in filtered_tokens]\n",
        "    print(type(stems))\n",
        "    return stems"
      ],
      "execution_count": null,
      "outputs": []
    },
    {
      "cell_type": "code",
      "metadata": {
        "id": "Gi5N6QZKi09K"
      },
      "source": [
        "upd_x_train = []\n",
        "i = 0\n",
        "\n",
        "while i<file_names_size:\n",
        "  upd_train = token_and_stem(x_train[i])\n",
        "  upd_x_train.append(upd_train)\n",
        "  i = i + 1"
      ],
      "execution_count": null,
      "outputs": []
    },
    {
      "cell_type": "code",
      "metadata": {
        "colab": {
          "base_uri": "https://localhost:8080/"
        },
        "id": "MpiXBXeWjgLd",
        "outputId": "98629fba-bd15-44d6-c637-9ce8dc7e7cd3"
      },
      "source": [
        "nltk.download('stopwords')\n",
        "stopwords = nltk.corpus.stopwords.words('russian')\n",
        "#можно расширить список стоп-слов\n",
        "stopwords.extend(['что', 'это', 'так', 'вот', 'быть', 'как', 'в', 'к', 'на'])"
      ],
      "execution_count": null,
      "outputs": [
        {
          "output_type": "stream",
          "name": "stdout",
          "text": [
            "[nltk_data] Downloading package stopwords to /root/nltk_data...\n",
            "[nltk_data]   Unzipping corpora/stopwords.zip.\n"
          ]
        }
      ]
    },
    {
      "cell_type": "code",
      "metadata": {
        "id": "lPkEmW6zjv_m"
      },
      "source": [
        "tokens = []\n",
        "train = []\n",
        "\n",
        "for x_tr in upd_x_train:\n",
        "  for token in x_tr:\n",
        "    if token not in stopwords:\n",
        "      tokens.append(token)\n",
        "  train.append(tokens)\n",
        "  tokens = []"
      ],
      "execution_count": null,
      "outputs": []
    },
    {
      "cell_type": "code",
      "metadata": {
        "colab": {
          "base_uri": "https://localhost:8080/"
        },
        "id": "S0_nRqVzfnWw",
        "outputId": "be661ee1-19f3-4f3c-baae-b016ec945107"
      },
      "source": [
        "x_train[:3]"
      ],
      "execution_count": null,
      "outputs": [
        {
          "output_type": "execute_result",
          "data": {
            "text/plain": [
              "array([[2741,   19,  390,    5,    7, 1426,    3,   38,  512, 1096,    8,\n",
              "          98,  481,  124,    3,  106,  758,    3,   36,  828,   20,  454,\n",
              "           4,   54,   36,  828,    6, 3778,   10,  958,  528,   13,   31,\n",
              "           3,  769,  180,   71,   22, 2330,  293,    3,   38,  270, 2742,\n",
              "         292,  135,    3,  189, 1375,    4,  203,  484,   17, 1533,    6,\n",
              "           1,  182,    3,  302,    5,   23,  121,  962,    2,  959,   63,\n",
              "          67,   73,   35,    3,    8,  152,    2, 4507, 1376,    5,   23,\n",
              "          11,  959,   13,  552,   13,    1,  175,  758,  259,   12,  249,\n",
              "           3,    2,   36,   18,   73, 3715,    3,   40, 1427,   12,   22,\n",
              "         650],\n",
              "       [  24, 1450, 4807,   73,    2, 3380,    7,   11,    1,  877,  324,\n",
              "           3,    2,   40,  174,  216,  475,   38, 2507,   27,  366, 1186,\n",
              "        1589,   18,    3,   75,   11, 3045,    4,  267, 3129,  379,  142,\n",
              "           4,  536,  154,    2,  267,  868,  209,   12,   45,    1, 2956,\n",
              "          41,  125,  140,    5,  329,    1,   10,   13,    8,    9,    2,\n",
              "          36,    6,  379,  224,   12,    2, 1309,    8,    6, 4043,  299,\n",
              "           4,  953, 1430,   12,  107,  173,   48, 4337,   23, 1113,   23,\n",
              "         793,  495, 4337,   23,  300,  620,    5,    3,  570,    8,   40,\n",
              "        2242,   10,    2,  218,  131, 1031,  124,  725,  182, 1451,    1,\n",
              "        1068],\n",
              "       [   0,    0,    0,    0,    0,    0,    0,    0,    0,    0,    0,\n",
              "           0,  137,   54,    3,  142, 2996,  183,    1,  245,   70,    4,\n",
              "        1085, 2887,  878,    8,   45,  311,    6,  351,  714,  124,  652,\n",
              "         407,   15,    3, 3597,  116,    3,  290,    1, 1091,    3,   61,\n",
              "           5,   13,  167,  370,    1,    3,  270,   41,  297,   10,   17,\n",
              "         235,    2,  218,  124, 1472,   64,    8,   25,   57,    2,   55,\n",
              "          10,    8,  370, 2887,    4, 1085,   15,    3,  115,   17,   41,\n",
              "         244,  544,    6,  351,  124,  130,    7,   31,  106,    7,  176,\n",
              "        2217,  576, 1291,   30,   71,  148,    1,  301, 1413,    8,   61,\n",
              "         250]], dtype=int32)"
            ]
          },
          "metadata": {},
          "execution_count": 157
        }
      ]
    },
    {
      "cell_type": "code",
      "metadata": {
        "colab": {
          "base_uri": "https://localhost:8080/"
        },
        "id": "guK5gT_kz1mp",
        "outputId": "9dc2c056-1ab3-4d69-92a8-3728c502368d"
      },
      "source": [
        "x_train"
      ],
      "execution_count": null,
      "outputs": [
        {
          "output_type": "execute_result",
          "data": {
            "text/plain": [
              "array([[2741,   19,  390, ...,   12,   22,  650],\n",
              "       [  24, 1450, 4807, ..., 1451,    1, 1068],\n",
              "       [   0,    0,    0, ...,    8,   61,  250],\n",
              "       ...,\n",
              "       [  96,   86,    6, ...,    1,    2, 2989],\n",
              "       [ 255,   59, 4387, ...,  319,    4,   61],\n",
              "       [   0,    0,    0, ..., 1460,    6,    1]], dtype=int32)"
            ]
          },
          "metadata": {},
          "execution_count": 156
        }
      ]
    },
    {
      "cell_type": "code",
      "metadata": {
        "id": "GTYRpZ6kcyTO"
      },
      "source": [
        "from tensorflow.keras.preprocessing.text import Tokenizer\n",
        "from tensorflow.keras.models import Sequential\n",
        "from tensorflow.keras.preprocessing.sequence import pad_sequences"
      ],
      "execution_count": null,
      "outputs": []
    },
    {
      "cell_type": "code",
      "metadata": {
        "id": "ZqznwsMfdLnn"
      },
      "source": [
        "num_words = 5000\n",
        "tokenizer = Tokenizer(num_words=num_words, filters='0123456789!\"#$%&()*+,-./:;<=>?@[\\\\]^_`{|}~\\t\\n', lower=True, split=' ')\n",
        "upd_tokenizer = Tokenizer(num_words=num_words, filters='0123456789!\"#$%&()*+,-./:;<=>?@[\\\\]^_`{|}~\\t\\n', lower=True, split=' ')"
      ],
      "execution_count": null,
      "outputs": []
    },
    {
      "cell_type": "code",
      "metadata": {
        "id": "7Uh0DenSge4x"
      },
      "source": [
        "tokenizer.fit_on_texts(x_train)\n",
        "upd_tokenizer.fit_on_texts(train)"
      ],
      "execution_count": null,
      "outputs": []
    },
    {
      "cell_type": "code",
      "metadata": {
        "id": "F9jzSjz0dUHV"
      },
      "source": [
        "tokenizer.word_index"
      ],
      "execution_count": null,
      "outputs": []
    },
    {
      "cell_type": "code",
      "metadata": {
        "id": "l76nU7t5kJg6"
      },
      "source": [
        "upd_tokenizer.word_index"
      ],
      "execution_count": null,
      "outputs": []
    },
    {
      "cell_type": "code",
      "metadata": {
        "id": "CbhjO4bFjNMx"
      },
      "source": [
        "sequences = tokenizer.texts_to_sequences(x_train)\n",
        "upd_sequences = upd_tokenizer.texts_to_sequences(train)"
      ],
      "execution_count": null,
      "outputs": []
    },
    {
      "cell_type": "code",
      "metadata": {
        "colab": {
          "base_uri": "https://localhost:8080/"
        },
        "id": "4fmOdr_kjdcI",
        "outputId": "f61705ae-4f41-4d96-e16b-f2015c21ff69"
      },
      "source": [
        "print(x_train[0])\n",
        "print(sequences[0])\n",
        "print(train[0])\n",
        "print(upd_sequences[0])"
      ],
      "execution_count": null,
      "outputs": [
        {
          "output_type": "stream",
          "name": "stdout",
          "text": [
            "Привет. Мне 18 лет. Я переезжала 4 раза за свою жизнь в разные города.Уже 3 год меня не покидает комок в горле, ненависть к себе,  родителям и всему живому и вечная скованность с другими людьми.  У меня есть друзья, но никто из них не знает о моих настоящих чувствах. С ними я веду себя всегда как клоун, чтоб им было весело. Рассказать о настоящем для меня сложнее, чем поднять 10 тонную тяжесть. Слишком стыдно, и меня уж точно никто не поймет. Я постоянно притворяюсь, играю какие-то роли. Пытаюсь возненавидеть тех, кто мне нравится (так как не могу с ними общаться), и при этом снаружи я стараюсь им понравится и угодить. В этот момент я выгляжу примерно как камень, который старается корчить \"лыбу\" и говорить \"приятные\" слова. Я лицемерка.На улицу выходить мне тяжело, всегда складывается ощущение, что мне нужно соответствовать каким-то стандартам. Это приводит к тому, что на улицу я просто стараюсь выходить как можно меньше. Дома я постоянно плачу. Я могу плакать по 3 раза в день. Могу плакать с каменным лицом, но слезы будут течь. Это уже привычная эмоция.Я ненавижу счастливых людей, они выглядят очень глупо. Наверное, я просто им завидую.Неделю назад я снова переехала в другой город. Все заново , с чистого листа.И тогда я поняла, что от моей личности не осталось ровным счетом ничего. Ее больше нет, я как будто не существую. Единственное, что от меня осталось - это оболочка. Пишу это и опять плачу. Помогите мне, пожалуйста. Я не могу так больше существовать. Я хочу умереть, мне очень трудно.\n",
            "[867, 12, 39, 3, 454, 21, 160, 91, 4, 509, 1112, 31, 141, 11, 2, 4707, 4, 2540, 1803, 19, 61, 748, 1, 816, 1, 6, 654, 327, 14, 11, 34, 513, 10, 279, 29, 176, 2, 473, 42, 341, 1616, 6, 351, 3, 1532, 25, 83, 8, 328, 270, 28, 2773, 1084, 42, 44, 11, 2241, 74, 2845, 4114, 356, 641, 1, 11, 646, 433, 279, 2, 3228, 3, 106, 2567, 164, 9, 2279, 360, 355, 104, 12, 255, 18, 8, 2, 36, 6, 351, 232, 1, 85, 69, 3, 512, 270, 3271, 1, 4, 134, 159, 3, 2216, 520, 8, 166, 2256, 1, 284, 3953, 371, 3, 7, 1426, 1096, 12, 274, 83, 2169, 271, 5, 12, 107, 598, 9, 13, 2741, 19, 390, 5, 7, 1426, 3, 38, 512, 1096, 8, 98, 481, 124, 3, 106, 758, 3, 36, 828, 20, 454, 4, 54, 36, 828, 6, 3778, 10, 958, 528, 13, 31, 3, 769, 180, 71, 22, 2330, 293, 3, 38, 270, 2742, 292, 135, 3, 189, 1375, 4, 203, 484, 17, 1533, 6, 1, 182, 3, 302, 5, 23, 121, 962, 2, 959, 63, 67, 73, 35, 3, 8, 152, 2, 4507, 1376, 5, 23, 11, 959, 13, 552, 13, 1, 175, 758, 259, 12, 249, 3, 2, 36, 18, 73, 3715, 3, 40, 1427, 12, 22, 650]\n",
            "['привет', 'лет', 'переезжа', 'сво', 'жизн', 'разн', 'города.уж', 'год', 'мен', 'покида', 'комок', 'горл', 'ненавист', 'себ', 'родител', 'всем', 'жив', 'вечн', 'скован', 'друг', 'людьм', 'мен', 'ест', 'друз', 'никт', 'знает', 'мо', 'настоя', 'чувств', 'вед', 'себ', 'всегд', 'клоун', 'весел', 'рассказа', 'настоя', 'мен', 'сложн', 'подня', 'тон', 'тяжест', 'слишк', 'стыдн', 'мен', 'точн', 'никт', 'поймет', 'постоя', 'притворя', 'игра', 'какие-т', 'рол', 'пыта', 'возненавидет', 'тех', 'нрав', 'мог', 'обща', 'эт', 'снаруж', 'стара', 'понрав', 'угод', 'момент', 'выгляж', 'примерн', 'камен', 'котор', 'стара', 'корч', 'лыб', 'говор', 'приятн', 'слов', 'лицемерка.н', 'улиц', 'выход', 'тяжел', 'всегд', 'складыва', 'ощущен', 'нужн', 'соответствова', 'каким-т', 'стандарт', 'эт', 'привод', 'улиц', 'прост', 'стара', 'выход', 'можн', 'меньш', 'дом', 'постоя', 'плач', 'мог', 'плака', 'ден', 'мог', 'плака', 'камен', 'лиц', 'слез', 'будут', 'теч', 'эт', 'привычн', 'эмоция.', 'ненавиж', 'счастлив', 'люд', 'выгляд', 'очен', 'глуп', 'наверн', 'прост', 'завидую.недел', 'назад', 'снов', 'перееха', 'друг', 'город', 'занов', 'чист', 'листа.', 'тогд', 'поня', 'мо', 'личност', 'оста', 'ровн', 'счет', 'нич', 'е', 'больш', 'будт', 'существ', 'единствен', 'мен', 'оста', 'эт', 'оболочк', 'пиш', 'эт', 'опя', 'плач', 'помог', 'пожалуйст', 'мог', 'больш', 'существова', 'хоч', 'умерет', 'очен', 'трудн']\n",
            "[327, 17, 328, 22, 23, 170, 329, 7, 2, 330, 171, 172, 331, 4, 107, 173, 53, 332, 333, 10, 174, 2, 54, 175, 176, 108, 3, 177, 24, 178, 4, 109, 334, 335, 336, 177, 2, 110, 337, 338, 339, 340, 341, 2, 342, 176, 343, 14, 344, 55, 345, 346, 347, 348, 179, 349, 11, 39, 1, 350, 111, 351, 352, 180, 353, 181, 182, 12, 111, 354, 355, 18, 356, 27, 357, 56, 112, 78, 109, 358, 359, 79, 360, 183, 361, 1, 184, 56, 40, 111, 112, 41, 362, 19, 14, 185, 11, 113, 28, 11, 113, 182, 363, 364, 365, 366, 1, 367, 368, 369, 370, 20, 371, 29, 372, 373, 40, 374, 42, 186, 375, 10, 376, 377, 187, 378, 188, 80, 3, 81, 114, 379, 115, 57, 13, 35, 189, 380, 381, 2, 114, 1, 382, 383, 1, 384, 185, 190, 191, 11, 35, 385, 21, 386, 29, 387]\n"
          ]
        }
      ]
    },
    {
      "cell_type": "code",
      "metadata": {
        "id": "1JFE_q4Sj4iJ"
      },
      "source": [
        "max_text_len = 100\n",
        "x_train = pad_sequences(sequences, maxlen=max_text_len)\n",
        "upd_x_train = pad_sequences(upd_sequences, maxlen=max_text_len)"
      ],
      "execution_count": null,
      "outputs": []
    },
    {
      "cell_type": "code",
      "metadata": {
        "colab": {
          "base_uri": "https://localhost:8080/"
        },
        "id": "l5XCrfPekGHg",
        "outputId": "a38bef1a-feb5-468f-83fe-5ca5cc29dc07"
      },
      "source": [
        "x_train[0]"
      ],
      "execution_count": null,
      "outputs": [
        {
          "output_type": "execute_result",
          "data": {
            "text/plain": [
              "array([2741,   19,  390,    5,    7, 1426,    3,   38,  512, 1096,    8,\n",
              "         98,  481,  124,    3,  106,  758,    3,   36,  828,   20,  454,\n",
              "          4,   54,   36,  828,    6, 3778,   10,  958,  528,   13,   31,\n",
              "          3,  769,  180,   71,   22, 2330,  293,    3,   38,  270, 2742,\n",
              "        292,  135,    3,  189, 1375,    4,  203,  484,   17, 1533,    6,\n",
              "          1,  182,    3,  302,    5,   23,  121,  962,    2,  959,   63,\n",
              "         67,   73,   35,    3,    8,  152,    2, 4507, 1376,    5,   23,\n",
              "         11,  959,   13,  552,   13,    1,  175,  758,  259,   12,  249,\n",
              "          3,    2,   36,   18,   73, 3715,    3,   40, 1427,   12,   22,\n",
              "        650], dtype=int32)"
            ]
          },
          "metadata": {},
          "execution_count": 108
        }
      ]
    },
    {
      "cell_type": "code",
      "metadata": {
        "colab": {
          "base_uri": "https://localhost:8080/"
        },
        "id": "Lref3P5Klt_r",
        "outputId": "c9c89541-aad9-436f-c047-df46c0299a40"
      },
      "source": [
        "upd_x_train[0]"
      ],
      "execution_count": null,
      "outputs": [
        {
          "output_type": "execute_result",
          "data": {
            "text/plain": [
              "array([ 11,  39,   1, 350, 111, 351, 352, 180, 353, 181, 182,  12, 111,\n",
              "       354, 355,  18, 356,  27, 357,  56, 112,  78, 109, 358, 359,  79,\n",
              "       360, 183, 361,   1, 184,  56,  40, 111, 112,  41, 362,  19,  14,\n",
              "       185,  11, 113,  28,  11, 113, 182, 363, 364, 365, 366,   1, 367,\n",
              "       368, 369, 370,  20, 371,  29, 372, 373,  40, 374,  42, 186, 375,\n",
              "        10, 376, 377, 187, 378, 188,  80,   3,  81, 114, 379, 115,  57,\n",
              "        13,  35, 189, 380, 381,   2, 114,   1, 382, 383,   1, 384, 185,\n",
              "       190, 191,  11,  35, 385,  21, 386,  29, 387], dtype=int32)"
            ]
          },
          "metadata": {},
          "execution_count": 109
        }
      ]
    },
    {
      "cell_type": "code",
      "metadata": {
        "id": "PjfwyVfGkV1q"
      },
      "source": [
        "from tensorflow.keras.models import Sequential\n",
        "from tensorflow.keras.layers import Dense, Embedding, MaxPooling1D, Conv1D, GlobalMaxPooling1D, Dropout, LSTM, GRU"
      ],
      "execution_count": null,
      "outputs": []
    },
    {
      "cell_type": "code",
      "metadata": {
        "id": "qdGkbLSokh7A"
      },
      "source": [
        "model_cnn = Sequential()\n",
        "model_cnn.add(Embedding(num_words, 32, input_length=max_text_len))\n",
        "model_cnn.add(Conv1D(3*file_names_size**2, 5, padding='valid', activation='relu'))\n",
        "model_cnn.add(GlobalMaxPooling1D())\n",
        "model_cnn.add(Dense(file_names_size**2, activation='relu'))\n",
        "model_cnn.add(Dense(file_names_size, activation='softmax'))"
      ],
      "execution_count": null,
      "outputs": []
    },
    {
      "cell_type": "code",
      "metadata": {
        "id": "WL8CmjUakmfg"
      },
      "source": [
        "model_cnn.compile(optimizer='adam', \n",
        "              loss='categorical_crossentropy', \n",
        "              metrics=['accuracy'])"
      ],
      "execution_count": null,
      "outputs": []
    },
    {
      "cell_type": "code",
      "metadata": {
        "colab": {
          "base_uri": "https://localhost:8080/"
        },
        "id": "Ya0FOCYtlUjj",
        "outputId": "71f144c4-25b1-4fb1-af23-983d3a7d9fc3"
      },
      "source": [
        "model_cnn.summary()"
      ],
      "execution_count": null,
      "outputs": [
        {
          "output_type": "stream",
          "name": "stdout",
          "text": [
            "Model: \"sequential_4\"\n",
            "_________________________________________________________________\n",
            "Layer (type)                 Output Shape              Param #   \n",
            "=================================================================\n",
            "embedding_4 (Embedding)      (None, 100, 32)           160000    \n",
            "_________________________________________________________________\n",
            "conv1d_2 (Conv1D)            (None, 96, 507)           81627     \n",
            "_________________________________________________________________\n",
            "global_max_pooling1d_2 (Glob (None, 507)               0         \n",
            "_________________________________________________________________\n",
            "dense_6 (Dense)              (None, 169)               85852     \n",
            "_________________________________________________________________\n",
            "dense_7 (Dense)              (None, 13)                2210      \n",
            "=================================================================\n",
            "Total params: 329,689\n",
            "Trainable params: 329,689\n",
            "Non-trainable params: 0\n",
            "_________________________________________________________________\n"
          ]
        }
      ]
    },
    {
      "cell_type": "code",
      "metadata": {
        "id": "SzIJyrVFmYlu"
      },
      "source": [
        "from tensorflow.keras.callbacks import ModelCheckpoint"
      ],
      "execution_count": null,
      "outputs": []
    },
    {
      "cell_type": "code",
      "metadata": {
        "id": "lKI3Xwx3lZXZ"
      },
      "source": [
        "model_cnn_save_path = 'best_model_cnn.h5'\n",
        "checkpoint_callback_cnn = ModelCheckpoint(model_cnn_save_path, \n",
        "                                      monitor='val_accuracy',\n",
        "                                      save_best_only=True,\n",
        "                                      verbose=1)"
      ],
      "execution_count": null,
      "outputs": []
    },
    {
      "cell_type": "code",
      "metadata": {
        "id": "IIyDSYyZl_bL"
      },
      "source": [
        "upd_model_cnn_save_path = 'upd_best_model_cnn.h5'\n",
        "upd_checkpoint_callback_cnn = ModelCheckpoint(upd_model_cnn_save_path, \n",
        "                                      monitor='val_accuracy',\n",
        "                                      save_best_only=True,\n",
        "                                      verbose=1)"
      ],
      "execution_count": null,
      "outputs": []
    },
    {
      "cell_type": "code",
      "metadata": {
        "colab": {
          "base_uri": "https://localhost:8080/"
        },
        "id": "i3ISZxwAmtZ7",
        "outputId": "b29e9a21-525a-44ed-9614-128ede394266"
      },
      "source": [
        "history_cnn = model_cnn.fit(x_train, \n",
        "                            y_train, \n",
        "                            epochs=50,\n",
        "                            batch_size=256,\n",
        "                            validation_split=0.2,\n",
        "                            callbacks=[checkpoint_callback_cnn])"
      ],
      "execution_count": null,
      "outputs": [
        {
          "output_type": "stream",
          "name": "stdout",
          "text": [
            "Epoch 1/50\n",
            "33/33 [==============================] - 13s 366ms/step - loss: 2.4496 - accuracy: 0.0976 - val_loss: 5.4672 - val_accuracy: 0.0000e+00\n",
            "\n",
            "Epoch 00001: val_accuracy improved from -inf to 0.00000, saving model to best_model_cnn.h5\n",
            "Epoch 2/50\n",
            "33/33 [==============================] - 12s 362ms/step - loss: 2.3629 - accuracy: 0.1353 - val_loss: 6.7745 - val_accuracy: 0.0000e+00\n",
            "\n",
            "Epoch 00002: val_accuracy did not improve from 0.00000\n",
            "Epoch 3/50\n",
            "33/33 [==============================] - 12s 361ms/step - loss: 2.2945 - accuracy: 0.1931 - val_loss: 7.8531 - val_accuracy: 0.0000e+00\n",
            "\n",
            "Epoch 00003: val_accuracy did not improve from 0.00000\n",
            "Epoch 4/50\n",
            "33/33 [==============================] - 12s 361ms/step - loss: 2.1129 - accuracy: 0.2593 - val_loss: 9.0577 - val_accuracy: 0.0000e+00\n",
            "\n",
            "Epoch 00004: val_accuracy did not improve from 0.00000\n",
            "Epoch 5/50\n",
            "33/33 [==============================] - 12s 362ms/step - loss: 1.9075 - accuracy: 0.3458 - val_loss: 10.2419 - val_accuracy: 9.4922e-04\n",
            "\n",
            "Epoch 00005: val_accuracy improved from 0.00000 to 0.00095, saving model to best_model_cnn.h5\n",
            "Epoch 6/50\n",
            "33/33 [==============================] - 12s 361ms/step - loss: 1.7276 - accuracy: 0.4046 - val_loss: 10.9748 - val_accuracy: 0.0014\n",
            "\n",
            "Epoch 00006: val_accuracy improved from 0.00095 to 0.00142, saving model to best_model_cnn.h5\n",
            "Epoch 7/50\n",
            "33/33 [==============================] - 12s 360ms/step - loss: 1.5396 - accuracy: 0.4876 - val_loss: 12.1808 - val_accuracy: 0.0000e+00\n",
            "\n",
            "Epoch 00007: val_accuracy did not improve from 0.00142\n",
            "Epoch 8/50\n",
            "33/33 [==============================] - 12s 360ms/step - loss: 1.3559 - accuracy: 0.5507 - val_loss: 13.0226 - val_accuracy: 0.0133\n",
            "\n",
            "Epoch 00008: val_accuracy improved from 0.00142 to 0.01329, saving model to best_model_cnn.h5\n",
            "Epoch 9/50\n",
            "33/33 [==============================] - 12s 360ms/step - loss: 1.1832 - accuracy: 0.6134 - val_loss: 14.1094 - val_accuracy: 0.0019\n",
            "\n",
            "Epoch 00009: val_accuracy did not improve from 0.01329\n",
            "Epoch 10/50\n",
            "33/33 [==============================] - 12s 363ms/step - loss: 1.0248 - accuracy: 0.6735 - val_loss: 15.1358 - val_accuracy: 0.0142\n",
            "\n",
            "Epoch 00010: val_accuracy improved from 0.01329 to 0.01424, saving model to best_model_cnn.h5\n",
            "Epoch 11/50\n",
            "33/33 [==============================] - 12s 362ms/step - loss: 0.8708 - accuracy: 0.7331 - val_loss: 16.1179 - val_accuracy: 0.0081\n",
            "\n",
            "Epoch 00011: val_accuracy did not improve from 0.01424\n",
            "Epoch 12/50\n",
            "33/33 [==============================] - 12s 362ms/step - loss: 0.7254 - accuracy: 0.7853 - val_loss: 17.1118 - val_accuracy: 0.0408\n",
            "\n",
            "Epoch 00012: val_accuracy improved from 0.01424 to 0.04082, saving model to best_model_cnn.h5\n",
            "Epoch 13/50\n",
            "33/33 [==============================] - 12s 361ms/step - loss: 0.5928 - accuracy: 0.8405 - val_loss: 18.2933 - val_accuracy: 0.0418\n",
            "\n",
            "Epoch 00013: val_accuracy improved from 0.04082 to 0.04177, saving model to best_model_cnn.h5\n",
            "Epoch 14/50\n",
            "33/33 [==============================] - 12s 363ms/step - loss: 0.4772 - accuracy: 0.8836 - val_loss: 19.4891 - val_accuracy: 0.0327\n",
            "\n",
            "Epoch 00014: val_accuracy did not improve from 0.04177\n",
            "Epoch 15/50\n",
            "33/33 [==============================] - 12s 363ms/step - loss: 0.3757 - accuracy: 0.9205 - val_loss: 20.6406 - val_accuracy: 0.0266\n",
            "\n",
            "Epoch 00015: val_accuracy did not improve from 0.04177\n",
            "Epoch 16/50\n",
            "33/33 [==============================] - 12s 362ms/step - loss: 0.2898 - accuracy: 0.9467 - val_loss: 21.7105 - val_accuracy: 0.0323\n",
            "\n",
            "Epoch 00016: val_accuracy did not improve from 0.04177\n",
            "Epoch 17/50\n",
            "33/33 [==============================] - 12s 362ms/step - loss: 0.2146 - accuracy: 0.9707 - val_loss: 22.6291 - val_accuracy: 0.0375\n",
            "\n",
            "Epoch 00017: val_accuracy did not improve from 0.04177\n",
            "Epoch 18/50\n",
            "33/33 [==============================] - 12s 363ms/step - loss: 0.1612 - accuracy: 0.9834 - val_loss: 23.6083 - val_accuracy: 0.0375\n",
            "\n",
            "Epoch 00018: val_accuracy did not improve from 0.04177\n",
            "Epoch 19/50\n",
            "33/33 [==============================] - 12s 362ms/step - loss: 0.1168 - accuracy: 0.9911 - val_loss: 24.7424 - val_accuracy: 0.0323\n",
            "\n",
            "Epoch 00019: val_accuracy did not improve from 0.04177\n",
            "Epoch 20/50\n",
            "33/33 [==============================] - 12s 363ms/step - loss: 0.0889 - accuracy: 0.9937 - val_loss: 25.6843 - val_accuracy: 0.0384\n",
            "\n",
            "Epoch 00020: val_accuracy did not improve from 0.04177\n",
            "Epoch 21/50\n",
            "33/33 [==============================] - 12s 361ms/step - loss: 0.0699 - accuracy: 0.9950 - val_loss: 26.4141 - val_accuracy: 0.0399\n",
            "\n",
            "Epoch 00021: val_accuracy did not improve from 0.04177\n",
            "Epoch 22/50\n",
            "33/33 [==============================] - 12s 362ms/step - loss: 0.0542 - accuracy: 0.9962 - val_loss: 27.1974 - val_accuracy: 0.0408\n",
            "\n",
            "Epoch 00022: val_accuracy did not improve from 0.04177\n",
            "Epoch 23/50\n",
            "33/33 [==============================] - 12s 360ms/step - loss: 0.0445 - accuracy: 0.9966 - val_loss: 27.8159 - val_accuracy: 0.0446\n",
            "\n",
            "Epoch 00023: val_accuracy improved from 0.04177 to 0.04461, saving model to best_model_cnn.h5\n",
            "Epoch 24/50\n",
            "33/33 [==============================] - 12s 363ms/step - loss: 0.0376 - accuracy: 0.9969 - val_loss: 28.5144 - val_accuracy: 0.0422\n",
            "\n",
            "Epoch 00024: val_accuracy did not improve from 0.04461\n",
            "Epoch 25/50\n",
            "33/33 [==============================] - 12s 363ms/step - loss: 0.0317 - accuracy: 0.9972 - val_loss: 28.9536 - val_accuracy: 0.0451\n",
            "\n",
            "Epoch 00025: val_accuracy improved from 0.04461 to 0.04509, saving model to best_model_cnn.h5\n",
            "Epoch 26/50\n",
            "33/33 [==============================] - 12s 363ms/step - loss: 0.0280 - accuracy: 0.9973 - val_loss: 29.6489 - val_accuracy: 0.0356\n",
            "\n",
            "Epoch 00026: val_accuracy did not improve from 0.04509\n",
            "Epoch 27/50\n",
            "33/33 [==============================] - 12s 364ms/step - loss: 0.0241 - accuracy: 0.9974 - val_loss: 30.0731 - val_accuracy: 0.0342\n",
            "\n",
            "Epoch 00027: val_accuracy did not improve from 0.04509\n",
            "Epoch 28/50\n",
            "33/33 [==============================] - 12s 363ms/step - loss: 0.0225 - accuracy: 0.9976 - val_loss: 30.4434 - val_accuracy: 0.0418\n",
            "\n",
            "Epoch 00028: val_accuracy did not improve from 0.04509\n",
            "Epoch 29/50\n",
            "33/33 [==============================] - 12s 363ms/step - loss: 0.0206 - accuracy: 0.9969 - val_loss: 30.8782 - val_accuracy: 0.0479\n",
            "\n",
            "Epoch 00029: val_accuracy improved from 0.04509 to 0.04794, saving model to best_model_cnn.h5\n",
            "Epoch 30/50\n",
            "33/33 [==============================] - 12s 363ms/step - loss: 0.0186 - accuracy: 0.9972 - val_loss: 31.3393 - val_accuracy: 0.0356\n",
            "\n",
            "Epoch 00030: val_accuracy did not improve from 0.04794\n",
            "Epoch 31/50\n",
            "33/33 [==============================] - 12s 363ms/step - loss: 0.0185 - accuracy: 0.9975 - val_loss: 31.7729 - val_accuracy: 0.0332\n",
            "\n",
            "Epoch 00031: val_accuracy did not improve from 0.04794\n",
            "Epoch 32/50\n",
            "33/33 [==============================] - 12s 363ms/step - loss: 0.0173 - accuracy: 0.9974 - val_loss: 31.8121 - val_accuracy: 0.0437\n",
            "\n",
            "Epoch 00032: val_accuracy did not improve from 0.04794\n",
            "Epoch 33/50\n",
            "33/33 [==============================] - 12s 361ms/step - loss: 0.0160 - accuracy: 0.9977 - val_loss: 32.4655 - val_accuracy: 0.0261\n",
            "\n",
            "Epoch 00033: val_accuracy did not improve from 0.04794\n",
            "Epoch 34/50\n",
            "33/33 [==============================] - 12s 362ms/step - loss: 0.0158 - accuracy: 0.9976 - val_loss: 32.5782 - val_accuracy: 0.0441\n",
            "\n",
            "Epoch 00034: val_accuracy did not improve from 0.04794\n",
            "Epoch 35/50\n",
            "33/33 [==============================] - 12s 362ms/step - loss: 0.0135 - accuracy: 0.9977 - val_loss: 32.9275 - val_accuracy: 0.0351\n",
            "\n",
            "Epoch 00035: val_accuracy did not improve from 0.04794\n",
            "Epoch 36/50\n",
            "33/33 [==============================] - 12s 362ms/step - loss: 0.0139 - accuracy: 0.9976 - val_loss: 32.9429 - val_accuracy: 0.0441\n",
            "\n",
            "Epoch 00036: val_accuracy did not improve from 0.04794\n",
            "Epoch 37/50\n",
            "33/33 [==============================] - 12s 363ms/step - loss: 0.0145 - accuracy: 0.9974 - val_loss: 33.3638 - val_accuracy: 0.0422\n",
            "\n",
            "Epoch 00037: val_accuracy did not improve from 0.04794\n",
            "Epoch 38/50\n",
            "33/33 [==============================] - 12s 362ms/step - loss: 0.0129 - accuracy: 0.9974 - val_loss: 33.4717 - val_accuracy: 0.0427\n",
            "\n",
            "Epoch 00038: val_accuracy did not improve from 0.04794\n",
            "Epoch 39/50\n",
            "33/33 [==============================] - 12s 362ms/step - loss: 0.0123 - accuracy: 0.9975 - val_loss: 34.0179 - val_accuracy: 0.0356\n",
            "\n",
            "Epoch 00039: val_accuracy did not improve from 0.04794\n",
            "Epoch 40/50\n",
            "33/33 [==============================] - 12s 364ms/step - loss: 0.0119 - accuracy: 0.9975 - val_loss: 34.1039 - val_accuracy: 0.0441\n",
            "\n",
            "Epoch 00040: val_accuracy did not improve from 0.04794\n",
            "Epoch 41/50\n",
            "33/33 [==============================] - 12s 363ms/step - loss: 0.0129 - accuracy: 0.9973 - val_loss: 34.4486 - val_accuracy: 0.0313\n",
            "\n",
            "Epoch 00041: val_accuracy did not improve from 0.04794\n",
            "Epoch 42/50\n",
            "33/33 [==============================] - 12s 364ms/step - loss: 0.0113 - accuracy: 0.9976 - val_loss: 34.7043 - val_accuracy: 0.0346\n",
            "\n",
            "Epoch 00042: val_accuracy did not improve from 0.04794\n",
            "Epoch 43/50\n",
            "33/33 [==============================] - 12s 363ms/step - loss: 0.0126 - accuracy: 0.9975 - val_loss: 34.4678 - val_accuracy: 0.0475\n",
            "\n",
            "Epoch 00043: val_accuracy did not improve from 0.04794\n",
            "Epoch 44/50\n",
            "33/33 [==============================] - 12s 361ms/step - loss: 0.0118 - accuracy: 0.9975 - val_loss: 34.7478 - val_accuracy: 0.0427\n",
            "\n",
            "Epoch 00044: val_accuracy did not improve from 0.04794\n",
            "Epoch 45/50\n",
            "33/33 [==============================] - 12s 361ms/step - loss: 0.0118 - accuracy: 0.9977 - val_loss: 34.9549 - val_accuracy: 0.0451\n",
            "\n",
            "Epoch 00045: val_accuracy did not improve from 0.04794\n",
            "Epoch 46/50\n",
            "33/33 [==============================] - 12s 361ms/step - loss: 0.0107 - accuracy: 0.9977 - val_loss: 35.2557 - val_accuracy: 0.0351\n",
            "\n",
            "Epoch 00046: val_accuracy did not improve from 0.04794\n",
            "Epoch 47/50\n",
            "33/33 [==============================] - 12s 361ms/step - loss: 0.0106 - accuracy: 0.9976 - val_loss: 35.2350 - val_accuracy: 0.0451\n",
            "\n",
            "Epoch 00047: val_accuracy did not improve from 0.04794\n",
            "Epoch 48/50\n",
            "33/33 [==============================] - 12s 362ms/step - loss: 0.0110 - accuracy: 0.9977 - val_loss: 35.4825 - val_accuracy: 0.0413\n",
            "\n",
            "Epoch 00048: val_accuracy did not improve from 0.04794\n",
            "Epoch 49/50\n",
            "33/33 [==============================] - 12s 362ms/step - loss: 0.0111 - accuracy: 0.9975 - val_loss: 35.6772 - val_accuracy: 0.0361\n",
            "\n",
            "Epoch 00049: val_accuracy did not improve from 0.04794\n",
            "Epoch 50/50\n",
            "33/33 [==============================] - 12s 362ms/step - loss: 0.0104 - accuracy: 0.9979 - val_loss: 35.5125 - val_accuracy: 0.0465\n",
            "\n",
            "Epoch 00050: val_accuracy did not improve from 0.04794\n"
          ]
        }
      ]
    },
    {
      "cell_type": "code",
      "metadata": {
        "colab": {
          "base_uri": "https://localhost:8080/"
        },
        "id": "iWuUAjd2mc1J",
        "outputId": "10e9b966-4882-4d74-b306-ba695886c419"
      },
      "source": [
        "upd_history_cnn = model_cnn.fit(upd_x_train, \n",
        "                            y_train, \n",
        "                            epochs=50,\n",
        "                            batch_size=256,\n",
        "                            validation_split=0.2,\n",
        "                            callbacks=[upd_checkpoint_callback_cnn])"
      ],
      "execution_count": null,
      "outputs": [
        {
          "output_type": "stream",
          "name": "stdout",
          "text": [
            "Epoch 1/50\n",
            "1/1 [==============================] - 0s 64ms/step - loss: 8.7127 - accuracy: 0.1000 - val_loss: 4.3450 - val_accuracy: 0.6667\n",
            "\n",
            "Epoch 00001: val_accuracy improved from -inf to 0.66667, saving model to upd_best_model_cnn.h5\n",
            "Epoch 2/50\n",
            "1/1 [==============================] - 0s 40ms/step - loss: 0.4510 - accuracy: 0.9000 - val_loss: 1.1890 - val_accuracy: 0.6667\n",
            "\n",
            "Epoch 00002: val_accuracy did not improve from 0.66667\n",
            "Epoch 3/50\n",
            "1/1 [==============================] - 0s 39ms/step - loss: 1.8239e-06 - accuracy: 1.0000 - val_loss: 0.0035 - val_accuracy: 1.0000\n",
            "\n",
            "Epoch 00003: val_accuracy improved from 0.66667 to 1.00000, saving model to upd_best_model_cnn.h5\n",
            "Epoch 4/50\n",
            "1/1 [==============================] - 0s 41ms/step - loss: 0.0000e+00 - accuracy: 1.0000 - val_loss: 2.7815e-06 - val_accuracy: 1.0000\n",
            "\n",
            "Epoch 00004: val_accuracy did not improve from 1.00000\n",
            "Epoch 5/50\n",
            "1/1 [==============================] - 0s 47ms/step - loss: 0.0000e+00 - accuracy: 1.0000 - val_loss: 0.0000e+00 - val_accuracy: 1.0000\n",
            "\n",
            "Epoch 00005: val_accuracy did not improve from 1.00000\n",
            "Epoch 6/50\n",
            "1/1 [==============================] - 0s 43ms/step - loss: 0.0000e+00 - accuracy: 1.0000 - val_loss: 0.0000e+00 - val_accuracy: 1.0000\n",
            "\n",
            "Epoch 00006: val_accuracy did not improve from 1.00000\n",
            "Epoch 7/50\n",
            "1/1 [==============================] - 0s 48ms/step - loss: 0.0000e+00 - accuracy: 1.0000 - val_loss: 0.0000e+00 - val_accuracy: 1.0000\n",
            "\n",
            "Epoch 00007: val_accuracy did not improve from 1.00000\n",
            "Epoch 8/50\n",
            "1/1 [==============================] - 0s 42ms/step - loss: 0.0000e+00 - accuracy: 1.0000 - val_loss: 0.0000e+00 - val_accuracy: 1.0000\n",
            "\n",
            "Epoch 00008: val_accuracy did not improve from 1.00000\n",
            "Epoch 9/50\n",
            "1/1 [==============================] - 0s 50ms/step - loss: 0.0000e+00 - accuracy: 1.0000 - val_loss: 0.0000e+00 - val_accuracy: 1.0000\n",
            "\n",
            "Epoch 00009: val_accuracy did not improve from 1.00000\n",
            "Epoch 10/50\n",
            "1/1 [==============================] - 0s 41ms/step - loss: 0.0000e+00 - accuracy: 1.0000 - val_loss: 0.0000e+00 - val_accuracy: 1.0000\n",
            "\n",
            "Epoch 00010: val_accuracy did not improve from 1.00000\n",
            "Epoch 11/50\n",
            "1/1 [==============================] - 0s 44ms/step - loss: 0.0000e+00 - accuracy: 1.0000 - val_loss: 0.0000e+00 - val_accuracy: 1.0000\n",
            "\n",
            "Epoch 00011: val_accuracy did not improve from 1.00000\n",
            "Epoch 12/50\n",
            "1/1 [==============================] - 0s 39ms/step - loss: 0.0000e+00 - accuracy: 1.0000 - val_loss: 0.0000e+00 - val_accuracy: 1.0000\n",
            "\n",
            "Epoch 00012: val_accuracy did not improve from 1.00000\n",
            "Epoch 13/50\n",
            "1/1 [==============================] - 0s 40ms/step - loss: 0.0000e+00 - accuracy: 1.0000 - val_loss: 0.0000e+00 - val_accuracy: 1.0000\n",
            "\n",
            "Epoch 00013: val_accuracy did not improve from 1.00000\n",
            "Epoch 14/50\n",
            "1/1 [==============================] - 0s 39ms/step - loss: 0.0000e+00 - accuracy: 1.0000 - val_loss: 0.0000e+00 - val_accuracy: 1.0000\n",
            "\n",
            "Epoch 00014: val_accuracy did not improve from 1.00000\n",
            "Epoch 15/50\n",
            "1/1 [==============================] - 0s 44ms/step - loss: 0.0000e+00 - accuracy: 1.0000 - val_loss: 0.0000e+00 - val_accuracy: 1.0000\n",
            "\n",
            "Epoch 00015: val_accuracy did not improve from 1.00000\n",
            "Epoch 16/50\n",
            "1/1 [==============================] - 0s 40ms/step - loss: 0.0000e+00 - accuracy: 1.0000 - val_loss: 0.0000e+00 - val_accuracy: 1.0000\n",
            "\n",
            "Epoch 00016: val_accuracy did not improve from 1.00000\n",
            "Epoch 17/50\n",
            "1/1 [==============================] - 0s 41ms/step - loss: 0.0000e+00 - accuracy: 1.0000 - val_loss: 0.0000e+00 - val_accuracy: 1.0000\n",
            "\n",
            "Epoch 00017: val_accuracy did not improve from 1.00000\n",
            "Epoch 18/50\n",
            "1/1 [==============================] - 0s 41ms/step - loss: 0.0000e+00 - accuracy: 1.0000 - val_loss: 0.0000e+00 - val_accuracy: 1.0000\n",
            "\n",
            "Epoch 00018: val_accuracy did not improve from 1.00000\n",
            "Epoch 19/50\n",
            "1/1 [==============================] - 0s 47ms/step - loss: 0.0000e+00 - accuracy: 1.0000 - val_loss: 0.0000e+00 - val_accuracy: 1.0000\n",
            "\n",
            "Epoch 00019: val_accuracy did not improve from 1.00000\n",
            "Epoch 20/50\n",
            "1/1 [==============================] - 0s 47ms/step - loss: 0.0000e+00 - accuracy: 1.0000 - val_loss: 0.0000e+00 - val_accuracy: 1.0000\n",
            "\n",
            "Epoch 00020: val_accuracy did not improve from 1.00000\n",
            "Epoch 21/50\n",
            "1/1 [==============================] - 0s 62ms/step - loss: 0.0000e+00 - accuracy: 1.0000 - val_loss: 0.0000e+00 - val_accuracy: 1.0000\n",
            "\n",
            "Epoch 00021: val_accuracy did not improve from 1.00000\n",
            "Epoch 22/50\n",
            "1/1 [==============================] - 0s 40ms/step - loss: 0.0000e+00 - accuracy: 1.0000 - val_loss: 0.0000e+00 - val_accuracy: 1.0000\n",
            "\n",
            "Epoch 00022: val_accuracy did not improve from 1.00000\n",
            "Epoch 23/50\n",
            "1/1 [==============================] - 0s 42ms/step - loss: 0.0000e+00 - accuracy: 1.0000 - val_loss: 0.0000e+00 - val_accuracy: 1.0000\n",
            "\n",
            "Epoch 00023: val_accuracy did not improve from 1.00000\n",
            "Epoch 24/50\n",
            "1/1 [==============================] - 0s 49ms/step - loss: 0.0000e+00 - accuracy: 1.0000 - val_loss: 0.0000e+00 - val_accuracy: 1.0000\n",
            "\n",
            "Epoch 00024: val_accuracy did not improve from 1.00000\n",
            "Epoch 25/50\n",
            "1/1 [==============================] - 0s 45ms/step - loss: 0.0000e+00 - accuracy: 1.0000 - val_loss: 0.0000e+00 - val_accuracy: 1.0000\n",
            "\n",
            "Epoch 00025: val_accuracy did not improve from 1.00000\n",
            "Epoch 26/50\n",
            "1/1 [==============================] - 0s 42ms/step - loss: 0.0000e+00 - accuracy: 1.0000 - val_loss: 0.0000e+00 - val_accuracy: 1.0000\n",
            "\n",
            "Epoch 00026: val_accuracy did not improve from 1.00000\n",
            "Epoch 27/50\n",
            "1/1 [==============================] - 0s 40ms/step - loss: 0.0000e+00 - accuracy: 1.0000 - val_loss: 0.0000e+00 - val_accuracy: 1.0000\n",
            "\n",
            "Epoch 00027: val_accuracy did not improve from 1.00000\n",
            "Epoch 28/50\n",
            "1/1 [==============================] - 0s 41ms/step - loss: 0.0000e+00 - accuracy: 1.0000 - val_loss: 0.0000e+00 - val_accuracy: 1.0000\n",
            "\n",
            "Epoch 00028: val_accuracy did not improve from 1.00000\n",
            "Epoch 29/50\n",
            "1/1 [==============================] - 0s 40ms/step - loss: 0.0000e+00 - accuracy: 1.0000 - val_loss: 0.0000e+00 - val_accuracy: 1.0000\n",
            "\n",
            "Epoch 00029: val_accuracy did not improve from 1.00000\n",
            "Epoch 30/50\n",
            "1/1 [==============================] - 0s 37ms/step - loss: 0.0000e+00 - accuracy: 1.0000 - val_loss: 0.0000e+00 - val_accuracy: 1.0000\n",
            "\n",
            "Epoch 00030: val_accuracy did not improve from 1.00000\n",
            "Epoch 31/50\n",
            "1/1 [==============================] - 0s 43ms/step - loss: 0.0000e+00 - accuracy: 1.0000 - val_loss: 0.0000e+00 - val_accuracy: 1.0000\n",
            "\n",
            "Epoch 00031: val_accuracy did not improve from 1.00000\n",
            "Epoch 32/50\n",
            "1/1 [==============================] - 0s 43ms/step - loss: 0.0000e+00 - accuracy: 1.0000 - val_loss: 0.0000e+00 - val_accuracy: 1.0000\n",
            "\n",
            "Epoch 00032: val_accuracy did not improve from 1.00000\n",
            "Epoch 33/50\n",
            "1/1 [==============================] - 0s 44ms/step - loss: 0.0000e+00 - accuracy: 1.0000 - val_loss: 0.0000e+00 - val_accuracy: 1.0000\n",
            "\n",
            "Epoch 00033: val_accuracy did not improve from 1.00000\n",
            "Epoch 34/50\n",
            "1/1 [==============================] - 0s 42ms/step - loss: 0.0000e+00 - accuracy: 1.0000 - val_loss: 0.0000e+00 - val_accuracy: 1.0000\n",
            "\n",
            "Epoch 00034: val_accuracy did not improve from 1.00000\n",
            "Epoch 35/50\n",
            "1/1 [==============================] - 0s 45ms/step - loss: 0.0000e+00 - accuracy: 1.0000 - val_loss: 0.0000e+00 - val_accuracy: 1.0000\n",
            "\n",
            "Epoch 00035: val_accuracy did not improve from 1.00000\n",
            "Epoch 36/50\n",
            "1/1 [==============================] - 0s 45ms/step - loss: 0.0000e+00 - accuracy: 1.0000 - val_loss: 0.0000e+00 - val_accuracy: 1.0000\n",
            "\n",
            "Epoch 00036: val_accuracy did not improve from 1.00000\n",
            "Epoch 37/50\n",
            "1/1 [==============================] - 0s 50ms/step - loss: 0.0000e+00 - accuracy: 1.0000 - val_loss: 0.0000e+00 - val_accuracy: 1.0000\n",
            "\n",
            "Epoch 00037: val_accuracy did not improve from 1.00000\n",
            "Epoch 38/50\n",
            "1/1 [==============================] - 0s 43ms/step - loss: 0.0000e+00 - accuracy: 1.0000 - val_loss: 0.0000e+00 - val_accuracy: 1.0000\n",
            "\n",
            "Epoch 00038: val_accuracy did not improve from 1.00000\n",
            "Epoch 39/50\n",
            "1/1 [==============================] - 0s 40ms/step - loss: 0.0000e+00 - accuracy: 1.0000 - val_loss: 0.0000e+00 - val_accuracy: 1.0000\n",
            "\n",
            "Epoch 00039: val_accuracy did not improve from 1.00000\n",
            "Epoch 40/50\n",
            "1/1 [==============================] - 0s 40ms/step - loss: 0.0000e+00 - accuracy: 1.0000 - val_loss: 0.0000e+00 - val_accuracy: 1.0000\n",
            "\n",
            "Epoch 00040: val_accuracy did not improve from 1.00000\n",
            "Epoch 41/50\n",
            "1/1 [==============================] - 0s 43ms/step - loss: 0.0000e+00 - accuracy: 1.0000 - val_loss: 0.0000e+00 - val_accuracy: 1.0000\n",
            "\n",
            "Epoch 00041: val_accuracy did not improve from 1.00000\n",
            "Epoch 42/50\n",
            "1/1 [==============================] - 0s 46ms/step - loss: 0.0000e+00 - accuracy: 1.0000 - val_loss: 0.0000e+00 - val_accuracy: 1.0000\n",
            "\n",
            "Epoch 00042: val_accuracy did not improve from 1.00000\n",
            "Epoch 43/50\n",
            "1/1 [==============================] - 0s 46ms/step - loss: 0.0000e+00 - accuracy: 1.0000 - val_loss: 0.0000e+00 - val_accuracy: 1.0000\n",
            "\n",
            "Epoch 00043: val_accuracy did not improve from 1.00000\n",
            "Epoch 44/50\n",
            "1/1 [==============================] - 0s 43ms/step - loss: 0.0000e+00 - accuracy: 1.0000 - val_loss: 0.0000e+00 - val_accuracy: 1.0000\n",
            "\n",
            "Epoch 00044: val_accuracy did not improve from 1.00000\n",
            "Epoch 45/50\n",
            "1/1 [==============================] - 0s 42ms/step - loss: 0.0000e+00 - accuracy: 1.0000 - val_loss: 0.0000e+00 - val_accuracy: 1.0000\n",
            "\n",
            "Epoch 00045: val_accuracy did not improve from 1.00000\n",
            "Epoch 46/50\n",
            "1/1 [==============================] - 0s 45ms/step - loss: 0.0000e+00 - accuracy: 1.0000 - val_loss: 0.0000e+00 - val_accuracy: 1.0000\n",
            "\n",
            "Epoch 00046: val_accuracy did not improve from 1.00000\n",
            "Epoch 47/50\n",
            "1/1 [==============================] - 0s 40ms/step - loss: 0.0000e+00 - accuracy: 1.0000 - val_loss: 0.0000e+00 - val_accuracy: 1.0000\n",
            "\n",
            "Epoch 00047: val_accuracy did not improve from 1.00000\n",
            "Epoch 48/50\n",
            "1/1 [==============================] - 0s 45ms/step - loss: 0.0000e+00 - accuracy: 1.0000 - val_loss: 0.0000e+00 - val_accuracy: 1.0000\n",
            "\n",
            "Epoch 00048: val_accuracy did not improve from 1.00000\n",
            "Epoch 49/50\n",
            "1/1 [==============================] - 0s 64ms/step - loss: 0.0000e+00 - accuracy: 1.0000 - val_loss: 0.0000e+00 - val_accuracy: 1.0000\n",
            "\n",
            "Epoch 00049: val_accuracy did not improve from 1.00000\n",
            "Epoch 50/50\n",
            "1/1 [==============================] - 0s 41ms/step - loss: 0.0000e+00 - accuracy: 1.0000 - val_loss: 0.0000e+00 - val_accuracy: 1.0000\n",
            "\n",
            "Epoch 00050: val_accuracy did not improve from 1.00000\n"
          ]
        }
      ]
    },
    {
      "cell_type": "code",
      "metadata": {
        "id": "4Lk1iB1_RG_-"
      },
      "source": [
        "import matplotlib.pyplot as plt"
      ],
      "execution_count": null,
      "outputs": []
    },
    {
      "cell_type": "code",
      "metadata": {
        "colab": {
          "base_uri": "https://localhost:8080/",
          "height": 279
        },
        "id": "zeOzzod4oMO0",
        "outputId": "0782656f-5969-4152-d662-028d4e818c7a"
      },
      "source": [
        "plt.plot(history_cnn.history['accuracy'], \n",
        "         label='train accuracy')\n",
        "plt.plot(history_cnn.history['val_accuracy'], \n",
        "         label='test accuracy')\n",
        "plt.plot(upd_history_cnn.history['accuracy'], \n",
        "         label='upd train accuracy')\n",
        "plt.plot(upd_history_cnn.history['val_accuracy'], \n",
        "         label='upd test accuracy')\n",
        "plt.xlabel('epoch')\n",
        "plt.ylabel('accuracy')\n",
        "plt.legend()\n",
        "plt.show()"
      ],
      "execution_count": null,
      "outputs": [
        {
          "output_type": "display_data",
          "data": {
            "image/png": "[encoded data removed]",
            "text/plain": [
              "<Figure size 432x288 with 1 Axes>"
            ]
          },
          "metadata": {
            "needs_background": "light"
          }
        }
      ]
    },
    {
      "cell_type": "code",
      "metadata": {
        "id": "Shjyj9t7nZ5Z"
      },
      "source": [
        "model_lstm = Sequential()\n",
        "model_lstm.add(Embedding(num_words, 32, input_length=max_text_len))\n",
        "model_lstm.add(LSTM(169))\n",
        "model_lstm.add(Dense(13, activation='softmax'))"
      ],
      "execution_count": null,
      "outputs": []
    },
    {
      "cell_type": "code",
      "metadata": {
        "id": "RMAMEGsVn6e8"
      },
      "source": [
        "model_lstm.compile(optimizer='adam', \n",
        "              loss='categorical_crossentropy', \n",
        "              metrics=['accuracy'])"
      ],
      "execution_count": null,
      "outputs": []
    },
    {
      "cell_type": "code",
      "metadata": {
        "colab": {
          "base_uri": "https://localhost:8080/"
        },
        "id": "0PiEPEK2n_KK",
        "outputId": "ac40f5d4-9d14-4a87-f19d-cbc19022d223"
      },
      "source": [
        "model_lstm.summary()"
      ],
      "execution_count": null,
      "outputs": [
        {
          "output_type": "stream",
          "name": "stdout",
          "text": [
            "Model: \"sequential_5\"\n",
            "_________________________________________________________________\n",
            "Layer (type)                 Output Shape              Param #   \n",
            "=================================================================\n",
            "embedding_5 (Embedding)      (None, 100, 32)           160000    \n",
            "_________________________________________________________________\n",
            "lstm_1 (LSTM)                (None, 169)               136552    \n",
            "_________________________________________________________________\n",
            "dense_8 (Dense)              (None, 13)                2210      \n",
            "=================================================================\n",
            "Total params: 298,762\n",
            "Trainable params: 298,762\n",
            "Non-trainable params: 0\n",
            "_________________________________________________________________\n"
          ]
        }
      ]
    },
    {
      "cell_type": "code",
      "metadata": {
        "id": "Rp21Eej2oBuy"
      },
      "source": [
        "model_lstm_save_path = 'best_model_lstm.h5'\n",
        "checkpoint_callback_lstm = ModelCheckpoint(model_lstm_save_path, \n",
        "                                      monitor='val_accuracy',\n",
        "                                      save_best_only=True,\n",
        "                                      verbose=1)"
      ],
      "execution_count": null,
      "outputs": []
    },
    {
      "cell_type": "code",
      "metadata": {
        "id": "aXKMZYNepabD"
      },
      "source": [
        "upd_model_lstm_save_path = 'upd_best_model_lstm.h5'\n",
        "upd_checkpoint_callback_lstm = ModelCheckpoint(upd_model_lstm_save_path, \n",
        "                                      monitor='val_accuracy',\n",
        "                                      save_best_only=True,\n",
        "                                      verbose=1)"
      ],
      "execution_count": null,
      "outputs": []
    },
    {
      "cell_type": "code",
      "metadata": {
        "colab": {
          "base_uri": "https://localhost:8080/"
        },
        "id": "sR4X2YszoSPv",
        "outputId": "f0e27395-bd99-4fd8-ccd0-f06eb6283c11"
      },
      "source": [
        "history_lstm = model_lstm.fit(x_train, \n",
        "                              y_train, \n",
        "                              epochs=50,\n",
        "                              batch_size=256,\n",
        "                              validation_split=0.2,\n",
        "                              callbacks=[checkpoint_callback_lstm])"
      ],
      "execution_count": null,
      "outputs": [
        {
          "output_type": "stream",
          "name": "stdout",
          "text": [
            "Epoch 1/50\n",
            "33/33 [==============================] - 58s 666ms/step - loss: 2.4412 - accuracy: 0.0969 - val_loss: 5.6207 - val_accuracy: 0.0000e+00\n",
            "\n",
            "Epoch 00001: val_accuracy improved from -inf to 0.00000, saving model to best_model_lstm.h5\n",
            "Epoch 2/50\n",
            "33/33 [==============================] - 21s 644ms/step - loss: 2.3830 - accuracy: 0.1011 - val_loss: 6.1223 - val_accuracy: 0.0000e+00\n",
            "\n",
            "Epoch 00002: val_accuracy did not improve from 0.00000\n",
            "Epoch 3/50\n",
            "33/33 [==============================] - 21s 635ms/step - loss: 2.3645 - accuracy: 0.1264 - val_loss: 5.2484 - val_accuracy: 0.0000e+00\n",
            "\n",
            "Epoch 00003: val_accuracy did not improve from 0.00000\n",
            "Epoch 4/50\n",
            "33/33 [==============================] - 21s 645ms/step - loss: 2.2720 - accuracy: 0.2031 - val_loss: 5.6280 - val_accuracy: 0.0000e+00\n",
            "\n",
            "Epoch 00004: val_accuracy did not improve from 0.00000\n",
            "Epoch 5/50\n",
            "33/33 [==============================] - 21s 644ms/step - loss: 2.0954 - accuracy: 0.2700 - val_loss: 5.2818 - val_accuracy: 0.0000e+00\n",
            "\n",
            "Epoch 00005: val_accuracy did not improve from 0.00000\n",
            "Epoch 6/50\n",
            "33/33 [==============================] - 21s 647ms/step - loss: 1.8532 - accuracy: 0.3626 - val_loss: 5.6321 - val_accuracy: 0.0000e+00\n",
            "\n",
            "Epoch 00006: val_accuracy did not improve from 0.00000\n",
            "Epoch 7/50\n",
            "33/33 [==============================] - 21s 638ms/step - loss: 1.6799 - accuracy: 0.4223 - val_loss: 5.6479 - val_accuracy: 0.0000e+00\n",
            "\n",
            "Epoch 00007: val_accuracy did not improve from 0.00000\n",
            "Epoch 8/50\n",
            "33/33 [==============================] - 21s 642ms/step - loss: 1.5146 - accuracy: 0.4825 - val_loss: 6.2339 - val_accuracy: 0.0000e+00\n",
            "\n",
            "Epoch 00008: val_accuracy did not improve from 0.00000\n",
            "Epoch 9/50\n",
            "33/33 [==============================] - 21s 645ms/step - loss: 1.3982 - accuracy: 0.5191 - val_loss: 5.9116 - val_accuracy: 0.0033\n",
            "\n",
            "Epoch 00009: val_accuracy improved from 0.00000 to 0.00332, saving model to best_model_lstm.h5\n",
            "Epoch 10/50\n",
            "33/33 [==============================] - 21s 642ms/step - loss: 1.2733 - accuracy: 0.5720 - val_loss: 6.2707 - val_accuracy: 0.0062\n",
            "\n",
            "Epoch 00010: val_accuracy improved from 0.00332 to 0.00617, saving model to best_model_lstm.h5\n",
            "Epoch 11/50\n",
            "33/33 [==============================] - 21s 637ms/step - loss: 1.1598 - accuracy: 0.6129 - val_loss: 6.6034 - val_accuracy: 0.0109\n",
            "\n",
            "Epoch 00011: val_accuracy improved from 0.00617 to 0.01092, saving model to best_model_lstm.h5\n",
            "Epoch 12/50\n",
            "33/33 [==============================] - 21s 644ms/step - loss: 1.0754 - accuracy: 0.6488 - val_loss: 6.3544 - val_accuracy: 0.0247\n",
            "\n",
            "Epoch 00012: val_accuracy improved from 0.01092 to 0.02468, saving model to best_model_lstm.h5\n",
            "Epoch 13/50\n",
            "33/33 [==============================] - 21s 641ms/step - loss: 0.9647 - accuracy: 0.6884 - val_loss: 6.9846 - val_accuracy: 0.0308\n",
            "\n",
            "Epoch 00013: val_accuracy improved from 0.02468 to 0.03085, saving model to best_model_lstm.h5\n",
            "Epoch 14/50\n",
            "33/33 [==============================] - 21s 642ms/step - loss: 0.8718 - accuracy: 0.7202 - val_loss: 6.8515 - val_accuracy: 0.0389\n",
            "\n",
            "Epoch 00014: val_accuracy improved from 0.03085 to 0.03892, saving model to best_model_lstm.h5\n",
            "Epoch 15/50\n",
            "33/33 [==============================] - 21s 638ms/step - loss: 0.7865 - accuracy: 0.7560 - val_loss: 7.6939 - val_accuracy: 0.0327\n",
            "\n",
            "Epoch 00015: val_accuracy did not improve from 0.03892\n",
            "Epoch 16/50\n",
            "33/33 [==============================] - 21s 635ms/step - loss: 0.7163 - accuracy: 0.7755 - val_loss: 6.9268 - val_accuracy: 0.0422\n",
            "\n",
            "Epoch 00016: val_accuracy improved from 0.03892 to 0.04224, saving model to best_model_lstm.h5\n",
            "Epoch 17/50\n",
            "33/33 [==============================] - 21s 638ms/step - loss: 0.6304 - accuracy: 0.8065 - val_loss: 7.5800 - val_accuracy: 0.0456\n",
            "\n",
            "Epoch 00017: val_accuracy improved from 0.04224 to 0.04556, saving model to best_model_lstm.h5\n",
            "Epoch 18/50\n",
            "33/33 [==============================] - 21s 637ms/step - loss: 0.5553 - accuracy: 0.8331 - val_loss: 7.5881 - val_accuracy: 0.0513\n",
            "\n",
            "Epoch 00018: val_accuracy improved from 0.04556 to 0.05126, saving model to best_model_lstm.h5\n",
            "Epoch 19/50\n",
            "33/33 [==============================] - 21s 635ms/step - loss: 0.5030 - accuracy: 0.8515 - val_loss: 8.2006 - val_accuracy: 0.0399\n",
            "\n",
            "Epoch 00019: val_accuracy did not improve from 0.05126\n",
            "Epoch 20/50\n",
            "33/33 [==============================] - 21s 637ms/step - loss: 0.4468 - accuracy: 0.8707 - val_loss: 7.9222 - val_accuracy: 0.0517\n",
            "\n",
            "Epoch 00020: val_accuracy improved from 0.05126 to 0.05173, saving model to best_model_lstm.h5\n",
            "Epoch 21/50\n",
            "33/33 [==============================] - 21s 641ms/step - loss: 0.3792 - accuracy: 0.8964 - val_loss: 8.2037 - val_accuracy: 0.0422\n",
            "\n",
            "Epoch 00021: val_accuracy did not improve from 0.05173\n",
            "Epoch 22/50\n",
            "33/33 [==============================] - 21s 646ms/step - loss: 0.3673 - accuracy: 0.8992 - val_loss: 8.3728 - val_accuracy: 0.0323\n",
            "\n",
            "Epoch 00022: val_accuracy did not improve from 0.05173\n",
            "Epoch 23/50\n",
            "33/33 [==============================] - 21s 641ms/step - loss: 0.3077 - accuracy: 0.9195 - val_loss: 8.5548 - val_accuracy: 0.0351\n",
            "\n",
            "Epoch 00023: val_accuracy did not improve from 0.05173\n",
            "Epoch 24/50\n",
            "33/33 [==============================] - 21s 637ms/step - loss: 0.3051 - accuracy: 0.9157 - val_loss: 8.5625 - val_accuracy: 0.0323\n",
            "\n",
            "Epoch 00024: val_accuracy did not improve from 0.05173\n",
            "Epoch 25/50\n",
            "33/33 [==============================] - 21s 649ms/step - loss: 0.2751 - accuracy: 0.9243 - val_loss: 8.8839 - val_accuracy: 0.0361\n",
            "\n",
            "Epoch 00025: val_accuracy did not improve from 0.05173\n",
            "Epoch 26/50\n",
            "33/33 [==============================] - 21s 643ms/step - loss: 0.2304 - accuracy: 0.9396 - val_loss: 9.1761 - val_accuracy: 0.0361\n",
            "\n",
            "Epoch 00026: val_accuracy did not improve from 0.05173\n",
            "Epoch 27/50\n",
            "33/33 [==============================] - 21s 645ms/step - loss: 0.1982 - accuracy: 0.9497 - val_loss: 8.8479 - val_accuracy: 0.0456\n",
            "\n",
            "Epoch 00027: val_accuracy did not improve from 0.05173\n",
            "Epoch 28/50\n",
            "33/33 [==============================] - 21s 634ms/step - loss: 0.1699 - accuracy: 0.9594 - val_loss: 9.3369 - val_accuracy: 0.0327\n",
            "\n",
            "Epoch 00028: val_accuracy did not improve from 0.05173\n",
            "Epoch 29/50\n",
            "33/33 [==============================] - 21s 641ms/step - loss: 0.1645 - accuracy: 0.9600 - val_loss: 9.3783 - val_accuracy: 0.0432\n",
            "\n",
            "Epoch 00029: val_accuracy did not improve from 0.05173\n",
            "Epoch 30/50\n",
            "33/33 [==============================] - 21s 645ms/step - loss: 0.1461 - accuracy: 0.9662 - val_loss: 9.2943 - val_accuracy: 0.0441\n",
            "\n",
            "Epoch 00030: val_accuracy did not improve from 0.05173\n",
            "Epoch 31/50\n",
            "33/33 [==============================] - 21s 646ms/step - loss: 0.1183 - accuracy: 0.9733 - val_loss: 9.9390 - val_accuracy: 0.0432\n",
            "\n",
            "Epoch 00031: val_accuracy did not improve from 0.05173\n",
            "Epoch 32/50\n",
            "33/33 [==============================] - 21s 646ms/step - loss: 0.1393 - accuracy: 0.9655 - val_loss: 8.8526 - val_accuracy: 0.0465\n",
            "\n",
            "Epoch 00032: val_accuracy did not improve from 0.05173\n",
            "Epoch 33/50\n",
            "33/33 [==============================] - 21s 641ms/step - loss: 0.1313 - accuracy: 0.9685 - val_loss: 9.6353 - val_accuracy: 0.0337\n",
            "\n",
            "Epoch 00033: val_accuracy did not improve from 0.05173\n",
            "Epoch 34/50\n",
            "33/33 [==============================] - 21s 639ms/step - loss: 0.1154 - accuracy: 0.9733 - val_loss: 9.5340 - val_accuracy: 0.0346\n",
            "\n",
            "Epoch 00034: val_accuracy did not improve from 0.05173\n",
            "Epoch 35/50\n",
            "33/33 [==============================] - 21s 641ms/step - loss: 0.1212 - accuracy: 0.9699 - val_loss: 9.3698 - val_accuracy: 0.0389\n",
            "\n",
            "Epoch 00035: val_accuracy did not improve from 0.05173\n",
            "Epoch 36/50\n",
            "33/33 [==============================] - 21s 647ms/step - loss: 0.0845 - accuracy: 0.9821 - val_loss: 10.0284 - val_accuracy: 0.0441\n",
            "\n",
            "Epoch 00036: val_accuracy did not improve from 0.05173\n",
            "Epoch 37/50\n",
            "33/33 [==============================] - 21s 646ms/step - loss: 0.0717 - accuracy: 0.9841 - val_loss: 9.8972 - val_accuracy: 0.0370\n",
            "\n",
            "Epoch 00037: val_accuracy did not improve from 0.05173\n",
            "Epoch 38/50\n",
            "33/33 [==============================] - 21s 643ms/step - loss: 0.0732 - accuracy: 0.9828 - val_loss: 9.4914 - val_accuracy: 0.0475\n",
            "\n",
            "Epoch 00038: val_accuracy did not improve from 0.05173\n",
            "Epoch 39/50\n",
            "33/33 [==============================] - 21s 642ms/step - loss: 0.0812 - accuracy: 0.9811 - val_loss: 9.0359 - val_accuracy: 0.0389\n",
            "\n",
            "Epoch 00039: val_accuracy did not improve from 0.05173\n",
            "Epoch 40/50\n",
            "33/33 [==============================] - 21s 647ms/step - loss: 0.0777 - accuracy: 0.9828 - val_loss: 10.1715 - val_accuracy: 0.0252\n",
            "\n",
            "Epoch 00040: val_accuracy did not improve from 0.05173\n",
            "Epoch 41/50\n",
            "33/33 [==============================] - 21s 646ms/step - loss: 0.0585 - accuracy: 0.9867 - val_loss: 9.9536 - val_accuracy: 0.0337\n",
            "\n",
            "Epoch 00041: val_accuracy did not improve from 0.05173\n",
            "Epoch 42/50\n",
            "33/33 [==============================] - 21s 645ms/step - loss: 0.0659 - accuracy: 0.9849 - val_loss: 9.5033 - val_accuracy: 0.0522\n",
            "\n",
            "Epoch 00042: val_accuracy improved from 0.05173 to 0.05221, saving model to best_model_lstm.h5\n",
            "Epoch 43/50\n",
            "33/33 [==============================] - 21s 644ms/step - loss: 0.0990 - accuracy: 0.9745 - val_loss: 9.4853 - val_accuracy: 0.0451\n",
            "\n",
            "Epoch 00043: val_accuracy did not improve from 0.05221\n",
            "Epoch 44/50\n",
            "33/33 [==============================] - 21s 646ms/step - loss: 0.0650 - accuracy: 0.9850 - val_loss: 9.5272 - val_accuracy: 0.0517\n",
            "\n",
            "Epoch 00044: val_accuracy did not improve from 0.05221\n",
            "Epoch 45/50\n",
            "33/33 [==============================] - 21s 648ms/step - loss: 0.0562 - accuracy: 0.9884 - val_loss: 10.1792 - val_accuracy: 0.0261\n",
            "\n",
            "Epoch 00045: val_accuracy did not improve from 0.05221\n",
            "Epoch 46/50\n",
            "33/33 [==============================] - 21s 645ms/step - loss: 0.0649 - accuracy: 0.9847 - val_loss: 10.0796 - val_accuracy: 0.0308\n",
            "\n",
            "Epoch 00046: val_accuracy did not improve from 0.05221\n",
            "Epoch 47/50\n",
            "33/33 [==============================] - 21s 635ms/step - loss: 0.0574 - accuracy: 0.9882 - val_loss: 9.8508 - val_accuracy: 0.0451\n",
            "\n",
            "Epoch 00047: val_accuracy did not improve from 0.05221\n",
            "Epoch 48/50\n",
            "33/33 [==============================] - 21s 640ms/step - loss: 0.0392 - accuracy: 0.9916 - val_loss: 10.1473 - val_accuracy: 0.0527\n",
            "\n",
            "Epoch 00048: val_accuracy improved from 0.05221 to 0.05268, saving model to best_model_lstm.h5\n",
            "Epoch 49/50\n",
            "33/33 [==============================] - 21s 644ms/step - loss: 0.0344 - accuracy: 0.9923 - val_loss: 10.5929 - val_accuracy: 0.0380\n",
            "\n",
            "Epoch 00049: val_accuracy did not improve from 0.05268\n",
            "Epoch 50/50\n",
            "33/33 [==============================] - 21s 639ms/step - loss: 0.0293 - accuracy: 0.9935 - val_loss: 10.4969 - val_accuracy: 0.0446\n",
            "\n",
            "Epoch 00050: val_accuracy did not improve from 0.05268\n"
          ]
        }
      ]
    },
    {
      "cell_type": "code",
      "metadata": {
        "colab": {
          "base_uri": "https://localhost:8080/"
        },
        "id": "1e8qqWz_qCUu",
        "outputId": "78762257-fcbc-4812-deaa-c99a15293b51"
      },
      "source": [
        "upd_history_lstm = model_lstm.fit(upd_x_train, \n",
        "                              y_train, \n",
        "                              epochs=50,\n",
        "                              batch_size=256,\n",
        "                              validation_split=0.2,\n",
        "                              callbacks=[upd_checkpoint_callback_lstm])"
      ],
      "execution_count": null,
      "outputs": [
        {
          "output_type": "stream",
          "name": "stdout",
          "text": [
            "Epoch 1/50\n",
            "1/1 [==============================] - 0s 161ms/step - loss: 5.3266 - accuracy: 0.2000 - val_loss: 7.0694 - val_accuracy: 0.0000e+00\n",
            "\n",
            "Epoch 00001: val_accuracy improved from -inf to 0.00000, saving model to upd_best_model_lstm.h5\n",
            "Epoch 2/50\n",
            "1/1 [==============================] - 0s 139ms/step - loss: 2.7138 - accuracy: 0.6000 - val_loss: 4.3280 - val_accuracy: 0.0000e+00\n",
            "\n",
            "Epoch 00002: val_accuracy did not improve from 0.00000\n",
            "Epoch 3/50\n",
            "1/1 [==============================] - 0s 131ms/step - loss: 0.6184 - accuracy: 0.9000 - val_loss: 0.0371 - val_accuracy: 1.0000\n",
            "\n",
            "Epoch 00003: val_accuracy improved from 0.00000 to 1.00000, saving model to upd_best_model_lstm.h5\n",
            "Epoch 4/50\n",
            "1/1 [==============================] - 0s 141ms/step - loss: 0.4109 - accuracy: 0.9000 - val_loss: 3.0112e-04 - val_accuracy: 1.0000\n",
            "\n",
            "Epoch 00004: val_accuracy did not improve from 1.00000\n",
            "Epoch 5/50\n",
            "1/1 [==============================] - 0s 130ms/step - loss: 7.5707e-05 - accuracy: 1.0000 - val_loss: 4.6052e-05 - val_accuracy: 1.0000\n",
            "\n",
            "Epoch 00005: val_accuracy did not improve from 1.00000\n",
            "Epoch 6/50\n",
            "1/1 [==============================] - 0s 132ms/step - loss: 7.1525e-07 - accuracy: 1.0000 - val_loss: 1.2676e-05 - val_accuracy: 1.0000\n",
            "\n",
            "Epoch 00006: val_accuracy did not improve from 1.00000\n",
            "Epoch 7/50\n",
            "1/1 [==============================] - 0s 137ms/step - loss: 2.7418e-07 - accuracy: 1.0000 - val_loss: 4.8876e-06 - val_accuracy: 1.0000\n",
            "\n",
            "Epoch 00007: val_accuracy did not improve from 1.00000\n",
            "Epoch 8/50\n",
            "1/1 [==============================] - 0s 122ms/step - loss: 1.4305e-07 - accuracy: 1.0000 - val_loss: 2.3444e-06 - val_accuracy: 1.0000\n",
            "\n",
            "Epoch 00008: val_accuracy did not improve from 1.00000\n",
            "Epoch 9/50\n",
            "1/1 [==============================] - 0s 125ms/step - loss: 7.1526e-08 - accuracy: 1.0000 - val_loss: 1.3510e-06 - val_accuracy: 1.0000\n",
            "\n",
            "Epoch 00009: val_accuracy did not improve from 1.00000\n",
            "Epoch 10/50\n",
            "1/1 [==============================] - 0s 127ms/step - loss: 3.5763e-08 - accuracy: 1.0000 - val_loss: 8.3446e-07 - val_accuracy: 1.0000\n",
            "\n",
            "Epoch 00010: val_accuracy did not improve from 1.00000\n",
            "Epoch 11/50\n",
            "1/1 [==============================] - 0s 126ms/step - loss: 1.1921e-08 - accuracy: 1.0000 - val_loss: 5.9605e-07 - val_accuracy: 1.0000\n",
            "\n",
            "Epoch 00011: val_accuracy did not improve from 1.00000\n",
            "Epoch 12/50\n",
            "1/1 [==============================] - 0s 129ms/step - loss: 0.0000e+00 - accuracy: 1.0000 - val_loss: 4.7684e-07 - val_accuracy: 1.0000\n",
            "\n",
            "Epoch 00012: val_accuracy did not improve from 1.00000\n",
            "Epoch 13/50\n",
            "1/1 [==============================] - 0s 124ms/step - loss: 0.0000e+00 - accuracy: 1.0000 - val_loss: 3.5763e-07 - val_accuracy: 1.0000\n",
            "\n",
            "Epoch 00013: val_accuracy did not improve from 1.00000\n",
            "Epoch 14/50\n",
            "1/1 [==============================] - 0s 136ms/step - loss: 0.0000e+00 - accuracy: 1.0000 - val_loss: 3.1789e-07 - val_accuracy: 1.0000\n",
            "\n",
            "Epoch 00014: val_accuracy did not improve from 1.00000\n",
            "Epoch 15/50\n",
            "1/1 [==============================] - 0s 141ms/step - loss: 0.0000e+00 - accuracy: 1.0000 - val_loss: 2.3842e-07 - val_accuracy: 1.0000\n",
            "\n",
            "Epoch 00015: val_accuracy did not improve from 1.00000\n",
            "Epoch 16/50\n",
            "1/1 [==============================] - 0s 149ms/step - loss: 0.0000e+00 - accuracy: 1.0000 - val_loss: 2.3842e-07 - val_accuracy: 1.0000\n",
            "\n",
            "Epoch 00016: val_accuracy did not improve from 1.00000\n",
            "Epoch 17/50\n",
            "1/1 [==============================] - 0s 139ms/step - loss: 0.0000e+00 - accuracy: 1.0000 - val_loss: 1.9868e-07 - val_accuracy: 1.0000\n",
            "\n",
            "Epoch 00017: val_accuracy did not improve from 1.00000\n",
            "Epoch 18/50\n",
            "1/1 [==============================] - 0s 129ms/step - loss: 0.0000e+00 - accuracy: 1.0000 - val_loss: 1.9868e-07 - val_accuracy: 1.0000\n",
            "\n",
            "Epoch 00018: val_accuracy did not improve from 1.00000\n",
            "Epoch 19/50\n",
            "1/1 [==============================] - 0s 131ms/step - loss: 0.0000e+00 - accuracy: 1.0000 - val_loss: 1.9868e-07 - val_accuracy: 1.0000\n",
            "\n",
            "Epoch 00019: val_accuracy did not improve from 1.00000\n",
            "Epoch 20/50\n",
            "1/1 [==============================] - 0s 129ms/step - loss: 0.0000e+00 - accuracy: 1.0000 - val_loss: 1.9868e-07 - val_accuracy: 1.0000\n",
            "\n",
            "Epoch 00020: val_accuracy did not improve from 1.00000\n",
            "Epoch 21/50\n",
            "1/1 [==============================] - 0s 142ms/step - loss: 0.0000e+00 - accuracy: 1.0000 - val_loss: 1.9868e-07 - val_accuracy: 1.0000\n",
            "\n",
            "Epoch 00021: val_accuracy did not improve from 1.00000\n",
            "Epoch 22/50\n",
            "1/1 [==============================] - 0s 133ms/step - loss: 0.0000e+00 - accuracy: 1.0000 - val_loss: 1.5895e-07 - val_accuracy: 1.0000\n",
            "\n",
            "Epoch 00022: val_accuracy did not improve from 1.00000\n",
            "Epoch 23/50\n",
            "1/1 [==============================] - 0s 128ms/step - loss: 0.0000e+00 - accuracy: 1.0000 - val_loss: 1.5895e-07 - val_accuracy: 1.0000\n",
            "\n",
            "Epoch 00023: val_accuracy did not improve from 1.00000\n",
            "Epoch 24/50\n",
            "1/1 [==============================] - 0s 130ms/step - loss: 0.0000e+00 - accuracy: 1.0000 - val_loss: 1.9868e-07 - val_accuracy: 1.0000\n",
            "\n",
            "Epoch 00024: val_accuracy did not improve from 1.00000\n",
            "Epoch 25/50\n",
            "1/1 [==============================] - 0s 132ms/step - loss: 0.0000e+00 - accuracy: 1.0000 - val_loss: 1.9868e-07 - val_accuracy: 1.0000\n",
            "\n",
            "Epoch 00025: val_accuracy did not improve from 1.00000\n",
            "Epoch 26/50\n",
            "1/1 [==============================] - 0s 126ms/step - loss: 0.0000e+00 - accuracy: 1.0000 - val_loss: 1.9868e-07 - val_accuracy: 1.0000\n",
            "\n",
            "Epoch 00026: val_accuracy did not improve from 1.00000\n",
            "Epoch 27/50\n",
            "1/1 [==============================] - 0s 129ms/step - loss: 0.0000e+00 - accuracy: 1.0000 - val_loss: 1.9868e-07 - val_accuracy: 1.0000\n",
            "\n",
            "Epoch 00027: val_accuracy did not improve from 1.00000\n",
            "Epoch 28/50\n",
            "1/1 [==============================] - 0s 145ms/step - loss: 0.0000e+00 - accuracy: 1.0000 - val_loss: 1.9868e-07 - val_accuracy: 1.0000\n",
            "\n",
            "Epoch 00028: val_accuracy did not improve from 1.00000\n",
            "Epoch 29/50\n",
            "1/1 [==============================] - 0s 133ms/step - loss: 0.0000e+00 - accuracy: 1.0000 - val_loss: 1.1921e-07 - val_accuracy: 1.0000\n",
            "\n",
            "Epoch 00029: val_accuracy did not improve from 1.00000\n",
            "Epoch 30/50\n",
            "1/1 [==============================] - 0s 126ms/step - loss: 0.0000e+00 - accuracy: 1.0000 - val_loss: 1.1921e-07 - val_accuracy: 1.0000\n",
            "\n",
            "Epoch 00030: val_accuracy did not improve from 1.00000\n",
            "Epoch 31/50\n",
            "1/1 [==============================] - 0s 124ms/step - loss: 0.0000e+00 - accuracy: 1.0000 - val_loss: 1.1921e-07 - val_accuracy: 1.0000\n",
            "\n",
            "Epoch 00031: val_accuracy did not improve from 1.00000\n",
            "Epoch 32/50\n",
            "1/1 [==============================] - 0s 129ms/step - loss: 0.0000e+00 - accuracy: 1.0000 - val_loss: 1.1921e-07 - val_accuracy: 1.0000\n",
            "\n",
            "Epoch 00032: val_accuracy did not improve from 1.00000\n",
            "Epoch 33/50\n",
            "1/1 [==============================] - 0s 126ms/step - loss: 0.0000e+00 - accuracy: 1.0000 - val_loss: 1.1921e-07 - val_accuracy: 1.0000\n",
            "\n",
            "Epoch 00033: val_accuracy did not improve from 1.00000\n",
            "Epoch 34/50\n",
            "1/1 [==============================] - 0s 122ms/step - loss: 0.0000e+00 - accuracy: 1.0000 - val_loss: 1.1921e-07 - val_accuracy: 1.0000\n",
            "\n",
            "Epoch 00034: val_accuracy did not improve from 1.00000\n",
            "Epoch 35/50\n",
            "1/1 [==============================] - 0s 128ms/step - loss: 0.0000e+00 - accuracy: 1.0000 - val_loss: 1.1921e-07 - val_accuracy: 1.0000\n",
            "\n",
            "Epoch 00035: val_accuracy did not improve from 1.00000\n",
            "Epoch 36/50\n",
            "1/1 [==============================] - 0s 135ms/step - loss: 0.0000e+00 - accuracy: 1.0000 - val_loss: 1.1921e-07 - val_accuracy: 1.0000\n",
            "\n",
            "Epoch 00036: val_accuracy did not improve from 1.00000\n",
            "Epoch 37/50\n",
            "1/1 [==============================] - 0s 146ms/step - loss: 0.0000e+00 - accuracy: 1.0000 - val_loss: 1.1921e-07 - val_accuracy: 1.0000\n",
            "\n",
            "Epoch 00037: val_accuracy did not improve from 1.00000\n",
            "Epoch 38/50\n",
            "1/1 [==============================] - 0s 139ms/step - loss: 0.0000e+00 - accuracy: 1.0000 - val_loss: 1.1921e-07 - val_accuracy: 1.0000\n",
            "\n",
            "Epoch 00038: val_accuracy did not improve from 1.00000\n",
            "Epoch 39/50\n",
            "1/1 [==============================] - 0s 128ms/step - loss: 0.0000e+00 - accuracy: 1.0000 - val_loss: 1.1921e-07 - val_accuracy: 1.0000\n",
            "\n",
            "Epoch 00039: val_accuracy did not improve from 1.00000\n",
            "Epoch 40/50\n",
            "1/1 [==============================] - 0s 125ms/step - loss: 0.0000e+00 - accuracy: 1.0000 - val_loss: 1.1921e-07 - val_accuracy: 1.0000\n",
            "\n",
            "Epoch 00040: val_accuracy did not improve from 1.00000\n",
            "Epoch 41/50\n",
            "1/1 [==============================] - 0s 132ms/step - loss: 0.0000e+00 - accuracy: 1.0000 - val_loss: 1.1921e-07 - val_accuracy: 1.0000\n",
            "\n",
            "Epoch 00041: val_accuracy did not improve from 1.00000\n",
            "Epoch 42/50\n",
            "1/1 [==============================] - 0s 132ms/step - loss: 0.0000e+00 - accuracy: 1.0000 - val_loss: 1.1921e-07 - val_accuracy: 1.0000\n",
            "\n",
            "Epoch 00042: val_accuracy did not improve from 1.00000\n",
            "Epoch 43/50\n",
            "1/1 [==============================] - 0s 141ms/step - loss: 0.0000e+00 - accuracy: 1.0000 - val_loss: 1.1921e-07 - val_accuracy: 1.0000\n",
            "\n",
            "Epoch 00043: val_accuracy did not improve from 1.00000\n",
            "Epoch 44/50\n",
            "1/1 [==============================] - 0s 132ms/step - loss: 0.0000e+00 - accuracy: 1.0000 - val_loss: 1.1921e-07 - val_accuracy: 1.0000\n",
            "\n",
            "Epoch 00044: val_accuracy did not improve from 1.00000\n",
            "Epoch 45/50\n",
            "1/1 [==============================] - 0s 132ms/step - loss: 0.0000e+00 - accuracy: 1.0000 - val_loss: 1.1921e-07 - val_accuracy: 1.0000\n",
            "\n",
            "Epoch 00045: val_accuracy did not improve from 1.00000\n",
            "Epoch 46/50\n",
            "1/1 [==============================] - 0s 121ms/step - loss: 0.0000e+00 - accuracy: 1.0000 - val_loss: 1.1921e-07 - val_accuracy: 1.0000\n",
            "\n",
            "Epoch 00046: val_accuracy did not improve from 1.00000\n",
            "Epoch 47/50\n",
            "1/1 [==============================] - 0s 138ms/step - loss: 0.0000e+00 - accuracy: 1.0000 - val_loss: 1.1921e-07 - val_accuracy: 1.0000\n",
            "\n",
            "Epoch 00047: val_accuracy did not improve from 1.00000\n",
            "Epoch 48/50\n",
            "1/1 [==============================] - 0s 129ms/step - loss: 0.0000e+00 - accuracy: 1.0000 - val_loss: 1.1921e-07 - val_accuracy: 1.0000\n",
            "\n",
            "Epoch 00048: val_accuracy did not improve from 1.00000\n",
            "Epoch 49/50\n",
            "1/1 [==============================] - 0s 126ms/step - loss: 0.0000e+00 - accuracy: 1.0000 - val_loss: 1.1921e-07 - val_accuracy: 1.0000\n",
            "\n",
            "Epoch 00049: val_accuracy did not improve from 1.00000\n",
            "Epoch 50/50\n",
            "1/1 [==============================] - 0s 122ms/step - loss: 0.0000e+00 - accuracy: 1.0000 - val_loss: 1.1921e-07 - val_accuracy: 1.0000\n",
            "\n",
            "Epoch 00050: val_accuracy did not improve from 1.00000\n"
          ]
        }
      ]
    },
    {
      "cell_type": "code",
      "metadata": {
        "colab": {
          "base_uri": "https://localhost:8080/",
          "height": 279
        },
        "id": "dmJmU86YoX4s",
        "outputId": "a5e81f63-4886-4180-94ee-cb46131b9897"
      },
      "source": [
        "plt.plot(history_lstm.history['accuracy'], \n",
        "         label='train accuracy')\n",
        "plt.plot(history_lstm.history['val_accuracy'], \n",
        "         label='test accuracy')\n",
        "plt.plot(upd_history_lstm.history['accuracy'], \n",
        "         label='upd train accuracy')\n",
        "plt.plot(upd_history_lstm.history['val_accuracy'], \n",
        "         label='upd test accuracy')\n",
        "plt.xlabel('epoch')\n",
        "plt.ylabel('accuracy')\n",
        "plt.legend()\n",
        "plt.show()"
      ],
      "execution_count": null,
      "outputs": [
        {
          "output_type": "display_data",
          "data": {
            "image/png": "[encoded data removed]",
            "text/plain": [
              "<Figure size 432x288 with 1 Axes>"
            ]
          },
          "metadata": {
            "needs_background": "light"
          }
        }
      ]
    },
    {
      "cell_type": "code",
      "metadata": {
        "id": "KrcHveiHodga"
      },
      "source": [
        "model_gru = Sequential()\n",
        "model_gru.add(Embedding(num_words, 32, input_length=max_text_len))\n",
        "model_gru.add(GRU(169))\n",
        "model_gru.add(Dense(13, activation='softmax'))"
      ],
      "execution_count": null,
      "outputs": []
    },
    {
      "cell_type": "code",
      "metadata": {
        "id": "HO4-vG_Joh1p"
      },
      "source": [
        "model_gru.compile(optimizer='adam', \n",
        "              loss='categorical_crossentropy', \n",
        "              metrics=['accuracy'])"
      ],
      "execution_count": null,
      "outputs": []
    },
    {
      "cell_type": "code",
      "metadata": {
        "colab": {
          "base_uri": "https://localhost:8080/"
        },
        "id": "X1wOoKhJokmc",
        "outputId": "177e575b-d092-4610-96bc-faf3532e8113"
      },
      "source": [
        "model_gru.summary()"
      ],
      "execution_count": null,
      "outputs": [
        {
          "output_type": "stream",
          "name": "stdout",
          "text": [
            "Model: \"sequential_7\"\n",
            "_________________________________________________________________\n",
            "Layer (type)                 Output Shape              Param #   \n",
            "=================================================================\n",
            "embedding_7 (Embedding)      (None, 100, 32)           160000    \n",
            "_________________________________________________________________\n",
            "gru_2 (GRU)                  (None, 169)               102921    \n",
            "_________________________________________________________________\n",
            "dense_10 (Dense)             (None, 13)                2210      \n",
            "=================================================================\n",
            "Total params: 265,131\n",
            "Trainable params: 265,131\n",
            "Non-trainable params: 0\n",
            "_________________________________________________________________\n"
          ]
        }
      ]
    },
    {
      "cell_type": "code",
      "metadata": {
        "id": "x5JspntRonFX"
      },
      "source": [
        "model_gru_save_path = 'best_model_gru.h5'\n",
        "checkpoint_callback_gru = ModelCheckpoint(model_gru_save_path, \n",
        "                                      monitor='val_accuracy',\n",
        "                                      save_best_only=True,\n",
        "                                      verbose=1)"
      ],
      "execution_count": null,
      "outputs": []
    },
    {
      "cell_type": "code",
      "metadata": {
        "id": "E3oziK4EuggH"
      },
      "source": [
        "upd_model_gru_save_path = 'upd_best_model_gru.h5'\n",
        "upd_checkpoint_callback_gru = ModelCheckpoint(upd_model_gru_save_path, \n",
        "                                      monitor='val_accuracy',\n",
        "                                      save_best_only=True,\n",
        "                                      verbose=1)"
      ],
      "execution_count": null,
      "outputs": []
    },
    {
      "cell_type": "code",
      "metadata": {
        "colab": {
          "base_uri": "https://localhost:8080/"
        },
        "id": "MjwAEIBdu0R9",
        "outputId": "9db41fb4-29df-459f-9b86-293dcea7f984"
      },
      "source": [
        "upd_history_gru = model_gru.fit(upd_x_train, \n",
        "                              y_train, \n",
        "                              epochs=50,\n",
        "                              batch_size=256,\n",
        "                              validation_split=0.2,\n",
        "                              callbacks=[upd_checkpoint_callback_gru])"
      ],
      "execution_count": null,
      "outputs": [
        {
          "output_type": "stream",
          "name": "stdout",
          "text": [
            "Epoch 1/50\n",
            "1/1 [==============================] - 2s 2s/step - loss: 2.5650 - accuracy: 0.0000e+00 - val_loss: 2.5354 - val_accuracy: 0.6667\n",
            "\n",
            "Epoch 00001: val_accuracy improved from -inf to 0.66667, saving model to upd_best_model_gru.h5\n",
            "Epoch 2/50\n",
            "1/1 [==============================] - 0s 100ms/step - loss: 2.5337 - accuracy: 1.0000 - val_loss: 2.5094 - val_accuracy: 1.0000\n",
            "\n",
            "Epoch 00002: val_accuracy improved from 0.66667 to 1.00000, saving model to upd_best_model_gru.h5\n",
            "Epoch 3/50\n",
            "1/1 [==============================] - 0s 109ms/step - loss: 2.5004 - accuracy: 1.0000 - val_loss: 2.4788 - val_accuracy: 1.0000\n",
            "\n",
            "Epoch 00003: val_accuracy did not improve from 1.00000\n",
            "Epoch 4/50\n",
            "1/1 [==============================] - 0s 105ms/step - loss: 2.4624 - accuracy: 1.0000 - val_loss: 2.4418 - val_accuracy: 1.0000\n",
            "\n",
            "Epoch 00004: val_accuracy did not improve from 1.00000\n",
            "Epoch 5/50\n",
            "1/1 [==============================] - 0s 101ms/step - loss: 2.4176 - accuracy: 1.0000 - val_loss: 2.3959 - val_accuracy: 1.0000\n",
            "\n",
            "Epoch 00005: val_accuracy did not improve from 1.00000\n",
            "Epoch 6/50\n",
            "1/1 [==============================] - 0s 110ms/step - loss: 2.3632 - accuracy: 1.0000 - val_loss: 2.3380 - val_accuracy: 1.0000\n",
            "\n",
            "Epoch 00006: val_accuracy did not improve from 1.00000\n",
            "Epoch 7/50\n",
            "1/1 [==============================] - 0s 102ms/step - loss: 2.2957 - accuracy: 1.0000 - val_loss: 2.2632 - val_accuracy: 1.0000\n",
            "\n",
            "Epoch 00007: val_accuracy did not improve from 1.00000\n",
            "Epoch 8/50\n",
            "1/1 [==============================] - 0s 129ms/step - loss: 2.2100 - accuracy: 1.0000 - val_loss: 2.1640 - val_accuracy: 1.0000\n",
            "\n",
            "Epoch 00008: val_accuracy did not improve from 1.00000\n",
            "Epoch 9/50\n",
            "1/1 [==============================] - 0s 123ms/step - loss: 2.0982 - accuracy: 1.0000 - val_loss: 2.0274 - val_accuracy: 1.0000\n",
            "\n",
            "Epoch 00009: val_accuracy did not improve from 1.00000\n",
            "Epoch 10/50\n",
            "1/1 [==============================] - 0s 129ms/step - loss: 1.9473 - accuracy: 1.0000 - val_loss: 1.8299 - val_accuracy: 1.0000\n",
            "\n",
            "Epoch 00010: val_accuracy did not improve from 1.00000\n",
            "Epoch 11/50\n",
            "1/1 [==============================] - 0s 119ms/step - loss: 1.7338 - accuracy: 1.0000 - val_loss: 1.5228 - val_accuracy: 1.0000\n",
            "\n",
            "Epoch 00011: val_accuracy did not improve from 1.00000\n",
            "Epoch 12/50\n",
            "1/1 [==============================] - 0s 122ms/step - loss: 1.4115 - accuracy: 1.0000 - val_loss: 0.9888 - val_accuracy: 1.0000\n",
            "\n",
            "Epoch 00012: val_accuracy did not improve from 1.00000\n",
            "Epoch 13/50\n",
            "1/1 [==============================] - 0s 108ms/step - loss: 0.8776 - accuracy: 1.0000 - val_loss: 0.0989 - val_accuracy: 1.0000\n",
            "\n",
            "Epoch 00013: val_accuracy did not improve from 1.00000\n",
            "Epoch 14/50\n",
            "1/1 [==============================] - 0s 112ms/step - loss: 0.0749 - accuracy: 1.0000 - val_loss: 1.3156e-04 - val_accuracy: 1.0000\n",
            "\n",
            "Epoch 00014: val_accuracy did not improve from 1.00000\n",
            "Epoch 15/50\n",
            "1/1 [==============================] - 0s 106ms/step - loss: 1.1523e-04 - accuracy: 1.0000 - val_loss: 1.4146e-05 - val_accuracy: 1.0000\n",
            "\n",
            "Epoch 00015: val_accuracy did not improve from 1.00000\n",
            "Epoch 16/50\n",
            "1/1 [==============================] - 0s 106ms/step - loss: 1.2910e-05 - accuracy: 1.0000 - val_loss: 3.8147e-06 - val_accuracy: 1.0000\n",
            "\n",
            "Epoch 00016: val_accuracy did not improve from 1.00000\n",
            "Epoch 17/50\n",
            "1/1 [==============================] - 0s 116ms/step - loss: 3.5644e-06 - accuracy: 1.0000 - val_loss: 1.5497e-06 - val_accuracy: 1.0000\n",
            "\n",
            "Epoch 00017: val_accuracy did not improve from 1.00000\n",
            "Epoch 18/50\n",
            "1/1 [==============================] - 0s 112ms/step - loss: 1.4305e-06 - accuracy: 1.0000 - val_loss: 8.3446e-07 - val_accuracy: 1.0000\n",
            "\n",
            "Epoch 00018: val_accuracy did not improve from 1.00000\n",
            "Epoch 19/50\n",
            "1/1 [==============================] - 0s 102ms/step - loss: 7.1526e-07 - accuracy: 1.0000 - val_loss: 5.9605e-07 - val_accuracy: 1.0000\n",
            "\n",
            "Epoch 00019: val_accuracy did not improve from 1.00000\n",
            "Epoch 20/50\n",
            "1/1 [==============================] - 0s 112ms/step - loss: 5.9605e-07 - accuracy: 1.0000 - val_loss: 2.3842e-07 - val_accuracy: 1.0000\n",
            "\n",
            "Epoch 00020: val_accuracy did not improve from 1.00000\n",
            "Epoch 21/50\n",
            "1/1 [==============================] - 0s 117ms/step - loss: 2.3842e-07 - accuracy: 1.0000 - val_loss: 1.1921e-07 - val_accuracy: 1.0000\n",
            "\n",
            "Epoch 00021: val_accuracy did not improve from 1.00000\n",
            "Epoch 22/50\n",
            "1/1 [==============================] - 0s 112ms/step - loss: 1.1921e-07 - accuracy: 1.0000 - val_loss: 1.1921e-07 - val_accuracy: 1.0000\n",
            "\n",
            "Epoch 00022: val_accuracy did not improve from 1.00000\n",
            "Epoch 23/50\n",
            "1/1 [==============================] - 0s 121ms/step - loss: 1.1921e-07 - accuracy: 1.0000 - val_loss: 1.1921e-07 - val_accuracy: 1.0000\n",
            "\n",
            "Epoch 00023: val_accuracy did not improve from 1.00000\n",
            "Epoch 24/50\n",
            "1/1 [==============================] - 0s 105ms/step - loss: 1.1921e-07 - accuracy: 1.0000 - val_loss: 1.1921e-07 - val_accuracy: 1.0000\n",
            "\n",
            "Epoch 00024: val_accuracy did not improve from 1.00000\n",
            "Epoch 25/50\n",
            "1/1 [==============================] - 0s 110ms/step - loss: 1.1921e-07 - accuracy: 1.0000 - val_loss: 1.1921e-07 - val_accuracy: 1.0000\n",
            "\n",
            "Epoch 00025: val_accuracy did not improve from 1.00000\n",
            "Epoch 26/50\n",
            "1/1 [==============================] - 0s 118ms/step - loss: 1.1921e-07 - accuracy: 1.0000 - val_loss: 1.1921e-07 - val_accuracy: 1.0000\n",
            "\n",
            "Epoch 00026: val_accuracy did not improve from 1.00000\n",
            "Epoch 27/50\n",
            "1/1 [==============================] - 0s 102ms/step - loss: 1.1921e-07 - accuracy: 1.0000 - val_loss: 0.0000e+00 - val_accuracy: 1.0000\n",
            "\n",
            "Epoch 00027: val_accuracy did not improve from 1.00000\n",
            "Epoch 28/50\n",
            "1/1 [==============================] - 0s 113ms/step - loss: 0.0000e+00 - accuracy: 1.0000 - val_loss: 0.0000e+00 - val_accuracy: 1.0000\n",
            "\n",
            "Epoch 00028: val_accuracy did not improve from 1.00000\n",
            "Epoch 29/50\n",
            "1/1 [==============================] - 0s 103ms/step - loss: 0.0000e+00 - accuracy: 1.0000 - val_loss: 0.0000e+00 - val_accuracy: 1.0000\n",
            "\n",
            "Epoch 00029: val_accuracy did not improve from 1.00000\n",
            "Epoch 30/50\n",
            "1/1 [==============================] - 0s 114ms/step - loss: 0.0000e+00 - accuracy: 1.0000 - val_loss: 0.0000e+00 - val_accuracy: 1.0000\n",
            "\n",
            "Epoch 00030: val_accuracy did not improve from 1.00000\n",
            "Epoch 31/50\n",
            "1/1 [==============================] - 0s 106ms/step - loss: 0.0000e+00 - accuracy: 1.0000 - val_loss: 0.0000e+00 - val_accuracy: 1.0000\n",
            "\n",
            "Epoch 00031: val_accuracy did not improve from 1.00000\n",
            "Epoch 32/50\n",
            "1/1 [==============================] - 0s 102ms/step - loss: 0.0000e+00 - accuracy: 1.0000 - val_loss: 0.0000e+00 - val_accuracy: 1.0000\n",
            "\n",
            "Epoch 00032: val_accuracy did not improve from 1.00000\n",
            "Epoch 33/50\n",
            "1/1 [==============================] - 0s 109ms/step - loss: 0.0000e+00 - accuracy: 1.0000 - val_loss: 0.0000e+00 - val_accuracy: 1.0000\n",
            "\n",
            "Epoch 00033: val_accuracy did not improve from 1.00000\n",
            "Epoch 34/50\n",
            "1/1 [==============================] - 0s 110ms/step - loss: 0.0000e+00 - accuracy: 1.0000 - val_loss: 0.0000e+00 - val_accuracy: 1.0000\n",
            "\n",
            "Epoch 00034: val_accuracy did not improve from 1.00000\n",
            "Epoch 35/50\n",
            "1/1 [==============================] - 0s 108ms/step - loss: 0.0000e+00 - accuracy: 1.0000 - val_loss: 0.0000e+00 - val_accuracy: 1.0000\n",
            "\n",
            "Epoch 00035: val_accuracy did not improve from 1.00000\n",
            "Epoch 36/50\n",
            "1/1 [==============================] - 0s 117ms/step - loss: 0.0000e+00 - accuracy: 1.0000 - val_loss: 0.0000e+00 - val_accuracy: 1.0000\n",
            "\n",
            "Epoch 00036: val_accuracy did not improve from 1.00000\n",
            "Epoch 37/50\n",
            "1/1 [==============================] - 0s 107ms/step - loss: 0.0000e+00 - accuracy: 1.0000 - val_loss: 0.0000e+00 - val_accuracy: 1.0000\n",
            "\n",
            "Epoch 00037: val_accuracy did not improve from 1.00000\n",
            "Epoch 38/50\n",
            "1/1 [==============================] - 0s 105ms/step - loss: 0.0000e+00 - accuracy: 1.0000 - val_loss: 0.0000e+00 - val_accuracy: 1.0000\n",
            "\n",
            "Epoch 00038: val_accuracy did not improve from 1.00000\n",
            "Epoch 39/50\n",
            "1/1 [==============================] - 0s 112ms/step - loss: 0.0000e+00 - accuracy: 1.0000 - val_loss: 0.0000e+00 - val_accuracy: 1.0000\n",
            "\n",
            "Epoch 00039: val_accuracy did not improve from 1.00000\n",
            "Epoch 40/50\n",
            "1/1 [==============================] - 0s 108ms/step - loss: 0.0000e+00 - accuracy: 1.0000 - val_loss: 0.0000e+00 - val_accuracy: 1.0000\n",
            "\n",
            "Epoch 00040: val_accuracy did not improve from 1.00000\n",
            "Epoch 41/50\n",
            "1/1 [==============================] - 0s 103ms/step - loss: 0.0000e+00 - accuracy: 1.0000 - val_loss: 0.0000e+00 - val_accuracy: 1.0000\n",
            "\n",
            "Epoch 00041: val_accuracy did not improve from 1.00000\n",
            "Epoch 42/50\n",
            "1/1 [==============================] - 0s 107ms/step - loss: 0.0000e+00 - accuracy: 1.0000 - val_loss: 0.0000e+00 - val_accuracy: 1.0000\n",
            "\n",
            "Epoch 00042: val_accuracy did not improve from 1.00000\n",
            "Epoch 43/50\n",
            "1/1 [==============================] - 0s 107ms/step - loss: 0.0000e+00 - accuracy: 1.0000 - val_loss: 0.0000e+00 - val_accuracy: 1.0000\n",
            "\n",
            "Epoch 00043: val_accuracy did not improve from 1.00000\n",
            "Epoch 44/50\n",
            "1/1 [==============================] - 0s 108ms/step - loss: 0.0000e+00 - accuracy: 1.0000 - val_loss: 0.0000e+00 - val_accuracy: 1.0000\n",
            "\n",
            "Epoch 00044: val_accuracy did not improve from 1.00000\n",
            "Epoch 45/50\n",
            "1/1 [==============================] - 0s 113ms/step - loss: 0.0000e+00 - accuracy: 1.0000 - val_loss: 0.0000e+00 - val_accuracy: 1.0000\n",
            "\n",
            "Epoch 00045: val_accuracy did not improve from 1.00000\n",
            "Epoch 46/50\n",
            "1/1 [==============================] - 0s 106ms/step - loss: 0.0000e+00 - accuracy: 1.0000 - val_loss: 0.0000e+00 - val_accuracy: 1.0000\n",
            "\n",
            "Epoch 00046: val_accuracy did not improve from 1.00000\n",
            "Epoch 47/50\n",
            "1/1 [==============================] - 0s 110ms/step - loss: 0.0000e+00 - accuracy: 1.0000 - val_loss: 0.0000e+00 - val_accuracy: 1.0000\n",
            "\n",
            "Epoch 00047: val_accuracy did not improve from 1.00000\n",
            "Epoch 48/50\n",
            "1/1 [==============================] - 0s 110ms/step - loss: 0.0000e+00 - accuracy: 1.0000 - val_loss: 0.0000e+00 - val_accuracy: 1.0000\n",
            "\n",
            "Epoch 00048: val_accuracy did not improve from 1.00000\n",
            "Epoch 49/50\n",
            "1/1 [==============================] - 0s 109ms/step - loss: 0.0000e+00 - accuracy: 1.0000 - val_loss: 0.0000e+00 - val_accuracy: 1.0000\n",
            "\n",
            "Epoch 00049: val_accuracy did not improve from 1.00000\n",
            "Epoch 50/50\n",
            "1/1 [==============================] - 0s 103ms/step - loss: 0.0000e+00 - accuracy: 1.0000 - val_loss: 0.0000e+00 - val_accuracy: 1.0000\n",
            "\n",
            "Epoch 00050: val_accuracy did not improve from 1.00000\n"
          ]
        }
      ]
    },
    {
      "cell_type": "code",
      "metadata": {
        "colab": {
          "base_uri": "https://localhost:8080/"
        },
        "id": "OseyChqDoqNb",
        "outputId": "b8fe1fc1-4f9c-4879-da1d-1fd8a9df92cf"
      },
      "source": [
        "history_gru = model_gru.fit(x_train, \n",
        "                              y_train, \n",
        "                              epochs=50,\n",
        "                              batch_size=256,\n",
        "                              validation_split=0.2,\n",
        "                              callbacks=[checkpoint_callback_gru])"
      ],
      "execution_count": null,
      "outputs": [
        {
          "output_type": "stream",
          "name": "stdout",
          "text": [
            "Epoch 1/50\n",
            "33/33 [==============================] - 18s 536ms/step - loss: 8.6024 - accuracy: 0.0946 - val_loss: 2.7080 - val_accuracy: 0.0000e+00\n",
            "\n",
            "Epoch 00001: val_accuracy improved from -inf to 0.00000, saving model to best_model_gru.h5\n",
            "Epoch 2/50\n",
            "33/33 [==============================] - 17s 532ms/step - loss: 2.5087 - accuracy: 0.1174 - val_loss: 3.0066 - val_accuracy: 0.0000e+00\n",
            "\n",
            "Epoch 00002: val_accuracy did not improve from 0.00000\n",
            "Epoch 3/50\n",
            "33/33 [==============================] - 17s 529ms/step - loss: 2.4445 - accuracy: 0.1525 - val_loss: 3.6813 - val_accuracy: 0.0000e+00\n",
            "\n",
            "Epoch 00003: val_accuracy did not improve from 0.00000\n",
            "Epoch 4/50\n",
            "33/33 [==============================] - 17s 528ms/step - loss: 2.3767 - accuracy: 0.1850 - val_loss: 4.9166 - val_accuracy: 0.0000e+00\n",
            "\n",
            "Epoch 00004: val_accuracy did not improve from 0.00000\n",
            "Epoch 5/50\n",
            "33/33 [==============================] - 17s 527ms/step - loss: 2.3187 - accuracy: 0.2821 - val_loss: 5.9582 - val_accuracy: 0.0000e+00\n",
            "\n",
            "Epoch 00005: val_accuracy did not improve from 0.00000\n",
            "Epoch 6/50\n",
            "33/33 [==============================] - 17s 530ms/step - loss: 2.2407 - accuracy: 0.3333 - val_loss: 6.6836 - val_accuracy: 0.0000e+00\n",
            "\n",
            "Epoch 00006: val_accuracy did not improve from 0.00000\n",
            "Epoch 7/50\n",
            "33/33 [==============================] - 17s 529ms/step - loss: 2.1325 - accuracy: 0.3545 - val_loss: 7.0331 - val_accuracy: 0.0000e+00\n",
            "\n",
            "Epoch 00007: val_accuracy did not improve from 0.00000\n",
            "Epoch 8/50\n",
            "33/33 [==============================] - 18s 535ms/step - loss: 2.0032 - accuracy: 0.3766 - val_loss: 7.1069 - val_accuracy: 0.0000e+00\n",
            "\n",
            "Epoch 00008: val_accuracy did not improve from 0.00000\n",
            "Epoch 9/50\n",
            "33/33 [==============================] - 17s 531ms/step - loss: 1.8626 - accuracy: 0.4032 - val_loss: 7.3644 - val_accuracy: 0.0000e+00\n",
            "\n",
            "Epoch 00009: val_accuracy did not improve from 0.00000\n",
            "Epoch 10/50\n",
            "33/33 [==============================] - 17s 531ms/step - loss: 1.7190 - accuracy: 0.4311 - val_loss: 7.3336 - val_accuracy: 9.4922e-04\n",
            "\n",
            "Epoch 00010: val_accuracy improved from 0.00000 to 0.00095, saving model to best_model_gru.h5\n",
            "Epoch 11/50\n",
            "33/33 [==============================] - 17s 531ms/step - loss: 1.5698 - accuracy: 0.4847 - val_loss: 7.4089 - val_accuracy: 0.0033\n",
            "\n",
            "Epoch 00011: val_accuracy improved from 0.00095 to 0.00332, saving model to best_model_gru.h5\n",
            "Epoch 12/50\n",
            "33/33 [==============================] - 17s 526ms/step - loss: 1.4363 - accuracy: 0.5252 - val_loss: 7.4551 - val_accuracy: 0.0066\n",
            "\n",
            "Epoch 00012: val_accuracy improved from 0.00332 to 0.00664, saving model to best_model_gru.h5\n",
            "Epoch 13/50\n",
            "33/33 [==============================] - 17s 529ms/step - loss: 1.3230 - accuracy: 0.5595 - val_loss: 6.8090 - val_accuracy: 0.0138\n",
            "\n",
            "Epoch 00013: val_accuracy improved from 0.00664 to 0.01376, saving model to best_model_gru.h5\n",
            "Epoch 14/50\n",
            "33/33 [==============================] - 17s 528ms/step - loss: 1.2111 - accuracy: 0.6006 - val_loss: 7.3957 - val_accuracy: 0.0152\n",
            "\n",
            "Epoch 00014: val_accuracy improved from 0.01376 to 0.01519, saving model to best_model_gru.h5\n",
            "Epoch 15/50\n",
            "33/33 [==============================] - 17s 530ms/step - loss: 1.1191 - accuracy: 0.6311 - val_loss: 7.2446 - val_accuracy: 0.0190\n",
            "\n",
            "Epoch 00015: val_accuracy improved from 0.01519 to 0.01898, saving model to best_model_gru.h5\n",
            "Epoch 16/50\n",
            "33/33 [==============================] - 17s 528ms/step - loss: 1.0282 - accuracy: 0.6607 - val_loss: 7.5892 - val_accuracy: 0.0185\n",
            "\n",
            "Epoch 00016: val_accuracy did not improve from 0.01898\n",
            "Epoch 17/50\n",
            "33/33 [==============================] - 17s 528ms/step - loss: 0.9374 - accuracy: 0.6918 - val_loss: 7.9698 - val_accuracy: 0.0166\n",
            "\n",
            "Epoch 00017: val_accuracy did not improve from 0.01898\n",
            "Epoch 18/50\n",
            "33/33 [==============================] - 17s 530ms/step - loss: 0.8665 - accuracy: 0.7236 - val_loss: 7.8904 - val_accuracy: 0.0166\n",
            "\n",
            "Epoch 00018: val_accuracy did not improve from 0.01898\n",
            "Epoch 19/50\n",
            "33/33 [==============================] - 17s 527ms/step - loss: 0.7846 - accuracy: 0.7509 - val_loss: 8.1945 - val_accuracy: 0.0209\n",
            "\n",
            "Epoch 00019: val_accuracy improved from 0.01898 to 0.02088, saving model to best_model_gru.h5\n",
            "Epoch 20/50\n",
            "33/33 [==============================] - 17s 531ms/step - loss: 0.7371 - accuracy: 0.7687 - val_loss: 8.1187 - val_accuracy: 0.0218\n",
            "\n",
            "Epoch 00020: val_accuracy improved from 0.02088 to 0.02183, saving model to best_model_gru.h5\n",
            "Epoch 21/50\n",
            "33/33 [==============================] - 17s 528ms/step - loss: 0.6716 - accuracy: 0.7905 - val_loss: 8.3302 - val_accuracy: 0.0247\n",
            "\n",
            "Epoch 00021: val_accuracy improved from 0.02183 to 0.02468, saving model to best_model_gru.h5\n",
            "Epoch 22/50\n",
            "33/33 [==============================] - 17s 528ms/step - loss: 0.6104 - accuracy: 0.8114 - val_loss: 8.8463 - val_accuracy: 0.0190\n",
            "\n",
            "Epoch 00022: val_accuracy did not improve from 0.02468\n",
            "Epoch 23/50\n",
            "33/33 [==============================] - 18s 532ms/step - loss: 0.5532 - accuracy: 0.8347 - val_loss: 8.5430 - val_accuracy: 0.0256\n",
            "\n",
            "Epoch 00023: val_accuracy improved from 0.02468 to 0.02563, saving model to best_model_gru.h5\n",
            "Epoch 24/50\n",
            "33/33 [==============================] - 17s 531ms/step - loss: 0.5090 - accuracy: 0.8476 - val_loss: 9.0247 - val_accuracy: 0.0209\n",
            "\n",
            "Epoch 00024: val_accuracy did not improve from 0.02563\n",
            "Epoch 25/50\n",
            "33/33 [==============================] - 18s 532ms/step - loss: 0.4771 - accuracy: 0.8614 - val_loss: 9.1889 - val_accuracy: 0.0242\n",
            "\n",
            "Epoch 00025: val_accuracy did not improve from 0.02563\n",
            "Epoch 26/50\n",
            "33/33 [==============================] - 17s 530ms/step - loss: 0.4235 - accuracy: 0.8794 - val_loss: 9.1235 - val_accuracy: 0.0299\n",
            "\n",
            "Epoch 00026: val_accuracy improved from 0.02563 to 0.02990, saving model to best_model_gru.h5\n",
            "Epoch 27/50\n",
            "33/33 [==============================] - 18s 533ms/step - loss: 0.3755 - accuracy: 0.8990 - val_loss: 9.3690 - val_accuracy: 0.0299\n",
            "\n",
            "Epoch 00027: val_accuracy did not improve from 0.02990\n",
            "Epoch 28/50\n",
            "33/33 [==============================] - 18s 532ms/step - loss: 0.3376 - accuracy: 0.9090 - val_loss: 9.4553 - val_accuracy: 0.0323\n",
            "\n",
            "Epoch 00028: val_accuracy improved from 0.02990 to 0.03227, saving model to best_model_gru.h5\n",
            "Epoch 29/50\n",
            "33/33 [==============================] - 18s 531ms/step - loss: 0.3299 - accuracy: 0.9115 - val_loss: 9.4495 - val_accuracy: 0.0342\n",
            "\n",
            "Epoch 00029: val_accuracy improved from 0.03227 to 0.03417, saving model to best_model_gru.h5\n",
            "Epoch 30/50\n",
            "33/33 [==============================] - 17s 530ms/step - loss: 0.3016 - accuracy: 0.9223 - val_loss: 9.6842 - val_accuracy: 0.0323\n",
            "\n",
            "Epoch 00030: val_accuracy did not improve from 0.03417\n",
            "Epoch 31/50\n",
            "33/33 [==============================] - 17s 531ms/step - loss: 0.2805 - accuracy: 0.9258 - val_loss: 9.7849 - val_accuracy: 0.0304\n",
            "\n",
            "Epoch 00031: val_accuracy did not improve from 0.03417\n",
            "Epoch 32/50\n",
            "33/33 [==============================] - 18s 536ms/step - loss: 0.2419 - accuracy: 0.9435 - val_loss: 9.8273 - val_accuracy: 0.0332\n",
            "\n",
            "Epoch 00032: val_accuracy did not improve from 0.03417\n",
            "Epoch 33/50\n",
            "33/33 [==============================] - 17s 530ms/step - loss: 0.2278 - accuracy: 0.9453 - val_loss: 9.8052 - val_accuracy: 0.0356\n",
            "\n",
            "Epoch 00033: val_accuracy improved from 0.03417 to 0.03560, saving model to best_model_gru.h5\n",
            "Epoch 34/50\n",
            "33/33 [==============================] - 18s 536ms/step - loss: 0.2044 - accuracy: 0.9518 - val_loss: 10.0965 - val_accuracy: 0.0342\n",
            "\n",
            "Epoch 00034: val_accuracy did not improve from 0.03560\n",
            "Epoch 35/50\n",
            "33/33 [==============================] - 18s 535ms/step - loss: 0.2046 - accuracy: 0.9501 - val_loss: 10.0477 - val_accuracy: 0.0294\n",
            "\n",
            "Epoch 00035: val_accuracy did not improve from 0.03560\n",
            "Epoch 36/50\n",
            "33/33 [==============================] - 18s 533ms/step - loss: 0.1638 - accuracy: 0.9657 - val_loss: 10.3241 - val_accuracy: 0.0323\n",
            "\n",
            "Epoch 00036: val_accuracy did not improve from 0.03560\n",
            "Epoch 37/50\n",
            "33/33 [==============================] - 18s 533ms/step - loss: 0.1527 - accuracy: 0.9683 - val_loss: 10.4604 - val_accuracy: 0.0327\n",
            "\n",
            "Epoch 00037: val_accuracy did not improve from 0.03560\n",
            "Epoch 38/50\n",
            "33/33 [==============================] - 18s 534ms/step - loss: 0.1284 - accuracy: 0.9764 - val_loss: 10.5397 - val_accuracy: 0.0356\n",
            "\n",
            "Epoch 00038: val_accuracy did not improve from 0.03560\n",
            "Epoch 39/50\n",
            "33/33 [==============================] - 18s 536ms/step - loss: 0.1127 - accuracy: 0.9805 - val_loss: 10.8336 - val_accuracy: 0.0323\n",
            "\n",
            "Epoch 00039: val_accuracy did not improve from 0.03560\n",
            "Epoch 40/50\n",
            "33/33 [==============================] - 18s 538ms/step - loss: 0.1045 - accuracy: 0.9814 - val_loss: 10.9043 - val_accuracy: 0.0380\n",
            "\n",
            "Epoch 00040: val_accuracy improved from 0.03560 to 0.03797, saving model to best_model_gru.h5\n",
            "Epoch 41/50\n",
            "33/33 [==============================] - 18s 537ms/step - loss: 0.1052 - accuracy: 0.9799 - val_loss: 11.0179 - val_accuracy: 0.0365\n",
            "\n",
            "Epoch 00041: val_accuracy did not improve from 0.03797\n",
            "Epoch 42/50\n",
            "33/33 [==============================] - 18s 539ms/step - loss: 0.0915 - accuracy: 0.9839 - val_loss: 11.0112 - val_accuracy: 0.0356\n",
            "\n",
            "Epoch 00042: val_accuracy did not improve from 0.03797\n",
            "Epoch 43/50\n",
            "33/33 [==============================] - 18s 535ms/step - loss: 0.0758 - accuracy: 0.9879 - val_loss: 11.3069 - val_accuracy: 0.0342\n",
            "\n",
            "Epoch 00043: val_accuracy did not improve from 0.03797\n",
            "Epoch 44/50\n",
            "33/33 [==============================] - 18s 534ms/step - loss: 0.0710 - accuracy: 0.9891 - val_loss: 11.4346 - val_accuracy: 0.0304\n",
            "\n",
            "Epoch 00044: val_accuracy did not improve from 0.03797\n",
            "Epoch 45/50\n",
            "33/33 [==============================] - 17s 529ms/step - loss: 0.0702 - accuracy: 0.9891 - val_loss: 11.4072 - val_accuracy: 0.0403\n",
            "\n",
            "Epoch 00045: val_accuracy improved from 0.03797 to 0.04034, saving model to best_model_gru.h5\n",
            "Epoch 46/50\n",
            "33/33 [==============================] - 18s 536ms/step - loss: 0.0717 - accuracy: 0.9874 - val_loss: 11.4401 - val_accuracy: 0.0327\n",
            "\n",
            "Epoch 00046: val_accuracy did not improve from 0.04034\n",
            "Epoch 47/50\n",
            "33/33 [==============================] - 18s 540ms/step - loss: 0.0796 - accuracy: 0.9841 - val_loss: 11.5924 - val_accuracy: 0.0304\n",
            "\n",
            "Epoch 00047: val_accuracy did not improve from 0.04034\n",
            "Epoch 48/50\n",
            "33/33 [==============================] - 18s 536ms/step - loss: 0.0750 - accuracy: 0.9861 - val_loss: 11.2543 - val_accuracy: 0.0422\n",
            "\n",
            "Epoch 00048: val_accuracy improved from 0.04034 to 0.04224, saving model to best_model_gru.h5\n",
            "Epoch 49/50\n",
            "33/33 [==============================] - 18s 534ms/step - loss: 0.0636 - accuracy: 0.9896 - val_loss: 11.8975 - val_accuracy: 0.0290\n",
            "\n",
            "Epoch 00049: val_accuracy did not improve from 0.04224\n",
            "Epoch 50/50\n",
            "33/33 [==============================] - 18s 534ms/step - loss: 0.0805 - accuracy: 0.9831 - val_loss: 11.4423 - val_accuracy: 0.0394\n",
            "\n",
            "Epoch 00050: val_accuracy did not improve from 0.04224\n"
          ]
        }
      ]
    },
    {
      "cell_type": "code",
      "metadata": {
        "colab": {
          "base_uri": "https://localhost:8080/",
          "height": 279
        },
        "id": "vFfVyZF8vGHw",
        "outputId": "5ed1c946-6fca-4bb7-9ee9-5e91589c6bbc"
      },
      "source": [
        "plt.plot(history_gru.history['accuracy'], \n",
        "         label='train accuracy')\n",
        "plt.plot(history_gru.history['val_accuracy'], \n",
        "         label='test accuracy')\n",
        "plt.plot(upd_history_gru.history['accuracy'], \n",
        "         label='upd train accuracy')\n",
        "plt.plot(upd_history_gru.history['val_accuracy'], \n",
        "         label='upd test accuracy')\n",
        "plt.xlabel('epoch')\n",
        "plt.ylabel('accuracy')\n",
        "plt.legend()\n",
        "plt.show()"
      ],
      "execution_count": null,
      "outputs": [
        {
          "output_type": "display_data",
          "data": {
            "image/png": "[encoded data removed]",
            "text/plain": [
              "<Figure size 432x288 with 1 Axes>"
            ]
          },
          "metadata": {
            "needs_background": "light"
          }
        }
      ]
    },
    {
      "cell_type": "code",
      "metadata": {
        "id": "hCo1BEBwx0s0"
      },
      "source": [
        "x_test = test['MESSAGE']"
      ],
      "execution_count": null,
      "outputs": []
    },
    {
      "cell_type": "code",
      "metadata": {
        "colab": {
          "base_uri": "https://localhost:8080/"
        },
        "id": "QFk-H0MryIVB",
        "outputId": "9e91cdc3-1382-4d92-b15d-c31a383e022b"
      },
      "source": [
        "upd_x_test = []\n",
        "i = 0\n",
        "\n",
        "while i<file_names_size:\n",
        "  upd_test = token_and_stem(x_test[i])\n",
        "  upd_x_test.append(upd_test)\n",
        "  i = i + 1"
      ],
      "execution_count": null,
      "outputs": [
        {
          "output_type": "stream",
          "name": "stdout",
          "text": [
            "<class 'list'>\n",
            "<class 'list'>\n",
            "<class 'list'>\n",
            "<class 'list'>\n",
            "<class 'list'>\n",
            "<class 'list'>\n",
            "<class 'list'>\n",
            "<class 'list'>\n",
            "<class 'list'>\n",
            "<class 'list'>\n",
            "<class 'list'>\n",
            "<class 'list'>\n",
            "<class 'list'>\n"
          ]
        }
      ]
    },
    {
      "cell_type": "code",
      "metadata": {
        "id": "3NrlczLsxuQJ"
      },
      "source": [
        "tokens = []\n",
        "test = []\n",
        "\n",
        "for x_tr in upd_x_test:\n",
        "  for token in x_tr:\n",
        "    if token not in stopwords:\n",
        "      tokens.append(token)\n",
        "  test.append(tokens)\n",
        "  tokens = []"
      ],
      "execution_count": null,
      "outputs": []
    },
    {
      "cell_type": "code",
      "metadata": {
        "id": "QhnKYxpWyebE"
      },
      "source": [
        "test_sequences = tokenizer.texts_to_sequences(x_test)\n",
        "upd_test_sequences = upd_tokenizer.texts_to_sequences(test)"
      ],
      "execution_count": null,
      "outputs": []
    },
    {
      "cell_type": "code",
      "metadata": {
        "id": "uZDiFEw6o0g6"
      },
      "source": [
        "x_test = pad_sequences(test_sequences, maxlen=max_text_len)\n",
        "upd_x_test = pad_sequences(upd_test_sequences, maxlen=max_text_len)"
      ],
      "execution_count": null,
      "outputs": []
    },
    {
      "cell_type": "code",
      "metadata": {
        "id": "OgfYdredo2nf"
      },
      "source": [
        "y_test = utils.to_categorical(test['THEME'],file_names_size)"
      ],
      "execution_count": null,
      "outputs": []
    },
    {
      "cell_type": "code",
      "metadata": {
        "colab": {
          "base_uri": "https://localhost:8080/"
        },
        "id": "bKjQOHYNo40j",
        "outputId": "613873ab-561f-4ca9-b104-9925cf516572"
      },
      "source": [
        "model_cnn.load_weights(model_cnn_save_path)\n",
        "model_cnn.evaluate(x_test, y_test, verbose=1)"
      ],
      "execution_count": null,
      "outputs": [
        {
          "output_type": "stream",
          "name": "stdout",
          "text": [
            "83/83 [==============================] - 1s 10ms/step - loss: 10.0252 - accuracy: 0.3033\n"
          ]
        },
        {
          "output_type": "execute_result",
          "data": {
            "text/plain": [
              "[10.02521800994873, 0.30326005816459656]"
            ]
          },
          "metadata": {},
          "execution_count": 152
        }
      ]
    },
    {
      "cell_type": "code",
      "metadata": {
        "colab": {
          "base_uri": "https://localhost:8080/",
          "height": 380
        },
        "id": "Kg0N5Pglo6wC",
        "outputId": "e74462d0-62cd-4c34-8586-bc4cf4dddb0f"
      },
      "source": [
        "model_cnn.load_weights(upd_model_cnn_save_path)\n",
        "model_cnn.evaluate(upd_x_test, y_test, verbose=1)"
      ],
      "execution_count": null,
      "outputs": [
        {
          "output_type": "error",
          "ename": "ValueError",
          "evalue": "ignored",
          "traceback": [
            "\u001b[0;31m---------------------------------------------------------------------------\u001b[0m",
            "\u001b[0;31mValueError\u001b[0m                                Traceback (most recent call last)",
            "\u001b[0;32m<ipython-input-153-cfc374e2bfe1>\u001b[0m in \u001b[0;36m<module>\u001b[0;34m()\u001b[0m\n\u001b[1;32m      1\u001b[0m \u001b[0mmodel_cnn\u001b[0m\u001b[0;34m.\u001b[0m\u001b[0mload_weights\u001b[0m\u001b[0;34m(\u001b[0m\u001b[0mupd_model_cnn_save_path\u001b[0m\u001b[0;34m)\u001b[0m\u001b[0;34m\u001b[0m\u001b[0;34m\u001b[0m\u001b[0m\n\u001b[0;32m----> 2\u001b[0;31m \u001b[0mmodel_cnn\u001b[0m\u001b[0;34m.\u001b[0m\u001b[0mevaluate\u001b[0m\u001b[0;34m(\u001b[0m\u001b[0mupd_x_test\u001b[0m\u001b[0;34m,\u001b[0m \u001b[0my_test\u001b[0m\u001b[0;34m,\u001b[0m \u001b[0mverbose\u001b[0m\u001b[0;34m=\u001b[0m\u001b[0;36m1\u001b[0m\u001b[0;34m)\u001b[0m\u001b[0;34m\u001b[0m\u001b[0;34m\u001b[0m\u001b[0m\n\u001b[0m",
            "\u001b[0;32m/usr/local/lib/python3.7/dist-packages/keras/engine/training.py\u001b[0m in \u001b[0;36mevaluate\u001b[0;34m(self, x, y, batch_size, verbose, sample_weight, steps, callbacks, max_queue_size, workers, use_multiprocessing, return_dict, **kwargs)\u001b[0m\n\u001b[1;32m   1476\u001b[0m             \u001b[0muse_multiprocessing\u001b[0m\u001b[0;34m=\u001b[0m\u001b[0muse_multiprocessing\u001b[0m\u001b[0;34m,\u001b[0m\u001b[0;34m\u001b[0m\u001b[0;34m\u001b[0m\u001b[0m\n\u001b[1;32m   1477\u001b[0m             \u001b[0mmodel\u001b[0m\u001b[0;34m=\u001b[0m\u001b[0mself\u001b[0m\u001b[0;34m,\u001b[0m\u001b[0;34m\u001b[0m\u001b[0;34m\u001b[0m\u001b[0m\n\u001b[0;32m-> 1478\u001b[0;31m             steps_per_execution=self._steps_per_execution)\n\u001b[0m\u001b[1;32m   1479\u001b[0m \u001b[0;34m\u001b[0m\u001b[0m\n\u001b[1;32m   1480\u001b[0m       \u001b[0;31m# Container that configures and calls `tf.keras.Callback`s.\u001b[0m\u001b[0;34m\u001b[0m\u001b[0;34m\u001b[0m\u001b[0;34m\u001b[0m\u001b[0m\n",
            "\u001b[0;32m/usr/local/lib/python3.7/dist-packages/keras/engine/data_adapter.py\u001b[0m in \u001b[0;36mget_data_handler\u001b[0;34m(*args, **kwargs)\u001b[0m\n\u001b[1;32m   1381\u001b[0m   \u001b[0;32mif\u001b[0m \u001b[0mgetattr\u001b[0m\u001b[0;34m(\u001b[0m\u001b[0mkwargs\u001b[0m\u001b[0;34m[\u001b[0m\u001b[0;34m\"model\"\u001b[0m\u001b[0;34m]\u001b[0m\u001b[0;34m,\u001b[0m \u001b[0;34m\"_cluster_coordinator\"\u001b[0m\u001b[0;34m,\u001b[0m \u001b[0;32mNone\u001b[0m\u001b[0;34m)\u001b[0m\u001b[0;34m:\u001b[0m\u001b[0;34m\u001b[0m\u001b[0;34m\u001b[0m\u001b[0m\n\u001b[1;32m   1382\u001b[0m     \u001b[0;32mreturn\u001b[0m \u001b[0m_ClusterCoordinatorDataHandler\u001b[0m\u001b[0;34m(\u001b[0m\u001b[0;34m*\u001b[0m\u001b[0margs\u001b[0m\u001b[0;34m,\u001b[0m \u001b[0;34m**\u001b[0m\u001b[0mkwargs\u001b[0m\u001b[0;34m)\u001b[0m\u001b[0;34m\u001b[0m\u001b[0;34m\u001b[0m\u001b[0m\n\u001b[0;32m-> 1383\u001b[0;31m   \u001b[0;32mreturn\u001b[0m \u001b[0mDataHandler\u001b[0m\u001b[0;34m(\u001b[0m\u001b[0;34m*\u001b[0m\u001b[0margs\u001b[0m\u001b[0;34m,\u001b[0m \u001b[0;34m**\u001b[0m\u001b[0mkwargs\u001b[0m\u001b[0;34m)\u001b[0m\u001b[0;34m\u001b[0m\u001b[0;34m\u001b[0m\u001b[0m\n\u001b[0m\u001b[1;32m   1384\u001b[0m \u001b[0;34m\u001b[0m\u001b[0m\n\u001b[1;32m   1385\u001b[0m \u001b[0;34m\u001b[0m\u001b[0m\n",
            "\u001b[0;32m/usr/local/lib/python3.7/dist-packages/keras/engine/data_adapter.py\u001b[0m in \u001b[0;36m__init__\u001b[0;34m(self, x, y, sample_weight, batch_size, steps_per_epoch, initial_epoch, epochs, shuffle, class_weight, max_queue_size, workers, use_multiprocessing, model, steps_per_execution, distribute)\u001b[0m\n\u001b[1;32m   1148\u001b[0m         \u001b[0muse_multiprocessing\u001b[0m\u001b[0;34m=\u001b[0m\u001b[0muse_multiprocessing\u001b[0m\u001b[0;34m,\u001b[0m\u001b[0;34m\u001b[0m\u001b[0;34m\u001b[0m\u001b[0m\n\u001b[1;32m   1149\u001b[0m         \u001b[0mdistribution_strategy\u001b[0m\u001b[0;34m=\u001b[0m\u001b[0mtf\u001b[0m\u001b[0;34m.\u001b[0m\u001b[0mdistribute\u001b[0m\u001b[0;34m.\u001b[0m\u001b[0mget_strategy\u001b[0m\u001b[0;34m(\u001b[0m\u001b[0;34m)\u001b[0m\u001b[0;34m,\u001b[0m\u001b[0;34m\u001b[0m\u001b[0;34m\u001b[0m\u001b[0m\n\u001b[0;32m-> 1150\u001b[0;31m         model=model)\n\u001b[0m\u001b[1;32m   1151\u001b[0m \u001b[0;34m\u001b[0m\u001b[0m\n\u001b[1;32m   1152\u001b[0m     \u001b[0mstrategy\u001b[0m \u001b[0;34m=\u001b[0m \u001b[0mtf\u001b[0m\u001b[0;34m.\u001b[0m\u001b[0mdistribute\u001b[0m\u001b[0;34m.\u001b[0m\u001b[0mget_strategy\u001b[0m\u001b[0;34m(\u001b[0m\u001b[0;34m)\u001b[0m\u001b[0;34m\u001b[0m\u001b[0;34m\u001b[0m\u001b[0m\n",
            "\u001b[0;32m/usr/local/lib/python3.7/dist-packages/keras/engine/data_adapter.py\u001b[0m in \u001b[0;36m__init__\u001b[0;34m(self, x, y, sample_weights, sample_weight_modes, batch_size, epochs, steps, shuffle, **kwargs)\u001b[0m\n\u001b[1;32m    239\u001b[0m \u001b[0;34m\u001b[0m\u001b[0m\n\u001b[1;32m    240\u001b[0m     \u001b[0mnum_samples\u001b[0m \u001b[0;34m=\u001b[0m \u001b[0mset\u001b[0m\u001b[0;34m(\u001b[0m\u001b[0mint\u001b[0m\u001b[0;34m(\u001b[0m\u001b[0mi\u001b[0m\u001b[0;34m.\u001b[0m\u001b[0mshape\u001b[0m\u001b[0;34m[\u001b[0m\u001b[0;36m0\u001b[0m\u001b[0;34m]\u001b[0m\u001b[0;34m)\u001b[0m \u001b[0;32mfor\u001b[0m \u001b[0mi\u001b[0m \u001b[0;32min\u001b[0m \u001b[0mtf\u001b[0m\u001b[0;34m.\u001b[0m\u001b[0mnest\u001b[0m\u001b[0;34m.\u001b[0m\u001b[0mflatten\u001b[0m\u001b[0;34m(\u001b[0m\u001b[0minputs\u001b[0m\u001b[0;34m)\u001b[0m\u001b[0;34m)\u001b[0m\u001b[0;34m.\u001b[0m\u001b[0mpop\u001b[0m\u001b[0;34m(\u001b[0m\u001b[0;34m)\u001b[0m\u001b[0;34m\u001b[0m\u001b[0;34m\u001b[0m\u001b[0m\n\u001b[0;32m--> 241\u001b[0;31m     \u001b[0m_check_data_cardinality\u001b[0m\u001b[0;34m(\u001b[0m\u001b[0minputs\u001b[0m\u001b[0;34m)\u001b[0m\u001b[0;34m\u001b[0m\u001b[0;34m\u001b[0m\u001b[0m\n\u001b[0m\u001b[1;32m    242\u001b[0m \u001b[0;34m\u001b[0m\u001b[0m\n\u001b[1;32m    243\u001b[0m     \u001b[0;31m# If batch_size is not passed but steps is, calculate from the input data.\u001b[0m\u001b[0;34m\u001b[0m\u001b[0;34m\u001b[0m\u001b[0;34m\u001b[0m\u001b[0m\n",
            "\u001b[0;32m/usr/local/lib/python3.7/dist-packages/keras/engine/data_adapter.py\u001b[0m in \u001b[0;36m_check_data_cardinality\u001b[0;34m(data)\u001b[0m\n\u001b[1;32m   1647\u001b[0m           label, \", \".join(str(i.shape[0]) for i in tf.nest.flatten(single_data)))\n\u001b[1;32m   1648\u001b[0m     \u001b[0mmsg\u001b[0m \u001b[0;34m+=\u001b[0m \u001b[0;34m\"Make sure all arrays contain the same number of samples.\"\u001b[0m\u001b[0;34m\u001b[0m\u001b[0;34m\u001b[0m\u001b[0m\n\u001b[0;32m-> 1649\u001b[0;31m     \u001b[0;32mraise\u001b[0m \u001b[0mValueError\u001b[0m\u001b[0;34m(\u001b[0m\u001b[0mmsg\u001b[0m\u001b[0;34m)\u001b[0m\u001b[0;34m\u001b[0m\u001b[0;34m\u001b[0m\u001b[0m\n\u001b[0m\u001b[1;32m   1650\u001b[0m \u001b[0;34m\u001b[0m\u001b[0m\n\u001b[1;32m   1651\u001b[0m \u001b[0;34m\u001b[0m\u001b[0m\n",
            "\u001b[0;31mValueError\u001b[0m: Data cardinality is ambiguous:\n  x sizes: 13\n  y sizes: 2638\nMake sure all arrays contain the same number of samples."
          ]
        }
      ]
    },
    {
      "cell_type": "code",
      "metadata": {
        "id": "KaD1D7Gwo9Na"
      },
      "source": [
        "model_lstm.load_weights(model_lstm_save_path)"
      ],
      "execution_count": null,
      "outputs": []
    },
    {
      "cell_type": "code",
      "metadata": {
        "colab": {
          "base_uri": "https://localhost:8080/"
        },
        "id": "wftu4Gz6o_uC",
        "outputId": "16bb4740-5e56-44b5-fbc7-b16a38b5c86f"
      },
      "source": [
        "model_lstm.evaluate(x_test, y_test, verbose=1)"
      ],
      "execution_count": null,
      "outputs": [
        {
          "output_type": "stream",
          "name": "stdout",
          "text": [
            "83/83 [==============================] - 4s 53ms/step - loss: 5.8177 - accuracy: 0.2820\n"
          ]
        },
        {
          "output_type": "execute_result",
          "data": {
            "text/plain": [
              "[5.817650318145752, 0.2820318341255188]"
            ]
          },
          "metadata": {},
          "execution_count": 186
        }
      ]
    },
    {
      "cell_type": "code",
      "metadata": {
        "id": "cWo03kTppDB6"
      },
      "source": [
        "model_gru.load_weights(model_gru_save_path)"
      ],
      "execution_count": null,
      "outputs": []
    },
    {
      "cell_type": "code",
      "metadata": {
        "colab": {
          "base_uri": "https://localhost:8080/"
        },
        "id": "Eld7uiOdpE43",
        "outputId": "e7dc8c95-9ccb-4f18-c9a6-d1b6228b6bbf"
      },
      "source": [
        "model_gru.evaluate(x_test, y_test, verbose=1)"
      ],
      "execution_count": null,
      "outputs": [
        {
          "output_type": "stream",
          "name": "stdout",
          "text": [
            "83/83 [==============================] - 2s 30ms/step - loss: 6.8351 - accuracy: 0.2005\n"
          ]
        },
        {
          "output_type": "execute_result",
          "data": {
            "text/plain": [
              "[6.835122108459473, 0.20053070783615112]"
            ]
          },
          "metadata": {},
          "execution_count": 183
        }
      ]
    },
    {
      "cell_type": "code",
      "metadata": {
        "id": "6eOT53VtpHDf"
      },
      "source": [
        " "
      ],
      "execution_count": null,
      "outputs": []
    }
  ]
}